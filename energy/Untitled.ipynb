{
 "cells": [
  {
   "cell_type": "code",
   "execution_count": 1,
   "id": "f3168f65",
   "metadata": {},
   "outputs": [],
   "source": [
    "import math\n",
    "import numpy as np\n",
    "import matplotlib\n",
    "import matplotlib.pyplot as plt\n",
    "\n",
    "import jax\n",
    "import jax.numpy as jnp\n",
    "import jax.scipy.stats as stats\n",
    "from jax import jacfwd, jacrev\n",
    "from jax import vmap, grad, jit, random\n",
    "from jax.tree_util import tree_map, tree_flatten, tree_unflatten, tree_leaves\n",
    "\n",
    "from flax import nnx\n",
    "import optax\n",
    "import pcax\n",
    "\n",
    "from tqdm.notebook import tqdm\n",
    "from tqdm.notebook import trange"
   ]
  },
  {
   "cell_type": "code",
   "execution_count": 2,
   "id": "c3f9edd8",
   "metadata": {},
   "outputs": [],
   "source": [
    "import os\n",
    "os.chdir('../methods')\n",
    "import lsci, supr, conf, uqno\n",
    "os.chdir('../energy')"
   ]
  },
  {
   "cell_type": "code",
   "execution_count": 3,
   "id": "3c43ba59",
   "metadata": {},
   "outputs": [],
   "source": [
    "def split_data(data, lag, horizon):\n",
    "    horizon = horizon-1\n",
    "    y_t = data[(lag + horizon):][:,None]\n",
    "    x_t = np.stack([data[(lag-i-1):(-(i+1+horizon))] for i in range(lag)], axis = 1)\n",
    "    return x_t.copy(), y_t.copy()"
   ]
  },
  {
   "cell_type": "code",
   "execution_count": 6,
   "id": "778c9d5c",
   "metadata": {},
   "outputs": [],
   "source": [
    "# https://www.eia.gov/electricity/gridmonitor/dashboard/electric_overview/US48/US48\n",
    "import pandas as pd\n",
    "energy = pd.read_excel('../data/tx_energy.xlsx')\n",
    "# energy = np.array(energy)"
   ]
  },
  {
   "cell_type": "code",
   "execution_count": 12,
   "id": "9d072a62",
   "metadata": {},
   "outputs": [],
   "source": [
    "energy_curves =  energy.groupby('Local date')['Demand'].apply(list).reset_index()"
   ]
  },
  {
   "cell_type": "code",
   "execution_count": 21,
   "id": "03d6cbe1",
   "metadata": {},
   "outputs": [],
   "source": [
    "energy_curves2 = np.array(energy_curves)"
   ]
  },
  {
   "cell_type": "code",
   "execution_count": 111,
   "id": "6901fff6",
   "metadata": {},
   "outputs": [],
   "source": [
    "dts = energy_curves2[:,0]\n",
    "fns = energy_curves2[:,1]"
   ]
  },
  {
   "cell_type": "code",
   "execution_count": 126,
   "id": "115e93df",
   "metadata": {},
   "outputs": [],
   "source": [
    "# transform\n",
    "fns = energy_curves2[:,1]\n",
    "fns = [np.array(f) for f in fns]\n",
    "fns = [jax.image.resize(f, 24, 'bicubic') for f in fns]\n",
    "fns = np.array(fns)\n",
    "\n",
    "# backfill missing\n",
    "missing = jnp.sum(jnp.isnan(fns), axis = 1) > 0\n",
    "for i in range(fns.shape[0]):\n",
    "    if missing[i]:\n",
    "        fns[i] = fns[i-1]\n",
    "\n",
    "# rescale\n",
    "fns = (fns - jnp.mean(fns, axis = 0)[None,:]) / jnp.std(fns, axis = 0)[None,:]\n",
    "fns = jnp.array(fns)[:,None,None,:]"
   ]
  },
  {
   "cell_type": "code",
   "execution_count": 127,
   "id": "dd310fca",
   "metadata": {},
   "outputs": [
    {
     "data": {
      "text/plain": [
       "(3522, 1, 1, 24)"
      ]
     },
     "execution_count": 127,
     "metadata": {},
     "output_type": "execute_result"
    }
   ],
   "source": [
    "fns.shape"
   ]
  },
  {
   "cell_type": "code",
   "execution_count": null,
   "id": "ebce79cd",
   "metadata": {},
   "outputs": [],
   "source": []
  }
 ],
 "metadata": {
  "kernelspec": {
   "display_name": "Python 3 (ipykernel)",
   "language": "python",
   "name": "python3"
  },
  "language_info": {
   "codemirror_mode": {
    "name": "ipython",
    "version": 3
   },
   "file_extension": ".py",
   "mimetype": "text/x-python",
   "name": "python",
   "nbconvert_exporter": "python",
   "pygments_lexer": "ipython3",
   "version": "3.10.8"
  }
 },
 "nbformat": 4,
 "nbformat_minor": 5
}
