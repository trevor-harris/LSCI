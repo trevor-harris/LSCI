{
 "cells": [
  {
   "cell_type": "code",
   "execution_count": 1,
   "id": "0b7ab1aa",
   "metadata": {},
   "outputs": [],
   "source": [
    "import math\n",
    "import numpy as np\n",
    "import matplotlib\n",
    "import matplotlib.pyplot as plt\n",
    "\n",
    "import jax\n",
    "import jax.numpy as jnp\n",
    "import jax.scipy.stats as stats\n",
    "from jax import jacfwd, jacrev\n",
    "from jax import vmap, grad, jit, random\n",
    "from jax.tree_util import tree_map, tree_flatten, tree_unflatten, tree_leaves\n",
    "\n",
    "from flax import nnx\n",
    "import optax\n",
    "import pcax\n",
    "\n",
    "from tqdm.notebook import tqdm\n",
    "from tqdm.notebook import trange\n",
    "\n",
    "import torch\n",
    "from torch.utils.data import DataLoader, TensorDataset"
   ]
  },
  {
   "cell_type": "code",
   "execution_count": 2,
   "id": "df37cd79",
   "metadata": {},
   "outputs": [],
   "source": [
    "import os\n",
    "os.chdir('../methods')\n",
    "import lsci, supr, conf, uqno\n",
    "os.chdir('../gpsims')"
   ]
  },
  {
   "cell_type": "code",
   "execution_count": 3,
   "id": "ae7a5a00",
   "metadata": {},
   "outputs": [],
   "source": [
    "def risk(lower, upper, residual):\n",
    "    return jnp.mean((residual > lower)*(residual < upper))"
   ]
  },
  {
   "cell_type": "code",
   "execution_count": 4,
   "id": "5a963899",
   "metadata": {},
   "outputs": [],
   "source": [
    "def split_data(data, lag, horizon):\n",
    "    horizon = horizon-1\n",
    "    y_t = data[(lag + horizon):][:,None]\n",
    "    x_t = np.stack([data[(lag-i-1):(-(i+1+horizon))] for i in range(lag)], axis = 1)\n",
    "    return x_t.copy(), y_t.copy()\n",
    "\n",
    "def torch2jax(x):\n",
    "    return jnp.array(x.numpy())"
   ]
  },
  {
   "cell_type": "code",
   "execution_count": 5,
   "id": "56048208",
   "metadata": {},
   "outputs": [],
   "source": [
    "class ANO_layer(nnx.Module):\n",
    "    def __init__(self, width, rngs: nnx.Rngs):\n",
    "        self.linear = nnx.Linear(width, width, rngs=rngs)\n",
    "        # self.bn = nnx.BatchNorm(dmid, rngs=rngs)\n",
    "        # self.dropout = nnx.Dropout(0.2, rngs=rngs)\n",
    "        self.linear_out = nnx.Linear(width, width, rngs=rngs)\n",
    "        \n",
    "    def __call__(self, x):\n",
    "        # channel mix\n",
    "        h = self.linear(x)\n",
    "\n",
    "        # spatial mix\n",
    "        g = jnp.mean(x, axis = (1, 2))[:,None,None,:]\n",
    "\n",
    "        # sum\n",
    "        x = h + g\n",
    "        x = nnx.relu(x)\n",
    "\n",
    "        return self.linear_out(x)\n",
    "\n",
    "class encode_layer(nnx.Module):\n",
    "    def __init__(self, in_dim, out_dim, rngs):\n",
    "        self.linear = nnx.Linear(in_dim, out_dim, rngs=rngs)\n",
    "\n",
    "    def __call__(self, x):\n",
    "        return self.linear(x)\n",
    "\n",
    "class DeepANO(nnx.Module):\n",
    "    def __init__(self, in_dim, width, out_dim, rngs):\n",
    "        self.encode_layer = encode_layer(in_dim, width, rngs)\n",
    "        self.ano1 = ANO_layer(width, rngs)\n",
    "        self.ano2 = ANO_layer(width, rngs)\n",
    "        self.ano3 = ANO_layer(width, rngs)\n",
    "        self.decode_layer = encode_layer(width, out_dim, rngs)\n",
    "\n",
    "    def __call__(self, x):\n",
    "        x = self.encode_layer(x)\n",
    "        x = self.ano1(x)\n",
    "        x = self.ano2(x)\n",
    "        x = self.ano3(x)\n",
    "        x = self.decode_layer(x)\n",
    "        return x"
   ]
  },
  {
   "cell_type": "code",
   "execution_count": 6,
   "id": "32a6c36e",
   "metadata": {},
   "outputs": [],
   "source": [
    "class ProbANO(nnx.Module):\n",
    "    def __init__(self, in_dim, width, out_dim, rngs):\n",
    "        self.mu_ano = DeepANO(in_dim, width, out_dim, rngs)\n",
    "        self.sd_ano = DeepANO(in_dim, width, out_dim, rngs)\n",
    "\n",
    "    def __call__(self, x):\n",
    "        mu = self.mu_ano(x)\n",
    "        log_sd = self.sd_ano(x)\n",
    "        return mu, jnp.exp(log_sd)"
   ]
  },
  {
   "cell_type": "code",
   "execution_count": 7,
   "id": "fbbae1ab",
   "metadata": {},
   "outputs": [],
   "source": [
    "class DropANO(nnx.Module):\n",
    "    def __init__(self, in_dim, width, out_dim, rngs):\n",
    "        self.encode_layer = encode_layer(in_dim, width, rngs)\n",
    "        self.ano1 = ANO_layer(width, rngs)\n",
    "        self.ano2 = ANO_layer(width, rngs)\n",
    "        self.ano3 = ANO_layer(width, rngs)\n",
    "        self.decode_layer = encode_layer(width, out_dim, rngs)\n",
    "        self.dropout = nnx.Dropout(0.1, rngs=rngs)\n",
    "\n",
    "    def __call__(self, x):\n",
    "        x = self.encode_layer(x)\n",
    "        x = self.ano1(x)\n",
    "        x = self.dropout(x)\n",
    "        x = self.ano2(x)\n",
    "        x = self.dropout(x)\n",
    "        x = self.ano3(x)\n",
    "        x = self.decode_layer(x)\n",
    "        return x"
   ]
  },
  {
   "cell_type": "code",
   "execution_count": 8,
   "id": "a9519a57",
   "metadata": {},
   "outputs": [],
   "source": [
    "def train_step(model, optimizer, x, y):\n",
    "    def loss_fn(model):\n",
    "        y_pred = model(x)\n",
    "        return jnp.mean((y_pred - y) ** 2)\n",
    "\n",
    "    loss, grads = nnx.value_and_grad(loss_fn)(model)\n",
    "    optimizer.update(grads)  # In place updates.\n",
    "\n",
    "    return loss\n",
    "\n",
    "def quant_step(model, optimizer, x, y):\n",
    "    def loss_fn(model):\n",
    "        quant = 1 - 0.1\n",
    "        y_pred = model(x)\n",
    "        y_abs = jnp.abs(y)\n",
    "        resid = y_abs - y_pred\n",
    "        loss = jnp.max(jnp.concat([quant * resid, -(1-quant) * resid], axis = 3), axis = 3)\n",
    "        return jnp.mean(loss)\n",
    "    \n",
    "    loss, grads = nnx.value_and_grad(loss_fn)(model)\n",
    "    optimizer.update(grads)  # in-place updates\n",
    "\n",
    "    return loss\n",
    "\n",
    "def prob_step(model, optimizer, x, y):\n",
    "    def loss_fn(model):\n",
    "        mu, sd = model(x)\n",
    "        var = sd**2\n",
    "        nll = jnp.mean((mu - y)**2 / (2*var) + 0.5 * jnp.log(var))\n",
    "        return nll\n",
    "\n",
    "    loss, grads = nnx.value_and_grad(loss_fn)(model)\n",
    "    optimizer.update(grads)  # In place updates.\n",
    "\n",
    "    return loss\n",
    "\n",
    "train_step = nnx.jit(train_step)\n",
    "quant_step = nnx.jit(quant_step)\n",
    "prob_step = nnx.jit(prob_step)"
   ]
  },
  {
   "cell_type": "code",
   "execution_count": null,
   "id": "9362a049",
   "metadata": {},
   "outputs": [],
   "source": [
    "def gp1d(n, p):\n",
    "    pass\n",
    "    "
   ]
  },
  {
   "cell_type": "code",
   "execution_count": null,
   "id": "93432df1",
   "metadata": {},
   "outputs": [],
   "source": []
  },
  {
   "cell_type": "code",
   "execution_count": null,
   "id": "2974b59e",
   "metadata": {},
   "outputs": [],
   "source": []
  },
  {
   "cell_type": "code",
   "execution_count": null,
   "id": "40e15948",
   "metadata": {},
   "outputs": [],
   "source": []
  },
  {
   "cell_type": "code",
   "execution_count": 357,
   "id": "b3247cf1",
   "metadata": {},
   "outputs": [],
   "source": [
    "def conv(x, k):\n",
    "    return jnp.convolve(x, k, mode = 'valid')\n",
    "conv = jit(vmap(conv, (0, None)))\n",
    "kernel = jnp.ones(5)/5\n",
    "\n",
    "rng0 = 100\n",
    "key1 = random.PRNGKey(rng0 + 1)\n",
    "key2 = random.PRNGKey(rng0 + 2)\n",
    "key3 = random.PRNGKey(rng0 + 3)\n",
    "\n",
    "t = jnp.linspace(0, 1, 108)\n",
    "s = jnp.linspace(-2*math.pi, 2*math.pi, 501)\n",
    "\n",
    "amp = jnp.sin(s)\n",
    "sd = jnp.sin(s)\n",
    "\n",
    "f = jnp.sin(2 * math.pi * t)\n",
    "f = 10 + amp[:,None] * f[None,:]\n",
    "\n",
    "xtrain = f + 0.25 * (1.15 + sd)[:,None] * random.normal(key1, f.shape)\n",
    "xtrain = conv(conv(xtrain.squeeze(), kernel), kernel)\n",
    "xtrain, ytrain = split_data(xtrain, 1, 1)\n",
    "xtrain = xtrain[:,:,:,None]\n",
    "ytrain = ytrain[:,:,:,None]\n",
    "\n",
    "xval = f + 0.25 * (1.15 + sd)[:,None] * random.normal(key2, f.shape)\n",
    "xval = conv(conv(xval.squeeze(), kernel), kernel)\n",
    "\n",
    "xval, yval = split_data(xval, 1, 1)\n",
    "xval = xval[:,:,:,None]\n",
    "yval = yval[:,:,:,None]\n",
    "\n",
    "xtest = f + 0.25 * (1.15 + sd)[:,None] * random.normal(key3, f.shape)\n",
    "xtest = conv(conv(xtest.squeeze(), kernel), kernel)\n",
    "\n",
    "xtest, ytest = split_data(xtest, 1, 1)\n",
    "xtest = xtest[:,:,:,None]\n",
    "ytest = ytest[:,:,:,None]\n",
    "\n",
    "sigma = 0.25 * (1.15 + sd)"
   ]
  },
  {
   "cell_type": "code",
   "execution_count": 358,
   "id": "12cb6628",
   "metadata": {},
   "outputs": [],
   "source": [
    "# def conv(x, k):\n",
    "#     return jnp.convolve(x, k, mode = 'same')\n",
    "# conv = jit(vmap(conv, (0, None)))\n",
    "# kernel = jnp.ones(5)/5\n",
    "\n",
    "# ### train\n",
    "# rng0 = 1\n",
    "# key1 = random.PRNGKey(rng0 + 1)\n",
    "\n",
    "# n, p = 1000, 50\n",
    "# beta = random.normal(key1, (5,))\n",
    "# bias = 1\n",
    "\n",
    "# rng0 = 2\n",
    "# rng = random.PRNGKey(rng0)\n",
    "# key1, key2, key3 = random.split(rng, 3)\n",
    "\n",
    "# xtrain = conv(conv(random.normal(key1, (n, p)), kernel), kernel)\n",
    "# sigma = jnp.std(xtrain, axis = 1)\n",
    "# sigma = sigma - jnp.mean(sigma) + 1\n",
    "# epsilon = sigma[:,None] * conv(conv(random.normal(key2, (n, p)), kernel), kernel)\n",
    "\n",
    "# ytrain = bias + conv(xtrain, beta) + epsilon\n",
    "# xtrain = xtrain[:,None,:,None]\n",
    "# ytrain = ytrain[:,None,:,None]\n",
    "\n",
    "# ### valid\n",
    "# rng0 += 1\n",
    "# rng = random.PRNGKey(rng0)\n",
    "# key1, key2, key3 = random.split(rng, 3)\n",
    "\n",
    "# xval = conv(conv(random.normal(key1, (n, p)), kernel), kernel)\n",
    "# sigma = jnp.std(xval, axis = 1)\n",
    "# sigma = sigma - jnp.mean(sigma) + 1\n",
    "# epsilon = sigma[:,None] * conv(conv(random.normal(key2, (n, p)), kernel), kernel)\n",
    "\n",
    "# yval = bias + conv(xval, beta) + epsilon\n",
    "# xval = xval[:,None,:,None]\n",
    "# yval = yval[:,None,:,None]\n",
    "\n",
    "\n",
    "# ### test\n",
    "# rng0 += 1\n",
    "# rng = random.PRNGKey(rng0)\n",
    "# key1, key2, key3 = random.split(rng, 3)\n",
    "\n",
    "# xtest = conv(conv(random.normal(key1, (n, p)), kernel), kernel)\n",
    "# sigma = jnp.std(xtest, axis = 1)\n",
    "# sigma = sigma - jnp.mean(sigma) + 1\n",
    "# epsilon = sigma[:,None] * conv(conv(random.normal(key2, (n, p)), kernel), kernel)\n",
    "\n",
    "# ytest = bias + conv(xtest, beta) + epsilon\n",
    "# xtest = xtest[:,None,:,None]\n",
    "# ytest = ytest[:,None,:,None]"
   ]
  },
  {
   "cell_type": "code",
   "execution_count": 359,
   "id": "a0fe84a6",
   "metadata": {},
   "outputs": [],
   "source": [
    "train_data = TensorDataset(torch.Tensor(xtrain), torch.Tensor(ytrain))\n",
    "train_loader = DataLoader(train_data, batch_size = 30, shuffle = True)"
   ]
  },
  {
   "cell_type": "code",
   "execution_count": 360,
   "id": "91c90588",
   "metadata": {},
   "outputs": [
    {
     "data": {
      "application/vnd.jupyter.widget-view+json": {
       "model_id": "f81eca340bc54ead9133bb5496a445fd",
       "version_major": 2,
       "version_minor": 0
      },
      "text/plain": [
       "  0%|          | 0/100 [00:00<?, ?it/s]"
      ]
     },
     "metadata": {},
     "output_type": "display_data"
    }
   ],
   "source": [
    "epochs = 100\n",
    "trace = []\n",
    "lag, lead = 1, 1\n",
    "\n",
    "base_model = DeepANO(lag, 50, lead, rngs=nnx.Rngs(0))\n",
    "optim = nnx.Optimizer(base_model, optax.adam(1e-3))\n",
    "rng = random.PRNGKey(0)\n",
    "\n",
    "for _ in trange(epochs):\n",
    "    for xt, yt in train_loader:\n",
    "        xt = torch2jax(xt)\n",
    "        yt = torch2jax(yt)\n",
    "        \n",
    "        loss = train_step(base_model, optim, xt, yt)\n",
    "        trace.append(loss)"
   ]
  },
  {
   "cell_type": "code",
   "execution_count": 361,
   "id": "55578a7a",
   "metadata": {},
   "outputs": [
    {
     "data": {
      "application/vnd.jupyter.widget-view+json": {
       "model_id": "00f74c2606bc4a698ca4c159f6dc77c2",
       "version_major": 2,
       "version_minor": 0
      },
      "text/plain": [
       "  0%|          | 0/100 [00:00<?, ?it/s]"
      ]
     },
     "metadata": {},
     "output_type": "display_data"
    }
   ],
   "source": [
    "drop_model = DropANO(lag, 50, lead, rngs=nnx.Rngs(0))\n",
    "optim = nnx.Optimizer(drop_model, optax.adam(1e-3))\n",
    "rng = random.PRNGKey(0)\n",
    "\n",
    "for _ in trange(epochs):\n",
    "    for xt, yt in train_loader:\n",
    "        xt = torch2jax(xt)\n",
    "        yt = torch2jax(yt)\n",
    "        \n",
    "        loss = train_step(drop_model, optim, xt, yt)\n",
    "        trace.append(loss)"
   ]
  },
  {
   "cell_type": "code",
   "execution_count": 362,
   "id": "7c388ab2",
   "metadata": {},
   "outputs": [
    {
     "data": {
      "application/vnd.jupyter.widget-view+json": {
       "model_id": "7d29a48f69644757a7ef076d76b69fb6",
       "version_major": 2,
       "version_minor": 0
      },
      "text/plain": [
       "  0%|          | 0/100 [00:00<?, ?it/s]"
      ]
     },
     "metadata": {},
     "output_type": "display_data"
    }
   ],
   "source": [
    "quant_model = DeepANO(lag, 50, lead, rngs=nnx.Rngs(0))\n",
    "optim = nnx.Optimizer(quant_model, optax.adam(1e-3))\n",
    "rng = random.PRNGKey(0)\n",
    "\n",
    "for _ in trange(epochs):\n",
    "    for xt, yt in train_loader:\n",
    "        xt = torch2jax(xt)\n",
    "        yt = torch2jax(yt)\n",
    "        \n",
    "        loss = quant_step(quant_model, optim, xt, yt)\n",
    "        trace.append(loss)"
   ]
  },
  {
   "cell_type": "code",
   "execution_count": 363,
   "id": "32bad1be",
   "metadata": {},
   "outputs": [
    {
     "data": {
      "application/vnd.jupyter.widget-view+json": {
       "model_id": "2778c73903814a73a31e8e16410e92c5",
       "version_major": 2,
       "version_minor": 0
      },
      "text/plain": [
       "  0%|          | 0/100 [00:00<?, ?it/s]"
      ]
     },
     "metadata": {},
     "output_type": "display_data"
    }
   ],
   "source": [
    "prob_model = ProbANO(lag, 50, lead, rngs=nnx.Rngs(0))\n",
    "optim = nnx.Optimizer(prob_model, optax.adam(1e-4))\n",
    "rng = random.PRNGKey(0)\n",
    "\n",
    "for _ in trange(epochs):\n",
    "    for xt, yt in train_loader:\n",
    "        xt = torch2jax(xt)\n",
    "        yt = torch2jax(yt)\n",
    "        \n",
    "        loss = prob_step(prob_model, optim, xt, yt)\n",
    "        trace.append(loss)"
   ]
  },
  {
   "cell_type": "code",
   "execution_count": 364,
   "id": "99e5391e",
   "metadata": {},
   "outputs": [],
   "source": [
    "yval_hat = base_model(xval)\n",
    "ytest_hat = base_model(xtest)\n",
    "\n",
    "yval_quant = quant_model(xval)\n",
    "ytest_quant = quant_model(xtest)\n",
    "\n",
    "yval_mu, yval_sd = prob_model(xval)\n",
    "ytest_mu, ytest_sd = prob_model(xtest)"
   ]
  },
  {
   "cell_type": "code",
   "execution_count": 365,
   "id": "4303cb02",
   "metadata": {},
   "outputs": [],
   "source": [
    "yval = yval.squeeze()\n",
    "ytest = ytest.squeeze()\n",
    "\n",
    "yval_hat = yval_hat.squeeze()\n",
    "ytest_hat = ytest_hat.squeeze()\n",
    "yval_quant = yval_quant.squeeze()\n",
    "ytest_quant = ytest_quant.squeeze()\n",
    "yval_mu = yval_mu.squeeze()\n",
    "yval_sd = yval_sd.squeeze()\n",
    "ytest_mu = ytest_mu.squeeze()\n",
    "ytest_sd = ytest_sd.squeeze()"
   ]
  },
  {
   "cell_type": "code",
   "execution_count": 366,
   "id": "64d332dd",
   "metadata": {},
   "outputs": [],
   "source": [
    "# yval = yval.reshape(yval.shape[0], -1)\n",
    "# mu_val = yval_hat.reshape(mu_val.shape[0], -1)\n",
    "# sd_val = sd_val.reshape(sd_val.shape[0], -1)"
   ]
  },
  {
   "cell_type": "code",
   "execution_count": 367,
   "id": "68162ee2",
   "metadata": {},
   "outputs": [],
   "source": [
    "def pdon(prob_model, xval, xtest, yval, alpha):\n",
    "    \n",
    "    nval = xval.shape[0]\n",
    "    ntest = xtest.shape[0]\n",
    "    \n",
    "    mu_val, sd_val = prob_model(xval)\n",
    "    mu_test, sd_test = prob_model(xtest)\n",
    "    \n",
    "    yval = yval.reshape(nval, -1)\n",
    "    mu_val = mu_val.reshape(nval, -1)\n",
    "    sd_val = sd_val.reshape(nval, -1)\n",
    "    mu_test = mu_test.reshape(ntest, -1)\n",
    "    sd_test = sd_test.reshape(ntest, -1)\n",
    "    \n",
    "    alpha_adj = jnp.ceil((1-alpha) * (nval + 1))/(nval)\n",
    "    \n",
    "    score = jnp.abs(yval - mu_val)/sd_val\n",
    "    q = jnp.quantile(score, alpha_adj, axis = 0)\n",
    "    \n",
    "    lower = -sd_test * q[None,]\n",
    "    upper = sd_test * q[None,]\n",
    "    return lower, upper"
   ]
  },
  {
   "cell_type": "code",
   "execution_count": 368,
   "id": "0aeba767",
   "metadata": {},
   "outputs": [],
   "source": [
    "def qdon(quant_model, xval, xtest, yval, alpha):\n",
    "    \n",
    "    nval = xval.shape[0]\n",
    "    ntest = xtest.shape[0]\n",
    "    \n",
    "    yval = yval.reshape(nval, -1)\n",
    "    \n",
    "    quant_val = quant_model(xval).reshape(nval, -1)\n",
    "    quant_test = quant_model(xtest).reshape(nval, -1)\n",
    "    \n",
    "    alpha_adj = jnp.ceil((1-alpha) * (nval + 1))/(nval)\n",
    "    \n",
    "    lower = -quant_val - yval\n",
    "    upper = yval - quant_val\n",
    "    score = jnp.max(jnp.stack([lower, upper], axis = 2), axis=2)\n",
    "    q = jnp.quantile(score, alpha_adj, axis = 0)\n",
    "    \n",
    "    lower = -quant_test - q[None,]\n",
    "    upper = quant_test + q[None,]\n",
    "    return lower, upper"
   ]
  },
  {
   "cell_type": "code",
   "execution_count": 369,
   "id": "259e13d4",
   "metadata": {},
   "outputs": [],
   "source": [
    "# pdon_lower, pdon_upper = pdon(prob_model, xval, xtest, yval, alpha)"
   ]
  },
  {
   "cell_type": "code",
   "execution_count": 370,
   "id": "494721c7",
   "metadata": {},
   "outputs": [],
   "source": [
    "def gaussian_score(res, mu, sd):\n",
    "    nll = jnp.mean((mu - res)**2 / (2*sd**2) + 0.5 * jnp.log(sd**2))\n",
    "    return jnp.exp(-nll)\n",
    "gaussian_score = vmap(gaussian_score, (0, None, None))\n",
    "\n",
    "def gaus_band(residuals, pca_state, alpha):\n",
    "    res_proj = pcax.transform(pca_state, residuals)\n",
    "    mu = jnp.mean(res_proj, axis = 0)\n",
    "    sd = jnp.std(res_proj, axis = 0)\n",
    "    dval_conf = gaussian_score(res_proj, mu, sd)\n",
    "    qval_conf = jnp.quantile(dval_conf, alpha)\n",
    "    conf_ens = pcax.recover(pca_state, res_proj[dval_conf > qval_conf])\n",
    "    conf_lower = jnp.min(conf_ens, axis = 0)\n",
    "    conf_upper = jnp.max(conf_ens, axis = 0)\n",
    "    return conf_lower, conf_upper"
   ]
  },
  {
   "cell_type": "code",
   "execution_count": 371,
   "id": "8b1b8627",
   "metadata": {},
   "outputs": [],
   "source": [
    "# plt.plot(pdon_lower[2])\n",
    "# plt.plot(pdon_upper[2])\n",
    "# plt.plot(rtest2[2])"
   ]
  },
  {
   "cell_type": "code",
   "execution_count": 372,
   "id": "1e22619d",
   "metadata": {},
   "outputs": [],
   "source": [
    "# nproj = 90\n",
    "# gamma1 = 0.2\n",
    "# alpha = 0.1\n",
    "# nval = xval.shape[0]\n",
    "# alpha1 = 1 - jnp.ceil((1-alpha) * (gamma1*nval + 1))/(gamma1*nval)"
   ]
  },
  {
   "cell_type": "code",
   "execution_count": 373,
   "id": "f42d3000",
   "metadata": {},
   "outputs": [],
   "source": [
    "# yval = yval.reshape(yval.shape[0], -1)\n",
    "# yval_hat = yval_hat.reshape(yval_hat.shape[0], -1)\n",
    "# # pca_state = lsci.phi_state(yval, yval_hat, nproj)"
   ]
  },
  {
   "cell_type": "code",
   "execution_count": 374,
   "id": "30306593",
   "metadata": {},
   "outputs": [
    {
     "data": {
      "text/plain": [
       "Array(0.07459346, dtype=float32)"
      ]
     },
     "execution_count": 374,
     "metadata": {},
     "output_type": "execute_result"
    }
   ],
   "source": [
    "# UQNO lambda estimate\n",
    "# yval_quant = yval_quant.reshape(yval_quant.shape[0], -1)\n",
    "# ytest_quant = ytest_quant.reshape(ytest_quant.shape[0], -1)\n",
    "\n",
    "alpha = 0.1\n",
    "delta = 0.1\n",
    "# m = 32*64\n",
    "m = 100\n",
    "tau = 1.1 * jnp.sqrt(-jnp.log(delta)/(2*m))\n",
    "sg = jnp.abs(yval - yval_hat) / yval_quant\n",
    "sg = jnp.quantile(sg, 1-alpha+tau, axis = (1))\n",
    "nval = sg.shape[0]\n",
    "\n",
    "adj_alpha = 1 - jnp.ceil((nval + 1) * (delta - jnp.exp(-2*m*tau**2)))/nval\n",
    "lam_uqno = jnp.quantile(sg, adj_alpha)\n",
    "lam_uqno"
   ]
  },
  {
   "cell_type": "code",
   "execution_count": null,
   "id": "6fc47864",
   "metadata": {},
   "outputs": [
    {
     "data": {
      "application/vnd.jupyter.widget-view+json": {
       "model_id": "3b4e2ea6c0f14a17bd6963e078a3c320",
       "version_major": 2,
       "version_minor": 0
      },
      "text/plain": [
       "  0%|          | 0/500 [00:00<?, ?it/s]"
      ]
     },
     "metadata": {},
     "output_type": "display_data"
    }
   ],
   "source": [
    "nproj = 100\n",
    "gamma1 = 0.1\n",
    "gamma2 = 0.05\n",
    "alpha = 0.1\n",
    "nval = xval.shape[0]\n",
    "alpha1 = 1 - jnp.ceil((1-alpha) * (gamma1*nval + 1))/(gamma1*nval)\n",
    "alpha2 = 1 - jnp.ceil((1-alpha) * (gamma2*nval + 1))/(gamma2*nval)\n",
    "\n",
    "drop_risk = []\n",
    "orcl_risk = []\n",
    "conf_risk = []\n",
    "gaus_risk = []\n",
    "supr_risk = []\n",
    "uqn1_risk = []\n",
    "pdon_risk = []\n",
    "qdon_risk = []\n",
    "lsc1_risk = []\n",
    "lsc2_risk = []\n",
    "\n",
    "drop_width = []\n",
    "orcl_width = []\n",
    "conf_width = []\n",
    "gaus_width = []\n",
    "supr_width = []\n",
    "uqn1_width = []\n",
    "pdon_width = []\n",
    "qdon_width = []\n",
    "lsc1_width = []\n",
    "lsc2_width = []\n",
    "\n",
    "pca_state = lsci.phi_state(yval, yval_hat, nproj)\n",
    "\n",
    "rval = (yval - yval_hat).squeeze()\n",
    "rtest = (ytest - ytest_hat).squeeze()\n",
    "rtest2 = (ytest - ytest_mu).squeeze()\n",
    "\n",
    "conf_lower, conf_upper = conf.conf_band(rval, pca_state, alpha)\n",
    "gaus_lower, gaus_upper = gaus_band(rval, pca_state, alpha)\n",
    "supr_lower, supr_upper = supr.supr_band(rval, alpha)\n",
    "uqn1_lower, uqn1_upper = uqno.uqno_band(ytest_quant, lam_uqno)\n",
    "pdon_lower, pdon_upper = pdon(prob_model, xval, xtest, yval, alpha)\n",
    "qdon_lower, qdon_upper = qdon(quant_model, xval, xtest, yval - yval_hat, alpha)\n",
    "\n",
    "for i in trange(0, ytest.shape[0]):\n",
    "    \n",
    "    # LSCI\n",
    "    lsc1_lower, lsc1_upper = lsci.lsci(rval, xval, xtest[i], pca_state, alpha1, gamma1, 2000)\n",
    "    lsc1_risk.append(risk(lsc1_lower, lsc1_upper, rtest[i]))\n",
    "    lsc1_width.append(jnp.median(lsc1_upper - lsc1_lower))\n",
    "    \n",
    "    # LSCI\n",
    "    lsc2_lower, lsc2_upper = lsci.lsci(rval, xval, xtest[i], pca_state, alpha2, gamma2, 2000)\n",
    "    lsc2_risk.append(risk(lsc2_lower, lsc2_upper, rtest[i]))\n",
    "    lsc2_width.append(jnp.median(lsc2_upper - lsc2_lower))\n",
    "\n",
    "    # Oracle\n",
    "    orcl_lower = -(jnp.abs(rtest[i]) + 1e-4)\n",
    "    orcl_upper = jnp.abs(rtest[i]) + 1e-4\n",
    "    orcl_risk.append(risk(orcl_lower, orcl_upper, rtest[i]))\n",
    "    orcl_width.append(jnp.median(orcl_upper - orcl_lower))\n",
    "    \n",
    "    # CONF \n",
    "    conf_risk.append(risk(conf_lower, conf_upper, rtest[i]))\n",
    "    conf_width.append(jnp.median(conf_upper - conf_lower))\n",
    "    \n",
    "    # GAUSS \n",
    "    gaus_risk.append(risk(gaus_lower, gaus_upper, rtest[i]))\n",
    "    gaus_width.append(jnp.median(gaus_upper - gaus_lower))\n",
    "    \n",
    "    # SUPR\n",
    "    supr_risk.append(risk(supr_lower, supr_upper, rtest[i]))\n",
    "    supr_width.append(jnp.median(supr_upper - supr_lower))\n",
    "    \n",
    "    # UQNO\n",
    "    uqn1_risk.append(risk(uqn1_lower[i], uqn1_upper[i], rtest[i]))\n",
    "    uqn1_width.append(jnp.median(uqn1_upper[i] - uqn1_lower[i]))\n",
    "    \n",
    "    # PDON\n",
    "    pdon_risk.append(risk(pdon_lower[i], pdon_upper[i], rtest2[i]))\n",
    "    pdon_width.append(jnp.median(pdon_upper[i] - pdon_lower[i]))\n",
    "    \n",
    "    # PDON\n",
    "    qdon_risk.append(risk(qdon_lower[i], qdon_upper[i], rtest[i]))\n",
    "    qdon_width.append(jnp.median(qdon_upper[i] - qdon_lower[i]))\n",
    "    \n",
    "    # DROPOUT\n",
    "    drop_model.train()\n",
    "    drop_set = jnp.stack([drop_model(xtest[i:(i+1)]).squeeze() for _ in range(500)])\n",
    "    drop_lower = jnp.quantile(drop_set, alpha/2, axis = 0)\n",
    "    drop_upper = jnp.quantile(drop_set, 1 - alpha/2, axis = 0)\n",
    "    drop_model.eval()\n",
    "    \n",
    "    drop_risk.append(risk(drop_lower, drop_upper, rtest[i]))\n",
    "    drop_width.append(jnp.median(drop_upper - drop_lower))\n",
    "\n",
    "\n",
    "orcl_risk = np.array(orcl_risk)\n",
    "drop_risk = np.array(drop_risk)\n",
    "conf_risk = np.array(conf_risk)\n",
    "gaus_risk = np.array(gaus_risk)\n",
    "supr_risk = np.array(supr_risk)\n",
    "uqn1_risk = np.array(uqn1_risk)\n",
    "lsc1_risk = np.array(lsc1_risk)\n",
    "lsc2_risk = np.array(lsc2_risk)\n",
    "pdon_risk = np.array(pdon_risk)\n",
    "qdon_risk = np.array(qdon_risk)\n",
    "\n",
    "orcl_width = np.array(orcl_width)\n",
    "drop_width = np.array(drop_width)\n",
    "conf_width = np.array(conf_width)\n",
    "gaus_width = np.array(gaus_width)\n",
    "supr_width = np.array(supr_width)\n",
    "uqn1_width = np.array(uqn1_width)\n",
    "lsc1_width = np.array(lsc1_width)\n",
    "lsc2_width = np.array(lsc2_width)\n",
    "pdon_width = np.array(pdon_width)\n",
    "qdon_width = np.array(qdon_width)"
   ]
  },
  {
   "cell_type": "code",
   "execution_count": null,
   "id": "979a5f1a",
   "metadata": {},
   "outputs": [],
   "source": [
    "# lsc1_risk = random.normal(rng, (500,))\n",
    "# lsc2_risk = random.normal(rng, (500,))\n",
    "# lsc1_width = random.normal(rng, (500,))\n",
    "# lsc2_width = random.normal(rng, (500,))\n",
    "\n",
    "# drop_risk = random.normal(rng, (50,))\n",
    "# drop_width = random.normal(rng, (50,))"
   ]
  },
  {
   "cell_type": "code",
   "execution_count": null,
   "id": "ec4e9ccc",
   "metadata": {},
   "outputs": [],
   "source": [
    "sigma.shape"
   ]
  },
  {
   "cell_type": "code",
   "execution_count": null,
   "id": "b00f84ad",
   "metadata": {},
   "outputs": [],
   "source": [
    "# noise_sd = np.std(rtest[0:100], axis = 1)\n",
    "# noise_sd = 0.25 * (1.15 + sd)\n",
    "# noise_sd = noise_sd[1:]\n",
    "noise_sd = sigma[1:]\n",
    "gamma = 0.99\n",
    "\n",
    "risk_control = np.mean(orcl_risk >= gamma), \\\n",
    "               np.mean(drop_risk >= gamma), \\\n",
    "               np.mean(conf_risk >= gamma), \\\n",
    "               np.mean(gaus_risk >= gamma), \\\n",
    "               np.mean(supr_risk >= gamma), \\\n",
    "               np.mean(uqn1_risk >= gamma), \\\n",
    "               np.mean(pdon_risk >= gamma), \\\n",
    "               np.mean(qdon_risk >= gamma), \\\n",
    "               np.mean(lsc1_risk >= gamma), \\\n",
    "               np.mean(lsc2_risk >= gamma)\n",
    "\n",
    "width = np.mean(orcl_width), \\\n",
    "        np.mean(drop_width), \\\n",
    "        np.mean(conf_width), \\\n",
    "        np.mean(gaus_width), \\\n",
    "        np.mean(supr_width), \\\n",
    "        np.mean(uqn1_width), \\\n",
    "        np.mean(pdon_width), \\\n",
    "        np.mean(qdon_width), \\\n",
    "        np.mean(lsc1_width), \\\n",
    "        np.mean(lsc2_width)\n",
    "\n",
    "risk_cor = -0, \\\n",
    "           np.corrcoef([noise_sd, drop_risk])[0,1], \\\n",
    "           np.corrcoef([noise_sd, conf_risk])[0,1], \\\n",
    "           np.corrcoef([noise_sd, gaus_risk])[0,1], \\\n",
    "           np.corrcoef([noise_sd, supr_risk])[0,1], \\\n",
    "           np.corrcoef([noise_sd, uqn1_risk])[0,1], \\\n",
    "           np.corrcoef([noise_sd, pdon_risk])[0,1], \\\n",
    "           np.corrcoef([noise_sd, qdon_risk])[0,1], \\\n",
    "           np.corrcoef([noise_sd, lsc1_risk])[0,1], \\\n",
    "           np.corrcoef([noise_sd, lsc2_risk])[0,1]\n",
    "\n",
    "width_cor = 1, \\\n",
    "            np.corrcoef([noise_sd, drop_width])[0,1], \\\n",
    "            0, \\\n",
    "            0, \\\n",
    "            0, \\\n",
    "            np.corrcoef([noise_sd, uqn1_width])[0,1], \\\n",
    "            np.corrcoef([noise_sd, pdon_width])[0,1], \\\n",
    "            np.corrcoef([noise_sd, qdon_width])[0,1], \\\n",
    "            np.corrcoef([noise_sd, lsc1_width])[0,1], \\\n",
    "            np.corrcoef([noise_sd, lsc2_width])[0,1]\n",
    "\n",
    "metrics = np.array([risk_control, risk_cor, width, width_cor]).T"
   ]
  },
  {
   "cell_type": "code",
   "execution_count": null,
   "id": "0799a3d8",
   "metadata": {},
   "outputs": [],
   "source": [
    "np.set_printoptions(suppress=True)\n",
    "print(np.round(metrics, 3))"
   ]
  },
  {
   "cell_type": "code",
   "execution_count": 398,
   "id": "057f74c2",
   "metadata": {},
   "outputs": [],
   "source": [
    "# noise_sd = np.std(rtest[0:100], axis = 1)\n",
    "noise_sd = 0.25 * (1.15 + sd)\n",
    "noise_sd = noise_sd[1:]\n",
    "gamma = 0.99\n",
    "\n",
    "risk_control = np.mean(orcl_risk >= gamma), \\\n",
    "               np.mean(drop_risk >= gamma), \\\n",
    "               np.mean(conf_risk >= gamma), \\\n",
    "               np.mean(gaus_risk >= gamma), \\\n",
    "               np.mean(supr_risk >= gamma), \\\n",
    "               np.mean(uqn1_risk >= gamma), \\\n",
    "               np.mean(pdon_risk >= gamma), \\\n",
    "               np.mean(qdon_risk >= gamma), \\\n",
    "               np.mean(lsc1_risk >= gamma), \\\n",
    "               np.mean(lsc2_risk >= gamma)\n",
    "\n",
    "width = np.mean(orcl_width), \\\n",
    "        np.mean(drop_width), \\\n",
    "        np.mean(conf_width), \\\n",
    "        np.mean(gaus_width), \\\n",
    "        np.mean(supr_width), \\\n",
    "        np.mean(uqn1_width), \\\n",
    "        np.mean(pdon_width), \\\n",
    "        np.mean(qdon_width), \\\n",
    "        np.mean(lsc1_width), \\\n",
    "        np.mean(lsc2_width)\n",
    "\n",
    "risk_cor = -0, \\\n",
    "           np.corrcoef([noise_sd, drop_risk])[0,1], \\\n",
    "           np.corrcoef([noise_sd, conf_risk])[0,1], \\\n",
    "           np.corrcoef([noise_sd, gaus_risk])[0,1], \\\n",
    "           np.corrcoef([noise_sd, supr_risk])[0,1], \\\n",
    "           np.corrcoef([noise_sd, uqn1_risk])[0,1], \\\n",
    "           np.corrcoef([noise_sd, pdon_risk])[0,1], \\\n",
    "           np.corrcoef([noise_sd, qdon_risk])[0,1], \\\n",
    "           np.corrcoef([noise_sd, lsc1_risk])[0,1], \\\n",
    "           np.corrcoef([noise_sd, lsc2_risk])[0,1]\n",
    "\n",
    "width_cor = 1, \\\n",
    "            np.corrcoef([noise_sd, drop_width])[0,1], \\\n",
    "            0, \\\n",
    "            0, \\\n",
    "            0, \\\n",
    "            np.corrcoef([noise_sd, uqn1_width])[0,1], \\\n",
    "            np.corrcoef([noise_sd, pdon_width])[0,1], \\\n",
    "            np.corrcoef([noise_sd, qdon_width])[0,1], \\\n",
    "            np.corrcoef([noise_sd, lsc1_width])[0,1], \\\n",
    "            np.corrcoef([noise_sd, lsc2_width])[0,1]\n",
    "\n",
    "metrics = np.array([risk_control, risk_cor, width, width_cor]).T"
   ]
  },
  {
   "cell_type": "code",
   "execution_count": 399,
   "id": "918606b0",
   "metadata": {},
   "outputs": [
    {
     "name": "stdout",
     "output_type": "stream",
     "text": [
      "[[ 1.     0.     0.21   1.   ]\n",
      " [ 0.       nan  0.796  0.102]\n",
      " [ 0.808 -0.476  1.294  0.   ]\n",
      " [ 0.812 -0.465  1.257  0.   ]\n",
      " [ 0.918 -0.316  1.481  0.   ]\n",
      " [ 0.964 -0.224  1.529 -0.024]\n",
      " [ 1.       nan 20.964 -0.126]\n",
      " [ 0.294 -0.108  1.019  0.446]\n",
      " [ 0.91   0.045  0.907  0.993]\n",
      " [ 0.886  0.068  0.876  0.993]]\n"
     ]
    }
   ],
   "source": [
    "np.set_printoptions(suppress=True)\n",
    "print(np.round(metrics, 3))"
   ]
  },
  {
   "cell_type": "code",
   "execution_count": 400,
   "id": "97f35e8a",
   "metadata": {},
   "outputs": [
    {
     "name": "stdout",
     "output_type": "stream",
     "text": [
      "1.000 & 0.000 & 0.210 & 1.000 \\\\\n",
      "0.000 & 0.000 & 0.796 & 0.102 \\\\\n",
      "0.808 & -0.476 & 1.294 & 0.000 \\\\\n",
      "0.812 & -0.465 & 1.257 & 0.000 \\\\\n",
      "0.918 & -0.316 & 1.481 & 0.000 \\\\\n",
      "0.964 & -0.224 & 1.529 & -0.024 \\\\\n",
      "1.000 & 0.000 & 20.964 & -0.126 \\\\\n",
      "0.294 & -0.108 & 1.019 & 0.446 \\\\\n",
      "0.910 & 0.045 & 0.907 & 0.993 \\\\\n",
      "0.886 & 0.068 & 0.876 & 0.993 \\\\\n"
     ]
    }
   ],
   "source": [
    "for i in range(metrics.shape[0]):\n",
    "    for j in range(metrics.shape[1]):\n",
    "        val = f'{np.round(np.nan_to_num(metrics[i,j]), 3):.3f}'\n",
    "        if j < 3:\n",
    "            val += ' & '\n",
    "            print(val, end = '')\n",
    "        else:\n",
    "            val += ' \\\\\\\\'\n",
    "            print(val)"
   ]
  },
  {
   "cell_type": "code",
   "execution_count": null,
   "id": "7c52f08f",
   "metadata": {},
   "outputs": [],
   "source": []
  },
  {
   "cell_type": "code",
   "execution_count": 26,
   "id": "8c3727fa",
   "metadata": {},
   "outputs": [
    {
     "ename": "NameError",
     "evalue": "name 'n1' is not defined",
     "output_type": "error",
     "traceback": [
      "\u001b[0;31m---------------------------------------------------------------------------\u001b[0m",
      "\u001b[0;31mNameError\u001b[0m                                 Traceback (most recent call last)",
      "Cell \u001b[0;32mIn[26], line 9\u001b[0m\n\u001b[1;32m      6\u001b[0m \u001b[38;5;28;01mfor\u001b[39;00m i \u001b[38;5;129;01min\u001b[39;00m \u001b[38;5;28mrange\u001b[39m(\u001b[38;5;241m3\u001b[39m):\n\u001b[1;32m      8\u001b[0m     lsc1_lower, lsc1_upper \u001b[38;5;241m=\u001b[39m lsci\u001b[38;5;241m.\u001b[39mlsci(rval, xval, xtest[n[i]], pca_state, alpha1, gamma1, \u001b[38;5;241m2000\u001b[39m)\n\u001b[0;32m----> 9\u001b[0m     uqno_lower, uqno_upper \u001b[38;5;241m=\u001b[39m uqn1_lower[\u001b[43mn1\u001b[49m], uqn1_upper[n[i]]\n\u001b[1;32m     11\u001b[0m     ax[i]\u001b[38;5;241m.\u001b[39mset_ylim(\u001b[38;5;241m-\u001b[39m\u001b[38;5;241m1.5\u001b[39m, \u001b[38;5;241m1.5\u001b[39m)\n\u001b[1;32m     12\u001b[0m     ax[i]\u001b[38;5;241m.\u001b[39mplot(conf_upper\u001b[38;5;241m.\u001b[39msqueeze(), c \u001b[38;5;241m=\u001b[39m \u001b[38;5;124m'\u001b[39m\u001b[38;5;124mC0\u001b[39m\u001b[38;5;124m'\u001b[39m, lw \u001b[38;5;241m=\u001b[39m \u001b[38;5;241m0.5\u001b[39m, label \u001b[38;5;241m=\u001b[39m \u001b[38;5;124m'\u001b[39m\u001b[38;5;124mConf.\u001b[39m\u001b[38;5;124m'\u001b[39m)\n",
      "\u001b[0;31mNameError\u001b[0m: name 'n1' is not defined"
     ]
    },
    {
     "data": {
      "image/png": "[encoded data removed]",
      "text/plain": [
       "<Figure size 1600x500 with 3 Axes>"
      ]
     },
     "metadata": {},
     "output_type": "display_data"
    }
   ],
   "source": [
    "### examples\n",
    "fig, ax = plt.subplots(1, 3, constrained_layout = True, figsize = (16, 5))\n",
    "\n",
    "n = [0, 50, 200]\n",
    "s = np.arange(92)\n",
    "for i in range(3):\n",
    "\n",
    "    lsc1_lower, lsc1_upper = lsci.lsci(rval, xval, xtest[n[i]], pca_state, alpha1, gamma1, 2000)\n",
    "    uqno_lower, uqno_upper = uqn1_lower[n1], uqn1_upper[n[i]]\n",
    "\n",
    "    ax[i].set_ylim(-1.5, 1.5)\n",
    "    ax[i].plot(conf_upper.squeeze(), c = 'C0', lw = 0.5, label = 'Conf.')\n",
    "    ax[i].plot(conf_lower.squeeze(), c = 'C0', lw = 0.5)\n",
    "    ax[i].plot(supr_upper.squeeze(), c = 'C1', lw = 0.5, label = 'Supr.')\n",
    "    ax[i].plot(supr_lower.squeeze(), c = 'C1', lw = 0.5)\n",
    "    ax[i].plot(uqno_upper, c = 'C2', lw = 0.5, label = 'UQNO')\n",
    "    ax[i].plot(uqno_lower, c = 'C2', lw = 0.5)\n",
    "    ax[i].plot(lsc1_upper, c = 'C3', lw = 1.5, label = 'LSCI')\n",
    "    ax[i].plot(lsc1_lower, c = 'C3', lw = 1.5)\n",
    "    ax[i].plot(rtest[n[i]], c = 'black')\n",
    "    \n",
    "    ax[i].fill_between(s, conf_lower.squeeze(), conf_upper.squeeze(), alpha = 0.1)\n",
    "    ax[i].fill_between(s, supr_lower.squeeze(), supr_upper.squeeze(), alpha = 0.1)\n",
    "    ax[i].fill_between(s, uqno_lower.squeeze(), uqno_upper.squeeze(), alpha = 0.1)\n",
    "    ax[i].fill_between(s, lsc1_lower.squeeze(), lsc1_upper.squeeze(), alpha = 0.1)\n",
    "    \n",
    "    ax[i].set_title(f't = {n[i]}', fontsize = 18)\n",
    "ax[-1].legend(ncol = 4, fontsize = 12)\n",
    "\n",
    "plt.show()"
   ]
  },
  {
   "cell_type": "code",
   "execution_count": 81,
   "id": "57811d56",
   "metadata": {},
   "outputs": [],
   "source": [
    "# plt.imshow(vp[0])\n",
    "# plt.colorbar()"
   ]
  },
  {
   "cell_type": "code",
   "execution_count": 82,
   "id": "868ed3b0",
   "metadata": {},
   "outputs": [],
   "source": [
    "# u = swe.random_initial_condition()\n",
    "\n",
    "# fig, ax = plt.subplots(1, 3, constrained_layout = True, figsize = (15, 4))\n",
    "# ax[0].imshow(swe.isht(swe.timestep(u, 0))[0])\n",
    "# ax[1].imshow(swe.isht(swe.timestep(u, 10))[0])\n",
    "# ax[2].imshow(swe.isht(swe.timestep(u, 100))[0])"
   ]
  },
  {
   "cell_type": "code",
   "execution_count": 83,
   "id": "98da01a3",
   "metadata": {},
   "outputs": [],
   "source": [
    "# plt.imshow(swe.isht(swe.timestep(u, 10))[0] - swe.isht(swe.timestep(u, 100))[0])\n",
    "# plt.colorbar()"
   ]
  },
  {
   "cell_type": "code",
   "execution_count": 263,
   "id": "26f0f707",
   "metadata": {},
   "outputs": [
    {
     "data": {
      "application/vnd.jupyter.widget-view+json": {
       "model_id": "4ca96e963bd44d08bda86a049395134f",
       "version_major": 2,
       "version_minor": 0
      },
      "text/plain": [
       "  0%|          | 0/500 [00:00<?, ?it/s]"
      ]
     },
     "metadata": {},
     "output_type": "display_data"
    }
   ],
   "source": [
    "# z_score = 3.27\n",
    "# oracle_sd = np.std(rtest, axis = 1)\n",
    "oracle_rc = []\n",
    "oracle_width = []\n",
    "for i in trange(0, ytest.shape[0]):\n",
    "    \n",
    "    # Oracle    \n",
    "    oracle_lower = jnp.min(rtest[i]) * jnp.ones((92,)) - 1e-7\n",
    "    oracle_upper = jnp.max(rtest[i]) * jnp.ones((92,)) + 1e-7\n",
    "    oracle_rc.append(risk(oracle_lower, oracle_upper, rtest[i]))\n",
    "    oracle_width.append(jnp.mean(oracle_upper - oracle_lower))\n",
    "\n",
    "oracle_rc = np.array(oracle_rc)\n",
    "oracle_width = np.array(oracle_width)"
   ]
  },
  {
   "cell_type": "code",
   "execution_count": 265,
   "id": "c71217df",
   "metadata": {},
   "outputs": [],
   "source": [
    "noise_sd = np.std(rtest, axis = 1)\n",
    "\n",
    "risk_control = np.mean(oracle_rc >= 0.99), \\\n",
    "               np.mean(conf_rc >= 0.99), \\\n",
    "               np.mean(supr_rc >= 0.99), \\\n",
    "               np.mean(uqn1_rc >= 0.99), \\\n",
    "               np.mean(lsc1_rc >= 0.99), \\\n",
    "               np.mean(lsc2_rc >= 0.99)\n",
    "\n",
    "width = np.mean(oracle_width), \\\n",
    "        np.mean(conf_width), \\\n",
    "        np.mean(supr_width), \\\n",
    "        np.mean(uqn1_width), \\\n",
    "        np.mean(lsc1_width), \\\n",
    "        np.mean(lsc2_width)\n",
    "\n",
    "risk_cor = 0, \\\n",
    "           np.corrcoef([noise_sd, conf_rc])[0,1], \\\n",
    "           np.corrcoef([noise_sd, supr_rc])[0,1], \\\n",
    "           np.corrcoef([noise_sd, uqn1_rc])[0,1], \\\n",
    "           np.corrcoef([noise_sd, lsc1_rc])[0,1], \\\n",
    "           np.corrcoef([noise_sd, lsc2_rc])[0,1]\n",
    "\n",
    "width_cor = np.corrcoef([noise_sd, oracle_width])[0,1], \\\n",
    "            0, \\\n",
    "            0, \\\n",
    "            np.corrcoef([noise_sd, uqn1_width])[0,1], \\\n",
    "            np.corrcoef([noise_sd, lsc1_width])[0,1], \\\n",
    "            np.corrcoef([noise_sd, lsc2_width])[0,1]\n",
    "\n",
    "metrics = np.array([risk_control, risk_cor, width, width_cor]).T"
   ]
  },
  {
   "cell_type": "code",
   "execution_count": 266,
   "id": "68be336c",
   "metadata": {},
   "outputs": [
    {
     "name": "stdout",
     "output_type": "stream",
     "text": [
      "1.000 & 0.000 & 0.613 & 0.984 \\\\\n",
      "0.852 & -0.568 & 1.285 & 0.000 \\\\\n",
      "0.888 & -0.505 & 1.422 & 0.000 \\\\\n",
      "0.968 & -0.297 & 1.602 & 0.182 \\\\\n",
      "0.924 & -0.013 & 0.912 & 0.928 \\\\\n",
      "0.896 & -0.035 & 0.876 & 0.926 \\\\\n"
     ]
    }
   ],
   "source": [
    "for i in range(metrics.shape[0]):\n",
    "    for j in range(metrics.shape[1]):\n",
    "        val = f'{np.round(metrics[i,j], 3):.3f}'\n",
    "        if j < 3:\n",
    "            val += ' & '\n",
    "            print(val, end = '')\n",
    "        else:\n",
    "            val += ' \\\\\\\\'\n",
    "            print(val)"
   ]
  },
  {
   "cell_type": "code",
   "execution_count": null,
   "id": "ab9058fa",
   "metadata": {},
   "outputs": [],
   "source": []
  },
  {
   "cell_type": "code",
   "execution_count": null,
   "id": "eab037c4",
   "metadata": {},
   "outputs": [],
   "source": []
  }
 ],
 "metadata": {
  "kernelspec": {
   "display_name": "Python 3 (ipykernel)",
   "language": "python",
   "name": "python3"
  },
  "language_info": {
   "codemirror_mode": {
    "name": "ipython",
    "version": 3
   },
   "file_extension": ".py",
   "mimetype": "text/x-python",
   "name": "python",
   "nbconvert_exporter": "python",
   "pygments_lexer": "ipython3",
   "version": "3.10.8"
  }
 },
 "nbformat": 4,
 "nbformat_minor": 5
}
