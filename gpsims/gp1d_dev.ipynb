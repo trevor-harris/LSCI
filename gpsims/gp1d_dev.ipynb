{
 "cells": [
  {
   "cell_type": "code",
   "execution_count": 1,
   "id": "0b7ab1aa",
   "metadata": {},
   "outputs": [],
   "source": [
    "import math\n",
    "import numpy as np\n",
    "import matplotlib\n",
    "import matplotlib.pyplot as plt\n",
    "\n",
    "import jax\n",
    "import jax.numpy as jnp\n",
    "import jax.scipy.stats as stats\n",
    "from jax import jacfwd, jacrev\n",
    "from jax import vmap, grad, jit, random\n",
    "from jax.tree_util import tree_map, tree_flatten, tree_unflatten, tree_leaves\n",
    "\n",
    "from flax import nnx\n",
    "import optax\n",
    "import pcax\n",
    "\n",
    "from tqdm.notebook import tqdm\n",
    "from tqdm.notebook import trange"
   ]
  },
  {
   "cell_type": "code",
   "execution_count": 2,
   "id": "df37cd79",
   "metadata": {},
   "outputs": [],
   "source": [
    "import os\n",
    "os.chdir('../methods')\n",
    "import lsci, supr, conf, uqno\n",
    "os.chdir('../gpsims')"
   ]
  },
  {
   "cell_type": "code",
   "execution_count": 3,
   "id": "ae7a5a00",
   "metadata": {},
   "outputs": [],
   "source": [
    "def risk(lower, upper, residual):\n",
    "    return jnp.mean((residual > lower)*(residual < upper))"
   ]
  },
  {
   "cell_type": "code",
   "execution_count": 4,
   "id": "5a963899",
   "metadata": {},
   "outputs": [],
   "source": [
    "def split_data(data, lag, horizon):\n",
    "    horizon = horizon-1\n",
    "    y_t = data[(lag + horizon):][:,None]\n",
    "    x_t = np.stack([data[(lag-i-1):(-(i+1+horizon))] for i in range(lag)], axis = 1)\n",
    "    return x_t.copy(), y_t.copy()"
   ]
  },
  {
   "cell_type": "code",
   "execution_count": 5,
   "id": "56048208",
   "metadata": {},
   "outputs": [],
   "source": [
    "class ANO_layer(nnx.Module):\n",
    "    def __init__(self, width, rngs: nnx.Rngs):\n",
    "        self.linear = nnx.Linear(width, width, rngs=rngs)\n",
    "        # self.bn = nnx.BatchNorm(dmid, rngs=rngs)\n",
    "        # self.dropout = nnx.Dropout(0.2, rngs=rngs)\n",
    "        self.linear_out = nnx.Linear(width, width, rngs=rngs)\n",
    "        \n",
    "    def __call__(self, x):\n",
    "        # channel mix\n",
    "        h = self.linear(x)\n",
    "\n",
    "        # spatial mix\n",
    "        g = jnp.mean(x, axis = (1, 2))[:,None,None,:]\n",
    "\n",
    "        # sum\n",
    "        x = h + g\n",
    "        x = nnx.relu(x)\n",
    "\n",
    "        return self.linear_out(x)\n",
    "\n",
    "class encode_layer(nnx.Module):\n",
    "    def __init__(self, in_dim, out_dim, rngs):\n",
    "        self.linear = nnx.Linear(in_dim, out_dim, rngs=rngs)\n",
    "\n",
    "    def __call__(self, x):\n",
    "        return self.linear(x)\n",
    "\n",
    "class DeepANO(nnx.Module):\n",
    "    def __init__(self, in_dim, width, out_dim, rngs):\n",
    "        self.encode_layer = encode_layer(in_dim, width, rngs)\n",
    "        self.ano1 = ANO_layer(width, rngs)\n",
    "        self.ano2 = ANO_layer(width, rngs)\n",
    "        self.ano3 = ANO_layer(width, rngs)\n",
    "        self.decode_layer = encode_layer(width, out_dim, rngs)\n",
    "\n",
    "    def __call__(self, x):\n",
    "        x = self.encode_layer(x)\n",
    "        x = self.ano1(x)\n",
    "        x = self.ano2(x)\n",
    "        x = self.ano3(x)\n",
    "        x = self.decode_layer(x)\n",
    "        return x"
   ]
  },
  {
   "cell_type": "code",
   "execution_count": 62,
   "id": "b3247cf1",
   "metadata": {},
   "outputs": [],
   "source": [
    "rng0 = 100\n",
    "key1 = random.PRNGKey(rng0 + 1)\n",
    "key2 = random.PRNGKey(rng0 + 1)\n",
    "key3 = random.PRNGKey(rng0 + 1)\n",
    "\n",
    "t = jnp.linspace(0, 1, 100)\n",
    "s = jnp.linspace(-2*math.pi, 2*math.pi, 1001)\n",
    "\n",
    "amp = jnp.sin(s)\n",
    "sd = jnp.sin(s)\n",
    "\n",
    "f = jnp.sin(2 * math.pi * t)\n",
    "f = 10 + amp[:,None] * f[None,:]\n",
    "\n",
    "xtrain = f + 0.25 * (1.15 + sd)[:,None] * random.normal(key1, f.shape)\n",
    "xtrain, ytrain = split_data(xtrain, 1, 1)\n",
    "xtrain = xtrain[:,:,:,None]\n",
    "ytrain = ytrain[:,:,:,None]\n",
    "\n",
    "xval = f + 0.25 * (1.15 + sd)[:,None] * random.normal(key2, f.shape)\n",
    "xval, yval = split_data(xval, 1, 1)\n",
    "xval = xval[:,:,:,None]\n",
    "yval = yval[:,:,:,None]\n",
    "\n",
    "xtest = f + 0.25 * (1.15 + sd)[:,None] * random.normal(key3, f.shape)\n",
    "xtest, ytest = split_data(xtest, 1, 1)\n",
    "xtest = xtest[:,:,:,None]\n",
    "ytest = ytest[:,:,:,None]"
   ]
  },
  {
   "cell_type": "code",
   "execution_count": 63,
   "id": "91c90588",
   "metadata": {},
   "outputs": [
    {
     "data": {
      "application/vnd.jupyter.widget-view+json": {
       "model_id": "ea37dcad8bd8437b8cf9f4e31274503b",
       "version_major": 2,
       "version_minor": 0
      },
      "text/plain": [
       "  0%|          | 0/50 [00:00<?, ?it/s]"
      ]
     },
     "metadata": {},
     "output_type": "display_data"
    }
   ],
   "source": [
    "@nnx.jit  # Automatic state management\n",
    "def train_step(model, optimizer, x, y):\n",
    "    def loss_fn(model):\n",
    "        y_pred = model(x)\n",
    "        y_diff = jnp.diff(y_pred, axis = 0)\n",
    "        return jnp.mean((y_pred - y) ** 2) + jnp.mean(y_diff**2)\n",
    "\n",
    "    loss, grads = nnx.value_and_grad(loss_fn)(model)\n",
    "    optimizer.update(grads)  # In place updates.\n",
    "\n",
    "    return loss\n",
    "\n",
    "model = DeepANO(1, 50, 1, nnx.Rngs(0))\n",
    "optimizer = nnx.Optimizer(model, optax.adam(1e-3)) \n",
    "\n",
    "epochs = 50\n",
    "nbat = 50\n",
    "for _ in trange(epochs):\n",
    "    for i in range(len(f)//nbat):\n",
    "        xi = xtrain[i*nbat:(i+1)*nbat]\n",
    "        yi = ytrain[i*nbat:(i+1)*nbat]\n",
    "\n",
    "        loss = train_step(model, optimizer, xi, yi)"
   ]
  },
  {
   "cell_type": "code",
   "execution_count": 64,
   "id": "7c388ab2",
   "metadata": {},
   "outputs": [
    {
     "data": {
      "application/vnd.jupyter.widget-view+json": {
       "model_id": "bb2ba30321d04ca3b84b97fa262f2922",
       "version_major": 2,
       "version_minor": 0
      },
      "text/plain": [
       "  0%|          | 0/100 [00:00<?, ?it/s]"
      ]
     },
     "metadata": {},
     "output_type": "display_data"
    }
   ],
   "source": [
    "def train_step(model, optimizer, x, y):\n",
    "    def loss_fn(model):\n",
    "        quant = 1 - 0.1\n",
    "        y_pred = model(x)\n",
    "        y_abs = jnp.abs(y)\n",
    "        resid = y_abs - y_pred\n",
    "        loss = jnp.max(jnp.concat([quant * resid, -(1-quant) * resid], axis = 3), axis = 3)\n",
    "        return jnp.mean(loss)\n",
    "    \n",
    "    loss, grads = nnx.value_and_grad(loss_fn)(model)\n",
    "    optimizer.update(grads)  # in-place updates\n",
    "\n",
    "    return loss\n",
    "train_step = nnx.jit(train_step)\n",
    "\n",
    "quant = DeepANO(1, 50, 1, nnx.Rngs(0))\n",
    "optimizer = nnx.Optimizer(quant, optax.adam(1e-3)) \n",
    "\n",
    "epochs = 100\n",
    "nbat = 50\n",
    "for _ in trange(epochs):\n",
    "    for i in range(len(f)//nbat):\n",
    "        xi = xtrain[i*nbat:(i+1)*nbat]\n",
    "        yi = ytrain[i*nbat:(i+1)*nbat]\n",
    "\n",
    "        loss = train_step(quant, optimizer, xi, yi)"
   ]
  },
  {
   "cell_type": "code",
   "execution_count": 65,
   "id": "99e5391e",
   "metadata": {},
   "outputs": [],
   "source": [
    "yval_hat = model(xval)\n",
    "ytest_hat = model(xtest)\n",
    "\n",
    "yval_quant = quant(xval)\n",
    "ytest_quant = quant(xtest)"
   ]
  },
  {
   "cell_type": "code",
   "execution_count": 66,
   "id": "1e22619d",
   "metadata": {},
   "outputs": [],
   "source": [
    "nproj = 90\n",
    "gamma1 = 0.2\n",
    "alpha = 0.1\n",
    "nval = xval.shape[0]\n",
    "alpha1 = 1 - jnp.ceil((1-alpha) * (gamma1*nval + 1))/(gamma1*nval)"
   ]
  },
  {
   "cell_type": "code",
   "execution_count": 67,
   "id": "f42d3000",
   "metadata": {},
   "outputs": [],
   "source": [
    "yval = yval.reshape(yval.shape[0], -1)\n",
    "yval_hat = yval_hat.reshape(yval_hat.shape[0], -1)\n",
    "pca_state = lsci.phi_state(yval, yval_hat, nproj)"
   ]
  },
  {
   "cell_type": "code",
   "execution_count": 68,
   "id": "30306593",
   "metadata": {},
   "outputs": [
    {
     "data": {
      "text/plain": [
       "Array(0.23246673, dtype=float32)"
      ]
     },
     "execution_count": 68,
     "metadata": {},
     "output_type": "execute_result"
    }
   ],
   "source": [
    "# UQNO lambda estimate\n",
    "yval_quant = yval.reshape(yval_quant.shape[0], -1)\n",
    "ytest_quant = ytest_quant.reshape(ytest_quant.shape[0], -1)\n",
    "\n",
    "alpha = 0.1\n",
    "delta = 0.1\n",
    "# m = 32*64\n",
    "m = 100\n",
    "tau = 1.1 * jnp.sqrt(-jnp.log(delta)/(2*m))\n",
    "sg = jnp.abs(yval - yval_hat) / yval_quant\n",
    "sg = jnp.quantile(sg, 1-alpha+tau, axis = (1))\n",
    "nval = sg.shape[0]\n",
    "\n",
    "adj_alpha = 1 - jnp.ceil((nval + 1) * (delta - jnp.exp(-2*m*tau**2)))/nval\n",
    "lam_uqno = jnp.quantile(sg, adj_alpha)\n",
    "lam_uqno"
   ]
  },
  {
   "cell_type": "code",
   "execution_count": 69,
   "id": "6fc47864",
   "metadata": {},
   "outputs": [
    {
     "data": {
      "application/vnd.jupyter.widget-view+json": {
       "model_id": "96917028d2bc42179ec037b3f1537694",
       "version_major": 2,
       "version_minor": 0
      },
      "text/plain": [
       "  0%|          | 0/100 [00:00<?, ?it/s]"
      ]
     },
     "metadata": {},
     "output_type": "display_data"
    }
   ],
   "source": [
    "nproj = 90\n",
    "gamma1 = 0.1\n",
    "alpha = 0.1\n",
    "nval = xval.shape[0]\n",
    "alpha1 = 1 - jnp.ceil((1-alpha) * (gamma1*nval + 1))/(gamma1*nval)\n",
    "\n",
    "lsc1_rc = []\n",
    "lsc1_width = []\n",
    "\n",
    "conf_rc = []\n",
    "conf_width = []\n",
    "\n",
    "supr_rc = []\n",
    "supr_width = []\n",
    "\n",
    "uqn1_rc = []\n",
    "uqn1_width = []\n",
    "\n",
    "yval = yval.reshape(yval.shape[0], -1)\n",
    "yval_hat = yval_hat.reshape(yval_hat.shape[0], -1)\n",
    "pca_state = lsci.phi_state(yval, yval_hat, nproj)\n",
    "\n",
    "rval = (yval - yval_hat).squeeze()\n",
    "rtest = (ytest - ytest_hat).squeeze()\n",
    "\n",
    "conf_lower, conf_upper = conf.conf_band(rval, pca_state, alpha)\n",
    "supr_lower, supr_upper = supr.supr_band(rval, alpha)\n",
    "uqn1_lower, uqn1_upper = uqno.uqno_band(ytest_quant, lam_uqno)\n",
    "\n",
    "for i in trange(0, 100):\n",
    "    \n",
    "    # LSCI\n",
    "    lsc1_lower, lsc1_upper = lsci.lsci(yval - yval_hat, xval, xtest[i], pca_state, alpha1, gamma1, 2000)\n",
    "    lsc1_rc.append(risk(lsc1_lower, lsc1_upper, rtest[i]))\n",
    "    lsc1_width.append(jnp.median(lsc1_upper - lsc1_lower))\n",
    "    \n",
    "    # CONF \n",
    "    conf_rc.append(risk(conf_lower, conf_upper, rtest[i]))\n",
    "    conf_width.append(jnp.mean(conf_upper - conf_lower))\n",
    "    \n",
    "    # SUPR\n",
    "    supr_rc.append(risk(supr_lower, supr_upper, rtest[i]))\n",
    "    supr_width.append(jnp.mean(supr_upper - supr_lower))\n",
    "    \n",
    "    # SUPR\n",
    "    uqn1_rc.append(risk(uqn1_lower[i], uqn1_upper[i], rtest[i]))\n",
    "    uqn1_width.append(jnp.mean(uqn1_upper[i] - uqn1_lower[i]))\n",
    "\n",
    "    \n",
    "conf_rc = np.array(conf_rc)\n",
    "supr_rc = np.array(supr_rc)\n",
    "uqn1_rc = np.array(uqn1_rc)\n",
    "lsc1_rc = np.array(lsc1_rc)\n",
    "\n",
    "conf_width = np.array(conf_width)\n",
    "supr_width = np.array(supr_width)\n",
    "uqn1_width = np.array(uqn1_width)\n",
    "lsc1_width = np.array(lsc1_width)"
   ]
  },
  {
   "cell_type": "code",
   "execution_count": 70,
   "id": "057f74c2",
   "metadata": {},
   "outputs": [],
   "source": [
    "noise_sd = np.std(rtest, axis = 1)[:conf_rc.shape[0]]\n",
    "\n",
    "# risk_control = np.mean(conf_rc >= 0.98), \\\n",
    "#                np.mean(supr_rc >= 0.98), \\\n",
    "#                np.mean(uqn1_rc >= 0.98), \\\n",
    "#                np.mean(lsc1_rc >= 0.98)\n",
    "\n",
    "risk_control = np.mean(conf_rc), \\\n",
    "               np.mean(supr_rc), \\\n",
    "               np.mean(uqn1_rc), \\\n",
    "               np.mean(lsc1_rc)\n",
    "\n",
    "width = np.mean(conf_width), \\\n",
    "        np.mean(supr_width), \\\n",
    "        np.mean(uqn1_width), \\\n",
    "        np.mean(lsc1_width)\n",
    "\n",
    "risk_cor = np.abs(np.corrcoef([noise_sd, conf_rc])[0,1]), \\\n",
    "           np.abs(np.corrcoef([noise_sd, supr_rc])[0,1]), \\\n",
    "           np.abs(np.corrcoef([noise_sd, uqn1_rc])[0,1]), \\\n",
    "           np.abs(np.corrcoef([noise_sd, lsc1_rc])[0,1])\n",
    "\n",
    "width_cor = 0, \\\n",
    "            0, \\\n",
    "            np.corrcoef([noise_sd, uqn1_width])[0,1], \\\n",
    "            np.corrcoef([noise_sd, lsc1_width])[0,1]\n",
    "\n",
    "metrics = np.array([risk_control, risk_cor, width, width_cor]).T"
   ]
  },
  {
   "cell_type": "code",
   "execution_count": 51,
   "id": "918606b0",
   "metadata": {},
   "outputs": [
    {
     "name": "stdout",
     "output_type": "stream",
     "text": [
      "[[0.994 0.508 2.907 0.   ]\n",
      " [0.999 0.353 3.775 0.   ]\n",
      " [1.      nan 5.054 0.531]\n",
      " [0.995 0.143 2.804 0.907]]\n"
     ]
    }
   ],
   "source": [
    "np.set_printoptions(suppress=True)\n",
    "print(np.round(metrics, 3))"
   ]
  },
  {
   "cell_type": "code",
   "execution_count": 61,
   "id": "62d5728e",
   "metadata": {},
   "outputs": [
    {
     "name": "stdout",
     "output_type": "stream",
     "text": [
      "[[0.995 0.619 2.963 0.   ]\n",
      " [0.998 0.494 3.861 0.   ]\n",
      " [1.      nan 5.089 0.583]\n",
      " [0.999 0.102 2.855 0.92 ]]\n"
     ]
    }
   ],
   "source": [
    "np.set_printoptions(suppress=True)\n",
    "print(np.round(metrics, 3))"
   ]
  },
  {
   "cell_type": "code",
   "execution_count": 71,
   "id": "5b958ed9",
   "metadata": {},
   "outputs": [
    {
     "name": "stdout",
     "output_type": "stream",
     "text": [
      "[[0.996 0.474 2.965 0.   ]\n",
      " [0.998 0.374 3.741 0.   ]\n",
      " [1.      nan 4.836 0.414]\n",
      " [1.    0.029 2.81  0.931]]\n"
     ]
    }
   ],
   "source": [
    "np.set_printoptions(suppress=True)\n",
    "print(np.round(metrics, 3))"
   ]
  },
  {
   "cell_type": "code",
   "execution_count": null,
   "id": "646a026a",
   "metadata": {},
   "outputs": [],
   "source": []
  }
 ],
 "metadata": {
  "kernelspec": {
   "display_name": "Python 3 (ipykernel)",
   "language": "python",
   "name": "python3"
  },
  "language_info": {
   "codemirror_mode": {
    "name": "ipython",
    "version": 3
   },
   "file_extension": ".py",
   "mimetype": "text/x-python",
   "name": "python",
   "nbconvert_exporter": "python",
   "pygments_lexer": "ipython3",
   "version": "3.10.8"
  }
 },
 "nbformat": 4,
 "nbformat_minor": 5
}
