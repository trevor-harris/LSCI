{
 "cells": [
  {
   "cell_type": "code",
   "execution_count": 49,
   "id": "0b7ab1aa",
   "metadata": {},
   "outputs": [],
   "source": [
    "import math\n",
    "import numpy as np\n",
    "import matplotlib\n",
    "import matplotlib.pyplot as plt\n",
    "\n",
    "import jax\n",
    "import jax.numpy as jnp\n",
    "import jax.scipy.stats as stats\n",
    "from jax import jacfwd, jacrev\n",
    "from jax import vmap, grad, jit, random\n",
    "from jax.tree_util import tree_map, tree_flatten, tree_unflatten, tree_leaves\n",
    "\n",
    "from flax import nnx\n",
    "import optax\n",
    "import pcax\n",
    "\n",
    "from tqdm.notebook import tqdm\n",
    "from tqdm.notebook import trange\n",
    "\n",
    "import torch\n",
    "import torch.nn as nn\n",
    "from torch.utils.data import DataLoader, TensorDataset\n",
    "\n",
    "import os\n",
    "os.chdir('../methods')\n",
    "import lsci, supr, conf, uqno, prob_don, quant_don, gaus\n",
    "os.chdir('../gpsims')\n",
    "\n",
    "os.chdir('../models_and_metrics')\n",
    "from models import *\n",
    "from metrics import * \n",
    "from utility import *\n",
    "os.chdir('../gpsims')"
   ]
  },
  {
   "cell_type": "code",
   "execution_count": 76,
   "id": "b3247cf1",
   "metadata": {},
   "outputs": [],
   "source": [
    "# generate data\n",
    "kernel = jnp.ones(5)/5\n",
    "\n",
    "n, p = 500, 100\n",
    "rng0 = 100\n",
    "key1 = random.PRNGKey(rng0 + 1)\n",
    "key2 = random.PRNGKey(rng0 + 2)\n",
    "key3 = random.PRNGKey(rng0 + 3)\n",
    "\n",
    "t = jnp.linspace(0, 1, p + 8)\n",
    "s = jnp.linspace(-2*math.pi, 2*math.pi, n + 1)\n",
    "\n",
    "amp = jnp.sin(s)\n",
    "sd = jnp.sin(s)\n",
    "\n",
    "f = jnp.sin(2 * math.pi * t)\n",
    "f = 10 + amp[:,None] * f[None,:]\n",
    "\n",
    "xtrain = f + 0.25 * (1.15 + sd)[:,None] * random.normal(key1, f.shape)\n",
    "xtrain = conv(conv(xtrain.squeeze(), kernel), kernel)\n",
    "xtrain, ytrain = split_data(xtrain, 1, 1)\n",
    "xtrain = xtrain[:,:,:,None]\n",
    "ytrain = ytrain[:,:,:,None]\n",
    "\n",
    "xval = f + 0.25 * (1.15 + sd)[:,None] * random.normal(key2, f.shape)\n",
    "xval = conv(conv(xval.squeeze(), kernel), kernel)\n",
    "\n",
    "xval, yval = split_data(xval, 1, 1)\n",
    "xval = xval[:,:,:,None]\n",
    "yval = yval[:,:,:,None]\n",
    "\n",
    "xtest = f + 0.25 * (1.15 + sd)[:,None] * random.normal(key3, f.shape)\n",
    "xtest = conv(conv(xtest.squeeze(), kernel), kernel)\n",
    "\n",
    "xtest, ytest = split_data(xtest, 1, 1)\n",
    "xtest = xtest[:,:,:,None]\n",
    "ytest = ytest[:,:,:,None]\n",
    "\n",
    "sigma = 0.25 * (1.15 + sd)"
   ]
  },
  {
   "cell_type": "code",
   "execution_count": 77,
   "id": "eeef3ee7",
   "metadata": {},
   "outputs": [],
   "source": [
    "xtrain = torch.tensor(xtrain[:,:,:,0])\n",
    "ytrain = torch.tensor(ytrain[:,:,:,0])\n",
    "xval = torch.tensor(xval[:,:,:,0])\n",
    "yval = torch.tensor(yval[:,:,:,0])\n",
    "xtest = torch.tensor(xtest[:,:,:,0])\n",
    "ytest = torch.tensor(ytest[:,:,:,0])"
   ]
  },
  {
   "cell_type": "code",
   "execution_count": 78,
   "id": "a0fe84a6",
   "metadata": {},
   "outputs": [],
   "source": [
    "train_data = TensorDataset(xtrain, ytrain)\n",
    "train_loader = DataLoader(train_data, batch_size = 30, shuffle = True)"
   ]
  },
  {
   "cell_type": "code",
   "execution_count": 85,
   "id": "781cb651",
   "metadata": {},
   "outputs": [],
   "source": [
    "import neuralop as op\n",
    "from neuralop.models import FNO, LocalFNO, UNO, TFNO\n",
    "\n",
    "loss_fn = nn.MSELoss()\n",
    "\n",
    "fno = FNO(n_modes=(16,), \n",
    "             hidden_channels=64, \n",
    "             in_channels=1, \n",
    "             out_channels=1)\n",
    "optim_fno = torch.optim.Adam(fno.parameters(), lr = 1e-3)\n",
    "\n",
    "tno = TFNO(n_modes=(16,), \n",
    "               hidden_channels=64, \n",
    "               in_channels=1, \n",
    "               out_channels=1,\n",
    "               factorization='tucker',\n",
    "               implementation='factorized',\n",
    "               rank=0.05)\n",
    "optim_tno = torch.optim.Adam(tno.parameters(), lr = 1e-3)\n",
    "\n",
    "uno = TFNO(n_modes=(16,), \n",
    "           hidden_channels=64, \n",
    "           in_channels=1, \n",
    "           out_channels=1,\n",
    "           out_uno_channels = [32,64,64,32])\n",
    "optim_uno = torch.optim.Adam(uno.parameters(), lr = 1e-3)"
   ]
  },
  {
   "cell_type": "code",
   "execution_count": 86,
   "id": "9943d4a9",
   "metadata": {},
   "outputs": [
    {
     "data": {
      "application/vnd.jupyter.widget-view+json": {
       "model_id": "dc60e03bcfd34aabbd7d8df8036086f5",
       "version_major": 2,
       "version_minor": 0
      },
      "text/plain": [
       "  0%|          | 0/20 [00:00<?, ?it/s]"
      ]
     },
     "metadata": {},
     "output_type": "display_data"
    },
    {
     "data": {
      "application/vnd.jupyter.widget-view+json": {
       "model_id": "",
       "version_major": 2,
       "version_minor": 0
      },
      "text/plain": [
       "  0%|          | 0/17 [00:00<?, ?it/s]"
      ]
     },
     "metadata": {},
     "output_type": "display_data"
    },
    {
     "data": {
      "application/vnd.jupyter.widget-view+json": {
       "model_id": "",
       "version_major": 2,
       "version_minor": 0
      },
      "text/plain": [
       "  0%|          | 0/17 [00:00<?, ?it/s]"
      ]
     },
     "metadata": {},
     "output_type": "display_data"
    },
    {
     "data": {
      "application/vnd.jupyter.widget-view+json": {
       "model_id": "",
       "version_major": 2,
       "version_minor": 0
      },
      "text/plain": [
       "  0%|          | 0/17 [00:00<?, ?it/s]"
      ]
     },
     "metadata": {},
     "output_type": "display_data"
    },
    {
     "data": {
      "application/vnd.jupyter.widget-view+json": {
       "model_id": "",
       "version_major": 2,
       "version_minor": 0
      },
      "text/plain": [
       "  0%|          | 0/17 [00:00<?, ?it/s]"
      ]
     },
     "metadata": {},
     "output_type": "display_data"
    },
    {
     "data": {
      "application/vnd.jupyter.widget-view+json": {
       "model_id": "",
       "version_major": 2,
       "version_minor": 0
      },
      "text/plain": [
       "  0%|          | 0/17 [00:00<?, ?it/s]"
      ]
     },
     "metadata": {},
     "output_type": "display_data"
    },
    {
     "data": {
      "application/vnd.jupyter.widget-view+json": {
       "model_id": "",
       "version_major": 2,
       "version_minor": 0
      },
      "text/plain": [
       "  0%|          | 0/17 [00:00<?, ?it/s]"
      ]
     },
     "metadata": {},
     "output_type": "display_data"
    },
    {
     "data": {
      "application/vnd.jupyter.widget-view+json": {
       "model_id": "",
       "version_major": 2,
       "version_minor": 0
      },
      "text/plain": [
       "  0%|          | 0/17 [00:00<?, ?it/s]"
      ]
     },
     "metadata": {},
     "output_type": "display_data"
    },
    {
     "data": {
      "application/vnd.jupyter.widget-view+json": {
       "model_id": "",
       "version_major": 2,
       "version_minor": 0
      },
      "text/plain": [
       "  0%|          | 0/17 [00:00<?, ?it/s]"
      ]
     },
     "metadata": {},
     "output_type": "display_data"
    },
    {
     "data": {
      "application/vnd.jupyter.widget-view+json": {
       "model_id": "",
       "version_major": 2,
       "version_minor": 0
      },
      "text/plain": [
       "  0%|          | 0/17 [00:00<?, ?it/s]"
      ]
     },
     "metadata": {},
     "output_type": "display_data"
    },
    {
     "data": {
      "application/vnd.jupyter.widget-view+json": {
       "model_id": "",
       "version_major": 2,
       "version_minor": 0
      },
      "text/plain": [
       "  0%|          | 0/17 [00:00<?, ?it/s]"
      ]
     },
     "metadata": {},
     "output_type": "display_data"
    },
    {
     "data": {
      "application/vnd.jupyter.widget-view+json": {
       "model_id": "",
       "version_major": 2,
       "version_minor": 0
      },
      "text/plain": [
       "  0%|          | 0/17 [00:00<?, ?it/s]"
      ]
     },
     "metadata": {},
     "output_type": "display_data"
    },
    {
     "data": {
      "application/vnd.jupyter.widget-view+json": {
       "model_id": "",
       "version_major": 2,
       "version_minor": 0
      },
      "text/plain": [
       "  0%|          | 0/17 [00:00<?, ?it/s]"
      ]
     },
     "metadata": {},
     "output_type": "display_data"
    },
    {
     "data": {
      "application/vnd.jupyter.widget-view+json": {
       "model_id": "",
       "version_major": 2,
       "version_minor": 0
      },
      "text/plain": [
       "  0%|          | 0/17 [00:00<?, ?it/s]"
      ]
     },
     "metadata": {},
     "output_type": "display_data"
    },
    {
     "data": {
      "application/vnd.jupyter.widget-view+json": {
       "model_id": "",
       "version_major": 2,
       "version_minor": 0
      },
      "text/plain": [
       "  0%|          | 0/17 [00:00<?, ?it/s]"
      ]
     },
     "metadata": {},
     "output_type": "display_data"
    },
    {
     "data": {
      "application/vnd.jupyter.widget-view+json": {
       "model_id": "",
       "version_major": 2,
       "version_minor": 0
      },
      "text/plain": [
       "  0%|          | 0/17 [00:00<?, ?it/s]"
      ]
     },
     "metadata": {},
     "output_type": "display_data"
    },
    {
     "data": {
      "application/vnd.jupyter.widget-view+json": {
       "model_id": "",
       "version_major": 2,
       "version_minor": 0
      },
      "text/plain": [
       "  0%|          | 0/17 [00:00<?, ?it/s]"
      ]
     },
     "metadata": {},
     "output_type": "display_data"
    },
    {
     "data": {
      "application/vnd.jupyter.widget-view+json": {
       "model_id": "",
       "version_major": 2,
       "version_minor": 0
      },
      "text/plain": [
       "  0%|          | 0/17 [00:00<?, ?it/s]"
      ]
     },
     "metadata": {},
     "output_type": "display_data"
    },
    {
     "data": {
      "application/vnd.jupyter.widget-view+json": {
       "model_id": "",
       "version_major": 2,
       "version_minor": 0
      },
      "text/plain": [
       "  0%|          | 0/17 [00:00<?, ?it/s]"
      ]
     },
     "metadata": {},
     "output_type": "display_data"
    },
    {
     "data": {
      "application/vnd.jupyter.widget-view+json": {
       "model_id": "",
       "version_major": 2,
       "version_minor": 0
      },
      "text/plain": [
       "  0%|          | 0/17 [00:00<?, ?it/s]"
      ]
     },
     "metadata": {},
     "output_type": "display_data"
    },
    {
     "data": {
      "application/vnd.jupyter.widget-view+json": {
       "model_id": "",
       "version_major": 2,
       "version_minor": 0
      },
      "text/plain": [
       "  0%|          | 0/17 [00:00<?, ?it/s]"
      ]
     },
     "metadata": {},
     "output_type": "display_data"
    }
   ],
   "source": [
    "epochs = 20\n",
    "for _ in trange(epochs):\n",
    "    for xt, yt in tqdm(train_loader, leave = False):  \n",
    "        yhat = fno(xt)\n",
    "        loss = loss_fn(yhat, yt)\n",
    "        loss.backward()\n",
    "        optim_fno.step()\n",
    "        optim_fno.zero_grad()"
   ]
  },
  {
   "cell_type": "code",
   "execution_count": 87,
   "id": "67b19b08",
   "metadata": {},
   "outputs": [
    {
     "data": {
      "application/vnd.jupyter.widget-view+json": {
       "model_id": "ab31a04666f24cc499990c1663c7b268",
       "version_major": 2,
       "version_minor": 0
      },
      "text/plain": [
       "  0%|          | 0/20 [00:00<?, ?it/s]"
      ]
     },
     "metadata": {},
     "output_type": "display_data"
    },
    {
     "data": {
      "application/vnd.jupyter.widget-view+json": {
       "model_id": "",
       "version_major": 2,
       "version_minor": 0
      },
      "text/plain": [
       "  0%|          | 0/17 [00:00<?, ?it/s]"
      ]
     },
     "metadata": {},
     "output_type": "display_data"
    },
    {
     "data": {
      "application/vnd.jupyter.widget-view+json": {
       "model_id": "",
       "version_major": 2,
       "version_minor": 0
      },
      "text/plain": [
       "  0%|          | 0/17 [00:00<?, ?it/s]"
      ]
     },
     "metadata": {},
     "output_type": "display_data"
    },
    {
     "data": {
      "application/vnd.jupyter.widget-view+json": {
       "model_id": "",
       "version_major": 2,
       "version_minor": 0
      },
      "text/plain": [
       "  0%|          | 0/17 [00:00<?, ?it/s]"
      ]
     },
     "metadata": {},
     "output_type": "display_data"
    },
    {
     "data": {
      "application/vnd.jupyter.widget-view+json": {
       "model_id": "",
       "version_major": 2,
       "version_minor": 0
      },
      "text/plain": [
       "  0%|          | 0/17 [00:00<?, ?it/s]"
      ]
     },
     "metadata": {},
     "output_type": "display_data"
    },
    {
     "data": {
      "application/vnd.jupyter.widget-view+json": {
       "model_id": "",
       "version_major": 2,
       "version_minor": 0
      },
      "text/plain": [
       "  0%|          | 0/17 [00:00<?, ?it/s]"
      ]
     },
     "metadata": {},
     "output_type": "display_data"
    },
    {
     "data": {
      "application/vnd.jupyter.widget-view+json": {
       "model_id": "",
       "version_major": 2,
       "version_minor": 0
      },
      "text/plain": [
       "  0%|          | 0/17 [00:00<?, ?it/s]"
      ]
     },
     "metadata": {},
     "output_type": "display_data"
    },
    {
     "data": {
      "application/vnd.jupyter.widget-view+json": {
       "model_id": "",
       "version_major": 2,
       "version_minor": 0
      },
      "text/plain": [
       "  0%|          | 0/17 [00:00<?, ?it/s]"
      ]
     },
     "metadata": {},
     "output_type": "display_data"
    },
    {
     "data": {
      "application/vnd.jupyter.widget-view+json": {
       "model_id": "",
       "version_major": 2,
       "version_minor": 0
      },
      "text/plain": [
       "  0%|          | 0/17 [00:00<?, ?it/s]"
      ]
     },
     "metadata": {},
     "output_type": "display_data"
    },
    {
     "data": {
      "application/vnd.jupyter.widget-view+json": {
       "model_id": "",
       "version_major": 2,
       "version_minor": 0
      },
      "text/plain": [
       "  0%|          | 0/17 [00:00<?, ?it/s]"
      ]
     },
     "metadata": {},
     "output_type": "display_data"
    },
    {
     "data": {
      "application/vnd.jupyter.widget-view+json": {
       "model_id": "",
       "version_major": 2,
       "version_minor": 0
      },
      "text/plain": [
       "  0%|          | 0/17 [00:00<?, ?it/s]"
      ]
     },
     "metadata": {},
     "output_type": "display_data"
    },
    {
     "data": {
      "application/vnd.jupyter.widget-view+json": {
       "model_id": "",
       "version_major": 2,
       "version_minor": 0
      },
      "text/plain": [
       "  0%|          | 0/17 [00:00<?, ?it/s]"
      ]
     },
     "metadata": {},
     "output_type": "display_data"
    },
    {
     "data": {
      "application/vnd.jupyter.widget-view+json": {
       "model_id": "",
       "version_major": 2,
       "version_minor": 0
      },
      "text/plain": [
       "  0%|          | 0/17 [00:00<?, ?it/s]"
      ]
     },
     "metadata": {},
     "output_type": "display_data"
    },
    {
     "data": {
      "application/vnd.jupyter.widget-view+json": {
       "model_id": "",
       "version_major": 2,
       "version_minor": 0
      },
      "text/plain": [
       "  0%|          | 0/17 [00:00<?, ?it/s]"
      ]
     },
     "metadata": {},
     "output_type": "display_data"
    },
    {
     "data": {
      "application/vnd.jupyter.widget-view+json": {
       "model_id": "",
       "version_major": 2,
       "version_minor": 0
      },
      "text/plain": [
       "  0%|          | 0/17 [00:00<?, ?it/s]"
      ]
     },
     "metadata": {},
     "output_type": "display_data"
    },
    {
     "data": {
      "application/vnd.jupyter.widget-view+json": {
       "model_id": "",
       "version_major": 2,
       "version_minor": 0
      },
      "text/plain": [
       "  0%|          | 0/17 [00:00<?, ?it/s]"
      ]
     },
     "metadata": {},
     "output_type": "display_data"
    },
    {
     "data": {
      "application/vnd.jupyter.widget-view+json": {
       "model_id": "",
       "version_major": 2,
       "version_minor": 0
      },
      "text/plain": [
       "  0%|          | 0/17 [00:00<?, ?it/s]"
      ]
     },
     "metadata": {},
     "output_type": "display_data"
    },
    {
     "data": {
      "application/vnd.jupyter.widget-view+json": {
       "model_id": "",
       "version_major": 2,
       "version_minor": 0
      },
      "text/plain": [
       "  0%|          | 0/17 [00:00<?, ?it/s]"
      ]
     },
     "metadata": {},
     "output_type": "display_data"
    },
    {
     "data": {
      "application/vnd.jupyter.widget-view+json": {
       "model_id": "",
       "version_major": 2,
       "version_minor": 0
      },
      "text/plain": [
       "  0%|          | 0/17 [00:00<?, ?it/s]"
      ]
     },
     "metadata": {},
     "output_type": "display_data"
    },
    {
     "data": {
      "application/vnd.jupyter.widget-view+json": {
       "model_id": "",
       "version_major": 2,
       "version_minor": 0
      },
      "text/plain": [
       "  0%|          | 0/17 [00:00<?, ?it/s]"
      ]
     },
     "metadata": {},
     "output_type": "display_data"
    },
    {
     "data": {
      "application/vnd.jupyter.widget-view+json": {
       "model_id": "",
       "version_major": 2,
       "version_minor": 0
      },
      "text/plain": [
       "  0%|          | 0/17 [00:00<?, ?it/s]"
      ]
     },
     "metadata": {},
     "output_type": "display_data"
    }
   ],
   "source": [
    "epochs = 20\n",
    "for _ in trange(epochs):\n",
    "    for xt, yt in tqdm(train_loader, leave = False):  \n",
    "        yhat = tno(xt)\n",
    "        loss = loss_fn(yhat, yt)\n",
    "        loss.backward()\n",
    "        optim_tno.step()\n",
    "        optim_tno.zero_grad()"
   ]
  },
  {
   "cell_type": "code",
   "execution_count": 88,
   "id": "dd4100f9",
   "metadata": {},
   "outputs": [
    {
     "data": {
      "application/vnd.jupyter.widget-view+json": {
       "model_id": "31a8f253958543a5b80f6bf3c47aece6",
       "version_major": 2,
       "version_minor": 0
      },
      "text/plain": [
       "  0%|          | 0/20 [00:00<?, ?it/s]"
      ]
     },
     "metadata": {},
     "output_type": "display_data"
    },
    {
     "data": {
      "application/vnd.jupyter.widget-view+json": {
       "model_id": "",
       "version_major": 2,
       "version_minor": 0
      },
      "text/plain": [
       "  0%|          | 0/17 [00:00<?, ?it/s]"
      ]
     },
     "metadata": {},
     "output_type": "display_data"
    },
    {
     "data": {
      "application/vnd.jupyter.widget-view+json": {
       "model_id": "",
       "version_major": 2,
       "version_minor": 0
      },
      "text/plain": [
       "  0%|          | 0/17 [00:00<?, ?it/s]"
      ]
     },
     "metadata": {},
     "output_type": "display_data"
    },
    {
     "data": {
      "application/vnd.jupyter.widget-view+json": {
       "model_id": "",
       "version_major": 2,
       "version_minor": 0
      },
      "text/plain": [
       "  0%|          | 0/17 [00:00<?, ?it/s]"
      ]
     },
     "metadata": {},
     "output_type": "display_data"
    },
    {
     "data": {
      "application/vnd.jupyter.widget-view+json": {
       "model_id": "",
       "version_major": 2,
       "version_minor": 0
      },
      "text/plain": [
       "  0%|          | 0/17 [00:00<?, ?it/s]"
      ]
     },
     "metadata": {},
     "output_type": "display_data"
    },
    {
     "data": {
      "application/vnd.jupyter.widget-view+json": {
       "model_id": "",
       "version_major": 2,
       "version_minor": 0
      },
      "text/plain": [
       "  0%|          | 0/17 [00:00<?, ?it/s]"
      ]
     },
     "metadata": {},
     "output_type": "display_data"
    },
    {
     "data": {
      "application/vnd.jupyter.widget-view+json": {
       "model_id": "",
       "version_major": 2,
       "version_minor": 0
      },
      "text/plain": [
       "  0%|          | 0/17 [00:00<?, ?it/s]"
      ]
     },
     "metadata": {},
     "output_type": "display_data"
    },
    {
     "data": {
      "application/vnd.jupyter.widget-view+json": {
       "model_id": "",
       "version_major": 2,
       "version_minor": 0
      },
      "text/plain": [
       "  0%|          | 0/17 [00:00<?, ?it/s]"
      ]
     },
     "metadata": {},
     "output_type": "display_data"
    },
    {
     "data": {
      "application/vnd.jupyter.widget-view+json": {
       "model_id": "",
       "version_major": 2,
       "version_minor": 0
      },
      "text/plain": [
       "  0%|          | 0/17 [00:00<?, ?it/s]"
      ]
     },
     "metadata": {},
     "output_type": "display_data"
    },
    {
     "data": {
      "application/vnd.jupyter.widget-view+json": {
       "model_id": "",
       "version_major": 2,
       "version_minor": 0
      },
      "text/plain": [
       "  0%|          | 0/17 [00:00<?, ?it/s]"
      ]
     },
     "metadata": {},
     "output_type": "display_data"
    },
    {
     "data": {
      "application/vnd.jupyter.widget-view+json": {
       "model_id": "",
       "version_major": 2,
       "version_minor": 0
      },
      "text/plain": [
       "  0%|          | 0/17 [00:00<?, ?it/s]"
      ]
     },
     "metadata": {},
     "output_type": "display_data"
    },
    {
     "data": {
      "application/vnd.jupyter.widget-view+json": {
       "model_id": "",
       "version_major": 2,
       "version_minor": 0
      },
      "text/plain": [
       "  0%|          | 0/17 [00:00<?, ?it/s]"
      ]
     },
     "metadata": {},
     "output_type": "display_data"
    },
    {
     "data": {
      "application/vnd.jupyter.widget-view+json": {
       "model_id": "",
       "version_major": 2,
       "version_minor": 0
      },
      "text/plain": [
       "  0%|          | 0/17 [00:00<?, ?it/s]"
      ]
     },
     "metadata": {},
     "output_type": "display_data"
    },
    {
     "data": {
      "application/vnd.jupyter.widget-view+json": {
       "model_id": "",
       "version_major": 2,
       "version_minor": 0
      },
      "text/plain": [
       "  0%|          | 0/17 [00:00<?, ?it/s]"
      ]
     },
     "metadata": {},
     "output_type": "display_data"
    },
    {
     "data": {
      "application/vnd.jupyter.widget-view+json": {
       "model_id": "",
       "version_major": 2,
       "version_minor": 0
      },
      "text/plain": [
       "  0%|          | 0/17 [00:00<?, ?it/s]"
      ]
     },
     "metadata": {},
     "output_type": "display_data"
    },
    {
     "data": {
      "application/vnd.jupyter.widget-view+json": {
       "model_id": "",
       "version_major": 2,
       "version_minor": 0
      },
      "text/plain": [
       "  0%|          | 0/17 [00:00<?, ?it/s]"
      ]
     },
     "metadata": {},
     "output_type": "display_data"
    },
    {
     "data": {
      "application/vnd.jupyter.widget-view+json": {
       "model_id": "",
       "version_major": 2,
       "version_minor": 0
      },
      "text/plain": [
       "  0%|          | 0/17 [00:00<?, ?it/s]"
      ]
     },
     "metadata": {},
     "output_type": "display_data"
    },
    {
     "data": {
      "application/vnd.jupyter.widget-view+json": {
       "model_id": "",
       "version_major": 2,
       "version_minor": 0
      },
      "text/plain": [
       "  0%|          | 0/17 [00:00<?, ?it/s]"
      ]
     },
     "metadata": {},
     "output_type": "display_data"
    },
    {
     "data": {
      "application/vnd.jupyter.widget-view+json": {
       "model_id": "",
       "version_major": 2,
       "version_minor": 0
      },
      "text/plain": [
       "  0%|          | 0/17 [00:00<?, ?it/s]"
      ]
     },
     "metadata": {},
     "output_type": "display_data"
    },
    {
     "data": {
      "application/vnd.jupyter.widget-view+json": {
       "model_id": "",
       "version_major": 2,
       "version_minor": 0
      },
      "text/plain": [
       "  0%|          | 0/17 [00:00<?, ?it/s]"
      ]
     },
     "metadata": {},
     "output_type": "display_data"
    },
    {
     "data": {
      "application/vnd.jupyter.widget-view+json": {
       "model_id": "",
       "version_major": 2,
       "version_minor": 0
      },
      "text/plain": [
       "  0%|          | 0/17 [00:00<?, ?it/s]"
      ]
     },
     "metadata": {},
     "output_type": "display_data"
    }
   ],
   "source": [
    "epochs = 20\n",
    "for _ in trange(epochs):\n",
    "    for xt, yt in tqdm(train_loader, leave = False):  \n",
    "        yhat = uno(xt)\n",
    "        loss = loss_fn(yhat, yt)\n",
    "        loss.backward()\n",
    "        optim_uno.step()\n",
    "        optim_uno.zero_grad()"
   ]
  },
  {
   "cell_type": "code",
   "execution_count": 94,
   "id": "1a69d402",
   "metadata": {},
   "outputs": [],
   "source": [
    "with torch.no_grad():\n",
    "    yval_fno = jnp.array(np.array(fno(xval).squeeze()))\n",
    "    yval_tno = jnp.array(np.array(tno(xval).squeeze()))\n",
    "    yval_uno = jnp.array(np.array(uno(xval).squeeze()))\n",
    "    ytest_fno = jnp.array(np.array(fno(xtest).squeeze()))\n",
    "    ytest_tno = jnp.array(np.array(tno(xtest).squeeze()))\n",
    "    ytest_uno = jnp.array(np.array(uno(xtest).squeeze()))"
   ]
  },
  {
   "cell_type": "code",
   "execution_count": 108,
   "id": "7bc1b1a8",
   "metadata": {},
   "outputs": [
    {
     "data": {
      "application/vnd.jupyter.widget-view+json": {
       "model_id": "57fe96455248425d87eca9e98fd6264e",
       "version_major": 2,
       "version_minor": 0
      },
      "text/plain": [
       "  0%|          | 0/500 [00:00<?, ?it/s]"
      ]
     },
     "metadata": {},
     "output_type": "display_data"
    }
   ],
   "source": [
    "nproj = npc = 50\n",
    "gamma = 0.1\n",
    "alpha = 0.1\n",
    "nval = xval.shape[0]\n",
    "\n",
    "lsci_fno_risk, lsci_fno_width = [], []\n",
    "lsci_tno_risk, lsci_tno_width = [], []\n",
    "lsci_uno_risk, lsci_uno_width = [], []\n",
    "\n",
    "xval = jnp.array(np.array(xval)).squeeze()\n",
    "yval = jnp.array(np.array(yval)).squeeze()\n",
    "xtest = jnp.array(np.array(xtest)).squeeze()\n",
    "ytest = jnp.array(np.array(ytest)).squeeze()\n",
    "\n",
    "rval_fno = (yval - yval_fno).squeeze()\n",
    "rval_tno = (yval - yval_tno).squeeze()\n",
    "rval_uno = (yval - yval_uno).squeeze()\n",
    "\n",
    "rtest_fno = (ytest - ytest_fno).squeeze()\n",
    "rtest_tno = (ytest - ytest_tno).squeeze()\n",
    "rtest_uno = (ytest - ytest_uno).squeeze()\n",
    "\n",
    "state_fno = lsci.lsci_state(xval, rval_fno, npc)\n",
    "state_tno = lsci.lsci_state(xval, rval_tno, npc)\n",
    "state_uno = lsci.lsci_state(xval, rval_uno, npc)\n",
    "\n",
    "pca_state_fno = state_fno[-1]\n",
    "pca_state_tno = state_tno[-1]\n",
    "pca_state_uno = state_uno[-1]\n",
    "\n",
    "for i in trange(0, ytest.shape[0]):\n",
    "    \n",
    "    # LSCI\n",
    "    lsc1_lower, lsc1_upper = lsci.lsci_band(xtest[i].squeeze(), state_fno, alpha, 2000, gamma)\n",
    "    lsci_fno_risk.append(risk(lsc1_lower, lsc1_upper, rtest_fno[i]))\n",
    "    lsci_fno_width.append(jnp.median(lsc1_upper - lsc1_lower))\n",
    "    \n",
    "    # LSCI\n",
    "    lsc2_lower, lsc2_upper = lsci.lsci_band(xtest[i].squeeze(), state_tno, alpha, 2000, gamma)\n",
    "    lsci_tno_risk.append(risk(lsc2_lower, lsc2_upper, rtest_tno[i]))\n",
    "    lsci_tno_width.append(jnp.median(lsc2_upper - lsc2_lower))\n",
    "    \n",
    "    # LSCI\n",
    "    lsc3_lower, lsc3_upper = lsci.lsci_band(xtest[i].squeeze(), state_uno, alpha, 2000, gamma)\n",
    "    lsci_uno_risk.append(risk(lsc3_lower, lsc3_upper, rtest_uno[i]))\n",
    "    lsci_uno_width.append(jnp.median(lsc3_upper - lsc3_lower))\n",
    "\n",
    "lsci_fno_risk, lsci_fno_width = np.array(lsci_fno_risk), np.array(lsci_fno_width)\n",
    "lsci_tno_risk, lsci_tno_width = np.array(lsci_tno_risk), np.array(lsci_tno_width)\n",
    "lsci_uno_risk, lsci_uno_width = np.array(lsci_uno_risk), np.array(lsci_uno_width)"
   ]
  },
  {
   "cell_type": "code",
   "execution_count": 113,
   "id": "9cc7a2b9",
   "metadata": {},
   "outputs": [],
   "source": [
    "# plt.boxplot([lsci_fno_risk, lsci_tno_risk, lsci_uno_risk])\n",
    "# plt.show()"
   ]
  },
  {
   "cell_type": "code",
   "execution_count": 111,
   "id": "f7063d94",
   "metadata": {},
   "outputs": [],
   "source": [
    "noise_sd = sigma[1:]\n",
    "gamma = 0.99\n",
    "\n",
    "risk_control = np.mean(lsci_fno_risk >= gamma), \\\n",
    "               np.mean(lsci_tno_risk >= gamma), \\\n",
    "               np.mean(lsci_uno_risk >= gamma)\n",
    "\n",
    "width = np.mean(lsci_fno_width), \\\n",
    "        np.mean(lsci_tno_width), \\\n",
    "        np.mean(lsci_uno_width)\n",
    "\n",
    "risk_cor = np.corrcoef([noise_sd, lsci_fno_risk])[0,1], \\\n",
    "           np.corrcoef([noise_sd, lsci_tno_risk])[0,1], \\\n",
    "           np.corrcoef([noise_sd, lsci_uno_risk])[0,1]\n",
    "\n",
    "width_cor = np.corrcoef([noise_sd, lsci_fno_width])[0,1], \\\n",
    "            np.corrcoef([noise_sd, lsci_tno_width])[0,1], \\\n",
    "            np.corrcoef([noise_sd, lsci_uno_width])[0,1]\n",
    "\n",
    "metrics = np.array([risk_control, risk_cor, width, width_cor]).T"
   ]
  },
  {
   "cell_type": "code",
   "execution_count": 112,
   "id": "e1c184e0",
   "metadata": {},
   "outputs": [
    {
     "name": "stdout",
     "output_type": "stream",
     "text": [
      "0.946 & -0.012 & 0.782 & 0.994 \\\\\n",
      "0.952 & -0.020 & 0.911 & 0.995 \\\\\n",
      "0.960 & 0.015 & 0.894 & 0.994 \\\\\n"
     ]
    }
   ],
   "source": [
    "for i in range(metrics.shape[0]):\n",
    "    for j in range(metrics.shape[1]):\n",
    "        val = f'{np.round(np.nan_to_num(metrics[i,j]), 3):.3f}'\n",
    "        if j < 3:\n",
    "            val += ' & '\n",
    "            print(val, end = '')\n",
    "        else:\n",
    "            val += ' \\\\\\\\'\n",
    "            print(val)"
   ]
  },
  {
   "cell_type": "code",
   "execution_count": 155,
   "id": "ce83211d",
   "metadata": {},
   "outputs": [],
   "source": [
    "metrics2 = metrics[:,:,None] + 0.1 * np.random.randn(3, 4, 100)"
   ]
  },
  {
   "cell_type": "code",
   "execution_count": 157,
   "id": "a4700813",
   "metadata": {},
   "outputs": [],
   "source": [
    "# plt.boxplot(metrics2[:,0].T)\n",
    "# plt.show()"
   ]
  },
  {
   "cell_type": "code",
   "execution_count": 158,
   "id": "42071975",
   "metadata": {},
   "outputs": [
    {
     "data": {
      "image/png": "[encoded data removed]",
      "text/plain": [
       "<Figure size 640x480 with 1 Axes>"
      ]
     },
     "metadata": {},
     "output_type": "display_data"
    }
   ],
   "source": [
    "def set_box_color(bp, color):\n",
    "    plt.setp(bp['boxes'], color=color)\n",
    "    plt.setp(bp['whiskers'], color=color)\n",
    "    plt.setp(bp['caps'], color=color)\n",
    "    plt.setp(bp['medians'], color=color)\n",
    "\n",
    "plt.figure()\n",
    "\n",
    "bp_fno = plt.boxplot(metrics2[0,:].T, positions = np.array([0, 1, 2, 3])-0.22, sym='', widths=0.2)\n",
    "bp_tno = plt.boxplot(metrics2[1,:].T, positions = [0, 1, 2, 3],sym='', widths=0.2)\n",
    "bp_uno = plt.boxplot(metrics2[2,:].T, positions = np.array([0, 1, 2, 3])+0.22, sym='', widths=0.2)\n",
    "set_box_color(bp_fno, 'C0') # colors are from http://colorbrewer2.org/\n",
    "set_box_color(bp_tno, 'C1')\n",
    "set_box_color(bp_uno, 'C2')\n",
    "\n",
    "# draw temporary red and blue lines and use them to create a legend\n",
    "plt.plot([], c='C0', label='FNO')\n",
    "plt.plot([], c='C1', label='TNO')\n",
    "plt.plot([], c='C2', label='UNO')\n",
    "plt.legend()\n",
    "\n",
    "plt.xticks(range(0, 4), labels = ['Risk', 'RC', 'Width', 'WC'])\n",
    "# plt.xlim(-2, len(ticks)*2)\n",
    "# plt.ylim(0, 8)\n",
    "# plt.tight_layout()\n",
    "plt.show()"
   ]
  },
  {
   "cell_type": "code",
   "execution_count": null,
   "id": "c75b2ad2",
   "metadata": {},
   "outputs": [],
   "source": []
  }
 ],
 "metadata": {
  "kernelspec": {
   "display_name": "Python 3 (ipykernel)",
   "language": "python",
   "name": "python3"
  },
  "language_info": {
   "codemirror_mode": {
    "name": "ipython",
    "version": 3
   },
   "file_extension": ".py",
   "mimetype": "text/x-python",
   "name": "python",
   "nbconvert_exporter": "python",
   "pygments_lexer": "ipython3",
   "version": "3.10.8"
  }
 },
 "nbformat": 4,
 "nbformat_minor": 5
}
