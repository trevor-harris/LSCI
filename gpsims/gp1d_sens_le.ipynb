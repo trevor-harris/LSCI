{
 "cells": [
  {
   "cell_type": "code",
   "execution_count": 3,
   "id": "0b7ab1aa",
   "metadata": {},
   "outputs": [],
   "source": [
    "import math\n",
    "import numpy as np\n",
    "import matplotlib\n",
    "import matplotlib.pyplot as plt\n",
    "\n",
    "import jax\n",
    "import jax.numpy as jnp\n",
    "import jax.scipy.stats as stats\n",
    "from jax import jacfwd, jacrev\n",
    "from jax import vmap, grad, jit, random\n",
    "from jax.tree_util import tree_map, tree_flatten, tree_unflatten, tree_leaves\n",
    "\n",
    "from flax import nnx\n",
    "import optax\n",
    "import pcax\n",
    "\n",
    "from tqdm.notebook import tqdm\n",
    "from tqdm.notebook import trange\n",
    "\n",
    "import torch\n",
    "import torch_harmonics as th\n",
    "from torch_harmonics.random_fields import GaussianRandomFieldS2\n",
    "\n",
    "from torch.utils.data import DataLoader, TensorDataset\n",
    "\n",
    "import os\n",
    "os.chdir('../methods')\n",
    "import lsci, supr, conf, uqno, prob_don, quant_don, gaus\n",
    "os.chdir('../gpsims')\n",
    "\n",
    "os.chdir('../models_and_metrics')\n",
    "from models import *\n",
    "from metrics import * \n",
    "from utility import *\n",
    "os.chdir('../gpsims')"
   ]
  },
  {
   "cell_type": "code",
   "execution_count": 4,
   "id": "5ea9555a",
   "metadata": {},
   "outputs": [],
   "source": [
    "kernel = jnp.ones(5)/5\n",
    "\n",
    "rng0 = 0\n",
    "rng = random.PRNGKey(rng0)\n",
    "key1, key2, key3 = random.split(rng, 3)\n",
    "\n",
    "### train\n",
    "n, p = 1000, 50\n",
    "beta = random.normal(rng, (5,))\n",
    "bias = 1\n",
    "\n",
    "xtrain = conv(conv(random.normal(key1, (n, p)), kernel), kernel)\n",
    "sigma = jnp.std(xtrain, axis = 1)\n",
    "sigma = sigma - jnp.mean(sigma) + 1\n",
    "epsilon = sigma[:,None] * conv(conv(random.normal(key2, (n, p)), kernel), kernel)\n",
    "\n",
    "ytrain = bias + conv(xtrain, beta) + epsilon\n",
    "xtrain = xtrain[:,None,:,None]\n",
    "ytrain = ytrain[:,None,:,None]\n",
    "\n",
    "### valid\n",
    "rng0 += 1\n",
    "rng = random.PRNGKey(rng0)\n",
    "key1, key2, key3 = random.split(rng, 3)\n",
    "\n",
    "xval = conv(conv(random.normal(key1, (n, p)), kernel), kernel)\n",
    "sigma = jnp.std(xval, axis = 1)\n",
    "sigma = sigma - jnp.mean(sigma) + 1\n",
    "epsilon = sigma[:,None] * conv(conv(random.normal(key2, (n, p)), kernel), kernel)\n",
    "\n",
    "yval = bias + conv(xval, beta) + epsilon\n",
    "xval = xval[:,None,:,None]\n",
    "yval = yval[:,None,:,None]\n",
    "\n",
    "\n",
    "### test\n",
    "ntest = 250\n",
    "rng0 += 1\n",
    "rng = random.PRNGKey(rng0)\n",
    "key1, key2, key3 = random.split(rng, 3)\n",
    "\n",
    "xtest = conv(conv(random.normal(key1, (ntest, p)), kernel), kernel)\n",
    "sigma = jnp.std(xtest, axis = 1)\n",
    "sigma = sigma - jnp.mean(sigma) + 1\n",
    "epsilon = sigma[:,None] * conv(conv(random.normal(key2, (ntest, p)), kernel), kernel)\n",
    "\n",
    "ytest = bias + conv(xtest, beta) + epsilon\n",
    "xtest = xtest[:,None,:,None]\n",
    "ytest = ytest[:,None,:,None]"
   ]
  },
  {
   "cell_type": "code",
   "execution_count": 5,
   "id": "a0fe84a6",
   "metadata": {},
   "outputs": [],
   "source": [
    "train_data = TensorDataset(jax2torch(xtrain), jax2torch(ytrain))\n",
    "train_loader = DataLoader(train_data, batch_size = 30, shuffle = True)"
   ]
  },
  {
   "cell_type": "code",
   "execution_count": 6,
   "id": "91c90588",
   "metadata": {},
   "outputs": [
    {
     "data": {
      "application/vnd.jupyter.widget-view+json": {
       "model_id": "bade8cac6b8844e586aa46c3d00096c9",
       "version_major": 2,
       "version_minor": 0
      },
      "text/plain": [
       "  0%|          | 0/100 [00:00<?, ?it/s]"
      ]
     },
     "metadata": {},
     "output_type": "display_data"
    }
   ],
   "source": [
    "epochs = 100\n",
    "trace = []\n",
    "lag, lead = 1, 1\n",
    "\n",
    "model = DeepANO(lag, 50, lead, rngs=nnx.Rngs(0))\n",
    "optim = nnx.Optimizer(model, optax.adam(1e-3))\n",
    "rng = random.PRNGKey(0)\n",
    "\n",
    "for _ in trange(epochs):\n",
    "    for xt, yt in train_loader:\n",
    "        xt = torch2jax(xt)\n",
    "        yt = torch2jax(yt)\n",
    "        \n",
    "        loss = train_step(model, optim, xt, yt)\n",
    "        trace.append(loss)\n",
    "\n",
    "model.eval()"
   ]
  },
  {
   "cell_type": "code",
   "execution_count": 7,
   "id": "45694d1a-ffee-4d0e-828c-b837c9e84385",
   "metadata": {},
   "outputs": [],
   "source": [
    "yval_hat = model(xval)\n",
    "ytest_hat = model(xtest)"
   ]
  },
  {
   "cell_type": "code",
   "execution_count": 14,
   "id": "f1401781-a28c-4383-8d07-0919d1a34581",
   "metadata": {
    "scrolled": true
   },
   "outputs": [
    {
     "data": {
      "application/vnd.jupyter.widget-view+json": {
       "model_id": "6a6ec69eb147473da793913f3a7d92a6",
       "version_major": 2,
       "version_minor": 0
      },
      "text/plain": [
       "  0%|          | 0/250 [00:00<?, ?it/s]"
      ]
     },
     "metadata": {},
     "output_type": "display_data"
    }
   ],
   "source": [
    "nproj = npc = 25\n",
    "gamma1 = 0.1\n",
    "gamma2 = 0.05\n",
    "alpha = 0.1\n",
    "nval = xval.shape[0]\n",
    "\n",
    "gamma_seq = [0.025, 0.05, 0.1, 0.25, 0.5, 0.9]\n",
    "m = len(gamma_seq)\n",
    "\n",
    "lsci_risk = []\n",
    "lsci_width = []\n",
    "lsci_time = []\n",
    "\n",
    "yval_hat = model(xval)\n",
    "ytest_hat = model(xtest)\n",
    "\n",
    "yval = yval.reshape(yval.shape[0], -1)\n",
    "yval_hat = yval_hat.reshape(yval_hat.shape[0], -1)\n",
    "\n",
    "rval = (yval - yval_hat).squeeze()\n",
    "rtest = (ytest - ytest_hat).squeeze()\n",
    "state = lsci.lsci_state(xval.squeeze(), rval, npc)\n",
    "pca_state = state[-1]\n",
    "\n",
    "\n",
    "conf_lower, conf_upper = conf.conf_band(rval, pca_state, alpha)\n",
    "conf_risk = []\n",
    "conf_width = []\n",
    "\n",
    "for i in trange(0, ntest):\n",
    "    # LSCI\n",
    "    _rc = np.zeros(m)\n",
    "    _width = np.zeros(m)\n",
    "    for j in range(m):\n",
    "        lsc_lower, lsc_upper = lsci.lsci_band(xtest[i].squeeze(), state, alpha, 2000, gamma_seq[j])\n",
    "        _rc[j] = risk(lsc_lower, lsc_upper, rtest[i])\n",
    "        _width[j] = jnp.median(lsc_upper - lsc_lower)\n",
    "        \n",
    "    lsci_risk.append(_rc)\n",
    "    lsci_width.append(_width)\n",
    "    \n",
    "    conf_risk.append(risk(conf_lower, conf_upper, rtest[i]))\n",
    "    conf_width.append(jnp.mean(conf_upper - conf_lower))\n",
    "    \n",
    "lsci_risk = np.array(lsci_risk)\n",
    "conf_risk = np.array(conf_risk)\n",
    "lsci_width = np.array(lsci_width)\n",
    "conf_width = np.array(conf_width)\n",
    "\n",
    "metrics1 = [lsci_risk, lsci_width, conf_risk, conf_width]"
   ]
  },
  {
   "cell_type": "code",
   "execution_count": 15,
   "id": "38dd84bb-adef-4447-9ecc-c694ecaaecce",
   "metadata": {},
   "outputs": [
    {
     "data": {
      "application/vnd.jupyter.widget-view+json": {
       "model_id": "dbe42e7ed9cc4008af3a34479bb48ba5",
       "version_major": 2,
       "version_minor": 0
      },
      "text/plain": [
       "  0%|          | 0/250 [00:00<?, ?it/s]"
      ]
     },
     "metadata": {},
     "output_type": "display_data"
    }
   ],
   "source": [
    "nsamp_seq = [125, 250, 500, 1000, 2000, 4000]\n",
    "m = len(gamma_seq)\n",
    "\n",
    "lsci_risk = []\n",
    "lsci_width = []\n",
    "lsci_time = []\n",
    "\n",
    "yval_hat = model(xval)\n",
    "ytest_hat = model(xtest)\n",
    "\n",
    "yval = yval.reshape(yval.shape[0], -1)\n",
    "yval_hat = yval_hat.reshape(yval_hat.shape[0], -1)\n",
    "\n",
    "rval = (yval - yval_hat).squeeze()\n",
    "rtest = (ytest - ytest_hat).squeeze()\n",
    "state = lsci.lsci_state(xval.squeeze(), rval, npc)\n",
    "pca_state = state[-1]\n",
    "\n",
    "conf_lower, conf_upper = conf.conf_band(rval, pca_state, alpha)\n",
    "conf_risk = []\n",
    "conf_width = []\n",
    "\n",
    "for i in trange(0, ntest):\n",
    "    # LSCI\n",
    "    _rc = np.zeros(m)\n",
    "    _width = np.zeros(m)\n",
    "    for j in range(m):\n",
    "        lsc_lower, lsc_upper = lsci.lsci_band(xtest[i].squeeze(), state, alpha, nsamp_seq[j], 0.1)\n",
    "        _rc[j] = risk(lsc_lower, lsc_upper, rtest[i])\n",
    "        _width[j] = jnp.median(lsc_upper - lsc_lower)\n",
    "        \n",
    "    lsci_risk.append(_rc)\n",
    "    lsci_width.append(_width)\n",
    "    \n",
    "    conf_risk.append(risk(conf_lower, conf_upper, rtest[i]))\n",
    "    conf_width.append(jnp.mean(conf_upper - conf_lower))\n",
    "    \n",
    "lsci_risk = np.array(lsci_risk)\n",
    "conf_risk = np.array(conf_risk)\n",
    "lsci_width = np.array(lsci_width)\n",
    "conf_width = np.array(conf_width)\n",
    "\n",
    "metrics2 = [lsci_risk, lsci_width, conf_risk, conf_width]"
   ]
  },
  {
   "cell_type": "code",
   "execution_count": 19,
   "id": "ca1263b2-f34e-4328-8f31-b685604f9336",
   "metadata": {},
   "outputs": [
    {
     "data": {
      "image/png": "[encoded data removed]",
      "text/plain": [
       "<Figure size 1800x400 with 4 Axes>"
      ]
     },
     "metadata": {},
     "output_type": "display_data"
    }
   ],
   "source": [
    "fig, ax = plt.subplots(1, 4, constrained_layout = True, figsize = (18, 4))\n",
    "\n",
    "lsci_risk, lsci_width, conf_risk, conf_width = metrics1\n",
    "ax[0].boxplot(lsci_width, tick_labels = gamma_seq, label = 'LSCI')\n",
    "ax[0].axhline(np.mean(conf_width), c = 'C0', label = 'Conf')\n",
    "ax[0].set_title('Prediction set width ($n_{s} = 2000$)', fontsize = 18)\n",
    "ax[0].set_xlabel('$k$', fontsize = 18)\n",
    "ax[0].set_xticklabels(gamma_seq, fontsize = 14)\n",
    "ax[0].legend(loc = 'lower right')\n",
    "\n",
    "ax[1].plot(np.mean(lsci_risk >= 0.99, axis = 0), c = 'C1', marker = 'o', label = 'LSCI')\n",
    "ax[1].axhline(np.mean(conf_risk >= 0.99, axis = 0), label = 'Conf')\n",
    "ax[1].axhline(0.9, c = 'black', label = 'Nominal')\n",
    "ax[1].set_xticks(np.arange(6))\n",
    "ax[1].set_xticklabels(gamma_seq, fontsize = 14)\n",
    "ax[1].set_title('Empirical risk ($n_{s} = 2000$)', fontsize = 18)\n",
    "ax[1].set_xlabel('$k$', fontsize = 18)\n",
    "ax[1].legend(loc = 'lower right')\n",
    "\n",
    "lsci_risk, lsci_width, conf_risk, conf_width = metrics2\n",
    "ax[2].boxplot(lsci_width, tick_labels = nsamp_seq, label = 'LSCI')\n",
    "ax[2].axhline(np.mean(conf_width), c = 'C0', label = 'Conf')\n",
    "ax[2].set_title('Prediction set width ($k = 0.1$)', fontsize = 18)\n",
    "ax[2].set_xlabel('$n_{s}$', fontsize = 18)\n",
    "ax[2].set_xticklabels(nsamp_seq, fontsize = 14)\n",
    "ax[2].legend(loc = 'lower right')\n",
    "\n",
    "ax[3].plot(np.mean(lsci_risk >= 0.99, axis = 0), c = 'C1', marker = 'o', label = 'LSCI')\n",
    "ax[3].axhline(np.mean(conf_risk >= 0.99, axis = 0), label = 'Conf')\n",
    "ax[3].axhline(0.9, c = 'black', label = 'Nominal')\n",
    "ax[3].set_xticks(np.arange(6))\n",
    "ax[3].set_xticklabels(nsamp_seq, fontsize = 14)\n",
    "ax[3].set_title('Empirical risk ($k = 0.1$)', fontsize = 18)\n",
    "ax[3].set_xlabel('$n_{s}$', fontsize = 18)\n",
    "ax[3].legend(loc = 'lower right')\n",
    "plt.show()"
   ]
  },
  {
   "cell_type": "code",
   "execution_count": null,
   "id": "e718de01-029b-4641-ac71-8a9bf1fedac0",
   "metadata": {},
   "outputs": [],
   "source": []
  },
  {
   "cell_type": "code",
   "execution_count": null,
   "id": "fc5bcf76-7903-4c99-9ef2-34ba7530161d",
   "metadata": {},
   "outputs": [],
   "source": []
  },
  {
   "cell_type": "code",
   "execution_count": null,
   "id": "4c26c6b9-7150-444f-857b-af03fd058f0b",
   "metadata": {},
   "outputs": [],
   "source": [
    "nproj = 40\n",
    "alpha = 0.1\n",
    "nval = xval.shape[0]\n",
    "\n",
    "fpc_seq = [5, 10, 20, 30, 40, 50]\n",
    "m = len(gamma_seq)\n",
    "\n",
    "lsci_risk = []\n",
    "lsci_width = []\n",
    "lsci_time = []\n",
    "\n",
    "yval_hat = model(xval)\n",
    "ytest_hat = model(xtest)\n",
    "\n",
    "yval = yval.reshape(yval.shape[0], -1)\n",
    "yval_hat = yval_hat.reshape(yval_hat.shape[0], -1)\n",
    "state = lsci.lsci_state(xval.squeeze(), rval, npc)\n",
    "pca_state = state[-1]\n",
    "\n",
    "rval = (yval - yval_hat).squeeze()\n",
    "rtest = (ytest - ytest_hat).squeeze()\n",
    "\n",
    "conf_lower, conf_upper = conf.conf_band(rval, pca_state, alpha)\n",
    "conf_risk = []\n",
    "conf_width = []\n",
    "\n",
    "for i in trange(0, ntest):\n",
    "    # LSCI\n",
    "    _rc = np.zeros(m)\n",
    "    _width = np.zeros(m)\n",
    "    for j in trange(m, leave = False):\n",
    "        lsc_lower, lsc_upper = lsci.lsci_band(xtest[i].squeeze(), state, alpha, 2000, 0.1)\n",
    "        _rc[j] = risk(lsc_lower, lsc_upper, rtest[i])\n",
    "        _width[j] = jnp.median(lsc_upper - lsc_lower)\n",
    "        \n",
    "    lsci_risk.append(_rc)\n",
    "    lsci_width.append(_width)\n",
    "    \n",
    "    conf_risk.append(risk(conf_lower, conf_upper, rtest[i]))\n",
    "    conf_width.append(jnp.mean(conf_upper - conf_lower))\n",
    "    \n",
    "lsci_risk = np.array(lsci_risk)\n",
    "conf_risk = np.array(conf_risk)\n",
    "lsci_width = np.array(lsci_width)\n",
    "conf_width = np.array(conf_width)\n",
    "\n",
    "metrics2 = [lsci_risk, lsci_width, conf_risk, conf_width]"
   ]
  },
  {
   "cell_type": "code",
   "execution_count": null,
   "id": "492e8fd7-054f-451d-a295-904dbaa8fb43",
   "metadata": {},
   "outputs": [],
   "source": []
  },
  {
   "cell_type": "code",
   "execution_count": 45,
   "id": "c88ad8de",
   "metadata": {},
   "outputs": [],
   "source": [
    "# rng = random.PRNGKey(0)\n",
    "# ind = random.randint(rng, (n,), 0, n)\n",
    "\n",
    "# # sigma = 0.25 * (1.15 + sd)\n",
    "# res_sd = sigma[:ntest]\n",
    "# rcc_lsci = [np.corrcoef([lsci_risk[:,i] >= 0.99, res_sd])[0,1] for i in range(6)]"
   ]
  },
  {
   "cell_type": "code",
   "execution_count": 46,
   "id": "66d1851c",
   "metadata": {},
   "outputs": [],
   "source": [
    "# rcc_lsci = [np.corrcoef([lsci_risk[:,i] >= 0.99, res_sd])[0,1] for i in range(6)]\n",
    "# rcc_conf = np.corrcoef([conf_risk >= 0.99, res_sd])[0,1]"
   ]
  },
  {
   "cell_type": "code",
   "execution_count": 47,
   "id": "132c10f6-265e-40f5-84d9-811f7b5bc78c",
   "metadata": {},
   "outputs": [
    {
     "data": {
      "image/png": "[encoded data removed]",
      "text/plain": [
       "<Figure size 1500x400 with 3 Axes>"
      ]
     },
     "metadata": {},
     "output_type": "display_data"
    }
   ],
   "source": [
    "fig, ax = plt.subplots(1, 3, constrained_layout = True, figsize = (15, 4))\n",
    "\n",
    "ax[0].boxplot(lsci_width, tick_labels = gamma_seq, label = 'LSCI')\n",
    "ax[0].axhline(np.mean(conf_width), c = 'C0', label = 'Conf')\n",
    "ax[0].set_title('Prediction set width', fontsize = 18)\n",
    "ax[0].set_xlabel('$k$', fontsize = 18)\n",
    "ax[0].legend()\n",
    "\n",
    "ax[1].plot(np.mean(lsci_risk >= 0.99, axis = 0), c = 'C1', marker = 'o', label = 'LSCI')\n",
    "ax[1].axhline(np.mean(conf_risk >= 0.99, axis = 0), label = 'Conf')\n",
    "ax[1].axhline(0.9, c = 'black', label = 'Nominal')\n",
    "ax[1].set_xticks(np.arange(6))\n",
    "ax[1].set_xticklabels(gamma_seq, fontsize = 14)\n",
    "ax[1].set_title('Empirical risk', fontsize = 18)\n",
    "ax[1].set_xlabel('$k$', fontsize = 18)\n",
    "ax[1].legend()\n",
    "\n",
    "ax[2].plot(rcc_lsci, marker = 'o', c = 'C1', label = 'LSCI')\n",
    "ax[2].axhline(0.0, c = 'black')\n",
    "ax[2].axhline(rcc_conf, c = 'C0', label = 'Conf')\n",
    "ax[2].set_xticks(np.arange(6))\n",
    "ax[2].set_xticklabels(gamma_seq, fontsize = 14)\n",
    "ax[2].set_title('Risk correlation', fontsize = 18)\n",
    "ax[2].set_xlabel('$k$', fontsize = 18)\n",
    "ax[2].legend()\n",
    "\n",
    "plt.show()"
   ]
  },
  {
   "cell_type": "code",
   "execution_count": 37,
   "id": "9ae18612",
   "metadata": {},
   "outputs": [
    {
     "data": {
      "image/png": "[encoded data removed]",
      "text/plain": [
       "<Figure size 1500x400 with 3 Axes>"
      ]
     },
     "metadata": {},
     "output_type": "display_data"
    }
   ],
   "source": [
    "fig, ax = plt.subplots(1, 3, constrained_layout = True, figsize = (15, 4))\n",
    "\n",
    "ax[0].boxplot(lsci_width, tick_labels = gamma_seq, label = 'LSCI')\n",
    "ax[0].axhline(np.mean(conf_width), c = 'C0', label = 'Conf')\n",
    "ax[0].set_title('Prediction set width', fontsize = 18)\n",
    "ax[0].set_xlabel('$k$', fontsize = 18)\n",
    "ax[0].legend()\n",
    "\n",
    "ax[1].plot(np.mean(lsci_risk >= 0.99, axis = 0), c = 'C1', marker = 'o', label = 'LSCI')\n",
    "ax[1].axhline(np.mean(conf_risk >= 0.99, axis = 0), label = 'Conf')\n",
    "ax[1].axhline(0.9, c = 'black', label = 'Nominal')\n",
    "ax[1].set_xticks(np.arange(6))\n",
    "ax[1].set_xticklabels(gamma_seq, fontsize = 14)\n",
    "ax[1].set_title('Empirical risk', fontsize = 18)\n",
    "ax[1].set_xlabel('$k$', fontsize = 18)\n",
    "ax[1].legend()\n",
    "\n",
    "ax[2].plot(rcc_lsci, marker = 'o', c = 'C1', label = 'LSCI')\n",
    "ax[2].axhline(0.0, c = 'black')\n",
    "ax[2].axhline(rcc_conf, c = 'C0', label = 'Conf')\n",
    "ax[2].set_xticks(np.arange(6))\n",
    "ax[2].set_xticklabels(gamma_seq, fontsize = 14)\n",
    "ax[2].set_title('Risk correlation', fontsize = 18)\n",
    "ax[2].set_xlabel('$k$', fontsize = 18)\n",
    "ax[2].legend()\n",
    "\n",
    "plt.show()"
   ]
  },
  {
   "cell_type": "code",
   "execution_count": 48,
   "id": "c3801c1e",
   "metadata": {},
   "outputs": [
    {
     "data": {
      "application/vnd.jupyter.widget-view+json": {
       "model_id": "df11e4fb95a94244b836cec1001b12f7",
       "version_major": 2,
       "version_minor": 0
      },
      "text/plain": [
       "  0%|          | 0/250 [00:00<?, ?it/s]"
      ]
     },
     "metadata": {},
     "output_type": "display_data"
    },
    {
     "data": {
      "application/vnd.jupyter.widget-view+json": {
       "model_id": "6a9c75982a074246871808a3d948c9a7",
       "version_major": 2,
       "version_minor": 0
      },
      "text/plain": [
       "  0%|          | 0/6 [00:00<?, ?it/s]"
      ]
     },
     "metadata": {},
     "output_type": "display_data"
    },
    {
     "data": {
      "application/vnd.jupyter.widget-view+json": {
       "model_id": "20f4fa13c5fe4b6c97069f48259c3da9",
       "version_major": 2,
       "version_minor": 0
      },
      "text/plain": [
       "  0%|          | 0/6 [00:00<?, ?it/s]"
      ]
     },
     "metadata": {},
     "output_type": "display_data"
    },
    {
     "data": {
      "application/vnd.jupyter.widget-view+json": {
       "model_id": "d9d9093df66f4cd8978d3d536e4a4557",
       "version_major": 2,
       "version_minor": 0
      },
      "text/plain": [
       "  0%|          | 0/6 [00:00<?, ?it/s]"
      ]
     },
     "metadata": {},
     "output_type": "display_data"
    },
    {
     "data": {
      "application/vnd.jupyter.widget-view+json": {
       "model_id": "176a6607c58044f0b60a8b7e7604a0fa",
       "version_major": 2,
       "version_minor": 0
      },
      "text/plain": [
       "  0%|          | 0/6 [00:00<?, ?it/s]"
      ]
     },
     "metadata": {},
     "output_type": "display_data"
    },
    {
     "data": {
      "application/vnd.jupyter.widget-view+json": {
       "model_id": "ee3006cd5ae44f03839cc83de1a4182b",
       "version_major": 2,
       "version_minor": 0
      },
      "text/plain": [
       "  0%|          | 0/6 [00:00<?, ?it/s]"
      ]
     },
     "metadata": {},
     "output_type": "display_data"
    },
    {
     "data": {
      "application/vnd.jupyter.widget-view+json": {
       "model_id": "2baf50203cfe441c97099ea82abca10f",
       "version_major": 2,
       "version_minor": 0
      },
      "text/plain": [
       "  0%|          | 0/6 [00:00<?, ?it/s]"
      ]
     },
     "metadata": {},
     "output_type": "display_data"
    },
    {
     "data": {
      "application/vnd.jupyter.widget-view+json": {
       "model_id": "463ad9653e244e42958c34865f67ce22",
       "version_major": 2,
       "version_minor": 0
      },
      "text/plain": [
       "  0%|          | 0/6 [00:00<?, ?it/s]"
      ]
     },
     "metadata": {},
     "output_type": "display_data"
    },
    {
     "data": {
      "application/vnd.jupyter.widget-view+json": {
       "model_id": "c65a607a08694d64bacb2b5e8812a4db",
       "version_major": 2,
       "version_minor": 0
      },
      "text/plain": [
       "  0%|          | 0/6 [00:00<?, ?it/s]"
      ]
     },
     "metadata": {},
     "output_type": "display_data"
    },
    {
     "data": {
      "application/vnd.jupyter.widget-view+json": {
       "model_id": "47900f0dbaee47c1a0f117575ca8eba5",
       "version_major": 2,
       "version_minor": 0
      },
      "text/plain": [
       "  0%|          | 0/6 [00:00<?, ?it/s]"
      ]
     },
     "metadata": {},
     "output_type": "display_data"
    },
    {
     "data": {
      "application/vnd.jupyter.widget-view+json": {
       "model_id": "c9df0121fe704429ba4bfc0aa3724bca",
       "version_major": 2,
       "version_minor": 0
      },
      "text/plain": [
       "  0%|          | 0/6 [00:00<?, ?it/s]"
      ]
     },
     "metadata": {},
     "output_type": "display_data"
    },
    {
     "data": {
      "application/vnd.jupyter.widget-view+json": {
       "model_id": "9a7c59e016bf446bb98b3310c5b7539a",
       "version_major": 2,
       "version_minor": 0
      },
      "text/plain": [
       "  0%|          | 0/6 [00:00<?, ?it/s]"
      ]
     },
     "metadata": {},
     "output_type": "display_data"
    },
    {
     "data": {
      "application/vnd.jupyter.widget-view+json": {
       "model_id": "bfefb81b70d24e9e8069d853c6cdae81",
       "version_major": 2,
       "version_minor": 0
      },
      "text/plain": [
       "  0%|          | 0/6 [00:00<?, ?it/s]"
      ]
     },
     "metadata": {},
     "output_type": "display_data"
    },
    {
     "data": {
      "application/vnd.jupyter.widget-view+json": {
       "model_id": "0e4157bbbe8248bf8d799ae7d6ad0bea",
       "version_major": 2,
       "version_minor": 0
      },
      "text/plain": [
       "  0%|          | 0/6 [00:00<?, ?it/s]"
      ]
     },
     "metadata": {},
     "output_type": "display_data"
    },
    {
     "data": {
      "application/vnd.jupyter.widget-view+json": {
       "model_id": "53430392341b4b91bd635bd59b4a3184",
       "version_major": 2,
       "version_minor": 0
      },
      "text/plain": [
       "  0%|          | 0/6 [00:00<?, ?it/s]"
      ]
     },
     "metadata": {},
     "output_type": "display_data"
    },
    {
     "data": {
      "application/vnd.jupyter.widget-view+json": {
       "model_id": "ca111dd5c4574415b6919f680f634614",
       "version_major": 2,
       "version_minor": 0
      },
      "text/plain": [
       "  0%|          | 0/6 [00:00<?, ?it/s]"
      ]
     },
     "metadata": {},
     "output_type": "display_data"
    },
    {
     "data": {
      "application/vnd.jupyter.widget-view+json": {
       "model_id": "1fa8d5daa3ef40e1ab7a17fb02b5e6cb",
       "version_major": 2,
       "version_minor": 0
      },
      "text/plain": [
       "  0%|          | 0/6 [00:00<?, ?it/s]"
      ]
     },
     "metadata": {},
     "output_type": "display_data"
    },
    {
     "data": {
      "application/vnd.jupyter.widget-view+json": {
       "model_id": "973d6892d3194bd18930a64092d0ad67",
       "version_major": 2,
       "version_minor": 0
      },
      "text/plain": [
       "  0%|          | 0/6 [00:00<?, ?it/s]"
      ]
     },
     "metadata": {},
     "output_type": "display_data"
    },
    {
     "data": {
      "application/vnd.jupyter.widget-view+json": {
       "model_id": "2eea7dbc60a74ad6904258a912bc8217",
       "version_major": 2,
       "version_minor": 0
      },
      "text/plain": [
       "  0%|          | 0/6 [00:00<?, ?it/s]"
      ]
     },
     "metadata": {},
     "output_type": "display_data"
    },
    {
     "data": {
      "application/vnd.jupyter.widget-view+json": {
       "model_id": "ad40e9b50daf40e1b238d7a49c02c3bf",
       "version_major": 2,
       "version_minor": 0
      },
      "text/plain": [
       "  0%|          | 0/6 [00:00<?, ?it/s]"
      ]
     },
     "metadata": {},
     "output_type": "display_data"
    },
    {
     "data": {
      "application/vnd.jupyter.widget-view+json": {
       "model_id": "a311e555edc44d5582c5810a0a4a8302",
       "version_major": 2,
       "version_minor": 0
      },
      "text/plain": [
       "  0%|          | 0/6 [00:00<?, ?it/s]"
      ]
     },
     "metadata": {},
     "output_type": "display_data"
    },
    {
     "data": {
      "application/vnd.jupyter.widget-view+json": {
       "model_id": "05a2e29fef12410289e2bbc55ddfcedf",
       "version_major": 2,
       "version_minor": 0
      },
      "text/plain": [
       "  0%|          | 0/6 [00:00<?, ?it/s]"
      ]
     },
     "metadata": {},
     "output_type": "display_data"
    },
    {
     "data": {
      "application/vnd.jupyter.widget-view+json": {
       "model_id": "1cf3d61e2b42418f89cd6bf74f6d11ed",
       "version_major": 2,
       "version_minor": 0
      },
      "text/plain": [
       "  0%|          | 0/6 [00:00<?, ?it/s]"
      ]
     },
     "metadata": {},
     "output_type": "display_data"
    },
    {
     "data": {
      "application/vnd.jupyter.widget-view+json": {
       "model_id": "d50531f2639c406188fd367841825058",
       "version_major": 2,
       "version_minor": 0
      },
      "text/plain": [
       "  0%|          | 0/6 [00:00<?, ?it/s]"
      ]
     },
     "metadata": {},
     "output_type": "display_data"
    },
    {
     "data": {
      "application/vnd.jupyter.widget-view+json": {
       "model_id": "9d2a0d8b260c45d5846d8aba4b5bb401",
       "version_major": 2,
       "version_minor": 0
      },
      "text/plain": [
       "  0%|          | 0/6 [00:00<?, ?it/s]"
      ]
     },
     "metadata": {},
     "output_type": "display_data"
    },
    {
     "data": {
      "application/vnd.jupyter.widget-view+json": {
       "model_id": "f72dbf5891264c159b813857dbc6c4fd",
       "version_major": 2,
       "version_minor": 0
      },
      "text/plain": [
       "  0%|          | 0/6 [00:00<?, ?it/s]"
      ]
     },
     "metadata": {},
     "output_type": "display_data"
    },
    {
     "data": {
      "application/vnd.jupyter.widget-view+json": {
       "model_id": "8735817181e94b86b653e4c6410a6fa2",
       "version_major": 2,
       "version_minor": 0
      },
      "text/plain": [
       "  0%|          | 0/6 [00:00<?, ?it/s]"
      ]
     },
     "metadata": {},
     "output_type": "display_data"
    },
    {
     "data": {
      "application/vnd.jupyter.widget-view+json": {
       "model_id": "00d6f38f4c0f496ebfdead6eae779cf9",
       "version_major": 2,
       "version_minor": 0
      },
      "text/plain": [
       "  0%|          | 0/6 [00:00<?, ?it/s]"
      ]
     },
     "metadata": {},
     "output_type": "display_data"
    },
    {
     "data": {
      "application/vnd.jupyter.widget-view+json": {
       "model_id": "25a5d4c4b2cb410cb58312c6c4ef6e51",
       "version_major": 2,
       "version_minor": 0
      },
      "text/plain": [
       "  0%|          | 0/6 [00:00<?, ?it/s]"
      ]
     },
     "metadata": {},
     "output_type": "display_data"
    },
    {
     "data": {
      "application/vnd.jupyter.widget-view+json": {
       "model_id": "db990e41622b4fdf9f4de441c775fba1",
       "version_major": 2,
       "version_minor": 0
      },
      "text/plain": [
       "  0%|          | 0/6 [00:00<?, ?it/s]"
      ]
     },
     "metadata": {},
     "output_type": "display_data"
    },
    {
     "data": {
      "application/vnd.jupyter.widget-view+json": {
       "model_id": "4c613cb3bd2249faa28e22db7f779567",
       "version_major": 2,
       "version_minor": 0
      },
      "text/plain": [
       "  0%|          | 0/6 [00:00<?, ?it/s]"
      ]
     },
     "metadata": {},
     "output_type": "display_data"
    },
    {
     "data": {
      "application/vnd.jupyter.widget-view+json": {
       "model_id": "a6a24888fff846358d72431a57a170ff",
       "version_major": 2,
       "version_minor": 0
      },
      "text/plain": [
       "  0%|          | 0/6 [00:00<?, ?it/s]"
      ]
     },
     "metadata": {},
     "output_type": "display_data"
    },
    {
     "data": {
      "application/vnd.jupyter.widget-view+json": {
       "model_id": "2c5525466add41b3b3606c8f0613c1ae",
       "version_major": 2,
       "version_minor": 0
      },
      "text/plain": [
       "  0%|          | 0/6 [00:00<?, ?it/s]"
      ]
     },
     "metadata": {},
     "output_type": "display_data"
    },
    {
     "data": {
      "application/vnd.jupyter.widget-view+json": {
       "model_id": "a474d4a1c96c498683c4f8b1ab10a0b8",
       "version_major": 2,
       "version_minor": 0
      },
      "text/plain": [
       "  0%|          | 0/6 [00:00<?, ?it/s]"
      ]
     },
     "metadata": {},
     "output_type": "display_data"
    },
    {
     "data": {
      "application/vnd.jupyter.widget-view+json": {
       "model_id": "b0a7a01909904f3796d79cd961ecdef9",
       "version_major": 2,
       "version_minor": 0
      },
      "text/plain": [
       "  0%|          | 0/6 [00:00<?, ?it/s]"
      ]
     },
     "metadata": {},
     "output_type": "display_data"
    },
    {
     "data": {
      "application/vnd.jupyter.widget-view+json": {
       "model_id": "559b5089974145218b37fd98aff5af21",
       "version_major": 2,
       "version_minor": 0
      },
      "text/plain": [
       "  0%|          | 0/6 [00:00<?, ?it/s]"
      ]
     },
     "metadata": {},
     "output_type": "display_data"
    },
    {
     "data": {
      "application/vnd.jupyter.widget-view+json": {
       "model_id": "76335ea48a6e4cef9ec82400529e644a",
       "version_major": 2,
       "version_minor": 0
      },
      "text/plain": [
       "  0%|          | 0/6 [00:00<?, ?it/s]"
      ]
     },
     "metadata": {},
     "output_type": "display_data"
    },
    {
     "data": {
      "application/vnd.jupyter.widget-view+json": {
       "model_id": "c5c8b717f60a43ad9efc95dd3d8f2c08",
       "version_major": 2,
       "version_minor": 0
      },
      "text/plain": [
       "  0%|          | 0/6 [00:00<?, ?it/s]"
      ]
     },
     "metadata": {},
     "output_type": "display_data"
    },
    {
     "data": {
      "application/vnd.jupyter.widget-view+json": {
       "model_id": "dc16b8bf08574d088a7913104b5cd57d",
       "version_major": 2,
       "version_minor": 0
      },
      "text/plain": [
       "  0%|          | 0/6 [00:00<?, ?it/s]"
      ]
     },
     "metadata": {},
     "output_type": "display_data"
    },
    {
     "data": {
      "application/vnd.jupyter.widget-view+json": {
       "model_id": "3046b2a5e0cf4926b2f4d975e41133c5",
       "version_major": 2,
       "version_minor": 0
      },
      "text/plain": [
       "  0%|          | 0/6 [00:00<?, ?it/s]"
      ]
     },
     "metadata": {},
     "output_type": "display_data"
    },
    {
     "data": {
      "application/vnd.jupyter.widget-view+json": {
       "model_id": "7b9fcd3dfc81415b97785f2da1a2d9cb",
       "version_major": 2,
       "version_minor": 0
      },
      "text/plain": [
       "  0%|          | 0/6 [00:00<?, ?it/s]"
      ]
     },
     "metadata": {},
     "output_type": "display_data"
    },
    {
     "data": {
      "application/vnd.jupyter.widget-view+json": {
       "model_id": "7162aacdaac843f2a259e874b713eb37",
       "version_major": 2,
       "version_minor": 0
      },
      "text/plain": [
       "  0%|          | 0/6 [00:00<?, ?it/s]"
      ]
     },
     "metadata": {},
     "output_type": "display_data"
    },
    {
     "data": {
      "application/vnd.jupyter.widget-view+json": {
       "model_id": "82e528a2ec464bef8b698bc39faa7a6b",
       "version_major": 2,
       "version_minor": 0
      },
      "text/plain": [
       "  0%|          | 0/6 [00:00<?, ?it/s]"
      ]
     },
     "metadata": {},
     "output_type": "display_data"
    },
    {
     "data": {
      "application/vnd.jupyter.widget-view+json": {
       "model_id": "a9157766a5c64bb3bc75d64a2540d6c9",
       "version_major": 2,
       "version_minor": 0
      },
      "text/plain": [
       "  0%|          | 0/6 [00:00<?, ?it/s]"
      ]
     },
     "metadata": {},
     "output_type": "display_data"
    },
    {
     "data": {
      "application/vnd.jupyter.widget-view+json": {
       "model_id": "7dbfa867c7664c139d19744bd9c4f096",
       "version_major": 2,
       "version_minor": 0
      },
      "text/plain": [
       "  0%|          | 0/6 [00:00<?, ?it/s]"
      ]
     },
     "metadata": {},
     "output_type": "display_data"
    },
    {
     "data": {
      "application/vnd.jupyter.widget-view+json": {
       "model_id": "3074180bd72e4a7a98667b4276aa0eff",
       "version_major": 2,
       "version_minor": 0
      },
      "text/plain": [
       "  0%|          | 0/6 [00:00<?, ?it/s]"
      ]
     },
     "metadata": {},
     "output_type": "display_data"
    },
    {
     "data": {
      "application/vnd.jupyter.widget-view+json": {
       "model_id": "9788dc4569464185b5581aa49e82e049",
       "version_major": 2,
       "version_minor": 0
      },
      "text/plain": [
       "  0%|          | 0/6 [00:00<?, ?it/s]"
      ]
     },
     "metadata": {},
     "output_type": "display_data"
    },
    {
     "data": {
      "application/vnd.jupyter.widget-view+json": {
       "model_id": "336662a000d94f31b2691eea9af3a45f",
       "version_major": 2,
       "version_minor": 0
      },
      "text/plain": [
       "  0%|          | 0/6 [00:00<?, ?it/s]"
      ]
     },
     "metadata": {},
     "output_type": "display_data"
    },
    {
     "data": {
      "application/vnd.jupyter.widget-view+json": {
       "model_id": "64f1e078bd704535bfccf6efe1090a66",
       "version_major": 2,
       "version_minor": 0
      },
      "text/plain": [
       "  0%|          | 0/6 [00:00<?, ?it/s]"
      ]
     },
     "metadata": {},
     "output_type": "display_data"
    },
    {
     "data": {
      "application/vnd.jupyter.widget-view+json": {
       "model_id": "ffc4e840f6cd47b4b769d83ed325659b",
       "version_major": 2,
       "version_minor": 0
      },
      "text/plain": [
       "  0%|          | 0/6 [00:00<?, ?it/s]"
      ]
     },
     "metadata": {},
     "output_type": "display_data"
    },
    {
     "data": {
      "application/vnd.jupyter.widget-view+json": {
       "model_id": "dcc9965d2c544f3b80f5b5384cf5e36a",
       "version_major": 2,
       "version_minor": 0
      },
      "text/plain": [
       "  0%|          | 0/6 [00:00<?, ?it/s]"
      ]
     },
     "metadata": {},
     "output_type": "display_data"
    },
    {
     "data": {
      "application/vnd.jupyter.widget-view+json": {
       "model_id": "080a70440c654f7a9843c378af1c2c41",
       "version_major": 2,
       "version_minor": 0
      },
      "text/plain": [
       "  0%|          | 0/6 [00:00<?, ?it/s]"
      ]
     },
     "metadata": {},
     "output_type": "display_data"
    },
    {
     "data": {
      "application/vnd.jupyter.widget-view+json": {
       "model_id": "6ef16392f2ea47e1af173844f0d0a573",
       "version_major": 2,
       "version_minor": 0
      },
      "text/plain": [
       "  0%|          | 0/6 [00:00<?, ?it/s]"
      ]
     },
     "metadata": {},
     "output_type": "display_data"
    },
    {
     "data": {
      "application/vnd.jupyter.widget-view+json": {
       "model_id": "28f1b287c52b42d2888a6cd2f957708c",
       "version_major": 2,
       "version_minor": 0
      },
      "text/plain": [
       "  0%|          | 0/6 [00:00<?, ?it/s]"
      ]
     },
     "metadata": {},
     "output_type": "display_data"
    },
    {
     "data": {
      "application/vnd.jupyter.widget-view+json": {
       "model_id": "c9f9a0bdf94a4a898f2372790de48bc8",
       "version_major": 2,
       "version_minor": 0
      },
      "text/plain": [
       "  0%|          | 0/6 [00:00<?, ?it/s]"
      ]
     },
     "metadata": {},
     "output_type": "display_data"
    },
    {
     "data": {
      "application/vnd.jupyter.widget-view+json": {
       "model_id": "e4e1e6db2b67482b99e61f3536b0dd4d",
       "version_major": 2,
       "version_minor": 0
      },
      "text/plain": [
       "  0%|          | 0/6 [00:00<?, ?it/s]"
      ]
     },
     "metadata": {},
     "output_type": "display_data"
    },
    {
     "data": {
      "application/vnd.jupyter.widget-view+json": {
       "model_id": "a69aff732af2418b9646f6f0e2c7f625",
       "version_major": 2,
       "version_minor": 0
      },
      "text/plain": [
       "  0%|          | 0/6 [00:00<?, ?it/s]"
      ]
     },
     "metadata": {},
     "output_type": "display_data"
    },
    {
     "data": {
      "application/vnd.jupyter.widget-view+json": {
       "model_id": "f0ae180397c241f89b8d066766bdb3d6",
       "version_major": 2,
       "version_minor": 0
      },
      "text/plain": [
       "  0%|          | 0/6 [00:00<?, ?it/s]"
      ]
     },
     "metadata": {},
     "output_type": "display_data"
    },
    {
     "data": {
      "application/vnd.jupyter.widget-view+json": {
       "model_id": "87b8c82af85c49f7ab2955444bc49f22",
       "version_major": 2,
       "version_minor": 0
      },
      "text/plain": [
       "  0%|          | 0/6 [00:00<?, ?it/s]"
      ]
     },
     "metadata": {},
     "output_type": "display_data"
    },
    {
     "data": {
      "application/vnd.jupyter.widget-view+json": {
       "model_id": "0e874cb6b73c4b17a907b0e01b542036",
       "version_major": 2,
       "version_minor": 0
      },
      "text/plain": [
       "  0%|          | 0/6 [00:00<?, ?it/s]"
      ]
     },
     "metadata": {},
     "output_type": "display_data"
    },
    {
     "data": {
      "application/vnd.jupyter.widget-view+json": {
       "model_id": "d26d2afdad9543e5ab2d709a5a800d6c",
       "version_major": 2,
       "version_minor": 0
      },
      "text/plain": [
       "  0%|          | 0/6 [00:00<?, ?it/s]"
      ]
     },
     "metadata": {},
     "output_type": "display_data"
    },
    {
     "data": {
      "application/vnd.jupyter.widget-view+json": {
       "model_id": "a5e0868770ad4cb0a74ea64341ac1f5c",
       "version_major": 2,
       "version_minor": 0
      },
      "text/plain": [
       "  0%|          | 0/6 [00:00<?, ?it/s]"
      ]
     },
     "metadata": {},
     "output_type": "display_data"
    },
    {
     "data": {
      "application/vnd.jupyter.widget-view+json": {
       "model_id": "ce1a844ed5ba4b548af1bca64421e35b",
       "version_major": 2,
       "version_minor": 0
      },
      "text/plain": [
       "  0%|          | 0/6 [00:00<?, ?it/s]"
      ]
     },
     "metadata": {},
     "output_type": "display_data"
    },
    {
     "data": {
      "application/vnd.jupyter.widget-view+json": {
       "model_id": "b38067cac2644c44b61577b703f0c5c0",
       "version_major": 2,
       "version_minor": 0
      },
      "text/plain": [
       "  0%|          | 0/6 [00:00<?, ?it/s]"
      ]
     },
     "metadata": {},
     "output_type": "display_data"
    },
    {
     "data": {
      "application/vnd.jupyter.widget-view+json": {
       "model_id": "6ab4139e1b594dba9c8fdba3821a542d",
       "version_major": 2,
       "version_minor": 0
      },
      "text/plain": [
       "  0%|          | 0/6 [00:00<?, ?it/s]"
      ]
     },
     "metadata": {},
     "output_type": "display_data"
    },
    {
     "data": {
      "application/vnd.jupyter.widget-view+json": {
       "model_id": "1a4fa0307faf4452ac8e376d5c6950ed",
       "version_major": 2,
       "version_minor": 0
      },
      "text/plain": [
       "  0%|          | 0/6 [00:00<?, ?it/s]"
      ]
     },
     "metadata": {},
     "output_type": "display_data"
    },
    {
     "data": {
      "application/vnd.jupyter.widget-view+json": {
       "model_id": "8707d5447d8a4bcfbeaa62ff08bee7b2",
       "version_major": 2,
       "version_minor": 0
      },
      "text/plain": [
       "  0%|          | 0/6 [00:00<?, ?it/s]"
      ]
     },
     "metadata": {},
     "output_type": "display_data"
    },
    {
     "data": {
      "application/vnd.jupyter.widget-view+json": {
       "model_id": "09f6f3599c6e42199cf6afd914c4bbbb",
       "version_major": 2,
       "version_minor": 0
      },
      "text/plain": [
       "  0%|          | 0/6 [00:00<?, ?it/s]"
      ]
     },
     "metadata": {},
     "output_type": "display_data"
    },
    {
     "data": {
      "application/vnd.jupyter.widget-view+json": {
       "model_id": "e8ba4f75dda54077a8acfe3db7371316",
       "version_major": 2,
       "version_minor": 0
      },
      "text/plain": [
       "  0%|          | 0/6 [00:00<?, ?it/s]"
      ]
     },
     "metadata": {},
     "output_type": "display_data"
    },
    {
     "data": {
      "application/vnd.jupyter.widget-view+json": {
       "model_id": "c886c2ecf39b40b18882303f7175aa67",
       "version_major": 2,
       "version_minor": 0
      },
      "text/plain": [
       "  0%|          | 0/6 [00:00<?, ?it/s]"
      ]
     },
     "metadata": {},
     "output_type": "display_data"
    },
    {
     "data": {
      "application/vnd.jupyter.widget-view+json": {
       "model_id": "2b844f7051c14e4e9a4dd50f9910adb3",
       "version_major": 2,
       "version_minor": 0
      },
      "text/plain": [
       "  0%|          | 0/6 [00:00<?, ?it/s]"
      ]
     },
     "metadata": {},
     "output_type": "display_data"
    },
    {
     "data": {
      "application/vnd.jupyter.widget-view+json": {
       "model_id": "06cffd605f7340beaafbc19a56bb1eae",
       "version_major": 2,
       "version_minor": 0
      },
      "text/plain": [
       "  0%|          | 0/6 [00:00<?, ?it/s]"
      ]
     },
     "metadata": {},
     "output_type": "display_data"
    },
    {
     "data": {
      "application/vnd.jupyter.widget-view+json": {
       "model_id": "4937a081fcaf4e218b98d1e236396d1c",
       "version_major": 2,
       "version_minor": 0
      },
      "text/plain": [
       "  0%|          | 0/6 [00:00<?, ?it/s]"
      ]
     },
     "metadata": {},
     "output_type": "display_data"
    },
    {
     "data": {
      "application/vnd.jupyter.widget-view+json": {
       "model_id": "49a111f90ae345d686bc43203bd50cae",
       "version_major": 2,
       "version_minor": 0
      },
      "text/plain": [
       "  0%|          | 0/6 [00:00<?, ?it/s]"
      ]
     },
     "metadata": {},
     "output_type": "display_data"
    },
    {
     "data": {
      "application/vnd.jupyter.widget-view+json": {
       "model_id": "75fd30595f9c41b4afbe0d54d2fff9d2",
       "version_major": 2,
       "version_minor": 0
      },
      "text/plain": [
       "  0%|          | 0/6 [00:00<?, ?it/s]"
      ]
     },
     "metadata": {},
     "output_type": "display_data"
    },
    {
     "data": {
      "application/vnd.jupyter.widget-view+json": {
       "model_id": "1529bb61000d4048be78e274cfd163dd",
       "version_major": 2,
       "version_minor": 0
      },
      "text/plain": [
       "  0%|          | 0/6 [00:00<?, ?it/s]"
      ]
     },
     "metadata": {},
     "output_type": "display_data"
    },
    {
     "data": {
      "application/vnd.jupyter.widget-view+json": {
       "model_id": "3b09afccbdc44593a2ee0c81fe648074",
       "version_major": 2,
       "version_minor": 0
      },
      "text/plain": [
       "  0%|          | 0/6 [00:00<?, ?it/s]"
      ]
     },
     "metadata": {},
     "output_type": "display_data"
    },
    {
     "data": {
      "application/vnd.jupyter.widget-view+json": {
       "model_id": "fc5e6411f96c49d4a804c9d7c4300872",
       "version_major": 2,
       "version_minor": 0
      },
      "text/plain": [
       "  0%|          | 0/6 [00:00<?, ?it/s]"
      ]
     },
     "metadata": {},
     "output_type": "display_data"
    },
    {
     "data": {
      "application/vnd.jupyter.widget-view+json": {
       "model_id": "f8e943df854d4b4897391081cb50b79c",
       "version_major": 2,
       "version_minor": 0
      },
      "text/plain": [
       "  0%|          | 0/6 [00:00<?, ?it/s]"
      ]
     },
     "metadata": {},
     "output_type": "display_data"
    },
    {
     "data": {
      "application/vnd.jupyter.widget-view+json": {
       "model_id": "303adf62484e4b3fbc39af98f2fa9187",
       "version_major": 2,
       "version_minor": 0
      },
      "text/plain": [
       "  0%|          | 0/6 [00:00<?, ?it/s]"
      ]
     },
     "metadata": {},
     "output_type": "display_data"
    },
    {
     "data": {
      "application/vnd.jupyter.widget-view+json": {
       "model_id": "98bf7963389142a480c2a91dc5cba210",
       "version_major": 2,
       "version_minor": 0
      },
      "text/plain": [
       "  0%|          | 0/6 [00:00<?, ?it/s]"
      ]
     },
     "metadata": {},
     "output_type": "display_data"
    },
    {
     "data": {
      "application/vnd.jupyter.widget-view+json": {
       "model_id": "186381a39e6c4428b35a21ad64ef6034",
       "version_major": 2,
       "version_minor": 0
      },
      "text/plain": [
       "  0%|          | 0/6 [00:00<?, ?it/s]"
      ]
     },
     "metadata": {},
     "output_type": "display_data"
    },
    {
     "data": {
      "application/vnd.jupyter.widget-view+json": {
       "model_id": "b00c0a0e0fac48cc8ce28983701c5a1f",
       "version_major": 2,
       "version_minor": 0
      },
      "text/plain": [
       "  0%|          | 0/6 [00:00<?, ?it/s]"
      ]
     },
     "metadata": {},
     "output_type": "display_data"
    },
    {
     "data": {
      "application/vnd.jupyter.widget-view+json": {
       "model_id": "1af1033d0cae4b6888d3c6196106799b",
       "version_major": 2,
       "version_minor": 0
      },
      "text/plain": [
       "  0%|          | 0/6 [00:00<?, ?it/s]"
      ]
     },
     "metadata": {},
     "output_type": "display_data"
    },
    {
     "data": {
      "application/vnd.jupyter.widget-view+json": {
       "model_id": "903c8f70f7e1458daf389fca9871c84f",
       "version_major": 2,
       "version_minor": 0
      },
      "text/plain": [
       "  0%|          | 0/6 [00:00<?, ?it/s]"
      ]
     },
     "metadata": {},
     "output_type": "display_data"
    },
    {
     "data": {
      "application/vnd.jupyter.widget-view+json": {
       "model_id": "31d257896a7e4b0ba99773223f5acb6b",
       "version_major": 2,
       "version_minor": 0
      },
      "text/plain": [
       "  0%|          | 0/6 [00:00<?, ?it/s]"
      ]
     },
     "metadata": {},
     "output_type": "display_data"
    },
    {
     "data": {
      "application/vnd.jupyter.widget-view+json": {
       "model_id": "ead86a5b19b641a2a81ede0b7e0b40ba",
       "version_major": 2,
       "version_minor": 0
      },
      "text/plain": [
       "  0%|          | 0/6 [00:00<?, ?it/s]"
      ]
     },
     "metadata": {},
     "output_type": "display_data"
    },
    {
     "data": {
      "application/vnd.jupyter.widget-view+json": {
       "model_id": "5efe23c132144995986481c30553780b",
       "version_major": 2,
       "version_minor": 0
      },
      "text/plain": [
       "  0%|          | 0/6 [00:00<?, ?it/s]"
      ]
     },
     "metadata": {},
     "output_type": "display_data"
    },
    {
     "data": {
      "application/vnd.jupyter.widget-view+json": {
       "model_id": "efd1e17a6820495da91786990e6ca7dd",
       "version_major": 2,
       "version_minor": 0
      },
      "text/plain": [
       "  0%|          | 0/6 [00:00<?, ?it/s]"
      ]
     },
     "metadata": {},
     "output_type": "display_data"
    },
    {
     "data": {
      "application/vnd.jupyter.widget-view+json": {
       "model_id": "3ade68535a4d43929f490daf03582c51",
       "version_major": 2,
       "version_minor": 0
      },
      "text/plain": [
       "  0%|          | 0/6 [00:00<?, ?it/s]"
      ]
     },
     "metadata": {},
     "output_type": "display_data"
    },
    {
     "data": {
      "application/vnd.jupyter.widget-view+json": {
       "model_id": "3969788162a94bd390081ceb36318ae6",
       "version_major": 2,
       "version_minor": 0
      },
      "text/plain": [
       "  0%|          | 0/6 [00:00<?, ?it/s]"
      ]
     },
     "metadata": {},
     "output_type": "display_data"
    },
    {
     "data": {
      "application/vnd.jupyter.widget-view+json": {
       "model_id": "79f2dc0f62a9427881d875ab10f68c5e",
       "version_major": 2,
       "version_minor": 0
      },
      "text/plain": [
       "  0%|          | 0/6 [00:00<?, ?it/s]"
      ]
     },
     "metadata": {},
     "output_type": "display_data"
    },
    {
     "data": {
      "application/vnd.jupyter.widget-view+json": {
       "model_id": "5b1ecf618671460da402e1622f0838a6",
       "version_major": 2,
       "version_minor": 0
      },
      "text/plain": [
       "  0%|          | 0/6 [00:00<?, ?it/s]"
      ]
     },
     "metadata": {},
     "output_type": "display_data"
    },
    {
     "data": {
      "application/vnd.jupyter.widget-view+json": {
       "model_id": "e6a5907f65824b6b88e5bc3af1024456",
       "version_major": 2,
       "version_minor": 0
      },
      "text/plain": [
       "  0%|          | 0/6 [00:00<?, ?it/s]"
      ]
     },
     "metadata": {},
     "output_type": "display_data"
    },
    {
     "data": {
      "application/vnd.jupyter.widget-view+json": {
       "model_id": "773982f75e5241f79105126cb27e3027",
       "version_major": 2,
       "version_minor": 0
      },
      "text/plain": [
       "  0%|          | 0/6 [00:00<?, ?it/s]"
      ]
     },
     "metadata": {},
     "output_type": "display_data"
    },
    {
     "data": {
      "application/vnd.jupyter.widget-view+json": {
       "model_id": "9ff4a325058348a3bf8b84bbd478d781",
       "version_major": 2,
       "version_minor": 0
      },
      "text/plain": [
       "  0%|          | 0/6 [00:00<?, ?it/s]"
      ]
     },
     "metadata": {},
     "output_type": "display_data"
    },
    {
     "data": {
      "application/vnd.jupyter.widget-view+json": {
       "model_id": "739985fa934e4fd299a0b6b86f1ec640",
       "version_major": 2,
       "version_minor": 0
      },
      "text/plain": [
       "  0%|          | 0/6 [00:00<?, ?it/s]"
      ]
     },
     "metadata": {},
     "output_type": "display_data"
    },
    {
     "data": {
      "application/vnd.jupyter.widget-view+json": {
       "model_id": "21bd8f9a6d244d7485f548bedde4a01a",
       "version_major": 2,
       "version_minor": 0
      },
      "text/plain": [
       "  0%|          | 0/6 [00:00<?, ?it/s]"
      ]
     },
     "metadata": {},
     "output_type": "display_data"
    },
    {
     "data": {
      "application/vnd.jupyter.widget-view+json": {
       "model_id": "5f6b0534530044ab8120f8b7b09a79d2",
       "version_major": 2,
       "version_minor": 0
      },
      "text/plain": [
       "  0%|          | 0/6 [00:00<?, ?it/s]"
      ]
     },
     "metadata": {},
     "output_type": "display_data"
    },
    {
     "data": {
      "application/vnd.jupyter.widget-view+json": {
       "model_id": "88fc381d85e84ce084d5e13f315c51c4",
       "version_major": 2,
       "version_minor": 0
      },
      "text/plain": [
       "  0%|          | 0/6 [00:00<?, ?it/s]"
      ]
     },
     "metadata": {},
     "output_type": "display_data"
    },
    {
     "data": {
      "application/vnd.jupyter.widget-view+json": {
       "model_id": "41a3d5902fb54304b7633be33b2c390b",
       "version_major": 2,
       "version_minor": 0
      },
      "text/plain": [
       "  0%|          | 0/6 [00:00<?, ?it/s]"
      ]
     },
     "metadata": {},
     "output_type": "display_data"
    },
    {
     "data": {
      "application/vnd.jupyter.widget-view+json": {
       "model_id": "e0126a7548c6425b843c202a7b662560",
       "version_major": 2,
       "version_minor": 0
      },
      "text/plain": [
       "  0%|          | 0/6 [00:00<?, ?it/s]"
      ]
     },
     "metadata": {},
     "output_type": "display_data"
    },
    {
     "data": {
      "application/vnd.jupyter.widget-view+json": {
       "model_id": "61c95ebdb50040f5b07e2a05b29d3d0b",
       "version_major": 2,
       "version_minor": 0
      },
      "text/plain": [
       "  0%|          | 0/6 [00:00<?, ?it/s]"
      ]
     },
     "metadata": {},
     "output_type": "display_data"
    },
    {
     "data": {
      "application/vnd.jupyter.widget-view+json": {
       "model_id": "ca14165238434c268b1cee27dde546be",
       "version_major": 2,
       "version_minor": 0
      },
      "text/plain": [
       "  0%|          | 0/6 [00:00<?, ?it/s]"
      ]
     },
     "metadata": {},
     "output_type": "display_data"
    },
    {
     "data": {
      "application/vnd.jupyter.widget-view+json": {
       "model_id": "5e5b7bedac624a43a41a21715ee83bb4",
       "version_major": 2,
       "version_minor": 0
      },
      "text/plain": [
       "  0%|          | 0/6 [00:00<?, ?it/s]"
      ]
     },
     "metadata": {},
     "output_type": "display_data"
    },
    {
     "data": {
      "application/vnd.jupyter.widget-view+json": {
       "model_id": "17036e6012d848faa65b0a905d54777e",
       "version_major": 2,
       "version_minor": 0
      },
      "text/plain": [
       "  0%|          | 0/6 [00:00<?, ?it/s]"
      ]
     },
     "metadata": {},
     "output_type": "display_data"
    },
    {
     "data": {
      "application/vnd.jupyter.widget-view+json": {
       "model_id": "cf416be96d814ffd8980f6ce820a6f2b",
       "version_major": 2,
       "version_minor": 0
      },
      "text/plain": [
       "  0%|          | 0/6 [00:00<?, ?it/s]"
      ]
     },
     "metadata": {},
     "output_type": "display_data"
    },
    {
     "data": {
      "application/vnd.jupyter.widget-view+json": {
       "model_id": "71935774a71d4699b6bbce163ba81985",
       "version_major": 2,
       "version_minor": 0
      },
      "text/plain": [
       "  0%|          | 0/6 [00:00<?, ?it/s]"
      ]
     },
     "metadata": {},
     "output_type": "display_data"
    },
    {
     "data": {
      "application/vnd.jupyter.widget-view+json": {
       "model_id": "d8680945dc024bcb8852fd97d3a7b2d7",
       "version_major": 2,
       "version_minor": 0
      },
      "text/plain": [
       "  0%|          | 0/6 [00:00<?, ?it/s]"
      ]
     },
     "metadata": {},
     "output_type": "display_data"
    },
    {
     "data": {
      "application/vnd.jupyter.widget-view+json": {
       "model_id": "daad23f45d804891ba83ef084b9bde3a",
       "version_major": 2,
       "version_minor": 0
      },
      "text/plain": [
       "  0%|          | 0/6 [00:00<?, ?it/s]"
      ]
     },
     "metadata": {},
     "output_type": "display_data"
    },
    {
     "data": {
      "application/vnd.jupyter.widget-view+json": {
       "model_id": "c46ad94a60fd4ec7a274bab59d773dd8",
       "version_major": 2,
       "version_minor": 0
      },
      "text/plain": [
       "  0%|          | 0/6 [00:00<?, ?it/s]"
      ]
     },
     "metadata": {},
     "output_type": "display_data"
    },
    {
     "data": {
      "application/vnd.jupyter.widget-view+json": {
       "model_id": "9843c57b0d2e4f10ac03e1fb95d1ed01",
       "version_major": 2,
       "version_minor": 0
      },
      "text/plain": [
       "  0%|          | 0/6 [00:00<?, ?it/s]"
      ]
     },
     "metadata": {},
     "output_type": "display_data"
    },
    {
     "data": {
      "application/vnd.jupyter.widget-view+json": {
       "model_id": "d8ffda90c21a40a4828eba8d1c5cdc71",
       "version_major": 2,
       "version_minor": 0
      },
      "text/plain": [
       "  0%|          | 0/6 [00:00<?, ?it/s]"
      ]
     },
     "metadata": {},
     "output_type": "display_data"
    },
    {
     "data": {
      "application/vnd.jupyter.widget-view+json": {
       "model_id": "2a0d39a2e14b4145bdf4c2d5f2e94a6e",
       "version_major": 2,
       "version_minor": 0
      },
      "text/plain": [
       "  0%|          | 0/6 [00:00<?, ?it/s]"
      ]
     },
     "metadata": {},
     "output_type": "display_data"
    },
    {
     "data": {
      "application/vnd.jupyter.widget-view+json": {
       "model_id": "417f8dd8a92642d7b9a66360bca3392a",
       "version_major": 2,
       "version_minor": 0
      },
      "text/plain": [
       "  0%|          | 0/6 [00:00<?, ?it/s]"
      ]
     },
     "metadata": {},
     "output_type": "display_data"
    },
    {
     "data": {
      "application/vnd.jupyter.widget-view+json": {
       "model_id": "2c600eccb7a64ff1bfc828e68a98cd76",
       "version_major": 2,
       "version_minor": 0
      },
      "text/plain": [
       "  0%|          | 0/6 [00:00<?, ?it/s]"
      ]
     },
     "metadata": {},
     "output_type": "display_data"
    },
    {
     "data": {
      "application/vnd.jupyter.widget-view+json": {
       "model_id": "e98f0f56095b49c9a96a9f242618128e",
       "version_major": 2,
       "version_minor": 0
      },
      "text/plain": [
       "  0%|          | 0/6 [00:00<?, ?it/s]"
      ]
     },
     "metadata": {},
     "output_type": "display_data"
    },
    {
     "data": {
      "application/vnd.jupyter.widget-view+json": {
       "model_id": "63feeb161b874a728e77d7453630446f",
       "version_major": 2,
       "version_minor": 0
      },
      "text/plain": [
       "  0%|          | 0/6 [00:00<?, ?it/s]"
      ]
     },
     "metadata": {},
     "output_type": "display_data"
    },
    {
     "data": {
      "application/vnd.jupyter.widget-view+json": {
       "model_id": "84a73926edd3449b84b74daeb62282bb",
       "version_major": 2,
       "version_minor": 0
      },
      "text/plain": [
       "  0%|          | 0/6 [00:00<?, ?it/s]"
      ]
     },
     "metadata": {},
     "output_type": "display_data"
    },
    {
     "data": {
      "application/vnd.jupyter.widget-view+json": {
       "model_id": "da4854013ce0460e96a69c373306eed6",
       "version_major": 2,
       "version_minor": 0
      },
      "text/plain": [
       "  0%|          | 0/6 [00:00<?, ?it/s]"
      ]
     },
     "metadata": {},
     "output_type": "display_data"
    },
    {
     "data": {
      "application/vnd.jupyter.widget-view+json": {
       "model_id": "55ad1ef2fa5f4035aff52a8f27b1d0d6",
       "version_major": 2,
       "version_minor": 0
      },
      "text/plain": [
       "  0%|          | 0/6 [00:00<?, ?it/s]"
      ]
     },
     "metadata": {},
     "output_type": "display_data"
    },
    {
     "data": {
      "application/vnd.jupyter.widget-view+json": {
       "model_id": "e64945f1bbae4d808fd6fa45593e3d7c",
       "version_major": 2,
       "version_minor": 0
      },
      "text/plain": [
       "  0%|          | 0/6 [00:00<?, ?it/s]"
      ]
     },
     "metadata": {},
     "output_type": "display_data"
    },
    {
     "data": {
      "application/vnd.jupyter.widget-view+json": {
       "model_id": "57357917b11a4996b0230ad7c6507fec",
       "version_major": 2,
       "version_minor": 0
      },
      "text/plain": [
       "  0%|          | 0/6 [00:00<?, ?it/s]"
      ]
     },
     "metadata": {},
     "output_type": "display_data"
    },
    {
     "data": {
      "application/vnd.jupyter.widget-view+json": {
       "model_id": "1b1e40589e2444f2a84e994fb7e926d4",
       "version_major": 2,
       "version_minor": 0
      },
      "text/plain": [
       "  0%|          | 0/6 [00:00<?, ?it/s]"
      ]
     },
     "metadata": {},
     "output_type": "display_data"
    },
    {
     "data": {
      "application/vnd.jupyter.widget-view+json": {
       "model_id": "58d3e49be11b4b45b52e03dc85d996fe",
       "version_major": 2,
       "version_minor": 0
      },
      "text/plain": [
       "  0%|          | 0/6 [00:00<?, ?it/s]"
      ]
     },
     "metadata": {},
     "output_type": "display_data"
    },
    {
     "data": {
      "application/vnd.jupyter.widget-view+json": {
       "model_id": "4d63206bd191492cb1b64863cd63014e",
       "version_major": 2,
       "version_minor": 0
      },
      "text/plain": [
       "  0%|          | 0/6 [00:00<?, ?it/s]"
      ]
     },
     "metadata": {},
     "output_type": "display_data"
    },
    {
     "data": {
      "application/vnd.jupyter.widget-view+json": {
       "model_id": "0e9ac0c104c54338b563e4d8e581521b",
       "version_major": 2,
       "version_minor": 0
      },
      "text/plain": [
       "  0%|          | 0/6 [00:00<?, ?it/s]"
      ]
     },
     "metadata": {},
     "output_type": "display_data"
    },
    {
     "data": {
      "application/vnd.jupyter.widget-view+json": {
       "model_id": "3a1334305ad240c69f1e4ea42eacd020",
       "version_major": 2,
       "version_minor": 0
      },
      "text/plain": [
       "  0%|          | 0/6 [00:00<?, ?it/s]"
      ]
     },
     "metadata": {},
     "output_type": "display_data"
    },
    {
     "data": {
      "application/vnd.jupyter.widget-view+json": {
       "model_id": "4729b3366eaf4e4e85870cd27c688fd0",
       "version_major": 2,
       "version_minor": 0
      },
      "text/plain": [
       "  0%|          | 0/6 [00:00<?, ?it/s]"
      ]
     },
     "metadata": {},
     "output_type": "display_data"
    },
    {
     "data": {
      "application/vnd.jupyter.widget-view+json": {
       "model_id": "ebbf1be9280240789f9d743385bc4707",
       "version_major": 2,
       "version_minor": 0
      },
      "text/plain": [
       "  0%|          | 0/6 [00:00<?, ?it/s]"
      ]
     },
     "metadata": {},
     "output_type": "display_data"
    },
    {
     "data": {
      "application/vnd.jupyter.widget-view+json": {
       "model_id": "016a8e01880947259b01ec156f19fad0",
       "version_major": 2,
       "version_minor": 0
      },
      "text/plain": [
       "  0%|          | 0/6 [00:00<?, ?it/s]"
      ]
     },
     "metadata": {},
     "output_type": "display_data"
    },
    {
     "data": {
      "application/vnd.jupyter.widget-view+json": {
       "model_id": "2b1196ff6fae4e5cb28ce059dfaf92b8",
       "version_major": 2,
       "version_minor": 0
      },
      "text/plain": [
       "  0%|          | 0/6 [00:00<?, ?it/s]"
      ]
     },
     "metadata": {},
     "output_type": "display_data"
    },
    {
     "data": {
      "application/vnd.jupyter.widget-view+json": {
       "model_id": "d74a64f164f643979016a60f8bce896e",
       "version_major": 2,
       "version_minor": 0
      },
      "text/plain": [
       "  0%|          | 0/6 [00:00<?, ?it/s]"
      ]
     },
     "metadata": {},
     "output_type": "display_data"
    },
    {
     "data": {
      "application/vnd.jupyter.widget-view+json": {
       "model_id": "dec7bd93cec84d418efc510ade41e91b",
       "version_major": 2,
       "version_minor": 0
      },
      "text/plain": [
       "  0%|          | 0/6 [00:00<?, ?it/s]"
      ]
     },
     "metadata": {},
     "output_type": "display_data"
    },
    {
     "data": {
      "application/vnd.jupyter.widget-view+json": {
       "model_id": "994a508169394cc28e7dae2111e7c71f",
       "version_major": 2,
       "version_minor": 0
      },
      "text/plain": [
       "  0%|          | 0/6 [00:00<?, ?it/s]"
      ]
     },
     "metadata": {},
     "output_type": "display_data"
    },
    {
     "data": {
      "application/vnd.jupyter.widget-view+json": {
       "model_id": "975b6ffd505f45e39f2a539ccd2798bd",
       "version_major": 2,
       "version_minor": 0
      },
      "text/plain": [
       "  0%|          | 0/6 [00:00<?, ?it/s]"
      ]
     },
     "metadata": {},
     "output_type": "display_data"
    },
    {
     "data": {
      "application/vnd.jupyter.widget-view+json": {
       "model_id": "3de3e52c5b4441beb452c7d0484e056c",
       "version_major": 2,
       "version_minor": 0
      },
      "text/plain": [
       "  0%|          | 0/6 [00:00<?, ?it/s]"
      ]
     },
     "metadata": {},
     "output_type": "display_data"
    },
    {
     "data": {
      "application/vnd.jupyter.widget-view+json": {
       "model_id": "a2c07099967448fb8ead4917298df9fc",
       "version_major": 2,
       "version_minor": 0
      },
      "text/plain": [
       "  0%|          | 0/6 [00:00<?, ?it/s]"
      ]
     },
     "metadata": {},
     "output_type": "display_data"
    },
    {
     "data": {
      "application/vnd.jupyter.widget-view+json": {
       "model_id": "f27c6ed2841040b7a89a2a3713695e1b",
       "version_major": 2,
       "version_minor": 0
      },
      "text/plain": [
       "  0%|          | 0/6 [00:00<?, ?it/s]"
      ]
     },
     "metadata": {},
     "output_type": "display_data"
    },
    {
     "data": {
      "application/vnd.jupyter.widget-view+json": {
       "model_id": "6a919529ee7644e2a9ae6497ea59bf23",
       "version_major": 2,
       "version_minor": 0
      },
      "text/plain": [
       "  0%|          | 0/6 [00:00<?, ?it/s]"
      ]
     },
     "metadata": {},
     "output_type": "display_data"
    },
    {
     "data": {
      "application/vnd.jupyter.widget-view+json": {
       "model_id": "04dc1d8370b940b1a2663c16f846648b",
       "version_major": 2,
       "version_minor": 0
      },
      "text/plain": [
       "  0%|          | 0/6 [00:00<?, ?it/s]"
      ]
     },
     "metadata": {},
     "output_type": "display_data"
    },
    {
     "data": {
      "application/vnd.jupyter.widget-view+json": {
       "model_id": "8054fb3b11e143a68b1d2471479fbe72",
       "version_major": 2,
       "version_minor": 0
      },
      "text/plain": [
       "  0%|          | 0/6 [00:00<?, ?it/s]"
      ]
     },
     "metadata": {},
     "output_type": "display_data"
    },
    {
     "data": {
      "application/vnd.jupyter.widget-view+json": {
       "model_id": "17e73041e965498880e551ee50222d8e",
       "version_major": 2,
       "version_minor": 0
      },
      "text/plain": [
       "  0%|          | 0/6 [00:00<?, ?it/s]"
      ]
     },
     "metadata": {},
     "output_type": "display_data"
    },
    {
     "data": {
      "application/vnd.jupyter.widget-view+json": {
       "model_id": "082b8b4413e44f358d87227bbcdb8b6b",
       "version_major": 2,
       "version_minor": 0
      },
      "text/plain": [
       "  0%|          | 0/6 [00:00<?, ?it/s]"
      ]
     },
     "metadata": {},
     "output_type": "display_data"
    },
    {
     "data": {
      "application/vnd.jupyter.widget-view+json": {
       "model_id": "a5fabe0c3f7a443d84486346c729045d",
       "version_major": 2,
       "version_minor": 0
      },
      "text/plain": [
       "  0%|          | 0/6 [00:00<?, ?it/s]"
      ]
     },
     "metadata": {},
     "output_type": "display_data"
    },
    {
     "data": {
      "application/vnd.jupyter.widget-view+json": {
       "model_id": "972643ca4f4a4f5aa70eaac67e3f09d6",
       "version_major": 2,
       "version_minor": 0
      },
      "text/plain": [
       "  0%|          | 0/6 [00:00<?, ?it/s]"
      ]
     },
     "metadata": {},
     "output_type": "display_data"
    },
    {
     "data": {
      "application/vnd.jupyter.widget-view+json": {
       "model_id": "5e2cedf9688f480f86bd490d98c96875",
       "version_major": 2,
       "version_minor": 0
      },
      "text/plain": [
       "  0%|          | 0/6 [00:00<?, ?it/s]"
      ]
     },
     "metadata": {},
     "output_type": "display_data"
    },
    {
     "data": {
      "application/vnd.jupyter.widget-view+json": {
       "model_id": "1975c65a0a864de982590ca62848a862",
       "version_major": 2,
       "version_minor": 0
      },
      "text/plain": [
       "  0%|          | 0/6 [00:00<?, ?it/s]"
      ]
     },
     "metadata": {},
     "output_type": "display_data"
    },
    {
     "data": {
      "application/vnd.jupyter.widget-view+json": {
       "model_id": "27f08c499edd459ba463fa700f4cead4",
       "version_major": 2,
       "version_minor": 0
      },
      "text/plain": [
       "  0%|          | 0/6 [00:00<?, ?it/s]"
      ]
     },
     "metadata": {},
     "output_type": "display_data"
    },
    {
     "data": {
      "application/vnd.jupyter.widget-view+json": {
       "model_id": "975bc2674cfe4eb5841bef385f9facb3",
       "version_major": 2,
       "version_minor": 0
      },
      "text/plain": [
       "  0%|          | 0/6 [00:00<?, ?it/s]"
      ]
     },
     "metadata": {},
     "output_type": "display_data"
    },
    {
     "data": {
      "application/vnd.jupyter.widget-view+json": {
       "model_id": "43d0f644790e4081bf7dba9ab59666d5",
       "version_major": 2,
       "version_minor": 0
      },
      "text/plain": [
       "  0%|          | 0/6 [00:00<?, ?it/s]"
      ]
     },
     "metadata": {},
     "output_type": "display_data"
    },
    {
     "data": {
      "application/vnd.jupyter.widget-view+json": {
       "model_id": "ee7c8feca2ec4a5b817e7ed9265c3df8",
       "version_major": 2,
       "version_minor": 0
      },
      "text/plain": [
       "  0%|          | 0/6 [00:00<?, ?it/s]"
      ]
     },
     "metadata": {},
     "output_type": "display_data"
    },
    {
     "data": {
      "application/vnd.jupyter.widget-view+json": {
       "model_id": "ec4c6c1f5d4048a6862d5e245f022b07",
       "version_major": 2,
       "version_minor": 0
      },
      "text/plain": [
       "  0%|          | 0/6 [00:00<?, ?it/s]"
      ]
     },
     "metadata": {},
     "output_type": "display_data"
    },
    {
     "data": {
      "application/vnd.jupyter.widget-view+json": {
       "model_id": "1fcddb4725cd4db3a71fec6272879ef8",
       "version_major": 2,
       "version_minor": 0
      },
      "text/plain": [
       "  0%|          | 0/6 [00:00<?, ?it/s]"
      ]
     },
     "metadata": {},
     "output_type": "display_data"
    },
    {
     "data": {
      "application/vnd.jupyter.widget-view+json": {
       "model_id": "5749e20a5618472a9d69b0907b6ba9d7",
       "version_major": 2,
       "version_minor": 0
      },
      "text/plain": [
       "  0%|          | 0/6 [00:00<?, ?it/s]"
      ]
     },
     "metadata": {},
     "output_type": "display_data"
    },
    {
     "data": {
      "application/vnd.jupyter.widget-view+json": {
       "model_id": "2bcadb3201de4dd5a8148f367b95aaed",
       "version_major": 2,
       "version_minor": 0
      },
      "text/plain": [
       "  0%|          | 0/6 [00:00<?, ?it/s]"
      ]
     },
     "metadata": {},
     "output_type": "display_data"
    },
    {
     "data": {
      "application/vnd.jupyter.widget-view+json": {
       "model_id": "b14f55b45f9f4ea69d2eb383d54079ec",
       "version_major": 2,
       "version_minor": 0
      },
      "text/plain": [
       "  0%|          | 0/6 [00:00<?, ?it/s]"
      ]
     },
     "metadata": {},
     "output_type": "display_data"
    },
    {
     "data": {
      "application/vnd.jupyter.widget-view+json": {
       "model_id": "65d72a4d080445cfb92bee948c4239a9",
       "version_major": 2,
       "version_minor": 0
      },
      "text/plain": [
       "  0%|          | 0/6 [00:00<?, ?it/s]"
      ]
     },
     "metadata": {},
     "output_type": "display_data"
    },
    {
     "data": {
      "application/vnd.jupyter.widget-view+json": {
       "model_id": "f0090302b72f4bab80125eb07c9bae0f",
       "version_major": 2,
       "version_minor": 0
      },
      "text/plain": [
       "  0%|          | 0/6 [00:00<?, ?it/s]"
      ]
     },
     "metadata": {},
     "output_type": "display_data"
    },
    {
     "data": {
      "application/vnd.jupyter.widget-view+json": {
       "model_id": "9d12f94b6de54947a3f21c22de7ba4f7",
       "version_major": 2,
       "version_minor": 0
      },
      "text/plain": [
       "  0%|          | 0/6 [00:00<?, ?it/s]"
      ]
     },
     "metadata": {},
     "output_type": "display_data"
    },
    {
     "data": {
      "application/vnd.jupyter.widget-view+json": {
       "model_id": "297210bd6a00447d8b6cc0b367f4cf81",
       "version_major": 2,
       "version_minor": 0
      },
      "text/plain": [
       "  0%|          | 0/6 [00:00<?, ?it/s]"
      ]
     },
     "metadata": {},
     "output_type": "display_data"
    },
    {
     "data": {
      "application/vnd.jupyter.widget-view+json": {
       "model_id": "be36841f88084e40b261dd670191d6f0",
       "version_major": 2,
       "version_minor": 0
      },
      "text/plain": [
       "  0%|          | 0/6 [00:00<?, ?it/s]"
      ]
     },
     "metadata": {},
     "output_type": "display_data"
    },
    {
     "data": {
      "application/vnd.jupyter.widget-view+json": {
       "model_id": "48d00f51103542cd95ded41c687602b3",
       "version_major": 2,
       "version_minor": 0
      },
      "text/plain": [
       "  0%|          | 0/6 [00:00<?, ?it/s]"
      ]
     },
     "metadata": {},
     "output_type": "display_data"
    },
    {
     "data": {
      "application/vnd.jupyter.widget-view+json": {
       "model_id": "15d45912316e478ea66c086260014572",
       "version_major": 2,
       "version_minor": 0
      },
      "text/plain": [
       "  0%|          | 0/6 [00:00<?, ?it/s]"
      ]
     },
     "metadata": {},
     "output_type": "display_data"
    },
    {
     "data": {
      "application/vnd.jupyter.widget-view+json": {
       "model_id": "52a73eb7eeac474db3676d9637e115f0",
       "version_major": 2,
       "version_minor": 0
      },
      "text/plain": [
       "  0%|          | 0/6 [00:00<?, ?it/s]"
      ]
     },
     "metadata": {},
     "output_type": "display_data"
    },
    {
     "data": {
      "application/vnd.jupyter.widget-view+json": {
       "model_id": "ff83308c6a1b4e8886e2cacb02194a7c",
       "version_major": 2,
       "version_minor": 0
      },
      "text/plain": [
       "  0%|          | 0/6 [00:00<?, ?it/s]"
      ]
     },
     "metadata": {},
     "output_type": "display_data"
    },
    {
     "data": {
      "application/vnd.jupyter.widget-view+json": {
       "model_id": "6f3b7efb70a747798ce59dfbdf531693",
       "version_major": 2,
       "version_minor": 0
      },
      "text/plain": [
       "  0%|          | 0/6 [00:00<?, ?it/s]"
      ]
     },
     "metadata": {},
     "output_type": "display_data"
    },
    {
     "data": {
      "application/vnd.jupyter.widget-view+json": {
       "model_id": "43eb801048a24588b5e88e862ad8d109",
       "version_major": 2,
       "version_minor": 0
      },
      "text/plain": [
       "  0%|          | 0/6 [00:00<?, ?it/s]"
      ]
     },
     "metadata": {},
     "output_type": "display_data"
    },
    {
     "data": {
      "application/vnd.jupyter.widget-view+json": {
       "model_id": "14c38106eae149eca4df8f1cfdf49a5e",
       "version_major": 2,
       "version_minor": 0
      },
      "text/plain": [
       "  0%|          | 0/6 [00:00<?, ?it/s]"
      ]
     },
     "metadata": {},
     "output_type": "display_data"
    },
    {
     "data": {
      "application/vnd.jupyter.widget-view+json": {
       "model_id": "d30eff049da2450caf76bfa7f5ef4d62",
       "version_major": 2,
       "version_minor": 0
      },
      "text/plain": [
       "  0%|          | 0/6 [00:00<?, ?it/s]"
      ]
     },
     "metadata": {},
     "output_type": "display_data"
    },
    {
     "data": {
      "application/vnd.jupyter.widget-view+json": {
       "model_id": "03e4400f2898429c9bb2c5230b59b2d8",
       "version_major": 2,
       "version_minor": 0
      },
      "text/plain": [
       "  0%|          | 0/6 [00:00<?, ?it/s]"
      ]
     },
     "metadata": {},
     "output_type": "display_data"
    },
    {
     "data": {
      "application/vnd.jupyter.widget-view+json": {
       "model_id": "94fd4a8c1d874ee593b26bf73eee048d",
       "version_major": 2,
       "version_minor": 0
      },
      "text/plain": [
       "  0%|          | 0/6 [00:00<?, ?it/s]"
      ]
     },
     "metadata": {},
     "output_type": "display_data"
    },
    {
     "data": {
      "application/vnd.jupyter.widget-view+json": {
       "model_id": "b3786b825613486c9a0f1cce7a5e2c6c",
       "version_major": 2,
       "version_minor": 0
      },
      "text/plain": [
       "  0%|          | 0/6 [00:00<?, ?it/s]"
      ]
     },
     "metadata": {},
     "output_type": "display_data"
    },
    {
     "data": {
      "application/vnd.jupyter.widget-view+json": {
       "model_id": "0c606c3c1a7d48189398ea2d8de79d1a",
       "version_major": 2,
       "version_minor": 0
      },
      "text/plain": [
       "  0%|          | 0/6 [00:00<?, ?it/s]"
      ]
     },
     "metadata": {},
     "output_type": "display_data"
    },
    {
     "data": {
      "application/vnd.jupyter.widget-view+json": {
       "model_id": "03a54031b0824d0cbbacb7720a9f9742",
       "version_major": 2,
       "version_minor": 0
      },
      "text/plain": [
       "  0%|          | 0/6 [00:00<?, ?it/s]"
      ]
     },
     "metadata": {},
     "output_type": "display_data"
    },
    {
     "data": {
      "application/vnd.jupyter.widget-view+json": {
       "model_id": "eed30c9008b94fd88f2031f7534ec1e6",
       "version_major": 2,
       "version_minor": 0
      },
      "text/plain": [
       "  0%|          | 0/6 [00:00<?, ?it/s]"
      ]
     },
     "metadata": {},
     "output_type": "display_data"
    },
    {
     "data": {
      "application/vnd.jupyter.widget-view+json": {
       "model_id": "00be89ae08434f35ba024bdb92cc7586",
       "version_major": 2,
       "version_minor": 0
      },
      "text/plain": [
       "  0%|          | 0/6 [00:00<?, ?it/s]"
      ]
     },
     "metadata": {},
     "output_type": "display_data"
    },
    {
     "data": {
      "application/vnd.jupyter.widget-view+json": {
       "model_id": "6262046652b240c8b688761258173041",
       "version_major": 2,
       "version_minor": 0
      },
      "text/plain": [
       "  0%|          | 0/6 [00:00<?, ?it/s]"
      ]
     },
     "metadata": {},
     "output_type": "display_data"
    },
    {
     "data": {
      "application/vnd.jupyter.widget-view+json": {
       "model_id": "49e8bfa4b0ed495cad91ecb3f620d7b1",
       "version_major": 2,
       "version_minor": 0
      },
      "text/plain": [
       "  0%|          | 0/6 [00:00<?, ?it/s]"
      ]
     },
     "metadata": {},
     "output_type": "display_data"
    },
    {
     "data": {
      "application/vnd.jupyter.widget-view+json": {
       "model_id": "d3a7b073641c413997556135c70f064e",
       "version_major": 2,
       "version_minor": 0
      },
      "text/plain": [
       "  0%|          | 0/6 [00:00<?, ?it/s]"
      ]
     },
     "metadata": {},
     "output_type": "display_data"
    },
    {
     "data": {
      "application/vnd.jupyter.widget-view+json": {
       "model_id": "48877d2588a2486295928c0daabc0197",
       "version_major": 2,
       "version_minor": 0
      },
      "text/plain": [
       "  0%|          | 0/6 [00:00<?, ?it/s]"
      ]
     },
     "metadata": {},
     "output_type": "display_data"
    },
    {
     "data": {
      "application/vnd.jupyter.widget-view+json": {
       "model_id": "032d7f573da14f288e7d8e65c0ad701c",
       "version_major": 2,
       "version_minor": 0
      },
      "text/plain": [
       "  0%|          | 0/6 [00:00<?, ?it/s]"
      ]
     },
     "metadata": {},
     "output_type": "display_data"
    },
    {
     "data": {
      "application/vnd.jupyter.widget-view+json": {
       "model_id": "650b2cc6601e4128919347f153c76b54",
       "version_major": 2,
       "version_minor": 0
      },
      "text/plain": [
       "  0%|          | 0/6 [00:00<?, ?it/s]"
      ]
     },
     "metadata": {},
     "output_type": "display_data"
    },
    {
     "data": {
      "application/vnd.jupyter.widget-view+json": {
       "model_id": "f17a9e5d117940fbb7e44cd26e5e3d8d",
       "version_major": 2,
       "version_minor": 0
      },
      "text/plain": [
       "  0%|          | 0/6 [00:00<?, ?it/s]"
      ]
     },
     "metadata": {},
     "output_type": "display_data"
    },
    {
     "data": {
      "application/vnd.jupyter.widget-view+json": {
       "model_id": "850a2bbe09a842c1b5aee3bea624d30a",
       "version_major": 2,
       "version_minor": 0
      },
      "text/plain": [
       "  0%|          | 0/6 [00:00<?, ?it/s]"
      ]
     },
     "metadata": {},
     "output_type": "display_data"
    },
    {
     "data": {
      "application/vnd.jupyter.widget-view+json": {
       "model_id": "901162849f0740dca22b29173ac3c772",
       "version_major": 2,
       "version_minor": 0
      },
      "text/plain": [
       "  0%|          | 0/6 [00:00<?, ?it/s]"
      ]
     },
     "metadata": {},
     "output_type": "display_data"
    },
    {
     "data": {
      "application/vnd.jupyter.widget-view+json": {
       "model_id": "a50f4159e63e453da483607e87cffe20",
       "version_major": 2,
       "version_minor": 0
      },
      "text/plain": [
       "  0%|          | 0/6 [00:00<?, ?it/s]"
      ]
     },
     "metadata": {},
     "output_type": "display_data"
    },
    {
     "data": {
      "application/vnd.jupyter.widget-view+json": {
       "model_id": "5287848fae684564b33ef3d07421bc54",
       "version_major": 2,
       "version_minor": 0
      },
      "text/plain": [
       "  0%|          | 0/6 [00:00<?, ?it/s]"
      ]
     },
     "metadata": {},
     "output_type": "display_data"
    },
    {
     "data": {
      "application/vnd.jupyter.widget-view+json": {
       "model_id": "6617ed3daaa14218a1458d54cc88e6e7",
       "version_major": 2,
       "version_minor": 0
      },
      "text/plain": [
       "  0%|          | 0/6 [00:00<?, ?it/s]"
      ]
     },
     "metadata": {},
     "output_type": "display_data"
    },
    {
     "data": {
      "application/vnd.jupyter.widget-view+json": {
       "model_id": "da16041538584599b74101bb5cd3967b",
       "version_major": 2,
       "version_minor": 0
      },
      "text/plain": [
       "  0%|          | 0/6 [00:00<?, ?it/s]"
      ]
     },
     "metadata": {},
     "output_type": "display_data"
    },
    {
     "data": {
      "application/vnd.jupyter.widget-view+json": {
       "model_id": "62eb4b212997450ba8f5a010a66479aa",
       "version_major": 2,
       "version_minor": 0
      },
      "text/plain": [
       "  0%|          | 0/6 [00:00<?, ?it/s]"
      ]
     },
     "metadata": {},
     "output_type": "display_data"
    },
    {
     "data": {
      "application/vnd.jupyter.widget-view+json": {
       "model_id": "c9b2139867a64363a77d46d8c9b84325",
       "version_major": 2,
       "version_minor": 0
      },
      "text/plain": [
       "  0%|          | 0/6 [00:00<?, ?it/s]"
      ]
     },
     "metadata": {},
     "output_type": "display_data"
    },
    {
     "data": {
      "application/vnd.jupyter.widget-view+json": {
       "model_id": "fbfbc8958bc4465d92252c3a51b3db55",
       "version_major": 2,
       "version_minor": 0
      },
      "text/plain": [
       "  0%|          | 0/6 [00:00<?, ?it/s]"
      ]
     },
     "metadata": {},
     "output_type": "display_data"
    },
    {
     "data": {
      "application/vnd.jupyter.widget-view+json": {
       "model_id": "4309b33b2d4f4ede890da5a7ac972f9d",
       "version_major": 2,
       "version_minor": 0
      },
      "text/plain": [
       "  0%|          | 0/6 [00:00<?, ?it/s]"
      ]
     },
     "metadata": {},
     "output_type": "display_data"
    },
    {
     "data": {
      "application/vnd.jupyter.widget-view+json": {
       "model_id": "464659f096d8457f826c0046998c324c",
       "version_major": 2,
       "version_minor": 0
      },
      "text/plain": [
       "  0%|          | 0/6 [00:00<?, ?it/s]"
      ]
     },
     "metadata": {},
     "output_type": "display_data"
    },
    {
     "data": {
      "application/vnd.jupyter.widget-view+json": {
       "model_id": "361364ebca0c455db65efbde74d04e0b",
       "version_major": 2,
       "version_minor": 0
      },
      "text/plain": [
       "  0%|          | 0/6 [00:00<?, ?it/s]"
      ]
     },
     "metadata": {},
     "output_type": "display_data"
    },
    {
     "data": {
      "application/vnd.jupyter.widget-view+json": {
       "model_id": "4e396ba1666142bb8983ee9b17b5128e",
       "version_major": 2,
       "version_minor": 0
      },
      "text/plain": [
       "  0%|          | 0/6 [00:00<?, ?it/s]"
      ]
     },
     "metadata": {},
     "output_type": "display_data"
    },
    {
     "data": {
      "application/vnd.jupyter.widget-view+json": {
       "model_id": "f6569b93d8fc48d2a371179f1403ec86",
       "version_major": 2,
       "version_minor": 0
      },
      "text/plain": [
       "  0%|          | 0/6 [00:00<?, ?it/s]"
      ]
     },
     "metadata": {},
     "output_type": "display_data"
    },
    {
     "data": {
      "application/vnd.jupyter.widget-view+json": {
       "model_id": "efd58df6dab144dfa697d9db0cf62df6",
       "version_major": 2,
       "version_minor": 0
      },
      "text/plain": [
       "  0%|          | 0/6 [00:00<?, ?it/s]"
      ]
     },
     "metadata": {},
     "output_type": "display_data"
    },
    {
     "data": {
      "application/vnd.jupyter.widget-view+json": {
       "model_id": "bd71c949ab49403b84b988d7b9beb34a",
       "version_major": 2,
       "version_minor": 0
      },
      "text/plain": [
       "  0%|          | 0/6 [00:00<?, ?it/s]"
      ]
     },
     "metadata": {},
     "output_type": "display_data"
    },
    {
     "data": {
      "application/vnd.jupyter.widget-view+json": {
       "model_id": "15a4ab05944e4e1398b96ce61f95efbd",
       "version_major": 2,
       "version_minor": 0
      },
      "text/plain": [
       "  0%|          | 0/6 [00:00<?, ?it/s]"
      ]
     },
     "metadata": {},
     "output_type": "display_data"
    },
    {
     "data": {
      "application/vnd.jupyter.widget-view+json": {
       "model_id": "19a044c01fe04831b1e585023f51a0a5",
       "version_major": 2,
       "version_minor": 0
      },
      "text/plain": [
       "  0%|          | 0/6 [00:00<?, ?it/s]"
      ]
     },
     "metadata": {},
     "output_type": "display_data"
    },
    {
     "data": {
      "application/vnd.jupyter.widget-view+json": {
       "model_id": "e755dc02b61a4e2abe9d7af191e39645",
       "version_major": 2,
       "version_minor": 0
      },
      "text/plain": [
       "  0%|          | 0/6 [00:00<?, ?it/s]"
      ]
     },
     "metadata": {},
     "output_type": "display_data"
    },
    {
     "data": {
      "application/vnd.jupyter.widget-view+json": {
       "model_id": "9d63e1ea64e34a31aa6d83b5e582f80f",
       "version_major": 2,
       "version_minor": 0
      },
      "text/plain": [
       "  0%|          | 0/6 [00:00<?, ?it/s]"
      ]
     },
     "metadata": {},
     "output_type": "display_data"
    },
    {
     "data": {
      "application/vnd.jupyter.widget-view+json": {
       "model_id": "1c1e8d5a223a4bb58a51714a7e619450",
       "version_major": 2,
       "version_minor": 0
      },
      "text/plain": [
       "  0%|          | 0/6 [00:00<?, ?it/s]"
      ]
     },
     "metadata": {},
     "output_type": "display_data"
    },
    {
     "data": {
      "application/vnd.jupyter.widget-view+json": {
       "model_id": "b8127c2d594546e7bbcbb94e1f7d660a",
       "version_major": 2,
       "version_minor": 0
      },
      "text/plain": [
       "  0%|          | 0/6 [00:00<?, ?it/s]"
      ]
     },
     "metadata": {},
     "output_type": "display_data"
    },
    {
     "data": {
      "application/vnd.jupyter.widget-view+json": {
       "model_id": "1a3958c7fffc42e0bd1adcf18f1fae6a",
       "version_major": 2,
       "version_minor": 0
      },
      "text/plain": [
       "  0%|          | 0/6 [00:00<?, ?it/s]"
      ]
     },
     "metadata": {},
     "output_type": "display_data"
    },
    {
     "data": {
      "application/vnd.jupyter.widget-view+json": {
       "model_id": "629a1ab410694c8fbac3412b016c3346",
       "version_major": 2,
       "version_minor": 0
      },
      "text/plain": [
       "  0%|          | 0/6 [00:00<?, ?it/s]"
      ]
     },
     "metadata": {},
     "output_type": "display_data"
    },
    {
     "data": {
      "application/vnd.jupyter.widget-view+json": {
       "model_id": "6f6c7376c1684367b2587f31f8c4fdf2",
       "version_major": 2,
       "version_minor": 0
      },
      "text/plain": [
       "  0%|          | 0/6 [00:00<?, ?it/s]"
      ]
     },
     "metadata": {},
     "output_type": "display_data"
    },
    {
     "data": {
      "application/vnd.jupyter.widget-view+json": {
       "model_id": "d40b81818a974ac2816be799ab04879c",
       "version_major": 2,
       "version_minor": 0
      },
      "text/plain": [
       "  0%|          | 0/6 [00:00<?, ?it/s]"
      ]
     },
     "metadata": {},
     "output_type": "display_data"
    },
    {
     "data": {
      "application/vnd.jupyter.widget-view+json": {
       "model_id": "46cfcad81ca8481caa254510da8f0570",
       "version_major": 2,
       "version_minor": 0
      },
      "text/plain": [
       "  0%|          | 0/6 [00:00<?, ?it/s]"
      ]
     },
     "metadata": {},
     "output_type": "display_data"
    },
    {
     "data": {
      "application/vnd.jupyter.widget-view+json": {
       "model_id": "711e78afb7bf4b9f917dc3c3b18ff08b",
       "version_major": 2,
       "version_minor": 0
      },
      "text/plain": [
       "  0%|          | 0/6 [00:00<?, ?it/s]"
      ]
     },
     "metadata": {},
     "output_type": "display_data"
    },
    {
     "data": {
      "application/vnd.jupyter.widget-view+json": {
       "model_id": "045cd76b2d5941f6bf832f69dd528e77",
       "version_major": 2,
       "version_minor": 0
      },
      "text/plain": [
       "  0%|          | 0/6 [00:00<?, ?it/s]"
      ]
     },
     "metadata": {},
     "output_type": "display_data"
    },
    {
     "data": {
      "application/vnd.jupyter.widget-view+json": {
       "model_id": "fae5ea2405a44a9988c82cecbe2dbabd",
       "version_major": 2,
       "version_minor": 0
      },
      "text/plain": [
       "  0%|          | 0/6 [00:00<?, ?it/s]"
      ]
     },
     "metadata": {},
     "output_type": "display_data"
    },
    {
     "data": {
      "application/vnd.jupyter.widget-view+json": {
       "model_id": "8f504df5852d4c43ba7f209a86e735cd",
       "version_major": 2,
       "version_minor": 0
      },
      "text/plain": [
       "  0%|          | 0/6 [00:00<?, ?it/s]"
      ]
     },
     "metadata": {},
     "output_type": "display_data"
    },
    {
     "data": {
      "application/vnd.jupyter.widget-view+json": {
       "model_id": "33cdf9705a6447cb9cd9ece040bcce94",
       "version_major": 2,
       "version_minor": 0
      },
      "text/plain": [
       "  0%|          | 0/6 [00:00<?, ?it/s]"
      ]
     },
     "metadata": {},
     "output_type": "display_data"
    },
    {
     "data": {
      "application/vnd.jupyter.widget-view+json": {
       "model_id": "564f76951da744f497f17e6acf5aab31",
       "version_major": 2,
       "version_minor": 0
      },
      "text/plain": [
       "  0%|          | 0/6 [00:00<?, ?it/s]"
      ]
     },
     "metadata": {},
     "output_type": "display_data"
    },
    {
     "data": {
      "application/vnd.jupyter.widget-view+json": {
       "model_id": "2355f65aac9a4f959ff6ee49ffb503d4",
       "version_major": 2,
       "version_minor": 0
      },
      "text/plain": [
       "  0%|          | 0/6 [00:00<?, ?it/s]"
      ]
     },
     "metadata": {},
     "output_type": "display_data"
    },
    {
     "data": {
      "application/vnd.jupyter.widget-view+json": {
       "model_id": "3bc19a4a67394fb2934d6361c001fcf6",
       "version_major": 2,
       "version_minor": 0
      },
      "text/plain": [
       "  0%|          | 0/6 [00:00<?, ?it/s]"
      ]
     },
     "metadata": {},
     "output_type": "display_data"
    },
    {
     "data": {
      "application/vnd.jupyter.widget-view+json": {
       "model_id": "3227d3126aa84468a0bc58346016683c",
       "version_major": 2,
       "version_minor": 0
      },
      "text/plain": [
       "  0%|          | 0/6 [00:00<?, ?it/s]"
      ]
     },
     "metadata": {},
     "output_type": "display_data"
    },
    {
     "data": {
      "application/vnd.jupyter.widget-view+json": {
       "model_id": "33f5953c4f8b4270b377e58347b5fadd",
       "version_major": 2,
       "version_minor": 0
      },
      "text/plain": [
       "  0%|          | 0/6 [00:00<?, ?it/s]"
      ]
     },
     "metadata": {},
     "output_type": "display_data"
    },
    {
     "data": {
      "application/vnd.jupyter.widget-view+json": {
       "model_id": "9bf05ef29dfa4dd195810ede78560141",
       "version_major": 2,
       "version_minor": 0
      },
      "text/plain": [
       "  0%|          | 0/6 [00:00<?, ?it/s]"
      ]
     },
     "metadata": {},
     "output_type": "display_data"
    },
    {
     "data": {
      "application/vnd.jupyter.widget-view+json": {
       "model_id": "4048bf8c1ef044d6aabb89c22e8c28e3",
       "version_major": 2,
       "version_minor": 0
      },
      "text/plain": [
       "  0%|          | 0/6 [00:00<?, ?it/s]"
      ]
     },
     "metadata": {},
     "output_type": "display_data"
    },
    {
     "data": {
      "application/vnd.jupyter.widget-view+json": {
       "model_id": "a1675adbbbb94cb2b5a0f54f62a5b4a7",
       "version_major": 2,
       "version_minor": 0
      },
      "text/plain": [
       "  0%|          | 0/6 [00:00<?, ?it/s]"
      ]
     },
     "metadata": {},
     "output_type": "display_data"
    },
    {
     "data": {
      "application/vnd.jupyter.widget-view+json": {
       "model_id": "6a4ffc8625194af7bc0b4f086927def2",
       "version_major": 2,
       "version_minor": 0
      },
      "text/plain": [
       "  0%|          | 0/6 [00:00<?, ?it/s]"
      ]
     },
     "metadata": {},
     "output_type": "display_data"
    },
    {
     "data": {
      "application/vnd.jupyter.widget-view+json": {
       "model_id": "a7ac53fd892345bda4914d1f1388b3cf",
       "version_major": 2,
       "version_minor": 0
      },
      "text/plain": [
       "  0%|          | 0/6 [00:00<?, ?it/s]"
      ]
     },
     "metadata": {},
     "output_type": "display_data"
    },
    {
     "data": {
      "application/vnd.jupyter.widget-view+json": {
       "model_id": "4f1945827d5243a5a3047e0a238b3503",
       "version_major": 2,
       "version_minor": 0
      },
      "text/plain": [
       "  0%|          | 0/6 [00:00<?, ?it/s]"
      ]
     },
     "metadata": {},
     "output_type": "display_data"
    },
    {
     "data": {
      "application/vnd.jupyter.widget-view+json": {
       "model_id": "4375730a27624d75aa1a7699c23ba59b",
       "version_major": 2,
       "version_minor": 0
      },
      "text/plain": [
       "  0%|          | 0/6 [00:00<?, ?it/s]"
      ]
     },
     "metadata": {},
     "output_type": "display_data"
    },
    {
     "data": {
      "application/vnd.jupyter.widget-view+json": {
       "model_id": "f3b99e66e23c4f87ab25e50071254029",
       "version_major": 2,
       "version_minor": 0
      },
      "text/plain": [
       "  0%|          | 0/6 [00:00<?, ?it/s]"
      ]
     },
     "metadata": {},
     "output_type": "display_data"
    },
    {
     "data": {
      "application/vnd.jupyter.widget-view+json": {
       "model_id": "fad784dbcbae45f28c5a54a6e159c063",
       "version_major": 2,
       "version_minor": 0
      },
      "text/plain": [
       "  0%|          | 0/6 [00:00<?, ?it/s]"
      ]
     },
     "metadata": {},
     "output_type": "display_data"
    },
    {
     "data": {
      "application/vnd.jupyter.widget-view+json": {
       "model_id": "c5712b7e307743e3b4de66b3f5dcd3d1",
       "version_major": 2,
       "version_minor": 0
      },
      "text/plain": [
       "  0%|          | 0/6 [00:00<?, ?it/s]"
      ]
     },
     "metadata": {},
     "output_type": "display_data"
    },
    {
     "data": {
      "application/vnd.jupyter.widget-view+json": {
       "model_id": "7b146c6fa73946e1a8bc5aadb6117d45",
       "version_major": 2,
       "version_minor": 0
      },
      "text/plain": [
       "  0%|          | 0/6 [00:00<?, ?it/s]"
      ]
     },
     "metadata": {},
     "output_type": "display_data"
    },
    {
     "data": {
      "application/vnd.jupyter.widget-view+json": {
       "model_id": "b1748ad716be45369767a9cc13fb0fa8",
       "version_major": 2,
       "version_minor": 0
      },
      "text/plain": [
       "  0%|          | 0/6 [00:00<?, ?it/s]"
      ]
     },
     "metadata": {},
     "output_type": "display_data"
    },
    {
     "data": {
      "application/vnd.jupyter.widget-view+json": {
       "model_id": "cce2ff1526eb4ea79aab162487e0ae6d",
       "version_major": 2,
       "version_minor": 0
      },
      "text/plain": [
       "  0%|          | 0/6 [00:00<?, ?it/s]"
      ]
     },
     "metadata": {},
     "output_type": "display_data"
    },
    {
     "data": {
      "application/vnd.jupyter.widget-view+json": {
       "model_id": "c9eb5cd75c024298a549d39719a110a2",
       "version_major": 2,
       "version_minor": 0
      },
      "text/plain": [
       "  0%|          | 0/6 [00:00<?, ?it/s]"
      ]
     },
     "metadata": {},
     "output_type": "display_data"
    },
    {
     "data": {
      "application/vnd.jupyter.widget-view+json": {
       "model_id": "6f321c7a5902402aaa04b1be52c65909",
       "version_major": 2,
       "version_minor": 0
      },
      "text/plain": [
       "  0%|          | 0/6 [00:00<?, ?it/s]"
      ]
     },
     "metadata": {},
     "output_type": "display_data"
    },
    {
     "data": {
      "application/vnd.jupyter.widget-view+json": {
       "model_id": "f503617848c64084b9edbf0b0aaed56a",
       "version_major": 2,
       "version_minor": 0
      },
      "text/plain": [
       "  0%|          | 0/6 [00:00<?, ?it/s]"
      ]
     },
     "metadata": {},
     "output_type": "display_data"
    },
    {
     "data": {
      "application/vnd.jupyter.widget-view+json": {
       "model_id": "3904913f2e754507993fe24a1861fc1e",
       "version_major": 2,
       "version_minor": 0
      },
      "text/plain": [
       "  0%|          | 0/6 [00:00<?, ?it/s]"
      ]
     },
     "metadata": {},
     "output_type": "display_data"
    },
    {
     "data": {
      "application/vnd.jupyter.widget-view+json": {
       "model_id": "4d2e367f31a54d2d87618e3b8bcd0807",
       "version_major": 2,
       "version_minor": 0
      },
      "text/plain": [
       "  0%|          | 0/6 [00:00<?, ?it/s]"
      ]
     },
     "metadata": {},
     "output_type": "display_data"
    },
    {
     "data": {
      "application/vnd.jupyter.widget-view+json": {
       "model_id": "3b2118fb701d467f8609f286389364dd",
       "version_major": 2,
       "version_minor": 0
      },
      "text/plain": [
       "  0%|          | 0/6 [00:00<?, ?it/s]"
      ]
     },
     "metadata": {},
     "output_type": "display_data"
    },
    {
     "data": {
      "application/vnd.jupyter.widget-view+json": {
       "model_id": "62c3d007417e4e61bb3659895dc41278",
       "version_major": 2,
       "version_minor": 0
      },
      "text/plain": [
       "  0%|          | 0/6 [00:00<?, ?it/s]"
      ]
     },
     "metadata": {},
     "output_type": "display_data"
    },
    {
     "data": {
      "application/vnd.jupyter.widget-view+json": {
       "model_id": "a2de24116e9d4554b09c84bea8542acc",
       "version_major": 2,
       "version_minor": 0
      },
      "text/plain": [
       "  0%|          | 0/6 [00:00<?, ?it/s]"
      ]
     },
     "metadata": {},
     "output_type": "display_data"
    },
    {
     "data": {
      "application/vnd.jupyter.widget-view+json": {
       "model_id": "6a151578326243b58bf66c6c16dcc1c8",
       "version_major": 2,
       "version_minor": 0
      },
      "text/plain": [
       "  0%|          | 0/6 [00:00<?, ?it/s]"
      ]
     },
     "metadata": {},
     "output_type": "display_data"
    },
    {
     "data": {
      "application/vnd.jupyter.widget-view+json": {
       "model_id": "2b8fcda1a25f40c2be51178fa4b35e65",
       "version_major": 2,
       "version_minor": 0
      },
      "text/plain": [
       "  0%|          | 0/6 [00:00<?, ?it/s]"
      ]
     },
     "metadata": {},
     "output_type": "display_data"
    },
    {
     "data": {
      "application/vnd.jupyter.widget-view+json": {
       "model_id": "36b24400fe4b4de69ad382c7e0ca6557",
       "version_major": 2,
       "version_minor": 0
      },
      "text/plain": [
       "  0%|          | 0/6 [00:00<?, ?it/s]"
      ]
     },
     "metadata": {},
     "output_type": "display_data"
    },
    {
     "data": {
      "application/vnd.jupyter.widget-view+json": {
       "model_id": "17e862838b5847179132104b62ac48cb",
       "version_major": 2,
       "version_minor": 0
      },
      "text/plain": [
       "  0%|          | 0/6 [00:00<?, ?it/s]"
      ]
     },
     "metadata": {},
     "output_type": "display_data"
    },
    {
     "data": {
      "application/vnd.jupyter.widget-view+json": {
       "model_id": "e2e70ea9f69f4a2ca4528d51764b42c3",
       "version_major": 2,
       "version_minor": 0
      },
      "text/plain": [
       "  0%|          | 0/6 [00:00<?, ?it/s]"
      ]
     },
     "metadata": {},
     "output_type": "display_data"
    },
    {
     "data": {
      "application/vnd.jupyter.widget-view+json": {
       "model_id": "f0f94972d5a342349f5f923e5e645e91",
       "version_major": 2,
       "version_minor": 0
      },
      "text/plain": [
       "  0%|          | 0/6 [00:00<?, ?it/s]"
      ]
     },
     "metadata": {},
     "output_type": "display_data"
    },
    {
     "data": {
      "application/vnd.jupyter.widget-view+json": {
       "model_id": "2342e90822e745f2b6d0bb9c7683cc9b",
       "version_major": 2,
       "version_minor": 0
      },
      "text/plain": [
       "  0%|          | 0/6 [00:00<?, ?it/s]"
      ]
     },
     "metadata": {},
     "output_type": "display_data"
    },
    {
     "data": {
      "application/vnd.jupyter.widget-view+json": {
       "model_id": "52b2bc676a6543bdb097c8c186cb5b73",
       "version_major": 2,
       "version_minor": 0
      },
      "text/plain": [
       "  0%|          | 0/6 [00:00<?, ?it/s]"
      ]
     },
     "metadata": {},
     "output_type": "display_data"
    },
    {
     "data": {
      "application/vnd.jupyter.widget-view+json": {
       "model_id": "064732b3b9c94df0b460e1da2140737e",
       "version_major": 2,
       "version_minor": 0
      },
      "text/plain": [
       "  0%|          | 0/6 [00:00<?, ?it/s]"
      ]
     },
     "metadata": {},
     "output_type": "display_data"
    }
   ],
   "source": [
    "nproj = 40\n",
    "alpha = 0.1\n",
    "nval = xval.shape[0]\n",
    "\n",
    "nsamp_seq = [125, 250, 500, 1000, 2000, 4000]\n",
    "m = len(gamma_seq)\n",
    "\n",
    "lsci_risk = []\n",
    "lsci_width = []\n",
    "lsci_time = []\n",
    "\n",
    "yval_hat = model(xval)\n",
    "ytest_hat = model(xtest)\n",
    "\n",
    "yval = yval.reshape(yval.shape[0], -1)\n",
    "yval_hat = yval_hat.reshape(yval_hat.shape[0], -1)\n",
    "state = lsci.lsci_state(xval.squeeze(), rval, npc)\n",
    "pca_state = state[-1]\n",
    "\n",
    "rval = (yval - yval_hat).squeeze()\n",
    "rtest = (ytest - ytest_hat).squeeze()\n",
    "\n",
    "conf_lower, conf_upper = conf.conf_band(rval, pca_state, alpha)\n",
    "conf_risk = []\n",
    "conf_width = []\n",
    "\n",
    "for i in trange(0, ntest):\n",
    "    # LSCI\n",
    "    _rc = np.zeros(m)\n",
    "    _width = np.zeros(m)\n",
    "    for j in trange(m, leave = False):\n",
    "        lsc_lower, lsc_upper = lsci.lsci_band(xtest[i].squeeze(), state, alpha, nsamp_seq[j], 0.1)\n",
    "        _rc[j] = risk(lsc_lower, lsc_upper, rtest[i])\n",
    "        _width[j] = jnp.median(lsc_upper - lsc_lower)\n",
    "        \n",
    "    lsci_risk.append(_rc)\n",
    "    lsci_width.append(_width)\n",
    "    \n",
    "    conf_risk.append(risk(conf_lower, conf_upper, rtest[i]))\n",
    "    conf_width.append(jnp.mean(conf_upper - conf_lower))\n",
    "    \n",
    "lsci_risk = np.array(lsci_risk)\n",
    "conf_risk = np.array(conf_risk)\n",
    "lsci_width = np.array(lsci_width)\n",
    "conf_width = np.array(conf_width)\n",
    "\n",
    "metrics2 = [lsci_risk, lsci_width, conf_risk, conf_width]"
   ]
  },
  {
   "cell_type": "code",
   "execution_count": 49,
   "id": "6dc3c8a3",
   "metadata": {},
   "outputs": [],
   "source": [
    "# rcc_lsci = [np.corrcoef([lsci_risk[:,i] >= 0.99, res_sd])[0,1] for i in range(6)]\n",
    "# rcc_conf = np.corrcoef([conf_risk >= 0.99, res_sd])[0,1]\n",
    "\n",
    "# run2 = [lsci_risk, lsci_width, conf_risk, conf_width]"
   ]
  },
  {
   "cell_type": "code",
   "execution_count": 59,
   "id": "105ec0dd-25ed-47c8-bd3b-44eedaa58af7",
   "metadata": {},
   "outputs": [],
   "source": [
    "metrics2 = [lsci_risk, lsci_width, conf_risk, conf_width]"
   ]
  },
  {
   "cell_type": "code",
   "execution_count": 60,
   "id": "43826955",
   "metadata": {},
   "outputs": [
    {
     "data": {
      "image/png": "[encoded data removed]",
      "text/plain": [
       "<Figure size 1500x400 with 4 Axes>"
      ]
     },
     "metadata": {},
     "output_type": "display_data"
    }
   ],
   "source": [
    "fig, ax = plt.subplots(1, 4, constrained_layout = True, figsize = (15, 4))\n",
    "\n",
    "ax[0].boxplot(lsci_width, tick_labels = nsamp_seq, label = 'LSCI')\n",
    "ax[0].axhline(np.mean(conf_width), c = 'C0', label = 'Conf')\n",
    "ax[0].set_title('Prediction set width ($k = 0.1$)', fontsize = 18)\n",
    "ax[0].set_xlabel('$n_{samp}$', fontsize = 18)\n",
    "ax[0].legend()\n",
    "\n",
    "ax[1].plot(np.mean(lsci_risk >= 0.99, axis = 0), c = 'C1', marker = 'o', label = 'LSCI')\n",
    "ax[1].axhline(np.mean(conf_risk >= 0.99, axis = 0), label = 'Conf')\n",
    "ax[1].axhline(0.9, c = 'black', label = 'Nominal')\n",
    "ax[1].set_xticks(np.arange(6))\n",
    "ax[1].set_xticklabels(nsamp_seq, fontsize = 14)\n",
    "ax[1].set_title('Empirical risk ($k = 0.1$)', fontsize = 18)\n",
    "ax[1].set_xlabel('$n_{samp}$', fontsize = 18)\n",
    "ax[1].legend()\n",
    "\n",
    "# ax[2].plot(rcc_lsci, marker = 'o', c = 'C1', label = 'LSCI')\n",
    "# ax[2].axhline(0.0, c = 'black')\n",
    "# ax[2].axhline(rcc_conf, c = 'C0', label = 'Conf')\n",
    "# ax[2].set_xticks(np.arange(6))\n",
    "# ax[2].set_xticklabels(nsamp_seq, fontsize = 14)\n",
    "# ax[2].set_title('Risk correlation', fontsize = 18)\n",
    "# ax[2].set_xlabel('$n_{samp}$', fontsize = 18)\n",
    "# ax[2].legend()\n",
    "\n",
    "plt.show()"
   ]
  },
  {
   "cell_type": "code",
   "execution_count": null,
   "id": "645ac1d3",
   "metadata": {},
   "outputs": [],
   "source": []
  },
  {
   "cell_type": "code",
   "execution_count": 314,
   "id": "a93e9141",
   "metadata": {},
   "outputs": [
    {
     "ename": "ValueError",
     "evalue": "setting an array element with a sequence. The requested array has an inhomogeneous shape after 1 dimensions. The detected shape was (2,) + inhomogeneous part.",
     "output_type": "error",
     "traceback": [
      "\u001b[0;31m---------------------------------------------------------------------------\u001b[0m",
      "\u001b[0;31mValueError\u001b[0m                                Traceback (most recent call last)",
      "Cell \u001b[0;32mIn[314], line 3\u001b[0m\n\u001b[1;32m      1\u001b[0m \u001b[38;5;66;03m# res_sd = np.std(rtest[0:150], axis = 1)\u001b[39;00m\n\u001b[1;32m      2\u001b[0m res_sd \u001b[38;5;241m=\u001b[39m sigma[\u001b[38;5;241m0\u001b[39m:\u001b[38;5;241m150\u001b[39m]\n\u001b[0;32m----> 3\u001b[0m rc_corr \u001b[38;5;241m=\u001b[39m [np\u001b[38;5;241m.\u001b[39mcorrcoef([lsci_rc[:,i], res_sd])[\u001b[38;5;241m0\u001b[39m,\u001b[38;5;241m1\u001b[39m] \u001b[38;5;28;01mfor\u001b[39;00m i \u001b[38;5;129;01min\u001b[39;00m \u001b[38;5;28mrange\u001b[39m(\u001b[38;5;241m6\u001b[39m)]\n\u001b[1;32m      4\u001b[0m width_corr \u001b[38;5;241m=\u001b[39m [np\u001b[38;5;241m.\u001b[39mcorrcoef([lsci_width[:,i], res_sd])[\u001b[38;5;241m0\u001b[39m,\u001b[38;5;241m1\u001b[39m] \u001b[38;5;28;01mfor\u001b[39;00m i \u001b[38;5;129;01min\u001b[39;00m \u001b[38;5;28mrange\u001b[39m(\u001b[38;5;241m6\u001b[39m)]\n",
      "Cell \u001b[0;32mIn[314], line 3\u001b[0m, in \u001b[0;36m<listcomp>\u001b[0;34m(.0)\u001b[0m\n\u001b[1;32m      1\u001b[0m \u001b[38;5;66;03m# res_sd = np.std(rtest[0:150], axis = 1)\u001b[39;00m\n\u001b[1;32m      2\u001b[0m res_sd \u001b[38;5;241m=\u001b[39m sigma[\u001b[38;5;241m0\u001b[39m:\u001b[38;5;241m150\u001b[39m]\n\u001b[0;32m----> 3\u001b[0m rc_corr \u001b[38;5;241m=\u001b[39m [\u001b[43mnp\u001b[49m\u001b[38;5;241;43m.\u001b[39;49m\u001b[43mcorrcoef\u001b[49m\u001b[43m(\u001b[49m\u001b[43m[\u001b[49m\u001b[43mlsci_rc\u001b[49m\u001b[43m[\u001b[49m\u001b[43m:\u001b[49m\u001b[43m,\u001b[49m\u001b[43mi\u001b[49m\u001b[43m]\u001b[49m\u001b[43m,\u001b[49m\u001b[43m \u001b[49m\u001b[43mres_sd\u001b[49m\u001b[43m]\u001b[49m\u001b[43m)\u001b[49m[\u001b[38;5;241m0\u001b[39m,\u001b[38;5;241m1\u001b[39m] \u001b[38;5;28;01mfor\u001b[39;00m i \u001b[38;5;129;01min\u001b[39;00m \u001b[38;5;28mrange\u001b[39m(\u001b[38;5;241m6\u001b[39m)]\n\u001b[1;32m      4\u001b[0m width_corr \u001b[38;5;241m=\u001b[39m [np\u001b[38;5;241m.\u001b[39mcorrcoef([lsci_width[:,i], res_sd])[\u001b[38;5;241m0\u001b[39m,\u001b[38;5;241m1\u001b[39m] \u001b[38;5;28;01mfor\u001b[39;00m i \u001b[38;5;129;01min\u001b[39;00m \u001b[38;5;28mrange\u001b[39m(\u001b[38;5;241m6\u001b[39m)]\n",
      "File \u001b[0;32m~/miniconda3/lib/python3.10/site-packages/numpy/lib/_function_base_impl.py:3037\u001b[0m, in \u001b[0;36mcorrcoef\u001b[0;34m(x, y, rowvar, bias, ddof, dtype)\u001b[0m\n\u001b[1;32m   3033\u001b[0m \u001b[38;5;28;01mif\u001b[39;00m bias \u001b[38;5;129;01mis\u001b[39;00m \u001b[38;5;129;01mnot\u001b[39;00m np\u001b[38;5;241m.\u001b[39m_NoValue \u001b[38;5;129;01mor\u001b[39;00m ddof \u001b[38;5;129;01mis\u001b[39;00m \u001b[38;5;129;01mnot\u001b[39;00m np\u001b[38;5;241m.\u001b[39m_NoValue:\n\u001b[1;32m   3034\u001b[0m     \u001b[38;5;66;03m# 2015-03-15, 1.10\u001b[39;00m\n\u001b[1;32m   3035\u001b[0m     warnings\u001b[38;5;241m.\u001b[39mwarn(\u001b[38;5;124m'\u001b[39m\u001b[38;5;124mbias and ddof have no effect and are deprecated\u001b[39m\u001b[38;5;124m'\u001b[39m,\n\u001b[1;32m   3036\u001b[0m                   \u001b[38;5;167;01mDeprecationWarning\u001b[39;00m, stacklevel\u001b[38;5;241m=\u001b[39m\u001b[38;5;241m2\u001b[39m)\n\u001b[0;32m-> 3037\u001b[0m c \u001b[38;5;241m=\u001b[39m \u001b[43mcov\u001b[49m\u001b[43m(\u001b[49m\u001b[43mx\u001b[49m\u001b[43m,\u001b[49m\u001b[43m \u001b[49m\u001b[43my\u001b[49m\u001b[43m,\u001b[49m\u001b[43m \u001b[49m\u001b[43mrowvar\u001b[49m\u001b[43m,\u001b[49m\u001b[43m \u001b[49m\u001b[43mdtype\u001b[49m\u001b[38;5;241;43m=\u001b[39;49m\u001b[43mdtype\u001b[49m\u001b[43m)\u001b[49m\n\u001b[1;32m   3038\u001b[0m \u001b[38;5;28;01mtry\u001b[39;00m:\n\u001b[1;32m   3039\u001b[0m     d \u001b[38;5;241m=\u001b[39m diag(c)\n",
      "File \u001b[0;32m~/miniconda3/lib/python3.10/site-packages/numpy/lib/_function_base_impl.py:2805\u001b[0m, in \u001b[0;36mcov\u001b[0;34m(m, y, rowvar, bias, ddof, fweights, aweights, dtype)\u001b[0m\n\u001b[1;32m   2801\u001b[0m     \u001b[38;5;28;01mraise\u001b[39;00m \u001b[38;5;167;01mValueError\u001b[39;00m(\n\u001b[1;32m   2802\u001b[0m         \u001b[38;5;124m\"\u001b[39m\u001b[38;5;124mddof must be integer\u001b[39m\u001b[38;5;124m\"\u001b[39m)\n\u001b[1;32m   2804\u001b[0m \u001b[38;5;66;03m# Handles complex arrays too\u001b[39;00m\n\u001b[0;32m-> 2805\u001b[0m m \u001b[38;5;241m=\u001b[39m \u001b[43mnp\u001b[49m\u001b[38;5;241;43m.\u001b[39;49m\u001b[43masarray\u001b[49m\u001b[43m(\u001b[49m\u001b[43mm\u001b[49m\u001b[43m)\u001b[49m\n\u001b[1;32m   2806\u001b[0m \u001b[38;5;28;01mif\u001b[39;00m m\u001b[38;5;241m.\u001b[39mndim \u001b[38;5;241m>\u001b[39m \u001b[38;5;241m2\u001b[39m:\n\u001b[1;32m   2807\u001b[0m     \u001b[38;5;28;01mraise\u001b[39;00m \u001b[38;5;167;01mValueError\u001b[39;00m(\u001b[38;5;124m\"\u001b[39m\u001b[38;5;124mm has more than 2 dimensions\u001b[39m\u001b[38;5;124m\"\u001b[39m)\n",
      "\u001b[0;31mValueError\u001b[0m: setting an array element with a sequence. The requested array has an inhomogeneous shape after 1 dimensions. The detected shape was (2,) + inhomogeneous part."
     ]
    }
   ],
   "source": [
    "# res_sd = np.std(rtest[0:150], axis = 1)\n",
    "res_sd = sigma[0:150]\n",
    "rc_corr = [np.corrcoef([lsci_rc[:,i], res_sd])[0,1] for i in range(6)]\n",
    "width_corr = [np.corrcoef([lsci_width[:,i], res_sd])[0,1] for i in range(6)]"
   ]
  },
  {
   "cell_type": "code",
   "execution_count": null,
   "id": "e9c53b85",
   "metadata": {},
   "outputs": [],
   "source": [
    "fig, ax = plt.subplots(1, 2, constrained_layout = True, figsize = (10, 4))\n",
    "\n",
    "ax[0].plot(np.mean(lsci_rc > 0.99, axis = 0), marker = 'o')\n",
    "ax[0].axhline(0.9)\n",
    "\n",
    "ax[1].plot(rc_corr, marker = 'o')\n",
    "ax[1].axhline(0.0)\n",
    "plt.show()"
   ]
  },
  {
   "cell_type": "code",
   "execution_count": null,
   "id": "19887a34",
   "metadata": {},
   "outputs": [],
   "source": []
  },
  {
   "cell_type": "code",
   "execution_count": null,
   "id": "0e868665",
   "metadata": {},
   "outputs": [],
   "source": []
  },
  {
   "cell_type": "code",
   "execution_count": 201,
   "id": "7c388ab2",
   "metadata": {},
   "outputs": [
    {
     "data": {
      "application/vnd.jupyter.widget-view+json": {
       "model_id": "ce218a8ed8194c9d94dbb5ef53b06bb4",
       "version_major": 2,
       "version_minor": 0
      },
      "text/plain": [
       "  0%|          | 0/500 [00:00<?, ?it/s]"
      ]
     },
     "metadata": {},
     "output_type": "display_data"
    }
   ],
   "source": [
    "quant = DeepANO(lag, 50, lead, rngs=nnx.Rngs(0))\n",
    "optim = nnx.Optimizer(quant, optax.adam(1e-3))\n",
    "rng = random.PRNGKey(0)\n",
    "\n",
    "for _ in trange(epochs):\n",
    "    for xt, yt in train_loader:\n",
    "        xt = torch2jax(xt)\n",
    "        yt = torch2jax(yt)\n",
    "        \n",
    "        loss = quant_step(quant, optim, xt, yt)\n",
    "        trace.append(loss)"
   ]
  },
  {
   "cell_type": "code",
   "execution_count": 202,
   "id": "fc0222cd",
   "metadata": {},
   "outputs": [],
   "source": [
    "model.eval()\n",
    "quant.eval()"
   ]
  },
  {
   "cell_type": "code",
   "execution_count": 203,
   "id": "99e5391e",
   "metadata": {},
   "outputs": [],
   "source": [
    "yval_hat = model(xval)\n",
    "ytest_hat = model(xtest)\n",
    "yval_quant = quant(xval)\n",
    "ytest_quant = quant(xtest)"
   ]
  },
  {
   "cell_type": "code",
   "execution_count": 204,
   "id": "1e22619d",
   "metadata": {},
   "outputs": [],
   "source": [
    "# nproj = 90\n",
    "# gamma1 = 0.2\n",
    "# alpha = 0.1\n",
    "# nval = xval.shape[0]\n",
    "# alpha1 = 1 - jnp.ceil((1-alpha) * (gamma1*nval + 1))/(gamma1*nval)"
   ]
  },
  {
   "cell_type": "code",
   "execution_count": 205,
   "id": "f42d3000",
   "metadata": {},
   "outputs": [],
   "source": [
    "yval = yval.reshape(yval.shape[0], -1)\n",
    "yval_hat = yval_hat.reshape(yval_hat.shape[0], -1)\n",
    "# pca_state = lsci.phi_state(yval, yval_hat, nproj)"
   ]
  },
  {
   "cell_type": "code",
   "execution_count": 206,
   "id": "30306593",
   "metadata": {},
   "outputs": [
    {
     "data": {
      "text/plain": [
       "Array(0.08691277, dtype=float32)"
      ]
     },
     "execution_count": 206,
     "metadata": {},
     "output_type": "execute_result"
    }
   ],
   "source": [
    "# UQNO lambda estimate\n",
    "yval_quant = yval.reshape(yval_quant.shape[0], -1)\n",
    "ytest_quant = ytest_quant.reshape(ytest_quant.shape[0], -1)\n",
    "\n",
    "alpha = 0.1\n",
    "delta = 0.01\n",
    "# m = 32*64\n",
    "m = 100\n",
    "tau = 1.1 * jnp.sqrt(-jnp.log(delta)/(2*m))\n",
    "sg = jnp.abs(yval - yval_hat) / yval_quant\n",
    "sg = jnp.quantile(sg, 1-alpha+tau, axis = (1))\n",
    "nval = sg.shape[0]\n",
    "\n",
    "adj_alpha = 1 - jnp.ceil((nval + 1) * (delta - jnp.exp(-2*m*tau**2)))/nval\n",
    "lam_uqno = jnp.quantile(sg, adj_alpha)\n",
    "lam_uqno"
   ]
  },
  {
   "cell_type": "code",
   "execution_count": 213,
   "id": "6fc47864",
   "metadata": {},
   "outputs": [
    {
     "data": {
      "application/vnd.jupyter.widget-view+json": {
       "model_id": "6ac03d1abd0d4e0cb814deef05b85caf",
       "version_major": 2,
       "version_minor": 0
      },
      "text/plain": [
       "  0%|          | 0/500 [00:00<?, ?it/s]"
      ]
     },
     "metadata": {},
     "output_type": "display_data"
    }
   ],
   "source": [
    "nproj = 90\n",
    "gamma1 = 0.1\n",
    "gamma2 = 0.3\n",
    "alpha = 0.1\n",
    "nval = xval.shape[0]\n",
    "alpha1 = 1 - jnp.ceil((1-alpha) * (gamma1*nval + 1))/(gamma1*nval)\n",
    "alpha2 = 1 - jnp.ceil((1-alpha) * (gamma2*nval + 1))/(gamma2*nval)\n",
    "\n",
    "lsc1_rc = []\n",
    "lsc2_rc = []\n",
    "lsc3_rc = []\n",
    "conf_rc = []\n",
    "supr_rc = []\n",
    "uqn1_rc = []\n",
    "drop_rc = []\n",
    "orcl_rc = []\n",
    "\n",
    "lsc1_width = []\n",
    "lsc2_width = []\n",
    "lsc3_width = []\n",
    "conf_width = []\n",
    "supr_width = []\n",
    "uqn1_width = []\n",
    "drop_width = []\n",
    "orcl_width = []\n",
    "\n",
    "yval = yval.reshape(yval.shape[0], -1)\n",
    "yval_hat = yval_hat.reshape(yval_hat.shape[0], -1)\n",
    "pca_state = lsci.phi_state(yval, yval_hat, nproj)\n",
    "\n",
    "rval = (yval - yval_hat).squeeze()\n",
    "rtest = (ytest - ytest_hat).squeeze()\n",
    "\n",
    "conf_lower, conf_upper = conf.conf_band(rval, pca_state, alpha)\n",
    "supr_lower, supr_upper = supr.supr_band(rval, alpha)\n",
    "uqn1_lower, uqn1_upper = uqno.uqno_band(ytest_quant, lam_uqno)\n",
    "\n",
    "for i in trange(0, ytest.shape[0]):\n",
    "# for i in trange(0, 100):\n",
    "\n",
    "    # Oracle\n",
    "    orcl_lower = -(jnp.abs(rtest[i]) + 1e-4)\n",
    "    orcl_upper = jnp.abs(rtest[i]) + 1e-4\n",
    "    orcl_rc.append(risk(orcl_lower, orcl_upper, rtest[i]))\n",
    "    orcl_width.append(jnp.median(orcl_upper - orcl_lower))\n",
    "    \n",
    "    # LSCI\n",
    "    lsc1_lower, lsc1_upper = lsci.lsci(rval, xval, xtest[i], pca_state, alpha1, gamma1, 2000)\n",
    "    lsc1_rc.append(risk(lsc1_lower, lsc1_upper, rtest[i]))\n",
    "    lsc1_width.append(jnp.median(lsc1_upper - lsc1_lower))\n",
    "    \n",
    "    # LSCI\n",
    "    lsc2_lower, lsc2_upper = lsci.lsci(rval, xval, xtest[i], pca_state, alpha2, gamma2, 2000)\n",
    "    lsc2_rc.append(risk(lsc2_lower, lsc2_upper, rtest[i]))\n",
    "    lsc2_width.append(jnp.median(lsc2_upper - lsc2_lower))\n",
    "\n",
    "    model.train()\n",
    "    drop_set = jnp.stack([model(xtest[i:(i+1)]).squeeze() for _ in range(500)])\n",
    "    drop_lower = jnp.quantile(drop_set, alpha/2, axis = 0)\n",
    "    drop_upper = jnp.quantile(drop_set, 1 - alpha/2, axis = 0)\n",
    "    model.eval()\n",
    "    \n",
    "    drop_rc.append(risk(drop_lower, drop_upper, rtest[i]))\n",
    "    drop_width.append(jnp.median(drop_upper - drop_lower))\n",
    "    \n",
    "    # CONF \n",
    "    conf_rc.append(risk(conf_lower, conf_upper, rtest[i]))\n",
    "    conf_width.append(jnp.median(conf_upper - conf_lower))\n",
    "    \n",
    "    # SUPR\n",
    "    supr_rc.append(risk(supr_lower, supr_upper, rtest[i]))\n",
    "    supr_width.append(jnp.median(supr_upper - supr_lower))\n",
    "    \n",
    "    # UQNO\n",
    "    uqn1_rc.append(risk(uqn1_lower[i], uqn1_upper[i], rtest[i]))\n",
    "    uqn1_width.append(jnp.median(uqn1_upper[i] - uqn1_lower[i]))\n",
    "\n",
    "    \n",
    "orcl_rc = np.array(orcl_rc)\n",
    "conf_rc = np.array(conf_rc)\n",
    "supr_rc = np.array(supr_rc)\n",
    "uqn1_rc = np.array(uqn1_rc)\n",
    "drop_rc = np.array(drop_rc)\n",
    "lsc1_rc = np.array(lsc1_rc)\n",
    "lsc2_rc = np.array(lsc2_rc)\n",
    "\n",
    "orcl_width = np.array(orcl_width)\n",
    "conf_width = np.array(conf_width)\n",
    "supr_width = np.array(supr_width)\n",
    "uqn1_width = np.array(uqn1_width)\n",
    "drop_width = np.array(drop_width)\n",
    "lsc1_width = np.array(lsc1_width)\n",
    "lsc2_width = np.array(lsc2_width)"
   ]
  },
  {
   "cell_type": "code",
   "execution_count": 214,
   "id": "057f74c2",
   "metadata": {},
   "outputs": [],
   "source": [
    "noise_sd = np.std(rtest, axis = 1)\n",
    "\n",
    "gamma = 0.99\n",
    "\n",
    "risk_control = np.mean(orcl_rc >= gamma), \\\n",
    "               np.mean(conf_rc >= gamma), \\\n",
    "               np.mean(supr_rc >= gamma), \\\n",
    "               np.mean(uqn1_rc >= gamma), \\\n",
    "               np.mean(drop_rc >= gamma), \\\n",
    "               np.mean(lsc1_rc >= gamma), \\\n",
    "               np.mean(lsc2_rc >= gamma)\n",
    "\n",
    "width = np.mean(orcl_width), \\\n",
    "        np.mean(conf_width), \\\n",
    "        np.mean(supr_width), \\\n",
    "        np.mean(uqn1_width), \\\n",
    "        np.mean(drop_width), \\\n",
    "        np.mean(lsc1_width), \\\n",
    "        np.mean(lsc2_width)\n",
    "\n",
    "risk_cor = 0, \\\n",
    "           np.corrcoef([noise_sd, conf_rc])[0,1], \\\n",
    "           np.corrcoef([noise_sd, supr_rc])[0,1], \\\n",
    "           np.corrcoef([noise_sd, uqn1_rc])[0,1], \\\n",
    "           np.corrcoef([noise_sd, drop_rc])[0,1], \\\n",
    "           np.corrcoef([noise_sd, lsc1_rc])[0,1], \\\n",
    "           np.corrcoef([noise_sd, lsc2_rc])[0,1]\n",
    "\n",
    "width_cor = np.corrcoef([noise_sd, orcl_width])[0,1], \\\n",
    "            0, \\\n",
    "            0, \\\n",
    "            np.corrcoef([noise_sd, uqn1_width])[0,1], \\\n",
    "            np.corrcoef([noise_sd, drop_width])[0,1], \\\n",
    "            np.corrcoef([noise_sd, lsc1_width])[0,1], \\\n",
    "            np.corrcoef([noise_sd, lsc2_width])[0,1]\n",
    "\n",
    "metrics = np.array([risk_control, risk_cor, width, width_cor]).T"
   ]
  },
  {
   "cell_type": "code",
   "execution_count": 218,
   "id": "918606b0",
   "metadata": {},
   "outputs": [
    {
     "name": "stdout",
     "output_type": "stream",
     "text": [
      "[[ 1.     0.     0.211  0.954]\n",
      " [ 0.8   -0.598  1.209  0.   ]\n",
      " [ 0.878 -0.488  1.352  0.   ]\n",
      " [ 0.996 -0.118  1.771 -0.113]\n",
      " [ 0.       nan  0.       nan]\n",
      " [ 0.904 -0.136  0.881  0.935]\n",
      " [ 0.926 -0.176  0.924  0.94 ]]\n"
     ]
    }
   ],
   "source": [
    "np.set_printoptions(suppress=True)\n",
    "print(np.round(metrics, 3))"
   ]
  },
  {
   "cell_type": "code",
   "execution_count": 219,
   "id": "97f35e8a",
   "metadata": {},
   "outputs": [
    {
     "name": "stdout",
     "output_type": "stream",
     "text": [
      "1.000 & 0.000 & 0.211 & 0.954 \\\\\n",
      "0.800 & -0.598 & 1.209 & 0.000 \\\\\n",
      "0.878 & -0.488 & 1.352 & 0.000 \\\\\n",
      "0.996 & -0.118 & 1.771 & -0.113 \\\\\n",
      "0.000 & nan & 0.000 & nan \\\\\n",
      "0.904 & -0.136 & 0.881 & 0.935 \\\\\n",
      "0.926 & -0.176 & 0.924 & 0.940 \\\\\n"
     ]
    }
   ],
   "source": [
    "for i in range(metrics.shape[0]):\n",
    "    for j in range(metrics.shape[1]):\n",
    "        val = f'{np.round(metrics[i,j], 3):.3f}'\n",
    "        if j < 3:\n",
    "            val += ' & '\n",
    "            print(val, end = '')\n",
    "        else:\n",
    "            val += ' \\\\\\\\'\n",
    "            print(val)"
   ]
  },
  {
   "cell_type": "code",
   "execution_count": 220,
   "id": "8c3727fa",
   "metadata": {},
   "outputs": [
    {
     "data": {
      "image/png": "[encoded data removed]",
      "text/plain": [
       "<Figure size 1600x500 with 3 Axes>"
      ]
     },
     "metadata": {},
     "output_type": "display_data"
    }
   ],
   "source": [
    "### examples\n",
    "fig, ax = plt.subplots(1, 3, constrained_layout = True, figsize = (16, 5))\n",
    "\n",
    "n = [0, 50, 200]\n",
    "s = np.arange(100)\n",
    "for i in range(3):\n",
    "\n",
    "    lsc1_lower, lsc1_upper = lsci.lsci(rval, xval, xtest[n[i]], pca_state, alpha1, gamma1, 2000)\n",
    "    uqno_lower, uqno_upper = uqn1_lower[n[i]], uqn1_upper[n[i]]\n",
    "\n",
    "#     ax[i].set_ylim(-1.5, 1.5)\n",
    "    ax[i].plot(conf_upper.squeeze(), c = 'C0', lw = 0.5, label = 'Conf.')\n",
    "    ax[i].plot(conf_lower.squeeze(), c = 'C0', lw = 0.5)\n",
    "    ax[i].plot(supr_upper.squeeze(), c = 'C1', lw = 0.5, label = 'Supr.')\n",
    "    ax[i].plot(supr_lower.squeeze(), c = 'C1', lw = 0.5)\n",
    "    ax[i].plot(uqno_upper, c = 'C2', lw = 0.5, label = 'UQNO')\n",
    "    ax[i].plot(uqno_lower, c = 'C2', lw = 0.5)\n",
    "    ax[i].plot(lsc1_upper, c = 'C3', lw = 1.5, label = 'LSCI')\n",
    "    ax[i].plot(lsc1_lower, c = 'C3', lw = 1.5)\n",
    "    ax[i].plot(rtest[n[i]], c = 'black')\n",
    "    \n",
    "    ax[i].fill_between(s, conf_lower.squeeze(), conf_upper.squeeze(), alpha = 0.1)\n",
    "    ax[i].fill_between(s, supr_lower.squeeze(), supr_upper.squeeze(), alpha = 0.1)\n",
    "    ax[i].fill_between(s, uqno_lower.squeeze(), uqno_upper.squeeze(), alpha = 0.1)\n",
    "    ax[i].fill_between(s, lsc1_lower.squeeze(), lsc1_upper.squeeze(), alpha = 0.1)\n",
    "    \n",
    "    ax[i].set_title(f't = {n[i]}', fontsize = 18)\n",
    "ax[-1].legend(ncol = 4, fontsize = 12)\n",
    "\n",
    "plt.show()"
   ]
  },
  {
   "cell_type": "code",
   "execution_count": 143,
   "id": "57811d56",
   "metadata": {},
   "outputs": [],
   "source": [
    "# plt.imshow(vp[0])\n",
    "# plt.colorbar()"
   ]
  },
  {
   "cell_type": "code",
   "execution_count": null,
   "id": "868ed3b0",
   "metadata": {},
   "outputs": [],
   "source": [
    "# u = swe.random_initial_condition()\n",
    "\n",
    "# fig, ax = plt.subplots(1, 3, constrained_layout = True, figsize = (15, 4))\n",
    "# ax[0].imshow(swe.isht(swe.timestep(u, 0))[0])\n",
    "# ax[1].imshow(swe.isht(swe.timestep(u, 10))[0])\n",
    "# ax[2].imshow(swe.isht(swe.timestep(u, 100))[0])"
   ]
  },
  {
   "cell_type": "code",
   "execution_count": null,
   "id": "98da01a3",
   "metadata": {},
   "outputs": [],
   "source": [
    "# plt.imshow(swe.isht(swe.timestep(u, 10))[0] - swe.isht(swe.timestep(u, 100))[0])\n",
    "# plt.colorbar()"
   ]
  },
  {
   "cell_type": "code",
   "execution_count": null,
   "id": "26f0f707",
   "metadata": {},
   "outputs": [],
   "source": [
    "# z_score = 3.27\n",
    "# oracle_sd = np.std(rtest, axis = 1)\n",
    "oracle_rc = []\n",
    "oracle_width = []\n",
    "for i in trange(0, ytest.shape[0]):\n",
    "    \n",
    "    # Oracle    \n",
    "    oracle_lower = jnp.min(rtest[i]) * jnp.ones((92,)) - 1e-7\n",
    "    oracle_upper = jnp.max(rtest[i]) * jnp.ones((92,)) + 1e-7\n",
    "    oracle_rc.append(risk(oracle_lower, oracle_upper, rtest[i]))\n",
    "    oracle_width.append(jnp.mean(oracle_upper - oracle_lower))\n",
    "\n",
    "oracle_rc = np.array(oracle_rc)\n",
    "oracle_width = np.array(oracle_width)"
   ]
  },
  {
   "cell_type": "code",
   "execution_count": null,
   "id": "c71217df",
   "metadata": {},
   "outputs": [],
   "source": [
    "noise_sd = np.std(rtest, axis = 1)\n",
    "\n",
    "risk_control = np.mean(oracle_rc >= 0.99), \\\n",
    "               np.mean(conf_rc >= 0.99), \\\n",
    "               np.mean(supr_rc >= 0.99), \\\n",
    "               np.mean(uqn1_rc >= 0.99), \\\n",
    "               np.mean(lsc1_rc >= 0.99), \\\n",
    "               np.mean(lsc2_rc >= 0.99)\n",
    "\n",
    "width = np.mean(oracle_width), \\\n",
    "        np.mean(conf_width), \\\n",
    "        np.mean(supr_width), \\\n",
    "        np.mean(uqn1_width), \\\n",
    "        np.mean(lsc1_width), \\\n",
    "        np.mean(lsc2_width)\n",
    "\n",
    "risk_cor = 0, \\\n",
    "           np.corrcoef([noise_sd, conf_rc])[0,1], \\\n",
    "           np.corrcoef([noise_sd, supr_rc])[0,1], \\\n",
    "           np.corrcoef([noise_sd, uqn1_rc])[0,1], \\\n",
    "           np.corrcoef([noise_sd, lsc1_rc])[0,1], \\\n",
    "           np.corrcoef([noise_sd, lsc2_rc])[0,1]\n",
    "\n",
    "width_cor = np.corrcoef([noise_sd, oracle_width])[0,1], \\\n",
    "            0, \\\n",
    "            0, \\\n",
    "            np.corrcoef([noise_sd, uqn1_width])[0,1], \\\n",
    "            np.corrcoef([noise_sd, lsc1_width])[0,1], \\\n",
    "            np.corrcoef([noise_sd, lsc2_width])[0,1]\n",
    "\n",
    "metrics = np.array([risk_control, risk_cor, width, width_cor]).T"
   ]
  },
  {
   "cell_type": "code",
   "execution_count": null,
   "id": "68be336c",
   "metadata": {},
   "outputs": [],
   "source": [
    "for i in range(metrics.shape[0]):\n",
    "    for j in range(metrics.shape[1]):\n",
    "        val = f'{np.round(metrics[i,j], 3):.3f}'\n",
    "        if j < 3:\n",
    "            val += ' & '\n",
    "            print(val, end = '')\n",
    "        else:\n",
    "            val += ' \\\\\\\\'\n",
    "            print(val)"
   ]
  },
  {
   "cell_type": "code",
   "execution_count": null,
   "id": "ab9058fa",
   "metadata": {},
   "outputs": [],
   "source": []
  },
  {
   "cell_type": "code",
   "execution_count": null,
   "id": "eab037c4",
   "metadata": {},
   "outputs": [],
   "source": []
  }
 ],
 "metadata": {
  "kernelspec": {
   "display_name": "Python 3 (ipykernel)",
   "language": "python",
   "name": "python3"
  },
  "language_info": {
   "codemirror_mode": {
    "name": "ipython",
    "version": 3
   },
   "file_extension": ".py",
   "mimetype": "text/x-python",
   "name": "python",
   "nbconvert_exporter": "python",
   "pygments_lexer": "ipython3",
   "version": "3.12.3"
  }
 },
 "nbformat": 4,
 "nbformat_minor": 5
}
