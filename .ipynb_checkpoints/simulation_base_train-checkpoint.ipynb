{
 "cells": [
  {
   "cell_type": "code",
   "execution_count": 1,
   "id": "c0724e31-f3d7-4b9c-abd3-f8a6bfb66d51",
   "metadata": {},
   "outputs": [],
   "source": [
    "import numpy as np\n",
    "import jax\n",
    "import jax.numpy as jnp\n",
    "from jax import vmap, grad, jit, random\n",
    "from flax import nnx\n",
    "import optax\n",
    "\n",
    "import matplotlib\n",
    "import matplotlib.pyplot as plt\n",
    "\n",
    "import zarr\n",
    "import xarray as xr\n",
    "\n",
    "from tqdm.notebook import tqdm\n",
    "from tqdm.notebook import trange\n",
    "\n",
    "import torch\n",
    "from torch.utils.data import DataLoader, TensorDataset\n",
    "\n",
    "import math"
   ]
  },
  {
   "cell_type": "code",
   "execution_count": 2,
   "id": "86a81bd0-187e-4b75-a25a-17e4af5ef732",
   "metadata": {},
   "outputs": [],
   "source": [
    "def split_data(data, lag, horizon):\n",
    "    horizon = horizon-1\n",
    "    y_t = np.moveaxis(data[(lag + horizon):][:,None], 1, 3)\n",
    "    x_t = np.stack([data[(lag-i-1):(-(i+1+horizon))] for i in range(lag)], axis = 3)\n",
    "    return x_t, y_t"
   ]
  },
  {
   "cell_type": "code",
   "execution_count": 3,
   "id": "4d92dfdb-4a00-4b09-ba75-dda1dc918b82",
   "metadata": {},
   "outputs": [],
   "source": [
    "class Block(nnx.Module):\n",
    "    def __init__(self, dim, dim_out, rngs = nnx.Rngs):\n",
    "        self.proj = nnx.Conv(dim, dim_out, (3, 3), padding = 'CIRCULAR', rngs = rngs)\n",
    "        self.norm = nnx.BatchNorm(dim_out, rngs = rngs)\n",
    "\n",
    "    def __call__(self, x):\n",
    "        x = self.proj(x)\n",
    "        x = self.norm(x)\n",
    "        return nnx.silu(x)\n",
    "\n",
    "class ResnetBlock(nnx.Module):\n",
    "    def __init__(self, dim, dim_out, rngs = nnx.Rngs):\n",
    "        self.block1 = Block(dim, dim_out, rngs = rngs)\n",
    "        self.block2 = Block(dim_out, dim_out, rngs = rngs)\n",
    "        self.block3 = Block(dim_out, dim_out, rngs = rngs)\n",
    "        self.res_conv = nnx.Conv(dim, dim_out, (1, 1), rngs = rngs)\n",
    "\n",
    "    def __call__(self, x):\n",
    "        h = self.block1(x)\n",
    "        h = self.block2(h)\n",
    "        h = self.block3(h)\n",
    "        return h + self.res_conv(x)\n",
    "\n",
    "class ClimateNO(nnx.Module):\n",
    "    def __init__(self, lag, rngs = nnx.Rngs):\n",
    "        self.enc = nnx.Conv(lag, 30, (1, 1), rngs = rngs)\n",
    "        self.res1 = ResnetBlock(30, 32, rngs = rngs)\n",
    "        self.res2 = ResnetBlock(32, 16, rngs = rngs)\n",
    "        self.res3 = ResnetBlock(16, 1, rngs = rngs)\n",
    "        self.dec = nnx.Conv(1, 1, (1, 1), rngs = rngs)\n",
    "\n",
    "    def __call__(self, x):\n",
    "        # m = jnp.mean(x, axis = 3)[:,:,:,None]\n",
    "        h = self.enc(x)\n",
    "        h = self.res1(h)\n",
    "        h = self.res2(h)\n",
    "        h = self.res3(h)\n",
    "        h = self.dec(h)\n",
    "        return h"
   ]
  },
  {
   "cell_type": "code",
   "execution_count": 4,
   "id": "2284cfd7-5a43-4664-bd2c-eb8f9d46d2ae",
   "metadata": {},
   "outputs": [],
   "source": [
    "def train_step(model, optimizer, x, y):\n",
    "  def loss_fn(model):\n",
    "    y_pred = model(x)  # call methods directly\n",
    "    return ((y_pred - y) ** 2).mean()\n",
    "\n",
    "  loss, grads = nnx.value_and_grad(loss_fn)(model)\n",
    "  optimizer.update(grads)  # in-place updates\n",
    "\n",
    "  return loss\n",
    "\n",
    "train_step = nnx.jit(train_step)"
   ]
  },
  {
   "cell_type": "code",
   "execution_count": 5,
   "id": "9bdd8510-c851-4cd6-9b84-6f1ef217b659",
   "metadata": {},
   "outputs": [],
   "source": [
    "# dtrain = np.load('./data/era5_train_small.npy', mmap_mode='r+')"
   ]
  },
  {
   "cell_type": "code",
   "execution_count": 6,
   "id": "c175e8df-3ecc-49ef-be4e-18b09a47ba18",
   "metadata": {},
   "outputs": [],
   "source": [
    "np.random.seed(0)\n",
    "n = 5000\n",
    "ttrain = np.linspace(0, 2, n)\n",
    "mu = np.sin(2 * math.pi * ttrain)\n",
    "sd = np.sqrt(0.5 + np.sin(2 * math.pi * ttrain)**2)\n",
    "xtrain = mu[:,None,None,None] + np.random.normal(0, 0.1, (n, 20, 20, 1))\n",
    "ytrain = 2 * xtrain + sd[:,None,None,None] * np.random.normal(0, 1, (n, 20, 20, 1))"
   ]
  },
  {
   "cell_type": "code",
   "execution_count": null,
   "id": "f18dae60-1736-4580-b34f-1dd1c210d2d8",
   "metadata": {
    "scrolled": true
   },
   "outputs": [
    {
     "data": {
      "application/vnd.jupyter.widget-view+json": {
       "model_id": "ceda3691b81442e1b1bde8e0749ad1e9",
       "version_major": 2,
       "version_minor": 0
      },
      "text/plain": [
       "  0%|          | 0/20 [00:00<?, ?it/s]"
      ]
     },
     "metadata": {},
     "output_type": "display_data"
    }
   ],
   "source": [
    "epochs = 20\n",
    "batch = 50\n",
    "niter = int(xtrain.shape[0]/batch)\n",
    "trace = []\n",
    "\n",
    "model = ClimateNO(1, rngs=nnx.Rngs(0))\n",
    "optim = nnx.Optimizer(model, optax.adam(1e-3))\n",
    "rng = random.PRNGKey(0)\n",
    "\n",
    "for b in trange(epochs):\n",
    "    rng, perm_rng = random.split(rng, 2)\n",
    "    xtrain = random.permutation(perm_rng, xtrain)\n",
    "    ytrain = random.permutation(perm_rng, ytrain)\n",
    "    \n",
    "    for i in range(niter):\n",
    "        xt = xtrain[(i*batch):((i+1)*batch)]\n",
    "        yt = ytrain[(i*batch):((i+1)*batch)]\n",
    "    \n",
    "        loss = train_step(model, optim, xt, yt)\n",
    "        trace.append(loss)\n",
    "        print(f'loss: {loss}', end='\\r')\n"
   ]
  },
  {
   "cell_type": "code",
   "execution_count": null,
   "id": "9b4696ef-7ca2-480f-b66e-cb6cd5281c3d",
   "metadata": {},
   "outputs": [],
   "source": [
    "plt.plot(trace)"
   ]
  },
  {
   "cell_type": "code",
   "execution_count": 9,
   "id": "80722557-0164-4b90-9d1f-f494d5e3ab66",
   "metadata": {},
   "outputs": [],
   "source": [
    "import os\n",
    "import orbax.checkpoint as ocp\n",
    "\n",
    "# extract state\n",
    "_, state = nnx.split(model)\n",
    "\n",
    "# save\n",
    "checkpointer = ocp.StandardCheckpointer()\n",
    "checkpointer.save(os.getcwd() + '/models/' + 'example1_state', state)"
   ]
  },
  {
   "cell_type": "code",
   "execution_count": null,
   "id": "c68e4163-06a5-44d9-a5eb-6883f03f7989",
   "metadata": {},
   "outputs": [],
   "source": []
  }
 ],
 "metadata": {
  "kernelspec": {
   "display_name": "Python 3 (ipykernel)",
   "language": "python",
   "name": "python3"
  },
  "language_info": {
   "codemirror_mode": {
    "name": "ipython",
    "version": 3
   },
   "file_extension": ".py",
   "mimetype": "text/x-python",
   "name": "python",
   "nbconvert_exporter": "python",
   "pygments_lexer": "ipython3",
   "version": "3.12.3"
  }
 },
 "nbformat": 4,
 "nbformat_minor": 5
}
