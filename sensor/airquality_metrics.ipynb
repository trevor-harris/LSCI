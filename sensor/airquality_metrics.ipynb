{
 "cells": [
  {
   "cell_type": "code",
   "execution_count": 1,
   "id": "9292af41-5cf1-4227-a88e-2efbd2899561",
   "metadata": {},
   "outputs": [],
   "source": [
    "import math\n",
    "import numpy as np\n",
    "import matplotlib\n",
    "import matplotlib.pyplot as plt\n",
    "\n",
    "import jax\n",
    "import jax.numpy as jnp\n",
    "import jax.scipy.stats as stats\n",
    "from jax import jacfwd, jacrev\n",
    "from jax import vmap, grad, jit, random\n",
    "from jax.tree_util import tree_map, tree_flatten, tree_unflatten, tree_leaves\n",
    "\n",
    "from flax import nnx\n",
    "import optax\n",
    "import pcax\n",
    "\n",
    "from tqdm.notebook import tqdm\n",
    "from tqdm.notebook import trange\n",
    "\n",
    "import torch\n",
    "import torch.nn as nn\n",
    "from torch.utils.data import DataLoader, TensorDataset\n",
    "device = 'cuda' if torch.cuda.is_available() else 'cpu'\n",
    "device = 'cpu'\n",
    "\n",
    "import os\n",
    "os.chdir('../methods')\n",
    "import lsci, supr, conf, uqno, prob_don, quant_don, gaus\n",
    "os.chdir('../gpsims')\n",
    "\n",
    "os.chdir('../models_and_metrics')\n",
    "from models import *\n",
    "from metrics import * \n",
    "from utility import *\n",
    "os.chdir('../gpsims')\n",
    "\n",
    "import neuralop as op\n",
    "from neuralop.models import FNO, LocalFNO, UNO, TFNO\n",
    "import jaxwt as jwt\n",
    "import pcax\n",
    "from jax.scipy.stats import norm, laplace"
   ]
  },
  {
   "cell_type": "code",
   "execution_count": 2,
   "id": "df6afc78-ce99-4fbe-8f5a-67bfadd6db17",
   "metadata": {},
   "outputs": [],
   "source": [
    "import pandas as pd\n",
    "air = pd.read_csv('../data/PRSA_Data_Tiantan_20130301-20170228.csv')\n",
    "air[\"date\"] = air[\"year\"].astype(str) + '_' + air[\"month\"].astype(str) + '_' + air[\"day\"].astype(str)"
   ]
  },
  {
   "cell_type": "code",
   "execution_count": 42,
   "id": "77676686-c867-488f-8edb-22d9d3d74ac5",
   "metadata": {},
   "outputs": [
    {
     "data": {
      "application/vnd.jupyter.widget-view+json": {
       "model_id": "bba8a0161d4547bb8b00ee5a0cbba7b4",
       "version_major": 2,
       "version_minor": 0
      },
      "text/plain": [
       "  0%|          | 0/3 [00:00<?, ?it/s]"
      ]
     },
     "metadata": {},
     "output_type": "display_data"
    }
   ],
   "source": [
    "air_curves = np.array(air.groupby('date')['PM2.5'].apply(list).reset_index())\n",
    "dts = air_curves[:,0]\n",
    "fns = air_curves[:,1]\n",
    "\n",
    "# transform\n",
    "fns = [np.array(f) for f in fns]\n",
    "fns = [jax.image.resize(f, 24, 'bicubic') for f in fns]\n",
    "fns = np.array(fns)\n",
    "\n",
    "# backfill missing\n",
    "missing = jnp.sum(jnp.isnan(fns), axis = 1) > 0\n",
    "for i in range(fns.shape[0]):\n",
    "    if missing[i]:\n",
    "        fns[i] = fns[i-1]\n",
    "\n",
    "y = fns\n",
    "# y = np.log(y[:,None,:,None])\n",
    "\n",
    "x = []\n",
    "variables = ['TEMP', 'PRES', 'DEWP']\n",
    "for k in trange(len(variables)):\n",
    "    air_curves = np.array(air.groupby('date')[variables[k]].apply(list).reset_index())\n",
    "    dts = air_curves[:,0]\n",
    "    fns = air_curves[:,1]\n",
    "    \n",
    "    # transform\n",
    "    fns = [np.array(f) for f in fns]\n",
    "    fns = [jax.image.resize(f, 24, 'bicubic') for f in fns]\n",
    "    fns = np.array(fns)\n",
    "    \n",
    "    # backfill missing\n",
    "    missing = jnp.sum(jnp.isnan(fns), axis = 1) > 0\n",
    "    for i in range(fns.shape[0]):\n",
    "        if missing[i]:\n",
    "            fns[i] = fns[i-1]\n",
    "\n",
    "    x.append(fns)\n",
    "    \n",
    "x = np.array(x)\n",
    "x = np.moveaxis(x, 0, 2)[:,None]\n",
    "\n",
    "x_mu = np.mean(x, axis = (0,2))[None,:,None]\n",
    "x_sd = np.std(x, axis = (0,2))[None,:,None]\n",
    "x = (x - x_mu)/x_sd\n",
    "\n",
    "y = y / jnp.max(y)"
   ]
  },
  {
   "cell_type": "code",
   "execution_count": 44,
   "id": "4e0a5683-f4b7-47b4-9073-9e70decfe032",
   "metadata": {},
   "outputs": [],
   "source": [
    "# plt.plot(y[0:10].T)\n",
    "# plt.show()"
   ]
  },
  {
   "cell_type": "code",
   "execution_count": 45,
   "id": "67f68fc8-903a-4796-ba81-ec8f2bf824b6",
   "metadata": {},
   "outputs": [],
   "source": [
    "ntrain, nval = 600, 1200\n",
    "\n",
    "xtrain = x[:ntrain].reshape(-1, 3, 24)\n",
    "ytrain = y[:ntrain].reshape(-1, 1, 24)\n",
    "\n",
    "xval = x[ntrain:nval].reshape(-1, 3, 24)\n",
    "yval = y[ntrain:nval].reshape(-1, 1, 24)\n",
    "\n",
    "xtest = x[nval:].reshape(-1, 3, 24)\n",
    "ytest = y[nval:].reshape(-1, 1, 24)\n",
    "\n",
    "train_data = TensorDataset(torch.Tensor(np.array(xtrain)), torch.Tensor(np.array(ytrain)))\n",
    "train_loader = DataLoader(train_data, batch_size = 30, shuffle = True)"
   ]
  },
  {
   "cell_type": "code",
   "execution_count": 46,
   "id": "c63faf75-0e35-4a22-9a3c-d0a4ee079f12",
   "metadata": {},
   "outputs": [
    {
     "data": {
      "application/vnd.jupyter.widget-view+json": {
       "model_id": "1b9c6e6436774898aeeac693086ad2f0",
       "version_major": 2,
       "version_minor": 0
      },
      "text/plain": [
       "  0%|          | 0/20 [00:00<?, ?it/s]"
      ]
     },
     "metadata": {},
     "output_type": "display_data"
    },
    {
     "data": {
      "application/vnd.jupyter.widget-view+json": {
       "model_id": "7bf50f99f766458880a94b6dd736b595",
       "version_major": 2,
       "version_minor": 0
      },
      "text/plain": [
       "  0%|          | 0/20 [00:00<?, ?it/s]"
      ]
     },
     "metadata": {},
     "output_type": "display_data"
    },
    {
     "data": {
      "application/vnd.jupyter.widget-view+json": {
       "model_id": "cff027b9cb8f46c88a4ce7b6a4874e02",
       "version_major": 2,
       "version_minor": 0
      },
      "text/plain": [
       "  0%|          | 0/20 [00:00<?, ?it/s]"
      ]
     },
     "metadata": {},
     "output_type": "display_data"
    },
    {
     "data": {
      "application/vnd.jupyter.widget-view+json": {
       "model_id": "a7d2c03fc1844229b33ffd8a58b5c5f0",
       "version_major": 2,
       "version_minor": 0
      },
      "text/plain": [
       "  0%|          | 0/20 [00:00<?, ?it/s]"
      ]
     },
     "metadata": {},
     "output_type": "display_data"
    },
    {
     "data": {
      "application/vnd.jupyter.widget-view+json": {
       "model_id": "4b473611e5a74826991688d5f2b102df",
       "version_major": 2,
       "version_minor": 0
      },
      "text/plain": [
       "  0%|          | 0/20 [00:00<?, ?it/s]"
      ]
     },
     "metadata": {},
     "output_type": "display_data"
    },
    {
     "data": {
      "application/vnd.jupyter.widget-view+json": {
       "model_id": "50351d129c0b4369bdd88c02bde1a7ed",
       "version_major": 2,
       "version_minor": 0
      },
      "text/plain": [
       "  0%|          | 0/20 [00:00<?, ?it/s]"
      ]
     },
     "metadata": {},
     "output_type": "display_data"
    },
    {
     "data": {
      "application/vnd.jupyter.widget-view+json": {
       "model_id": "b6b2218ea58342a2868ec365c4e3b92a",
       "version_major": 2,
       "version_minor": 0
      },
      "text/plain": [
       "  0%|          | 0/20 [00:00<?, ?it/s]"
      ]
     },
     "metadata": {},
     "output_type": "display_data"
    },
    {
     "data": {
      "application/vnd.jupyter.widget-view+json": {
       "model_id": "8cb9d7bdc69b4c8985e28a0b74e1c646",
       "version_major": 2,
       "version_minor": 0
      },
      "text/plain": [
       "  0%|          | 0/20 [00:00<?, ?it/s]"
      ]
     },
     "metadata": {},
     "output_type": "display_data"
    },
    {
     "data": {
      "application/vnd.jupyter.widget-view+json": {
       "model_id": "dbe175fba1d84941bc327d0bca833121",
       "version_major": 2,
       "version_minor": 0
      },
      "text/plain": [
       "  0%|          | 0/20 [00:00<?, ?it/s]"
      ]
     },
     "metadata": {},
     "output_type": "display_data"
    },
    {
     "data": {
      "application/vnd.jupyter.widget-view+json": {
       "model_id": "fd9773064fc9473ab6c940972ae5a6ad",
       "version_major": 2,
       "version_minor": 0
      },
      "text/plain": [
       "  0%|          | 0/20 [00:00<?, ?it/s]"
      ]
     },
     "metadata": {},
     "output_type": "display_data"
    },
    {
     "data": {
      "application/vnd.jupyter.widget-view+json": {
       "model_id": "3e2d2d565f924fecbf8fb679b0b594a6",
       "version_major": 2,
       "version_minor": 0
      },
      "text/plain": [
       "  0%|          | 0/20 [00:00<?, ?it/s]"
      ]
     },
     "metadata": {},
     "output_type": "display_data"
    },
    {
     "data": {
      "application/vnd.jupyter.widget-view+json": {
       "model_id": "34886d3cbef74a4d869319326a7a8c85",
       "version_major": 2,
       "version_minor": 0
      },
      "text/plain": [
       "  0%|          | 0/20 [00:00<?, ?it/s]"
      ]
     },
     "metadata": {},
     "output_type": "display_data"
    },
    {
     "data": {
      "application/vnd.jupyter.widget-view+json": {
       "model_id": "9e1cc73d34b3458bbac537b0a228235e",
       "version_major": 2,
       "version_minor": 0
      },
      "text/plain": [
       "  0%|          | 0/20 [00:00<?, ?it/s]"
      ]
     },
     "metadata": {},
     "output_type": "display_data"
    },
    {
     "data": {
      "application/vnd.jupyter.widget-view+json": {
       "model_id": "07663de1198146ec906cb06552de40d7",
       "version_major": 2,
       "version_minor": 0
      },
      "text/plain": [
       "  0%|          | 0/20 [00:00<?, ?it/s]"
      ]
     },
     "metadata": {},
     "output_type": "display_data"
    },
    {
     "data": {
      "application/vnd.jupyter.widget-view+json": {
       "model_id": "ce81ac3f739d457e8a839e6af00766dd",
       "version_major": 2,
       "version_minor": 0
      },
      "text/plain": [
       "  0%|          | 0/20 [00:00<?, ?it/s]"
      ]
     },
     "metadata": {},
     "output_type": "display_data"
    },
    {
     "data": {
      "application/vnd.jupyter.widget-view+json": {
       "model_id": "10d13d24e972435faeafc1e007821c9e",
       "version_major": 2,
       "version_minor": 0
      },
      "text/plain": [
       "  0%|          | 0/20 [00:00<?, ?it/s]"
      ]
     },
     "metadata": {},
     "output_type": "display_data"
    },
    {
     "data": {
      "application/vnd.jupyter.widget-view+json": {
       "model_id": "38fa448cf3794475a6da475ddd791398",
       "version_major": 2,
       "version_minor": 0
      },
      "text/plain": [
       "  0%|          | 0/20 [00:00<?, ?it/s]"
      ]
     },
     "metadata": {},
     "output_type": "display_data"
    },
    {
     "data": {
      "application/vnd.jupyter.widget-view+json": {
       "model_id": "be612ca52b054bbfb3e1e82757404e37",
       "version_major": 2,
       "version_minor": 0
      },
      "text/plain": [
       "  0%|          | 0/20 [00:00<?, ?it/s]"
      ]
     },
     "metadata": {},
     "output_type": "display_data"
    },
    {
     "data": {
      "application/vnd.jupyter.widget-view+json": {
       "model_id": "c56531ad2b8b45c5a022b3e820f6fa46",
       "version_major": 2,
       "version_minor": 0
      },
      "text/plain": [
       "  0%|          | 0/20 [00:00<?, ?it/s]"
      ]
     },
     "metadata": {},
     "output_type": "display_data"
    },
    {
     "data": {
      "application/vnd.jupyter.widget-view+json": {
       "model_id": "d545e7b854df4ffdba034f3b73dc6f51",
       "version_major": 2,
       "version_minor": 0
      },
      "text/plain": [
       "  0%|          | 0/20 [00:00<?, ?it/s]"
      ]
     },
     "metadata": {},
     "output_type": "display_data"
    },
    {
     "data": {
      "application/vnd.jupyter.widget-view+json": {
       "model_id": "17f132ea8e794f5eb14f18a72f7c05e7",
       "version_major": 2,
       "version_minor": 0
      },
      "text/plain": [
       "  0%|          | 0/20 [00:00<?, ?it/s]"
      ]
     },
     "metadata": {},
     "output_type": "display_data"
    }
   ],
   "source": [
    "loss_fn = nn.MSELoss()\n",
    "\n",
    "fno = FNO(n_modes=(16,), \n",
    "             hidden_channels=64, \n",
    "             in_channels=3, \n",
    "             out_channels=1)\n",
    "optim_fno = torch.optim.Adam(fno.parameters(), lr = 1e-3)\n",
    "\n",
    "epochs = 20\n",
    "for _ in trange(epochs):\n",
    "    for xt, yt in tqdm(train_loader, leave = False):  \n",
    "        yhat = fno(xt)\n",
    "        loss = loss_fn(yhat, yt)\n",
    "        loss.backward()\n",
    "        optim_fno.step()\n",
    "        optim_fno.zero_grad()\n",
    "        \n",
    "with torch.no_grad():\n",
    "    yval_fno = torch2jax(fno(jax2torch(xval)).squeeze())"
   ]
  },
  {
   "cell_type": "code",
   "execution_count": 47,
   "id": "5173a6db-4c36-46f8-81c4-ca62e6fe9d5c",
   "metadata": {},
   "outputs": [
    {
     "data": {
      "application/vnd.jupyter.widget-view+json": {
       "model_id": "25c240983c3e4cf2a5defdc35963f2f8",
       "version_major": 2,
       "version_minor": 0
      },
      "text/plain": [
       "  0%|          | 0/20 [00:00<?, ?it/s]"
      ]
     },
     "metadata": {},
     "output_type": "display_data"
    },
    {
     "data": {
      "application/vnd.jupyter.widget-view+json": {
       "model_id": "f17624130fc44cc8ba5e0f52a7d959f1",
       "version_major": 2,
       "version_minor": 0
      },
      "text/plain": [
       "  0%|          | 0/20 [00:00<?, ?it/s]"
      ]
     },
     "metadata": {},
     "output_type": "display_data"
    },
    {
     "data": {
      "application/vnd.jupyter.widget-view+json": {
       "model_id": "01987769716d46eeac24022898e33e03",
       "version_major": 2,
       "version_minor": 0
      },
      "text/plain": [
       "  0%|          | 0/20 [00:00<?, ?it/s]"
      ]
     },
     "metadata": {},
     "output_type": "display_data"
    },
    {
     "data": {
      "application/vnd.jupyter.widget-view+json": {
       "model_id": "5c7538207c4242ba9f4cbcd7353dff2e",
       "version_major": 2,
       "version_minor": 0
      },
      "text/plain": [
       "  0%|          | 0/20 [00:00<?, ?it/s]"
      ]
     },
     "metadata": {},
     "output_type": "display_data"
    },
    {
     "data": {
      "application/vnd.jupyter.widget-view+json": {
       "model_id": "b9b46b733b8f4b59a77728f563cb6d23",
       "version_major": 2,
       "version_minor": 0
      },
      "text/plain": [
       "  0%|          | 0/20 [00:00<?, ?it/s]"
      ]
     },
     "metadata": {},
     "output_type": "display_data"
    },
    {
     "data": {
      "application/vnd.jupyter.widget-view+json": {
       "model_id": "8216e35fe15c44d08adf09f9bf40f65f",
       "version_major": 2,
       "version_minor": 0
      },
      "text/plain": [
       "  0%|          | 0/20 [00:00<?, ?it/s]"
      ]
     },
     "metadata": {},
     "output_type": "display_data"
    },
    {
     "data": {
      "application/vnd.jupyter.widget-view+json": {
       "model_id": "3ede1c41b66348d88e3ff190c3a510df",
       "version_major": 2,
       "version_minor": 0
      },
      "text/plain": [
       "  0%|          | 0/20 [00:00<?, ?it/s]"
      ]
     },
     "metadata": {},
     "output_type": "display_data"
    },
    {
     "data": {
      "application/vnd.jupyter.widget-view+json": {
       "model_id": "43cccfa09997424eb2bd8f0e5aa26a92",
       "version_major": 2,
       "version_minor": 0
      },
      "text/plain": [
       "  0%|          | 0/20 [00:00<?, ?it/s]"
      ]
     },
     "metadata": {},
     "output_type": "display_data"
    },
    {
     "data": {
      "application/vnd.jupyter.widget-view+json": {
       "model_id": "293f5f7da05a4faca7a006987183fcb7",
       "version_major": 2,
       "version_minor": 0
      },
      "text/plain": [
       "  0%|          | 0/20 [00:00<?, ?it/s]"
      ]
     },
     "metadata": {},
     "output_type": "display_data"
    },
    {
     "data": {
      "application/vnd.jupyter.widget-view+json": {
       "model_id": "32932ff0146f457f8ed725ca9a55e583",
       "version_major": 2,
       "version_minor": 0
      },
      "text/plain": [
       "  0%|          | 0/20 [00:00<?, ?it/s]"
      ]
     },
     "metadata": {},
     "output_type": "display_data"
    },
    {
     "data": {
      "application/vnd.jupyter.widget-view+json": {
       "model_id": "22e18c2ef174410a85ab5a1e8f188606",
       "version_major": 2,
       "version_minor": 0
      },
      "text/plain": [
       "  0%|          | 0/20 [00:00<?, ?it/s]"
      ]
     },
     "metadata": {},
     "output_type": "display_data"
    },
    {
     "data": {
      "application/vnd.jupyter.widget-view+json": {
       "model_id": "a2ea44923a56445fafe2373ab67ff291",
       "version_major": 2,
       "version_minor": 0
      },
      "text/plain": [
       "  0%|          | 0/20 [00:00<?, ?it/s]"
      ]
     },
     "metadata": {},
     "output_type": "display_data"
    },
    {
     "data": {
      "application/vnd.jupyter.widget-view+json": {
       "model_id": "8511856987a140bb91a6f0de695c251a",
       "version_major": 2,
       "version_minor": 0
      },
      "text/plain": [
       "  0%|          | 0/20 [00:00<?, ?it/s]"
      ]
     },
     "metadata": {},
     "output_type": "display_data"
    },
    {
     "data": {
      "application/vnd.jupyter.widget-view+json": {
       "model_id": "b55e72e2ed5a4ec587323ed165e79231",
       "version_major": 2,
       "version_minor": 0
      },
      "text/plain": [
       "  0%|          | 0/20 [00:00<?, ?it/s]"
      ]
     },
     "metadata": {},
     "output_type": "display_data"
    },
    {
     "data": {
      "application/vnd.jupyter.widget-view+json": {
       "model_id": "5aa9bb7731394bd2bb2db3fd1d712a08",
       "version_major": 2,
       "version_minor": 0
      },
      "text/plain": [
       "  0%|          | 0/20 [00:00<?, ?it/s]"
      ]
     },
     "metadata": {},
     "output_type": "display_data"
    },
    {
     "data": {
      "application/vnd.jupyter.widget-view+json": {
       "model_id": "00e13f2f0ed747ca870f90a44fdc0a51",
       "version_major": 2,
       "version_minor": 0
      },
      "text/plain": [
       "  0%|          | 0/20 [00:00<?, ?it/s]"
      ]
     },
     "metadata": {},
     "output_type": "display_data"
    },
    {
     "data": {
      "application/vnd.jupyter.widget-view+json": {
       "model_id": "3ed4fd59b0de47ce91cc9c6713af2623",
       "version_major": 2,
       "version_minor": 0
      },
      "text/plain": [
       "  0%|          | 0/20 [00:00<?, ?it/s]"
      ]
     },
     "metadata": {},
     "output_type": "display_data"
    },
    {
     "data": {
      "application/vnd.jupyter.widget-view+json": {
       "model_id": "a5e180301b2f4e89ab7667c7f8df9276",
       "version_major": 2,
       "version_minor": 0
      },
      "text/plain": [
       "  0%|          | 0/20 [00:00<?, ?it/s]"
      ]
     },
     "metadata": {},
     "output_type": "display_data"
    },
    {
     "data": {
      "application/vnd.jupyter.widget-view+json": {
       "model_id": "94f9f4212b6b43c58f5e8808b54752dc",
       "version_major": 2,
       "version_minor": 0
      },
      "text/plain": [
       "  0%|          | 0/20 [00:00<?, ?it/s]"
      ]
     },
     "metadata": {},
     "output_type": "display_data"
    },
    {
     "data": {
      "application/vnd.jupyter.widget-view+json": {
       "model_id": "a81dc599e3604f6a972254acb2deea54",
       "version_major": 2,
       "version_minor": 0
      },
      "text/plain": [
       "  0%|          | 0/20 [00:00<?, ?it/s]"
      ]
     },
     "metadata": {},
     "output_type": "display_data"
    },
    {
     "data": {
      "application/vnd.jupyter.widget-view+json": {
       "model_id": "04d9229c1781494187007d2dca3db8ac",
       "version_major": 2,
       "version_minor": 0
      },
      "text/plain": [
       "  0%|          | 0/20 [00:00<?, ?it/s]"
      ]
     },
     "metadata": {},
     "output_type": "display_data"
    }
   ],
   "source": [
    "loss_fn = QuantileLoss(0.9)\n",
    "\n",
    "fno_quant = FNO(n_modes=(16,), \n",
    "             hidden_channels=64, \n",
    "             in_channels=3, \n",
    "             out_channels=1)\n",
    "optim_fno = torch.optim.Adam(fno_quant.parameters(), lr = 1e-3)\n",
    "\n",
    "for _ in trange(epochs):\n",
    "    for xt, yt in tqdm(train_loader, leave = False):  \n",
    "        yhat = fno_quant(xt)\n",
    "        loss = loss_fn(yhat, yt)\n",
    "        loss.backward()\n",
    "        optim_fno.step()\n",
    "        optim_fno.zero_grad()\n",
    "        \n",
    "with torch.no_grad():\n",
    "    yval_quant = torch2jax(fno_quant(jax2torch(xval)).squeeze())"
   ]
  },
  {
   "cell_type": "code",
   "execution_count": 48,
   "id": "0d3c61d9-b74c-4d4e-9e10-2d61e6344474",
   "metadata": {},
   "outputs": [
    {
     "data": {
      "application/vnd.jupyter.widget-view+json": {
       "model_id": "bfbcc39b8b7b4951988a6296a32dec0b",
       "version_major": 2,
       "version_minor": 0
      },
      "text/plain": [
       "  0%|          | 0/20 [00:00<?, ?it/s]"
      ]
     },
     "metadata": {},
     "output_type": "display_data"
    },
    {
     "data": {
      "application/vnd.jupyter.widget-view+json": {
       "model_id": "bf86094648cc44b8922a392d8b8a5c84",
       "version_major": 2,
       "version_minor": 0
      },
      "text/plain": [
       "  0%|          | 0/20 [00:00<?, ?it/s]"
      ]
     },
     "metadata": {},
     "output_type": "display_data"
    },
    {
     "data": {
      "application/vnd.jupyter.widget-view+json": {
       "model_id": "7fe33b3b24a64181bedd2135fbca06ba",
       "version_major": 2,
       "version_minor": 0
      },
      "text/plain": [
       "  0%|          | 0/20 [00:00<?, ?it/s]"
      ]
     },
     "metadata": {},
     "output_type": "display_data"
    },
    {
     "data": {
      "application/vnd.jupyter.widget-view+json": {
       "model_id": "9c4167de3f2944e6b564289d85c3ff4f",
       "version_major": 2,
       "version_minor": 0
      },
      "text/plain": [
       "  0%|          | 0/20 [00:00<?, ?it/s]"
      ]
     },
     "metadata": {},
     "output_type": "display_data"
    },
    {
     "data": {
      "application/vnd.jupyter.widget-view+json": {
       "model_id": "f88e78b713764d378b9a3076325b13f6",
       "version_major": 2,
       "version_minor": 0
      },
      "text/plain": [
       "  0%|          | 0/20 [00:00<?, ?it/s]"
      ]
     },
     "metadata": {},
     "output_type": "display_data"
    },
    {
     "data": {
      "application/vnd.jupyter.widget-view+json": {
       "model_id": "9701c99a60544c82af838974108af4ff",
       "version_major": 2,
       "version_minor": 0
      },
      "text/plain": [
       "  0%|          | 0/20 [00:00<?, ?it/s]"
      ]
     },
     "metadata": {},
     "output_type": "display_data"
    },
    {
     "data": {
      "application/vnd.jupyter.widget-view+json": {
       "model_id": "2df811c4aa544cef9dc02299ba62ed2e",
       "version_major": 2,
       "version_minor": 0
      },
      "text/plain": [
       "  0%|          | 0/20 [00:00<?, ?it/s]"
      ]
     },
     "metadata": {},
     "output_type": "display_data"
    },
    {
     "data": {
      "application/vnd.jupyter.widget-view+json": {
       "model_id": "d416253e92164f809983582a83d6da30",
       "version_major": 2,
       "version_minor": 0
      },
      "text/plain": [
       "  0%|          | 0/20 [00:00<?, ?it/s]"
      ]
     },
     "metadata": {},
     "output_type": "display_data"
    },
    {
     "data": {
      "application/vnd.jupyter.widget-view+json": {
       "model_id": "1067bff9044a4ff2be8b2f10c64a9ebb",
       "version_major": 2,
       "version_minor": 0
      },
      "text/plain": [
       "  0%|          | 0/20 [00:00<?, ?it/s]"
      ]
     },
     "metadata": {},
     "output_type": "display_data"
    },
    {
     "data": {
      "application/vnd.jupyter.widget-view+json": {
       "model_id": "06f78301c5bc48fe9ae74545c6a9dfc9",
       "version_major": 2,
       "version_minor": 0
      },
      "text/plain": [
       "  0%|          | 0/20 [00:00<?, ?it/s]"
      ]
     },
     "metadata": {},
     "output_type": "display_data"
    },
    {
     "data": {
      "application/vnd.jupyter.widget-view+json": {
       "model_id": "a277ac66ef174a1282950222adfb90b2",
       "version_major": 2,
       "version_minor": 0
      },
      "text/plain": [
       "  0%|          | 0/20 [00:00<?, ?it/s]"
      ]
     },
     "metadata": {},
     "output_type": "display_data"
    },
    {
     "data": {
      "application/vnd.jupyter.widget-view+json": {
       "model_id": "dccb713a17f544d396a591f08b14f618",
       "version_major": 2,
       "version_minor": 0
      },
      "text/plain": [
       "  0%|          | 0/20 [00:00<?, ?it/s]"
      ]
     },
     "metadata": {},
     "output_type": "display_data"
    },
    {
     "data": {
      "application/vnd.jupyter.widget-view+json": {
       "model_id": "cacfe029000d4addb86b99d08fa81679",
       "version_major": 2,
       "version_minor": 0
      },
      "text/plain": [
       "  0%|          | 0/20 [00:00<?, ?it/s]"
      ]
     },
     "metadata": {},
     "output_type": "display_data"
    },
    {
     "data": {
      "application/vnd.jupyter.widget-view+json": {
       "model_id": "31d41c894ca7432696118f305321cf95",
       "version_major": 2,
       "version_minor": 0
      },
      "text/plain": [
       "  0%|          | 0/20 [00:00<?, ?it/s]"
      ]
     },
     "metadata": {},
     "output_type": "display_data"
    },
    {
     "data": {
      "application/vnd.jupyter.widget-view+json": {
       "model_id": "519f40b1ee884031bf2a82a85b87586b",
       "version_major": 2,
       "version_minor": 0
      },
      "text/plain": [
       "  0%|          | 0/20 [00:00<?, ?it/s]"
      ]
     },
     "metadata": {},
     "output_type": "display_data"
    },
    {
     "data": {
      "application/vnd.jupyter.widget-view+json": {
       "model_id": "2012a9ad88bf4e69ae8aee8fc39beaa5",
       "version_major": 2,
       "version_minor": 0
      },
      "text/plain": [
       "  0%|          | 0/20 [00:00<?, ?it/s]"
      ]
     },
     "metadata": {},
     "output_type": "display_data"
    },
    {
     "data": {
      "application/vnd.jupyter.widget-view+json": {
       "model_id": "ad6d25b5add74fef88aa41d5c00fd35e",
       "version_major": 2,
       "version_minor": 0
      },
      "text/plain": [
       "  0%|          | 0/20 [00:00<?, ?it/s]"
      ]
     },
     "metadata": {},
     "output_type": "display_data"
    },
    {
     "data": {
      "application/vnd.jupyter.widget-view+json": {
       "model_id": "4b7828aa7df84e1386adea0a876b4525",
       "version_major": 2,
       "version_minor": 0
      },
      "text/plain": [
       "  0%|          | 0/20 [00:00<?, ?it/s]"
      ]
     },
     "metadata": {},
     "output_type": "display_data"
    },
    {
     "data": {
      "application/vnd.jupyter.widget-view+json": {
       "model_id": "1c67c0fb1a874f7892066bab60cab9b5",
       "version_major": 2,
       "version_minor": 0
      },
      "text/plain": [
       "  0%|          | 0/20 [00:00<?, ?it/s]"
      ]
     },
     "metadata": {},
     "output_type": "display_data"
    },
    {
     "data": {
      "application/vnd.jupyter.widget-view+json": {
       "model_id": "ee56adc5af14450db3e1edd6e9c28bde",
       "version_major": 2,
       "version_minor": 0
      },
      "text/plain": [
       "  0%|          | 0/20 [00:00<?, ?it/s]"
      ]
     },
     "metadata": {},
     "output_type": "display_data"
    },
    {
     "data": {
      "application/vnd.jupyter.widget-view+json": {
       "model_id": "e86f14f8397c4e36a807e7c52914e064",
       "version_major": 2,
       "version_minor": 0
      },
      "text/plain": [
       "  0%|          | 0/20 [00:00<?, ?it/s]"
      ]
     },
     "metadata": {},
     "output_type": "display_data"
    }
   ],
   "source": [
    "loss_fn = GaussianNLLLoss()\n",
    "\n",
    "fno_prob = ProbFNO(in_chan = 3)\n",
    "optim_fno = torch.optim.Adam(fno_prob.parameters(), lr = 1e-3)\n",
    "\n",
    "for _ in trange(epochs):\n",
    "    for xt, yt in tqdm(train_loader, leave = False):  \n",
    "        yhat = fno_prob(xt)\n",
    "        loss = loss_fn(yhat, yt)\n",
    "        loss.backward()\n",
    "        optim_fno.step()\n",
    "        optim_fno.zero_grad()\n",
    "    \n",
    "with torch.no_grad():\n",
    "    yval_mu, yval_sd = jnp.array(np.array(fno_prob(jax2torch(xval))))\n",
    "    yval_mu = yval_mu.squeeze()\n",
    "    yval_sd = yval_sd.squeeze()"
   ]
  },
  {
   "cell_type": "code",
   "execution_count": 49,
   "id": "87332824-5880-409a-91f3-12f3f71101a3",
   "metadata": {},
   "outputs": [],
   "source": [
    "xtrain_base1 = xtrain[:(ntrain//2)]\n",
    "ytrain_base1 = ytrain[:(ntrain//2)]\n",
    "xtrain_base2 = xtrain[(ntrain//2):]\n",
    "ytrain_base2 = ytrain[(ntrain//2):]"
   ]
  },
  {
   "cell_type": "code",
   "execution_count": 50,
   "id": "ad6d9a1d-eb51-4542-9e79-95403ac27b90",
   "metadata": {},
   "outputs": [
    {
     "data": {
      "application/vnd.jupyter.widget-view+json": {
       "model_id": "d340b9b000e14e2ea9524f4501507458",
       "version_major": 2,
       "version_minor": 0
      },
      "text/plain": [
       "  0%|          | 0/20 [00:00<?, ?it/s]"
      ]
     },
     "metadata": {},
     "output_type": "display_data"
    },
    {
     "data": {
      "application/vnd.jupyter.widget-view+json": {
       "model_id": "821e94d6cc4e42dbb44af4e9ff1774fd",
       "version_major": 2,
       "version_minor": 0
      },
      "text/plain": [
       "  0%|          | 0/10 [00:00<?, ?it/s]"
      ]
     },
     "metadata": {},
     "output_type": "display_data"
    },
    {
     "data": {
      "application/vnd.jupyter.widget-view+json": {
       "model_id": "eb46a973a3644924a233a28073de1748",
       "version_major": 2,
       "version_minor": 0
      },
      "text/plain": [
       "  0%|          | 0/10 [00:00<?, ?it/s]"
      ]
     },
     "metadata": {},
     "output_type": "display_data"
    },
    {
     "data": {
      "application/vnd.jupyter.widget-view+json": {
       "model_id": "3958845d4877459d8b9c54214fbbcabc",
       "version_major": 2,
       "version_minor": 0
      },
      "text/plain": [
       "  0%|          | 0/10 [00:00<?, ?it/s]"
      ]
     },
     "metadata": {},
     "output_type": "display_data"
    },
    {
     "data": {
      "application/vnd.jupyter.widget-view+json": {
       "model_id": "5315ceacc860463c88a3335cddb4612d",
       "version_major": 2,
       "version_minor": 0
      },
      "text/plain": [
       "  0%|          | 0/10 [00:00<?, ?it/s]"
      ]
     },
     "metadata": {},
     "output_type": "display_data"
    },
    {
     "data": {
      "application/vnd.jupyter.widget-view+json": {
       "model_id": "3f2e534d5b864a4ab66988d0617dd532",
       "version_major": 2,
       "version_minor": 0
      },
      "text/plain": [
       "  0%|          | 0/10 [00:00<?, ?it/s]"
      ]
     },
     "metadata": {},
     "output_type": "display_data"
    },
    {
     "data": {
      "application/vnd.jupyter.widget-view+json": {
       "model_id": "cc3180d7a3944916a7312963b4e17975",
       "version_major": 2,
       "version_minor": 0
      },
      "text/plain": [
       "  0%|          | 0/10 [00:00<?, ?it/s]"
      ]
     },
     "metadata": {},
     "output_type": "display_data"
    },
    {
     "data": {
      "application/vnd.jupyter.widget-view+json": {
       "model_id": "ca4fdf534dd941218bdd579989fd064d",
       "version_major": 2,
       "version_minor": 0
      },
      "text/plain": [
       "  0%|          | 0/10 [00:00<?, ?it/s]"
      ]
     },
     "metadata": {},
     "output_type": "display_data"
    },
    {
     "data": {
      "application/vnd.jupyter.widget-view+json": {
       "model_id": "f1180e157e974ad9a5414ffda9cf410f",
       "version_major": 2,
       "version_minor": 0
      },
      "text/plain": [
       "  0%|          | 0/10 [00:00<?, ?it/s]"
      ]
     },
     "metadata": {},
     "output_type": "display_data"
    },
    {
     "data": {
      "application/vnd.jupyter.widget-view+json": {
       "model_id": "150734a291464ee19e9ab88c68a817ef",
       "version_major": 2,
       "version_minor": 0
      },
      "text/plain": [
       "  0%|          | 0/10 [00:00<?, ?it/s]"
      ]
     },
     "metadata": {},
     "output_type": "display_data"
    },
    {
     "data": {
      "application/vnd.jupyter.widget-view+json": {
       "model_id": "2bf185f4a4aa4e4e8932f3163aaebd32",
       "version_major": 2,
       "version_minor": 0
      },
      "text/plain": [
       "  0%|          | 0/10 [00:00<?, ?it/s]"
      ]
     },
     "metadata": {},
     "output_type": "display_data"
    },
    {
     "data": {
      "application/vnd.jupyter.widget-view+json": {
       "model_id": "b95faf94aba74ab5aad06f638d5854aa",
       "version_major": 2,
       "version_minor": 0
      },
      "text/plain": [
       "  0%|          | 0/10 [00:00<?, ?it/s]"
      ]
     },
     "metadata": {},
     "output_type": "display_data"
    },
    {
     "data": {
      "application/vnd.jupyter.widget-view+json": {
       "model_id": "c45671193c2448c1a089cfd8d472b2cf",
       "version_major": 2,
       "version_minor": 0
      },
      "text/plain": [
       "  0%|          | 0/10 [00:00<?, ?it/s]"
      ]
     },
     "metadata": {},
     "output_type": "display_data"
    },
    {
     "data": {
      "application/vnd.jupyter.widget-view+json": {
       "model_id": "92f93397efe14c659d6098b57d292fdc",
       "version_major": 2,
       "version_minor": 0
      },
      "text/plain": [
       "  0%|          | 0/10 [00:00<?, ?it/s]"
      ]
     },
     "metadata": {},
     "output_type": "display_data"
    },
    {
     "data": {
      "application/vnd.jupyter.widget-view+json": {
       "model_id": "9f98556099694884ac112111d9f68c5d",
       "version_major": 2,
       "version_minor": 0
      },
      "text/plain": [
       "  0%|          | 0/10 [00:00<?, ?it/s]"
      ]
     },
     "metadata": {},
     "output_type": "display_data"
    },
    {
     "data": {
      "application/vnd.jupyter.widget-view+json": {
       "model_id": "c6ca73d5fb6e4293bbf12bf3598f2958",
       "version_major": 2,
       "version_minor": 0
      },
      "text/plain": [
       "  0%|          | 0/10 [00:00<?, ?it/s]"
      ]
     },
     "metadata": {},
     "output_type": "display_data"
    },
    {
     "data": {
      "application/vnd.jupyter.widget-view+json": {
       "model_id": "14210027d5804dbaacea18a13a92c5a9",
       "version_major": 2,
       "version_minor": 0
      },
      "text/plain": [
       "  0%|          | 0/10 [00:00<?, ?it/s]"
      ]
     },
     "metadata": {},
     "output_type": "display_data"
    },
    {
     "data": {
      "application/vnd.jupyter.widget-view+json": {
       "model_id": "b825bc06f22f4c98901efa85051695a7",
       "version_major": 2,
       "version_minor": 0
      },
      "text/plain": [
       "  0%|          | 0/10 [00:00<?, ?it/s]"
      ]
     },
     "metadata": {},
     "output_type": "display_data"
    },
    {
     "data": {
      "application/vnd.jupyter.widget-view+json": {
       "model_id": "b8170c0244cf400f80bc5f97fa5b46f6",
       "version_major": 2,
       "version_minor": 0
      },
      "text/plain": [
       "  0%|          | 0/10 [00:00<?, ?it/s]"
      ]
     },
     "metadata": {},
     "output_type": "display_data"
    },
    {
     "data": {
      "application/vnd.jupyter.widget-view+json": {
       "model_id": "2b903fbd10b84c129321b6f7e6a6b2ef",
       "version_major": 2,
       "version_minor": 0
      },
      "text/plain": [
       "  0%|          | 0/10 [00:00<?, ?it/s]"
      ]
     },
     "metadata": {},
     "output_type": "display_data"
    },
    {
     "data": {
      "application/vnd.jupyter.widget-view+json": {
       "model_id": "09dd92d2d9b5401983522f93a841cbfa",
       "version_major": 2,
       "version_minor": 0
      },
      "text/plain": [
       "  0%|          | 0/10 [00:00<?, ?it/s]"
      ]
     },
     "metadata": {},
     "output_type": "display_data"
    },
    {
     "data": {
      "application/vnd.jupyter.widget-view+json": {
       "model_id": "2fcecd4c14044858b48a55c9553c4896",
       "version_major": 2,
       "version_minor": 0
      },
      "text/plain": [
       "  0%|          | 0/20 [00:00<?, ?it/s]"
      ]
     },
     "metadata": {},
     "output_type": "display_data"
    },
    {
     "data": {
      "application/vnd.jupyter.widget-view+json": {
       "model_id": "2d57a7f9fc884732a2a4988b2ca0ea9d",
       "version_major": 2,
       "version_minor": 0
      },
      "text/plain": [
       "  0%|          | 0/10 [00:00<?, ?it/s]"
      ]
     },
     "metadata": {},
     "output_type": "display_data"
    },
    {
     "data": {
      "application/vnd.jupyter.widget-view+json": {
       "model_id": "4c7a62ef3937421998347d4b431ebe20",
       "version_major": 2,
       "version_minor": 0
      },
      "text/plain": [
       "  0%|          | 0/10 [00:00<?, ?it/s]"
      ]
     },
     "metadata": {},
     "output_type": "display_data"
    },
    {
     "data": {
      "application/vnd.jupyter.widget-view+json": {
       "model_id": "340aaca8c68642f7b83aeb5342cc22ed",
       "version_major": 2,
       "version_minor": 0
      },
      "text/plain": [
       "  0%|          | 0/10 [00:00<?, ?it/s]"
      ]
     },
     "metadata": {},
     "output_type": "display_data"
    },
    {
     "data": {
      "application/vnd.jupyter.widget-view+json": {
       "model_id": "29608f0846c34d9f80c1c2dceecc067b",
       "version_major": 2,
       "version_minor": 0
      },
      "text/plain": [
       "  0%|          | 0/10 [00:00<?, ?it/s]"
      ]
     },
     "metadata": {},
     "output_type": "display_data"
    },
    {
     "data": {
      "application/vnd.jupyter.widget-view+json": {
       "model_id": "046079313c024013b83e0c06caba9d17",
       "version_major": 2,
       "version_minor": 0
      },
      "text/plain": [
       "  0%|          | 0/10 [00:00<?, ?it/s]"
      ]
     },
     "metadata": {},
     "output_type": "display_data"
    },
    {
     "data": {
      "application/vnd.jupyter.widget-view+json": {
       "model_id": "9957a6c047e144929077a18d305ca9f8",
       "version_major": 2,
       "version_minor": 0
      },
      "text/plain": [
       "  0%|          | 0/10 [00:00<?, ?it/s]"
      ]
     },
     "metadata": {},
     "output_type": "display_data"
    },
    {
     "data": {
      "application/vnd.jupyter.widget-view+json": {
       "model_id": "656244ff38c4444688ae785c6d532fe9",
       "version_major": 2,
       "version_minor": 0
      },
      "text/plain": [
       "  0%|          | 0/10 [00:00<?, ?it/s]"
      ]
     },
     "metadata": {},
     "output_type": "display_data"
    },
    {
     "data": {
      "application/vnd.jupyter.widget-view+json": {
       "model_id": "ff89012dccf94c17921e6607f7850c8c",
       "version_major": 2,
       "version_minor": 0
      },
      "text/plain": [
       "  0%|          | 0/10 [00:00<?, ?it/s]"
      ]
     },
     "metadata": {},
     "output_type": "display_data"
    },
    {
     "data": {
      "application/vnd.jupyter.widget-view+json": {
       "model_id": "ff796d7e467b4d14b13985e46effae9c",
       "version_major": 2,
       "version_minor": 0
      },
      "text/plain": [
       "  0%|          | 0/10 [00:00<?, ?it/s]"
      ]
     },
     "metadata": {},
     "output_type": "display_data"
    },
    {
     "data": {
      "application/vnd.jupyter.widget-view+json": {
       "model_id": "1560ab8cf96a4b1aa54291655a19b87a",
       "version_major": 2,
       "version_minor": 0
      },
      "text/plain": [
       "  0%|          | 0/10 [00:00<?, ?it/s]"
      ]
     },
     "metadata": {},
     "output_type": "display_data"
    },
    {
     "data": {
      "application/vnd.jupyter.widget-view+json": {
       "model_id": "bc69432c7f194c5397daeb661d556552",
       "version_major": 2,
       "version_minor": 0
      },
      "text/plain": [
       "  0%|          | 0/10 [00:00<?, ?it/s]"
      ]
     },
     "metadata": {},
     "output_type": "display_data"
    },
    {
     "data": {
      "application/vnd.jupyter.widget-view+json": {
       "model_id": "ce1af465620d4636956bac48418bb3d7",
       "version_major": 2,
       "version_minor": 0
      },
      "text/plain": [
       "  0%|          | 0/10 [00:00<?, ?it/s]"
      ]
     },
     "metadata": {},
     "output_type": "display_data"
    },
    {
     "data": {
      "application/vnd.jupyter.widget-view+json": {
       "model_id": "b7fe6c7318074c76b06899a95e0159f0",
       "version_major": 2,
       "version_minor": 0
      },
      "text/plain": [
       "  0%|          | 0/10 [00:00<?, ?it/s]"
      ]
     },
     "metadata": {},
     "output_type": "display_data"
    },
    {
     "data": {
      "application/vnd.jupyter.widget-view+json": {
       "model_id": "fd95911b858c43d5a01294635f8ad4f3",
       "version_major": 2,
       "version_minor": 0
      },
      "text/plain": [
       "  0%|          | 0/10 [00:00<?, ?it/s]"
      ]
     },
     "metadata": {},
     "output_type": "display_data"
    },
    {
     "data": {
      "application/vnd.jupyter.widget-view+json": {
       "model_id": "5ffd523eaaaf4f69a98c06d5c9d57e69",
       "version_major": 2,
       "version_minor": 0
      },
      "text/plain": [
       "  0%|          | 0/10 [00:00<?, ?it/s]"
      ]
     },
     "metadata": {},
     "output_type": "display_data"
    },
    {
     "data": {
      "application/vnd.jupyter.widget-view+json": {
       "model_id": "07f1a0d964374d3bb5851f7efd90841e",
       "version_major": 2,
       "version_minor": 0
      },
      "text/plain": [
       "  0%|          | 0/10 [00:00<?, ?it/s]"
      ]
     },
     "metadata": {},
     "output_type": "display_data"
    },
    {
     "data": {
      "application/vnd.jupyter.widget-view+json": {
       "model_id": "ed01c47e46e242fc8efedfc68383ee12",
       "version_major": 2,
       "version_minor": 0
      },
      "text/plain": [
       "  0%|          | 0/10 [00:00<?, ?it/s]"
      ]
     },
     "metadata": {},
     "output_type": "display_data"
    },
    {
     "data": {
      "application/vnd.jupyter.widget-view+json": {
       "model_id": "5c97ddde7449422a983f0ed6ecdff0db",
       "version_major": 2,
       "version_minor": 0
      },
      "text/plain": [
       "  0%|          | 0/10 [00:00<?, ?it/s]"
      ]
     },
     "metadata": {},
     "output_type": "display_data"
    },
    {
     "data": {
      "application/vnd.jupyter.widget-view+json": {
       "model_id": "d4fa29600fc544bab255e628b1016865",
       "version_major": 2,
       "version_minor": 0
      },
      "text/plain": [
       "  0%|          | 0/10 [00:00<?, ?it/s]"
      ]
     },
     "metadata": {},
     "output_type": "display_data"
    },
    {
     "data": {
      "application/vnd.jupyter.widget-view+json": {
       "model_id": "006ab5ca74854f6f935c2ddcadc26568",
       "version_major": 2,
       "version_minor": 0
      },
      "text/plain": [
       "  0%|          | 0/10 [00:00<?, ?it/s]"
      ]
     },
     "metadata": {},
     "output_type": "display_data"
    }
   ],
   "source": [
    "train_data1 = TensorDataset(jax2torch(xtrain_base1), jax2torch(ytrain_base1))\n",
    "train_loader1 = DataLoader(train_data1, batch_size = 30, shuffle = True)\n",
    "\n",
    "loss_fn = nn.MSELoss()\n",
    "fno_base = FNO(n_modes=(16,), \n",
    "             hidden_channels=64, \n",
    "             in_channels=3, \n",
    "             out_channels=1).to(device)\n",
    "optim_fno = torch.optim.Adam(fno_base.parameters(), lr = 1e-3)\n",
    "\n",
    "epochs = 20\n",
    "for _ in trange(epochs):\n",
    "    for xt, yt in tqdm(train_loader1, leave = False):  \n",
    "        yhat = fno_base(xt.to(device))\n",
    "        loss = loss_fn(yhat, yt.to(device))\n",
    "        loss.backward()\n",
    "        optim_fno.step()\n",
    "        optim_fno.zero_grad()\n",
    "\n",
    "with torch.no_grad():\n",
    "    ytrain_base1_hat = fno_base(jax2torch(xval).to(device)).cpu().squeeze()\n",
    "    ytrain_base1_hat = torch2jax(ytrain_base1_hat)\n",
    "\n",
    "train_data2 = TensorDataset(jax2torch(xtrain_base2), torch.abs(jax2torch(ytrain_base2 - ytrain_base1_hat)))\n",
    "train_loader2 = DataLoader(train_data2, batch_size = 30, shuffle = True)\n",
    "\n",
    "loss_fn = QuantileLoss(0.9)\n",
    "fno_quant2 = FNO(n_modes=(16,), \n",
    "             hidden_channels=64, \n",
    "             in_channels=3, \n",
    "             out_channels=1).to(device)\n",
    "optim_fno = torch.optim.Adam(fno_quant2.parameters(), lr = 1e-3)\n",
    "\n",
    "epochs = 20\n",
    "for _ in trange(epochs):\n",
    "    for xt, yt in tqdm(train_loader2, leave = False):  \n",
    "        yhat = fno_quant2(xt.to(device))\n",
    "        loss = loss_fn(yhat, yt.to(device))\n",
    "        loss.backward()\n",
    "        optim_fno.step()\n",
    "        optim_fno.zero_grad()"
   ]
  },
  {
   "cell_type": "code",
   "execution_count": 51,
   "id": "6094d5aa-d784-44b3-81ab-e5f951c8c887",
   "metadata": {},
   "outputs": [],
   "source": [
    "with torch.no_grad():\n",
    "    yval_fno = fno(jax2torch(xval).to(device)).cpu().squeeze()\n",
    "    yval_fno = torch2jax(yval_fno)\n",
    "\n",
    "    yval_quant = fno_quant(jax2torch(xval).to(device)).cpu().squeeze()\n",
    "    yval_quant = torch2jax(yval_quant)\n",
    "    \n",
    "    yval_mu, yval_sd = fno_prob(jax2torch(xval).to(device))\n",
    "    yval_mu, yval_sd = torch2jax(yval_mu.cpu()), torch2jax(yval_sd.cpu())\n",
    "    yval_mu = yval_mu.squeeze()\n",
    "    yval_sd = yval_sd.squeeze()\n",
    "\n",
    "    yval_hat2 = fno_base(jax2torch(xval).to(device)).cpu().squeeze()\n",
    "    yval_hat2 = torch2jax(yval_hat2)\n",
    "    yval_quant2 = fno_quant2(jax2torch(xval).to(device)).cpu().squeeze()\n",
    "    yval_quant2 = torch2jax(yval_quant2)"
   ]
  },
  {
   "cell_type": "code",
   "execution_count": 52,
   "id": "37029e90-dfd3-4dcb-a287-6d7a43e33357",
   "metadata": {},
   "outputs": [],
   "source": [
    "with torch.no_grad():\n",
    "    ytest_fno = fno(jax2torch(xtest).to(device)).cpu().squeeze()\n",
    "    ytest_fno = torch2jax(ytest_fno)\n",
    "\n",
    "    ytest_quant = fno_quant(jax2torch(xtest).to(device)).cpu().squeeze()\n",
    "    ytest_quant = torch2jax(ytest_quant)\n",
    "\n",
    "    ytest_mu, ytest_sd = fno_prob(jax2torch(xtest).to(device))\n",
    "    ytest_mu, ytest_sd = torch2jax(ytest_mu.cpu()), torch2jax(ytest_sd.cpu())\n",
    "    ytest_mu = ytest_mu.squeeze()\n",
    "    ytest_sd = ytest_sd.squeeze()\n",
    "\n",
    "    ytest_hat2 = fno_base(jax2torch(xtest).to(device)).cpu().squeeze()\n",
    "    ytest_hat2 = torch2jax(ytest_hat2)\n",
    "    ytest_quant2 = fno_quant2(jax2torch(xtest).to(device)).cpu().squeeze()\n",
    "    ytest_quant2 = torch2jax(ytest_quant2)"
   ]
  },
  {
   "cell_type": "code",
   "execution_count": 53,
   "id": "27832bf5-9636-4bdb-94fb-190f43323ba8",
   "metadata": {},
   "outputs": [],
   "source": [
    "rval_fno = yval.squeeze() - yval_fno\n",
    "rval_mu = yval.squeeze() - yval_mu\n",
    "rval_fno2 = yval.squeeze() - yval_hat2\n",
    "rtest_fno = ytest.squeeze() - ytest_fno\n",
    "rtest_mu = ytest.squeeze() - ytest_mu\n",
    "rtest_fno2 = ytest.squeeze() - ytest_hat2"
   ]
  },
  {
   "cell_type": "code",
   "execution_count": 54,
   "id": "0ba54556-9d2e-4916-894a-a7a6d88a98f8",
   "metadata": {},
   "outputs": [],
   "source": [
    "nproj = 100\n",
    "n_samp = 5000\n",
    "n_phi = 20\n",
    "alpha = 0.1\n",
    "adj_alpha = jnp.ceil((ntrain+1)*(1-alpha))/ntrain\n",
    "\n",
    "pca_state = pcax.fit(rval_fno, nproj)\n",
    "\n",
    "conf_lower, conf_upper = conf.conf_band(rval_fno, pca_state, alpha)\n",
    "gaus_lower, gaus_upper = gaus.gaus_band(rval_fno, pca_state, alpha)\n",
    "supr_lower, supr_upper = supr.supr_band(rval_fno, alpha)\n",
    "\n",
    "uqno_lam = uqno.uqno_lambda(yval, yval_hat2, yval_quant2, delta = 0.1, alpha = 0.1)\n",
    "uqn1_lower, uqn1_upper = -uqno_lam*ytest_quant2, uqno_lam*ytest_quant2\n",
    "\n",
    "pdon_lower, pdon_upper = prob_don.prob_don(yval.squeeze(), yval_mu, yval_sd, ytest_sd, alpha)\n",
    "qdon_lower, qdon_upper = quant_don.quant_don(yval.squeeze(), yval_quant2, ytest_quant2, alpha)"
   ]
  },
  {
   "cell_type": "code",
   "execution_count": 55,
   "id": "b433e883-7d67-4bef-a241-455f68b533d8",
   "metadata": {},
   "outputs": [
    {
     "data": {
      "application/vnd.jupyter.widget-view+json": {
       "model_id": "52b783c6902a4ac7b2e77f4f02aca9d5",
       "version_major": 2,
       "version_minor": 0
      },
      "text/plain": [
       "  0%|          | 0/261 [00:00<?, ?it/s]"
      ]
     },
     "metadata": {},
     "output_type": "display_data"
    }
   ],
   "source": [
    "ntest = ytest.shape[0]\n",
    "nmod = 4 + 6\n",
    "cover = np.zeros((ntest, nmod))\n",
    "width = np.zeros((ntest, nmod))\n",
    "\n",
    "rng = random.key(1)\n",
    "knn_weights = lsci.l2_localizer(xval.squeeze(), xtest.squeeze() + 0.1*random.normal(rng, xtest.squeeze().shape), 13)\n",
    "inf_weights = lsci.linf_localizer(xval.squeeze(), xtest.squeeze() + 0.1*random.normal(rng, xtest.squeeze().shape), 13)\n",
    "\n",
    "for k in trange(0, ntest):\n",
    "    \n",
    "    rng, key1, key2, key3 = random.split(rng, 4)\n",
    "\n",
    "    ## LSCI \n",
    "    weight_k = knn_weights[k:(k+1)]\n",
    "    rng, sample_rng, reject_rng = random.split(rng, 3)\n",
    "    lsci_ens = lsci.fpca_sampler(rval_fno, weight_k, n_samp, sample_rng)\n",
    "    lsci_ens = lsci.depth_reject(rval_fno, lsci_ens, weight_k, n_phi, adj_alpha, reject_rng)\n",
    "    lsci_lower = jnp.min(lsci_ens, axis = 0)\n",
    "    lsci_upper = jnp.max(lsci_ens, axis = 0)\n",
    "    \n",
    "    cover[k, 0] = risk(lsci_lower, lsci_upper, rtest_fno[k])\n",
    "    width[k, 0] =  jnp.median(lsci_upper - lsci_lower)\n",
    "\n",
    "    ## LSCI \n",
    "    weight_k = inf_weights[k:(k+1)]\n",
    "    \n",
    "    rng, sample_rng, reject_rng = random.split(rng, 3)\n",
    "    lsci_ens = lsci.fpca_sampler(rval_fno, weight_k, n_samp, sample_rng)\n",
    "    lsci_ens = lsci.depth_reject(rval_fno, lsci_ens, weight_k, n_phi, adj_alpha, reject_rng)\n",
    "    lsci_lower = jnp.min(lsci_ens, axis = 0)\n",
    "    lsci_upper = jnp.max(lsci_ens, axis = 0)\n",
    "    \n",
    "    cover[k, 1] = risk(lsci_lower, lsci_upper, rtest_fno[k])\n",
    "    width[k, 1] =  jnp.median(lsci_upper - lsci_lower)\n",
    "\n",
    "    ## LSCI \n",
    "    weight_k = knn_weights[k:(k+1)]\n",
    "    rng, sample_rng, reject_rng = random.split(rng, 3)\n",
    "    lsci_ens = lsci.fpca_sampler(rval_fno, weight_k, n_samp, sample_rng)\n",
    "    lsci_ens = lsci.depth_reject(rval_fno, lsci_ens, weight_k, 5*n_phi, adj_alpha, reject_rng)\n",
    "    lsci_lower = jnp.min(lsci_ens, axis = 0)\n",
    "    lsci_upper = jnp.max(lsci_ens, axis = 0)\n",
    "    \n",
    "    cover[k, 2] = risk(lsci_lower, lsci_upper, rtest_fno[k])\n",
    "    width[k, 2] =  jnp.median(lsci_upper - lsci_lower)\n",
    "\n",
    "    ## LSCI \n",
    "    weight_k = inf_weights[k:(k+1)]\n",
    "    \n",
    "    rng, sample_rng, reject_rng = random.split(rng, 3)\n",
    "    lsci_ens = lsci.fpca_sampler(rval_fno, weight_k, n_samp, sample_rng)\n",
    "    lsci_ens = lsci.depth_reject(rval_fno, lsci_ens, weight_k, 5*n_phi, adj_alpha, reject_rng)\n",
    "    lsci_lower = jnp.min(lsci_ens, axis = 0)\n",
    "    lsci_upper = jnp.max(lsci_ens, axis = 0)\n",
    "    \n",
    "    cover[k, 3] = risk(lsci_lower, lsci_upper, rtest_fno[k])\n",
    "    width[k, 3] =  jnp.median(lsci_upper - lsci_lower)\n",
    "    \n",
    "    # CONF \n",
    "    cover[k, 4] = risk(conf_lower, conf_upper, rtest_fno[k])\n",
    "    width[k, 4] = jnp.median(conf_upper - conf_lower)\n",
    "    \n",
    "    # GAUSS \n",
    "    cover[k, 5] = risk(gaus_lower, gaus_upper, rtest_fno[k])\n",
    "    width[k, 5] = jnp.median(gaus_upper - gaus_lower)\n",
    "    \n",
    "    # SUPR\n",
    "    cover[k, 6] = risk(supr_lower, supr_upper, rtest_fno[k])\n",
    "    width[k, 6] = jnp.median(supr_upper - supr_lower)\n",
    "    \n",
    "    # UQNO\n",
    "    cover[k, 7] = risk(uqn1_lower[k], uqn1_upper[k], rtest_fno[k])\n",
    "    width[k, 7] = jnp.median(uqn1_upper[k] - uqn1_lower[k])\n",
    "    \n",
    "    # PDON\n",
    "    cover[k, 8] = risk(pdon_lower[k], pdon_upper[k], rtest_mu[k])\n",
    "    width[k, 8] = jnp.mean(pdon_upper[k] - pdon_lower[k])\n",
    "    \n",
    "    # QDON\n",
    "    cover[k, 9] = risk(qdon_lower[k], qdon_upper[k], rtest_fno2[k])\n",
    "    width[k, 9] = jnp.mean(qdon_upper[k] - qdon_lower[k])"
   ]
  },
  {
   "cell_type": "code",
   "execution_count": 56,
   "id": "1f49ce93-f93b-4394-8dd3-c3b79dc059e9",
   "metadata": {},
   "outputs": [],
   "source": [
    "# metrics\n",
    "sigma = jnp.sqrt(jnp.mean(rtest_fno**2, axis =1))\n",
    "# sigma = sd[1:,0]\n",
    "\n",
    "cover_mean = np.round(np.mean(cover >= 0.99, axis = 0), 3)\n",
    "width_mean = np.round(np.mean(width, axis = 0), 3)\n",
    "\n",
    "## correlations\n",
    "cover_dcor = np.zeros(nmod)\n",
    "width_dcor = np.zeros(nmod)\n",
    "for i in range(nmod):\n",
    "    cover_dcor[i] = dcorr(cover[:,i], sigma)\n",
    "    width_dcor[i] = dcorr(width[:,i], sigma)\n",
    "\n",
    "metrics_mean = np.vstack([\n",
    "    cover_mean,\n",
    "    cover_dcor,\n",
    "    width_mean,\n",
    "    width_dcor\n",
    "]).T"
   ]
  },
  {
   "cell_type": "code",
   "execution_count": 57,
   "id": "1be01e08-c9f4-475c-9fff-4997c4baaefd",
   "metadata": {},
   "outputs": [
    {
     "name": "stdout",
     "output_type": "stream",
     "text": [
      "[[0.973 0.337 0.553 0.   ]\n",
      " [0.969 0.336 0.571 0.   ]\n",
      " [0.95  0.407 0.699 0.   ]\n",
      " [0.985 0.254 0.66  0.079]\n",
      " [0.621 0.329 0.226 0.261]\n",
      " [0.943 0.271 0.463 0.076]]\n"
     ]
    }
   ],
   "source": [
    "np.set_printoptions(suppress=True)\n",
    "print(np.round(np.nan_to_num(metrics_mean[4:], 0), 3))"
   ]
  },
  {
   "cell_type": "code",
   "execution_count": 58,
   "id": "d9c6550a-b303-4f53-b2b8-52b9e504b23d",
   "metadata": {},
   "outputs": [
    {
     "name": "stdout",
     "output_type": "stream",
     "text": [
      "[[0.958 0.237 0.445 0.209]\n",
      " [0.92  0.211 0.387 0.212]\n",
      " [0.954 0.271 0.444 0.215]\n",
      " [0.897 0.294 0.385 0.201]]\n"
     ]
    }
   ],
   "source": [
    "print(np.round(np.nan_to_num(metrics_mean[0:4], 0), 3))"
   ]
  },
  {
   "cell_type": "code",
   "execution_count": null,
   "id": "164d191a-e7db-468c-9e46-1e4cff8b14f3",
   "metadata": {},
   "outputs": [],
   "source": []
  },
  {
   "cell_type": "code",
   "execution_count": null,
   "id": "8a4b61f8-ca10-44d2-adcb-9a1edd64b31c",
   "metadata": {},
   "outputs": [],
   "source": []
  },
  {
   "cell_type": "code",
   "execution_count": 119,
   "id": "34d65b43-3bb6-439b-b3c9-e6e6a3c92e4f",
   "metadata": {},
   "outputs": [
    {
     "data": {
      "application/vnd.jupyter.widget-view+json": {
       "model_id": "3bce10a8d43a4d3895280140f0084738",
       "version_major": 2,
       "version_minor": 0
      },
      "text/plain": [
       "  0%|          | 0/50 [00:00<?, ?it/s]"
      ]
     },
     "metadata": {},
     "output_type": "display_data"
    }
   ],
   "source": [
    "epochs = 50\n",
    "lag, lead = len(variables), 1\n",
    "\n",
    "width = 50\n",
    "drop_prob = 0.1\n",
    "\n",
    "rng = random.PRNGKey(0)\n",
    "model_rng = nnx.Rngs(1)\n",
    "base_model = DeepANO(lag, width, lead, rngs=model_rng)\n",
    "prob_model = ProbANO(lag, width, lead, rngs=model_rng)\n",
    "quant_model = DeepANO(lag, width, lead, rngs=model_rng)\n",
    "\n",
    "base_optim = nnx.Optimizer(base_model, optax.adam(1e-3))\n",
    "prob_optim = nnx.Optimizer(prob_model, optax.adam(1e-3))\n",
    "quant_optim = nnx.Optimizer(quant_model, optax.adam(1e-3))\n",
    "\n",
    "for _ in trange(epochs):\n",
    "    for xt, yt in train_loader:\n",
    "        xt = torch2jax(xt)\n",
    "        yt = torch2jax(yt)\n",
    "        \n",
    "        base_loss = train_step(base_model, base_optim, xt, yt)\n",
    "        prob_loss = prob_step(prob_model, prob_optim, xt, yt)\n",
    "        quant_loss = quant_step(quant_model, quant_optim, xt, yt)"
   ]
  },
  {
   "cell_type": "code",
   "execution_count": 120,
   "id": "d8d07770-0f4e-42ee-9623-81d6859b0c09",
   "metadata": {},
   "outputs": [],
   "source": [
    "yval_hat = base_model(xval)\n",
    "ytest_hat = base_model(xtest)\n",
    "\n",
    "yval_quant = quant_model(xval)\n",
    "ytest_quant = quant_model(xtest)\n",
    "\n",
    "yval_mu, yval_sd = prob_model(xval)\n",
    "ytest_mu, ytest_sd = prob_model(xtest)"
   ]
  },
  {
   "cell_type": "code",
   "execution_count": 121,
   "id": "6340ea6c-1677-493a-8e5f-944fcdf9c9ab",
   "metadata": {},
   "outputs": [],
   "source": [
    "yval = yval.squeeze()\n",
    "ytest = ytest.squeeze()\n",
    "\n",
    "yval_hat = yval_hat.squeeze()\n",
    "ytest_hat = ytest_hat.squeeze()\n",
    "yval_quant = yval_quant.squeeze()\n",
    "ytest_quant = ytest_quant.squeeze()\n",
    "yval_mu = yval_mu.squeeze()\n",
    "yval_sd = yval_sd.squeeze()\n",
    "ytest_mu = ytest_mu.squeeze()\n",
    "ytest_sd = ytest_sd.squeeze()"
   ]
  },
  {
   "cell_type": "code",
   "execution_count": 122,
   "id": "5ad8c16d-f768-4a45-9889-4d09397eae3f",
   "metadata": {},
   "outputs": [
    {
     "data": {
      "application/vnd.jupyter.widget-view+json": {
       "model_id": "c5662727eb8246c28656d6612389a2f4",
       "version_major": 2,
       "version_minor": 0
      },
      "text/plain": [
       "  0%|          | 0/261 [00:00<?, ?it/s]"
      ]
     },
     "metadata": {},
     "output_type": "display_data"
    }
   ],
   "source": [
    "nproj = npc = 24\n",
    "gamma1 = 0.1\n",
    "gamma2 = 0.05\n",
    "alpha = 0.1\n",
    "nval = xval.shape[0]\n",
    "\n",
    "drop_risk, drop_width = [], []\n",
    "orcl_risk, orcl_width = [], []\n",
    "conf_risk, conf_width = [], []\n",
    "gaus_risk, gaus_width = [], []\n",
    "supr_risk, supr_width = [], []\n",
    "uqn1_risk, uqn1_width = [], []\n",
    "pdon_risk, pdon_width = [], []\n",
    "qdon_risk, qdon_width = [], []\n",
    "lsc1_risk, lsc1_width = [], []\n",
    "lsc2_risk, lsc2_width = [], []\n",
    "\n",
    "rval = (yval - yval_hat).squeeze()\n",
    "rtest = (ytest - ytest_hat).squeeze()\n",
    "rtest2 = (ytest - ytest_mu).squeeze()\n",
    "\n",
    "state = lsci.lsci_state(xval, rval, npc, localization='l2')\n",
    "pca_state = state[-1]\n",
    "\n",
    "quant_scores = jnp.abs(yval - yval_hat) / yval_quant\n",
    "lam_uqno = uqno.estimate_lambda(quant_scores, 0.1, 0.01, 1.1)\n",
    "\n",
    "conf_lower, conf_upper = conf.conf_band(rval, pca_state, alpha)\n",
    "gaus_lower, gaus_upper = gaus.gaus_band(rval, pca_state, alpha)\n",
    "supr_lower, supr_upper = supr.supr_band(rval, alpha)\n",
    "uqn1_lower, uqn1_upper = uqno.uqno_band(ytest_quant, lam_uqno)\n",
    "pdon_lower, pdon_upper = prob_don.prob_don(prob_model, xval, xtest, yval, alpha)\n",
    "qdon_lower, qdon_upper = quant_don.quant_don(quant_model, xval, xtest, yval - yval_hat, alpha)\n",
    "\n",
    "for i in trange(0, ytest.shape[0]):\n",
    "    \n",
    "    # LSCI\n",
    "    lsc1_lower, lsc1_upper = lsci.lsci_band(xtest[i].squeeze(), state, alpha, 2000, gamma1)\n",
    "    lsc1_risk.append(risk(lsc1_lower, lsc1_upper, rtest[i]))\n",
    "    lsc1_width.append(jnp.median(lsc1_upper - lsc1_lower))\n",
    "    \n",
    "    # LSCI\n",
    "    lsc2_lower, lsc2_upper = lsci.lsci_band(xtest[i].squeeze(), state, alpha, 2000, gamma2)\n",
    "    lsc2_risk.append(risk(lsc2_lower, lsc2_upper, rtest[i]))\n",
    "    lsc2_width.append(jnp.median(lsc2_upper - lsc2_lower))\n",
    "\n",
    "    # Oracle\n",
    "    orcl_lower = -(jnp.abs(rtest[i]) + 1e-4)\n",
    "    orcl_upper = jnp.abs(rtest[i]) + 1e-4\n",
    "    orcl_risk.append(risk(orcl_lower, orcl_upper, rtest[i]))\n",
    "    orcl_width.append(jnp.median(orcl_upper - orcl_lower))\n",
    "    \n",
    "    # CONF \n",
    "    conf_risk.append(risk(conf_lower, conf_upper, rtest[i]))\n",
    "    conf_width.append(jnp.median(conf_upper - conf_lower))\n",
    "    \n",
    "    # GAUSS \n",
    "    gaus_risk.append(risk(gaus_lower, gaus_upper, rtest[i]))\n",
    "    gaus_width.append(jnp.median(gaus_upper - gaus_lower))\n",
    "    \n",
    "    # SUPR\n",
    "    supr_risk.append(risk(supr_lower, supr_upper, rtest[i]))\n",
    "    supr_width.append(jnp.median(supr_upper - supr_lower))\n",
    "    \n",
    "    # UQNO\n",
    "    uqn1_risk.append(risk(uqn1_lower[i], uqn1_upper[i], rtest[i]))\n",
    "    uqn1_width.append(jnp.median(uqn1_upper[i] - uqn1_lower[i]))\n",
    "    \n",
    "    # PDON\n",
    "    pdon_risk.append(risk(pdon_lower[i], pdon_upper[i], rtest2[i]))\n",
    "    pdon_width.append(jnp.median(pdon_upper[i] - pdon_lower[i]))\n",
    "    \n",
    "    # PDON\n",
    "    qdon_risk.append(risk(qdon_lower[i], qdon_upper[i], rtest[i]))\n",
    "    qdon_width.append(jnp.median(qdon_upper[i] - qdon_lower[i]))\n",
    "    \n",
    "    # # DROPOUT\n",
    "    # drop_model.train()\n",
    "    # drop_set = jnp.stack([drop_model(xtest[i:(i+1)]).squeeze() for _ in range(500)])\n",
    "    # drop_lower = jnp.quantile(drop_set, alpha/2, axis = 0)\n",
    "    # drop_upper = jnp.quantile(drop_set, 1 - alpha/2, axis = 0)\n",
    "    # drop_model.eval()\n",
    "    \n",
    "    # drop_risk.append(risk(drop_lower, drop_upper, rtest[i]))\n",
    "    # drop_width.append(jnp.median(drop_upper - drop_lower))\n",
    "\n",
    "orcl_risk, orcl_width = np.array(orcl_risk), np.array(orcl_width)\n",
    "drop_risk, drop_width = np.array(drop_risk), np.array(drop_width)\n",
    "conf_risk, conf_width = np.array(conf_risk), np.array(conf_width)\n",
    "gaus_risk, gaus_width = np.array(gaus_risk), np.array(gaus_width)\n",
    "supr_risk, supr_width = np.array(supr_risk), np.array(supr_width)\n",
    "uqn1_risk, uqn1_width = np.array(uqn1_risk), np.array(uqn1_width)\n",
    "lsc1_risk, lsc1_width = np.array(lsc1_risk), np.array(lsc1_width)\n",
    "lsc2_risk, lsc2_width = np.array(lsc2_risk), np.array(lsc2_width)\n",
    "pdon_risk, pdon_width = np.array(pdon_risk), np.array(pdon_width)\n",
    "qdon_risk, qdon_width = np.array(qdon_risk), np.array(qdon_width)"
   ]
  },
  {
   "cell_type": "code",
   "execution_count": 123,
   "id": "77a663da-2b25-436e-b760-b5b626a7640f",
   "metadata": {},
   "outputs": [],
   "source": [
    "drop_risk, drop_width = jnp.zeros(ytest.shape[0]),  jnp.zeros(ytest.shape[0])"
   ]
  },
  {
   "cell_type": "code",
   "execution_count": 124,
   "id": "ccb3a3f5-6527-4fbd-ae51-60932bf5e8b1",
   "metadata": {},
   "outputs": [],
   "source": [
    "noise_sd = jnp.mean(rtest**2, axis = 1)"
   ]
  },
  {
   "cell_type": "code",
   "execution_count": 125,
   "id": "5e7f049e-a648-41d6-b071-9dd679772b9e",
   "metadata": {},
   "outputs": [
    {
     "name": "stderr",
     "output_type": "stream",
     "text": [
      "/home/tharris/climate/lib/python3.12/site-packages/numpy/lib/_function_base_impl.py:3045: RuntimeWarning: invalid value encountered in divide\n",
      "  c /= stddev[:, None]\n",
      "/home/tharris/climate/lib/python3.12/site-packages/numpy/lib/_function_base_impl.py:3046: RuntimeWarning: invalid value encountered in divide\n",
      "  c /= stddev[None, :]\n"
     ]
    }
   ],
   "source": [
    "gamma = 0.99\n",
    "\n",
    "risk_control = np.mean(orcl_risk >= gamma), \\\n",
    "               np.mean(drop_risk >= gamma), \\\n",
    "               np.mean(conf_risk >= gamma), \\\n",
    "               np.mean(gaus_risk >= gamma), \\\n",
    "               np.mean(supr_risk >= gamma), \\\n",
    "               np.mean(uqn1_risk >= gamma), \\\n",
    "               np.mean(pdon_risk >= gamma), \\\n",
    "               np.mean(qdon_risk >= gamma), \\\n",
    "               np.mean(lsc1_risk >= gamma), \\\n",
    "               np.mean(lsc2_risk >= gamma)\n",
    "\n",
    "width = np.mean(orcl_width), \\\n",
    "        np.mean(drop_width), \\\n",
    "        np.mean(conf_width), \\\n",
    "        np.mean(gaus_width), \\\n",
    "        np.mean(supr_width), \\\n",
    "        np.mean(uqn1_width), \\\n",
    "        np.mean(pdon_width), \\\n",
    "        np.mean(qdon_width), \\\n",
    "        np.mean(lsc1_width), \\\n",
    "        np.mean(lsc2_width)\n",
    "\n",
    "risk_cor = -0, \\\n",
    "           np.corrcoef([noise_sd, drop_risk])[0,1], \\\n",
    "           np.corrcoef([noise_sd, conf_risk])[0,1], \\\n",
    "           np.corrcoef([noise_sd, gaus_risk])[0,1], \\\n",
    "           np.corrcoef([noise_sd, supr_risk])[0,1], \\\n",
    "           np.corrcoef([noise_sd, uqn1_risk])[0,1], \\\n",
    "           np.corrcoef([noise_sd, pdon_risk])[0,1], \\\n",
    "           np.corrcoef([noise_sd, qdon_risk])[0,1], \\\n",
    "           np.corrcoef([noise_sd, lsc1_risk])[0,1], \\\n",
    "           np.corrcoef([noise_sd, lsc2_risk])[0,1]\n",
    "\n",
    "width_cor = 1, \\\n",
    "            np.corrcoef([noise_sd, drop_width])[0,1], \\\n",
    "            0, \\\n",
    "            0, \\\n",
    "            0, \\\n",
    "            np.corrcoef([noise_sd, uqn1_width])[0,1], \\\n",
    "            np.corrcoef([noise_sd, pdon_width])[0,1], \\\n",
    "            np.corrcoef([noise_sd, qdon_width])[0,1], \\\n",
    "            np.corrcoef([noise_sd, lsc1_width])[0,1], \\\n",
    "            np.corrcoef([noise_sd, lsc2_width])[0,1]\n",
    "\n",
    "metrics = np.array([risk_control, risk_cor, width, width_cor]).T"
   ]
  },
  {
   "cell_type": "code",
   "execution_count": 126,
   "id": "7d1996e8-4b24-4abc-9a6a-26d785aa7585",
   "metadata": {},
   "outputs": [
    {
     "name": "stdout",
     "output_type": "stream",
     "text": [
      "Oracle & 1.000 & 0.000 & 87.938 & 1.000 \\\\\n",
      "MC-Drop & 0.000 & 0.000 & 0.000 & 0.000 \\\\\n",
      "Conf1 & 0.969 & -0.867 & 453.874 & 0.000 \\\\\n",
      "Conf2 & 0.958 & -0.872 & 448.337 & 0.000 \\\\\n",
      "Supr & 0.946 & -0.805 & 449.777 & 0.000 \\\\\n",
      "CQR-NO & 0.985 & -0.114 & 1309.577 & 0.459 \\\\\n",
      "Prob-NO & 0.874 & -0.672 & 313.344 & -0.032 \\\\\n",
      "Quant-NO & 0.678 & -0.061 & 222.917 & 0.460 \\\\\n",
      "LSCI1 & 0.981 & -0.667 & 365.285 & 0.390 \\\\\n",
      "LSCI2 & 0.946 & -0.523 & 330.759 & 0.439 \\\\\n"
     ]
    }
   ],
   "source": [
    "methods = ['Oracle', 'MC-Drop', 'Conf1', 'Conf2', \n",
    "           'Supr', 'CQR-NO', 'Prob-NO', 'Quant-NO', \n",
    "           'LSCI1', 'LSCI2']\n",
    "\n",
    "for i in range(metrics.shape[0]):\n",
    "    print(f'{methods[i]} & ', end = '')\n",
    "    for j in range(metrics.shape[1]):\n",
    "        val = f'{np.round(np.nan_to_num(metrics[i,j]), 3):.3f}'\n",
    "        if j < 3:\n",
    "            val += ' & '\n",
    "            print(val, end = '')\n",
    "        else:\n",
    "            val += ' \\\\\\\\'\n",
    "            print(val)"
   ]
  },
  {
   "cell_type": "code",
   "execution_count": null,
   "id": "542cb57b-797c-4b4e-a230-beda6415dab1",
   "metadata": {},
   "outputs": [],
   "source": []
  },
  {
   "cell_type": "code",
   "execution_count": null,
   "id": "b9db453f-da5e-4ee5-9e36-e382feb1291a",
   "metadata": {},
   "outputs": [],
   "source": []
  },
  {
   "cell_type": "code",
   "execution_count": null,
   "id": "f8ae1d02-5b95-4699-aecd-70b95f878497",
   "metadata": {},
   "outputs": [],
   "source": []
  },
  {
   "cell_type": "code",
   "execution_count": null,
   "id": "3810c697-6fe3-47eb-94fe-668bfbe5d8a9",
   "metadata": {},
   "outputs": [],
   "source": []
  },
  {
   "cell_type": "code",
   "execution_count": null,
   "id": "118129e1-4667-4f21-9af4-d720c62b84e3",
   "metadata": {},
   "outputs": [],
   "source": []
  },
  {
   "cell_type": "code",
   "execution_count": null,
   "id": "f2e738b4-b619-41d5-b568-6cef7bc3fb8b",
   "metadata": {},
   "outputs": [],
   "source": []
  }
 ],
 "metadata": {
  "kernelspec": {
   "display_name": "Python 3 (ipykernel)",
   "language": "python",
   "name": "python3"
  },
  "language_info": {
   "codemirror_mode": {
    "name": "ipython",
    "version": 3
   },
   "file_extension": ".py",
   "mimetype": "text/x-python",
   "name": "python",
   "nbconvert_exporter": "python",
   "pygments_lexer": "ipython3",
   "version": "3.12.3"
  }
 },
 "nbformat": 4,
 "nbformat_minor": 5
}
