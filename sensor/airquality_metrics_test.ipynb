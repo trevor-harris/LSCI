{
 "cells": [
  {
   "cell_type": "code",
   "execution_count": 1,
   "id": "9292af41-5cf1-4227-a88e-2efbd2899561",
   "metadata": {},
   "outputs": [],
   "source": [
    "import math\n",
    "import numpy as np\n",
    "import matplotlib\n",
    "import matplotlib.pyplot as plt\n",
    "\n",
    "import jax\n",
    "import jax.numpy as jnp\n",
    "import jax.scipy.stats as stats\n",
    "from jax import jacfwd, jacrev\n",
    "from jax import vmap, grad, jit, random\n",
    "from jax.tree_util import tree_map, tree_flatten, tree_unflatten, tree_leaves\n",
    "\n",
    "from flax import nnx\n",
    "import optax\n",
    "import pcax\n",
    "\n",
    "from tqdm.notebook import tqdm\n",
    "from tqdm.notebook import trange\n",
    "\n",
    "import torch\n",
    "import torch.nn as nn\n",
    "from torch.utils.data import DataLoader, TensorDataset\n",
    "device = 'cuda' if torch.cuda.is_available() else 'cpu'\n",
    "device = 'cpu'\n",
    "\n",
    "import os\n",
    "os.chdir('../methods')\n",
    "import lsci, supr, conf, uqno, prob_don, quant_don, gaus\n",
    "os.chdir('../gpsims')\n",
    "\n",
    "os.chdir('../models_and_metrics')\n",
    "from models import *\n",
    "from metrics import * \n",
    "from utility import *\n",
    "os.chdir('../gpsims')\n",
    "\n",
    "import neuralop as op\n",
    "from neuralop.models import FNO, LocalFNO, UNO, TFNO\n",
    "import jaxwt as jwt\n",
    "import pcax\n",
    "from jax.scipy.stats import norm, laplace"
   ]
  },
  {
   "cell_type": "code",
   "execution_count": 2,
   "id": "df6afc78-ce99-4fbe-8f5a-67bfadd6db17",
   "metadata": {},
   "outputs": [],
   "source": [
    "import pandas as pd\n",
    "air = pd.read_csv('../data/PRSA_Data_Tiantan_20130301-20170228.csv')\n",
    "air[\"date\"] = air[\"year\"].astype(str) + '_' + air[\"month\"].astype(str) + '_' + air[\"day\"].astype(str)"
   ]
  },
  {
   "cell_type": "code",
   "execution_count": 3,
   "id": "77676686-c867-488f-8edb-22d9d3d74ac5",
   "metadata": {},
   "outputs": [
    {
     "data": {
      "application/vnd.jupyter.widget-view+json": {
       "model_id": "a047e585c7524a03a88761c72eaa79b5",
       "version_major": 2,
       "version_minor": 0
      },
      "text/plain": [
       "  0%|          | 0/3 [00:00<?, ?it/s]"
      ]
     },
     "metadata": {},
     "output_type": "display_data"
    }
   ],
   "source": [
    "air_curves = np.array(air.groupby('date')['PM2.5'].apply(list).reset_index())\n",
    "dts = air_curves[:,0]\n",
    "fns = air_curves[:,1]\n",
    "\n",
    "# transform\n",
    "fns = [np.array(f) for f in fns]\n",
    "fns = [jax.image.resize(f, 24, 'bicubic') for f in fns]\n",
    "fns = np.array(fns)\n",
    "\n",
    "# backfill missing\n",
    "missing = jnp.sum(jnp.isnan(fns), axis = 1) > 0\n",
    "for i in range(fns.shape[0]):\n",
    "    if missing[i]:\n",
    "        fns[i] = fns[i-1]\n",
    "\n",
    "y = fns\n",
    "# y = np.log(y[:,None,:,None])\n",
    "\n",
    "x = []\n",
    "variables = ['TEMP', 'PRES', 'DEWP']\n",
    "for k in trange(len(variables)):\n",
    "    air_curves = np.array(air.groupby('date')[variables[k]].apply(list).reset_index())\n",
    "    dts = air_curves[:,0]\n",
    "    fns = air_curves[:,1]\n",
    "    \n",
    "    # transform\n",
    "    fns = [np.array(f) for f in fns]\n",
    "    fns = [jax.image.resize(f, 24, 'bicubic') for f in fns]\n",
    "    fns = np.array(fns)\n",
    "    \n",
    "    # backfill missing\n",
    "    missing = jnp.sum(jnp.isnan(fns), axis = 1) > 0\n",
    "    for i in range(fns.shape[0]):\n",
    "        if missing[i]:\n",
    "            fns[i] = fns[i-1]\n",
    "\n",
    "    x.append(fns)\n",
    "    \n",
    "x = np.array(x)\n",
    "x = np.moveaxis(x, 0, 2)[:,None]\n",
    "\n",
    "x_mu = np.mean(x, axis = (0,2))[None,:,None]\n",
    "x_sd = np.std(x, axis = (0,2))[None,:,None]\n",
    "x = (x - x_mu)/x_sd\n",
    "\n",
    "y = y / jnp.max(y)"
   ]
  },
  {
   "cell_type": "code",
   "execution_count": 4,
   "id": "4e0a5683-f4b7-47b4-9073-9e70decfe032",
   "metadata": {},
   "outputs": [],
   "source": [
    "# plt.plot(y[0:10].T)\n",
    "# plt.show()"
   ]
  },
  {
   "cell_type": "code",
   "execution_count": 5,
   "id": "67f68fc8-903a-4796-ba81-ec8f2bf824b6",
   "metadata": {},
   "outputs": [],
   "source": [
    "ntrain, nval = 600, 1200\n",
    "\n",
    "xtrain = x[:ntrain].reshape(-1, 3, 24)\n",
    "ytrain = y[:ntrain].reshape(-1, 1, 24)\n",
    "\n",
    "xval = x[ntrain:nval].reshape(-1, 3, 24)\n",
    "yval = y[ntrain:nval].reshape(-1, 1, 24)\n",
    "\n",
    "xtest = x[nval:].reshape(-1, 3, 24)\n",
    "ytest = y[nval:].reshape(-1, 1, 24)\n",
    "\n",
    "train_data = TensorDataset(torch.Tensor(np.array(xtrain)), torch.Tensor(np.array(ytrain)))\n",
    "train_loader = DataLoader(train_data, batch_size = 30, shuffle = True)"
   ]
  },
  {
   "cell_type": "code",
   "execution_count": 6,
   "id": "c63faf75-0e35-4a22-9a3c-d0a4ee079f12",
   "metadata": {},
   "outputs": [
    {
     "data": {
      "application/vnd.jupyter.widget-view+json": {
       "model_id": "eb4fb2b0b15b480f900a7035489016d9",
       "version_major": 2,
       "version_minor": 0
      },
      "text/plain": [
       "  0%|          | 0/20 [00:00<?, ?it/s]"
      ]
     },
     "metadata": {},
     "output_type": "display_data"
    },
    {
     "data": {
      "application/vnd.jupyter.widget-view+json": {
       "model_id": "6e163e4a5bc84f79926b941d54f29112",
       "version_major": 2,
       "version_minor": 0
      },
      "text/plain": [
       "  0%|          | 0/20 [00:00<?, ?it/s]"
      ]
     },
     "metadata": {},
     "output_type": "display_data"
    },
    {
     "data": {
      "application/vnd.jupyter.widget-view+json": {
       "model_id": "e5c33768ee65401aa6a90f0498a845f0",
       "version_major": 2,
       "version_minor": 0
      },
      "text/plain": [
       "  0%|          | 0/20 [00:00<?, ?it/s]"
      ]
     },
     "metadata": {},
     "output_type": "display_data"
    },
    {
     "data": {
      "application/vnd.jupyter.widget-view+json": {
       "model_id": "5a2b8289397a44ecaae951e323a4fb02",
       "version_major": 2,
       "version_minor": 0
      },
      "text/plain": [
       "  0%|          | 0/20 [00:00<?, ?it/s]"
      ]
     },
     "metadata": {},
     "output_type": "display_data"
    },
    {
     "data": {
      "application/vnd.jupyter.widget-view+json": {
       "model_id": "779bd0f4a8dd44d8b4835ac00e7345ba",
       "version_major": 2,
       "version_minor": 0
      },
      "text/plain": [
       "  0%|          | 0/20 [00:00<?, ?it/s]"
      ]
     },
     "metadata": {},
     "output_type": "display_data"
    },
    {
     "data": {
      "application/vnd.jupyter.widget-view+json": {
       "model_id": "03c70e499f7e4aeea2c1713877fc0f14",
       "version_major": 2,
       "version_minor": 0
      },
      "text/plain": [
       "  0%|          | 0/20 [00:00<?, ?it/s]"
      ]
     },
     "metadata": {},
     "output_type": "display_data"
    },
    {
     "data": {
      "application/vnd.jupyter.widget-view+json": {
       "model_id": "de327d5052c745078696737b8b96e293",
       "version_major": 2,
       "version_minor": 0
      },
      "text/plain": [
       "  0%|          | 0/20 [00:00<?, ?it/s]"
      ]
     },
     "metadata": {},
     "output_type": "display_data"
    },
    {
     "data": {
      "application/vnd.jupyter.widget-view+json": {
       "model_id": "45d5c74371a24717aa7ea3a8c823d06a",
       "version_major": 2,
       "version_minor": 0
      },
      "text/plain": [
       "  0%|          | 0/20 [00:00<?, ?it/s]"
      ]
     },
     "metadata": {},
     "output_type": "display_data"
    },
    {
     "data": {
      "application/vnd.jupyter.widget-view+json": {
       "model_id": "69c3b0d62d004871bf9efb901aa09e8b",
       "version_major": 2,
       "version_minor": 0
      },
      "text/plain": [
       "  0%|          | 0/20 [00:00<?, ?it/s]"
      ]
     },
     "metadata": {},
     "output_type": "display_data"
    },
    {
     "data": {
      "application/vnd.jupyter.widget-view+json": {
       "model_id": "0bfa468db6db4793a79d5a31c55fbb66",
       "version_major": 2,
       "version_minor": 0
      },
      "text/plain": [
       "  0%|          | 0/20 [00:00<?, ?it/s]"
      ]
     },
     "metadata": {},
     "output_type": "display_data"
    },
    {
     "data": {
      "application/vnd.jupyter.widget-view+json": {
       "model_id": "25dc9ce7d6074e7fac54f9b545011039",
       "version_major": 2,
       "version_minor": 0
      },
      "text/plain": [
       "  0%|          | 0/20 [00:00<?, ?it/s]"
      ]
     },
     "metadata": {},
     "output_type": "display_data"
    },
    {
     "data": {
      "application/vnd.jupyter.widget-view+json": {
       "model_id": "1b7425edfac9499ea520cb7522e8e978",
       "version_major": 2,
       "version_minor": 0
      },
      "text/plain": [
       "  0%|          | 0/20 [00:00<?, ?it/s]"
      ]
     },
     "metadata": {},
     "output_type": "display_data"
    },
    {
     "data": {
      "application/vnd.jupyter.widget-view+json": {
       "model_id": "0abe0ae206ab4a04a9e8a1027ce87996",
       "version_major": 2,
       "version_minor": 0
      },
      "text/plain": [
       "  0%|          | 0/20 [00:00<?, ?it/s]"
      ]
     },
     "metadata": {},
     "output_type": "display_data"
    },
    {
     "data": {
      "application/vnd.jupyter.widget-view+json": {
       "model_id": "0e4c41f4c78c4b1c84db28f4aea412e7",
       "version_major": 2,
       "version_minor": 0
      },
      "text/plain": [
       "  0%|          | 0/20 [00:00<?, ?it/s]"
      ]
     },
     "metadata": {},
     "output_type": "display_data"
    },
    {
     "data": {
      "application/vnd.jupyter.widget-view+json": {
       "model_id": "cb937633cbb14a4193e76167b02f2590",
       "version_major": 2,
       "version_minor": 0
      },
      "text/plain": [
       "  0%|          | 0/20 [00:00<?, ?it/s]"
      ]
     },
     "metadata": {},
     "output_type": "display_data"
    },
    {
     "data": {
      "application/vnd.jupyter.widget-view+json": {
       "model_id": "0efb91dea8654211b19d1f6bec160d6b",
       "version_major": 2,
       "version_minor": 0
      },
      "text/plain": [
       "  0%|          | 0/20 [00:00<?, ?it/s]"
      ]
     },
     "metadata": {},
     "output_type": "display_data"
    },
    {
     "data": {
      "application/vnd.jupyter.widget-view+json": {
       "model_id": "e4889c42684b49479e90491c50ee8184",
       "version_major": 2,
       "version_minor": 0
      },
      "text/plain": [
       "  0%|          | 0/20 [00:00<?, ?it/s]"
      ]
     },
     "metadata": {},
     "output_type": "display_data"
    },
    {
     "data": {
      "application/vnd.jupyter.widget-view+json": {
       "model_id": "0dfe644615934233bed791320ed65bd4",
       "version_major": 2,
       "version_minor": 0
      },
      "text/plain": [
       "  0%|          | 0/20 [00:00<?, ?it/s]"
      ]
     },
     "metadata": {},
     "output_type": "display_data"
    },
    {
     "data": {
      "application/vnd.jupyter.widget-view+json": {
       "model_id": "32400fe9bb3b419d95f30be49be048ad",
       "version_major": 2,
       "version_minor": 0
      },
      "text/plain": [
       "  0%|          | 0/20 [00:00<?, ?it/s]"
      ]
     },
     "metadata": {},
     "output_type": "display_data"
    },
    {
     "data": {
      "application/vnd.jupyter.widget-view+json": {
       "model_id": "ff425782720142c0bda95c4f0ce9ea53",
       "version_major": 2,
       "version_minor": 0
      },
      "text/plain": [
       "  0%|          | 0/20 [00:00<?, ?it/s]"
      ]
     },
     "metadata": {},
     "output_type": "display_data"
    },
    {
     "data": {
      "application/vnd.jupyter.widget-view+json": {
       "model_id": "e6c7fcef34ee48daa5e12d82241c7c32",
       "version_major": 2,
       "version_minor": 0
      },
      "text/plain": [
       "  0%|          | 0/20 [00:00<?, ?it/s]"
      ]
     },
     "metadata": {},
     "output_type": "display_data"
    }
   ],
   "source": [
    "loss_fn = nn.MSELoss()\n",
    "\n",
    "fno = FNO(n_modes=(16,), \n",
    "             hidden_channels=64, \n",
    "             in_channels=3, \n",
    "             out_channels=1)\n",
    "optim_fno = torch.optim.Adam(fno.parameters(), lr = 1e-3)\n",
    "\n",
    "epochs = 20\n",
    "for _ in trange(epochs):\n",
    "    for xt, yt in tqdm(train_loader, leave = False):  \n",
    "        yhat = fno(xt)\n",
    "        loss = loss_fn(yhat, yt)\n",
    "        loss.backward()\n",
    "        optim_fno.step()\n",
    "        optim_fno.zero_grad()\n",
    "        \n",
    "with torch.no_grad():\n",
    "    yval_fno = torch2jax(fno(jax2torch(xval)).squeeze())"
   ]
  },
  {
   "cell_type": "code",
   "execution_count": 7,
   "id": "6094d5aa-d784-44b3-81ab-e5f951c8c887",
   "metadata": {},
   "outputs": [],
   "source": [
    "with torch.no_grad():\n",
    "    yval_fno = fno(jax2torch(xval).to(device)).cpu().squeeze()\n",
    "    yval_fno = torch2jax(yval_fno)"
   ]
  },
  {
   "cell_type": "code",
   "execution_count": 8,
   "id": "37029e90-dfd3-4dcb-a287-6d7a43e33357",
   "metadata": {},
   "outputs": [],
   "source": [
    "with torch.no_grad():\n",
    "    ytest_fno = fno(jax2torch(xtest).to(device)).cpu().squeeze()\n",
    "    ytest_fno = torch2jax(ytest_fno)"
   ]
  },
  {
   "cell_type": "code",
   "execution_count": 9,
   "id": "27832bf5-9636-4bdb-94fb-190f43323ba8",
   "metadata": {},
   "outputs": [],
   "source": [
    "rval_fno = yval.squeeze() - yval_fno\n",
    "rtest_fno = ytest.squeeze() - ytest_fno"
   ]
  },
  {
   "cell_type": "code",
   "execution_count": 10,
   "id": "0ba54556-9d2e-4916-894a-a7a6d88a98f8",
   "metadata": {},
   "outputs": [],
   "source": [
    "nproj = 100\n",
    "n_samp = 2000\n",
    "n_phi = 20\n",
    "alpha = 0.1\n",
    "ncal = nval - ntrain\n",
    "adj_alpha = jnp.ceil((ncal+1)*(1-alpha))/ncal"
   ]
  },
  {
   "cell_type": "code",
   "execution_count": 34,
   "id": "1957ae3d-dbf1-4012-8e0f-ee942ef41948",
   "metadata": {},
   "outputs": [
    {
     "data": {
      "application/vnd.jupyter.widget-view+json": {
       "model_id": "8ae9c8e353c54c6f941b5812b55f3a8b",
       "version_major": 2,
       "version_minor": 0
      },
      "text/plain": [
       "0it [00:00, ?it/s]"
      ]
     },
     "metadata": {},
     "output_type": "display_data"
    },
    {
     "data": {
      "application/vnd.jupyter.widget-view+json": {
       "model_id": "7fe2276794954059ac6574119157d3c2",
       "version_major": 2,
       "version_minor": 0
      },
      "text/plain": [
       "  0%|          | 0/313 [00:00<?, ?it/s]"
      ]
     },
     "metadata": {},
     "output_type": "display_data"
    },
    {
     "data": {
      "application/vnd.jupyter.widget-view+json": {
       "model_id": "8ae742f2e9064102855227dfca1d6d93",
       "version_major": 2,
       "version_minor": 0
      },
      "text/plain": [
       "  0%|          | 0/313 [00:00<?, ?it/s]"
      ]
     },
     "metadata": {},
     "output_type": "display_data"
    },
    {
     "data": {
      "application/vnd.jupyter.widget-view+json": {
       "model_id": "32b2dcee82e74f03a518ccf0df2a99d2",
       "version_major": 2,
       "version_minor": 0
      },
      "text/plain": [
       "  0%|          | 0/313 [00:00<?, ?it/s]"
      ]
     },
     "metadata": {},
     "output_type": "display_data"
    },
    {
     "data": {
      "application/vnd.jupyter.widget-view+json": {
       "model_id": "c6a0a09d9df44bf194e6f76f7a562db4",
       "version_major": 2,
       "version_minor": 0
      },
      "text/plain": [
       "  0%|          | 0/313 [00:00<?, ?it/s]"
      ]
     },
     "metadata": {},
     "output_type": "display_data"
    },
    {
     "data": {
      "application/vnd.jupyter.widget-view+json": {
       "model_id": "679ff12e9a424f718ecfe06614eeb9ae",
       "version_major": 2,
       "version_minor": 0
      },
      "text/plain": [
       "  0%|          | 0/313 [00:00<?, ?it/s]"
      ]
     },
     "metadata": {},
     "output_type": "display_data"
    },
    {
     "data": {
      "application/vnd.jupyter.widget-view+json": {
       "model_id": "443e94eb505542d88e2724d94b4a0dc7",
       "version_major": 2,
       "version_minor": 0
      },
      "text/plain": [
       "  0%|          | 0/313 [00:00<?, ?it/s]"
      ]
     },
     "metadata": {},
     "output_type": "display_data"
    },
    {
     "data": {
      "application/vnd.jupyter.widget-view+json": {
       "model_id": "bd53155b923e4a0baae0d76836b2e1a1",
       "version_major": 2,
       "version_minor": 0
      },
      "text/plain": [
       "  0%|          | 0/313 [00:00<?, ?it/s]"
      ]
     },
     "metadata": {},
     "output_type": "display_data"
    },
    {
     "ename": "ValueError",
     "evalue": "zero-size array to reduction operation min which has no identity",
     "output_type": "error",
     "traceback": [
      "\u001b[0;31m---------------------------------------------------------------------------\u001b[0m",
      "\u001b[0;31mValueError\u001b[0m                                Traceback (most recent call last)",
      "Cell \u001b[0;32mIn[34], line 48\u001b[0m\n\u001b[1;32m     46\u001b[0m lsci_ens \u001b[38;5;241m=\u001b[39m lsci\u001b[38;5;241m.\u001b[39mfpca_sampler(rcal1, weight_k, n_samp, sample_rng)\n\u001b[1;32m     47\u001b[0m lsci_ens \u001b[38;5;241m=\u001b[39m lsci\u001b[38;5;241m.\u001b[39mdepth_reject(rcal1, lsci_ens, weight_k, n_phi, adj_alpha, reject_rng)\n\u001b[0;32m---> 48\u001b[0m lsci_lower \u001b[38;5;241m=\u001b[39m \u001b[43mjnp\u001b[49m\u001b[38;5;241;43m.\u001b[39;49m\u001b[43mmin\u001b[49m\u001b[43m(\u001b[49m\u001b[43mlsci_ens\u001b[49m\u001b[43m,\u001b[49m\u001b[43m \u001b[49m\u001b[43maxis\u001b[49m\u001b[43m \u001b[49m\u001b[38;5;241;43m=\u001b[39;49m\u001b[43m \u001b[49m\u001b[38;5;241;43m0\u001b[39;49m\u001b[43m)\u001b[49m\n\u001b[1;32m     49\u001b[0m lsci_upper \u001b[38;5;241m=\u001b[39m jnp\u001b[38;5;241m.\u001b[39mmax(lsci_ens, axis \u001b[38;5;241m=\u001b[39m \u001b[38;5;241m0\u001b[39m)\n\u001b[1;32m     51\u001b[0m cover[k, i] \u001b[38;5;241m=\u001b[39m risk(lsci_lower, lsci_upper, rcal2[k])\n",
      "File \u001b[0;32m~/climate/lib/python3.12/site-packages/jax/_src/numpy/reductions.py:567\u001b[0m, in \u001b[0;36mmin\u001b[0;34m(a, axis, out, keepdims, initial, where)\u001b[0m\n\u001b[1;32m    497\u001b[0m \u001b[38;5;129m@export\u001b[39m\n\u001b[1;32m    498\u001b[0m \u001b[38;5;28;01mdef\u001b[39;00m\u001b[38;5;250m \u001b[39m\u001b[38;5;21mmin\u001b[39m(a: ArrayLike, axis: Axis \u001b[38;5;241m=\u001b[39m \u001b[38;5;28;01mNone\u001b[39;00m, out: \u001b[38;5;28;01mNone\u001b[39;00m \u001b[38;5;241m=\u001b[39m \u001b[38;5;28;01mNone\u001b[39;00m,\n\u001b[1;32m    499\u001b[0m         keepdims: \u001b[38;5;28mbool\u001b[39m \u001b[38;5;241m=\u001b[39m \u001b[38;5;28;01mFalse\u001b[39;00m, initial: ArrayLike \u001b[38;5;241m|\u001b[39m \u001b[38;5;28;01mNone\u001b[39;00m \u001b[38;5;241m=\u001b[39m \u001b[38;5;28;01mNone\u001b[39;00m,\n\u001b[1;32m    500\u001b[0m         where: ArrayLike \u001b[38;5;241m|\u001b[39m \u001b[38;5;28;01mNone\u001b[39;00m \u001b[38;5;241m=\u001b[39m \u001b[38;5;28;01mNone\u001b[39;00m) \u001b[38;5;241m-\u001b[39m\u001b[38;5;241m>\u001b[39m Array:\n\u001b[1;32m    501\u001b[0m \u001b[38;5;250m  \u001b[39m\u001b[38;5;124mr\u001b[39m\u001b[38;5;124;03m\"\"\"Return the minimum of array elements along a given axis.\u001b[39;00m\n\u001b[1;32m    502\u001b[0m \n\u001b[1;32m    503\u001b[0m \u001b[38;5;124;03m  JAX implementation of :func:`numpy.min`.\u001b[39;00m\n\u001b[0;32m   (...)\u001b[0m\n\u001b[1;32m    565\u001b[0m \u001b[38;5;124;03m    Array([[0, 0, 0, 0]], dtype=int32)\u001b[39;00m\n\u001b[1;32m    566\u001b[0m \u001b[38;5;124;03m  \"\"\"\u001b[39;00m\n\u001b[0;32m--> 567\u001b[0m   \u001b[38;5;28;01mreturn\u001b[39;00m \u001b[43m_reduce_min\u001b[49m\u001b[43m(\u001b[49m\u001b[43ma\u001b[49m\u001b[43m,\u001b[49m\u001b[43m \u001b[49m\u001b[43maxis\u001b[49m\u001b[38;5;241;43m=\u001b[39;49m\u001b[43m_ensure_optional_axes\u001b[49m\u001b[43m(\u001b[49m\u001b[43maxis\u001b[49m\u001b[43m)\u001b[49m\u001b[43m,\u001b[49m\u001b[43m \u001b[49m\u001b[43mout\u001b[49m\u001b[38;5;241;43m=\u001b[39;49m\u001b[43mout\u001b[49m\u001b[43m,\u001b[49m\n\u001b[1;32m    568\u001b[0m \u001b[43m                     \u001b[49m\u001b[43mkeepdims\u001b[49m\u001b[38;5;241;43m=\u001b[39;49m\u001b[43mkeepdims\u001b[49m\u001b[43m,\u001b[49m\u001b[43m \u001b[49m\u001b[43minitial\u001b[49m\u001b[38;5;241;43m=\u001b[39;49m\u001b[43minitial\u001b[49m\u001b[43m,\u001b[49m\u001b[43m \u001b[49m\u001b[43mwhere\u001b[49m\u001b[38;5;241;43m=\u001b[39;49m\u001b[43mwhere\u001b[49m\u001b[43m)\u001b[49m\n",
      "    \u001b[0;31m[... skipping hidden 15 frame]\u001b[0m\n",
      "File \u001b[0;32m~/climate/lib/python3.12/site-packages/jax/_src/numpy/reductions.py:492\u001b[0m, in \u001b[0;36m_reduce_min\u001b[0;34m(a, axis, out, keepdims, initial, where)\u001b[0m\n\u001b[1;32m    488\u001b[0m \u001b[38;5;129m@partial\u001b[39m(api\u001b[38;5;241m.\u001b[39mjit, static_argnames\u001b[38;5;241m=\u001b[39m(\u001b[38;5;124m'\u001b[39m\u001b[38;5;124maxis\u001b[39m\u001b[38;5;124m'\u001b[39m, \u001b[38;5;124m'\u001b[39m\u001b[38;5;124mkeepdims\u001b[39m\u001b[38;5;124m'\u001b[39m), inline\u001b[38;5;241m=\u001b[39m\u001b[38;5;28;01mTrue\u001b[39;00m)\n\u001b[1;32m    489\u001b[0m \u001b[38;5;28;01mdef\u001b[39;00m\u001b[38;5;250m \u001b[39m\u001b[38;5;21m_reduce_min\u001b[39m(a: ArrayLike, axis: Axis \u001b[38;5;241m=\u001b[39m \u001b[38;5;28;01mNone\u001b[39;00m, out: \u001b[38;5;28;01mNone\u001b[39;00m \u001b[38;5;241m=\u001b[39m \u001b[38;5;28;01mNone\u001b[39;00m,\n\u001b[1;32m    490\u001b[0m                 keepdims: \u001b[38;5;28mbool\u001b[39m \u001b[38;5;241m=\u001b[39m \u001b[38;5;28;01mFalse\u001b[39;00m, initial: ArrayLike \u001b[38;5;241m|\u001b[39m \u001b[38;5;28;01mNone\u001b[39;00m \u001b[38;5;241m=\u001b[39m \u001b[38;5;28;01mNone\u001b[39;00m,\n\u001b[1;32m    491\u001b[0m                 where: ArrayLike \u001b[38;5;241m|\u001b[39m \u001b[38;5;28;01mNone\u001b[39;00m \u001b[38;5;241m=\u001b[39m \u001b[38;5;28;01mNone\u001b[39;00m) \u001b[38;5;241m-\u001b[39m\u001b[38;5;241m>\u001b[39m Array:\n\u001b[0;32m--> 492\u001b[0m   \u001b[38;5;28;01mreturn\u001b[39;00m \u001b[43m_reduction\u001b[49m\u001b[43m(\u001b[49m\u001b[43ma\u001b[49m\u001b[43m,\u001b[49m\u001b[43m \u001b[49m\u001b[38;5;124;43m\"\u001b[39;49m\u001b[38;5;124;43mmin\u001b[39;49m\u001b[38;5;124;43m\"\u001b[39;49m\u001b[43m,\u001b[49m\u001b[43m \u001b[49m\u001b[43mlax\u001b[49m\u001b[38;5;241;43m.\u001b[39;49m\u001b[43mmin\u001b[49m\u001b[43m,\u001b[49m\u001b[43m \u001b[49m\u001b[43mnp\u001b[49m\u001b[38;5;241;43m.\u001b[39;49m\u001b[43minf\u001b[49m\u001b[43m,\u001b[49m\u001b[43m \u001b[49m\u001b[43mhas_identity\u001b[49m\u001b[38;5;241;43m=\u001b[39;49m\u001b[38;5;28;43;01mFalse\u001b[39;49;00m\u001b[43m,\u001b[49m\n\u001b[1;32m    493\u001b[0m \u001b[43m                    \u001b[49m\u001b[43maxis\u001b[49m\u001b[38;5;241;43m=\u001b[39;49m\u001b[43maxis\u001b[49m\u001b[43m,\u001b[49m\u001b[43m \u001b[49m\u001b[43mout\u001b[49m\u001b[38;5;241;43m=\u001b[39;49m\u001b[43mout\u001b[49m\u001b[43m,\u001b[49m\u001b[43m \u001b[49m\u001b[43mkeepdims\u001b[49m\u001b[38;5;241;43m=\u001b[39;49m\u001b[43mkeepdims\u001b[49m\u001b[43m,\u001b[49m\n\u001b[1;32m    494\u001b[0m \u001b[43m                    \u001b[49m\u001b[43minitial\u001b[49m\u001b[38;5;241;43m=\u001b[39;49m\u001b[43minitial\u001b[49m\u001b[43m,\u001b[49m\u001b[43m \u001b[49m\u001b[43mwhere_\u001b[49m\u001b[38;5;241;43m=\u001b[39;49m\u001b[43mwhere\u001b[49m\u001b[43m,\u001b[49m\u001b[43m \u001b[49m\u001b[43mparallel_reduce\u001b[49m\u001b[38;5;241;43m=\u001b[39;49m\u001b[43mlax\u001b[49m\u001b[38;5;241;43m.\u001b[39;49m\u001b[43mpmin\u001b[49m\u001b[43m)\u001b[49m\n",
      "File \u001b[0;32m~/climate/lib/python3.12/site-packages/jax/_src/numpy/reductions.py:133\u001b[0m, in \u001b[0;36m_reduction\u001b[0;34m(a, name, op, init_val, has_identity, preproc, bool_op, upcast_f16_for_computation, axis, dtype, out, keepdims, initial, where_, parallel_reduce, promote_integers)\u001b[0m\n\u001b[1;32m    131\u001b[0m   shape \u001b[38;5;241m=\u001b[39m np\u001b[38;5;241m.\u001b[39mshape(a)\n\u001b[1;32m    132\u001b[0m   \u001b[38;5;28;01mif\u001b[39;00m \u001b[38;5;129;01mnot\u001b[39;00m _all(shape[d] \u001b[38;5;241m>\u001b[39m\u001b[38;5;241m=\u001b[39m \u001b[38;5;241m1\u001b[39m \u001b[38;5;28;01mfor\u001b[39;00m d \u001b[38;5;129;01min\u001b[39;00m pos_dims):\n\u001b[0;32m--> 133\u001b[0m     \u001b[38;5;28;01mraise\u001b[39;00m \u001b[38;5;167;01mValueError\u001b[39;00m(\u001b[38;5;124mf\u001b[39m\u001b[38;5;124m\"\u001b[39m\u001b[38;5;124mzero-size array to reduction operation \u001b[39m\u001b[38;5;132;01m{\u001b[39;00mname\u001b[38;5;132;01m}\u001b[39;00m\u001b[38;5;124m which has no identity\u001b[39m\u001b[38;5;124m\"\u001b[39m)\n\u001b[1;32m    135\u001b[0m result_dtype \u001b[38;5;241m=\u001b[39m dtype \u001b[38;5;129;01mor\u001b[39;00m dtypes\u001b[38;5;241m.\u001b[39mdtype(a)\n\u001b[1;32m    137\u001b[0m \u001b[38;5;28;01mif\u001b[39;00m dtype \u001b[38;5;129;01mis\u001b[39;00m \u001b[38;5;28;01mNone\u001b[39;00m \u001b[38;5;129;01mand\u001b[39;00m promote_integers:\n",
      "\u001b[0;31mValueError\u001b[0m: zero-size array to reduction operation min which has no identity"
     ]
    }
   ],
   "source": [
    "#### cross validation lambda selection\n",
    "n_samp = 2000\n",
    "n_phi = 20\n",
    "alpha = 0.1\n",
    "\n",
    "rng = random.key(0)\n",
    "idx = random.bernoulli(rng, 0.5, ncal)\n",
    "\n",
    "xcal1 = xval[idx]\n",
    "xcal2 = xval[~idx]\n",
    "\n",
    "ycal1 = yval[idx]\n",
    "ycal2 = yval[~idx]\n",
    "\n",
    "rcal1 = rval_fno[idx]\n",
    "rcal2 = rval_fno[~idx]\n",
    "\n",
    "ncal1 = xcal1.shape[0]\n",
    "ncal2 = xcal2.shape[0]\n",
    "adj_alpha = jnp.ceil((ncal1+1)*(1-alpha))/ncal1\n",
    "\n",
    "xstate = lsci.weighted_fpca(xcal1.reshape(ncal1, -1), \n",
    "                            jnp.ones(ncal1)/ncal1)\n",
    "\n",
    "xstate[-1] = xstate[-1][:,0:25]\n",
    "xcal1_fpc = lsci.transform_fpca(xcal1.reshape(ncal1, -1),  \n",
    "                               xstate)\n",
    "xcal2_fpc = lsci.transform_fpca(xcal2.reshape(ncal2, -1), \n",
    "                                xstate)\n",
    "\n",
    "lam_search = [1, 2, 3, 4, 5, 7, 9, 11]\n",
    "n_lam = len(lam_search)\n",
    "cover = np.zeros((ncal2, n_lam))\n",
    "width = np.zeros((ncal2, n_lam))\n",
    "\n",
    "for i, lam in tqdm(enumerate(lam_search)):\n",
    "    l2_weights = lsci.linf_localizer(xcal1_fpc.squeeze(), \n",
    "                                   xcal2_fpc.squeeze() + 0.1*random.normal(rng, xcal2_fpc.squeeze().shape), \n",
    "                                   lam)\n",
    "    for k in trange(ncal2):\n",
    "    \n",
    "        rng, key1, key2, key3 = random.split(rng, 4)\n",
    "        ## LSCI \n",
    "        weight_k = l2_weights[k:(k+1)]\n",
    "        rng, sample_rng, reject_rng = random.split(rng, 3)\n",
    "        lsci_ens = lsci.fpca_sampler(rcal1, weight_k, n_samp, sample_rng)\n",
    "        lsci_ens = lsci.depth_reject(rcal1, lsci_ens, weight_k, n_phi, adj_alpha, reject_rng)\n",
    "        lsci_lower = jnp.min(lsci_ens, axis = 0)\n",
    "        lsci_upper = jnp.max(lsci_ens, axis = 0)\n",
    "        \n",
    "        cover[k, i] = risk(lsci_lower, lsci_upper, rcal2[k])\n",
    "        width[k, i] =  jnp.median(lsci_upper - lsci_lower)"
   ]
  },
  {
   "cell_type": "code",
   "execution_count": 35,
   "id": "34c9878c-5257-4dc1-a8c9-23070d3c088a",
   "metadata": {},
   "outputs": [
    {
     "data": {
      "text/plain": [
       "([1, 2, 3, 4, 5, 7, 9, 11],\n",
       " array([0.91373802, 0.88178914, 0.84345048, 0.79872204, 0.71565495,\n",
       "        0.58146965, 0.14696486, 0.        ]),\n",
       " array([0.46394878, 0.41978198, 0.3788242 , 0.34106193, 0.31077452,\n",
       "        0.26601102, 0.08874787, 0.        ]))"
      ]
     },
     "execution_count": 35,
     "metadata": {},
     "output_type": "execute_result"
    }
   ],
   "source": [
    "lam_search, np.mean(cover > 0.99, axis = 0), np.mean(width, axis = 0)"
   ]
  },
  {
   "cell_type": "code",
   "execution_count": null,
   "id": "b433e883-7d67-4bef-a241-455f68b533d8",
   "metadata": {},
   "outputs": [],
   "source": [
    "ntest = ytest.shape[0]\n",
    "nmod = 4 + 6\n",
    "cover = np.zeros((ntest, nmod))\n",
    "width = np.zeros((ntest, nmod))\n",
    "\n",
    "rng = random.key(1)\n",
    "xstate = lsci.weighted_fpca(xval.reshape(ncal, -1), \n",
    "                            jnp.ones(xval.shape[0])/xval.shape[0])\n",
    "\n",
    "xstate[-1] = xstate[-1][:,0:25]\n",
    "xval_fpc = lsci.transform_fpca(xval.reshape(ncal, -1),  \n",
    "                               xstate)\n",
    "xtest_fpc = lsci.transform_fpca(xtest.reshape(ntest, -1), \n",
    "                                xstate)\n",
    "\n",
    "l2_weights = lsci.l2_localizer(xval_fpc.squeeze(), \n",
    "                               xtest_fpc.squeeze() + 0.1*random.normal(rng, xtest_fpc.squeeze().shape), \n",
    "                               10)\n",
    "\n",
    "for k in trange(0, ntest):\n",
    "    \n",
    "    rng, key1, key2, key3 = random.split(rng, 4)\n",
    "\n",
    "    ## LSCI \n",
    "    weight_k = l2_weights[k:(k+1)]\n",
    "    rng, sample_rng, reject_rng = random.split(rng, 3)\n",
    "    lsci_ens = lsci.fpca_sampler(rval_fno, weight_k, n_samp, sample_rng)\n",
    "    lsci_ens = lsci.depth_reject(rval_fno, lsci_ens, weight_k, n_phi, adj_alpha, reject_rng)\n",
    "    lsci_lower = jnp.min(lsci_ens, axis = 0)\n",
    "    lsci_upper = jnp.max(lsci_ens, axis = 0)\n",
    "    \n",
    "    cover[k, 0] = risk(lsci_lower, lsci_upper, rtest_fno[k])\n",
    "    width[k, 0] =  jnp.median(lsci_upper - lsci_lower)"
   ]
  },
  {
   "cell_type": "code",
   "execution_count": 31,
   "id": "1eb9f0e2-bfd8-40cb-b9a2-95ebf868c80c",
   "metadata": {},
   "outputs": [],
   "source": [
    "sigma = jnp.sqrt(jnp.mean(rtest_fno**2, axis = 1))"
   ]
  },
  {
   "cell_type": "code",
   "execution_count": 32,
   "id": "6a916b8c-33fb-4799-8153-151c054f963e",
   "metadata": {},
   "outputs": [
    {
     "data": {
      "text/plain": [
       "(Array(0.21216854, dtype=float32), Array(0.24166895, dtype=float32))"
      ]
     },
     "execution_count": 32,
     "metadata": {},
     "output_type": "execute_result"
    }
   ],
   "source": [
    "dcorr(width[:ntest,0], sigma[:ntest]), dcorr(cover[:ntest,0], sigma[:ntest])"
   ]
  },
  {
   "cell_type": "code",
   "execution_count": 33,
   "id": "85194f8d-f640-4705-8dff-295bc23da110",
   "metadata": {},
   "outputs": [
    {
     "data": {
      "text/plain": [
       "(np.float64(0.9386973180076629), np.float64(0.39800859633761804))"
      ]
     },
     "execution_count": 33,
     "metadata": {},
     "output_type": "execute_result"
    },
    {
     "data": {
      "image/png": "[encoded data removed]",
      "text/plain": [
       "<Figure size 640x480 with 1 Axes>"
      ]
     },
     "metadata": {},
     "output_type": "display_data"
    }
   ],
   "source": [
    "plt.plot(width[:,0])\n",
    "plt.plot(sigma)\n",
    "\n",
    "np.mean(cover[:ntest,0] > 0.99), np.mean(width[:ntest,0])"
   ]
  },
  {
   "cell_type": "code",
   "execution_count": null,
   "id": "cc93b34f-71cd-41a3-9809-9b1d00f16941",
   "metadata": {},
   "outputs": [],
   "source": []
  },
  {
   "cell_type": "code",
   "execution_count": 56,
   "id": "1f49ce93-f93b-4394-8dd3-c3b79dc059e9",
   "metadata": {},
   "outputs": [],
   "source": [
    "# metrics\n",
    "sigma = jnp.sqrt(jnp.mean(rtest_fno**2, axis =1))\n",
    "# sigma = sd[1:,0]\n",
    "\n",
    "cover_mean = np.round(np.mean(cover >= 0.99, axis = 0), 3)\n",
    "width_mean = np.round(np.mean(width, axis = 0), 3)\n",
    "\n",
    "## correlations\n",
    "cover_dcor = np.zeros(nmod)\n",
    "width_dcor = np.zeros(nmod)\n",
    "for i in range(nmod):\n",
    "    cover_dcor[i] = dcorr(cover[:,i], sigma)\n",
    "    width_dcor[i] = dcorr(width[:,i], sigma)\n",
    "\n",
    "metrics_mean = np.vstack([\n",
    "    cover_mean,\n",
    "    cover_dcor,\n",
    "    width_mean,\n",
    "    width_dcor\n",
    "]).T"
   ]
  },
  {
   "cell_type": "code",
   "execution_count": 57,
   "id": "1be01e08-c9f4-475c-9fff-4997c4baaefd",
   "metadata": {},
   "outputs": [
    {
     "name": "stdout",
     "output_type": "stream",
     "text": [
      "[[0.973 0.337 0.553 0.   ]\n",
      " [0.969 0.336 0.571 0.   ]\n",
      " [0.95  0.407 0.699 0.   ]\n",
      " [0.985 0.254 0.66  0.079]\n",
      " [0.621 0.329 0.226 0.261]\n",
      " [0.943 0.271 0.463 0.076]]\n"
     ]
    }
   ],
   "source": [
    "np.set_printoptions(suppress=True)\n",
    "print(np.round(np.nan_to_num(metrics_mean[4:], 0), 3))"
   ]
  },
  {
   "cell_type": "code",
   "execution_count": 58,
   "id": "d9c6550a-b303-4f53-b2b8-52b9e504b23d",
   "metadata": {},
   "outputs": [
    {
     "name": "stdout",
     "output_type": "stream",
     "text": [
      "[[0.958 0.237 0.445 0.209]\n",
      " [0.92  0.211 0.387 0.212]\n",
      " [0.954 0.271 0.444 0.215]\n",
      " [0.897 0.294 0.385 0.201]]\n"
     ]
    }
   ],
   "source": [
    "print(np.round(np.nan_to_num(metrics_mean[0:4], 0), 3))"
   ]
  },
  {
   "cell_type": "code",
   "execution_count": null,
   "id": "164d191a-e7db-468c-9e46-1e4cff8b14f3",
   "metadata": {},
   "outputs": [],
   "source": []
  },
  {
   "cell_type": "code",
   "execution_count": null,
   "id": "8a4b61f8-ca10-44d2-adcb-9a1edd64b31c",
   "metadata": {},
   "outputs": [],
   "source": []
  },
  {
   "cell_type": "code",
   "execution_count": 119,
   "id": "34d65b43-3bb6-439b-b3c9-e6e6a3c92e4f",
   "metadata": {},
   "outputs": [
    {
     "data": {
      "application/vnd.jupyter.widget-view+json": {
       "model_id": "3bce10a8d43a4d3895280140f0084738",
       "version_major": 2,
       "version_minor": 0
      },
      "text/plain": [
       "  0%|          | 0/50 [00:00<?, ?it/s]"
      ]
     },
     "metadata": {},
     "output_type": "display_data"
    }
   ],
   "source": [
    "epochs = 50\n",
    "lag, lead = len(variables), 1\n",
    "\n",
    "width = 50\n",
    "drop_prob = 0.1\n",
    "\n",
    "rng = random.PRNGKey(0)\n",
    "model_rng = nnx.Rngs(1)\n",
    "base_model = DeepANO(lag, width, lead, rngs=model_rng)\n",
    "prob_model = ProbANO(lag, width, lead, rngs=model_rng)\n",
    "quant_model = DeepANO(lag, width, lead, rngs=model_rng)\n",
    "\n",
    "base_optim = nnx.Optimizer(base_model, optax.adam(1e-3))\n",
    "prob_optim = nnx.Optimizer(prob_model, optax.adam(1e-3))\n",
    "quant_optim = nnx.Optimizer(quant_model, optax.adam(1e-3))\n",
    "\n",
    "for _ in trange(epochs):\n",
    "    for xt, yt in train_loader:\n",
    "        xt = torch2jax(xt)\n",
    "        yt = torch2jax(yt)\n",
    "        \n",
    "        base_loss = train_step(base_model, base_optim, xt, yt)\n",
    "        prob_loss = prob_step(prob_model, prob_optim, xt, yt)\n",
    "        quant_loss = quant_step(quant_model, quant_optim, xt, yt)"
   ]
  },
  {
   "cell_type": "code",
   "execution_count": 120,
   "id": "d8d07770-0f4e-42ee-9623-81d6859b0c09",
   "metadata": {},
   "outputs": [],
   "source": [
    "yval_hat = base_model(xval)\n",
    "ytest_hat = base_model(xtest)\n",
    "\n",
    "yval_quant = quant_model(xval)\n",
    "ytest_quant = quant_model(xtest)\n",
    "\n",
    "yval_mu, yval_sd = prob_model(xval)\n",
    "ytest_mu, ytest_sd = prob_model(xtest)"
   ]
  },
  {
   "cell_type": "code",
   "execution_count": 121,
   "id": "6340ea6c-1677-493a-8e5f-944fcdf9c9ab",
   "metadata": {},
   "outputs": [],
   "source": [
    "yval = yval.squeeze()\n",
    "ytest = ytest.squeeze()\n",
    "\n",
    "yval_hat = yval_hat.squeeze()\n",
    "ytest_hat = ytest_hat.squeeze()\n",
    "yval_quant = yval_quant.squeeze()\n",
    "ytest_quant = ytest_quant.squeeze()\n",
    "yval_mu = yval_mu.squeeze()\n",
    "yval_sd = yval_sd.squeeze()\n",
    "ytest_mu = ytest_mu.squeeze()\n",
    "ytest_sd = ytest_sd.squeeze()"
   ]
  },
  {
   "cell_type": "code",
   "execution_count": 122,
   "id": "5ad8c16d-f768-4a45-9889-4d09397eae3f",
   "metadata": {},
   "outputs": [
    {
     "data": {
      "application/vnd.jupyter.widget-view+json": {
       "model_id": "c5662727eb8246c28656d6612389a2f4",
       "version_major": 2,
       "version_minor": 0
      },
      "text/plain": [
       "  0%|          | 0/261 [00:00<?, ?it/s]"
      ]
     },
     "metadata": {},
     "output_type": "display_data"
    }
   ],
   "source": [
    "nproj = npc = 24\n",
    "gamma1 = 0.1\n",
    "gamma2 = 0.05\n",
    "alpha = 0.1\n",
    "nval = xval.shape[0]\n",
    "\n",
    "drop_risk, drop_width = [], []\n",
    "orcl_risk, orcl_width = [], []\n",
    "conf_risk, conf_width = [], []\n",
    "gaus_risk, gaus_width = [], []\n",
    "supr_risk, supr_width = [], []\n",
    "uqn1_risk, uqn1_width = [], []\n",
    "pdon_risk, pdon_width = [], []\n",
    "qdon_risk, qdon_width = [], []\n",
    "lsc1_risk, lsc1_width = [], []\n",
    "lsc2_risk, lsc2_width = [], []\n",
    "\n",
    "rval = (yval - yval_hat).squeeze()\n",
    "rtest = (ytest - ytest_hat).squeeze()\n",
    "rtest2 = (ytest - ytest_mu).squeeze()\n",
    "\n",
    "state = lsci.lsci_state(xval, rval, npc, localization='l2')\n",
    "pca_state = state[-1]\n",
    "\n",
    "quant_scores = jnp.abs(yval - yval_hat) / yval_quant\n",
    "lam_uqno = uqno.estimate_lambda(quant_scores, 0.1, 0.01, 1.1)\n",
    "\n",
    "conf_lower, conf_upper = conf.conf_band(rval, pca_state, alpha)\n",
    "gaus_lower, gaus_upper = gaus.gaus_band(rval, pca_state, alpha)\n",
    "supr_lower, supr_upper = supr.supr_band(rval, alpha)\n",
    "uqn1_lower, uqn1_upper = uqno.uqno_band(ytest_quant, lam_uqno)\n",
    "pdon_lower, pdon_upper = prob_don.prob_don(prob_model, xval, xtest, yval, alpha)\n",
    "qdon_lower, qdon_upper = quant_don.quant_don(quant_model, xval, xtest, yval - yval_hat, alpha)\n",
    "\n",
    "for i in trange(0, ytest.shape[0]):\n",
    "    \n",
    "    # LSCI\n",
    "    lsc1_lower, lsc1_upper = lsci.lsci_band(xtest[i].squeeze(), state, alpha, 2000, gamma1)\n",
    "    lsc1_risk.append(risk(lsc1_lower, lsc1_upper, rtest[i]))\n",
    "    lsc1_width.append(jnp.median(lsc1_upper - lsc1_lower))\n",
    "    \n",
    "    # LSCI\n",
    "    lsc2_lower, lsc2_upper = lsci.lsci_band(xtest[i].squeeze(), state, alpha, 2000, gamma2)\n",
    "    lsc2_risk.append(risk(lsc2_lower, lsc2_upper, rtest[i]))\n",
    "    lsc2_width.append(jnp.median(lsc2_upper - lsc2_lower))\n",
    "\n",
    "    # Oracle\n",
    "    orcl_lower = -(jnp.abs(rtest[i]) + 1e-4)\n",
    "    orcl_upper = jnp.abs(rtest[i]) + 1e-4\n",
    "    orcl_risk.append(risk(orcl_lower, orcl_upper, rtest[i]))\n",
    "    orcl_width.append(jnp.median(orcl_upper - orcl_lower))\n",
    "    \n",
    "    # CONF \n",
    "    conf_risk.append(risk(conf_lower, conf_upper, rtest[i]))\n",
    "    conf_width.append(jnp.median(conf_upper - conf_lower))\n",
    "    \n",
    "    # GAUSS \n",
    "    gaus_risk.append(risk(gaus_lower, gaus_upper, rtest[i]))\n",
    "    gaus_width.append(jnp.median(gaus_upper - gaus_lower))\n",
    "    \n",
    "    # SUPR\n",
    "    supr_risk.append(risk(supr_lower, supr_upper, rtest[i]))\n",
    "    supr_width.append(jnp.median(supr_upper - supr_lower))\n",
    "    \n",
    "    # UQNO\n",
    "    uqn1_risk.append(risk(uqn1_lower[i], uqn1_upper[i], rtest[i]))\n",
    "    uqn1_width.append(jnp.median(uqn1_upper[i] - uqn1_lower[i]))\n",
    "    \n",
    "    # PDON\n",
    "    pdon_risk.append(risk(pdon_lower[i], pdon_upper[i], rtest2[i]))\n",
    "    pdon_width.append(jnp.median(pdon_upper[i] - pdon_lower[i]))\n",
    "    \n",
    "    # PDON\n",
    "    qdon_risk.append(risk(qdon_lower[i], qdon_upper[i], rtest[i]))\n",
    "    qdon_width.append(jnp.median(qdon_upper[i] - qdon_lower[i]))\n",
    "    \n",
    "    # # DROPOUT\n",
    "    # drop_model.train()\n",
    "    # drop_set = jnp.stack([drop_model(xtest[i:(i+1)]).squeeze() for _ in range(500)])\n",
    "    # drop_lower = jnp.quantile(drop_set, alpha/2, axis = 0)\n",
    "    # drop_upper = jnp.quantile(drop_set, 1 - alpha/2, axis = 0)\n",
    "    # drop_model.eval()\n",
    "    \n",
    "    # drop_risk.append(risk(drop_lower, drop_upper, rtest[i]))\n",
    "    # drop_width.append(jnp.median(drop_upper - drop_lower))\n",
    "\n",
    "orcl_risk, orcl_width = np.array(orcl_risk), np.array(orcl_width)\n",
    "drop_risk, drop_width = np.array(drop_risk), np.array(drop_width)\n",
    "conf_risk, conf_width = np.array(conf_risk), np.array(conf_width)\n",
    "gaus_risk, gaus_width = np.array(gaus_risk), np.array(gaus_width)\n",
    "supr_risk, supr_width = np.array(supr_risk), np.array(supr_width)\n",
    "uqn1_risk, uqn1_width = np.array(uqn1_risk), np.array(uqn1_width)\n",
    "lsc1_risk, lsc1_width = np.array(lsc1_risk), np.array(lsc1_width)\n",
    "lsc2_risk, lsc2_width = np.array(lsc2_risk), np.array(lsc2_width)\n",
    "pdon_risk, pdon_width = np.array(pdon_risk), np.array(pdon_width)\n",
    "qdon_risk, qdon_width = np.array(qdon_risk), np.array(qdon_width)"
   ]
  },
  {
   "cell_type": "code",
   "execution_count": 123,
   "id": "77a663da-2b25-436e-b760-b5b626a7640f",
   "metadata": {},
   "outputs": [],
   "source": [
    "drop_risk, drop_width = jnp.zeros(ytest.shape[0]),  jnp.zeros(ytest.shape[0])"
   ]
  },
  {
   "cell_type": "code",
   "execution_count": 124,
   "id": "ccb3a3f5-6527-4fbd-ae51-60932bf5e8b1",
   "metadata": {},
   "outputs": [],
   "source": [
    "noise_sd = jnp.mean(rtest**2, axis = 1)"
   ]
  },
  {
   "cell_type": "code",
   "execution_count": 125,
   "id": "5e7f049e-a648-41d6-b071-9dd679772b9e",
   "metadata": {},
   "outputs": [
    {
     "name": "stderr",
     "output_type": "stream",
     "text": [
      "/home/tharris/climate/lib/python3.12/site-packages/numpy/lib/_function_base_impl.py:3045: RuntimeWarning: invalid value encountered in divide\n",
      "  c /= stddev[:, None]\n",
      "/home/tharris/climate/lib/python3.12/site-packages/numpy/lib/_function_base_impl.py:3046: RuntimeWarning: invalid value encountered in divide\n",
      "  c /= stddev[None, :]\n"
     ]
    }
   ],
   "source": [
    "gamma = 0.99\n",
    "\n",
    "risk_control = np.mean(orcl_risk >= gamma), \\\n",
    "               np.mean(drop_risk >= gamma), \\\n",
    "               np.mean(conf_risk >= gamma), \\\n",
    "               np.mean(gaus_risk >= gamma), \\\n",
    "               np.mean(supr_risk >= gamma), \\\n",
    "               np.mean(uqn1_risk >= gamma), \\\n",
    "               np.mean(pdon_risk >= gamma), \\\n",
    "               np.mean(qdon_risk >= gamma), \\\n",
    "               np.mean(lsc1_risk >= gamma), \\\n",
    "               np.mean(lsc2_risk >= gamma)\n",
    "\n",
    "width = np.mean(orcl_width), \\\n",
    "        np.mean(drop_width), \\\n",
    "        np.mean(conf_width), \\\n",
    "        np.mean(gaus_width), \\\n",
    "        np.mean(supr_width), \\\n",
    "        np.mean(uqn1_width), \\\n",
    "        np.mean(pdon_width), \\\n",
    "        np.mean(qdon_width), \\\n",
    "        np.mean(lsc1_width), \\\n",
    "        np.mean(lsc2_width)\n",
    "\n",
    "risk_cor = -0, \\\n",
    "           np.corrcoef([noise_sd, drop_risk])[0,1], \\\n",
    "           np.corrcoef([noise_sd, conf_risk])[0,1], \\\n",
    "           np.corrcoef([noise_sd, gaus_risk])[0,1], \\\n",
    "           np.corrcoef([noise_sd, supr_risk])[0,1], \\\n",
    "           np.corrcoef([noise_sd, uqn1_risk])[0,1], \\\n",
    "           np.corrcoef([noise_sd, pdon_risk])[0,1], \\\n",
    "           np.corrcoef([noise_sd, qdon_risk])[0,1], \\\n",
    "           np.corrcoef([noise_sd, lsc1_risk])[0,1], \\\n",
    "           np.corrcoef([noise_sd, lsc2_risk])[0,1]\n",
    "\n",
    "width_cor = 1, \\\n",
    "            np.corrcoef([noise_sd, drop_width])[0,1], \\\n",
    "            0, \\\n",
    "            0, \\\n",
    "            0, \\\n",
    "            np.corrcoef([noise_sd, uqn1_width])[0,1], \\\n",
    "            np.corrcoef([noise_sd, pdon_width])[0,1], \\\n",
    "            np.corrcoef([noise_sd, qdon_width])[0,1], \\\n",
    "            np.corrcoef([noise_sd, lsc1_width])[0,1], \\\n",
    "            np.corrcoef([noise_sd, lsc2_width])[0,1]\n",
    "\n",
    "metrics = np.array([risk_control, risk_cor, width, width_cor]).T"
   ]
  },
  {
   "cell_type": "code",
   "execution_count": 126,
   "id": "7d1996e8-4b24-4abc-9a6a-26d785aa7585",
   "metadata": {},
   "outputs": [
    {
     "name": "stdout",
     "output_type": "stream",
     "text": [
      "Oracle & 1.000 & 0.000 & 87.938 & 1.000 \\\\\n",
      "MC-Drop & 0.000 & 0.000 & 0.000 & 0.000 \\\\\n",
      "Conf1 & 0.969 & -0.867 & 453.874 & 0.000 \\\\\n",
      "Conf2 & 0.958 & -0.872 & 448.337 & 0.000 \\\\\n",
      "Supr & 0.946 & -0.805 & 449.777 & 0.000 \\\\\n",
      "CQR-NO & 0.985 & -0.114 & 1309.577 & 0.459 \\\\\n",
      "Prob-NO & 0.874 & -0.672 & 313.344 & -0.032 \\\\\n",
      "Quant-NO & 0.678 & -0.061 & 222.917 & 0.460 \\\\\n",
      "LSCI1 & 0.981 & -0.667 & 365.285 & 0.390 \\\\\n",
      "LSCI2 & 0.946 & -0.523 & 330.759 & 0.439 \\\\\n"
     ]
    }
   ],
   "source": [
    "methods = ['Oracle', 'MC-Drop', 'Conf1', 'Conf2', \n",
    "           'Supr', 'CQR-NO', 'Prob-NO', 'Quant-NO', \n",
    "           'LSCI1', 'LSCI2']\n",
    "\n",
    "for i in range(metrics.shape[0]):\n",
    "    print(f'{methods[i]} & ', end = '')\n",
    "    for j in range(metrics.shape[1]):\n",
    "        val = f'{np.round(np.nan_to_num(metrics[i,j]), 3):.3f}'\n",
    "        if j < 3:\n",
    "            val += ' & '\n",
    "            print(val, end = '')\n",
    "        else:\n",
    "            val += ' \\\\\\\\'\n",
    "            print(val)"
   ]
  },
  {
   "cell_type": "code",
   "execution_count": null,
   "id": "542cb57b-797c-4b4e-a230-beda6415dab1",
   "metadata": {},
   "outputs": [],
   "source": []
  },
  {
   "cell_type": "code",
   "execution_count": null,
   "id": "b9db453f-da5e-4ee5-9e36-e382feb1291a",
   "metadata": {},
   "outputs": [],
   "source": []
  },
  {
   "cell_type": "code",
   "execution_count": null,
   "id": "f8ae1d02-5b95-4699-aecd-70b95f878497",
   "metadata": {},
   "outputs": [],
   "source": []
  },
  {
   "cell_type": "code",
   "execution_count": null,
   "id": "3810c697-6fe3-47eb-94fe-668bfbe5d8a9",
   "metadata": {},
   "outputs": [],
   "source": []
  },
  {
   "cell_type": "code",
   "execution_count": null,
   "id": "118129e1-4667-4f21-9af4-d720c62b84e3",
   "metadata": {},
   "outputs": [],
   "source": []
  },
  {
   "cell_type": "code",
   "execution_count": null,
   "id": "f2e738b4-b619-41d5-b568-6cef7bc3fb8b",
   "metadata": {},
   "outputs": [],
   "source": []
  }
 ],
 "metadata": {
  "kernelspec": {
   "display_name": "Python 3 (ipykernel)",
   "language": "python",
   "name": "python3"
  },
  "language_info": {
   "codemirror_mode": {
    "name": "ipython",
    "version": 3
   },
   "file_extension": ".py",
   "mimetype": "text/x-python",
   "name": "python",
   "nbconvert_exporter": "python",
   "pygments_lexer": "ipython3",
   "version": "3.12.3"
  }
 },
 "nbformat": 4,
 "nbformat_minor": 5
}
