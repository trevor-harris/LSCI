{
 "cells": [
  {
   "cell_type": "code",
   "execution_count": 1,
   "id": "503700a5-21ba-4f62-953f-f41e4359f03c",
   "metadata": {},
   "outputs": [],
   "source": [
    "import os\n",
    "import numpy as np\n",
    "\n",
    "import matplotlib\n",
    "import matplotlib.pyplot as plt\n",
    "\n",
    "import jax\n",
    "import jax.numpy as jnp\n",
    "import jax.scipy.stats as stats\n",
    "from jax import jacfwd, jacrev\n",
    "from jax import vmap, grad, jit, random\n",
    "\n",
    "# from lsci.conformal import lsci"
   ]
  },
  {
   "cell_type": "code",
   "execution_count": 2,
   "id": "e3129770-6abd-41bb-9bee-be137abdff8b",
   "metadata": {},
   "outputs": [],
   "source": [
    "os.chdir('../src/lsci/conformal/')\n",
    "import lsci2\n",
    "os.chdir('../../../project_scripts')"
   ]
  },
  {
   "cell_type": "code",
   "execution_count": 19,
   "id": "4c8ef660-68af-41a3-9e81-910619815859",
   "metadata": {},
   "outputs": [],
   "source": [
    "n, p = 2000, 100\n",
    "\n",
    "data_rng = random.key(0)\n",
    "data_keys = random.split(data_rng, 6)\n",
    "\n",
    "xval = random.normal(data_keys[0], (n, p))\n",
    "yval = 1 + random.normal(data_keys[1], (n, p))\n",
    "yval_hat = 1.2 + random.normal(data_keys[2], (n, p))\n",
    "\n",
    "xtest = random.normal(data_keys[3], (n//2, p))\n",
    "ytest = 1 + random.normal(data_keys[4], (n//2, p))\n",
    "ytest_hat = 1.2 + random.normal(data_keys[5], (n//2, p))\n",
    "\n",
    "rval = yval - yval_hat\n",
    "rtest = ytest - ytest_hat"
   ]
  },
  {
   "cell_type": "code",
   "execution_count": 21,
   "id": "085b9545-28ce-489b-9944-076d301b8926",
   "metadata": {},
   "outputs": [
    {
     "data": {
      "text/plain": [
       "Array(0.901, dtype=float32)"
      ]
     },
     "execution_count": 21,
     "metadata": {},
     "output_type": "execute_result"
    }
   ],
   "source": [
    "# pre-compute local weights\n",
    "local_weights = lsci2.localize(xval, xtest, 5)\n",
    "\n",
    "# evaluate phi-depth\n",
    "n_proj = 5\n",
    "depth_val = lsci2.local_phi_depth(rval, rval, local_weights, n_proj)\n",
    "depth_test = lsci2.local_phi_depth(rval, rtest, local_weights, n_proj, reduce = True)\n",
    "\n",
    "# conformal quantiles\n",
    "alpha = 0.1\n",
    "quant_val = lsci2.local_quantile(depth_val, alpha)\n",
    "\n",
    "# check coverage\n",
    "jnp.mean(depth_test > quant_val) # 0.901"
   ]
  },
  {
   "cell_type": "code",
   "execution_count": 22,
   "id": "f7e42b14-373f-4f50-8596-573c2df38df7",
   "metadata": {},
   "outputs": [
    {
     "data": {
      "text/plain": [
       "(5000, 100)"
      ]
     },
     "execution_count": 22,
     "metadata": {},
     "output_type": "execute_result"
    }
   ],
   "source": [
    "# sample ensemble at test point X_i\n",
    "i = 10\n",
    "n_samp = 5000\n",
    "ens = lsci2.local_sampler(rval, local_weights[i], alpha, n_samp, n_proj)\n",
    "ens.shape"
   ]
  },
  {
   "cell_type": "code",
   "execution_count": null,
   "id": "d1e5ff4c-7cbe-483e-ab36-8b8176bd740a",
   "metadata": {},
   "outputs": [],
   "source": []
  },
  {
   "cell_type": "code",
   "execution_count": 4,
   "id": "5f4d7e92-b8a1-4677-9f21-a6c7098ce962",
   "metadata": {},
   "outputs": [
    {
     "data": {
      "text/plain": [
       "Array(0.90500003, dtype=float32)"
      ]
     },
     "execution_count": 4,
     "metadata": {},
     "output_type": "execute_result"
    }
   ],
   "source": [
    "# localizers\n",
    "method_rng = random.key(1)\n",
    "method_keys = random.split(method_rng, 3)\n",
    "n_proj = 20\n",
    "\n",
    "local_weights = lsci2.localize(xval, xtest, 5)\n",
    "\n",
    "# phi projectors\n",
    "depth_val = lsci2.local_phi_depth(rval, rval, local_weights, n_proj, rng = method_keys[1], proj_fn = 'rand', depth_fn = 'tukey')\n",
    "depth_test = lsci2.local_phi_depth(rval, rtest, local_weights, n_proj, reduce = True, rng = method_keys[1], proj_fn = 'rand', depth_fn = 'tukey')\n",
    "\n",
    "# conformal cutoffs\n",
    "alpha = 0.1\n",
    "quant_val = lsci2.local_quantile(depth_val, alpha)\n",
    "jnp.mean(depth_test > quant_val) # 0.905"
   ]
  },
  {
   "cell_type": "code",
   "execution_count": 5,
   "id": "7614c3e4-6d48-4671-9842-f02b741c5a7d",
   "metadata": {},
   "outputs": [
    {
     "data": {
      "text/plain": [
       "(5000, 25)"
      ]
     },
     "execution_count": 5,
     "metadata": {},
     "output_type": "execute_result"
    }
   ],
   "source": [
    "# ensemble samplers\n",
    "n_samp = 5000\n",
    "ens = lsci2.local_sampler(rval, local_weights[0], alpha, n_samp, n_proj)\n",
    "ens.shape"
   ]
  },
  {
   "cell_type": "code",
   "execution_count": null,
   "id": "f733f851-2f65-4007-b190-b4ef35ddaf36",
   "metadata": {},
   "outputs": [],
   "source": [
    "# localizers\n",
    "\n",
    "## three localizers + a wrapper function localize()\n",
    "\n",
    "# phi projectors\n",
    "\n",
    "## five projectors + a wrapper function project()\n",
    "\n",
    "# depth functions\n",
    "\n",
    "## three depth functions + a wrapper function depth()\n",
    "\n",
    "# ensemble samplers\n",
    "\n",
    "## one sampler function sample()\n",
    "\n",
    "# depth filters\n",
    "\n",
    "## one filtering function filter()"
   ]
  },
  {
   "cell_type": "code",
   "execution_count": null,
   "id": "ebe01655-c895-4fdf-bf2e-4892818ec0cb",
   "metadata": {},
   "outputs": [],
   "source": []
  },
  {
   "cell_type": "code",
   "execution_count": null,
   "id": "45aaabf5-39f0-4e5d-a67a-088f6640cf46",
   "metadata": {},
   "outputs": [],
   "source": []
  },
  {
   "cell_type": "code",
   "execution_count": null,
   "id": "b0f88676-1dee-416f-89c8-be7a56f154a7",
   "metadata": {},
   "outputs": [],
   "source": []
  },
  {
   "cell_type": "code",
   "execution_count": null,
   "id": "ee8685a8-196e-4cac-9d09-64f31499d5ca",
   "metadata": {},
   "outputs": [],
   "source": []
  }
 ],
 "metadata": {
  "kernelspec": {
   "display_name": "Python 3 (ipykernel)",
   "language": "python",
   "name": "python3"
  },
  "language_info": {
   "codemirror_mode": {
    "name": "ipython",
    "version": 3
   },
   "file_extension": ".py",
   "mimetype": "text/x-python",
   "name": "python",
   "nbconvert_exporter": "python",
   "pygments_lexer": "ipython3",
   "version": "3.12.3"
  }
 },
 "nbformat": 4,
 "nbformat_minor": 5
}
