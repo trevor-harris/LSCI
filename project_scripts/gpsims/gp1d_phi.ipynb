{
 "cells": [
  {
   "cell_type": "code",
   "execution_count": 1,
   "id": "0b7ab1aa",
   "metadata": {},
   "outputs": [],
   "source": [
    "import math\n",
    "import numpy as np\n",
    "import matplotlib\n",
    "import matplotlib.pyplot as plt\n",
    "\n",
    "import jax\n",
    "import jax.numpy as jnp\n",
    "import jax.scipy.stats as stats\n",
    "from jax import jacfwd, jacrev\n",
    "from jax import vmap, grad, jit, random\n",
    "from jax.tree_util import tree_map, tree_flatten, tree_unflatten, tree_leaves\n",
    "\n",
    "from flax import nnx\n",
    "import optax\n",
    "import pcax\n",
    "\n",
    "from tqdm.notebook import tqdm\n",
    "from tqdm.notebook import trange\n",
    "\n",
    "import torch\n",
    "import torch.nn as nn\n",
    "from torch.utils.data import DataLoader, TensorDataset\n",
    "\n",
    "import os\n",
    "os.chdir('../methods')\n",
    "import lsci, supr, conf, uqno, prob_don, quant_don, gaus\n",
    "os.chdir('../gpsims')\n",
    "\n",
    "os.chdir('../models_and_metrics')\n",
    "from models import *\n",
    "from metrics import * \n",
    "from utility import *\n",
    "os.chdir('../gpsims')\n",
    "\n",
    "\n",
    "import neuralop as op\n",
    "from neuralop.models import FNO, LocalFNO, UNO, TFNO\n",
    "import jaxwt as jwt\n",
    "import pcax\n",
    "from jax.scipy.stats import norm, laplace"
   ]
  },
  {
   "cell_type": "code",
   "execution_count": 2,
   "id": "22548591",
   "metadata": {},
   "outputs": [],
   "source": [
    "def fourier_sample(rng, n, p, n_freq = 20):\n",
    "    x = jnp.linspace(0, 1, p)\n",
    "    f = 0\n",
    "    for i in range(n_freq):\n",
    "        rng, key1, key2 = random.split(rng, 3)\n",
    "        \n",
    "        an = 1/(n_freq+1) * random.normal(key1, (n, 1))\n",
    "        bn = 1/(n_freq+1) * random.normal(key2, (n, 1))\n",
    "\n",
    "        f += an * jnp.cos(2*math.pi * i * x)[None,]\n",
    "        f += bn * jnp.sin(2*math.pi * i * x)[None,]\n",
    "\n",
    "    f += random.normal(rng, (n, 1))\n",
    "    return f"
   ]
  },
  {
   "cell_type": "code",
   "execution_count": 43,
   "id": "17666be5",
   "metadata": {},
   "outputs": [],
   "source": [
    "n, p = 300, 1000\n",
    "beta = random.normal(random.PRNGKey(0), (3,))\n",
    "bias = 1\n",
    "n_freq = 20\n",
    "\n",
    "## train\n",
    "rng = random.PRNGKey(0)\n",
    "key1, key2 = random.split(rng)\n",
    "\n",
    "xtrain = fourier_sample(key1, n, p, n_freq)\n",
    "sigma = jnp.mean((xtrain)**2, axis = 1)[:,None]\n",
    "epsilon = sigma * fourier_sample(key2, n, p, n_freq)\n",
    "ytrain = bias + conv(xtrain, beta) + epsilon\n",
    "\n",
    "xtrain = xtrain[:,None]\n",
    "ytrain = ytrain[:,None]\n",
    "\n",
    "## val\n",
    "rng = random.PRNGKey(1)\n",
    "key1, key2 = random.split(rng)\n",
    "\n",
    "xval = fourier_sample(key1, n, p, n_freq)\n",
    "sigma = jnp.mean((xval)**2, axis = 1)[:,None]\n",
    "epsilon = sigma * fourier_sample(key2, n, p, n_freq)\n",
    "yval = bias + conv(xval, beta) + epsilon\n",
    "\n",
    "xval = xval[:,None]\n",
    "yval = yval[:,None]"
   ]
  },
  {
   "cell_type": "code",
   "execution_count": 44,
   "id": "2dc6bfef",
   "metadata": {},
   "outputs": [],
   "source": [
    "train_data = TensorDataset(jax2torch(xtrain), jax2torch(ytrain))\n",
    "train_loader = DataLoader(train_data, batch_size = 30, shuffle = True)"
   ]
  },
  {
   "cell_type": "code",
   "execution_count": 45,
   "id": "9be6203e",
   "metadata": {},
   "outputs": [
    {
     "data": {
      "application/vnd.jupyter.widget-view+json": {
       "model_id": "011f50dab01a4ee3ab3fa3c7490840f9",
       "version_major": 2,
       "version_minor": 0
      },
      "text/plain": [
       "  0%|          | 0/20 [00:00<?, ?it/s]"
      ]
     },
     "metadata": {},
     "output_type": "display_data"
    },
    {
     "data": {
      "application/vnd.jupyter.widget-view+json": {
       "model_id": "",
       "version_major": 2,
       "version_minor": 0
      },
      "text/plain": [
       "  0%|          | 0/10 [00:00<?, ?it/s]"
      ]
     },
     "metadata": {},
     "output_type": "display_data"
    },
    {
     "data": {
      "application/vnd.jupyter.widget-view+json": {
       "model_id": "",
       "version_major": 2,
       "version_minor": 0
      },
      "text/plain": [
       "  0%|          | 0/10 [00:00<?, ?it/s]"
      ]
     },
     "metadata": {},
     "output_type": "display_data"
    },
    {
     "data": {
      "application/vnd.jupyter.widget-view+json": {
       "model_id": "",
       "version_major": 2,
       "version_minor": 0
      },
      "text/plain": [
       "  0%|          | 0/10 [00:00<?, ?it/s]"
      ]
     },
     "metadata": {},
     "output_type": "display_data"
    },
    {
     "data": {
      "application/vnd.jupyter.widget-view+json": {
       "model_id": "",
       "version_major": 2,
       "version_minor": 0
      },
      "text/plain": [
       "  0%|          | 0/10 [00:00<?, ?it/s]"
      ]
     },
     "metadata": {},
     "output_type": "display_data"
    },
    {
     "data": {
      "application/vnd.jupyter.widget-view+json": {
       "model_id": "",
       "version_major": 2,
       "version_minor": 0
      },
      "text/plain": [
       "  0%|          | 0/10 [00:00<?, ?it/s]"
      ]
     },
     "metadata": {},
     "output_type": "display_data"
    },
    {
     "data": {
      "application/vnd.jupyter.widget-view+json": {
       "model_id": "",
       "version_major": 2,
       "version_minor": 0
      },
      "text/plain": [
       "  0%|          | 0/10 [00:00<?, ?it/s]"
      ]
     },
     "metadata": {},
     "output_type": "display_data"
    },
    {
     "data": {
      "application/vnd.jupyter.widget-view+json": {
       "model_id": "",
       "version_major": 2,
       "version_minor": 0
      },
      "text/plain": [
       "  0%|          | 0/10 [00:00<?, ?it/s]"
      ]
     },
     "metadata": {},
     "output_type": "display_data"
    },
    {
     "data": {
      "application/vnd.jupyter.widget-view+json": {
       "model_id": "",
       "version_major": 2,
       "version_minor": 0
      },
      "text/plain": [
       "  0%|          | 0/10 [00:00<?, ?it/s]"
      ]
     },
     "metadata": {},
     "output_type": "display_data"
    },
    {
     "data": {
      "application/vnd.jupyter.widget-view+json": {
       "model_id": "",
       "version_major": 2,
       "version_minor": 0
      },
      "text/plain": [
       "  0%|          | 0/10 [00:00<?, ?it/s]"
      ]
     },
     "metadata": {},
     "output_type": "display_data"
    },
    {
     "data": {
      "application/vnd.jupyter.widget-view+json": {
       "model_id": "",
       "version_major": 2,
       "version_minor": 0
      },
      "text/plain": [
       "  0%|          | 0/10 [00:00<?, ?it/s]"
      ]
     },
     "metadata": {},
     "output_type": "display_data"
    },
    {
     "data": {
      "application/vnd.jupyter.widget-view+json": {
       "model_id": "",
       "version_major": 2,
       "version_minor": 0
      },
      "text/plain": [
       "  0%|          | 0/10 [00:00<?, ?it/s]"
      ]
     },
     "metadata": {},
     "output_type": "display_data"
    },
    {
     "data": {
      "application/vnd.jupyter.widget-view+json": {
       "model_id": "",
       "version_major": 2,
       "version_minor": 0
      },
      "text/plain": [
       "  0%|          | 0/10 [00:00<?, ?it/s]"
      ]
     },
     "metadata": {},
     "output_type": "display_data"
    },
    {
     "data": {
      "application/vnd.jupyter.widget-view+json": {
       "model_id": "",
       "version_major": 2,
       "version_minor": 0
      },
      "text/plain": [
       "  0%|          | 0/10 [00:00<?, ?it/s]"
      ]
     },
     "metadata": {},
     "output_type": "display_data"
    },
    {
     "data": {
      "application/vnd.jupyter.widget-view+json": {
       "model_id": "",
       "version_major": 2,
       "version_minor": 0
      },
      "text/plain": [
       "  0%|          | 0/10 [00:00<?, ?it/s]"
      ]
     },
     "metadata": {},
     "output_type": "display_data"
    },
    {
     "data": {
      "application/vnd.jupyter.widget-view+json": {
       "model_id": "",
       "version_major": 2,
       "version_minor": 0
      },
      "text/plain": [
       "  0%|          | 0/10 [00:00<?, ?it/s]"
      ]
     },
     "metadata": {},
     "output_type": "display_data"
    },
    {
     "data": {
      "application/vnd.jupyter.widget-view+json": {
       "model_id": "",
       "version_major": 2,
       "version_minor": 0
      },
      "text/plain": [
       "  0%|          | 0/10 [00:00<?, ?it/s]"
      ]
     },
     "metadata": {},
     "output_type": "display_data"
    },
    {
     "data": {
      "application/vnd.jupyter.widget-view+json": {
       "model_id": "",
       "version_major": 2,
       "version_minor": 0
      },
      "text/plain": [
       "  0%|          | 0/10 [00:00<?, ?it/s]"
      ]
     },
     "metadata": {},
     "output_type": "display_data"
    },
    {
     "data": {
      "application/vnd.jupyter.widget-view+json": {
       "model_id": "",
       "version_major": 2,
       "version_minor": 0
      },
      "text/plain": [
       "  0%|          | 0/10 [00:00<?, ?it/s]"
      ]
     },
     "metadata": {},
     "output_type": "display_data"
    },
    {
     "data": {
      "application/vnd.jupyter.widget-view+json": {
       "model_id": "",
       "version_major": 2,
       "version_minor": 0
      },
      "text/plain": [
       "  0%|          | 0/10 [00:00<?, ?it/s]"
      ]
     },
     "metadata": {},
     "output_type": "display_data"
    },
    {
     "data": {
      "application/vnd.jupyter.widget-view+json": {
       "model_id": "",
       "version_major": 2,
       "version_minor": 0
      },
      "text/plain": [
       "  0%|          | 0/10 [00:00<?, ?it/s]"
      ]
     },
     "metadata": {},
     "output_type": "display_data"
    }
   ],
   "source": [
    "loss_fn = nn.MSELoss()\n",
    "\n",
    "fno = FNO(n_modes=(16,), \n",
    "             hidden_channels=64, \n",
    "             in_channels=1, \n",
    "             out_channels=1)\n",
    "optim_fno = torch.optim.Adam(fno.parameters(), lr = 1e-3)\n",
    "\n",
    "epochs = 20\n",
    "for _ in trange(epochs):\n",
    "    for xt, yt in tqdm(train_loader, leave = False):  \n",
    "        yhat = fno(xt)\n",
    "        loss = loss_fn(yhat, yt)\n",
    "        loss.backward()\n",
    "        optim_fno.step()\n",
    "        optim_fno.zero_grad()\n",
    "        \n",
    "with torch.no_grad():\n",
    "    yval_fno = jnp.array(np.array(fno(jax2torch(xval)).squeeze()))"
   ]
  },
  {
   "cell_type": "code",
   "execution_count": 46,
   "id": "a68c622b",
   "metadata": {},
   "outputs": [],
   "source": [
    "# ### test\n",
    "# rng = random.PRNGKey(2)\n",
    "# key1, key2 = random.split(rng)\n",
    "\n",
    "# xtest = fourier_sample(key1, n, p)\n",
    "# sigma = jnp.mean((xtest)**2, axis = 1)[:,None]\n",
    "# epsilon = sigma * fourier_sample(key2, n, p)\n",
    "# ytest = bias + conv(xtest, beta) + epsilon\n",
    "\n",
    "# xtest = xtest[:,None]\n",
    "# ytest = ytest[:,None]\n",
    "# with torch.no_grad():\n",
    "#     ytest_fno = jnp.array(np.array(fno(jax2torch(xtest)).squeeze()))"
   ]
  },
  {
   "cell_type": "code",
   "execution_count": 47,
   "id": "6a335dec",
   "metadata": {},
   "outputs": [],
   "source": [
    "# ### residuals\n",
    "# rval_fno = yval.squeeze() - yval_fno\n",
    "# rtest_fno = ytest.squeeze() - ytest_fno\n",
    "\n",
    "# ## split again\n",
    "# keyR, keyW, keyF = random.split(key3, 3)"
   ]
  },
  {
   "cell_type": "code",
   "execution_count": 48,
   "id": "38997f33",
   "metadata": {},
   "outputs": [],
   "source": [
    "# i = 40\n",
    "\n",
    "# phi = slice_phi(sub_rng, p, 20)\n",
    "# rval_phi = rval_fno @ phi\n",
    "# rtest_phi = rtest_fno @ phi \n",
    "\n",
    "# xtest_til = xtest[1] + 1e-4 * jax.random.normal(rng, xtest[1].shape)\n",
    "# dist = jnp.sqrt(jnp.mean((xval - xtest_til[None,])**2, axis = (1, 2)))\n",
    "# w = dist / jnp.sum(dist)\n",
    "\n",
    "# mu = jnp.sum(w[:,None]*rval_phi, axis = 0)\n",
    "# sig = jnp.sqrt(jnp.sum((w[:,None]*rval_phi - mu)**2, axis = 0))"
   ]
  },
  {
   "cell_type": "code",
   "execution_count": 49,
   "id": "f325777d",
   "metadata": {},
   "outputs": [],
   "source": [
    "# s = jnp.max(-norm.logpdf(rval_phi, mu, sig), axis = 1)\n",
    "# quant = jnp.ceil((n+1)*(1-alpha))/n\n",
    "# q = jnp.quantile(s, quant)\n",
    "# q"
   ]
  },
  {
   "cell_type": "code",
   "execution_count": 50,
   "id": "ccbeca1b",
   "metadata": {},
   "outputs": [],
   "source": [
    "# sz = jnp.max(-norm.logpdf(rtest_phi[i], mu, sig))\n",
    "# sz"
   ]
  },
  {
   "cell_type": "code",
   "execution_count": 51,
   "id": "5d7b9504",
   "metadata": {},
   "outputs": [],
   "source": [
    "# phi = slice_phi(random.PRNGKey(2134), 50, 20)\n",
    "# rval_phi = rval_fno @ phi\n",
    "# rtest_phi = rtest_fno @ phi \n",
    "\n",
    "# jnp.mean(local_phi_inclusion(rval_phi, xval, rtest_phi, xtest, rng))"
   ]
  },
  {
   "cell_type": "code",
   "execution_count": null,
   "id": "8d3ad65d",
   "metadata": {},
   "outputs": [],
   "source": []
  },
  {
   "cell_type": "code",
   "execution_count": 52,
   "id": "86946a85",
   "metadata": {},
   "outputs": [],
   "source": [
    "# def phi_tukey(z, x, w):\n",
    "#     f = jnp.sum(w[:,None] * (z > x), axis = 0)\n",
    "#     depth = 1 - jnp.abs(1 - 2 * f)\n",
    "#     return jnp.min(depth)\n",
    "\n",
    "# def phi_tukey(z, x, w):\n",
    "#     mu = jnp.sum(w[:,None] * x, axis = 0)\n",
    "#     sig = jnp.sqrt(jnp.sum((w[:,None]*x - mu)**2, axis = 0))\n",
    "#     return jnp.mean(1 - jnp.abs(1 - 2 * norm.cdf(z, mu, sig)))\n",
    "\n",
    "# phi_tukey = jit(phi_tukey)\n",
    "# v_phi_tukey = jit(vmap(phi_tukey, (0, None, None)))\n",
    "\n",
    "def slice_phi(rng, p1, p2):\n",
    "    phi = jax.random.normal(rng, (p1, p2))\n",
    "    phi = phi / jnp.sum(phi, axis = 1)[:,None]\n",
    "    return phi\n",
    "\n",
    "# def local_phi_inclusion(rval_phi, xval, rtest_phi, xtest, rng):\n",
    "    \n",
    "#     xtest_til = xtest[None,] + 1e-2 * jax.random.normal(rng, xtest[None,].shape)\n",
    "#     dist = jnp.sqrt(jnp.mean((xval - xtest_til)**2, axis = (1, 2)))\n",
    "#     w = dist / jnp.sum(dist)\n",
    "    \n",
    "#     n = xval.shape[0]\n",
    "#     s = v_phi_tukey(rval_phi, rval_phi, w)\n",
    "#     alpha = 0.1\n",
    "#     quant = jnp.ceil((n+1)*(1-alpha))/n\n",
    "#     q = jnp.quantile(s, 1 - quant) - 1/n\n",
    "#     s_test = phi_tukey(rtest_phi, rval_phi, w)\n",
    "    \n",
    "#     return s_test >= q\n",
    "\n",
    "# local_phi_inclusion = jit(vmap(local_phi_inclusion, (None, None, 0, 0, None)))"
   ]
  },
  {
   "cell_type": "code",
   "execution_count": 53,
   "id": "b69fbeb0",
   "metadata": {},
   "outputs": [],
   "source": [
    "# ### phi score\n",
    "# def local_phi_inclusion(rval_phi, xval, rtest_phi, xtest, rng):\n",
    "    \n",
    "#     xtest_til = xtest + 1e-2 * random.normal(rng, xtest.shape)\n",
    "#     dist = jnp.sqrt(jnp.mean((xval - xtest_til[None,])**2, axis = (1, 2)))\n",
    "#     w = dist / jnp.sum(dist)\n",
    "    \n",
    "#     mu = jnp.sum(w[:,None]*rval_phi, axis = 0)\n",
    "#     sig = jnp.sqrt(jnp.sum((w[:,None]*rval_phi - mu)**2, axis = 0))\n",
    "\n",
    "#     s = jnp.max(-norm.logpdf(rval_phi, mu, sig), axis = 1)\n",
    "    \n",
    "#     n = xval.shape[0]\n",
    "#     alpha = 0.1\n",
    "#     quant = jnp.ceil((n+1)*(1-alpha))/n\n",
    "#     q = jnp.quantile(s, quant)\n",
    "    \n",
    "#     s_test = jnp.max(-norm.logpdf(rtest_phi, mu, sig))\n",
    "#     return s_test <= q\n",
    "# local_phi_inclusion = jit(vmap(local_phi_inclusion, (None, None, 0, 0, None)))"
   ]
  },
  {
   "cell_type": "code",
   "execution_count": 54,
   "id": "d0fdc301",
   "metadata": {},
   "outputs": [],
   "source": [
    "# ### Sliced max-entropy version\n",
    "# def local_phi_inclusion(rval_phi, xval, rtest_phi, xtest, phi_weights, rng):\n",
    "    \n",
    "#     xtest_til = xtest + 1e-5 * random.normal(rng, xtest.shape)\n",
    "#     dist = jnp.sqrt(jnp.mean((xval - xtest_til[None,])**2, axis = (1, 2)))\n",
    "#     w = dist / jnp.sum(dist)\n",
    "    \n",
    "#     mu = jnp.sum(w[:,None]*rval_phi, axis = 0)\n",
    "#     sig = jnp.sqrt(jnp.sum((w[:,None]*rval_phi - mu)**2, axis = 0))\n",
    "\n",
    "#     s = jnp.max(-phi_weights*norm.logpdf(rval_phi, mu, sig), axis = 1)\n",
    "    \n",
    "#     n = xval.shape[0]\n",
    "#     alpha = 0.1\n",
    "#     quant = jnp.ceil((n+1)*(1-alpha))/n\n",
    "#     q = jnp.quantile(s, quant)\n",
    "    \n",
    "#     s_test = jnp.max(-phi_weights*norm.logpdf(rtest_phi, mu, sig))\n",
    "#     return s_test <= q\n",
    "# local_phi_inclusion = jit(vmap(local_phi_inclusion, (None, None, 0, 0, None, None)))"
   ]
  },
  {
   "cell_type": "code",
   "execution_count": 55,
   "id": "1d9506a2",
   "metadata": {},
   "outputs": [],
   "source": [
    "### Sliced entropy version 2\n",
    "def local_phi_inclusion(rval_phi, xval, rtest_phi, xtest, phi_weights, rng):\n",
    "    \n",
    "    xtest_til = xtest + 1e-2 * random.normal(rng, xtest.shape)\n",
    "    dist = jnp.sqrt(jnp.mean((xval - xtest_til[None,])**2, axis = (1, 2)))\n",
    "    w = dist / jnp.sum(dist)\n",
    "    \n",
    "    mu = jnp.sum(w[:,None]*rval_phi, axis = 0)\n",
    "    sig = jnp.sqrt(jnp.sum((w[:,None]*rval_phi - mu)**2, axis = 0))\n",
    "\n",
    "    s = jnp.sum(-phi_weights*norm.logpdf(rval_phi, mu, sig), axis = 1)\n",
    "    \n",
    "    n = xval.shape[0]\n",
    "    alpha = 0.1\n",
    "    quant = jnp.ceil((n+1)*(1-alpha))/n\n",
    "    q = jnp.quantile(s, quant)\n",
    "    \n",
    "    s_test = jnp.sum(-phi_weights*norm.logpdf(rtest_phi, mu, sig))\n",
    "    return s_test <= q\n",
    "local_phi_inclusion = jit(vmap(local_phi_inclusion, (None, None, 0, 0, None, None)))"
   ]
  },
  {
   "cell_type": "code",
   "execution_count": 56,
   "id": "e9e9e6c7",
   "metadata": {},
   "outputs": [
    {
     "data": {
      "application/vnd.jupyter.widget-view+json": {
       "model_id": "28047b77234e4aaba974cde2564ad04c",
       "version_major": 2,
       "version_minor": 0
      },
      "text/plain": [
       "  0%|          | 0/50 [00:00<?, ?it/s]"
      ]
     },
     "metadata": {},
     "output_type": "display_data"
    }
   ],
   "source": [
    "nsim = 50\n",
    "cover_rand = np.zeros(nsim)\n",
    "cover_wave = np.zeros(nsim)\n",
    "cover_fpca = np.zeros(nsim)\n",
    "\n",
    "rng = random.PRNGKey(102391)\n",
    "\n",
    "for i in trange(nsim):\n",
    "\n",
    "    ### test\n",
    "    rng, sub_rng = random.split(rng, 2)\n",
    "    key1, key2, key3 = random.split(sub_rng, 3)\n",
    "\n",
    "    xtest = fourier_sample(key1, n, p, n_freq)\n",
    "    sigma = jnp.mean((xtest)**2, axis = 1)[:,None]\n",
    "    epsilon = sigma * fourier_sample(key2, n, p, n_freq)\n",
    "    ytest = bias + conv(xtest, beta) + epsilon\n",
    "\n",
    "    xtest = xtest[:,None]\n",
    "    ytest = ytest[:,None]\n",
    "    with torch.no_grad():\n",
    "        ytest_fno = jnp.array(np.array(fno(jax2torch(xtest)).squeeze()))\n",
    "    \n",
    "    ### residuals\n",
    "    rval_fno = yval.squeeze() - yval_fno\n",
    "    rtest_fno = ytest.squeeze() - ytest_fno\n",
    "    \n",
    "    ## split again\n",
    "    keyR, keyW, keyF = random.split(key3, 3)\n",
    "    \n",
    "    ### random basis\n",
    "    phi = slice_phi(sub_rng, p, 10)\n",
    "    rval_phi = rval_fno @ phi\n",
    "    rtest_phi = rtest_fno @ phi \n",
    "\n",
    "    cover = np.mean(local_phi_inclusion(rval_phi, xval, rtest_phi, xtest, 1, keyR))\n",
    "    cover_rand[i] = cover\n",
    "    \n",
    "    ### wavelet basis\n",
    "    rval_phi = jwt.wavedec(rval_fno, 'haar', mode='zero', level=2)[0]\n",
    "    rtest_phi = jwt.wavedec(rtest_fno, 'haar', mode='zero', level=2)[0]\n",
    "    phi_weights = jnp.var(rval_phi, axis = 0) / np.sum(jnp.var(rval_phi, axis = 0))\n",
    "\n",
    "    cover = np.mean(local_phi_inclusion(rval_phi, xval, rtest_phi, xtest, phi_weights, keyW))\n",
    "    cover_wave[i] = cover\n",
    "    \n",
    "    ### FPCA basis\n",
    "    state = pcax.fit(rval_fno, n_components = 40)\n",
    "    phi_weights = state[2] / jnp.sum(state[2])\n",
    "\n",
    "    rval_phi = pcax.transform(state, rval_fno)\n",
    "    rtest_phi = pcax.transform(state, rtest_fno)\n",
    "\n",
    "    cover = np.mean(local_phi_inclusion(rval_phi, xval, rtest_phi, xtest, phi_weights, keyF))\n",
    "    cover_fpca[i] = cover"
   ]
  },
  {
   "cell_type": "code",
   "execution_count": 57,
   "id": "18b8d1b9",
   "metadata": {},
   "outputs": [],
   "source": [
    "# phi_weights.shape"
   ]
  },
  {
   "cell_type": "code",
   "execution_count": 58,
   "id": "599591c5",
   "metadata": {},
   "outputs": [
    {
     "name": "stdout",
     "output_type": "stream",
     "text": [
      "0.899 0.895 0.88\n"
     ]
    },
    {
     "data": {
      "image/png": "[encoded data removed]",
      "text/plain": [
       "<Figure size 640x480 with 1 Axes>"
      ]
     },
     "metadata": {},
     "output_type": "display_data"
    }
   ],
   "source": [
    "plt.boxplot([cover_rand, cover_wave, cover_fpca])\n",
    "print(np.round(np.mean(cover_rand), 3), np.round(np.mean(cover_wave), 3), np.round(np.mean(cover_fpca), 3))\n",
    "plt.show()"
   ]
  },
  {
   "cell_type": "code",
   "execution_count": null,
   "id": "47638f97",
   "metadata": {},
   "outputs": [],
   "source": []
  },
  {
   "cell_type": "code",
   "execution_count": null,
   "id": "e67faa16",
   "metadata": {},
   "outputs": [],
   "source": []
  }
 ],
 "metadata": {
  "kernelspec": {
   "display_name": "Python 3 (ipykernel)",
   "language": "python",
   "name": "python3"
  },
  "language_info": {
   "codemirror_mode": {
    "name": "ipython",
    "version": 3
   },
   "file_extension": ".py",
   "mimetype": "text/x-python",
   "name": "python",
   "nbconvert_exporter": "python",
   "pygments_lexer": "ipython3",
   "version": "3.10.8"
  }
 },
 "nbformat": 4,
 "nbformat_minor": 5
}
