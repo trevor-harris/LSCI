{
 "cells": [
  {
   "cell_type": "code",
   "execution_count": 75,
   "id": "0b7ab1aa",
   "metadata": {},
   "outputs": [],
   "source": [
    "import math\n",
    "import numpy as np\n",
    "import matplotlib\n",
    "import matplotlib.pyplot as plt\n",
    "\n",
    "import jax\n",
    "import jax.numpy as jnp\n",
    "import jax.scipy.stats as stats\n",
    "from jax import jacfwd, jacrev\n",
    "from jax import vmap, grad, jit, random\n",
    "from jax.tree_util import tree_map, tree_flatten, tree_unflatten, tree_leaves\n",
    "\n",
    "from flax import nnx\n",
    "import optax\n",
    "import pcax\n",
    "\n",
    "from tqdm.notebook import tqdm\n",
    "from tqdm.notebook import trange\n",
    "\n",
    "import torch\n",
    "from torch.utils.data import DataLoader, TensorDataset"
   ]
  },
  {
   "cell_type": "code",
   "execution_count": 76,
   "id": "df37cd79",
   "metadata": {},
   "outputs": [],
   "source": [
    "import os\n",
    "os.chdir('../methods')\n",
    "import lsci, supr, conf, uqno\n",
    "os.chdir('../gpsims')"
   ]
  },
  {
   "cell_type": "code",
   "execution_count": 77,
   "id": "ae7a5a00",
   "metadata": {},
   "outputs": [],
   "source": [
    "def risk(lower, upper, residual):\n",
    "    return jnp.mean((residual > lower)*(residual < upper))"
   ]
  },
  {
   "cell_type": "code",
   "execution_count": 78,
   "id": "5a963899",
   "metadata": {},
   "outputs": [],
   "source": [
    "def split_data(data, lag, horizon):\n",
    "    horizon = horizon-1\n",
    "    y_t = data[(lag + horizon):][:,None]\n",
    "    x_t = np.stack([data[(lag-i-1):(-(i+1+horizon))] for i in range(lag)], axis = 1)\n",
    "    return x_t.copy(), y_t.copy()\n",
    "\n",
    "def torch2jax(x):\n",
    "    return jnp.array(x.numpy())"
   ]
  },
  {
   "cell_type": "code",
   "execution_count": 194,
   "id": "56048208",
   "metadata": {},
   "outputs": [],
   "source": [
    "class ANO_layer(nnx.Module):\n",
    "    def __init__(self, width, rngs: nnx.Rngs):\n",
    "        self.linear = nnx.Linear(width, width, rngs=rngs)\n",
    "        # self.bn = nnx.BatchNorm(dmid, rngs=rngs)\n",
    "        self.linear_out = nnx.Linear(width, width, rngs=rngs)\n",
    "        \n",
    "    def __call__(self, x):\n",
    "        # channel mix\n",
    "        h = self.linear(x)\n",
    "\n",
    "        # spatial mix\n",
    "        g = jnp.mean(x, axis = (1, 2))[:,None,None,:]\n",
    "\n",
    "        # sum\n",
    "        x = h + g\n",
    "        x = nnx.relu(x)\n",
    "\n",
    "        return self.linear_out(x)\n",
    "\n",
    "class encode_layer(nnx.Module):\n",
    "    def __init__(self, in_dim, out_dim, rngs):\n",
    "        self.linear = nnx.Linear(in_dim, out_dim, rngs=rngs)\n",
    "\n",
    "    def __call__(self, x):\n",
    "        return self.linear(x)\n",
    "\n",
    "class DeepANO(nnx.Module):\n",
    "    def __init__(self, in_dim, width, out_dim, rngs):\n",
    "        self.encode_layer = encode_layer(in_dim, width, rngs)\n",
    "        self.ano1 = ANO_layer(width, rngs)\n",
    "        self.ano2 = ANO_layer(width, rngs)\n",
    "        self.ano3 = ANO_layer(width, rngs)\n",
    "        self.decode_layer = encode_layer(width, out_dim, rngs)\n",
    "#         self.dropout = nnx.Dropout(0.1, rngs=rngs)\n",
    "\n",
    "    def __call__(self, x):\n",
    "        x = self.encode_layer(x)\n",
    "        x = self.ano1(x)\n",
    "#         x = self.dropout(x)\n",
    "        x = self.ano2(x)\n",
    "#         x = self.dropout(x)\n",
    "        x = self.ano3(x)\n",
    "        x = self.decode_layer(x)\n",
    "        return x"
   ]
  },
  {
   "cell_type": "code",
   "execution_count": 195,
   "id": "a9519a57",
   "metadata": {},
   "outputs": [],
   "source": [
    "def train_step(model, optimizer, x, y):\n",
    "    def loss_fn(model):\n",
    "        y_pred = model(x)\n",
    "        return jnp.mean((y_pred - y) ** 2)\n",
    "\n",
    "    loss, grads = nnx.value_and_grad(loss_fn)(model)\n",
    "    optimizer.update(grads)  # In place updates.\n",
    "\n",
    "    return loss\n",
    "\n",
    "def quant_step(model, optimizer, x, y):\n",
    "    def loss_fn(model):\n",
    "        quant = 1 - 0.1\n",
    "        y_pred = model(x)\n",
    "        y_abs = jnp.abs(y)\n",
    "        resid = y_abs - y_pred\n",
    "        loss = jnp.max(jnp.concat([quant * resid, -(1-quant) * resid], axis = 3), axis = 3)\n",
    "        return jnp.mean(loss)\n",
    "    \n",
    "    loss, grads = nnx.value_and_grad(loss_fn)(model)\n",
    "    optimizer.update(grads)  # in-place updates\n",
    "\n",
    "    return loss\n",
    "\n",
    "train_step = nnx.jit(train_step)\n",
    "quant_step = nnx.jit(quant_step)"
   ]
  },
  {
   "cell_type": "code",
   "execution_count": 196,
   "id": "6acfca46",
   "metadata": {},
   "outputs": [],
   "source": [
    "# def conv(x, k):\n",
    "#     return jnp.convolve(x, k, mode = 'valid')\n",
    "# conv = jit(vmap(conv, (0, None)))\n",
    "# kernel = jnp.ones(5)/5\n",
    "\n",
    "# rng0 = 100\n",
    "# key1 = random.PRNGKey(rng0 + 1)\n",
    "# key2 = random.PRNGKey(rng0 + 2)\n",
    "# key3 = random.PRNGKey(rng0 + 3)\n",
    "\n",
    "# n, p = 501, 108\n",
    "# beta = 0.2\n",
    "# xtrain = np.array(conv(conv(random.normal(key1, (n, p)), kernel), kernel))\n",
    "# for i in range(1, n):\n",
    "#     xtrain[i] = beta * xtrain[i-1] + xtrain[i]\n",
    "# xtrain, ytrain = split_data(xtrain, 1, 1)\n",
    "# xtrain = xtrain[:,:,:,None]\n",
    "# ytrain = ytrain[:,:,:,None]\n",
    "\n",
    "# xval = np.array(conv(conv(random.normal(key2, (n, p)), kernel), kernel))\n",
    "# for i in range(1, n):\n",
    "#     xval[i] = beta * xval[i-1] + xval[i]\n",
    "# xval, yval = split_data(xval, 1, 1)\n",
    "# xval = xval[:,:,:,None]\n",
    "# yval = yval[:,:,:,None]\n",
    "\n",
    "# xtest = np.array(conv(conv(random.normal(key3, (n, p)), kernel), kernel))\n",
    "# for i in range(1, n):\n",
    "#     xtest[i] = beta * xtest[i-1] + xtest[i]\n",
    "# xtest, ytest = split_data(xtest, 1, 1)\n",
    "# xtest = xtest[:,:,:,None]\n",
    "# ytest = ytest[:,:,:,None]"
   ]
  },
  {
   "cell_type": "code",
   "execution_count": 197,
   "id": "b3247cf1",
   "metadata": {},
   "outputs": [],
   "source": [
    "def conv(x, k):\n",
    "    return jnp.convolve(x, k, mode = 'valid')\n",
    "conv = jit(vmap(conv, (0, None)))\n",
    "kernel = jnp.ones(5)/5\n",
    "\n",
    "rng0 = 0\n",
    "key1 = random.PRNGKey(rng0 + 1)\n",
    "key2 = random.PRNGKey(rng0 + 2)\n",
    "key3 = random.PRNGKey(rng0 + 3)\n",
    "\n",
    "t = jnp.linspace(0, 1, 108)\n",
    "s = jnp.linspace(-2*math.pi, 2*math.pi, 501)\n",
    "\n",
    "amp = jnp.sin(s)\n",
    "sd = jnp.sin(s)\n",
    "\n",
    "f = jnp.sin(2 * math.pi * t)\n",
    "f = 10 + amp[:,None] * f[None,:]\n",
    "\n",
    "xtrain = f + 0.25 * (1.15 + sd)[:,None] * random.normal(key1, f.shape)\n",
    "xtrain = conv(conv(xtrain.squeeze(), kernel), kernel)\n",
    "xtrain, ytrain = split_data(xtrain, 1, 1)\n",
    "xtrain = xtrain[:,:,:,None]\n",
    "ytrain = ytrain[:,:,:,None]\n",
    "\n",
    "xval = f + 0.25 * (1.15 + sd)[:,None] * random.normal(key2, f.shape)\n",
    "xval = conv(conv(xval.squeeze(), kernel), kernel)\n",
    "\n",
    "xval, yval = split_data(xval, 1, 1)\n",
    "xval = xval[:,:,:,None]\n",
    "yval = yval[:,:,:,None]\n",
    "\n",
    "xtest = f + 0.25 * (1.15 + sd)[:,None] * random.normal(key3, f.shape)\n",
    "xtest = conv(conv(xtest.squeeze(), kernel), kernel)\n",
    "\n",
    "xtest, ytest = split_data(xtest, 1, 1)\n",
    "xtest = xtest[:,:,:,None]\n",
    "ytest = ytest[:,:,:,None]"
   ]
  },
  {
   "cell_type": "code",
   "execution_count": 198,
   "id": "a0fe84a6",
   "metadata": {},
   "outputs": [],
   "source": [
    "train_data = TensorDataset(torch.Tensor(xtrain), torch.Tensor(ytrain))\n",
    "train_loader = DataLoader(train_data, batch_size = 30, shuffle = True)"
   ]
  },
  {
   "cell_type": "code",
   "execution_count": 199,
   "id": "2b86306e",
   "metadata": {},
   "outputs": [],
   "source": [
    "# plt.plot(xtrain[0:10].squeeze().T)\n",
    "# plt.show()"
   ]
  },
  {
   "cell_type": "code",
   "execution_count": 200,
   "id": "91c90588",
   "metadata": {},
   "outputs": [
    {
     "data": {
      "application/vnd.jupyter.widget-view+json": {
       "model_id": "fcf6dc60718c41bea491b491a2f698d0",
       "version_major": 2,
       "version_minor": 0
      },
      "text/plain": [
       "  0%|          | 0/500 [00:00<?, ?it/s]"
      ]
     },
     "metadata": {},
     "output_type": "display_data"
    }
   ],
   "source": [
    "epochs = 500\n",
    "trace = []\n",
    "lag, lead = 1, 1\n",
    "\n",
    "model = DeepANO(lag, 50, lead, rngs=nnx.Rngs(0))\n",
    "optim = nnx.Optimizer(model, optax.adam(1e-3))\n",
    "rng = random.PRNGKey(0)\n",
    "\n",
    "for _ in trange(epochs):\n",
    "    for xt, yt in train_loader:\n",
    "        xt = torch2jax(xt)\n",
    "        yt = torch2jax(yt)\n",
    "        \n",
    "        loss = train_step(model, optim, xt, yt)\n",
    "        trace.append(loss)"
   ]
  },
  {
   "cell_type": "code",
   "execution_count": 201,
   "id": "7c388ab2",
   "metadata": {},
   "outputs": [
    {
     "data": {
      "application/vnd.jupyter.widget-view+json": {
       "model_id": "ce218a8ed8194c9d94dbb5ef53b06bb4",
       "version_major": 2,
       "version_minor": 0
      },
      "text/plain": [
       "  0%|          | 0/500 [00:00<?, ?it/s]"
      ]
     },
     "metadata": {},
     "output_type": "display_data"
    }
   ],
   "source": [
    "quant = DeepANO(lag, 50, lead, rngs=nnx.Rngs(0))\n",
    "optim = nnx.Optimizer(quant, optax.adam(1e-3))\n",
    "rng = random.PRNGKey(0)\n",
    "\n",
    "for _ in trange(epochs):\n",
    "    for xt, yt in train_loader:\n",
    "        xt = torch2jax(xt)\n",
    "        yt = torch2jax(yt)\n",
    "        \n",
    "        loss = quant_step(quant, optim, xt, yt)\n",
    "        trace.append(loss)"
   ]
  },
  {
   "cell_type": "code",
   "execution_count": 202,
   "id": "fc0222cd",
   "metadata": {},
   "outputs": [],
   "source": [
    "model.eval()\n",
    "quant.eval()"
   ]
  },
  {
   "cell_type": "code",
   "execution_count": 203,
   "id": "99e5391e",
   "metadata": {},
   "outputs": [],
   "source": [
    "yval_hat = model(xval)\n",
    "ytest_hat = model(xtest)\n",
    "yval_quant = quant(xval)\n",
    "ytest_quant = quant(xtest)"
   ]
  },
  {
   "cell_type": "code",
   "execution_count": 204,
   "id": "1e22619d",
   "metadata": {},
   "outputs": [],
   "source": [
    "# nproj = 90\n",
    "# gamma1 = 0.2\n",
    "# alpha = 0.1\n",
    "# nval = xval.shape[0]\n",
    "# alpha1 = 1 - jnp.ceil((1-alpha) * (gamma1*nval + 1))/(gamma1*nval)"
   ]
  },
  {
   "cell_type": "code",
   "execution_count": 205,
   "id": "f42d3000",
   "metadata": {},
   "outputs": [],
   "source": [
    "yval = yval.reshape(yval.shape[0], -1)\n",
    "yval_hat = yval_hat.reshape(yval_hat.shape[0], -1)\n",
    "# pca_state = lsci.phi_state(yval, yval_hat, nproj)"
   ]
  },
  {
   "cell_type": "code",
   "execution_count": 206,
   "id": "30306593",
   "metadata": {},
   "outputs": [
    {
     "data": {
      "text/plain": [
       "Array(0.08691277, dtype=float32)"
      ]
     },
     "execution_count": 206,
     "metadata": {},
     "output_type": "execute_result"
    }
   ],
   "source": [
    "# UQNO lambda estimate\n",
    "yval_quant = yval.reshape(yval_quant.shape[0], -1)\n",
    "ytest_quant = ytest_quant.reshape(ytest_quant.shape[0], -1)\n",
    "\n",
    "alpha = 0.1\n",
    "delta = 0.01\n",
    "# m = 32*64\n",
    "m = 100\n",
    "tau = 1.1 * jnp.sqrt(-jnp.log(delta)/(2*m))\n",
    "sg = jnp.abs(yval - yval_hat) / yval_quant\n",
    "sg = jnp.quantile(sg, 1-alpha+tau, axis = (1))\n",
    "nval = sg.shape[0]\n",
    "\n",
    "adj_alpha = 1 - jnp.ceil((nval + 1) * (delta - jnp.exp(-2*m*tau**2)))/nval\n",
    "lam_uqno = jnp.quantile(sg, adj_alpha)\n",
    "lam_uqno"
   ]
  },
  {
   "cell_type": "code",
   "execution_count": 213,
   "id": "6fc47864",
   "metadata": {},
   "outputs": [
    {
     "data": {
      "application/vnd.jupyter.widget-view+json": {
       "model_id": "6ac03d1abd0d4e0cb814deef05b85caf",
       "version_major": 2,
       "version_minor": 0
      },
      "text/plain": [
       "  0%|          | 0/500 [00:00<?, ?it/s]"
      ]
     },
     "metadata": {},
     "output_type": "display_data"
    }
   ],
   "source": [
    "nproj = 90\n",
    "gamma1 = 0.1\n",
    "gamma2 = 0.3\n",
    "alpha = 0.1\n",
    "nval = xval.shape[0]\n",
    "alpha1 = 1 - jnp.ceil((1-alpha) * (gamma1*nval + 1))/(gamma1*nval)\n",
    "alpha2 = 1 - jnp.ceil((1-alpha) * (gamma2*nval + 1))/(gamma2*nval)\n",
    "\n",
    "lsc1_rc = []\n",
    "lsc2_rc = []\n",
    "lsc3_rc = []\n",
    "conf_rc = []\n",
    "supr_rc = []\n",
    "uqn1_rc = []\n",
    "drop_rc = []\n",
    "orcl_rc = []\n",
    "\n",
    "lsc1_width = []\n",
    "lsc2_width = []\n",
    "lsc3_width = []\n",
    "conf_width = []\n",
    "supr_width = []\n",
    "uqn1_width = []\n",
    "drop_width = []\n",
    "orcl_width = []\n",
    "\n",
    "yval = yval.reshape(yval.shape[0], -1)\n",
    "yval_hat = yval_hat.reshape(yval_hat.shape[0], -1)\n",
    "pca_state = lsci.phi_state(yval, yval_hat, nproj)\n",
    "\n",
    "rval = (yval - yval_hat).squeeze()\n",
    "rtest = (ytest - ytest_hat).squeeze()\n",
    "\n",
    "conf_lower, conf_upper = conf.conf_band(rval, pca_state, alpha)\n",
    "supr_lower, supr_upper = supr.supr_band(rval, alpha)\n",
    "uqn1_lower, uqn1_upper = uqno.uqno_band(ytest_quant, lam_uqno)\n",
    "\n",
    "for i in trange(0, ytest.shape[0]):\n",
    "# for i in trange(0, 100):\n",
    "\n",
    "    # Oracle\n",
    "    orcl_lower = -(jnp.abs(rtest[i]) + 1e-4)\n",
    "    orcl_upper = jnp.abs(rtest[i]) + 1e-4\n",
    "    orcl_rc.append(risk(orcl_lower, orcl_upper, rtest[i]))\n",
    "    orcl_width.append(jnp.median(orcl_upper - orcl_lower))\n",
    "    \n",
    "    # LSCI\n",
    "    lsc1_lower, lsc1_upper = lsci.lsci(rval, xval, xtest[i], pca_state, alpha1, gamma1, 2000)\n",
    "    lsc1_rc.append(risk(lsc1_lower, lsc1_upper, rtest[i]))\n",
    "    lsc1_width.append(jnp.median(lsc1_upper - lsc1_lower))\n",
    "    \n",
    "    # LSCI\n",
    "    lsc2_lower, lsc2_upper = lsci.lsci(rval, xval, xtest[i], pca_state, alpha2, gamma2, 2000)\n",
    "    lsc2_rc.append(risk(lsc2_lower, lsc2_upper, rtest[i]))\n",
    "    lsc2_width.append(jnp.median(lsc2_upper - lsc2_lower))\n",
    "\n",
    "    model.train()\n",
    "    drop_set = jnp.stack([model(xtest[i:(i+1)]).squeeze() for _ in range(500)])\n",
    "    drop_lower = jnp.quantile(drop_set, alpha/2, axis = 0)\n",
    "    drop_upper = jnp.quantile(drop_set, 1 - alpha/2, axis = 0)\n",
    "    model.eval()\n",
    "    \n",
    "    drop_rc.append(risk(drop_lower, drop_upper, rtest[i]))\n",
    "    drop_width.append(jnp.median(drop_upper - drop_lower))\n",
    "    \n",
    "    # CONF \n",
    "    conf_rc.append(risk(conf_lower, conf_upper, rtest[i]))\n",
    "    conf_width.append(jnp.median(conf_upper - conf_lower))\n",
    "    \n",
    "    # SUPR\n",
    "    supr_rc.append(risk(supr_lower, supr_upper, rtest[i]))\n",
    "    supr_width.append(jnp.median(supr_upper - supr_lower))\n",
    "    \n",
    "    # UQNO\n",
    "    uqn1_rc.append(risk(uqn1_lower[i], uqn1_upper[i], rtest[i]))\n",
    "    uqn1_width.append(jnp.median(uqn1_upper[i] - uqn1_lower[i]))\n",
    "\n",
    "    \n",
    "orcl_rc = np.array(orcl_rc)\n",
    "conf_rc = np.array(conf_rc)\n",
    "supr_rc = np.array(supr_rc)\n",
    "uqn1_rc = np.array(uqn1_rc)\n",
    "drop_rc = np.array(drop_rc)\n",
    "lsc1_rc = np.array(lsc1_rc)\n",
    "lsc2_rc = np.array(lsc2_rc)\n",
    "\n",
    "orcl_width = np.array(orcl_width)\n",
    "conf_width = np.array(conf_width)\n",
    "supr_width = np.array(supr_width)\n",
    "uqn1_width = np.array(uqn1_width)\n",
    "drop_width = np.array(drop_width)\n",
    "lsc1_width = np.array(lsc1_width)\n",
    "lsc2_width = np.array(lsc2_width)"
   ]
  },
  {
   "cell_type": "code",
   "execution_count": 214,
   "id": "057f74c2",
   "metadata": {},
   "outputs": [],
   "source": [
    "noise_sd = np.std(rtest, axis = 1)\n",
    "\n",
    "gamma = 0.99\n",
    "\n",
    "risk_control = np.mean(orcl_rc >= gamma), \\\n",
    "               np.mean(conf_rc >= gamma), \\\n",
    "               np.mean(supr_rc >= gamma), \\\n",
    "               np.mean(uqn1_rc >= gamma), \\\n",
    "               np.mean(drop_rc >= gamma), \\\n",
    "               np.mean(lsc1_rc >= gamma), \\\n",
    "               np.mean(lsc2_rc >= gamma)\n",
    "\n",
    "width = np.mean(orcl_width), \\\n",
    "        np.mean(conf_width), \\\n",
    "        np.mean(supr_width), \\\n",
    "        np.mean(uqn1_width), \\\n",
    "        np.mean(drop_width), \\\n",
    "        np.mean(lsc1_width), \\\n",
    "        np.mean(lsc2_width)\n",
    "\n",
    "risk_cor = 0, \\\n",
    "           np.corrcoef([noise_sd, conf_rc])[0,1], \\\n",
    "           np.corrcoef([noise_sd, supr_rc])[0,1], \\\n",
    "           np.corrcoef([noise_sd, uqn1_rc])[0,1], \\\n",
    "           np.corrcoef([noise_sd, drop_rc])[0,1], \\\n",
    "           np.corrcoef([noise_sd, lsc1_rc])[0,1], \\\n",
    "           np.corrcoef([noise_sd, lsc2_rc])[0,1]\n",
    "\n",
    "width_cor = np.corrcoef([noise_sd, orcl_width])[0,1], \\\n",
    "            0, \\\n",
    "            0, \\\n",
    "            np.corrcoef([noise_sd, uqn1_width])[0,1], \\\n",
    "            np.corrcoef([noise_sd, drop_width])[0,1], \\\n",
    "            np.corrcoef([noise_sd, lsc1_width])[0,1], \\\n",
    "            np.corrcoef([noise_sd, lsc2_width])[0,1]\n",
    "\n",
    "metrics = np.array([risk_control, risk_cor, width, width_cor]).T"
   ]
  },
  {
   "cell_type": "code",
   "execution_count": 218,
   "id": "918606b0",
   "metadata": {},
   "outputs": [
    {
     "name": "stdout",
     "output_type": "stream",
     "text": [
      "[[ 1.     0.     0.211  0.954]\n",
      " [ 0.8   -0.598  1.209  0.   ]\n",
      " [ 0.878 -0.488  1.352  0.   ]\n",
      " [ 0.996 -0.118  1.771 -0.113]\n",
      " [ 0.       nan  0.       nan]\n",
      " [ 0.904 -0.136  0.881  0.935]\n",
      " [ 0.926 -0.176  0.924  0.94 ]]\n"
     ]
    }
   ],
   "source": [
    "np.set_printoptions(suppress=True)\n",
    "print(np.round(metrics, 3))"
   ]
  },
  {
   "cell_type": "code",
   "execution_count": 219,
   "id": "97f35e8a",
   "metadata": {},
   "outputs": [
    {
     "name": "stdout",
     "output_type": "stream",
     "text": [
      "1.000 & 0.000 & 0.211 & 0.954 \\\\\n",
      "0.800 & -0.598 & 1.209 & 0.000 \\\\\n",
      "0.878 & -0.488 & 1.352 & 0.000 \\\\\n",
      "0.996 & -0.118 & 1.771 & -0.113 \\\\\n",
      "0.000 & nan & 0.000 & nan \\\\\n",
      "0.904 & -0.136 & 0.881 & 0.935 \\\\\n",
      "0.926 & -0.176 & 0.924 & 0.940 \\\\\n"
     ]
    }
   ],
   "source": [
    "for i in range(metrics.shape[0]):\n",
    "    for j in range(metrics.shape[1]):\n",
    "        val = f'{np.round(metrics[i,j], 3):.3f}'\n",
    "        if j < 3:\n",
    "            val += ' & '\n",
    "            print(val, end = '')\n",
    "        else:\n",
    "            val += ' \\\\\\\\'\n",
    "            print(val)"
   ]
  },
  {
   "cell_type": "code",
   "execution_count": 2,
   "id": "8c3727fa",
   "metadata": {},
   "outputs": [
    {
     "ename": "NameError",
     "evalue": "name 'plt' is not defined",
     "output_type": "error",
     "traceback": [
      "\u001b[0;31m---------------------------------------------------------------------------\u001b[0m",
      "\u001b[0;31mNameError\u001b[0m                                 Traceback (most recent call last)",
      "Cell \u001b[0;32mIn[2], line 2\u001b[0m\n\u001b[1;32m      1\u001b[0m \u001b[38;5;66;03m### examples\u001b[39;00m\n\u001b[0;32m----> 2\u001b[0m fig, ax \u001b[38;5;241m=\u001b[39m \u001b[43mplt\u001b[49m\u001b[38;5;241m.\u001b[39msubplots(\u001b[38;5;241m1\u001b[39m, \u001b[38;5;241m3\u001b[39m, constrained_layout \u001b[38;5;241m=\u001b[39m \u001b[38;5;28;01mTrue\u001b[39;00m, figsize \u001b[38;5;241m=\u001b[39m (\u001b[38;5;241m16\u001b[39m, \u001b[38;5;241m5\u001b[39m))\n\u001b[1;32m      4\u001b[0m lsci_state \u001b[38;5;241m=\u001b[39m lsci_state(xval, rval_fno, nproj, localization \u001b[38;5;241m=\u001b[39m \u001b[38;5;124m'\u001b[39m\u001b[38;5;124mpca\u001b[39m\u001b[38;5;124m'\u001b[39m)\n\u001b[1;32m      6\u001b[0m n \u001b[38;5;241m=\u001b[39m [\u001b[38;5;241m0\u001b[39m, \u001b[38;5;241m50\u001b[39m, \u001b[38;5;241m200\u001b[39m]\n",
      "\u001b[0;31mNameError\u001b[0m: name 'plt' is not defined"
     ]
    }
   ],
   "source": [
    "### examples\n",
    "fig, ax = plt.subplots(1, 3, constrained_layout = True, figsize = (16, 5))\n",
    "\n",
    "n = [0, 50, 200]\n",
    "s = np.arange(100)\n",
    "for i in range(3):\n",
    "\n",
    "    lsc1_lower, lsc1_upper = lsci.lsci(rval, xval, xtest[n[i]], pca_state, alpha1, gamma1, 2000)\n",
    "    uqno_lower, uqno_upper = uqn1_lower[n[i]], uqn1_upper[n[i]]\n",
    "\n",
    "#     ax[i].set_ylim(-1.5, 1.5)\n",
    "    ax[i].plot(conf_upper.squeeze(), c = 'C0', lw = 0.5, label = 'Conf.')\n",
    "    ax[i].plot(conf_lower.squeeze(), c = 'C0', lw = 0.5)\n",
    "    ax[i].plot(supr_upper.squeeze(), c = 'C1', lw = 0.5, label = 'Supr.')\n",
    "    ax[i].plot(supr_lower.squeeze(), c = 'C1', lw = 0.5)\n",
    "    ax[i].plot(uqno_upper, c = 'C2', lw = 0.5, label = 'UQNO')\n",
    "    ax[i].plot(uqno_lower, c = 'C2', lw = 0.5)\n",
    "    ax[i].plot(lsc1_upper, c = 'C3', lw = 1.5, label = 'LSCI')\n",
    "    ax[i].plot(lsc1_lower, c = 'C3', lw = 1.5)\n",
    "    ax[i].plot(rtest[n[i]], c = 'black')\n",
    "    \n",
    "    ax[i].fill_between(s, conf_lower.squeeze(), conf_upper.squeeze(), alpha = 0.1)\n",
    "    ax[i].fill_between(s, supr_lower.squeeze(), supr_upper.squeeze(), alpha = 0.1)\n",
    "    ax[i].fill_between(s, uqno_lower.squeeze(), uqno_upper.squeeze(), alpha = 0.1)\n",
    "    ax[i].fill_between(s, lsc1_lower.squeeze(), lsc1_upper.squeeze(), alpha = 0.1)\n",
    "    \n",
    "    ax[i].set_title(f't = {n[i]}', fontsize = 18)\n",
    "ax[-1].legend(ncol = 4, fontsize = 12)\n",
    "\n",
    "plt.show()"
   ]
  },
  {
   "cell_type": "code",
   "execution_count": 143,
   "id": "57811d56",
   "metadata": {},
   "outputs": [],
   "source": [
    "# plt.imshow(vp[0])\n",
    "# plt.colorbar()"
   ]
  },
  {
   "cell_type": "code",
   "execution_count": null,
   "id": "868ed3b0",
   "metadata": {},
   "outputs": [],
   "source": [
    "# u = swe.random_initial_condition()\n",
    "\n",
    "# fig, ax = plt.subplots(1, 3, constrained_layout = True, figsize = (15, 4))\n",
    "# ax[0].imshow(swe.isht(swe.timestep(u, 0))[0])\n",
    "# ax[1].imshow(swe.isht(swe.timestep(u, 10))[0])\n",
    "# ax[2].imshow(swe.isht(swe.timestep(u, 100))[0])"
   ]
  },
  {
   "cell_type": "code",
   "execution_count": null,
   "id": "98da01a3",
   "metadata": {},
   "outputs": [],
   "source": [
    "# plt.imshow(swe.isht(swe.timestep(u, 10))[0] - swe.isht(swe.timestep(u, 100))[0])\n",
    "# plt.colorbar()"
   ]
  },
  {
   "cell_type": "code",
   "execution_count": null,
   "id": "26f0f707",
   "metadata": {},
   "outputs": [],
   "source": [
    "# z_score = 3.27\n",
    "# oracle_sd = np.std(rtest, axis = 1)\n",
    "oracle_rc = []\n",
    "oracle_width = []\n",
    "for i in trange(0, ytest.shape[0]):\n",
    "    \n",
    "    # Oracle    \n",
    "    oracle_lower = jnp.min(rtest[i]) * jnp.ones((92,)) - 1e-7\n",
    "    oracle_upper = jnp.max(rtest[i]) * jnp.ones((92,)) + 1e-7\n",
    "    oracle_rc.append(risk(oracle_lower, oracle_upper, rtest[i]))\n",
    "    oracle_width.append(jnp.mean(oracle_upper - oracle_lower))\n",
    "\n",
    "oracle_rc = np.array(oracle_rc)\n",
    "oracle_width = np.array(oracle_width)"
   ]
  },
  {
   "cell_type": "code",
   "execution_count": null,
   "id": "c71217df",
   "metadata": {},
   "outputs": [],
   "source": [
    "noise_sd = np.std(rtest, axis = 1)\n",
    "\n",
    "risk_control = np.mean(oracle_rc >= 0.99), \\\n",
    "               np.mean(conf_rc >= 0.99), \\\n",
    "               np.mean(supr_rc >= 0.99), \\\n",
    "               np.mean(uqn1_rc >= 0.99), \\\n",
    "               np.mean(lsc1_rc >= 0.99), \\\n",
    "               np.mean(lsc2_rc >= 0.99)\n",
    "\n",
    "width = np.mean(oracle_width), \\\n",
    "        np.mean(conf_width), \\\n",
    "        np.mean(supr_width), \\\n",
    "        np.mean(uqn1_width), \\\n",
    "        np.mean(lsc1_width), \\\n",
    "        np.mean(lsc2_width)\n",
    "\n",
    "risk_cor = 0, \\\n",
    "           np.corrcoef([noise_sd, conf_rc])[0,1], \\\n",
    "           np.corrcoef([noise_sd, supr_rc])[0,1], \\\n",
    "           np.corrcoef([noise_sd, uqn1_rc])[0,1], \\\n",
    "           np.corrcoef([noise_sd, lsc1_rc])[0,1], \\\n",
    "           np.corrcoef([noise_sd, lsc2_rc])[0,1]\n",
    "\n",
    "width_cor = np.corrcoef([noise_sd, oracle_width])[0,1], \\\n",
    "            0, \\\n",
    "            0, \\\n",
    "            np.corrcoef([noise_sd, uqn1_width])[0,1], \\\n",
    "            np.corrcoef([noise_sd, lsc1_width])[0,1], \\\n",
    "            np.corrcoef([noise_sd, lsc2_width])[0,1]\n",
    "\n",
    "metrics = np.array([risk_control, risk_cor, width, width_cor]).T"
   ]
  },
  {
   "cell_type": "code",
   "execution_count": null,
   "id": "68be336c",
   "metadata": {},
   "outputs": [],
   "source": [
    "for i in range(metrics.shape[0]):\n",
    "    for j in range(metrics.shape[1]):\n",
    "        val = f'{np.round(metrics[i,j], 3):.3f}'\n",
    "        if j < 3:\n",
    "            val += ' & '\n",
    "            print(val, end = '')\n",
    "        else:\n",
    "            val += ' \\\\\\\\'\n",
    "            print(val)"
   ]
  },
  {
   "cell_type": "code",
   "execution_count": null,
   "id": "ab9058fa",
   "metadata": {},
   "outputs": [],
   "source": []
  },
  {
   "cell_type": "code",
   "execution_count": null,
   "id": "eab037c4",
   "metadata": {},
   "outputs": [],
   "source": []
  }
 ],
 "metadata": {
  "kernelspec": {
   "display_name": "Python 3 (ipykernel)",
   "language": "python",
   "name": "python3"
  },
  "language_info": {
   "codemirror_mode": {
    "name": "ipython",
    "version": 3
   },
   "file_extension": ".py",
   "mimetype": "text/x-python",
   "name": "python",
   "nbconvert_exporter": "python",
   "pygments_lexer": "ipython3",
   "version": "3.10.8"
  }
 },
 "nbformat": 4,
 "nbformat_minor": 5
}
