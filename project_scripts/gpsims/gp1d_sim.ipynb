{
 "cells": [
  {
   "cell_type": "code",
   "execution_count": 1,
   "id": "0b7ab1aa",
   "metadata": {},
   "outputs": [],
   "source": [
    "import math\n",
    "import numpy as np\n",
    "import matplotlib\n",
    "import matplotlib.pyplot as plt\n",
    "\n",
    "import jax\n",
    "import jax.numpy as jnp\n",
    "import jax.scipy.stats as stats\n",
    "from jax import jacfwd, jacrev\n",
    "from jax import vmap, grad, jit, random\n",
    "from jax.tree_util import tree_map, tree_flatten, tree_unflatten, tree_leaves\n",
    "\n",
    "from flax import nnx\n",
    "import optax\n",
    "import pcax\n",
    "\n",
    "from tqdm.notebook import tqdm\n",
    "from tqdm.notebook import trange"
   ]
  },
  {
   "cell_type": "code",
   "execution_count": 2,
   "id": "df37cd79",
   "metadata": {},
   "outputs": [],
   "source": [
    "import os\n",
    "os.chdir('../methods')\n",
    "import lsci, supr, conf, uqno\n",
    "os.chdir('../gpsims')"
   ]
  },
  {
   "cell_type": "code",
   "execution_count": 3,
   "id": "ae7a5a00",
   "metadata": {},
   "outputs": [],
   "source": [
    "def risk(lower, upper, residual):\n",
    "    return jnp.mean((residual > lower)*(residual < upper))"
   ]
  },
  {
   "cell_type": "code",
   "execution_count": 4,
   "id": "5a963899",
   "metadata": {},
   "outputs": [],
   "source": [
    "def split_data(data, lag, horizon):\n",
    "    horizon = horizon-1\n",
    "    y_t = data[(lag + horizon):][:,None]\n",
    "    x_t = np.stack([data[(lag-i-1):(-(i+1+horizon))] for i in range(lag)], axis = 1)\n",
    "    return x_t.copy(), y_t.copy()"
   ]
  },
  {
   "cell_type": "code",
   "execution_count": 5,
   "id": "56048208",
   "metadata": {},
   "outputs": [],
   "source": [
    "class ANO_layer(nnx.Module):\n",
    "    def __init__(self, width, rngs: nnx.Rngs):\n",
    "        self.linear = nnx.Linear(width, width, rngs=rngs)\n",
    "        # self.bn = nnx.BatchNorm(dmid, rngs=rngs)\n",
    "        # self.dropout = nnx.Dropout(0.2, rngs=rngs)\n",
    "        self.linear_out = nnx.Linear(width, width, rngs=rngs)\n",
    "        \n",
    "    def __call__(self, x):\n",
    "        # channel mix\n",
    "        h = self.linear(x)\n",
    "\n",
    "        # spatial mix\n",
    "        g = jnp.mean(x, axis = (1, 2))[:,None,None,:]\n",
    "\n",
    "        # sum\n",
    "        x = h + g\n",
    "        x = nnx.relu(x)\n",
    "\n",
    "        return self.linear_out(x)\n",
    "\n",
    "class encode_layer(nnx.Module):\n",
    "    def __init__(self, in_dim, out_dim, rngs):\n",
    "        self.linear = nnx.Linear(in_dim, out_dim, rngs=rngs)\n",
    "\n",
    "    def __call__(self, x):\n",
    "        return self.linear(x)\n",
    "\n",
    "class DeepANO(nnx.Module):\n",
    "    def __init__(self, in_dim, width, out_dim, rngs):\n",
    "        self.encode_layer = encode_layer(in_dim, width, rngs)\n",
    "        self.ano1 = ANO_layer(width, rngs)\n",
    "        self.ano2 = ANO_layer(width, rngs)\n",
    "        self.ano3 = ANO_layer(width, rngs)\n",
    "        self.decode_layer = encode_layer(width, out_dim, rngs)\n",
    "\n",
    "    def __call__(self, x):\n",
    "        x = self.encode_layer(x)\n",
    "        x = self.ano1(x)\n",
    "        x = self.ano2(x)\n",
    "        x = self.ano3(x)\n",
    "        x = self.decode_layer(x)\n",
    "        return x"
   ]
  },
  {
   "cell_type": "code",
   "execution_count": 7,
   "id": "d15a0753",
   "metadata": {},
   "outputs": [],
   "source": [
    "@nnx.jit  # Automatic state management\n",
    "def train_step_base(model, optimizer, x, y):\n",
    "    def loss_fn(model):\n",
    "        y_pred = model(x)\n",
    "        y_diff = jnp.diff(y_pred, axis = 0)\n",
    "        return jnp.mean((y_pred - y) ** 2) + jnp.mean(y_diff**2)\n",
    "\n",
    "    loss, grads = nnx.value_and_grad(loss_fn)(model)\n",
    "    optimizer.update(grads)  # In place updates.\n",
    "\n",
    "    return loss\n",
    "\n",
    "@nnx.jit  # Automatic state management\n",
    "def train_step_quant(model, optimizer, x, y):\n",
    "    def loss_fn(model):\n",
    "        quant = 1 - 0.1\n",
    "        y_pred = model(x)\n",
    "        y_abs = jnp.abs(y)\n",
    "        resid = y_abs - y_pred\n",
    "        loss = jnp.max(jnp.concat([quant * resid, -(1-quant) * resid], axis = 3), axis = 3)\n",
    "        return jnp.mean(loss)\n",
    "    \n",
    "    loss, grads = nnx.value_and_grad(loss_fn)(model)\n",
    "    optimizer.update(grads)  # in-place updates\n",
    "\n",
    "    return loss"
   ]
  },
  {
   "cell_type": "code",
   "execution_count": null,
   "id": "31b9ae79",
   "metadata": {},
   "outputs": [],
   "source": []
  },
  {
   "cell_type": "code",
   "execution_count": 54,
   "id": "200eef82",
   "metadata": {},
   "outputs": [],
   "source": [
    "ntrain, nval, ntest = 1000, 1000, 1000\n",
    "n_points = 100\n",
    "n_samp = 2000\n",
    "n_sims = 10\n",
    "\n",
    "\n",
    "ano_width = 50\n",
    "epochs = 50\n",
    "nbat = 50\n",
    "n_eval = 1000\n",
    "\n",
    "alpha = 0.1\n",
    "delta = alpha\n",
    "gamma = 0.2\n",
    "nproj = 90\n",
    "\n",
    "alpha1 = 1 - jnp.ceil((1-alpha) * (gamma*nval + 1))/(gamma*nval)"
   ]
  },
  {
   "cell_type": "code",
   "execution_count": 55,
   "id": "dcf95b2c",
   "metadata": {},
   "outputs": [],
   "source": [
    "t = jnp.linspace(0, 1, n_points)\n",
    "s = jnp.linspace(-2*math.pi, 2*math.pi, ntrain+1)\n",
    "\n",
    "amp = jnp.sin(s)\n",
    "sd = jnp.sin(s)\n",
    "\n",
    "f = jnp.sin(2 * math.pi * t)\n",
    "f = 10 + amp[:,None] * f[None,:]"
   ]
  },
  {
   "cell_type": "code",
   "execution_count": 56,
   "id": "7319eb94",
   "metadata": {},
   "outputs": [
    {
     "data": {
      "application/vnd.jupyter.widget-view+json": {
       "model_id": "deffdd1f1d4d48f6a1be3a79ecc0fccc",
       "version_major": 2,
       "version_minor": 0
      },
      "text/plain": [
       "  0%|          | 0/10 [00:00<?, ?it/s]"
      ]
     },
     "metadata": {},
     "output_type": "display_data"
    },
    {
     "data": {
      "application/vnd.jupyter.widget-view+json": {
       "model_id": "",
       "version_major": 2,
       "version_minor": 0
      },
      "text/plain": [
       "  0%|          | 0/50 [00:00<?, ?it/s]"
      ]
     },
     "metadata": {},
     "output_type": "display_data"
    },
    {
     "data": {
      "application/vnd.jupyter.widget-view+json": {
       "model_id": "",
       "version_major": 2,
       "version_minor": 0
      },
      "text/plain": [
       "  0%|          | 0/50 [00:00<?, ?it/s]"
      ]
     },
     "metadata": {},
     "output_type": "display_data"
    },
    {
     "data": {
      "application/vnd.jupyter.widget-view+json": {
       "model_id": "",
       "version_major": 2,
       "version_minor": 0
      },
      "text/plain": [
       "  0%|          | 0/1000 [00:00<?, ?it/s]"
      ]
     },
     "metadata": {},
     "output_type": "display_data"
    },
    {
     "data": {
      "application/vnd.jupyter.widget-view+json": {
       "model_id": "",
       "version_major": 2,
       "version_minor": 0
      },
      "text/plain": [
       "  0%|          | 0/50 [00:00<?, ?it/s]"
      ]
     },
     "metadata": {},
     "output_type": "display_data"
    },
    {
     "data": {
      "application/vnd.jupyter.widget-view+json": {
       "model_id": "",
       "version_major": 2,
       "version_minor": 0
      },
      "text/plain": [
       "  0%|          | 0/50 [00:00<?, ?it/s]"
      ]
     },
     "metadata": {},
     "output_type": "display_data"
    },
    {
     "data": {
      "application/vnd.jupyter.widget-view+json": {
       "model_id": "",
       "version_major": 2,
       "version_minor": 0
      },
      "text/plain": [
       "  0%|          | 0/1000 [00:00<?, ?it/s]"
      ]
     },
     "metadata": {},
     "output_type": "display_data"
    },
    {
     "data": {
      "application/vnd.jupyter.widget-view+json": {
       "model_id": "",
       "version_major": 2,
       "version_minor": 0
      },
      "text/plain": [
       "  0%|          | 0/50 [00:00<?, ?it/s]"
      ]
     },
     "metadata": {},
     "output_type": "display_data"
    },
    {
     "data": {
      "application/vnd.jupyter.widget-view+json": {
       "model_id": "",
       "version_major": 2,
       "version_minor": 0
      },
      "text/plain": [
       "  0%|          | 0/50 [00:00<?, ?it/s]"
      ]
     },
     "metadata": {},
     "output_type": "display_data"
    },
    {
     "data": {
      "application/vnd.jupyter.widget-view+json": {
       "model_id": "",
       "version_major": 2,
       "version_minor": 0
      },
      "text/plain": [
       "  0%|          | 0/1000 [00:00<?, ?it/s]"
      ]
     },
     "metadata": {},
     "output_type": "display_data"
    },
    {
     "data": {
      "application/vnd.jupyter.widget-view+json": {
       "model_id": "",
       "version_major": 2,
       "version_minor": 0
      },
      "text/plain": [
       "  0%|          | 0/50 [00:00<?, ?it/s]"
      ]
     },
     "metadata": {},
     "output_type": "display_data"
    },
    {
     "data": {
      "application/vnd.jupyter.widget-view+json": {
       "model_id": "",
       "version_major": 2,
       "version_minor": 0
      },
      "text/plain": [
       "  0%|          | 0/50 [00:00<?, ?it/s]"
      ]
     },
     "metadata": {},
     "output_type": "display_data"
    },
    {
     "data": {
      "application/vnd.jupyter.widget-view+json": {
       "model_id": "",
       "version_major": 2,
       "version_minor": 0
      },
      "text/plain": [
       "  0%|          | 0/1000 [00:00<?, ?it/s]"
      ]
     },
     "metadata": {},
     "output_type": "display_data"
    },
    {
     "data": {
      "application/vnd.jupyter.widget-view+json": {
       "model_id": "",
       "version_major": 2,
       "version_minor": 0
      },
      "text/plain": [
       "  0%|          | 0/50 [00:00<?, ?it/s]"
      ]
     },
     "metadata": {},
     "output_type": "display_data"
    },
    {
     "data": {
      "application/vnd.jupyter.widget-view+json": {
       "model_id": "",
       "version_major": 2,
       "version_minor": 0
      },
      "text/plain": [
       "  0%|          | 0/50 [00:00<?, ?it/s]"
      ]
     },
     "metadata": {},
     "output_type": "display_data"
    },
    {
     "data": {
      "application/vnd.jupyter.widget-view+json": {
       "model_id": "",
       "version_major": 2,
       "version_minor": 0
      },
      "text/plain": [
       "  0%|          | 0/1000 [00:00<?, ?it/s]"
      ]
     },
     "metadata": {},
     "output_type": "display_data"
    },
    {
     "data": {
      "application/vnd.jupyter.widget-view+json": {
       "model_id": "",
       "version_major": 2,
       "version_minor": 0
      },
      "text/plain": [
       "  0%|          | 0/50 [00:00<?, ?it/s]"
      ]
     },
     "metadata": {},
     "output_type": "display_data"
    },
    {
     "data": {
      "application/vnd.jupyter.widget-view+json": {
       "model_id": "",
       "version_major": 2,
       "version_minor": 0
      },
      "text/plain": [
       "  0%|          | 0/50 [00:00<?, ?it/s]"
      ]
     },
     "metadata": {},
     "output_type": "display_data"
    },
    {
     "data": {
      "application/vnd.jupyter.widget-view+json": {
       "model_id": "",
       "version_major": 2,
       "version_minor": 0
      },
      "text/plain": [
       "  0%|          | 0/1000 [00:00<?, ?it/s]"
      ]
     },
     "metadata": {},
     "output_type": "display_data"
    },
    {
     "data": {
      "application/vnd.jupyter.widget-view+json": {
       "model_id": "",
       "version_major": 2,
       "version_minor": 0
      },
      "text/plain": [
       "  0%|          | 0/50 [00:00<?, ?it/s]"
      ]
     },
     "metadata": {},
     "output_type": "display_data"
    },
    {
     "data": {
      "application/vnd.jupyter.widget-view+json": {
       "model_id": "",
       "version_major": 2,
       "version_minor": 0
      },
      "text/plain": [
       "  0%|          | 0/50 [00:00<?, ?it/s]"
      ]
     },
     "metadata": {},
     "output_type": "display_data"
    },
    {
     "data": {
      "application/vnd.jupyter.widget-view+json": {
       "model_id": "",
       "version_major": 2,
       "version_minor": 0
      },
      "text/plain": [
       "  0%|          | 0/1000 [00:00<?, ?it/s]"
      ]
     },
     "metadata": {},
     "output_type": "display_data"
    },
    {
     "data": {
      "application/vnd.jupyter.widget-view+json": {
       "model_id": "",
       "version_major": 2,
       "version_minor": 0
      },
      "text/plain": [
       "  0%|          | 0/50 [00:00<?, ?it/s]"
      ]
     },
     "metadata": {},
     "output_type": "display_data"
    },
    {
     "data": {
      "application/vnd.jupyter.widget-view+json": {
       "model_id": "",
       "version_major": 2,
       "version_minor": 0
      },
      "text/plain": [
       "  0%|          | 0/50 [00:00<?, ?it/s]"
      ]
     },
     "metadata": {},
     "output_type": "display_data"
    },
    {
     "data": {
      "application/vnd.jupyter.widget-view+json": {
       "model_id": "",
       "version_major": 2,
       "version_minor": 0
      },
      "text/plain": [
       "  0%|          | 0/1000 [00:00<?, ?it/s]"
      ]
     },
     "metadata": {},
     "output_type": "display_data"
    },
    {
     "data": {
      "application/vnd.jupyter.widget-view+json": {
       "model_id": "",
       "version_major": 2,
       "version_minor": 0
      },
      "text/plain": [
       "  0%|          | 0/50 [00:00<?, ?it/s]"
      ]
     },
     "metadata": {},
     "output_type": "display_data"
    },
    {
     "data": {
      "application/vnd.jupyter.widget-view+json": {
       "model_id": "",
       "version_major": 2,
       "version_minor": 0
      },
      "text/plain": [
       "  0%|          | 0/50 [00:00<?, ?it/s]"
      ]
     },
     "metadata": {},
     "output_type": "display_data"
    },
    {
     "data": {
      "application/vnd.jupyter.widget-view+json": {
       "model_id": "",
       "version_major": 2,
       "version_minor": 0
      },
      "text/plain": [
       "  0%|          | 0/1000 [00:00<?, ?it/s]"
      ]
     },
     "metadata": {},
     "output_type": "display_data"
    },
    {
     "data": {
      "application/vnd.jupyter.widget-view+json": {
       "model_id": "",
       "version_major": 2,
       "version_minor": 0
      },
      "text/plain": [
       "  0%|          | 0/50 [00:00<?, ?it/s]"
      ]
     },
     "metadata": {},
     "output_type": "display_data"
    },
    {
     "data": {
      "application/vnd.jupyter.widget-view+json": {
       "model_id": "",
       "version_major": 2,
       "version_minor": 0
      },
      "text/plain": [
       "  0%|          | 0/50 [00:00<?, ?it/s]"
      ]
     },
     "metadata": {},
     "output_type": "display_data"
    },
    {
     "data": {
      "application/vnd.jupyter.widget-view+json": {
       "model_id": "",
       "version_major": 2,
       "version_minor": 0
      },
      "text/plain": [
       "  0%|          | 0/1000 [00:00<?, ?it/s]"
      ]
     },
     "metadata": {},
     "output_type": "display_data"
    }
   ],
   "source": [
    "metrics = []\n",
    "\n",
    "for s in trange(n_sims):\n",
    "    \n",
    "    rng0 = s\n",
    "    key1 = random.PRNGKey(rng0 + 1)\n",
    "    key2 = random.PRNGKey(rng0 + 2)\n",
    "    key3 = random.PRNGKey(rng0 + 3)\n",
    "\n",
    "    xtrain = f + 0.25 * (1.15 + sd)[:,None] * random.normal(key1, f.shape)\n",
    "    xtrain, ytrain = split_data(xtrain, 1, 1)\n",
    "    xtrain = xtrain[:,:,:,None]\n",
    "    ytrain = ytrain[:,:,:,None]\n",
    "\n",
    "    xval = f + 0.25 * (1.15 + sd)[:,None] * random.normal(key2, f.shape)\n",
    "    xval, yval = split_data(xval, 1, 1)\n",
    "    xval = xval[:,:,:,None]\n",
    "    yval = yval[:,:,:,None]\n",
    "\n",
    "    xtest = f + 0.25 * (1.15 + sd)[:,None] * random.normal(key3, f.shape)\n",
    "    xtest, ytest = split_data(xtest, 1, 1)\n",
    "    xtest = xtest[:,:,:,None]\n",
    "    ytest = ytest[:,:,:,None]\n",
    "\n",
    "\n",
    "    model = DeepANO(1, ano_width, 1, nnx.Rngs(s))\n",
    "    quant = DeepANO(1, ano_width, 1, nnx.Rngs(s))\n",
    "    optim_model = nnx.Optimizer(model, optax.adam(1e-3))\n",
    "    optim_quant = nnx.Optimizer(quant, optax.adam(1e-3))  \n",
    "\n",
    "    for _ in trange(epochs, leave = False):\n",
    "        for i in range(ntrain//nbat):\n",
    "            xi = xtrain[i*nbat:(i+1)*nbat]\n",
    "            yi = ytrain[i*nbat:(i+1)*nbat]\n",
    "            loss = train_step_base(model, optim_model, xi, yi)\n",
    "            \n",
    "\n",
    "    for _ in trange(epochs, leave = False):\n",
    "        for i in range(len(f)//nbat):\n",
    "            xi = xtrain[i*nbat:(i+1)*nbat]\n",
    "            yi = ytrain[i*nbat:(i+1)*nbat]\n",
    "            loss = train_step_quant(quant, optim_quant, xi, yi)\n",
    "            \n",
    "    yval_hat = model(xval)\n",
    "    yval_quant = quant(xval)\n",
    "    ytest_hat = model(xtest)\n",
    "    ytest_quant = quant(xtest)\n",
    "\n",
    "    ## estimate EIGEN\n",
    "    yval = yval.reshape(nval, -1)\n",
    "    yval_hat = yval_hat.reshape(nval, -1)\n",
    "    pca_state = lsci.phi_state(yval, yval_hat, nproj)\n",
    "    \n",
    "    # UQNO lambda estimate\n",
    "    yval_quant = yval.reshape(nval, -1)\n",
    "    ytest_quant = ytest_quant.reshape(ntest, -1)\n",
    "\n",
    "    tau = 1.01 * jnp.sqrt(-jnp.log(delta)/(2*n_points))\n",
    "    sg = jnp.abs(yval - yval_hat) / yval_quant\n",
    "    sg = jnp.quantile(sg, 1-alpha+tau, axis = (1))\n",
    "\n",
    "    adj_alpha = 1 - jnp.ceil((nval + 1) * (delta - jnp.exp(-2*n_points*tau**2)))/nval\n",
    "    lam_uqno = jnp.quantile(sg, adj_alpha)\n",
    "    \n",
    "    lsc1_rc = []\n",
    "    conf_rc = []\n",
    "    supr_rc = []\n",
    "    uqn1_rc = []\n",
    "    lsc1_width = []\n",
    "    conf_width = []\n",
    "    supr_width = []\n",
    "    uqn1_width = []\n",
    "\n",
    "    # compute static / deterministic bands\n",
    "    rval = (yval - yval_hat).squeeze()\n",
    "    rtest = (ytest - ytest_hat).squeeze()\n",
    "    conf_lower, conf_upper = conf.conf_band(rval, pca_state, alpha)\n",
    "    supr_lower, supr_upper = supr.supr_band(rval, alpha)\n",
    "    uqn1_lower, uqn1_upper = uqno.uqno_band(ytest_quant, lam_uqno)\n",
    "\n",
    "    for i in trange(0, n_eval, leave = False):\n",
    "\n",
    "        # LSCI\n",
    "        lsc1_lower, lsc1_upper = lsci.lsci(yval - yval_hat, xval, xtest[i], pca_state, alpha1, gamma1, n_samp)\n",
    "        lsc1_rc.append(risk(lsc1_lower, lsc1_upper, rtest[i]))\n",
    "        lsc1_width.append(jnp.median(lsc1_upper - lsc1_lower))\n",
    "\n",
    "        # CONF \n",
    "        conf_rc.append(risk(conf_lower, conf_upper, rtest[i]))\n",
    "        conf_width.append(jnp.mean(conf_upper - conf_lower))\n",
    "\n",
    "        # SUPR\n",
    "        supr_rc.append(risk(supr_lower, supr_upper, rtest[i]))\n",
    "        supr_width.append(jnp.mean(supr_upper - supr_lower))\n",
    "\n",
    "        # SUPR\n",
    "        uqn1_rc.append(risk(uqn1_lower[i], uqn1_upper[i], rtest[i]))\n",
    "        uqn1_width.append(jnp.mean(uqn1_upper[i] - uqn1_lower[i]))\n",
    "\n",
    "\n",
    "    conf_rc = np.array(conf_rc)\n",
    "    supr_rc = np.array(supr_rc)\n",
    "    uqn1_rc = np.array(uqn1_rc)\n",
    "    lsc1_rc = np.array(lsc1_rc)\n",
    "\n",
    "    conf_width = np.array(conf_width)\n",
    "    supr_width = np.array(supr_width)\n",
    "    uqn1_width = np.array(uqn1_width)\n",
    "    lsc1_width = np.array(lsc1_width)\n",
    "    \n",
    "    noise_sd = np.std(rtest, axis = 1)[:conf_rc.shape[0]]\n",
    "\n",
    "\n",
    "    risk_control = np.mean(conf_rc), \\\n",
    "                   np.mean(supr_rc), \\\n",
    "                   np.mean(uqn1_rc), \\\n",
    "                   np.mean(lsc1_rc)\n",
    "\n",
    "    width = np.mean(conf_width), \\\n",
    "            np.mean(supr_width), \\\n",
    "            np.mean(uqn1_width), \\\n",
    "            np.mean(lsc1_width)\n",
    "\n",
    "    risk_cor = np.corrcoef([noise_sd, conf_rc])[0,1], \\\n",
    "               np.corrcoef([noise_sd, supr_rc])[0,1], \\\n",
    "               np.corrcoef([noise_sd, uqn1_rc])[0,1], \\\n",
    "               np.corrcoef([noise_sd, lsc1_rc])[0,1]\n",
    "\n",
    "    width_cor = 0, \\\n",
    "                0, \\\n",
    "                np.corrcoef([noise_sd, uqn1_width])[0,1], \\\n",
    "                np.corrcoef([noise_sd, lsc1_width])[0,1]\n",
    "\n",
    "    metrics.append(np.array([risk_control, risk_cor, width, width_cor]).T)"
   ]
  },
  {
   "cell_type": "code",
   "execution_count": 65,
   "id": "bbe4d774",
   "metadata": {},
   "outputs": [
    {
     "data": {
      "text/plain": [
       "array([[ 0.99627295, -0.65859826,  2.95463824,  0.        ],\n",
       "       [ 0.99869598, -0.51223943,  3.78698554,  0.        ],\n",
       "       [ 0.999998  ,         nan,  6.05731649,  0.29250552],\n",
       "       [ 0.99546993,  0.02189394,  1.9045119 ,  0.79359517]])"
      ]
     },
     "execution_count": 65,
     "metadata": {},
     "output_type": "execute_result"
    }
   ],
   "source": [
    "metric_means"
   ]
  },
  {
   "cell_type": "code",
   "execution_count": 97,
   "id": "bb61c0b1",
   "metadata": {},
   "outputs": [
    {
     "name": "stdout",
     "output_type": "stream",
     "text": [
      "0.996 (0.000) & -0.659 (0.023) & 2.955 (0.026) & 0.000 (0.000) \\\\\n",
      "0.999 (0.000) & -0.512 (0.039) & 3.787 (0.050) & 0.000 (0.000) \\\\\n",
      "1.000 (0.000) & -0.008 (0.023) & 6.057 (0.223) & 0.293 (0.152) \\\\\n",
      "0.995 (0.000) & 0.022 (0.036) & 1.905 (0.012) & 0.794 (0.012) \\\\\n"
     ]
    }
   ],
   "source": [
    "metrics2 = np.array(metrics)\n",
    "metrics2.shape\n",
    "\n",
    "metric_means = np.mean(np.nan_to_num(metrics2), axis = 0)\n",
    "metric_std = np.std(np.nan_to_num(metrics2), axis = 0)\n",
    "\n",
    "for i in range(4):\n",
    "    for j in range(4):\n",
    "        val = f'{np.round(metric_means[i,j], 3):.3f} ({np.round(metric_std[i,j], 3):.3f})'\n",
    "        if j < 3:\n",
    "            val += ' & '\n",
    "            print(val, end = '')\n",
    "        else:\n",
    "            val += ' \\\\\\\\'\n",
    "            print(val)"
   ]
  },
  {
   "cell_type": "code",
   "execution_count": 102,
   "id": "ebfc467c",
   "metadata": {},
   "outputs": [
    {
     "data": {
      "text/plain": [
       "array([[ 0.996, -0.659,  2.955,  0.   ],\n",
       "       [ 0.999, -0.512,  3.787,  0.   ],\n",
       "       [ 1.   , -0.008,  6.057,  0.293],\n",
       "       [ 0.995,  0.022,  1.905,  0.794]])"
      ]
     },
     "execution_count": 102,
     "metadata": {},
     "output_type": "execute_result"
    }
   ],
   "source": [
    "np.round(np.mean(np.nan_to_num(metrics2), axis = 0), 3)"
   ]
  },
  {
   "cell_type": "code",
   "execution_count": null,
   "id": "32ffe600",
   "metadata": {},
   "outputs": [],
   "source": []
  }
 ],
 "metadata": {
  "kernelspec": {
   "display_name": "Python 3 (ipykernel)",
   "language": "python",
   "name": "python3"
  },
  "language_info": {
   "codemirror_mode": {
    "name": "ipython",
    "version": 3
   },
   "file_extension": ".py",
   "mimetype": "text/x-python",
   "name": "python",
   "nbconvert_exporter": "python",
   "pygments_lexer": "ipython3",
   "version": "3.10.8"
  }
 },
 "nbformat": 4,
 "nbformat_minor": 5
}
