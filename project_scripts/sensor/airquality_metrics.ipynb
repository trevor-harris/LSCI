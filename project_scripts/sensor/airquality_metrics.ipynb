{
 "cells": [
  {
   "cell_type": "code",
   "execution_count": 1,
   "id": "9292af41-5cf1-4227-a88e-2efbd2899561",
   "metadata": {},
   "outputs": [],
   "source": [
    "import math\n",
    "import numpy as np\n",
    "import matplotlib\n",
    "import matplotlib.pyplot as plt\n",
    "\n",
    "import jax\n",
    "import jax.numpy as jnp\n",
    "import jax.scipy.stats as stats\n",
    "from jax import jacfwd, jacrev\n",
    "from jax import vmap, grad, jit, random\n",
    "from jax.tree_util import tree_map, tree_flatten, tree_unflatten, tree_leaves\n",
    "\n",
    "from flax import nnx\n",
    "import optax\n",
    "import pcax\n",
    "\n",
    "from tqdm.notebook import tqdm\n",
    "from tqdm.notebook import trange\n",
    "\n",
    "import torch\n",
    "import torch.nn as nn\n",
    "from torch.utils.data import DataLoader, TensorDataset\n",
    "device = 'cuda' if torch.cuda.is_available() else 'cpu'\n",
    "device = 'cpu'\n",
    "\n",
    "import os\n",
    "os.chdir('../methods')\n",
    "import lsci, supr, conf, uqno, prob_don, quant_don, gaus\n",
    "os.chdir('../gpsims')\n",
    "\n",
    "os.chdir('../models_and_metrics')\n",
    "from models import *\n",
    "from metrics import * \n",
    "from utility import *\n",
    "os.chdir('../gpsims')\n",
    "\n",
    "import neuralop as op\n",
    "from neuralop.models import FNO, LocalFNO, UNO, TFNO\n",
    "import jaxwt as jwt\n",
    "import pcax\n",
    "from jax.scipy.stats import norm, laplace"
   ]
  },
  {
   "cell_type": "code",
   "execution_count": 2,
   "id": "df6afc78-ce99-4fbe-8f5a-67bfadd6db17",
   "metadata": {},
   "outputs": [],
   "source": [
    "import pandas as pd\n",
    "air = pd.read_csv('../data/PRSA_Data_Tiantan_20130301-20170228.csv')\n",
    "air[\"date\"] = air[\"year\"].astype(str) + '_' + air[\"month\"].astype(str) + '_' + air[\"day\"].astype(str)"
   ]
  },
  {
   "cell_type": "code",
   "execution_count": 3,
   "id": "77676686-c867-488f-8edb-22d9d3d74ac5",
   "metadata": {},
   "outputs": [
    {
     "data": {
      "application/vnd.jupyter.widget-view+json": {
       "model_id": "c85043d8d6f54a8c9de466e491fd9b71",
       "version_major": 2,
       "version_minor": 0
      },
      "text/plain": [
       "  0%|          | 0/3 [00:00<?, ?it/s]"
      ]
     },
     "metadata": {},
     "output_type": "display_data"
    }
   ],
   "source": [
    "air_curves = np.array(air.groupby('date')['PM2.5'].apply(list).reset_index())\n",
    "dts = air_curves[:,0]\n",
    "fns = air_curves[:,1]\n",
    "\n",
    "# transform\n",
    "fns = [np.array(f) for f in fns]\n",
    "fns = [jax.image.resize(f, 24, 'bicubic') for f in fns]\n",
    "fns = np.array(fns)\n",
    "\n",
    "# backfill missing\n",
    "missing = jnp.sum(jnp.isnan(fns), axis = 1) > 0\n",
    "for i in range(fns.shape[0]):\n",
    "    if missing[i]:\n",
    "        fns[i] = fns[i-1]\n",
    "\n",
    "y = fns\n",
    "# y = np.log(y[:,None,:,None])\n",
    "\n",
    "x = []\n",
    "variables = ['TEMP', 'PRES', 'DEWP']\n",
    "for k in trange(len(variables)):\n",
    "    air_curves = np.array(air.groupby('date')[variables[k]].apply(list).reset_index())\n",
    "    dts = air_curves[:,0]\n",
    "    fns = air_curves[:,1]\n",
    "    \n",
    "    # transform\n",
    "    fns = [np.array(f) for f in fns]\n",
    "    fns = [jax.image.resize(f, 24, 'bicubic') for f in fns]\n",
    "    fns = np.array(fns)\n",
    "    \n",
    "    # backfill missing\n",
    "    missing = jnp.sum(jnp.isnan(fns), axis = 1) > 0\n",
    "    for i in range(fns.shape[0]):\n",
    "        if missing[i]:\n",
    "            fns[i] = fns[i-1]\n",
    "\n",
    "    x.append(fns)\n",
    "    \n",
    "x = np.array(x)\n",
    "x = np.moveaxis(x, 0, 2)[:,None]\n",
    "\n",
    "x_mu = np.mean(x, axis = (0,2))[None,:,None]\n",
    "x_sd = np.std(x, axis = (0,2))[None,:,None]\n",
    "x = (x - x_mu)/x_sd\n",
    "\n",
    "y = y / jnp.max(y)"
   ]
  },
  {
   "cell_type": "code",
   "execution_count": 4,
   "id": "4e0a5683-f4b7-47b4-9073-9e70decfe032",
   "metadata": {},
   "outputs": [],
   "source": [
    "# plt.plot(y[0:10].T)\n",
    "# plt.show()"
   ]
  },
  {
   "cell_type": "code",
   "execution_count": 5,
   "id": "67f68fc8-903a-4796-ba81-ec8f2bf824b6",
   "metadata": {},
   "outputs": [],
   "source": [
    "ntrain, nval = 600, 1200\n",
    "\n",
    "xtrain = x[:ntrain].reshape(-1, 3, 24)\n",
    "ytrain = y[:ntrain].reshape(-1, 1, 24)\n",
    "\n",
    "xval = x[ntrain:nval].reshape(-1, 3, 24)\n",
    "yval = y[ntrain:nval].reshape(-1, 1, 24)\n",
    "\n",
    "xtest = x[nval:].reshape(-1, 3, 24)\n",
    "ytest = y[nval:].reshape(-1, 1, 24)\n",
    "\n",
    "train_data = TensorDataset(torch.Tensor(np.array(xtrain)), torch.Tensor(np.array(ytrain)))\n",
    "train_loader = DataLoader(train_data, batch_size = 30, shuffle = True)"
   ]
  },
  {
   "cell_type": "code",
   "execution_count": 6,
   "id": "c63faf75-0e35-4a22-9a3c-d0a4ee079f12",
   "metadata": {},
   "outputs": [
    {
     "data": {
      "application/vnd.jupyter.widget-view+json": {
       "model_id": "7ecb21221d804f79bd65c5214de070be",
       "version_major": 2,
       "version_minor": 0
      },
      "text/plain": [
       "  0%|          | 0/20 [00:00<?, ?it/s]"
      ]
     },
     "metadata": {},
     "output_type": "display_data"
    },
    {
     "data": {
      "application/vnd.jupyter.widget-view+json": {
       "model_id": "2b59bcdf326d4238bf4e8c73ff7ac127",
       "version_major": 2,
       "version_minor": 0
      },
      "text/plain": [
       "  0%|          | 0/20 [00:00<?, ?it/s]"
      ]
     },
     "metadata": {},
     "output_type": "display_data"
    },
    {
     "data": {
      "application/vnd.jupyter.widget-view+json": {
       "model_id": "550f87895f3e47d3ac78742186f7e812",
       "version_major": 2,
       "version_minor": 0
      },
      "text/plain": [
       "  0%|          | 0/20 [00:00<?, ?it/s]"
      ]
     },
     "metadata": {},
     "output_type": "display_data"
    },
    {
     "data": {
      "application/vnd.jupyter.widget-view+json": {
       "model_id": "049d9d22f0ac4193ae41d29d20a2aaee",
       "version_major": 2,
       "version_minor": 0
      },
      "text/plain": [
       "  0%|          | 0/20 [00:00<?, ?it/s]"
      ]
     },
     "metadata": {},
     "output_type": "display_data"
    },
    {
     "data": {
      "application/vnd.jupyter.widget-view+json": {
       "model_id": "95c05e366b6b468fb3ba270466413f60",
       "version_major": 2,
       "version_minor": 0
      },
      "text/plain": [
       "  0%|          | 0/20 [00:00<?, ?it/s]"
      ]
     },
     "metadata": {},
     "output_type": "display_data"
    },
    {
     "data": {
      "application/vnd.jupyter.widget-view+json": {
       "model_id": "84d0dec8cc6d467d8289ba521cb33e72",
       "version_major": 2,
       "version_minor": 0
      },
      "text/plain": [
       "  0%|          | 0/20 [00:00<?, ?it/s]"
      ]
     },
     "metadata": {},
     "output_type": "display_data"
    },
    {
     "data": {
      "application/vnd.jupyter.widget-view+json": {
       "model_id": "4a90fc2ebccd404ab2b28d61cd20624c",
       "version_major": 2,
       "version_minor": 0
      },
      "text/plain": [
       "  0%|          | 0/20 [00:00<?, ?it/s]"
      ]
     },
     "metadata": {},
     "output_type": "display_data"
    },
    {
     "data": {
      "application/vnd.jupyter.widget-view+json": {
       "model_id": "37eaa5e96f6f4e9893ed185a4b8d759c",
       "version_major": 2,
       "version_minor": 0
      },
      "text/plain": [
       "  0%|          | 0/20 [00:00<?, ?it/s]"
      ]
     },
     "metadata": {},
     "output_type": "display_data"
    },
    {
     "data": {
      "application/vnd.jupyter.widget-view+json": {
       "model_id": "20708807a6b640488a3fd546f164ff19",
       "version_major": 2,
       "version_minor": 0
      },
      "text/plain": [
       "  0%|          | 0/20 [00:00<?, ?it/s]"
      ]
     },
     "metadata": {},
     "output_type": "display_data"
    },
    {
     "data": {
      "application/vnd.jupyter.widget-view+json": {
       "model_id": "3b2bf1536bf2499697257432118d0b93",
       "version_major": 2,
       "version_minor": 0
      },
      "text/plain": [
       "  0%|          | 0/20 [00:00<?, ?it/s]"
      ]
     },
     "metadata": {},
     "output_type": "display_data"
    },
    {
     "data": {
      "application/vnd.jupyter.widget-view+json": {
       "model_id": "e1fe9af8ffa441f18c50d424d67abe03",
       "version_major": 2,
       "version_minor": 0
      },
      "text/plain": [
       "  0%|          | 0/20 [00:00<?, ?it/s]"
      ]
     },
     "metadata": {},
     "output_type": "display_data"
    },
    {
     "data": {
      "application/vnd.jupyter.widget-view+json": {
       "model_id": "8ab795e8f2ff4df6815705922e9e4574",
       "version_major": 2,
       "version_minor": 0
      },
      "text/plain": [
       "  0%|          | 0/20 [00:00<?, ?it/s]"
      ]
     },
     "metadata": {},
     "output_type": "display_data"
    },
    {
     "data": {
      "application/vnd.jupyter.widget-view+json": {
       "model_id": "d11b7f718e83405fa37e03acf1803185",
       "version_major": 2,
       "version_minor": 0
      },
      "text/plain": [
       "  0%|          | 0/20 [00:00<?, ?it/s]"
      ]
     },
     "metadata": {},
     "output_type": "display_data"
    },
    {
     "data": {
      "application/vnd.jupyter.widget-view+json": {
       "model_id": "e8fb754e0515404b916c627dc98d684a",
       "version_major": 2,
       "version_minor": 0
      },
      "text/plain": [
       "  0%|          | 0/20 [00:00<?, ?it/s]"
      ]
     },
     "metadata": {},
     "output_type": "display_data"
    },
    {
     "data": {
      "application/vnd.jupyter.widget-view+json": {
       "model_id": "989e4d34ee3a4cfeb07c2e701eb3705c",
       "version_major": 2,
       "version_minor": 0
      },
      "text/plain": [
       "  0%|          | 0/20 [00:00<?, ?it/s]"
      ]
     },
     "metadata": {},
     "output_type": "display_data"
    },
    {
     "data": {
      "application/vnd.jupyter.widget-view+json": {
       "model_id": "9d43fb28582042108639db77f4d64db2",
       "version_major": 2,
       "version_minor": 0
      },
      "text/plain": [
       "  0%|          | 0/20 [00:00<?, ?it/s]"
      ]
     },
     "metadata": {},
     "output_type": "display_data"
    },
    {
     "data": {
      "application/vnd.jupyter.widget-view+json": {
       "model_id": "4ec98b687b704259a0b0cf22848d5629",
       "version_major": 2,
       "version_minor": 0
      },
      "text/plain": [
       "  0%|          | 0/20 [00:00<?, ?it/s]"
      ]
     },
     "metadata": {},
     "output_type": "display_data"
    },
    {
     "data": {
      "application/vnd.jupyter.widget-view+json": {
       "model_id": "85d1f35ad64d4d9dbbaa10531bff3170",
       "version_major": 2,
       "version_minor": 0
      },
      "text/plain": [
       "  0%|          | 0/20 [00:00<?, ?it/s]"
      ]
     },
     "metadata": {},
     "output_type": "display_data"
    },
    {
     "data": {
      "application/vnd.jupyter.widget-view+json": {
       "model_id": "1f52be32767c4ccd86a18910d35073e8",
       "version_major": 2,
       "version_minor": 0
      },
      "text/plain": [
       "  0%|          | 0/20 [00:00<?, ?it/s]"
      ]
     },
     "metadata": {},
     "output_type": "display_data"
    },
    {
     "data": {
      "application/vnd.jupyter.widget-view+json": {
       "model_id": "13ff84da869342fdaba0e0f1a5d69020",
       "version_major": 2,
       "version_minor": 0
      },
      "text/plain": [
       "  0%|          | 0/20 [00:00<?, ?it/s]"
      ]
     },
     "metadata": {},
     "output_type": "display_data"
    },
    {
     "data": {
      "application/vnd.jupyter.widget-view+json": {
       "model_id": "2a7c0ac611de4fed9a8706653103484b",
       "version_major": 2,
       "version_minor": 0
      },
      "text/plain": [
       "  0%|          | 0/20 [00:00<?, ?it/s]"
      ]
     },
     "metadata": {},
     "output_type": "display_data"
    }
   ],
   "source": [
    "loss_fn = nn.MSELoss()\n",
    "\n",
    "fno = FNO(n_modes=(16,), \n",
    "             hidden_channels=64, \n",
    "             in_channels=3, \n",
    "             out_channels=1)\n",
    "optim_fno = torch.optim.Adam(fno.parameters(), lr = 1e-3)\n",
    "\n",
    "epochs = 20\n",
    "for _ in trange(epochs):\n",
    "    for xt, yt in tqdm(train_loader, leave = False):  \n",
    "        yhat = fno(xt)\n",
    "        loss = loss_fn(yhat, yt)\n",
    "        loss.backward()\n",
    "        optim_fno.step()\n",
    "        optim_fno.zero_grad()\n",
    "        \n",
    "with torch.no_grad():\n",
    "    yval_fno = torch2jax(fno(jax2torch(xval)).squeeze())"
   ]
  },
  {
   "cell_type": "code",
   "execution_count": 7,
   "id": "5173a6db-4c36-46f8-81c4-ca62e6fe9d5c",
   "metadata": {},
   "outputs": [
    {
     "data": {
      "application/vnd.jupyter.widget-view+json": {
       "model_id": "63c0d95f0e3e4b5f80e5b7169f0dfe05",
       "version_major": 2,
       "version_minor": 0
      },
      "text/plain": [
       "  0%|          | 0/20 [00:00<?, ?it/s]"
      ]
     },
     "metadata": {},
     "output_type": "display_data"
    },
    {
     "data": {
      "application/vnd.jupyter.widget-view+json": {
       "model_id": "67c8b19ecd7c4c7fa45def3d76e80d5d",
       "version_major": 2,
       "version_minor": 0
      },
      "text/plain": [
       "  0%|          | 0/20 [00:00<?, ?it/s]"
      ]
     },
     "metadata": {},
     "output_type": "display_data"
    },
    {
     "data": {
      "application/vnd.jupyter.widget-view+json": {
       "model_id": "7d1e8b90e4dd4555be22d014f9bb382c",
       "version_major": 2,
       "version_minor": 0
      },
      "text/plain": [
       "  0%|          | 0/20 [00:00<?, ?it/s]"
      ]
     },
     "metadata": {},
     "output_type": "display_data"
    },
    {
     "data": {
      "application/vnd.jupyter.widget-view+json": {
       "model_id": "123745b1585e4c20a8baa7ab05f8928d",
       "version_major": 2,
       "version_minor": 0
      },
      "text/plain": [
       "  0%|          | 0/20 [00:00<?, ?it/s]"
      ]
     },
     "metadata": {},
     "output_type": "display_data"
    },
    {
     "data": {
      "application/vnd.jupyter.widget-view+json": {
       "model_id": "69920b825c494c35b11d3bf530cc9c21",
       "version_major": 2,
       "version_minor": 0
      },
      "text/plain": [
       "  0%|          | 0/20 [00:00<?, ?it/s]"
      ]
     },
     "metadata": {},
     "output_type": "display_data"
    },
    {
     "data": {
      "application/vnd.jupyter.widget-view+json": {
       "model_id": "a7f46978e3884efa8ba359bdb3800c0c",
       "version_major": 2,
       "version_minor": 0
      },
      "text/plain": [
       "  0%|          | 0/20 [00:00<?, ?it/s]"
      ]
     },
     "metadata": {},
     "output_type": "display_data"
    },
    {
     "data": {
      "application/vnd.jupyter.widget-view+json": {
       "model_id": "a0282ba4c1554906a47b79ccfa8675cc",
       "version_major": 2,
       "version_minor": 0
      },
      "text/plain": [
       "  0%|          | 0/20 [00:00<?, ?it/s]"
      ]
     },
     "metadata": {},
     "output_type": "display_data"
    },
    {
     "data": {
      "application/vnd.jupyter.widget-view+json": {
       "model_id": "873b425636b24a819b2c74f84f6591bd",
       "version_major": 2,
       "version_minor": 0
      },
      "text/plain": [
       "  0%|          | 0/20 [00:00<?, ?it/s]"
      ]
     },
     "metadata": {},
     "output_type": "display_data"
    },
    {
     "data": {
      "application/vnd.jupyter.widget-view+json": {
       "model_id": "a85808e6dd9347da809a2faebebe41c0",
       "version_major": 2,
       "version_minor": 0
      },
      "text/plain": [
       "  0%|          | 0/20 [00:00<?, ?it/s]"
      ]
     },
     "metadata": {},
     "output_type": "display_data"
    },
    {
     "data": {
      "application/vnd.jupyter.widget-view+json": {
       "model_id": "81b05d9072224343abc3186796772a83",
       "version_major": 2,
       "version_minor": 0
      },
      "text/plain": [
       "  0%|          | 0/20 [00:00<?, ?it/s]"
      ]
     },
     "metadata": {},
     "output_type": "display_data"
    },
    {
     "data": {
      "application/vnd.jupyter.widget-view+json": {
       "model_id": "f032d40716854643afc2bfce5ac3e63f",
       "version_major": 2,
       "version_minor": 0
      },
      "text/plain": [
       "  0%|          | 0/20 [00:00<?, ?it/s]"
      ]
     },
     "metadata": {},
     "output_type": "display_data"
    },
    {
     "data": {
      "application/vnd.jupyter.widget-view+json": {
       "model_id": "f0d6e8328dd949538f737ad653d50178",
       "version_major": 2,
       "version_minor": 0
      },
      "text/plain": [
       "  0%|          | 0/20 [00:00<?, ?it/s]"
      ]
     },
     "metadata": {},
     "output_type": "display_data"
    },
    {
     "data": {
      "application/vnd.jupyter.widget-view+json": {
       "model_id": "019d6f4b83fa4da1a7681dc7e5691ce5",
       "version_major": 2,
       "version_minor": 0
      },
      "text/plain": [
       "  0%|          | 0/20 [00:00<?, ?it/s]"
      ]
     },
     "metadata": {},
     "output_type": "display_data"
    },
    {
     "data": {
      "application/vnd.jupyter.widget-view+json": {
       "model_id": "b78b07455c2d433e939427d816bf6232",
       "version_major": 2,
       "version_minor": 0
      },
      "text/plain": [
       "  0%|          | 0/20 [00:00<?, ?it/s]"
      ]
     },
     "metadata": {},
     "output_type": "display_data"
    },
    {
     "data": {
      "application/vnd.jupyter.widget-view+json": {
       "model_id": "1a472459e7f442d18d712f5e952b542a",
       "version_major": 2,
       "version_minor": 0
      },
      "text/plain": [
       "  0%|          | 0/20 [00:00<?, ?it/s]"
      ]
     },
     "metadata": {},
     "output_type": "display_data"
    },
    {
     "data": {
      "application/vnd.jupyter.widget-view+json": {
       "model_id": "d852234b68854f70922efd745c31476b",
       "version_major": 2,
       "version_minor": 0
      },
      "text/plain": [
       "  0%|          | 0/20 [00:00<?, ?it/s]"
      ]
     },
     "metadata": {},
     "output_type": "display_data"
    },
    {
     "data": {
      "application/vnd.jupyter.widget-view+json": {
       "model_id": "c9d83976fcb145509a2f748befc68585",
       "version_major": 2,
       "version_minor": 0
      },
      "text/plain": [
       "  0%|          | 0/20 [00:00<?, ?it/s]"
      ]
     },
     "metadata": {},
     "output_type": "display_data"
    },
    {
     "data": {
      "application/vnd.jupyter.widget-view+json": {
       "model_id": "dd300efdda574618a70fb3920af5e2d9",
       "version_major": 2,
       "version_minor": 0
      },
      "text/plain": [
       "  0%|          | 0/20 [00:00<?, ?it/s]"
      ]
     },
     "metadata": {},
     "output_type": "display_data"
    },
    {
     "data": {
      "application/vnd.jupyter.widget-view+json": {
       "model_id": "de8e978aa59945d489f10f7253fe1f84",
       "version_major": 2,
       "version_minor": 0
      },
      "text/plain": [
       "  0%|          | 0/20 [00:00<?, ?it/s]"
      ]
     },
     "metadata": {},
     "output_type": "display_data"
    },
    {
     "data": {
      "application/vnd.jupyter.widget-view+json": {
       "model_id": "6b22c7fecd654e699328e0e2b8b33230",
       "version_major": 2,
       "version_minor": 0
      },
      "text/plain": [
       "  0%|          | 0/20 [00:00<?, ?it/s]"
      ]
     },
     "metadata": {},
     "output_type": "display_data"
    },
    {
     "data": {
      "application/vnd.jupyter.widget-view+json": {
       "model_id": "52961d9015fc4ab4840774c429816b1f",
       "version_major": 2,
       "version_minor": 0
      },
      "text/plain": [
       "  0%|          | 0/20 [00:00<?, ?it/s]"
      ]
     },
     "metadata": {},
     "output_type": "display_data"
    }
   ],
   "source": [
    "loss_fn = QuantileLoss(0.9)\n",
    "\n",
    "fno_quant = FNO(n_modes=(16,), \n",
    "             hidden_channels=64, \n",
    "             in_channels=3, \n",
    "             out_channels=1)\n",
    "optim_fno = torch.optim.Adam(fno_quant.parameters(), lr = 1e-3)\n",
    "\n",
    "for _ in trange(epochs):\n",
    "    for xt, yt in tqdm(train_loader, leave = False):  \n",
    "        yhat = fno_quant(xt)\n",
    "        loss = loss_fn(yhat, yt)\n",
    "        loss.backward()\n",
    "        optim_fno.step()\n",
    "        optim_fno.zero_grad()\n",
    "        \n",
    "with torch.no_grad():\n",
    "    yval_quant = torch2jax(fno_quant(jax2torch(xval)).squeeze())"
   ]
  },
  {
   "cell_type": "code",
   "execution_count": 8,
   "id": "0d3c61d9-b74c-4d4e-9e10-2d61e6344474",
   "metadata": {},
   "outputs": [
    {
     "data": {
      "application/vnd.jupyter.widget-view+json": {
       "model_id": "08f3e1e52a76402480c8e2f88c06ad52",
       "version_major": 2,
       "version_minor": 0
      },
      "text/plain": [
       "  0%|          | 0/20 [00:00<?, ?it/s]"
      ]
     },
     "metadata": {},
     "output_type": "display_data"
    },
    {
     "data": {
      "application/vnd.jupyter.widget-view+json": {
       "model_id": "00c083aa173e4d8aa73050666d20fdf4",
       "version_major": 2,
       "version_minor": 0
      },
      "text/plain": [
       "  0%|          | 0/20 [00:00<?, ?it/s]"
      ]
     },
     "metadata": {},
     "output_type": "display_data"
    },
    {
     "data": {
      "application/vnd.jupyter.widget-view+json": {
       "model_id": "bd83fbda97f144808ff3bb90e3024eb4",
       "version_major": 2,
       "version_minor": 0
      },
      "text/plain": [
       "  0%|          | 0/20 [00:00<?, ?it/s]"
      ]
     },
     "metadata": {},
     "output_type": "display_data"
    },
    {
     "data": {
      "application/vnd.jupyter.widget-view+json": {
       "model_id": "0f03f53a59fd406caacc4ca0a40e6e22",
       "version_major": 2,
       "version_minor": 0
      },
      "text/plain": [
       "  0%|          | 0/20 [00:00<?, ?it/s]"
      ]
     },
     "metadata": {},
     "output_type": "display_data"
    },
    {
     "data": {
      "application/vnd.jupyter.widget-view+json": {
       "model_id": "d11178fdd08e45a9950be2041384c845",
       "version_major": 2,
       "version_minor": 0
      },
      "text/plain": [
       "  0%|          | 0/20 [00:00<?, ?it/s]"
      ]
     },
     "metadata": {},
     "output_type": "display_data"
    },
    {
     "data": {
      "application/vnd.jupyter.widget-view+json": {
       "model_id": "ae2e15e17cd94fff9a427d07098c9d03",
       "version_major": 2,
       "version_minor": 0
      },
      "text/plain": [
       "  0%|          | 0/20 [00:00<?, ?it/s]"
      ]
     },
     "metadata": {},
     "output_type": "display_data"
    },
    {
     "data": {
      "application/vnd.jupyter.widget-view+json": {
       "model_id": "98daf95d4a074ce9b7236c1c7ea82cc7",
       "version_major": 2,
       "version_minor": 0
      },
      "text/plain": [
       "  0%|          | 0/20 [00:00<?, ?it/s]"
      ]
     },
     "metadata": {},
     "output_type": "display_data"
    },
    {
     "data": {
      "application/vnd.jupyter.widget-view+json": {
       "model_id": "4b49aae4fb4c4bf3a18fec8626dad2df",
       "version_major": 2,
       "version_minor": 0
      },
      "text/plain": [
       "  0%|          | 0/20 [00:00<?, ?it/s]"
      ]
     },
     "metadata": {},
     "output_type": "display_data"
    },
    {
     "data": {
      "application/vnd.jupyter.widget-view+json": {
       "model_id": "bd0607145b6f441690f8920426b70c93",
       "version_major": 2,
       "version_minor": 0
      },
      "text/plain": [
       "  0%|          | 0/20 [00:00<?, ?it/s]"
      ]
     },
     "metadata": {},
     "output_type": "display_data"
    },
    {
     "data": {
      "application/vnd.jupyter.widget-view+json": {
       "model_id": "9c8c5e1aeaff4e51b0cb952c66118085",
       "version_major": 2,
       "version_minor": 0
      },
      "text/plain": [
       "  0%|          | 0/20 [00:00<?, ?it/s]"
      ]
     },
     "metadata": {},
     "output_type": "display_data"
    },
    {
     "data": {
      "application/vnd.jupyter.widget-view+json": {
       "model_id": "f47a85f222ae4eff9f0de1fbc6dba39c",
       "version_major": 2,
       "version_minor": 0
      },
      "text/plain": [
       "  0%|          | 0/20 [00:00<?, ?it/s]"
      ]
     },
     "metadata": {},
     "output_type": "display_data"
    },
    {
     "data": {
      "application/vnd.jupyter.widget-view+json": {
       "model_id": "bec7b79b7cc54317be855597fab48908",
       "version_major": 2,
       "version_minor": 0
      },
      "text/plain": [
       "  0%|          | 0/20 [00:00<?, ?it/s]"
      ]
     },
     "metadata": {},
     "output_type": "display_data"
    },
    {
     "data": {
      "application/vnd.jupyter.widget-view+json": {
       "model_id": "ca6a92b4550447c3b8e2ba2d80a35f7e",
       "version_major": 2,
       "version_minor": 0
      },
      "text/plain": [
       "  0%|          | 0/20 [00:00<?, ?it/s]"
      ]
     },
     "metadata": {},
     "output_type": "display_data"
    },
    {
     "data": {
      "application/vnd.jupyter.widget-view+json": {
       "model_id": "36f4dd735d234cafa724e487f65ef5b2",
       "version_major": 2,
       "version_minor": 0
      },
      "text/plain": [
       "  0%|          | 0/20 [00:00<?, ?it/s]"
      ]
     },
     "metadata": {},
     "output_type": "display_data"
    },
    {
     "data": {
      "application/vnd.jupyter.widget-view+json": {
       "model_id": "89febf031d6449c6970e3aa0b5f6a448",
       "version_major": 2,
       "version_minor": 0
      },
      "text/plain": [
       "  0%|          | 0/20 [00:00<?, ?it/s]"
      ]
     },
     "metadata": {},
     "output_type": "display_data"
    },
    {
     "data": {
      "application/vnd.jupyter.widget-view+json": {
       "model_id": "0e7abfda4fd24eb4ab9fc30a246d485d",
       "version_major": 2,
       "version_minor": 0
      },
      "text/plain": [
       "  0%|          | 0/20 [00:00<?, ?it/s]"
      ]
     },
     "metadata": {},
     "output_type": "display_data"
    },
    {
     "data": {
      "application/vnd.jupyter.widget-view+json": {
       "model_id": "1c5f628b11dc4ad79b1865c7b38590b6",
       "version_major": 2,
       "version_minor": 0
      },
      "text/plain": [
       "  0%|          | 0/20 [00:00<?, ?it/s]"
      ]
     },
     "metadata": {},
     "output_type": "display_data"
    },
    {
     "data": {
      "application/vnd.jupyter.widget-view+json": {
       "model_id": "e1790386b9bf4757948d30649967e6b7",
       "version_major": 2,
       "version_minor": 0
      },
      "text/plain": [
       "  0%|          | 0/20 [00:00<?, ?it/s]"
      ]
     },
     "metadata": {},
     "output_type": "display_data"
    },
    {
     "data": {
      "application/vnd.jupyter.widget-view+json": {
       "model_id": "3ebbe659dd8e47ae847c04d5abba3959",
       "version_major": 2,
       "version_minor": 0
      },
      "text/plain": [
       "  0%|          | 0/20 [00:00<?, ?it/s]"
      ]
     },
     "metadata": {},
     "output_type": "display_data"
    },
    {
     "data": {
      "application/vnd.jupyter.widget-view+json": {
       "model_id": "6e71b5e7264241d3a20e2b4b1644f779",
       "version_major": 2,
       "version_minor": 0
      },
      "text/plain": [
       "  0%|          | 0/20 [00:00<?, ?it/s]"
      ]
     },
     "metadata": {},
     "output_type": "display_data"
    },
    {
     "data": {
      "application/vnd.jupyter.widget-view+json": {
       "model_id": "7bdd8f9515fb43f4ac6e5dd233454243",
       "version_major": 2,
       "version_minor": 0
      },
      "text/plain": [
       "  0%|          | 0/20 [00:00<?, ?it/s]"
      ]
     },
     "metadata": {},
     "output_type": "display_data"
    }
   ],
   "source": [
    "loss_fn = GaussianNLLLoss()\n",
    "\n",
    "fno_prob = ProbFNO(in_chan = 3)\n",
    "optim_fno = torch.optim.Adam(fno_prob.parameters(), lr = 1e-3)\n",
    "\n",
    "for _ in trange(epochs):\n",
    "    for xt, yt in tqdm(train_loader, leave = False):  \n",
    "        yhat = fno_prob(xt)\n",
    "        loss = loss_fn(yhat, yt)\n",
    "        loss.backward()\n",
    "        optim_fno.step()\n",
    "        optim_fno.zero_grad()\n",
    "    \n",
    "with torch.no_grad():\n",
    "    yval_mu, yval_sd = jnp.array(np.array(fno_prob(jax2torch(xval))))\n",
    "    yval_mu = yval_mu.squeeze()\n",
    "    yval_sd = yval_sd.squeeze()"
   ]
  },
  {
   "cell_type": "code",
   "execution_count": 9,
   "id": "87332824-5880-409a-91f3-12f3f71101a3",
   "metadata": {},
   "outputs": [],
   "source": [
    "xtrain_base1 = xtrain[:(ntrain//2)]\n",
    "ytrain_base1 = ytrain[:(ntrain//2)]\n",
    "xtrain_base2 = xtrain[(ntrain//2):]\n",
    "ytrain_base2 = ytrain[(ntrain//2):]"
   ]
  },
  {
   "cell_type": "code",
   "execution_count": 10,
   "id": "ad6d9a1d-eb51-4542-9e79-95403ac27b90",
   "metadata": {},
   "outputs": [
    {
     "data": {
      "application/vnd.jupyter.widget-view+json": {
       "model_id": "555ad1fc4a73402cb771cd5691612a0b",
       "version_major": 2,
       "version_minor": 0
      },
      "text/plain": [
       "  0%|          | 0/20 [00:00<?, ?it/s]"
      ]
     },
     "metadata": {},
     "output_type": "display_data"
    },
    {
     "data": {
      "application/vnd.jupyter.widget-view+json": {
       "model_id": "a4474fadbea74905a0918baeb5ecba98",
       "version_major": 2,
       "version_minor": 0
      },
      "text/plain": [
       "  0%|          | 0/10 [00:00<?, ?it/s]"
      ]
     },
     "metadata": {},
     "output_type": "display_data"
    },
    {
     "data": {
      "application/vnd.jupyter.widget-view+json": {
       "model_id": "01a24e8dcf9c4deda3bc3b71fac20aee",
       "version_major": 2,
       "version_minor": 0
      },
      "text/plain": [
       "  0%|          | 0/10 [00:00<?, ?it/s]"
      ]
     },
     "metadata": {},
     "output_type": "display_data"
    },
    {
     "data": {
      "application/vnd.jupyter.widget-view+json": {
       "model_id": "023102af760749a8b58b14ffb73d6e67",
       "version_major": 2,
       "version_minor": 0
      },
      "text/plain": [
       "  0%|          | 0/10 [00:00<?, ?it/s]"
      ]
     },
     "metadata": {},
     "output_type": "display_data"
    },
    {
     "data": {
      "application/vnd.jupyter.widget-view+json": {
       "model_id": "faa5fb06930142e6b761cc3922db67b5",
       "version_major": 2,
       "version_minor": 0
      },
      "text/plain": [
       "  0%|          | 0/10 [00:00<?, ?it/s]"
      ]
     },
     "metadata": {},
     "output_type": "display_data"
    },
    {
     "data": {
      "application/vnd.jupyter.widget-view+json": {
       "model_id": "d416039157e74f8cae8988252cb8a2f5",
       "version_major": 2,
       "version_minor": 0
      },
      "text/plain": [
       "  0%|          | 0/10 [00:00<?, ?it/s]"
      ]
     },
     "metadata": {},
     "output_type": "display_data"
    },
    {
     "data": {
      "application/vnd.jupyter.widget-view+json": {
       "model_id": "46c5a84c2a7e41299b5ada3cc67f3771",
       "version_major": 2,
       "version_minor": 0
      },
      "text/plain": [
       "  0%|          | 0/10 [00:00<?, ?it/s]"
      ]
     },
     "metadata": {},
     "output_type": "display_data"
    },
    {
     "data": {
      "application/vnd.jupyter.widget-view+json": {
       "model_id": "15cb2114f2644991971d7027cb6b2d19",
       "version_major": 2,
       "version_minor": 0
      },
      "text/plain": [
       "  0%|          | 0/10 [00:00<?, ?it/s]"
      ]
     },
     "metadata": {},
     "output_type": "display_data"
    },
    {
     "data": {
      "application/vnd.jupyter.widget-view+json": {
       "model_id": "ec44271f282140b58ebe63b433ae0576",
       "version_major": 2,
       "version_minor": 0
      },
      "text/plain": [
       "  0%|          | 0/10 [00:00<?, ?it/s]"
      ]
     },
     "metadata": {},
     "output_type": "display_data"
    },
    {
     "data": {
      "application/vnd.jupyter.widget-view+json": {
       "model_id": "e7a9a7c5e0c44850b9fce2e3a1837346",
       "version_major": 2,
       "version_minor": 0
      },
      "text/plain": [
       "  0%|          | 0/10 [00:00<?, ?it/s]"
      ]
     },
     "metadata": {},
     "output_type": "display_data"
    },
    {
     "data": {
      "application/vnd.jupyter.widget-view+json": {
       "model_id": "297f87af8dd34c199aca07c01a4bbdfd",
       "version_major": 2,
       "version_minor": 0
      },
      "text/plain": [
       "  0%|          | 0/10 [00:00<?, ?it/s]"
      ]
     },
     "metadata": {},
     "output_type": "display_data"
    },
    {
     "data": {
      "application/vnd.jupyter.widget-view+json": {
       "model_id": "de10168d6cbd41899e37cad73b6a0dc0",
       "version_major": 2,
       "version_minor": 0
      },
      "text/plain": [
       "  0%|          | 0/10 [00:00<?, ?it/s]"
      ]
     },
     "metadata": {},
     "output_type": "display_data"
    },
    {
     "data": {
      "application/vnd.jupyter.widget-view+json": {
       "model_id": "720867ea31f54c97a5ebdaabe5dc60c5",
       "version_major": 2,
       "version_minor": 0
      },
      "text/plain": [
       "  0%|          | 0/10 [00:00<?, ?it/s]"
      ]
     },
     "metadata": {},
     "output_type": "display_data"
    },
    {
     "data": {
      "application/vnd.jupyter.widget-view+json": {
       "model_id": "a3b86be32962467cbdbf9aa55a164091",
       "version_major": 2,
       "version_minor": 0
      },
      "text/plain": [
       "  0%|          | 0/10 [00:00<?, ?it/s]"
      ]
     },
     "metadata": {},
     "output_type": "display_data"
    },
    {
     "data": {
      "application/vnd.jupyter.widget-view+json": {
       "model_id": "64535efb7db04dba8ec52dbe5942cb77",
       "version_major": 2,
       "version_minor": 0
      },
      "text/plain": [
       "  0%|          | 0/10 [00:00<?, ?it/s]"
      ]
     },
     "metadata": {},
     "output_type": "display_data"
    },
    {
     "data": {
      "application/vnd.jupyter.widget-view+json": {
       "model_id": "d2d47dde61b54c918af5505a8b463481",
       "version_major": 2,
       "version_minor": 0
      },
      "text/plain": [
       "  0%|          | 0/10 [00:00<?, ?it/s]"
      ]
     },
     "metadata": {},
     "output_type": "display_data"
    },
    {
     "data": {
      "application/vnd.jupyter.widget-view+json": {
       "model_id": "12e2a2425bab40f89a462bd76051fed5",
       "version_major": 2,
       "version_minor": 0
      },
      "text/plain": [
       "  0%|          | 0/10 [00:00<?, ?it/s]"
      ]
     },
     "metadata": {},
     "output_type": "display_data"
    },
    {
     "data": {
      "application/vnd.jupyter.widget-view+json": {
       "model_id": "d24a18c3310e44a8b0afbad2fda8dd2e",
       "version_major": 2,
       "version_minor": 0
      },
      "text/plain": [
       "  0%|          | 0/10 [00:00<?, ?it/s]"
      ]
     },
     "metadata": {},
     "output_type": "display_data"
    },
    {
     "data": {
      "application/vnd.jupyter.widget-view+json": {
       "model_id": "d3ca21e2491040329d050ae2e1045d6b",
       "version_major": 2,
       "version_minor": 0
      },
      "text/plain": [
       "  0%|          | 0/10 [00:00<?, ?it/s]"
      ]
     },
     "metadata": {},
     "output_type": "display_data"
    },
    {
     "data": {
      "application/vnd.jupyter.widget-view+json": {
       "model_id": "68837e626f244fc78db6feb151c3fe54",
       "version_major": 2,
       "version_minor": 0
      },
      "text/plain": [
       "  0%|          | 0/10 [00:00<?, ?it/s]"
      ]
     },
     "metadata": {},
     "output_type": "display_data"
    },
    {
     "data": {
      "application/vnd.jupyter.widget-view+json": {
       "model_id": "e667a01f4d054e24b49864307623fe69",
       "version_major": 2,
       "version_minor": 0
      },
      "text/plain": [
       "  0%|          | 0/10 [00:00<?, ?it/s]"
      ]
     },
     "metadata": {},
     "output_type": "display_data"
    },
    {
     "data": {
      "application/vnd.jupyter.widget-view+json": {
       "model_id": "63559cae288f4d808bfa3e5118cdab12",
       "version_major": 2,
       "version_minor": 0
      },
      "text/plain": [
       "  0%|          | 0/20 [00:00<?, ?it/s]"
      ]
     },
     "metadata": {},
     "output_type": "display_data"
    },
    {
     "data": {
      "application/vnd.jupyter.widget-view+json": {
       "model_id": "b7da19114b9a4e508d92826dec65fc4a",
       "version_major": 2,
       "version_minor": 0
      },
      "text/plain": [
       "  0%|          | 0/10 [00:00<?, ?it/s]"
      ]
     },
     "metadata": {},
     "output_type": "display_data"
    },
    {
     "data": {
      "application/vnd.jupyter.widget-view+json": {
       "model_id": "9dad783d5f294061a9b069278fd89169",
       "version_major": 2,
       "version_minor": 0
      },
      "text/plain": [
       "  0%|          | 0/10 [00:00<?, ?it/s]"
      ]
     },
     "metadata": {},
     "output_type": "display_data"
    },
    {
     "data": {
      "application/vnd.jupyter.widget-view+json": {
       "model_id": "58b825537ee2465ab744a605353de78a",
       "version_major": 2,
       "version_minor": 0
      },
      "text/plain": [
       "  0%|          | 0/10 [00:00<?, ?it/s]"
      ]
     },
     "metadata": {},
     "output_type": "display_data"
    },
    {
     "data": {
      "application/vnd.jupyter.widget-view+json": {
       "model_id": "c20b9d180f984b2a9d949c769982f5dc",
       "version_major": 2,
       "version_minor": 0
      },
      "text/plain": [
       "  0%|          | 0/10 [00:00<?, ?it/s]"
      ]
     },
     "metadata": {},
     "output_type": "display_data"
    },
    {
     "data": {
      "application/vnd.jupyter.widget-view+json": {
       "model_id": "e2af8f11989c41629eaf0182ef9bc097",
       "version_major": 2,
       "version_minor": 0
      },
      "text/plain": [
       "  0%|          | 0/10 [00:00<?, ?it/s]"
      ]
     },
     "metadata": {},
     "output_type": "display_data"
    },
    {
     "data": {
      "application/vnd.jupyter.widget-view+json": {
       "model_id": "12d260ffbc544e098f770ad7e86aa7b6",
       "version_major": 2,
       "version_minor": 0
      },
      "text/plain": [
       "  0%|          | 0/10 [00:00<?, ?it/s]"
      ]
     },
     "metadata": {},
     "output_type": "display_data"
    },
    {
     "data": {
      "application/vnd.jupyter.widget-view+json": {
       "model_id": "fa7fa83095004ec883e2842252d96ad2",
       "version_major": 2,
       "version_minor": 0
      },
      "text/plain": [
       "  0%|          | 0/10 [00:00<?, ?it/s]"
      ]
     },
     "metadata": {},
     "output_type": "display_data"
    },
    {
     "data": {
      "application/vnd.jupyter.widget-view+json": {
       "model_id": "75612b08d58640ca8a6f1f79988505d3",
       "version_major": 2,
       "version_minor": 0
      },
      "text/plain": [
       "  0%|          | 0/10 [00:00<?, ?it/s]"
      ]
     },
     "metadata": {},
     "output_type": "display_data"
    },
    {
     "data": {
      "application/vnd.jupyter.widget-view+json": {
       "model_id": "22d199c4ae48481f92c7093cdcff91d7",
       "version_major": 2,
       "version_minor": 0
      },
      "text/plain": [
       "  0%|          | 0/10 [00:00<?, ?it/s]"
      ]
     },
     "metadata": {},
     "output_type": "display_data"
    },
    {
     "data": {
      "application/vnd.jupyter.widget-view+json": {
       "model_id": "c82a456460a34ca8a43776a0714b8d10",
       "version_major": 2,
       "version_minor": 0
      },
      "text/plain": [
       "  0%|          | 0/10 [00:00<?, ?it/s]"
      ]
     },
     "metadata": {},
     "output_type": "display_data"
    },
    {
     "data": {
      "application/vnd.jupyter.widget-view+json": {
       "model_id": "b9a7c946605f4ab4abd459038612bd02",
       "version_major": 2,
       "version_minor": 0
      },
      "text/plain": [
       "  0%|          | 0/10 [00:00<?, ?it/s]"
      ]
     },
     "metadata": {},
     "output_type": "display_data"
    },
    {
     "data": {
      "application/vnd.jupyter.widget-view+json": {
       "model_id": "019540d2f8124dee888379d2a1434adc",
       "version_major": 2,
       "version_minor": 0
      },
      "text/plain": [
       "  0%|          | 0/10 [00:00<?, ?it/s]"
      ]
     },
     "metadata": {},
     "output_type": "display_data"
    },
    {
     "data": {
      "application/vnd.jupyter.widget-view+json": {
       "model_id": "0fb60d7efd704b2bbc4ac59f4dd89590",
       "version_major": 2,
       "version_minor": 0
      },
      "text/plain": [
       "  0%|          | 0/10 [00:00<?, ?it/s]"
      ]
     },
     "metadata": {},
     "output_type": "display_data"
    },
    {
     "data": {
      "application/vnd.jupyter.widget-view+json": {
       "model_id": "099cb0cea50c4b0f94f5f3c4cedbf1b3",
       "version_major": 2,
       "version_minor": 0
      },
      "text/plain": [
       "  0%|          | 0/10 [00:00<?, ?it/s]"
      ]
     },
     "metadata": {},
     "output_type": "display_data"
    },
    {
     "data": {
      "application/vnd.jupyter.widget-view+json": {
       "model_id": "5e91f3fbaeb64926879227832a032eb2",
       "version_major": 2,
       "version_minor": 0
      },
      "text/plain": [
       "  0%|          | 0/10 [00:00<?, ?it/s]"
      ]
     },
     "metadata": {},
     "output_type": "display_data"
    },
    {
     "data": {
      "application/vnd.jupyter.widget-view+json": {
       "model_id": "76d76b0ddd964ecbbbc802f8e49c221d",
       "version_major": 2,
       "version_minor": 0
      },
      "text/plain": [
       "  0%|          | 0/10 [00:00<?, ?it/s]"
      ]
     },
     "metadata": {},
     "output_type": "display_data"
    },
    {
     "data": {
      "application/vnd.jupyter.widget-view+json": {
       "model_id": "56038c0a63cb4854815f20b3a81ecfb0",
       "version_major": 2,
       "version_minor": 0
      },
      "text/plain": [
       "  0%|          | 0/10 [00:00<?, ?it/s]"
      ]
     },
     "metadata": {},
     "output_type": "display_data"
    },
    {
     "data": {
      "application/vnd.jupyter.widget-view+json": {
       "model_id": "a2818e6b082e4d66a2f37eecce1ae8e2",
       "version_major": 2,
       "version_minor": 0
      },
      "text/plain": [
       "  0%|          | 0/10 [00:00<?, ?it/s]"
      ]
     },
     "metadata": {},
     "output_type": "display_data"
    },
    {
     "data": {
      "application/vnd.jupyter.widget-view+json": {
       "model_id": "7e66862b6f0346ae9bb07fd435da34f0",
       "version_major": 2,
       "version_minor": 0
      },
      "text/plain": [
       "  0%|          | 0/10 [00:00<?, ?it/s]"
      ]
     },
     "metadata": {},
     "output_type": "display_data"
    },
    {
     "data": {
      "application/vnd.jupyter.widget-view+json": {
       "model_id": "08ffc2d262214afd984cc7fb5be113ab",
       "version_major": 2,
       "version_minor": 0
      },
      "text/plain": [
       "  0%|          | 0/10 [00:00<?, ?it/s]"
      ]
     },
     "metadata": {},
     "output_type": "display_data"
    }
   ],
   "source": [
    "train_data1 = TensorDataset(jax2torch(xtrain_base1), jax2torch(ytrain_base1))\n",
    "train_loader1 = DataLoader(train_data1, batch_size = 30, shuffle = True)\n",
    "\n",
    "loss_fn = nn.MSELoss()\n",
    "fno_base = FNO(n_modes=(16,), \n",
    "             hidden_channels=64, \n",
    "             in_channels=3, \n",
    "             out_channels=1).to(device)\n",
    "optim_fno = torch.optim.Adam(fno_base.parameters(), lr = 1e-3)\n",
    "\n",
    "epochs = 20\n",
    "for _ in trange(epochs):\n",
    "    for xt, yt in tqdm(train_loader1, leave = False):  \n",
    "        yhat = fno_base(xt.to(device))\n",
    "        loss = loss_fn(yhat, yt.to(device))\n",
    "        loss.backward()\n",
    "        optim_fno.step()\n",
    "        optim_fno.zero_grad()\n",
    "\n",
    "with torch.no_grad():\n",
    "    ytrain_base1_hat = fno_base(jax2torch(xval).to(device)).cpu().squeeze()\n",
    "    ytrain_base1_hat = torch2jax(ytrain_base1_hat)\n",
    "\n",
    "train_data2 = TensorDataset(jax2torch(xtrain_base2), torch.abs(jax2torch(ytrain_base2 - ytrain_base1_hat)))\n",
    "train_loader2 = DataLoader(train_data2, batch_size = 30, shuffle = True)\n",
    "\n",
    "loss_fn = QuantileLoss(0.9)\n",
    "fno_quant2 = FNO(n_modes=(16,), \n",
    "             hidden_channels=64, \n",
    "             in_channels=3, \n",
    "             out_channels=1).to(device)\n",
    "optim_fno = torch.optim.Adam(fno_quant2.parameters(), lr = 1e-3)\n",
    "\n",
    "epochs = 20\n",
    "for _ in trange(epochs):\n",
    "    for xt, yt in tqdm(train_loader2, leave = False):  \n",
    "        yhat = fno_quant2(xt.to(device))\n",
    "        loss = loss_fn(yhat, yt.to(device))\n",
    "        loss.backward()\n",
    "        optim_fno.step()\n",
    "        optim_fno.zero_grad()"
   ]
  },
  {
   "cell_type": "code",
   "execution_count": 11,
   "id": "6094d5aa-d784-44b3-81ab-e5f951c8c887",
   "metadata": {},
   "outputs": [],
   "source": [
    "with torch.no_grad():\n",
    "    yval_fno = fno(jax2torch(xval).to(device)).cpu().squeeze()\n",
    "    yval_fno = torch2jax(yval_fno)\n",
    "\n",
    "    yval_quant = fno_quant(jax2torch(xval).to(device)).cpu().squeeze()\n",
    "    yval_quant = torch2jax(yval_quant)\n",
    "    \n",
    "    yval_mu, yval_sd = fno_prob(jax2torch(xval).to(device))\n",
    "    yval_mu, yval_sd = torch2jax(yval_mu.cpu()), torch2jax(yval_sd.cpu())\n",
    "    yval_mu = yval_mu.squeeze()\n",
    "    yval_sd = yval_sd.squeeze()\n",
    "\n",
    "    yval_hat2 = fno_base(jax2torch(xval).to(device)).cpu().squeeze()\n",
    "    yval_hat2 = torch2jax(yval_hat2)\n",
    "    yval_quant2 = fno_quant2(jax2torch(xval).to(device)).cpu().squeeze()\n",
    "    yval_quant2 = torch2jax(yval_quant2)"
   ]
  },
  {
   "cell_type": "code",
   "execution_count": 12,
   "id": "37029e90-dfd3-4dcb-a287-6d7a43e33357",
   "metadata": {},
   "outputs": [],
   "source": [
    "with torch.no_grad():\n",
    "    ytest_fno = fno(jax2torch(xtest).to(device)).cpu().squeeze()\n",
    "    ytest_fno = torch2jax(ytest_fno)\n",
    "\n",
    "    ytest_quant = fno_quant(jax2torch(xtest).to(device)).cpu().squeeze()\n",
    "    ytest_quant = torch2jax(ytest_quant)\n",
    "\n",
    "    ytest_mu, ytest_sd = fno_prob(jax2torch(xtest).to(device))\n",
    "    ytest_mu, ytest_sd = torch2jax(ytest_mu.cpu()), torch2jax(ytest_sd.cpu())\n",
    "    ytest_mu = ytest_mu.squeeze()\n",
    "    ytest_sd = ytest_sd.squeeze()\n",
    "\n",
    "    ytest_hat2 = fno_base(jax2torch(xtest).to(device)).cpu().squeeze()\n",
    "    ytest_hat2 = torch2jax(ytest_hat2)\n",
    "    ytest_quant2 = fno_quant2(jax2torch(xtest).to(device)).cpu().squeeze()\n",
    "    ytest_quant2 = torch2jax(ytest_quant2)"
   ]
  },
  {
   "cell_type": "code",
   "execution_count": 13,
   "id": "27832bf5-9636-4bdb-94fb-190f43323ba8",
   "metadata": {},
   "outputs": [],
   "source": [
    "rval_fno = yval.squeeze() - yval_fno\n",
    "rval_mu = yval.squeeze() - yval_mu\n",
    "rval_fno2 = yval.squeeze() - yval_hat2\n",
    "rtest_fno = ytest.squeeze() - ytest_fno\n",
    "rtest_mu = ytest.squeeze() - ytest_mu\n",
    "rtest_fno2 = ytest.squeeze() - ytest_hat2"
   ]
  },
  {
   "cell_type": "code",
   "execution_count": 23,
   "id": "0ba54556-9d2e-4916-894a-a7a6d88a98f8",
   "metadata": {},
   "outputs": [],
   "source": [
    "nproj = 100\n",
    "n_samp = 2000\n",
    "n_phi = 20\n",
    "alpha = 0.1\n",
    "ncal = nval - ntrain\n",
    "adj_alpha = jnp.ceil((ncal+1)*(1-alpha))/ncal\n",
    "\n",
    "pca_state = pcax.fit(rval_fno, nproj)\n",
    "\n",
    "conf_lower, conf_upper = conf.conf_band(rval_fno, pca_state, alpha)\n",
    "gaus_lower, gaus_upper = gaus.gaus_band(rval_fno, pca_state, alpha)\n",
    "supr_lower, supr_upper = supr.supr_band(rval_fno, alpha)\n",
    "\n",
    "uqno_lam = uqno.uqno_lambda(yval, yval_hat2, yval_quant2, delta = 0.1, alpha = 0.1)\n",
    "uqn1_lower, uqn1_upper = -uqno_lam*ytest_quant2, uqno_lam*ytest_quant2\n",
    "\n",
    "pdon_lower, pdon_upper = prob_don.prob_don(yval.squeeze(), yval_mu, yval_sd, ytest_sd, alpha)\n",
    "qdon_lower, qdon_upper = quant_don.quant_don(yval.squeeze(), yval_quant2, ytest_quant2, alpha)"
   ]
  },
  {
   "cell_type": "code",
   "execution_count": 24,
   "id": "b433e883-7d67-4bef-a241-455f68b533d8",
   "metadata": {},
   "outputs": [
    {
     "data": {
      "application/vnd.jupyter.widget-view+json": {
       "model_id": "d73a7b4a66a342899dd3528699c629e8",
       "version_major": 2,
       "version_minor": 0
      },
      "text/plain": [
       "  0%|          | 0/261 [00:00<?, ?it/s]"
      ]
     },
     "metadata": {},
     "output_type": "display_data"
    }
   ],
   "source": [
    "ntest = ytest.shape[0]\n",
    "nmod = 4 + 6\n",
    "cover = np.zeros((ntest, nmod))\n",
    "width = np.zeros((ntest, nmod))\n",
    "\n",
    "rng = random.key(1)\n",
    "# knn_weights = lsci.l2_localizer(xval.squeeze(), xtest.squeeze() + 0.1*random.normal(rng, xtest.squeeze().shape), 13)\n",
    "# inf_weights = lsci.linf_localizer(xval.squeeze(), xtest.squeeze() + 0.1*random.normal(rng, xtest.squeeze().shape), 13)\n",
    "xstate = lsci.weighted_fpca(xval.reshape(ncal, -1), \n",
    "                            jnp.ones(xval.shape[0])/xval.shape[0])\n",
    "\n",
    "xstate[-1] = xstate[-1][:,0:25]\n",
    "xval_fpc = lsci.transform_fpca(xval.reshape(ncal, -1),  \n",
    "                               xstate)\n",
    "xtest_fpc = lsci.transform_fpca(xtest.reshape(ntest, -1), \n",
    "                                xstate)\n",
    "\n",
    "rng = random.key(1)\n",
    "l2_weights = lsci.l2_localizer(xval_fpc.squeeze(), \n",
    "                                xtest_fpc.squeeze() + 0.1*random.normal(rng, xtest_fpc.squeeze().shape), \n",
    "                                10)\n",
    "\n",
    "linf_weights = lsci.linf_localizer(xval_fpc.squeeze(), \n",
    "                                xtest_fpc.squeeze() + 0.1*random.normal(rng, xtest_fpc.squeeze().shape), \n",
    "                                3)\n",
    "\n",
    "for k in trange(0, ntest):\n",
    "    \n",
    "    rng, key1, key2, key3 = random.split(rng, 4)\n",
    "\n",
    "    ## LSCI \n",
    "    weight_k = l2_weights[k:(k+1)]\n",
    "    rng, sample_rng, reject_rng = random.split(rng, 3)\n",
    "    lsci_ens = lsci.fpca_sampler(rval_fno, weight_k, n_samp, sample_rng)\n",
    "    lsci_ens = lsci.depth_reject(rval_fno, lsci_ens, weight_k, n_phi, adj_alpha, reject_rng)\n",
    "    lsci_lower = jnp.min(lsci_ens, axis = 0)\n",
    "    lsci_upper = jnp.max(lsci_ens, axis = 0)\n",
    "    \n",
    "    cover[k, 0] = risk(lsci_lower, lsci_upper, rtest_fno[k])\n",
    "    width[k, 0] =  jnp.median(lsci_upper - lsci_lower)\n",
    "\n",
    "    ## LSCI \n",
    "    weight_k = linf_weights[k:(k+1)]\n",
    "    \n",
    "    rng, sample_rng, reject_rng = random.split(rng, 3)\n",
    "    lsci_ens = lsci.fpca_sampler(rval_fno, weight_k, n_samp, sample_rng)\n",
    "    lsci_ens = lsci.depth_reject(rval_fno, lsci_ens, weight_k, n_phi, adj_alpha, reject_rng)\n",
    "    lsci_lower = jnp.min(lsci_ens, axis = 0)\n",
    "    lsci_upper = jnp.max(lsci_ens, axis = 0)\n",
    "    \n",
    "    cover[k, 1] = risk(lsci_lower, lsci_upper, rtest_fno[k])\n",
    "    width[k, 1] =  jnp.median(lsci_upper - lsci_lower)\n",
    "\n",
    "    ## LSCI \n",
    "    weight_k = l2_weights[k:(k+1)]\n",
    "    rng, sample_rng, reject_rng = random.split(rng, 3)\n",
    "    lsci_ens = lsci.fpca_sampler(rval_fno, weight_k, n_samp, sample_rng)\n",
    "    lsci_ens = lsci.depth_reject(rval_fno, lsci_ens, weight_k, 5*n_phi, adj_alpha, reject_rng)\n",
    "    lsci_lower = jnp.min(lsci_ens, axis = 0)\n",
    "    lsci_upper = jnp.max(lsci_ens, axis = 0)\n",
    "    \n",
    "    cover[k, 2] = risk(lsci_lower, lsci_upper, rtest_fno[k])\n",
    "    width[k, 2] =  jnp.median(lsci_upper - lsci_lower)\n",
    "\n",
    "    ## LSCI \n",
    "    weight_k = linf_weights[k:(k+1)]\n",
    "    \n",
    "    rng, sample_rng, reject_rng = random.split(rng, 3)\n",
    "    lsci_ens = lsci.fpca_sampler(rval_fno, weight_k, n_samp, sample_rng)\n",
    "    lsci_ens = lsci.depth_reject(rval_fno, lsci_ens, weight_k, 5*n_phi, adj_alpha, reject_rng)\n",
    "    lsci_lower = jnp.min(lsci_ens, axis = 0)\n",
    "    lsci_upper = jnp.max(lsci_ens, axis = 0)\n",
    "    \n",
    "    cover[k, 3] = risk(lsci_lower, lsci_upper, rtest_fno[k])\n",
    "    width[k, 3] =  jnp.median(lsci_upper - lsci_lower)\n",
    "    \n",
    "    # CONF \n",
    "    cover[k, 4] = risk(conf_lower, conf_upper, rtest_fno[k])\n",
    "    width[k, 4] = jnp.median(conf_upper - conf_lower)\n",
    "    \n",
    "    # GAUSS \n",
    "    cover[k, 5] = risk(gaus_lower, gaus_upper, rtest_fno[k])\n",
    "    width[k, 5] = jnp.median(gaus_upper - gaus_lower)\n",
    "    \n",
    "    # SUPR\n",
    "    cover[k, 6] = risk(supr_lower, supr_upper, rtest_fno[k])\n",
    "    width[k, 6] = jnp.median(supr_upper - supr_lower)\n",
    "    \n",
    "    # UQNO\n",
    "    cover[k, 7] = risk(uqn1_lower[k], uqn1_upper[k], rtest_fno[k])\n",
    "    width[k, 7] = jnp.median(uqn1_upper[k] - uqn1_lower[k])\n",
    "    \n",
    "    # PDON\n",
    "    cover[k, 8] = risk(pdon_lower[k], pdon_upper[k], rtest_mu[k])\n",
    "    width[k, 8] = jnp.mean(pdon_upper[k] - pdon_lower[k])\n",
    "    \n",
    "    # QDON\n",
    "    cover[k, 9] = risk(qdon_lower[k], qdon_upper[k], rtest_fno2[k])\n",
    "    width[k, 9] = jnp.mean(qdon_upper[k] - qdon_lower[k])"
   ]
  },
  {
   "cell_type": "code",
   "execution_count": 25,
   "id": "1f49ce93-f93b-4394-8dd3-c3b79dc059e9",
   "metadata": {},
   "outputs": [],
   "source": [
    "# metrics\n",
    "sigma = jnp.sqrt(jnp.mean(rtest_fno**2, axis =1))\n",
    "# sigma = sd[1:,0]\n",
    "\n",
    "cover_mean = np.round(np.mean(cover >= 0.99, axis = 0), 3)\n",
    "width_mean = np.round(np.mean(width, axis = 0), 3)\n",
    "\n",
    "## correlations\n",
    "cover_dcor = np.zeros(nmod)\n",
    "width_dcor = np.zeros(nmod)\n",
    "for i in range(nmod):\n",
    "    cover_dcor[i] = dcorr(cover[:,i], sigma)\n",
    "    width_dcor[i] = dcorr(width[:,i], sigma)\n",
    "\n",
    "metrics_mean = np.vstack([\n",
    "    cover_mean,\n",
    "    cover_dcor,\n",
    "    width_mean,\n",
    "    width_dcor\n",
    "]).T"
   ]
  },
  {
   "cell_type": "code",
   "execution_count": 26,
   "id": "1be01e08-c9f4-475c-9fff-4997c4baaefd",
   "metadata": {},
   "outputs": [
    {
     "name": "stdout",
     "output_type": "stream",
     "text": [
      "[[0.954 0.361 0.539 0.   ]\n",
      " [0.962 0.308 0.537 0.   ]\n",
      " [0.943 0.404 0.672 0.   ]\n",
      " [0.985 0.152 0.632 0.2  ]\n",
      " [0.644 0.416 0.254 0.144]\n",
      " [0.962 0.343 0.443 0.197]]\n"
     ]
    }
   ],
   "source": [
    "np.set_printoptions(suppress=True)\n",
    "print(np.round(np.nan_to_num(metrics_mean[4:], 0), 3))"
   ]
  },
  {
   "cell_type": "code",
   "execution_count": 27,
   "id": "d9c6550a-b303-4f53-b2b8-52b9e504b23d",
   "metadata": {},
   "outputs": [
    {
     "name": "stdout",
     "output_type": "stream",
     "text": [
      "[[0.931 0.22  0.401 0.199]\n",
      " [0.916 0.229 0.383 0.197]\n",
      " [0.939 0.247 0.399 0.184]\n",
      " [0.916 0.212 0.382 0.188]]\n"
     ]
    }
   ],
   "source": [
    "print(np.round(np.nan_to_num(metrics_mean[0:4], 0), 3))"
   ]
  },
  {
   "cell_type": "code",
   "execution_count": null,
   "id": "164d191a-e7db-468c-9e46-1e4cff8b14f3",
   "metadata": {},
   "outputs": [],
   "source": []
  },
  {
   "cell_type": "code",
   "execution_count": null,
   "id": "8a4b61f8-ca10-44d2-adcb-9a1edd64b31c",
   "metadata": {},
   "outputs": [],
   "source": []
  },
  {
   "cell_type": "code",
   "execution_count": 119,
   "id": "34d65b43-3bb6-439b-b3c9-e6e6a3c92e4f",
   "metadata": {},
   "outputs": [
    {
     "data": {
      "application/vnd.jupyter.widget-view+json": {
       "model_id": "3bce10a8d43a4d3895280140f0084738",
       "version_major": 2,
       "version_minor": 0
      },
      "text/plain": [
       "  0%|          | 0/50 [00:00<?, ?it/s]"
      ]
     },
     "metadata": {},
     "output_type": "display_data"
    }
   ],
   "source": [
    "epochs = 50\n",
    "lag, lead = len(variables), 1\n",
    "\n",
    "width = 50\n",
    "drop_prob = 0.1\n",
    "\n",
    "rng = random.PRNGKey(0)\n",
    "model_rng = nnx.Rngs(1)\n",
    "base_model = DeepANO(lag, width, lead, rngs=model_rng)\n",
    "prob_model = ProbANO(lag, width, lead, rngs=model_rng)\n",
    "quant_model = DeepANO(lag, width, lead, rngs=model_rng)\n",
    "\n",
    "base_optim = nnx.Optimizer(base_model, optax.adam(1e-3))\n",
    "prob_optim = nnx.Optimizer(prob_model, optax.adam(1e-3))\n",
    "quant_optim = nnx.Optimizer(quant_model, optax.adam(1e-3))\n",
    "\n",
    "for _ in trange(epochs):\n",
    "    for xt, yt in train_loader:\n",
    "        xt = torch2jax(xt)\n",
    "        yt = torch2jax(yt)\n",
    "        \n",
    "        base_loss = train_step(base_model, base_optim, xt, yt)\n",
    "        prob_loss = prob_step(prob_model, prob_optim, xt, yt)\n",
    "        quant_loss = quant_step(quant_model, quant_optim, xt, yt)"
   ]
  },
  {
   "cell_type": "code",
   "execution_count": 120,
   "id": "d8d07770-0f4e-42ee-9623-81d6859b0c09",
   "metadata": {},
   "outputs": [],
   "source": [
    "yval_hat = base_model(xval)\n",
    "ytest_hat = base_model(xtest)\n",
    "\n",
    "yval_quant = quant_model(xval)\n",
    "ytest_quant = quant_model(xtest)\n",
    "\n",
    "yval_mu, yval_sd = prob_model(xval)\n",
    "ytest_mu, ytest_sd = prob_model(xtest)"
   ]
  },
  {
   "cell_type": "code",
   "execution_count": 121,
   "id": "6340ea6c-1677-493a-8e5f-944fcdf9c9ab",
   "metadata": {},
   "outputs": [],
   "source": [
    "yval = yval.squeeze()\n",
    "ytest = ytest.squeeze()\n",
    "\n",
    "yval_hat = yval_hat.squeeze()\n",
    "ytest_hat = ytest_hat.squeeze()\n",
    "yval_quant = yval_quant.squeeze()\n",
    "ytest_quant = ytest_quant.squeeze()\n",
    "yval_mu = yval_mu.squeeze()\n",
    "yval_sd = yval_sd.squeeze()\n",
    "ytest_mu = ytest_mu.squeeze()\n",
    "ytest_sd = ytest_sd.squeeze()"
   ]
  },
  {
   "cell_type": "code",
   "execution_count": 122,
   "id": "5ad8c16d-f768-4a45-9889-4d09397eae3f",
   "metadata": {},
   "outputs": [
    {
     "data": {
      "application/vnd.jupyter.widget-view+json": {
       "model_id": "c5662727eb8246c28656d6612389a2f4",
       "version_major": 2,
       "version_minor": 0
      },
      "text/plain": [
       "  0%|          | 0/261 [00:00<?, ?it/s]"
      ]
     },
     "metadata": {},
     "output_type": "display_data"
    }
   ],
   "source": [
    "nproj = npc = 24\n",
    "gamma1 = 0.1\n",
    "gamma2 = 0.05\n",
    "alpha = 0.1\n",
    "nval = xval.shape[0]\n",
    "\n",
    "drop_risk, drop_width = [], []\n",
    "orcl_risk, orcl_width = [], []\n",
    "conf_risk, conf_width = [], []\n",
    "gaus_risk, gaus_width = [], []\n",
    "supr_risk, supr_width = [], []\n",
    "uqn1_risk, uqn1_width = [], []\n",
    "pdon_risk, pdon_width = [], []\n",
    "qdon_risk, qdon_width = [], []\n",
    "lsc1_risk, lsc1_width = [], []\n",
    "lsc2_risk, lsc2_width = [], []\n",
    "\n",
    "rval = (yval - yval_hat).squeeze()\n",
    "rtest = (ytest - ytest_hat).squeeze()\n",
    "rtest2 = (ytest - ytest_mu).squeeze()\n",
    "\n",
    "state = lsci.lsci_state(xval, rval, npc, localization='l2')\n",
    "pca_state = state[-1]\n",
    "\n",
    "quant_scores = jnp.abs(yval - yval_hat) / yval_quant\n",
    "lam_uqno = uqno.estimate_lambda(quant_scores, 0.1, 0.01, 1.1)\n",
    "\n",
    "conf_lower, conf_upper = conf.conf_band(rval, pca_state, alpha)\n",
    "gaus_lower, gaus_upper = gaus.gaus_band(rval, pca_state, alpha)\n",
    "supr_lower, supr_upper = supr.supr_band(rval, alpha)\n",
    "uqn1_lower, uqn1_upper = uqno.uqno_band(ytest_quant, lam_uqno)\n",
    "pdon_lower, pdon_upper = prob_don.prob_don(prob_model, xval, xtest, yval, alpha)\n",
    "qdon_lower, qdon_upper = quant_don.quant_don(quant_model, xval, xtest, yval - yval_hat, alpha)\n",
    "\n",
    "for i in trange(0, ytest.shape[0]):\n",
    "    \n",
    "    # LSCI\n",
    "    lsc1_lower, lsc1_upper = lsci.lsci_band(xtest[i].squeeze(), state, alpha, 2000, gamma1)\n",
    "    lsc1_risk.append(risk(lsc1_lower, lsc1_upper, rtest[i]))\n",
    "    lsc1_width.append(jnp.median(lsc1_upper - lsc1_lower))\n",
    "    \n",
    "    # LSCI\n",
    "    lsc2_lower, lsc2_upper = lsci.lsci_band(xtest[i].squeeze(), state, alpha, 2000, gamma2)\n",
    "    lsc2_risk.append(risk(lsc2_lower, lsc2_upper, rtest[i]))\n",
    "    lsc2_width.append(jnp.median(lsc2_upper - lsc2_lower))\n",
    "\n",
    "    # Oracle\n",
    "    orcl_lower = -(jnp.abs(rtest[i]) + 1e-4)\n",
    "    orcl_upper = jnp.abs(rtest[i]) + 1e-4\n",
    "    orcl_risk.append(risk(orcl_lower, orcl_upper, rtest[i]))\n",
    "    orcl_width.append(jnp.median(orcl_upper - orcl_lower))\n",
    "    \n",
    "    # CONF \n",
    "    conf_risk.append(risk(conf_lower, conf_upper, rtest[i]))\n",
    "    conf_width.append(jnp.median(conf_upper - conf_lower))\n",
    "    \n",
    "    # GAUSS \n",
    "    gaus_risk.append(risk(gaus_lower, gaus_upper, rtest[i]))\n",
    "    gaus_width.append(jnp.median(gaus_upper - gaus_lower))\n",
    "    \n",
    "    # SUPR\n",
    "    supr_risk.append(risk(supr_lower, supr_upper, rtest[i]))\n",
    "    supr_width.append(jnp.median(supr_upper - supr_lower))\n",
    "    \n",
    "    # UQNO\n",
    "    uqn1_risk.append(risk(uqn1_lower[i], uqn1_upper[i], rtest[i]))\n",
    "    uqn1_width.append(jnp.median(uqn1_upper[i] - uqn1_lower[i]))\n",
    "    \n",
    "    # PDON\n",
    "    pdon_risk.append(risk(pdon_lower[i], pdon_upper[i], rtest2[i]))\n",
    "    pdon_width.append(jnp.median(pdon_upper[i] - pdon_lower[i]))\n",
    "    \n",
    "    # PDON\n",
    "    qdon_risk.append(risk(qdon_lower[i], qdon_upper[i], rtest[i]))\n",
    "    qdon_width.append(jnp.median(qdon_upper[i] - qdon_lower[i]))\n",
    "    \n",
    "    # # DROPOUT\n",
    "    # drop_model.train()\n",
    "    # drop_set = jnp.stack([drop_model(xtest[i:(i+1)]).squeeze() for _ in range(500)])\n",
    "    # drop_lower = jnp.quantile(drop_set, alpha/2, axis = 0)\n",
    "    # drop_upper = jnp.quantile(drop_set, 1 - alpha/2, axis = 0)\n",
    "    # drop_model.eval()\n",
    "    \n",
    "    # drop_risk.append(risk(drop_lower, drop_upper, rtest[i]))\n",
    "    # drop_width.append(jnp.median(drop_upper - drop_lower))\n",
    "\n",
    "orcl_risk, orcl_width = np.array(orcl_risk), np.array(orcl_width)\n",
    "drop_risk, drop_width = np.array(drop_risk), np.array(drop_width)\n",
    "conf_risk, conf_width = np.array(conf_risk), np.array(conf_width)\n",
    "gaus_risk, gaus_width = np.array(gaus_risk), np.array(gaus_width)\n",
    "supr_risk, supr_width = np.array(supr_risk), np.array(supr_width)\n",
    "uqn1_risk, uqn1_width = np.array(uqn1_risk), np.array(uqn1_width)\n",
    "lsc1_risk, lsc1_width = np.array(lsc1_risk), np.array(lsc1_width)\n",
    "lsc2_risk, lsc2_width = np.array(lsc2_risk), np.array(lsc2_width)\n",
    "pdon_risk, pdon_width = np.array(pdon_risk), np.array(pdon_width)\n",
    "qdon_risk, qdon_width = np.array(qdon_risk), np.array(qdon_width)"
   ]
  },
  {
   "cell_type": "code",
   "execution_count": 123,
   "id": "77a663da-2b25-436e-b760-b5b626a7640f",
   "metadata": {},
   "outputs": [],
   "source": [
    "drop_risk, drop_width = jnp.zeros(ytest.shape[0]),  jnp.zeros(ytest.shape[0])"
   ]
  },
  {
   "cell_type": "code",
   "execution_count": 124,
   "id": "ccb3a3f5-6527-4fbd-ae51-60932bf5e8b1",
   "metadata": {},
   "outputs": [],
   "source": [
    "noise_sd = jnp.mean(rtest**2, axis = 1)"
   ]
  },
  {
   "cell_type": "code",
   "execution_count": 125,
   "id": "5e7f049e-a648-41d6-b071-9dd679772b9e",
   "metadata": {},
   "outputs": [
    {
     "name": "stderr",
     "output_type": "stream",
     "text": [
      "/home/tharris/climate/lib/python3.12/site-packages/numpy/lib/_function_base_impl.py:3045: RuntimeWarning: invalid value encountered in divide\n",
      "  c /= stddev[:, None]\n",
      "/home/tharris/climate/lib/python3.12/site-packages/numpy/lib/_function_base_impl.py:3046: RuntimeWarning: invalid value encountered in divide\n",
      "  c /= stddev[None, :]\n"
     ]
    }
   ],
   "source": [
    "gamma = 0.99\n",
    "\n",
    "risk_control = np.mean(orcl_risk >= gamma), \\\n",
    "               np.mean(drop_risk >= gamma), \\\n",
    "               np.mean(conf_risk >= gamma), \\\n",
    "               np.mean(gaus_risk >= gamma), \\\n",
    "               np.mean(supr_risk >= gamma), \\\n",
    "               np.mean(uqn1_risk >= gamma), \\\n",
    "               np.mean(pdon_risk >= gamma), \\\n",
    "               np.mean(qdon_risk >= gamma), \\\n",
    "               np.mean(lsc1_risk >= gamma), \\\n",
    "               np.mean(lsc2_risk >= gamma)\n",
    "\n",
    "width = np.mean(orcl_width), \\\n",
    "        np.mean(drop_width), \\\n",
    "        np.mean(conf_width), \\\n",
    "        np.mean(gaus_width), \\\n",
    "        np.mean(supr_width), \\\n",
    "        np.mean(uqn1_width), \\\n",
    "        np.mean(pdon_width), \\\n",
    "        np.mean(qdon_width), \\\n",
    "        np.mean(lsc1_width), \\\n",
    "        np.mean(lsc2_width)\n",
    "\n",
    "risk_cor = -0, \\\n",
    "           np.corrcoef([noise_sd, drop_risk])[0,1], \\\n",
    "           np.corrcoef([noise_sd, conf_risk])[0,1], \\\n",
    "           np.corrcoef([noise_sd, gaus_risk])[0,1], \\\n",
    "           np.corrcoef([noise_sd, supr_risk])[0,1], \\\n",
    "           np.corrcoef([noise_sd, uqn1_risk])[0,1], \\\n",
    "           np.corrcoef([noise_sd, pdon_risk])[0,1], \\\n",
    "           np.corrcoef([noise_sd, qdon_risk])[0,1], \\\n",
    "           np.corrcoef([noise_sd, lsc1_risk])[0,1], \\\n",
    "           np.corrcoef([noise_sd, lsc2_risk])[0,1]\n",
    "\n",
    "width_cor = 1, \\\n",
    "            np.corrcoef([noise_sd, drop_width])[0,1], \\\n",
    "            0, \\\n",
    "            0, \\\n",
    "            0, \\\n",
    "            np.corrcoef([noise_sd, uqn1_width])[0,1], \\\n",
    "            np.corrcoef([noise_sd, pdon_width])[0,1], \\\n",
    "            np.corrcoef([noise_sd, qdon_width])[0,1], \\\n",
    "            np.corrcoef([noise_sd, lsc1_width])[0,1], \\\n",
    "            np.corrcoef([noise_sd, lsc2_width])[0,1]\n",
    "\n",
    "metrics = np.array([risk_control, risk_cor, width, width_cor]).T"
   ]
  },
  {
   "cell_type": "code",
   "execution_count": 126,
   "id": "7d1996e8-4b24-4abc-9a6a-26d785aa7585",
   "metadata": {},
   "outputs": [
    {
     "name": "stdout",
     "output_type": "stream",
     "text": [
      "Oracle & 1.000 & 0.000 & 87.938 & 1.000 \\\\\n",
      "MC-Drop & 0.000 & 0.000 & 0.000 & 0.000 \\\\\n",
      "Conf1 & 0.969 & -0.867 & 453.874 & 0.000 \\\\\n",
      "Conf2 & 0.958 & -0.872 & 448.337 & 0.000 \\\\\n",
      "Supr & 0.946 & -0.805 & 449.777 & 0.000 \\\\\n",
      "CQR-NO & 0.985 & -0.114 & 1309.577 & 0.459 \\\\\n",
      "Prob-NO & 0.874 & -0.672 & 313.344 & -0.032 \\\\\n",
      "Quant-NO & 0.678 & -0.061 & 222.917 & 0.460 \\\\\n",
      "LSCI1 & 0.981 & -0.667 & 365.285 & 0.390 \\\\\n",
      "LSCI2 & 0.946 & -0.523 & 330.759 & 0.439 \\\\\n"
     ]
    }
   ],
   "source": [
    "methods = ['Oracle', 'MC-Drop', 'Conf1', 'Conf2', \n",
    "           'Supr', 'CQR-NO', 'Prob-NO', 'Quant-NO', \n",
    "           'LSCI1', 'LSCI2']\n",
    "\n",
    "for i in range(metrics.shape[0]):\n",
    "    print(f'{methods[i]} & ', end = '')\n",
    "    for j in range(metrics.shape[1]):\n",
    "        val = f'{np.round(np.nan_to_num(metrics[i,j]), 3):.3f}'\n",
    "        if j < 3:\n",
    "            val += ' & '\n",
    "            print(val, end = '')\n",
    "        else:\n",
    "            val += ' \\\\\\\\'\n",
    "            print(val)"
   ]
  },
  {
   "cell_type": "code",
   "execution_count": null,
   "id": "542cb57b-797c-4b4e-a230-beda6415dab1",
   "metadata": {},
   "outputs": [],
   "source": []
  },
  {
   "cell_type": "code",
   "execution_count": null,
   "id": "b9db453f-da5e-4ee5-9e36-e382feb1291a",
   "metadata": {},
   "outputs": [],
   "source": []
  },
  {
   "cell_type": "code",
   "execution_count": null,
   "id": "f8ae1d02-5b95-4699-aecd-70b95f878497",
   "metadata": {},
   "outputs": [],
   "source": []
  },
  {
   "cell_type": "code",
   "execution_count": null,
   "id": "3810c697-6fe3-47eb-94fe-668bfbe5d8a9",
   "metadata": {},
   "outputs": [],
   "source": []
  },
  {
   "cell_type": "code",
   "execution_count": null,
   "id": "118129e1-4667-4f21-9af4-d720c62b84e3",
   "metadata": {},
   "outputs": [],
   "source": []
  },
  {
   "cell_type": "code",
   "execution_count": null,
   "id": "f2e738b4-b619-41d5-b568-6cef7bc3fb8b",
   "metadata": {},
   "outputs": [],
   "source": []
  }
 ],
 "metadata": {
  "kernelspec": {
   "display_name": "Python 3 (ipykernel)",
   "language": "python",
   "name": "python3"
  },
  "language_info": {
   "codemirror_mode": {
    "name": "ipython",
    "version": 3
   },
   "file_extension": ".py",
   "mimetype": "text/x-python",
   "name": "python",
   "nbconvert_exporter": "python",
   "pygments_lexer": "ipython3",
   "version": "3.12.3"
  }
 },
 "nbformat": 4,
 "nbformat_minor": 5
}
