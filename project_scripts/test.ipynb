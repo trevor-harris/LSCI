{
 "cells": [
  {
   "cell_type": "code",
   "execution_count": 1,
   "id": "503700a5-21ba-4f62-953f-f41e4359f03c",
   "metadata": {},
   "outputs": [],
   "source": [
    "import numpy as np\n",
    "\n",
    "import matplotlib\n",
    "import matplotlib.pyplot as plt\n",
    "\n",
    "import jax\n",
    "import jax.numpy as jnp\n",
    "import jax.scipy.stats as stats\n",
    "from jax import jacfwd, jacrev\n",
    "from jax import vmap, grad, jit, random\n",
    "\n",
    "from lsci.conformal import lsci"
   ]
  },
  {
   "cell_type": "code",
   "execution_count": 2,
   "id": "a7d81c10-8063-4acc-8190-cae6c4db06b2",
   "metadata": {},
   "outputs": [],
   "source": [
    "n, p = 2000, 100\n",
    "\n",
    "data_rng = random.key(0)\n",
    "data_keys = random.split(data_rng, 6)\n",
    "\n",
    "xval = random.normal(data_keys[0], (n, p))\n",
    "yval = 1 + random.normal(data_keys[1], (n, p))\n",
    "yval_hat = 1.2 + random.normal(data_keys[2], (n, p))\n",
    "\n",
    "xtest = random.normal(data_keys[3], (n//2, p))\n",
    "ytest = 1 + random.normal(data_keys[4], (n//2, p))\n",
    "ytest_hat = 1.2 + random.normal(data_keys[5], (n//2, p))\n",
    "\n",
    "rval = yval - yval_hat\n",
    "rtest = ytest - ytest_hat"
   ]
  },
  {
   "cell_type": "code",
   "execution_count": 3,
   "id": "fbebe5eb-43ac-4e0d-91a1-6a98aae08b68",
   "metadata": {},
   "outputs": [
    {
     "data": {
      "text/plain": [
       "Array(0.901, dtype=float32)"
      ]
     },
     "execution_count": 3,
     "metadata": {},
     "output_type": "execute_result"
    }
   ],
   "source": [
    "# pre-compute local weights\n",
    "local_weights = lsci.localize(xval, xtest, 5)\n",
    "\n",
    "# evaluate phi-depth\n",
    "n_proj = 5\n",
    "depth_val = lsci.local_phi_depth(rval, rval, local_weights, n_proj)\n",
    "depth_test = lsci.local_phi_depth(rval, rtest, local_weights, n_proj, reduce = True)\n",
    "\n",
    "# conformal quantiles\n",
    "alpha = 0.1\n",
    "quant_val = lsci.local_quantile(depth_val, alpha)\n",
    "\n",
    "# check coverage\n",
    "jnp.mean(depth_test > quant_val) # 0.901"
   ]
  },
  {
   "cell_type": "code",
   "execution_count": 4,
   "id": "15012d42-9421-4c90-af12-efac71caf5cb",
   "metadata": {},
   "outputs": [
    {
     "data": {
      "text/plain": [
       "(5000, 100)"
      ]
     },
     "execution_count": 4,
     "metadata": {},
     "output_type": "execute_result"
    }
   ],
   "source": [
    "# sample ensemble at test point X_i\n",
    "i = 10\n",
    "n_samp = 5000\n",
    "conf_ens = lsci.local_sampler(rval, local_weights[i], alpha, n_samp, n_proj)"
   ]
  },
  {
   "cell_type": "code",
   "execution_count": null,
   "id": "429bdd15-5e4f-40f0-8c95-1ff42daf6066",
   "metadata": {},
   "outputs": [],
   "source": []
  },
  {
   "cell_type": "code",
   "execution_count": 42,
   "id": "15e7cd6f-a4ce-4779-a65d-9a542c77fafc",
   "metadata": {},
   "outputs": [],
   "source": [
    "# local weights\n",
    "local_weights = lsci.l2_localizer(xval, xtest, lam = 1)"
   ]
  },
  {
   "cell_type": "code",
   "execution_count": 43,
   "id": "bf8a2722-6313-4102-a959-1b11914b4d0f",
   "metadata": {},
   "outputs": [],
   "source": [
    "# sample candidate set\n",
    "ens = lsci.fpca_sampler(rval, local_weights[0:1], n_samp = 5000, rng = random.key(0))\n",
    "\n",
    "# filter out-of-bounds functions\n",
    "ens = lsci.depth_reject(rval, ens, local_weights[0:1], n_phi = 10, alpha = 0.1, rng = random.key(0))"
   ]
  },
  {
   "cell_type": "code",
   "execution_count": null,
   "id": "1cdebc50-1f93-473d-9b5e-f88d912e67bb",
   "metadata": {},
   "outputs": [],
   "source": []
  },
  {
   "cell_type": "code",
   "execution_count": 196,
   "id": "4c8ef660-68af-41a3-9e81-910619815859",
   "metadata": {},
   "outputs": [],
   "source": [
    "n, p = 2000, 25\n",
    "\n",
    "data_rng = random.key(0)\n",
    "data_keys = random.split(data_rng, 6)\n",
    "\n",
    "xval = random.normal(data_keys[0], (n, p))\n",
    "yval = 1 + random.normal(data_keys[1], (n, p))\n",
    "yval_hat = 1.2 + random.normal(data_keys[2], (n, p))\n",
    "\n",
    "xtest = random.normal(data_keys[3], (n, p))\n",
    "ytest = 1 + random.normal(data_keys[4], (n, p))\n",
    "ytest_hat = 1.2 + random.normal(data_keys[5], (n, p))\n",
    "\n",
    "rval = yval - yval_hat\n",
    "rtest = ytest - ytest_hat"
   ]
  },
  {
   "cell_type": "code",
   "execution_count": 222,
   "id": "d9278790-9a29-48e8-8698-36e38848d1e5",
   "metadata": {},
   "outputs": [],
   "source": [
    "alpha = 0.1\n",
    "alpha_conf = jnp.ceil((n+1)*(1-alpha))/n"
   ]
  },
  {
   "cell_type": "code",
   "execution_count": 223,
   "id": "3a1e6d1f-ddfe-459a-b02b-0501087b255b",
   "metadata": {},
   "outputs": [],
   "source": [
    "# local weights and projections\n",
    "method_rng = random.key(0)\n",
    "method_keys = random.split(method_rng, 2)\n",
    "\n",
    "noise = 0.1*random.normal(method_keys[0], xtest.shape)\n",
    "local_weights = lsci.linf_localizer(xval, xtest + noise, 5)\n",
    "phi = lsci.phi_slice(method_keys[1], p, 25)"
   ]
  },
  {
   "cell_type": "code",
   "execution_count": 224,
   "id": "ef2dff5a-69a6-4dc2-9284-130310faa8b7",
   "metadata": {},
   "outputs": [],
   "source": [
    "# project data\n",
    "phi_val = rval @ phi\n",
    "phi_test = rtest @ phi"
   ]
  },
  {
   "cell_type": "code",
   "execution_count": 225,
   "id": "45c29d48-06d2-4637-8c54-cd50ba44aade",
   "metadata": {},
   "outputs": [],
   "source": [
    "# conformal cutoffs \n",
    "depth_val = lsci.phi_tukey(phi_val, phi_val, local_weights)\n",
    "quant_val = jnp.quantile(depth_val, 1-alpha_conf, axis = 1)"
   ]
  },
  {
   "cell_type": "code",
   "execution_count": 226,
   "id": "24472b76-f7ee-4e8d-af6f-cef07484a8a8",
   "metadata": {},
   "outputs": [
    {
     "data": {
      "text/plain": [
       "Array(0.90150005, dtype=float32)"
      ]
     },
     "execution_count": 226,
     "metadata": {},
     "output_type": "execute_result"
    }
   ],
   "source": [
    "# check coverage (no ensemble req)\n",
    "depth_test = jnp.diag(lsci.phi_tukey(phi_val, phi_test, local_weights))\n",
    "jnp.mean(depth_test > quant_val) #0.901"
   ]
  },
  {
   "cell_type": "code",
   "execution_count": 227,
   "id": "5ff69611-a3bc-425f-828d-185947d263b2",
   "metadata": {},
   "outputs": [],
   "source": [
    "# sample ensemble\n",
    "ens = lsci.fpca_sampler(rval, local_weights[0:1], 1000, random.key(1))\n",
    "ens = lsci.depth_reject(rval, ens, local_weights[0:1], n_phi = 10, alpha = alpha_conf, rng = random.key(0))"
   ]
  },
  {
   "cell_type": "code",
   "execution_count": 228,
   "id": "2ccadac5-1c81-4b74-849e-59004334af59",
   "metadata": {},
   "outputs": [
    {
     "data": {
      "text/plain": [
       "(894, 25)"
      ]
     },
     "execution_count": 228,
     "metadata": {},
     "output_type": "execute_result"
    }
   ],
   "source": [
    "ens.shape"
   ]
  },
  {
   "cell_type": "code",
   "execution_count": null,
   "id": "f733f851-2f65-4007-b190-b4ef35ddaf36",
   "metadata": {},
   "outputs": [],
   "source": [
    "# localizers\n",
    "\n",
    "## three localizers + a wrapper function localize()\n",
    "\n",
    "# phi projectors\n",
    "\n",
    "## five projectors + a wrapper function project()\n",
    "\n",
    "# depth functions\n",
    "\n",
    "## three depth functions + a wrapper function depth()\n",
    "\n",
    "# ensemble samplers\n",
    "\n",
    "## one sampler function sample()\n",
    "\n",
    "# depth filters\n",
    "\n",
    "## one filtering function filter()"
   ]
  },
  {
   "cell_type": "code",
   "execution_count": null,
   "id": "ebe01655-c895-4fdf-bf2e-4892818ec0cb",
   "metadata": {},
   "outputs": [],
   "source": []
  },
  {
   "cell_type": "code",
   "execution_count": null,
   "id": "45aaabf5-39f0-4e5d-a67a-088f6640cf46",
   "metadata": {},
   "outputs": [],
   "source": []
  },
  {
   "cell_type": "code",
   "execution_count": null,
   "id": "b0f88676-1dee-416f-89c8-be7a56f154a7",
   "metadata": {},
   "outputs": [],
   "source": []
  },
  {
   "cell_type": "code",
   "execution_count": null,
   "id": "ee8685a8-196e-4cac-9d09-64f31499d5ca",
   "metadata": {},
   "outputs": [],
   "source": []
  }
 ],
 "metadata": {
  "kernelspec": {
   "display_name": "Python 3 (ipykernel)",
   "language": "python",
   "name": "python3"
  },
  "language_info": {
   "codemirror_mode": {
    "name": "ipython",
    "version": 3
   },
   "file_extension": ".py",
   "mimetype": "text/x-python",
   "name": "python",
   "nbconvert_exporter": "python",
   "pygments_lexer": "ipython3",
   "version": "3.12.3"
  }
 },
 "nbformat": 4,
 "nbformat_minor": 5
}
