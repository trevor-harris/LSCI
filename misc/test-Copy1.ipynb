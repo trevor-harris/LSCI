{
 "cells": [
  {
   "cell_type": "code",
   "execution_count": 2,
   "id": "2fc21903",
   "metadata": {},
   "outputs": [],
   "source": [
    "import math\n",
    "import numpy as np\n",
    "import matplotlib\n",
    "import matplotlib.pyplot as plt\n",
    "\n",
    "import jax\n",
    "import jax.numpy as jnp\n",
    "import jax.scipy.stats as stats\n",
    "from jax import jacfwd, jacrev\n",
    "from jax import vmap, grad, jit, random\n",
    "from jax.tree_util import tree_map, tree_flatten, tree_unflatten, tree_leaves\n",
    "\n",
    "from flax import nnx\n",
    "import optax\n",
    "import pcax\n",
    "\n",
    "from tqdm.notebook import tqdm\n",
    "from tqdm.notebook import trange\n",
    "\n",
    "import torch\n",
    "from torch.utils.data import DataLoader, TensorDataset"
   ]
  },
  {
   "cell_type": "code",
   "execution_count": 3,
   "id": "538fcce4-cd54-43e1-b4d6-56e7651c21ac",
   "metadata": {},
   "outputs": [],
   "source": [
    "def jac(model, x):\n",
    "    f = lambda x: model(x)\n",
    "    return jax.jacrev(f)(x)\n",
    "jac = vmap(jac, (None, 0))"
   ]
  },
  {
   "cell_type": "code",
   "execution_count": 42,
   "id": "0d75a19e-f29f-46a6-ba00-9539e136ff7c",
   "metadata": {},
   "outputs": [],
   "source": [
    "class mlp(nnx.Module):\n",
    "    def __init__(self, p, rngs: nnx.Rngs):\n",
    "        self.linear1 = nnx.Linear(p, p, rngs=rngs)\n",
    "        self.linear2 = nnx.Linear(p, p, rngs=rngs)\n",
    "#         self.linear3 = nnx.Linear(p, p, rngs=rngs)\n",
    "#         self.linear4 = nnx.Linear(p, p, rngs=rngs)\n",
    "#         self.linear0 = nnx.Linear(p, p, rngs=rngs)\n",
    "    def __call__(self, x):\n",
    "#         x_in = x\n",
    "        x = self.linear1(x)\n",
    "        x = nnx.tanh(x)\n",
    "        x = self.linear2(x)\n",
    "        # x = nnx.tanh(x)\n",
    "        # x = x + self.linear3(x)\n",
    "        # x = nnx.tanh(x)\n",
    "        # x = x + self.linear4(x)\n",
    "        return x\n",
    "        \n",
    "def train_step(model, optimizer, x, y):\n",
    "    def loss_fn(model):\n",
    "        y_pred = model(x)\n",
    "        jacobian = jnp.diff(jac(model, x), axis = 0)\n",
    "        pen = 10*jnp.mean(jnp.abs(jacobian))\n",
    "        return jnp.mean((y_pred - y)**2) + pen\n",
    "\n",
    "    loss, grads = nnx.value_and_grad(loss_fn)(model)\n",
    "    optimizer.update(grads)\n",
    "    return loss"
   ]
  },
  {
   "cell_type": "code",
   "execution_count": 43,
   "id": "eec0035e-dd6b-4bd1-a715-42f31e9078c6",
   "metadata": {},
   "outputs": [],
   "source": [
    "# class mlp(nnx.Module):\n",
    "#     def __init__(self, p, rngs: nnx.Rngs):\n",
    "#         self.lin1 = nnx.Linear(p, p//2, rngs=rngs)\n",
    "#         self.lin2 = nnx.Linear(p//2, p//2, rngs=rngs)\n",
    "#         self.lin3 = nnx.Linear(p//2, p, rngs=rngs)\n",
    "#     def __call__(self, x):\n",
    "#         x = self.lin1(x)\n",
    "#         x = nnx.relu(x)\n",
    "#         x = self.lin2(x)\n",
    "#         x = nnx.relu(x)\n",
    "#         x = self.lin3(x)\n",
    "#         return x"
   ]
  },
  {
   "cell_type": "code",
   "execution_count": 46,
   "id": "248336d0-23ec-4b6e-a846-d288d175f2b5",
   "metadata": {},
   "outputs": [
    {
     "data": {
      "text/plain": [
       "Array([[False,  True, False, ..., False,  True, False],\n",
       "       [False, False,  True, ...,  True,  True, False],\n",
       "       [ True,  True,  True, ..., False, False,  True],\n",
       "       ...,\n",
       "       [False, False, False, ..., False, False, False],\n",
       "       [False,  True, False, ..., False, False,  True],\n",
       "       [ True,  True, False, ...,  True,  True,  True]], dtype=bool)"
      ]
     },
     "execution_count": 46,
     "metadata": {},
     "output_type": "execute_result"
    }
   ],
   "source": [
    "random.bernoulli(rng, 0.5, (p, p))"
   ]
  },
  {
   "cell_type": "code",
   "execution_count": 59,
   "id": "5a6b1f19-4787-40d8-98dc-917b6bc4b03d",
   "metadata": {},
   "outputs": [],
   "source": [
    "rng = random.PRNGKey(0)\n",
    "n, p = 5000, 50\n",
    "\n",
    "theta = np.diag(np.zeros(p))\n",
    "# theta[1,2] = 0.2\n",
    "# theta[2,1] = 0.2\n",
    "# theta = theta/jnp.sum(theta)\n",
    "idx = random.bernoulli(rng, 0.2, (p, p))\n",
    "theta[idx] = 0.1\n",
    "# theta = theta/jnp.sum(theta)\n",
    "x = np.array(random.normal(rng, (n, p)))\n",
    "\n",
    "for i in range(1, n):\n",
    "    x[i] = theta @ x[i-1] + x[i]\n",
    "    \n",
    "y = x[1:]\n",
    "x = x[:-1]"
   ]
  },
  {
   "cell_type": "code",
   "execution_count": 60,
   "id": "e7562105",
   "metadata": {},
   "outputs": [
    {
     "data": {
      "text/plain": [
       "<matplotlib.image.AxesImage at 0x7fda0e705940>"
      ]
     },
     "execution_count": 60,
     "metadata": {},
     "output_type": "execute_result"
    },
    {
     "data": {
      "image/png": "[encoded data removed]",
      "text/plain": [
       "<Figure size 640x480 with 1 Axes>"
      ]
     },
     "metadata": {},
     "output_type": "display_data"
    }
   ],
   "source": [
    "plt.imshow(theta)"
   ]
  },
  {
   "cell_type": "code",
   "execution_count": 61,
   "id": "27895b62-3cb7-4f53-b622-e2674a983366",
   "metadata": {},
   "outputs": [
    {
     "data": {
      "application/vnd.jupyter.widget-view+json": {
       "model_id": "1a74cae6f384400cbd414c48d68d01f7",
       "version_major": 2,
       "version_minor": 0
      },
      "text/plain": [
       "  0%|          | 0/1000 [00:00<?, ?it/s]"
      ]
     },
     "metadata": {},
     "output_type": "display_data"
    }
   ],
   "source": [
    "model1 = mlp(p = p, rngs = nnx.Rngs(0))\n",
    "optim = nnx.Optimizer(model1, optax.adam(1e-2))\n",
    "trace = []\n",
    "for _ in trange(1000):\n",
    "    loss = train_step(model1, optim, x, y)\n",
    "    trace.append(loss)"
   ]
  },
  {
   "cell_type": "code",
   "execution_count": 62,
   "id": "fc24fcfc",
   "metadata": {},
   "outputs": [],
   "source": [
    "jfull1 = jac(model1, x)"
   ]
  },
  {
   "cell_type": "code",
   "execution_count": 63,
   "id": "e0d28f42-2a9c-45f4-b699-78eedb9082d6",
   "metadata": {},
   "outputs": [
    {
     "data": {
      "text/plain": [
       "[<matplotlib.lines.Line2D at 0x7fda0e9bcb30>]"
      ]
     },
     "execution_count": 63,
     "metadata": {},
     "output_type": "execute_result"
    },
    {
     "data": {
      "image/png": "[encoded data removed]",
      "text/plain": [
       "<Figure size 640x480 with 1 Axes>"
      ]
     },
     "metadata": {},
     "output_type": "display_data"
    }
   ],
   "source": [
    "plt.plot(jfull1[:,1,4])"
   ]
  },
  {
   "cell_type": "code",
   "execution_count": 64,
   "id": "6373a161-a00a-49b0-96cf-b6765e23c2a5",
   "metadata": {},
   "outputs": [
    {
     "data": {
      "text/plain": [
       "<matplotlib.image.AxesImage at 0x7fda0ea04110>"
      ]
     },
     "execution_count": 64,
     "metadata": {},
     "output_type": "execute_result"
    },
    {
     "data": {
      "image/png": "[encoded data removed]",
      "text/plain": [
       "<Figure size 640x480 with 1 Axes>"
      ]
     },
     "metadata": {},
     "output_type": "display_data"
    }
   ],
   "source": [
    "jfull1 = jac(model1, x)\n",
    "jhat1 = jnp.median(jnp.abs(jfull1), axis = 0)\n",
    "plt.imshow(jhat1)"
   ]
  },
  {
   "cell_type": "code",
   "execution_count": 65,
   "id": "8ca7f28a-2375-4ec5-9507-2bb79647a8be",
   "metadata": {},
   "outputs": [],
   "source": [
    "rng = random.PRNGKey(1234)\n",
    "r = np.array(random.normal(rng, (n, p)))\n",
    "ry = r[1:]\n",
    "rx = r[:-1]"
   ]
  },
  {
   "cell_type": "code",
   "execution_count": 66,
   "id": "d9aedc70-a1e3-4af1-bbd8-273a0f690d1b",
   "metadata": {},
   "outputs": [
    {
     "data": {
      "application/vnd.jupyter.widget-view+json": {
       "model_id": "5021a16fe57d4e4fbf079ca628b8a154",
       "version_major": 2,
       "version_minor": 0
      },
      "text/plain": [
       "  0%|          | 0/1000 [00:00<?, ?it/s]"
      ]
     },
     "metadata": {},
     "output_type": "display_data"
    }
   ],
   "source": [
    "model2 = mlp(p = p, rngs = nnx.Rngs(0))\n",
    "optim = nnx.Optimizer(model2, optax.adam(1e-2))\n",
    "trace = []\n",
    "for _ in trange(1000):\n",
    "    loss = train_step(model2, optim, rx, ry)\n",
    "    trace.append(loss)"
   ]
  },
  {
   "cell_type": "code",
   "execution_count": 67,
   "id": "d8d3c4f4-9f52-4390-a945-85d30351a12e",
   "metadata": {},
   "outputs": [
    {
     "data": {
      "text/plain": [
       "<matplotlib.image.AxesImage at 0x7fda0d6c71d0>"
      ]
     },
     "execution_count": 67,
     "metadata": {},
     "output_type": "execute_result"
    },
    {
     "data": {
      "image/png": "[encoded data removed]",
      "text/plain": [
       "<Figure size 640x480 with 1 Axes>"
      ]
     },
     "metadata": {},
     "output_type": "display_data"
    }
   ],
   "source": [
    "jfull2 = jac(model2, x)\n",
    "jhat2 = jnp.median(np.abs(jfull2), axis = 0)\n",
    "plt.imshow(jhat2)"
   ]
  },
  {
   "cell_type": "code",
   "execution_count": 68,
   "id": "a7ddcb98-08ab-49ef-ae5f-40237af698f7",
   "metadata": {},
   "outputs": [],
   "source": [
    "# jhat2 += jnp.median(jhat2)"
   ]
  },
  {
   "cell_type": "code",
   "execution_count": 69,
   "id": "02bfd854-3753-4ea8-942d-3a632fda5b03",
   "metadata": {},
   "outputs": [
    {
     "data": {
      "application/vnd.jupyter.widget-view+json": {
       "model_id": "95bbef2f94fa48d9b6862220365e2e15",
       "version_major": 2,
       "version_minor": 0
      },
      "text/plain": [
       "  0%|          | 0/2500 [00:00<?, ?it/s]"
      ]
     },
     "metadata": {},
     "output_type": "display_data"
    },
    {
     "data": {
      "text/plain": [
       "Array(0.0360144, dtype=float32)"
      ]
     },
     "execution_count": 69,
     "metadata": {},
     "output_type": "execute_result"
    }
   ],
   "source": [
    "alpha = 0.05\n",
    "t = jnp.linspace(0, 2, p**2)\n",
    "fdp = []\n",
    "for i in trange(len(t)):\n",
    "    fdp = np.sum(jhat2 >= t[i])/np.sum(jhat1 >= t[i])\n",
    "    if fdp <= alpha:\n",
    "        break\n",
    "tq = t[i]\n",
    "tq"
   ]
  },
  {
   "cell_type": "code",
   "execution_count": 70,
   "id": "eb9c174d-dda6-4f15-8a9b-f2cd60b58a04",
   "metadata": {},
   "outputs": [],
   "source": [
    "# tq = t[np.argmax(np.array(fdp) <= alpha)]"
   ]
  },
  {
   "cell_type": "code",
   "execution_count": 71,
   "id": "eedccbd4-fbe6-47f5-8987-66c575d90c64",
   "metadata": {},
   "outputs": [
    {
     "data": {
      "image/png": "[encoded data removed]",
      "text/plain": [
       "<Figure size 1000x500 with 2 Axes>"
      ]
     },
     "metadata": {},
     "output_type": "display_data"
    }
   ],
   "source": [
    "fig, ax = plt.subplots(1, 2, constrained_layout = True, figsize = (10, 5))\n",
    "ax[0].imshow(theta)\n",
    "ax[0].set_title('Actual')\n",
    "ax[1].imshow(jhat1 >= tq)\n",
    "ax[1].set_title('Estimate')\n",
    "plt.show()"
   ]
  },
  {
   "cell_type": "code",
   "execution_count": 76,
   "id": "81188075-4d27-4c56-99bd-2a8b1463f395",
   "metadata": {},
   "outputs": [
    {
     "data": {
      "text/plain": [
       "array([[False, False, False, ..., False, False, False],\n",
       "       [ True, False, False, ..., False, False, False],\n",
       "       [False,  True, False, ..., False,  True, False],\n",
       "       ...,\n",
       "       [False, False, False, ..., False,  True,  True],\n",
       "       [False, False,  True, ..., False, False, False],\n",
       "       [False, False, False, ..., False, False,  True]], shape=(50, 50))"
      ]
     },
     "execution_count": 76,
     "metadata": {},
     "output_type": "execute_result"
    }
   ],
   "source": [
    "theta > 0"
   ]
  },
  {
   "cell_type": "code",
   "execution_count": 78,
   "id": "599888f6-8056-4830-8b53-08f0f2214e84",
   "metadata": {},
   "outputs": [
    {
     "data": {
      "text/plain": [
       "Array(0.19999999, dtype=float32)"
      ]
     },
     "execution_count": 78,
     "metadata": {},
     "output_type": "execute_result"
    }
   ],
   "source": [
    "np.mean((theta > 0) == (jnp.abs(jhat1)>0))"
   ]
  },
  {
   "cell_type": "code",
   "execution_count": 72,
   "id": "775a2f85-9e27-4924-9234-a7e81c04101f",
   "metadata": {},
   "outputs": [
    {
     "data": {
      "text/plain": [
       "Array(0.20439999, dtype=float32)"
      ]
     },
     "execution_count": 72,
     "metadata": {},
     "output_type": "execute_result"
    }
   ],
   "source": [
    "np.mean(jhat1 >= tq)"
   ]
  },
  {
   "cell_type": "code",
   "execution_count": null,
   "id": "eada4f67-3db0-454a-b9dc-ff6be72a3c32",
   "metadata": {},
   "outputs": [],
   "source": []
  },
  {
   "cell_type": "code",
   "execution_count": null,
   "id": "03720578-bbca-4bf7-a4d3-428ad6d6bcec",
   "metadata": {},
   "outputs": [],
   "source": []
  },
  {
   "cell_type": "code",
   "execution_count": null,
   "id": "e0dd9a48-ac6f-4030-92f1-06ebc7228ea1",
   "metadata": {},
   "outputs": [],
   "source": []
  },
  {
   "cell_type": "code",
   "execution_count": 121,
   "id": "151a310b-f9da-4096-ad9f-1f1c2cf35041",
   "metadata": {},
   "outputs": [],
   "source": [
    "import torch\n",
    "import torch.nn as nn\n",
    "import torch.optim as optim\n",
    "from torchdiffeq import odeint\n",
    "import matplotlib.pyplot as plt\n",
    "\n",
    "# Device\n",
    "device = torch.device('cuda' if torch.cuda.is_available() else 'cpu')\n",
    "\n",
    "# Simulate interacting multivariate time series\n",
    "def true_dynamics(t, y):\n",
    "    y1, y2, y3 = y[0], y[1], y[2]\n",
    "    dy1 = -0.1 * y1 + 0.5 * y2 * y3\n",
    "    dy2 = -y2 + torch.sin(y1)\n",
    "    dy3 = y1 * y2 - 0.3 * y3\n",
    "    return torch.stack([dy1, dy2, dy3])\n",
    "\n",
    "t = torch.linspace(0., 5., 100).to(device)   # time points\n",
    "y0 = torch.tensor([1.0, 0.5, -1.0], device=device)  # initial condition\n",
    "\n",
    "with torch.no_grad():\n",
    "    y_data = [y0]\n",
    "    dt = t[1] - t[0]\n",
    "    for _ in range(1, len(t)):\n",
    "        y_next = y_data[-1] + dt * true_dynamics(None, y_data[-1])\n",
    "        y_data.append(y_next)\n",
    "    y_data = torch.stack(y_data) + 0.01 * torch.randn_like(torch.stack(y_data))  # add noise"
   ]
  },
  {
   "cell_type": "code",
   "execution_count": 122,
   "id": "72cf3d75-49cd-4c48-9552-c563820b047f",
   "metadata": {},
   "outputs": [],
   "source": [
    "class ODEF(nn.Module):\n",
    "    def __init__(self, dim):\n",
    "        super().__init__()\n",
    "        self.net = nn.Sequential(\n",
    "            nn.Linear(dim + 1, 64),\n",
    "            nn.Tanh(),\n",
    "            nn.Linear(64, dim),\n",
    "        )\n",
    "\n",
    "    def forward(self, t, y):\n",
    "        # concat y with time for time-aware dynamics\n",
    "        t_expanded = torch.ones(y.shape[0], 1).to(y) * t\n",
    "        inp = torch.cat([y, t_expanded], dim=1)\n",
    "        return self.net(inp)"
   ]
  },
  {
   "cell_type": "code",
   "execution_count": 123,
   "id": "128c3616-0d26-4135-a303-4985580f99da",
   "metadata": {},
   "outputs": [
    {
     "data": {
      "application/vnd.jupyter.widget-view+json": {
       "model_id": "a07343831c9d49849d06df6bd2ab9f16",
       "version_major": 2,
       "version_minor": 0
      },
      "text/plain": [
       "  0%|          | 0/500 [00:00<?, ?it/s]"
      ]
     },
     "metadata": {},
     "output_type": "display_data"
    },
    {
     "name": "stdout",
     "output_type": "stream",
     "text": [
      "Epoch 0, Loss: 0.592512\n",
      "Epoch 50, Loss: 0.000521\n",
      "Epoch 100, Loss: 0.000245\n",
      "Epoch 150, Loss: 0.000202\n",
      "Epoch 200, Loss: 0.000175\n",
      "Epoch 250, Loss: 0.000159\n",
      "Epoch 300, Loss: 0.000149\n",
      "Epoch 350, Loss: 0.000142\n",
      "Epoch 400, Loss: 0.000138\n",
      "Epoch 450, Loss: 0.000136\n"
     ]
    }
   ],
   "source": [
    "class NeuralODE(nn.Module):\n",
    "    def __init__(self, odefunc):\n",
    "        super().__init__()\n",
    "        self.odefunc = odefunc\n",
    "\n",
    "    def forward(self, y0, t):\n",
    "        return odeint(self.odefunc, y0, t)\n",
    "\n",
    "# Wrap inputs\n",
    "y_data = y_data.to(device)\n",
    "y0_train = y_data[0].unsqueeze(0)  # shape: (1, 3)\n",
    "\n",
    "odefunc = ODEF(dim=3).to(device)\n",
    "model = NeuralODE(odefunc).to(device)\n",
    "optimizer = optim.Adam(model.parameters(), lr=1e-2)\n",
    "\n",
    "loss_fn = nn.MSELoss()\n",
    "\n",
    "for epoch in trange(500):\n",
    "    optimizer.zero_grad()\n",
    "    pred_y = model(y0_train, t).squeeze(1)  # shape: (T, 3)\n",
    "    loss = loss_fn(pred_y, y_data)\n",
    "    loss.backward()\n",
    "    optimizer.step()\n",
    "    if epoch % 50 == 0:\n",
    "        print(f\"Epoch {epoch}, Loss: {loss.item():.6f}\")"
   ]
  },
  {
   "cell_type": "code",
   "execution_count": 168,
   "id": "2b824938-4df8-4544-9feb-9ceaf604f464",
   "metadata": {},
   "outputs": [],
   "source": [
    "yhat = model(y0_train, t).squeeze().detach().cpu()\n",
    "ynoise = model(y0_train + 0.2 * torch.Tensor([1, 0, 1]).cuda(), t).squeeze().detach().cpu()"
   ]
  },
  {
   "cell_type": "code",
   "execution_count": 169,
   "id": "233dc1df-a693-4909-bfa2-394fcf0df943",
   "metadata": {},
   "outputs": [
    {
     "data": {
      "image/png": "[encoded data removed]",
      "text/plain": [
       "<Figure size 640x480 with 1 Axes>"
      ]
     },
     "metadata": {},
     "output_type": "display_data"
    }
   ],
   "source": [
    "plt.plot((yhat - ynoise))\n",
    "plt.show()"
   ]
  },
  {
   "cell_type": "code",
   "execution_count": null,
   "id": "d581af87-0a39-45dd-a60d-07a555dcc723",
   "metadata": {},
   "outputs": [],
   "source": []
  },
  {
   "cell_type": "code",
   "execution_count": 4,
   "id": "1494afea-20b4-49cf-9f05-d57d367f5417",
   "metadata": {},
   "outputs": [],
   "source": [
    "def mutual_info(x, y):\n",
    "    z = jnp.concat([x, y], axis = 1)\n",
    "    \n",
    "    sig_x = jnp.cov(x.T)\n",
    "    sig_y = jnp.cov(y.T)\n",
    "    sig_z = jnp.cov(z.T)\n",
    "\n",
    "    det_x = jnp.linalg.det(sig_x)\n",
    "    det_y = jnp.linalg.det(sig_y)\n",
    "    det_z = jnp.linalg.det(sig_z)\n",
    "\n",
    "    return 0.5 * jnp.log((det_x * det_y) / det_z)\n",
    "mutual_info = jit(mutual_info)"
   ]
  },
  {
   "cell_type": "code",
   "execution_count": 88,
   "id": "48beecc2-1e96-4d00-a216-44c8c6ae9d20",
   "metadata": {},
   "outputs": [
    {
     "data": {
      "text/plain": [
       "Array(0.00291029, dtype=float32)"
      ]
     },
     "execution_count": 88,
     "metadata": {},
     "output_type": "execute_result"
    }
   ],
   "source": [
    "rng = random.PRNGKey(678)\n",
    "n, p = 2000, 2\n",
    "\n",
    "rng = random.PRNGKey(1)\n",
    "key1, key2 = random.split(rng, 2)\n",
    "x = random.normal(key1, (n//2, p))\n",
    "y = random.normal(key2, (n//2, p))\n",
    "\n",
    "mi_ind = mutual_info(x, y)\n",
    "mi_ind"
   ]
  },
  {
   "cell_type": "code",
   "execution_count": 89,
   "id": "440044c9-7959-4439-89e1-a206f59620da",
   "metadata": {},
   "outputs": [
    {
     "data": {
      "text/plain": [
       "<matplotlib.colorbar.Colorbar at 0x7f602073b440>"
      ]
     },
     "execution_count": 89,
     "metadata": {},
     "output_type": "execute_result"
    },
    {
     "data": {
      "image/png": "[encoded data removed]",
      "text/plain": [
       "<Figure size 640x480 with 2 Axes>"
      ]
     },
     "metadata": {},
     "output_type": "display_data"
    }
   ],
   "source": [
    "z = jnp.concat([x, y], axis = 1)\n",
    "sig_z = jnp.cov(z.T)\n",
    "det_z = jnp.linalg.det(sig_z)\n",
    "plt.imshow(sig_z)\n",
    "plt.colorbar()"
   ]
  },
  {
   "cell_type": "code",
   "execution_count": null,
   "id": "e1d1c993-eccf-4344-b2dd-f26d43af43ec",
   "metadata": {},
   "outputs": [],
   "source": []
  },
  {
   "cell_type": "code",
   "execution_count": 79,
   "id": "0442e5b3-3da4-41f5-a112-a5ef212fce93",
   "metadata": {},
   "outputs": [],
   "source": [
    "rng = random.PRNGKey(0)"
   ]
  },
  {
   "cell_type": "code",
   "execution_count": 80,
   "id": "ccd7f6b5-7840-49de-9f2a-eb2f3d0227ed",
   "metadata": {},
   "outputs": [
    {
     "data": {
      "application/vnd.jupyter.widget-view+json": {
       "model_id": "a9cd88490d1e4e9799a9ee02769bd812",
       "version_major": 2,
       "version_minor": 0
      },
      "text/plain": [
       "  0%|          | 0/1999 [00:00<?, ?it/s]"
      ]
     },
     "metadata": {},
     "output_type": "display_data"
    }
   ],
   "source": [
    "# ar process\n",
    "theta_x = 0.2\n",
    "theta_y = 0.2\n",
    "\n",
    "x = np.zeros((n, p))\n",
    "y = np.zeros((n, p))\n",
    "\n",
    "x[i] = random.normal(key1, (1, p))\n",
    "y[i] = random.normal(key2, (1, p))\n",
    "\n",
    "for i in trange(1, n):\n",
    "    rng, key1, key2 = random.split(rng, 3)\n",
    "    x[i] = theta_x * x[i-1] + random.normal(key1, (1, p))\n",
    "    y[i] = theta_y * y[i-1] + random.normal(key2, (1, p))\n",
    "\n",
    "x = x[(n//2):]\n",
    "y = y[(n//2):]"
   ]
  },
  {
   "cell_type": "code",
   "execution_count": 81,
   "id": "41cb814a-9794-4848-9c1b-ce5ff627072b",
   "metadata": {},
   "outputs": [
    {
     "data": {
      "text/plain": [
       "Array(0.00840791, dtype=float32)"
      ]
     },
     "execution_count": 81,
     "metadata": {},
     "output_type": "execute_result"
    }
   ],
   "source": [
    "mi_dep = mutual_info(x, y)\n",
    "mi_dep"
   ]
  },
  {
   "cell_type": "code",
   "execution_count": 82,
   "id": "427baf2d-92ca-409f-9e44-aa6629c50f3f",
   "metadata": {},
   "outputs": [
    {
     "data": {
      "text/plain": [
       "Array(2.889024, dtype=float32)"
      ]
     },
     "execution_count": 82,
     "metadata": {},
     "output_type": "execute_result"
    }
   ],
   "source": [
    "mi_dep/mi_ind"
   ]
  },
  {
   "cell_type": "code",
   "execution_count": null,
   "id": "6932f109-a260-453c-8880-aaee8ab46c0e",
   "metadata": {},
   "outputs": [],
   "source": []
  },
  {
   "cell_type": "code",
   "execution_count": 83,
   "id": "0b035b7a-2b3b-4d0d-a630-e052ac0766f4",
   "metadata": {},
   "outputs": [],
   "source": [
    "z = jnp.concat([x, y], axis = 1)\n",
    "sig_z = jnp.cov(z.T)\n",
    "det_z = jnp.linalg.det(sig_z)"
   ]
  },
  {
   "cell_type": "code",
   "execution_count": 87,
   "id": "fcbf9f6d-d53d-4b52-a12d-e4fd643bcee7",
   "metadata": {},
   "outputs": [
    {
     "data": {
      "text/plain": [
       "<matplotlib.colorbar.Colorbar at 0x7f603809e2a0>"
      ]
     },
     "execution_count": 87,
     "metadata": {},
     "output_type": "execute_result"
    },
    {
     "data": {
      "image/png": "[encoded data removed]",
      "text/plain": [
       "<Figure size 640x480 with 2 Axes>"
      ]
     },
     "metadata": {},
     "output_type": "display_data"
    }
   ],
   "source": [
    "plt.imshow(sig_z)\n",
    "plt.colorbar()"
   ]
  },
  {
   "cell_type": "code",
   "execution_count": null,
   "id": "9f4478ce-5e41-4346-a999-157c3d3ab610",
   "metadata": {},
   "outputs": [],
   "source": []
  },
  {
   "cell_type": "code",
   "execution_count": 323,
   "id": "de684ee4",
   "metadata": {},
   "outputs": [],
   "source": [
    "import os\n",
    "os.chdir('../models_and_metrics')\n",
    "from models import *\n",
    "from metrics import * \n",
    "from utility import *\n",
    "os.chdir('../gpsims')"
   ]
  },
  {
   "cell_type": "code",
   "execution_count": 72,
   "id": "8be7f9e7-64e9-436c-b696-068a5033b919",
   "metadata": {},
   "outputs": [],
   "source": [
    "dtrain = np.load('../data/temp_train_small.npy', mmap_mode='r+')\n",
    "nlat, nlon = dtrain.shape[1:]\n",
    "dtrain = np.mean(dtrain.reshape(-1, 4, nlat, nlon), axis = 1)\n",
    "\n",
    "# def clim_smooth(data, kernel):\n",
    "#     return jax.scipy.signal.convolve2d(data, kernel, mode='same')\n",
    "# clim_smooth = jit(vmap(clim_smooth, (0, None)))\n",
    "\n",
    "# kernel = jnp.array([[1, 1, 1], [1, 5, 1], [1, 1, 1]])\n",
    "# kernel = kernel / jnp.sum(kernel)\n",
    "# dtrain = np.array(clim_smooth(dtrain, kernel))"
   ]
  },
  {
   "cell_type": "code",
   "execution_count": 73,
   "id": "3b265ade",
   "metadata": {},
   "outputs": [],
   "source": [
    "dtrain = jax.image.resize(dtrain, (dtrain.shape[0], 12, 24), method = 'bicubic')\n",
    "dtrain = jnp.mean(dtrain[:121*30].reshape(-1, 30, 12, 24), axis = 1)\n",
    "\n",
    "lag, lead = 12, 1\n",
    "xtrain, ytrain = split_data(dtrain, lag, lead)\n",
    "xtrain = np.moveaxis(xtrain, 1, 3)\n",
    "ytrain = np.moveaxis(ytrain, 1, 3)\n",
    "train_data = TensorDataset(torch.Tensor(xtrain), torch.Tensor(ytrain))\n",
    "train_loader = DataLoader(train_data, batch_size = 64, shuffle = True)"
   ]
  },
  {
   "cell_type": "code",
   "execution_count": 137,
   "id": "37396206",
   "metadata": {},
   "outputs": [
    {
     "data": {
      "application/vnd.jupyter.widget-view+json": {
       "model_id": "b98a31b479cc4d548222e17aad137f8d",
       "version_major": 2,
       "version_minor": 0
      },
      "text/plain": [
       "  0%|          | 0/500 [00:00<?, ?it/s]"
      ]
     },
     "metadata": {},
     "output_type": "display_data"
    }
   ],
   "source": [
    "epochs = 500\n",
    "width = 50\n",
    "rng = random.PRNGKey(0)\n",
    "model_rng = nnx.Rngs(1)\n",
    "\n",
    "model = DeepANO(lag, width, lead, rngs=model_rng)\n",
    "optim = nnx.Optimizer(model, optax.adam(1e-3))\n",
    "trace = []\n",
    "for _ in trange(epochs):\n",
    "    for xt, yt in train_loader:\n",
    "        xt = torch2jax(xt)\n",
    "        yt = torch2jax(yt)\n",
    "        loss = train_step(model, optim, xt, yt)\n",
    "        trace.append(loss)"
   ]
  },
  {
   "cell_type": "code",
   "execution_count": 138,
   "id": "f5e300e4",
   "metadata": {},
   "outputs": [
    {
     "data": {
      "text/plain": [
       "<matplotlib.image.AxesImage at 0x2beb90400>"
      ]
     },
     "execution_count": 138,
     "metadata": {},
     "output_type": "execute_result"
    },
    {
     "data": {
      "image/png": "[encoded data removed]",
      "text/plain": [
       "<Figure size 640x480 with 1 Axes>"
      ]
     },
     "metadata": {},
     "output_type": "display_data"
    }
   ],
   "source": [
    "plt.imshow(model(xtrain[0:1]).squeeze())"
   ]
  },
  {
   "cell_type": "code",
   "execution_count": 69,
   "id": "6d30b275",
   "metadata": {},
   "outputs": [],
   "source": [
    "def spatial_jac(model, x):\n",
    "    def f(x):\n",
    "        x = x.reshape(1, 12, 24, 12)\n",
    "        yhat = model(x)\n",
    "        return yhat.reshape(-1)\n",
    "    return jax.jacrev(f)(x)\n",
    "spatial_jac = vmap(spatial_jac, (None, 0))"
   ]
  },
  {
   "cell_type": "code",
   "execution_count": 148,
   "id": "48b12ac0",
   "metadata": {},
   "outputs": [
    {
     "data": {
      "text/plain": [
       "(288, 288)"
      ]
     },
     "execution_count": 148,
     "metadata": {},
     "output_type": "execute_result"
    }
   ],
   "source": [
    "jfull = spatial_jac(model, xtrain.reshape(109, -1))\n",
    "jhat1 = jnp.mean(jfull, axis = 0).reshape(12*24, 12*24, 12)\n",
    "jmax1 = jnp.max(jnp.abs(jhat1), axis = 2)\n",
    "jmax1.shape"
   ]
  },
  {
   "cell_type": "code",
   "execution_count": 149,
   "id": "d222069f",
   "metadata": {},
   "outputs": [
    {
     "data": {
      "image/png": "[encoded data removed]",
      "text/plain": [
       "<Figure size 640x480 with 2 Axes>"
      ]
     },
     "metadata": {},
     "output_type": "display_data"
    }
   ],
   "source": [
    "plt.imshow(jnp.log(jmax1[120]).reshape(12, 24))\n",
    "plt.colorbar()\n",
    "plt.show()"
   ]
  },
  {
   "cell_type": "code",
   "execution_count": null,
   "id": "ef207c35",
   "metadata": {},
   "outputs": [],
   "source": []
  },
  {
   "cell_type": "code",
   "execution_count": 144,
   "id": "5cfa311e",
   "metadata": {},
   "outputs": [],
   "source": [
    "dtest = jax.random.normal(rng, dtrain.shape)\n",
    "lag, lead = 12, 1\n",
    "xtest, ytest = split_data(dtest, lag, lead)\n",
    "xtest = np.moveaxis(xtest, 1, 3)\n",
    "ytest = np.moveaxis(ytest, 1, 3)\n",
    "test_data = TensorDataset(torch.Tensor(xtest), torch.Tensor(ytest))\n",
    "test_loader = DataLoader(test_data, batch_size = 64, shuffle = True)"
   ]
  },
  {
   "cell_type": "code",
   "execution_count": 145,
   "id": "6bb461e9",
   "metadata": {},
   "outputs": [
    {
     "data": {
      "application/vnd.jupyter.widget-view+json": {
       "model_id": "ec09d9a9da874bc183f8d13b267922ea",
       "version_major": 2,
       "version_minor": 0
      },
      "text/plain": [
       "  0%|          | 0/500 [00:00<?, ?it/s]"
      ]
     },
     "metadata": {},
     "output_type": "display_data"
    }
   ],
   "source": [
    "epochs = 500\n",
    "width = 50\n",
    "rng = random.PRNGKey(0)\n",
    "model_rng = nnx.Rngs(1)\n",
    "\n",
    "model2 = DeepANO(lag, width, lead, rngs=model_rng)\n",
    "optim = nnx.Optimizer(model2, optax.adam(1e-3))\n",
    "trace = []\n",
    "for _ in trange(epochs):\n",
    "    for xt, yt in test_loader:\n",
    "        xt = torch2jax(xt)\n",
    "        yt = torch2jax(yt)\n",
    "        loss = train_step(model2, optim, xt, yt)\n",
    "        trace.append(loss)"
   ]
  },
  {
   "cell_type": "code",
   "execution_count": 129,
   "id": "d4173197",
   "metadata": {},
   "outputs": [
    {
     "data": {
      "text/plain": [
       "(121, 12, 24)"
      ]
     },
     "execution_count": 129,
     "metadata": {},
     "output_type": "execute_result"
    }
   ],
   "source": [
    "jax.random.normal(rng, dtrain.shape).shape"
   ]
  },
  {
   "cell_type": "code",
   "execution_count": 146,
   "id": "9cdc6039",
   "metadata": {},
   "outputs": [
    {
     "data": {
      "text/plain": [
       "(288, 288)"
      ]
     },
     "execution_count": 146,
     "metadata": {},
     "output_type": "execute_result"
    }
   ],
   "source": [
    "jbase = spatial_jac(model2, xtest.reshape(109, -1))\n",
    "jhat2 = jnp.mean(jbase, axis = 0).reshape(12*24, 12*24, 12)\n",
    "jmax2 = jnp.max(jnp.abs(jhat2), axis = 2)\n",
    "jmax2.shape"
   ]
  },
  {
   "cell_type": "code",
   "execution_count": 151,
   "id": "a3997c65",
   "metadata": {},
   "outputs": [
    {
     "data": {
      "application/vnd.jupyter.widget-view+json": {
       "model_id": "3beae0f3fff345fcb0d246cdd6d6a380",
       "version_major": 2,
       "version_minor": 0
      },
      "text/plain": [
       "  0%|          | 0/288 [00:00<?, ?it/s]"
      ]
     },
     "metadata": {},
     "output_type": "display_data"
    },
    {
     "data": {
      "text/plain": [
       "Array(0.1533101, dtype=float32)"
      ]
     },
     "execution_count": 151,
     "metadata": {},
     "output_type": "execute_result"
    }
   ],
   "source": [
    "alpha = 0.05\n",
    "t = jnp.linspace(0, 2, 12*24)\n",
    "fdp = []\n",
    "for i in trange(len(t)):\n",
    "    fdp = np.sum(jmax2 >= t[i])/np.sum(jmax1 >= t[i])\n",
    "    if fdp <= alpha:\n",
    "        break\n",
    "tq = t[i]\n",
    "tq"
   ]
  },
  {
   "cell_type": "code",
   "execution_count": 153,
   "id": "c231eca5",
   "metadata": {},
   "outputs": [
    {
     "data": {
      "image/png": "[encoded data removed]",
      "text/plain": [
       "<Figure size 1000x500 with 2 Axes>"
      ]
     },
     "metadata": {},
     "output_type": "display_data"
    }
   ],
   "source": [
    "fig, ax = plt.subplots(1, 2, constrained_layout = True, figsize = (10, 5))\n",
    "ax[1].imshow(jmax1 >= tq)\n",
    "ax[1].set_title('Estimate')\n",
    "plt.show()"
   ]
  },
  {
   "cell_type": "code",
   "execution_count": null,
   "id": "f83307f2",
   "metadata": {},
   "outputs": [],
   "source": []
  },
  {
   "cell_type": "code",
   "execution_count": 62,
   "id": "1af97eb2",
   "metadata": {},
   "outputs": [],
   "source": [
    "class DeepANO(nnx.Module):\n",
    "    def __init__(self, rngs):\n",
    "        self.encode_layer = nnx.Conv(12, 32, (3, 5), padding = 'SAME', rngs=rngs)\n",
    "        self.ano1 = nnx.Conv(32, 32, (3, 5), padding = 'SAME', rngs=rngs)\n",
    "        self.ano2 = nnx.Conv(32, 32, (3, 5), padding = 'SAME', rngs=rngs)\n",
    "        self.ano3 = nnx.Conv(32, 32, (3, 5), padding = 'SAME',  rngs=rngs)\n",
    "        self.ano4 = nnx.Conv(32, 32, (3, 5), padding = 'SAME', rngs=rngs)\n",
    "        self.ano5 = nnx.Conv(32, 32, (3, 5), padding = 'SAME',  rngs=rngs)\n",
    "        self.decode_layer = nnx.Conv(32, 1, (3, 5), padding = 'SAME',  rngs=rngs)\n",
    "\n",
    "    def __call__(self, x):\n",
    "        x0 = self.encode_layer(x)\n",
    "        x1 = self.ano1(x0)\n",
    "        x2 = self.ano2(x1)\n",
    "        x3 = x2 + self.ano3(x2)\n",
    "        x4 = x1 + self.ano4(x3)\n",
    "        x5 = x0 + self.ano5(x4)\n",
    "        x6 = self.decode_layer(x5)\n",
    "        return x6"
   ]
  },
  {
   "cell_type": "code",
   "execution_count": 63,
   "id": "c6dc4acb",
   "metadata": {},
   "outputs": [
    {
     "data": {
      "application/vnd.jupyter.widget-view+json": {
       "model_id": "7af7489a4be94a91ac1355af832b0a8b",
       "version_major": 2,
       "version_minor": 0
      },
      "text/plain": [
       "  0%|          | 0/500 [00:00<?, ?it/s]"
      ]
     },
     "metadata": {},
     "output_type": "display_data"
    }
   ],
   "source": [
    "epochs = 500\n",
    "width = 50\n",
    "rng = random.PRNGKey(0)\n",
    "model_rng = nnx.Rngs(1)\n",
    "\n",
    "model = DeepANO(rngs=model_rng)\n",
    "optim = nnx.Optimizer(model, optax.adam(1e-3))\n",
    "trace = []\n",
    "for _ in trange(epochs):\n",
    "    for xt, yt in train_loader:\n",
    "        xt = torch2jax(xt)\n",
    "        yt = torch2jax(yt)\n",
    "        loss = train_step(model, optim, xt, yt)\n",
    "        trace.append(loss)"
   ]
  },
  {
   "cell_type": "code",
   "execution_count": 68,
   "id": "cbcd201c",
   "metadata": {},
   "outputs": [
    {
     "data": {
      "text/plain": [
       "(120, 1, 12, 24)"
      ]
     },
     "execution_count": 68,
     "metadata": {},
     "output_type": "execute_result"
    }
   ],
   "source": [
    "xtrain.shape"
   ]
  },
  {
   "cell_type": "code",
   "execution_count": 70,
   "id": "6d2fa88f",
   "metadata": {},
   "outputs": [
    {
     "ename": "ValueError",
     "evalue": "conv_general_dilated lhs feature dimension size divided by feature_group_count must equal the rhs input feature dimension size, but 1 // 1 != 12.",
     "output_type": "error",
     "traceback": [
      "\u001b[0;31m---------------------------------------------------------------------------\u001b[0m",
      "\u001b[0;31mValueError\u001b[0m                                Traceback (most recent call last)",
      "Cell \u001b[0;32mIn[70], line 1\u001b[0m\n\u001b[0;32m----> 1\u001b[0m jfull \u001b[38;5;241m=\u001b[39m \u001b[43mspatial_jac\u001b[49m\u001b[43m(\u001b[49m\u001b[43mmodel\u001b[49m\u001b[43m,\u001b[49m\u001b[43m \u001b[49m\u001b[43mxtrain\u001b[49m\u001b[38;5;241;43m.\u001b[39;49m\u001b[43mreshape\u001b[49m\u001b[43m(\u001b[49m\u001b[38;5;241;43m120\u001b[39;49m\u001b[43m,\u001b[49m\u001b[43m \u001b[49m\u001b[38;5;241;43m-\u001b[39;49m\u001b[38;5;241;43m1\u001b[39;49m\u001b[43m)\u001b[49m\u001b[43m)\u001b[49m\n\u001b[1;32m      2\u001b[0m jhat1 \u001b[38;5;241m=\u001b[39m jnp\u001b[38;5;241m.\u001b[39mmean(jfull, axis \u001b[38;5;241m=\u001b[39m \u001b[38;5;241m0\u001b[39m)\u001b[38;5;241m.\u001b[39mreshape(\u001b[38;5;241m12\u001b[39m\u001b[38;5;241m*\u001b[39m\u001b[38;5;241m24\u001b[39m, \u001b[38;5;241m12\u001b[39m\u001b[38;5;241m*\u001b[39m\u001b[38;5;241m24\u001b[39m, \u001b[38;5;241m12\u001b[39m)\n\u001b[1;32m      3\u001b[0m jmax1 \u001b[38;5;241m=\u001b[39m jnp\u001b[38;5;241m.\u001b[39mmax(jnp\u001b[38;5;241m.\u001b[39mabs(jhat1), axis \u001b[38;5;241m=\u001b[39m \u001b[38;5;241m2\u001b[39m)\n",
      "    \u001b[0;31m[... skipping hidden 3 frame]\u001b[0m\n",
      "Cell \u001b[0;32mIn[69], line 6\u001b[0m, in \u001b[0;36mspatial_jac\u001b[0;34m(model, x)\u001b[0m\n\u001b[1;32m      4\u001b[0m     yhat \u001b[38;5;241m=\u001b[39m model(x)\n\u001b[1;32m      5\u001b[0m     \u001b[38;5;28;01mreturn\u001b[39;00m yhat\u001b[38;5;241m.\u001b[39mreshape(\u001b[38;5;241m-\u001b[39m\u001b[38;5;241m1\u001b[39m)\n\u001b[0;32m----> 6\u001b[0m \u001b[38;5;28;01mreturn\u001b[39;00m \u001b[43mjax\u001b[49m\u001b[38;5;241;43m.\u001b[39;49m\u001b[43mjacrev\u001b[49m\u001b[43m(\u001b[49m\u001b[43mf\u001b[49m\u001b[43m)\u001b[49m\u001b[43m(\u001b[49m\u001b[43mx\u001b[49m\u001b[43m)\u001b[49m\n",
      "    \u001b[0;31m[... skipping hidden 7 frame]\u001b[0m\n",
      "Cell \u001b[0;32mIn[69], line 4\u001b[0m, in \u001b[0;36mspatial_jac.<locals>.f\u001b[0;34m(x)\u001b[0m\n\u001b[1;32m      2\u001b[0m \u001b[38;5;28;01mdef\u001b[39;00m \u001b[38;5;21mf\u001b[39m(x):\n\u001b[1;32m      3\u001b[0m     x \u001b[38;5;241m=\u001b[39m x\u001b[38;5;241m.\u001b[39mreshape(\u001b[38;5;241m1\u001b[39m, \u001b[38;5;241m12\u001b[39m, \u001b[38;5;241m24\u001b[39m, \u001b[38;5;241m1\u001b[39m)\n\u001b[0;32m----> 4\u001b[0m     yhat \u001b[38;5;241m=\u001b[39m \u001b[43mmodel\u001b[49m\u001b[43m(\u001b[49m\u001b[43mx\u001b[49m\u001b[43m)\u001b[49m\n\u001b[1;32m      5\u001b[0m     \u001b[38;5;28;01mreturn\u001b[39;00m yhat\u001b[38;5;241m.\u001b[39mreshape(\u001b[38;5;241m-\u001b[39m\u001b[38;5;241m1\u001b[39m)\n",
      "Cell \u001b[0;32mIn[62], line 12\u001b[0m, in \u001b[0;36mDeepANO.__call__\u001b[0;34m(self, x)\u001b[0m\n\u001b[1;32m     11\u001b[0m \u001b[38;5;28;01mdef\u001b[39;00m \u001b[38;5;21m__call__\u001b[39m(\u001b[38;5;28mself\u001b[39m, x):\n\u001b[0;32m---> 12\u001b[0m     x0 \u001b[38;5;241m=\u001b[39m \u001b[38;5;28;43mself\u001b[39;49m\u001b[38;5;241;43m.\u001b[39;49m\u001b[43mencode_layer\u001b[49m\u001b[43m(\u001b[49m\u001b[43mx\u001b[49m\u001b[43m)\u001b[49m\n\u001b[1;32m     13\u001b[0m     x1 \u001b[38;5;241m=\u001b[39m \u001b[38;5;28mself\u001b[39m\u001b[38;5;241m.\u001b[39mano1(x0)\n\u001b[1;32m     14\u001b[0m     x2 \u001b[38;5;241m=\u001b[39m \u001b[38;5;28mself\u001b[39m\u001b[38;5;241m.\u001b[39mano2(x1)\n",
      "File \u001b[0;32m~/miniconda3/lib/python3.10/site-packages/flax/nnx/nnx/nn/linear.py:777\u001b[0m, in \u001b[0;36mConv.__call__\u001b[0;34m(self, inputs)\u001b[0m\n\u001b[1;32m    771\u001b[0m bias \u001b[38;5;241m=\u001b[39m \u001b[38;5;28mself\u001b[39m\u001b[38;5;241m.\u001b[39mbias\u001b[38;5;241m.\u001b[39mvalue\n\u001b[1;32m    773\u001b[0m inputs, kernel, bias \u001b[38;5;241m=\u001b[39m dtypes\u001b[38;5;241m.\u001b[39mpromote_dtype(\n\u001b[1;32m    774\u001b[0m   (inputs, kernel, bias), dtype\u001b[38;5;241m=\u001b[39m\u001b[38;5;28mself\u001b[39m\u001b[38;5;241m.\u001b[39mdtype\n\u001b[1;32m    775\u001b[0m )\n\u001b[0;32m--> 777\u001b[0m y \u001b[38;5;241m=\u001b[39m \u001b[38;5;28;43mself\u001b[39;49m\u001b[38;5;241;43m.\u001b[39;49m\u001b[43mconv_general_dilated\u001b[49m\u001b[43m(\u001b[49m\n\u001b[1;32m    778\u001b[0m \u001b[43m  \u001b[49m\u001b[43minputs\u001b[49m\u001b[43m,\u001b[49m\n\u001b[1;32m    779\u001b[0m \u001b[43m  \u001b[49m\u001b[43mkernel\u001b[49m\u001b[43m,\u001b[49m\n\u001b[1;32m    780\u001b[0m \u001b[43m  \u001b[49m\u001b[43mstrides\u001b[49m\u001b[43m,\u001b[49m\n\u001b[1;32m    781\u001b[0m \u001b[43m  \u001b[49m\u001b[43mpadding_lax\u001b[49m\u001b[43m,\u001b[49m\n\u001b[1;32m    782\u001b[0m \u001b[43m  \u001b[49m\u001b[43mlhs_dilation\u001b[49m\u001b[38;5;241;43m=\u001b[39;49m\u001b[43minput_dilation\u001b[49m\u001b[43m,\u001b[49m\n\u001b[1;32m    783\u001b[0m \u001b[43m  \u001b[49m\u001b[43mrhs_dilation\u001b[49m\u001b[38;5;241;43m=\u001b[39;49m\u001b[43mkernel_dilation\u001b[49m\u001b[43m,\u001b[49m\n\u001b[1;32m    784\u001b[0m \u001b[43m  \u001b[49m\u001b[43mdimension_numbers\u001b[49m\u001b[38;5;241;43m=\u001b[39;49m\u001b[43mdimension_numbers\u001b[49m\u001b[43m,\u001b[49m\n\u001b[1;32m    785\u001b[0m \u001b[43m  \u001b[49m\u001b[43mfeature_group_count\u001b[49m\u001b[38;5;241;43m=\u001b[39;49m\u001b[38;5;28;43mself\u001b[39;49m\u001b[38;5;241;43m.\u001b[39;49m\u001b[43mfeature_group_count\u001b[49m\u001b[43m,\u001b[49m\n\u001b[1;32m    786\u001b[0m \u001b[43m  \u001b[49m\u001b[43mprecision\u001b[49m\u001b[38;5;241;43m=\u001b[39;49m\u001b[38;5;28;43mself\u001b[39;49m\u001b[38;5;241;43m.\u001b[39;49m\u001b[43mprecision\u001b[49m\u001b[43m,\u001b[49m\n\u001b[1;32m    787\u001b[0m \u001b[43m\u001b[49m\u001b[43m)\u001b[49m\n\u001b[1;32m    789\u001b[0m \u001b[38;5;28;01mif\u001b[39;00m \u001b[38;5;28mself\u001b[39m\u001b[38;5;241m.\u001b[39muse_bias:\n\u001b[1;32m    790\u001b[0m   bias \u001b[38;5;241m=\u001b[39m bias\u001b[38;5;241m.\u001b[39mreshape((\u001b[38;5;241m1\u001b[39m,) \u001b[38;5;241m*\u001b[39m (y\u001b[38;5;241m.\u001b[39mndim \u001b[38;5;241m-\u001b[39m bias\u001b[38;5;241m.\u001b[39mndim) \u001b[38;5;241m+\u001b[39m bias\u001b[38;5;241m.\u001b[39mshape)  \u001b[38;5;66;03m# type: ignore\u001b[39;00m\n",
      "    \u001b[0;31m[... skipping hidden 32 frame]\u001b[0m\n",
      "File \u001b[0;32m~/miniconda3/lib/python3.10/site-packages/jax/_src/lax/convolution.py:374\u001b[0m, in \u001b[0;36m_conv_general_dilated_shape_rule\u001b[0;34m(lhs, rhs, window_strides, padding, lhs_dilation, rhs_dilation, dimension_numbers, feature_group_count, batch_group_count, **unused_kwargs)\u001b[0m\n\u001b[1;32m    370\u001b[0m \u001b[38;5;28;01mif\u001b[39;00m \u001b[38;5;129;01mnot\u001b[39;00m core\u001b[38;5;241m.\u001b[39mdefinitely_equal(quot, rhs\u001b[38;5;241m.\u001b[39mshape[dimension_numbers\u001b[38;5;241m.\u001b[39mrhs_spec[\u001b[38;5;241m1\u001b[39m]]):\n\u001b[1;32m    371\u001b[0m   msg \u001b[38;5;241m=\u001b[39m (\u001b[38;5;124m\"\u001b[39m\u001b[38;5;124mconv_general_dilated lhs feature dimension size divided by \u001b[39m\u001b[38;5;124m\"\u001b[39m\n\u001b[1;32m    372\u001b[0m          \u001b[38;5;124m\"\u001b[39m\u001b[38;5;124mfeature_group_count must equal the rhs input feature dimension \u001b[39m\u001b[38;5;124m\"\u001b[39m\n\u001b[1;32m    373\u001b[0m          \u001b[38;5;124m\"\u001b[39m\u001b[38;5;124msize, but \u001b[39m\u001b[38;5;132;01m{}\u001b[39;00m\u001b[38;5;124m // \u001b[39m\u001b[38;5;132;01m{}\u001b[39;00m\u001b[38;5;124m != \u001b[39m\u001b[38;5;132;01m{}\u001b[39;00m\u001b[38;5;124m.\u001b[39m\u001b[38;5;124m\"\u001b[39m)\n\u001b[0;32m--> 374\u001b[0m   \u001b[38;5;28;01mraise\u001b[39;00m \u001b[38;5;167;01mValueError\u001b[39;00m(msg\u001b[38;5;241m.\u001b[39mformat(lhs_feature_count, feature_group_count,\n\u001b[1;32m    375\u001b[0m                               rhs\u001b[38;5;241m.\u001b[39mshape[dimension_numbers\u001b[38;5;241m.\u001b[39mrhs_spec[\u001b[38;5;241m1\u001b[39m]]))\n\u001b[1;32m    376\u001b[0m \u001b[38;5;28;01mif\u001b[39;00m rhs\u001b[38;5;241m.\u001b[39mshape[dimension_numbers\u001b[38;5;241m.\u001b[39mrhs_spec[\u001b[38;5;241m0\u001b[39m]] \u001b[38;5;241m%\u001b[39m feature_group_count:\n\u001b[1;32m    377\u001b[0m   msg \u001b[38;5;241m=\u001b[39m (\u001b[38;5;124m\"\u001b[39m\u001b[38;5;124mconv_general_dilated rhs output feature dimension size must be a \u001b[39m\u001b[38;5;124m\"\u001b[39m\n\u001b[1;32m    378\u001b[0m          \u001b[38;5;124m\"\u001b[39m\u001b[38;5;124mmultiple of feature_group_count, but \u001b[39m\u001b[38;5;132;01m{}\u001b[39;00m\u001b[38;5;124m is not a multiple of \u001b[39m\u001b[38;5;132;01m{}\u001b[39;00m\u001b[38;5;124m.\u001b[39m\u001b[38;5;124m\"\u001b[39m)\n",
      "\u001b[0;31mValueError\u001b[0m: conv_general_dilated lhs feature dimension size divided by feature_group_count must equal the rhs input feature dimension size, but 1 // 1 != 12."
     ]
    }
   ],
   "source": [
    "jfull = spatial_jac(model, xtrain.reshape(120, -1))\n",
    "jhat1 = jnp.mean(jfull, axis = 0).reshape(12*24, 12*24, 12)\n",
    "jmax1 = jnp.max(jnp.abs(jhat1), axis = 2)\n",
    "jmax1.shape"
   ]
  },
  {
   "cell_type": "code",
   "execution_count": null,
   "id": "26d02887",
   "metadata": {},
   "outputs": [],
   "source": [
    "plt.imshow(jmax1[20].reshape(12, 24))\n",
    "plt.colorbar()\n",
    "plt.show()"
   ]
  },
  {
   "cell_type": "code",
   "execution_count": 25,
   "id": "9054eed3",
   "metadata": {},
   "outputs": [],
   "source": [
    "dtest = jax.random.normal(rng, dtrain.shape)\n",
    "lag, lead = 12, 1\n",
    "xtest, ytest = split_data(dtest, lag, lead)\n",
    "xtest = np.moveaxis(xtest, 1, 3)\n",
    "ytest = np.moveaxis(ytest, 1, 3)\n",
    "test_data = TensorDataset(torch.Tensor(xtest), torch.Tensor(ytest))\n",
    "test_loader = DataLoader(test_data, batch_size = 64, shuffle = True)"
   ]
  },
  {
   "cell_type": "code",
   "execution_count": 26,
   "id": "9912217d",
   "metadata": {},
   "outputs": [
    {
     "data": {
      "application/vnd.jupyter.widget-view+json": {
       "model_id": "1e42b7bc92b142c59739cdef6c24d0f6",
       "version_major": 2,
       "version_minor": 0
      },
      "text/plain": [
       "  0%|          | 0/500 [00:00<?, ?it/s]"
      ]
     },
     "metadata": {},
     "output_type": "display_data"
    }
   ],
   "source": [
    "epochs = 500\n",
    "width = 50\n",
    "rng = random.PRNGKey(0)\n",
    "model_rng = nnx.Rngs(1)\n",
    "\n",
    "model2 = DeepANO(rngs=model_rng)\n",
    "optim = nnx.Optimizer(model2, optax.adam(1e-3))\n",
    "trace = []\n",
    "for _ in trange(epochs):\n",
    "    for xt, yt in train_loader:\n",
    "        xt = torch2jax(xt)\n",
    "        yt = torch2jax(yt)\n",
    "        loss = train_step(model2, optim, xt, yt)\n",
    "        trace.append(loss)"
   ]
  },
  {
   "cell_type": "code",
   "execution_count": 27,
   "id": "894a3bf2",
   "metadata": {},
   "outputs": [
    {
     "data": {
      "text/plain": [
       "(288, 288)"
      ]
     },
     "execution_count": 27,
     "metadata": {},
     "output_type": "execute_result"
    }
   ],
   "source": [
    "jbase = spatial_jac(model2, xtest.reshape(109, -1))\n",
    "jhat2 = jnp.mean(jbase, axis = 0).reshape(12*24, 12*24, 12)\n",
    "jmax2 = jnp.max(jnp.abs(jhat2), axis = 2)\n",
    "jmax2.shape"
   ]
  },
  {
   "cell_type": "code",
   "execution_count": 28,
   "id": "4d94fd28",
   "metadata": {},
   "outputs": [
    {
     "data": {
      "application/vnd.jupyter.widget-view+json": {
       "model_id": "b4111b6eee2041ab8850f0c318308f28",
       "version_major": 2,
       "version_minor": 0
      },
      "text/plain": [
       "  0%|          | 0/288 [00:00<?, ?it/s]"
      ]
     },
     "metadata": {},
     "output_type": "display_data"
    },
    {
     "data": {
      "text/plain": [
       "Array(2., dtype=float32)"
      ]
     },
     "execution_count": 28,
     "metadata": {},
     "output_type": "execute_result"
    }
   ],
   "source": [
    "alpha = 0.05\n",
    "t = jnp.linspace(0, 2, 12*24)\n",
    "fdp = []\n",
    "for i in trange(len(t)):\n",
    "    fdp = np.sum(jmax2 >= t[i])/np.sum(jmax1 >= t[i])\n",
    "    if fdp <= alpha:\n",
    "        break\n",
    "tq = t[i]\n",
    "tq"
   ]
  },
  {
   "cell_type": "code",
   "execution_count": 29,
   "id": "b82a0fd7",
   "metadata": {},
   "outputs": [
    {
     "data": {
      "image/png": "[encoded data removed]",
      "text/plain": [
       "<Figure size 1000x500 with 2 Axes>"
      ]
     },
     "metadata": {},
     "output_type": "display_data"
    }
   ],
   "source": [
    "fig, ax = plt.subplots(1, 2, constrained_layout = True, figsize = (10, 5))\n",
    "ax[1].imshow(jmax1 >= tq)\n",
    "ax[1].set_title('Estimate')\n",
    "plt.show()"
   ]
  },
  {
   "cell_type": "code",
   "execution_count": null,
   "id": "025348ec",
   "metadata": {},
   "outputs": [],
   "source": []
  },
  {
   "cell_type": "code",
   "execution_count": 103,
   "id": "6bb197e2",
   "metadata": {},
   "outputs": [],
   "source": [
    "class DeepANO(nnx.Module):\n",
    "    def __init__(self, rngs):\n",
    "        self.encode_layer = nnx.Linear(288, 32, rngs=rngs)\n",
    "        self.ano1 = nnx.Linear(32, 32, rngs=rngs)\n",
    "        self.ano2 = nnx.Linear(32, 32, rngs=rngs)\n",
    "        self.ano3 = nnx.Linear(32, 32, rngs=rngs)\n",
    "        self.decode_layer = nnx.Linear(32, 288, rngs=rngs)\n",
    "\n",
    "    def __call__(self, x):\n",
    "        x0 = self.encode_layer(x)\n",
    "        x1 = self.ano1(x0)\n",
    "        x2 = x1 + self.ano2(x1)\n",
    "        x3 = x0 + self.ano3(x2)\n",
    "        x4 = self.decode_layer(x3)\n",
    "        return x4"
   ]
  },
  {
   "cell_type": "code",
   "execution_count": 107,
   "id": "385ecaa4",
   "metadata": {},
   "outputs": [],
   "source": [
    "def spatial_jac(model, x):\n",
    "    def f(x):\n",
    "        yhat = model(x)\n",
    "        return yhat.squeeze()\n",
    "    return jax.jacrev(f)(x)\n",
    "spatial_jac = vmap(spatial_jac, (None, 0))"
   ]
  },
  {
   "cell_type": "code",
   "execution_count": 105,
   "id": "1fe62c1d",
   "metadata": {},
   "outputs": [
    {
     "data": {
      "application/vnd.jupyter.widget-view+json": {
       "model_id": "02a45680366a48fd99cabd23464eef1c",
       "version_major": 2,
       "version_minor": 0
      },
      "text/plain": [
       "  0%|          | 0/500 [00:00<?, ?it/s]"
      ]
     },
     "metadata": {},
     "output_type": "display_data"
    }
   ],
   "source": [
    "epochs = 500\n",
    "rng = random.PRNGKey(0)\n",
    "model_rng = nnx.Rngs(1)\n",
    "\n",
    "model = DeepANO(rngs=model_rng)\n",
    "optim = nnx.Optimizer(model, optax.adam(1e-3))\n",
    "trace = []\n",
    "for _ in trange(epochs):\n",
    "    for xt, yt in train_loader:\n",
    "        xt = torch2jax(xt).reshape(xt.shape[0], -1)\n",
    "        yt = torch2jax(yt).reshape(yt.shape[0], -1)\n",
    "        loss = train_step(model, optim, xt, yt)\n",
    "        trace.append(loss)"
   ]
  },
  {
   "cell_type": "code",
   "execution_count": 108,
   "id": "8b9f0c02",
   "metadata": {},
   "outputs": [],
   "source": [
    "jfull = spatial_jac(model, xtrain.reshape(120, -1))\n",
    "jhat = jnp.mean(jfull, axis = 0)"
   ]
  },
  {
   "cell_type": "code",
   "execution_count": 110,
   "id": "84bf5b2b",
   "metadata": {},
   "outputs": [
    {
     "data": {
      "image/png": "[encoded data removed]",
      "text/plain": [
       "<Figure size 640x480 with 2 Axes>"
      ]
     },
     "metadata": {},
     "output_type": "display_data"
    }
   ],
   "source": [
    "plt.imshow(jhat[:,64].reshape(12, 24))\n",
    "plt.colorbar()\n",
    "plt.show()"
   ]
  },
  {
   "cell_type": "code",
   "execution_count": null,
   "id": "d99dceab",
   "metadata": {},
   "outputs": [],
   "source": []
  },
  {
   "cell_type": "code",
   "execution_count": null,
   "id": "2c33fe78",
   "metadata": {},
   "outputs": [],
   "source": []
  },
  {
   "cell_type": "code",
   "execution_count": 6,
   "id": "0e2c30df",
   "metadata": {},
   "outputs": [],
   "source": [
    "class DeepANO(nnx.Module):\n",
    "    def __init__(self, rngs):\n",
    "        self.encode_layer = nnx.MultiHeadAttention(num_heads=8, in_features=1, qkv_features=16,\n",
    "                               decode=False, rngs=nnx.Rngs(0))\n",
    "\n",
    "    def __call__(self, x):\n",
    "        x = self.encode_layer(x)\n",
    "        return x"
   ]
  },
  {
   "cell_type": "code",
   "execution_count": 7,
   "id": "985e7188",
   "metadata": {},
   "outputs": [
    {
     "data": {
      "application/vnd.jupyter.widget-view+json": {
       "model_id": "dff2d6883b8940b9b6f8a7d955ee61fa",
       "version_major": 2,
       "version_minor": 0
      },
      "text/plain": [
       "  0%|          | 0/50 [00:00<?, ?it/s]"
      ]
     },
     "metadata": {},
     "output_type": "display_data"
    }
   ],
   "source": [
    "epochs = 50\n",
    "rng = random.PRNGKey(0)\n",
    "model_rng = nnx.Rngs(1)\n",
    "\n",
    "model = DeepANO(rngs=model_rng)\n",
    "optim = nnx.Optimizer(model, optax.adam(1e-3))\n",
    "trace = []\n",
    "for _ in trange(epochs):\n",
    "    for xt, yt in train_loader:\n",
    "        xt = torch2jax(xt).reshape(xt.shape[0], -1, 1)\n",
    "        yt = torch2jax(yt).reshape(yt.shape[0], -1, 1)\n",
    "        loss = train_step(model, optim, xt, yt)\n",
    "        trace.append(loss)"
   ]
  },
  {
   "cell_type": "code",
   "execution_count": 8,
   "id": "5becd6c3",
   "metadata": {},
   "outputs": [],
   "source": [
    "def spatial_jac(model, x):\n",
    "    def f(x):\n",
    "        x = x.reshape(1, 12*24, 1)\n",
    "        yhat = model(x)\n",
    "        return yhat.reshape(-1)\n",
    "    return jax.jacrev(f)(x)\n",
    "spatial_jac = vmap(spatial_jac, (None, 0))"
   ]
  },
  {
   "cell_type": "code",
   "execution_count": null,
   "id": "63b545cf",
   "metadata": {},
   "outputs": [],
   "source": [
    "jfull = spatial_jac(model, xtrain.reshape(120, -1))\n",
    "jhat = jnp.mean(jfull, axis = 0)"
   ]
  },
  {
   "cell_type": "code",
   "execution_count": null,
   "id": "68883da8",
   "metadata": {},
   "outputs": [],
   "source": []
  }
 ],
 "metadata": {
  "kernelspec": {
   "display_name": "Python 3 (ipykernel)",
   "language": "python",
   "name": "python3"
  },
  "language_info": {
   "codemirror_mode": {
    "name": "ipython",
    "version": 3
   },
   "file_extension": ".py",
   "mimetype": "text/x-python",
   "name": "python",
   "nbconvert_exporter": "python",
   "pygments_lexer": "ipython3",
   "version": "3.12.3"
  }
 },
 "nbformat": 4,
 "nbformat_minor": 5
}
