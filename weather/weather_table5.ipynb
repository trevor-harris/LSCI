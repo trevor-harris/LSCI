{
 "cells": [
  {
   "cell_type": "code",
   "execution_count": 1,
   "id": "5b187b8d-bc9e-4b89-af26-27ff7c3b24bb",
   "metadata": {},
   "outputs": [],
   "source": [
    "import math\n",
    "import numpy as np\n",
    "import matplotlib\n",
    "import matplotlib.pyplot as plt\n",
    "\n",
    "import jax\n",
    "import jax.numpy as jnp\n",
    "import jax.scipy.stats as stats\n",
    "from jax import jacfwd, jacrev\n",
    "from jax import vmap, grad, jit, random\n",
    "from jax.tree_util import tree_map, tree_flatten, tree_unflatten, tree_leaves\n",
    "\n",
    "from flax import nnx\n",
    "import optax\n",
    "import pcax\n",
    "\n",
    "from tqdm.notebook import tqdm\n",
    "from tqdm.notebook import trange\n",
    "\n",
    "import torch\n",
    "import torch.nn as nn\n",
    "import torch_harmonics as th\n",
    "from torch_harmonics.random_fields import GaussianRandomFieldS2\n",
    "from torch.utils.data import DataLoader, TensorDataset\n",
    "\n",
    "import os\n",
    "os.chdir('../methods')\n",
    "import lsci, supr, conf, uqno, prob_don, quant_don, gaus\n",
    "os.chdir('../gpsims')\n",
    "\n",
    "os.chdir('../models_and_metrics')\n",
    "from models import *\n",
    "from metrics import * \n",
    "from utility import *\n",
    "os.chdir('../gpsims')\n",
    "\n",
    "import neuralop as op\n",
    "from neuralop.models import FNO, LocalFNO, UNO, TFNO\n",
    "import jaxwt as jwt\n",
    "import pcax\n",
    "from jax.scipy.stats import norm, laplace"
   ]
  },
  {
   "cell_type": "code",
   "execution_count": 91,
   "id": "f85080ec-3a3d-4ee3-be8a-fd32c7d1539c",
   "metadata": {},
   "outputs": [],
   "source": [
    "def phi_depth(z, x, w, depth_fn):\n",
    "    if depth_fn == 'tukey':\n",
    "        f = jnp.sum(w[:,None] * (z > x), axis = 0)\n",
    "        depth_1d = 1 - jnp.abs(1 - 2 * f)\n",
    "    \n",
    "    elif depth_fn == 'mahal':\n",
    "        mu = jnp.sum(w[:,None]*x, axis = 0)\n",
    "        sig = jnp.sqrt(jnp.sum((w[:,None]*x - mu)**2, axis = 0))\n",
    "        depth_1d = 1/(1+jnp.sqrt((z - mu)**2/sig**2))\n",
    "        \n",
    "    elif depth_fn == 'norm':\n",
    "        norms = jnp.abs(z - x)\n",
    "        wnorm = jnp.sum(w[:,None] * norms, axis = 0)\n",
    "        depth_1d = 1/(1+wnorm)\n",
    "\n",
    "    else: return 0\n",
    "    return jnp.min(depth_1d)\n",
    "\n",
    "phi_depth = jit(phi_depth, static_argnames='depth_fn')\n",
    "vphi_depth = jit(vmap(phi_depth, (0, None, None, None)), static_argnames='depth_fn')\n",
    "\n",
    "def phi_slice(rng, p1, p2):\n",
    "    phi = random.normal(rng, (p1, p2))\n",
    "    phi = phi / jnp.sum(phi, axis = 1)[:,None]\n",
    "    return phi\n",
    "\n",
    "def lweights(xval, xtest, frac = 0.1):\n",
    "    dmat = jnp.max(jnp.abs(xval - xtest), axis = 1)\n",
    "    quant = jnp.quantile(dmat, frac, axis = 0)\n",
    "    indx = dmat < quant\n",
    "    inner_max = jnp.max(dmat * indx)\n",
    "    dmat = inner_max - dmat\n",
    "    w = dmat * indx\n",
    "    return w / jnp.sum(w, axis = 0)[None,]\n",
    "lweights = jit(vmap(lweights, (None, 0, None)))\n",
    "\n",
    "\n",
    "def localizer(xval, xtest, lam, local_fn, rng):\n",
    "    # renormalize\n",
    "    xval = xval / jnp.sqrt(jnp.mean(xval**2, axis = 0))\n",
    "    xtest = xtest / jnp.sqrt(jnp.mean(xtest**2, axis = 0))\n",
    "    \n",
    "    if local_fn == 'dexp':\n",
    "        xtil = xtest[None,] + 1e-2 * jax.random.normal(rng, xtest[None,].shape)\n",
    "        dist = jnp.exp(-lam * jnp.max(jnp.abs(xval - xtil), axis = (1, 2)))\n",
    "        local_weights = dist / (jnp.sum(dist) + jnp.exp(-lam * 1e-2))\n",
    "        \n",
    "    elif local_fn == 'gaussian':\n",
    "        xtil = xtest[None,] + 1e-2 * jax.random.normal(rng, xtest[None,].shape)\n",
    "        dist = jnp.exp(-lam * jnp.mean((xval - xtil)**2, axis = (1, 2)))\n",
    "        local_weights = dist / (jnp.sum(dist) + jnp.exp(-lam * 1e-2))\n",
    "        \n",
    "    elif local_fn == 'knn':\n",
    "        xtil = xtest[None,] + 1e-2 * jax.random.normal(rng, xtest[None,].shape)\n",
    "        dist = jnp.max(jnp.abs(xval - xtil), axis = (1, 2))\n",
    "        qdist = jnp.quantile(dist, lam)\n",
    "        dist = jnp.exp(-dist.at[dist > qdist].set(jnp.inf))\n",
    "        local_weights = dist / (jnp.sum(dist) + 1)\n",
    "        \n",
    "    else :\n",
    "        local_weights = 1/xval.shape[0]\n",
    "    return local_weights\n",
    "\n",
    "def phi_quantile(rval_phi, xval, xtest, alpha, depth_fn, local_fn, lam, rng):\n",
    "    \n",
    "#     xtil = xtest[None,] + 1e-2 * jax.random.normal(rng, xtest[None,].shape)\n",
    "#     dist = jnp.exp(-lam * jnp.max(jnp.abs(xval - xtil), axis = (1, 2)))\n",
    "#     local_weights = dist / (jnp.sum(dist) + jnp.exp(-lam * 1e-2))\n",
    "\n",
    "    local_weights = localizer(xval, xtest, lam, local_fn, rng)\n",
    "    dval = vphi_depth(rval_phi, rval_phi, local_weights, depth_fn)\n",
    "    \n",
    "    n = xval.shape[0]\n",
    "    adj_alpha = jnp.ceil((n+1)*(1-alpha))/n\n",
    "    return jnp.quantile(dval, 1-adj_alpha), local_weights\n",
    "# phi_quantile = jit(phi_quantile, static_argnames=['depth_fn', 'local_fn'])\n",
    "\n",
    "\n",
    "def phi_resample(xval, xtest, rval_phi, n_samp, n_slice, rng,\n",
    "                 alpha, depth_fn, local_fn, lam):\n",
    "    n = rval_phi.shape[0]\n",
    "    npc = rval_phi.shape[1]\n",
    "    key1, key2, key3 = random.split(rng, 3)\n",
    "\n",
    "    # renormalize\n",
    "    xval = xval / jnp.sqrt(jnp.mean(xval**2, axis = 0))\n",
    "    xtest = xtest / jnp.sqrt(jnp.mean(xtest**2, axis = 0))\n",
    "    \n",
    "    local_weights = lweights(xval.squeeze(), xtest.squeeze()[None,], 0.1)[0]\n",
    "    \n",
    "    unif = random.uniform(key1, (n_samp, npc))\n",
    "    quants = jnp.linspace(jnp.min(rval_phi) - 0.1, jnp.max(rval_phi) + 0.1, n+1)\n",
    "\n",
    "    samp_cdfs = lsci.lcdf(rval_phi, quants, local_weights / jnp.sum(local_weights))\n",
    "    samp_quants = jnp.argmax(samp_cdfs[:,:,None] > unif.T[None,:,:], axis = 0)\n",
    "    samp_phi = quants[samp_quants].T\n",
    "    \n",
    "    phi = phi_slice(key2, npc, n_slice)\n",
    "    qval, local_weights = phi_quantile(rval_phi @ phi, xval, xtest, alpha, depth_fn, local_fn, lam, rng = key3)\n",
    "    dphi = vphi_depth(samp_phi @ phi, rval_phi @ phi, local_weights, depth_fn)\n",
    "    \n",
    "    return samp_phi, dphi, qval"
   ]
  },
  {
   "cell_type": "code",
   "execution_count": 3,
   "id": "70a64c72-e665-4c05-9e91-a2516310e553",
   "metadata": {},
   "outputs": [],
   "source": [
    "def uqno_lambda(yval, yval_hat, yval_quant, delta, alpha):\n",
    "    n = yval.shape[0]\n",
    "    m = yval.shape[1]\n",
    "    tau = 1e-2 + jnp.sqrt(-jnp.log(delta)/(2*m))\n",
    "    \n",
    "    uqno_scores = jnp.abs(yval.squeeze() - yval_hat) / yval_quant\n",
    "    sg = jnp.quantile(uqno_scores, jnp.clip(1-alpha+tau, 0, 1), axis = 1)\n",
    "    q = 1 - jnp.ceil((n+1)*(delta - jnp.exp(-2*m*tau**2)))/n\n",
    "    return jnp.quantile(sg, q)\n",
    "\n",
    "def prob_don(yval, yval_mu, yval_sd, ytest_sd, alpha):\n",
    "    nval = yval.shape[0]\n",
    "    alpha_adj = jnp.ceil((1-alpha) * (nval + 1))/nval\n",
    "    \n",
    "    score = jnp.abs(yval - yval_mu)/yval_sd\n",
    "    q = jnp.quantile(score, alpha_adj, axis = 0)\n",
    "    \n",
    "    lower = -ytest_sd * q[None,]\n",
    "    upper = ytest_sd * q[None,]\n",
    "    return lower, upper\n",
    "\n",
    "def quant_don(yval, yval_quant, ytest_quant, alpha):\n",
    "    \n",
    "    nval = yval.shape[0]\n",
    "    alpha_adj = jnp.ceil((1-alpha) * (nval + 1))/nval\n",
    "    \n",
    "    lower = -yval_quant - yval\n",
    "    upper = yval - yval_quant\n",
    "    score = jnp.max(jnp.stack([lower, upper], axis = 2), axis=2)\n",
    "    q = jnp.quantile(score, alpha_adj, axis = 0)\n",
    "    \n",
    "    lower = -ytest_quant - q[None,]\n",
    "    upper = ytest_quant + q[None,]\n",
    "    return lower, upper"
   ]
  },
  {
   "cell_type": "code",
   "execution_count": 4,
   "id": "6efb42d2-4ed4-45fe-9891-2dfd9aa87a04",
   "metadata": {},
   "outputs": [],
   "source": [
    "class QuantileLoss(nn.Module):\n",
    "    def __init__(self, quantile):\n",
    "        super().__init__()\n",
    "        self.quantile = quantile\n",
    "\n",
    "    def forward(self, y_hat, y):\n",
    "        res = y - y_hat\n",
    "        return torch.mean(torch.max((self.quantile - 1) * res, self.quantile * res))\n",
    "    \n",
    "class GaussianNLLLoss(nn.Module):\n",
    "    def __init__(self):\n",
    "        super().__init__()\n",
    "\n",
    "    def forward(self, outputs, y):\n",
    "        mu, sd = outputs\n",
    "        nll = 0.5 * torch.log(2 * torch.pi * sd**2) + 0.5*(y - mu)**2 / sd**2\n",
    "        return nll.mean()\n",
    "    \n",
    "class ProbFNO(nn.Module):\n",
    "    def __init__(self):\n",
    "        super().__init__()\n",
    "        self.mu_fno = FNO(n_modes=(16,32), hidden_channels=64, in_channels=1, out_channels=1)\n",
    "        self.sd_fno = FNO(n_modes=(16,32), hidden_channels=64, in_channels=1, out_channels=1)\n",
    "\n",
    "    def __call__(self, x):\n",
    "        mu = self.mu_fno(x)\n",
    "        log_sd = self.sd_fno(x)\n",
    "        return mu, torch.nn.Softplus()(log_sd)"
   ]
  },
  {
   "cell_type": "code",
   "execution_count": 5,
   "id": "640e170c-c616-4396-9cfd-369fce14a0a3",
   "metadata": {},
   "outputs": [],
   "source": [
    "dtrain = np.load('../data/era5_train_small.npy', mmap_mode='r+')\n",
    "nlat, nlon = dtrain.shape[1:]\n",
    "dtrain = np.mean(dtrain.reshape(-1, 4, nlat, nlon), axis = 1)\n",
    "\n",
    "# train_mu = np.mean(dtrain, axis = (0))[None,]\n",
    "# train_sd = np.std(dtrain, axis = (0))[None,]\n",
    "\n",
    "def clim_smooth(data, kernel):\n",
    "    return jax.scipy.signal.convolve2d(data, kernel, mode='same')\n",
    "clim_smooth = jit(vmap(clim_smooth, (0, None)))\n",
    "\n",
    "kernel = jnp.array([[1, 1, 1], [1, 5, 1], [1, 1, 1]])\n",
    "kernel = kernel / jnp.sum(kernel)\n",
    "dtrain = np.array(clim_smooth(dtrain, kernel))"
   ]
  },
  {
   "cell_type": "code",
   "execution_count": 6,
   "id": "67feef07-39d6-4340-b3e5-e5a44f385a6b",
   "metadata": {},
   "outputs": [],
   "source": [
    "spatial_mean = jnp.mean(dtrain, axis = 0)\n",
    "spatial_std = jnp.std(dtrain, axis = 0)\n",
    "\n",
    "dtrain = (dtrain - spatial_mean)/spatial_std"
   ]
  },
  {
   "cell_type": "code",
   "execution_count": 7,
   "id": "33e60fac-a738-4952-9294-01272126e768",
   "metadata": {},
   "outputs": [],
   "source": [
    "device = 'cuda' if torch.cuda.is_available() else 'cpu'"
   ]
  },
  {
   "cell_type": "code",
   "execution_count": 11,
   "id": "399feb8a-1cfe-470e-bc13-22deda479c30",
   "metadata": {},
   "outputs": [
    {
     "data": {
      "text/plain": [
       "(3649, 1, 32, 64)"
      ]
     },
     "execution_count": 11,
     "metadata": {},
     "output_type": "execute_result"
    }
   ],
   "source": [
    "ytrain.shape"
   ]
  },
  {
   "cell_type": "code",
   "execution_count": 13,
   "id": "c79d29f7-f380-4a0d-b03c-79844402405d",
   "metadata": {},
   "outputs": [],
   "source": [
    "lag, lead = 1, 1\n",
    "xtrain, ytrain = split_data(dtrain, lag, lead)\n",
    "train_data = TensorDataset(jax2torch(xtrain), jax2torch(ytrain))\n",
    "train_loader = DataLoader(train_data, batch_size = 64, shuffle = True)"
   ]
  },
  {
   "cell_type": "code",
   "execution_count": 14,
   "id": "3b8bebdd-3fa7-4aa9-939f-6b99141ad49c",
   "metadata": {},
   "outputs": [
    {
     "data": {
      "application/vnd.jupyter.widget-view+json": {
       "model_id": "b41e5685dcae4b26b94e02e228a64121",
       "version_major": 2,
       "version_minor": 0
      },
      "text/plain": [
       "  0%|          | 0/20 [00:00<?, ?it/s]"
      ]
     },
     "metadata": {},
     "output_type": "display_data"
    },
    {
     "data": {
      "application/vnd.jupyter.widget-view+json": {
       "model_id": "ef94bf5e52d049d4a7f4eda8f94c1499",
       "version_major": 2,
       "version_minor": 0
      },
      "text/plain": [
       "  0%|          | 0/58 [00:00<?, ?it/s]"
      ]
     },
     "metadata": {},
     "output_type": "display_data"
    },
    {
     "data": {
      "application/vnd.jupyter.widget-view+json": {
       "model_id": "3ca92281a6de464f94bf9b62bbd75a49",
       "version_major": 2,
       "version_minor": 0
      },
      "text/plain": [
       "  0%|          | 0/58 [00:00<?, ?it/s]"
      ]
     },
     "metadata": {},
     "output_type": "display_data"
    },
    {
     "data": {
      "application/vnd.jupyter.widget-view+json": {
       "model_id": "ce34f1329ea04962a6e9f199d1d2e88b",
       "version_major": 2,
       "version_minor": 0
      },
      "text/plain": [
       "  0%|          | 0/58 [00:00<?, ?it/s]"
      ]
     },
     "metadata": {},
     "output_type": "display_data"
    },
    {
     "data": {
      "application/vnd.jupyter.widget-view+json": {
       "model_id": "7be1dcd8c3d04e9ea54aa68d58556b9f",
       "version_major": 2,
       "version_minor": 0
      },
      "text/plain": [
       "  0%|          | 0/58 [00:00<?, ?it/s]"
      ]
     },
     "metadata": {},
     "output_type": "display_data"
    },
    {
     "data": {
      "application/vnd.jupyter.widget-view+json": {
       "model_id": "1f02c6aa0f684806abf0ebe760e961b7",
       "version_major": 2,
       "version_minor": 0
      },
      "text/plain": [
       "  0%|          | 0/58 [00:00<?, ?it/s]"
      ]
     },
     "metadata": {},
     "output_type": "display_data"
    },
    {
     "data": {
      "application/vnd.jupyter.widget-view+json": {
       "model_id": "114647a580dd4eb7a69881a309138acc",
       "version_major": 2,
       "version_minor": 0
      },
      "text/plain": [
       "  0%|          | 0/58 [00:00<?, ?it/s]"
      ]
     },
     "metadata": {},
     "output_type": "display_data"
    },
    {
     "data": {
      "application/vnd.jupyter.widget-view+json": {
       "model_id": "e7508a35e1e64f0e9f2ac4103d1feb29",
       "version_major": 2,
       "version_minor": 0
      },
      "text/plain": [
       "  0%|          | 0/58 [00:00<?, ?it/s]"
      ]
     },
     "metadata": {},
     "output_type": "display_data"
    },
    {
     "data": {
      "application/vnd.jupyter.widget-view+json": {
       "model_id": "f84fbb47d6a7409ca9603505444a384b",
       "version_major": 2,
       "version_minor": 0
      },
      "text/plain": [
       "  0%|          | 0/58 [00:00<?, ?it/s]"
      ]
     },
     "metadata": {},
     "output_type": "display_data"
    },
    {
     "data": {
      "application/vnd.jupyter.widget-view+json": {
       "model_id": "fd04d64ca5a34afa8e2c1e011ea6d96e",
       "version_major": 2,
       "version_minor": 0
      },
      "text/plain": [
       "  0%|          | 0/58 [00:00<?, ?it/s]"
      ]
     },
     "metadata": {},
     "output_type": "display_data"
    },
    {
     "data": {
      "application/vnd.jupyter.widget-view+json": {
       "model_id": "25a153d42bdb418d966f250d5a73fbd4",
       "version_major": 2,
       "version_minor": 0
      },
      "text/plain": [
       "  0%|          | 0/58 [00:00<?, ?it/s]"
      ]
     },
     "metadata": {},
     "output_type": "display_data"
    },
    {
     "data": {
      "application/vnd.jupyter.widget-view+json": {
       "model_id": "50d68776c1fc46948d45bd2bd3f056ac",
       "version_major": 2,
       "version_minor": 0
      },
      "text/plain": [
       "  0%|          | 0/58 [00:00<?, ?it/s]"
      ]
     },
     "metadata": {},
     "output_type": "display_data"
    },
    {
     "data": {
      "application/vnd.jupyter.widget-view+json": {
       "model_id": "28b3d42dedca4a1fb64190299fe961ca",
       "version_major": 2,
       "version_minor": 0
      },
      "text/plain": [
       "  0%|          | 0/58 [00:00<?, ?it/s]"
      ]
     },
     "metadata": {},
     "output_type": "display_data"
    },
    {
     "data": {
      "application/vnd.jupyter.widget-view+json": {
       "model_id": "0c38a22415294204aa4b54ce9d1bd166",
       "version_major": 2,
       "version_minor": 0
      },
      "text/plain": [
       "  0%|          | 0/58 [00:00<?, ?it/s]"
      ]
     },
     "metadata": {},
     "output_type": "display_data"
    },
    {
     "data": {
      "application/vnd.jupyter.widget-view+json": {
       "model_id": "f2e6e1128d9a44f1a7be1c47fe27e2ec",
       "version_major": 2,
       "version_minor": 0
      },
      "text/plain": [
       "  0%|          | 0/58 [00:00<?, ?it/s]"
      ]
     },
     "metadata": {},
     "output_type": "display_data"
    },
    {
     "data": {
      "application/vnd.jupyter.widget-view+json": {
       "model_id": "c47306f2bed543e6a16346cf860d5630",
       "version_major": 2,
       "version_minor": 0
      },
      "text/plain": [
       "  0%|          | 0/58 [00:00<?, ?it/s]"
      ]
     },
     "metadata": {},
     "output_type": "display_data"
    },
    {
     "data": {
      "application/vnd.jupyter.widget-view+json": {
       "model_id": "b6d82ebbfbec4ecf8287a150a3293808",
       "version_major": 2,
       "version_minor": 0
      },
      "text/plain": [
       "  0%|          | 0/58 [00:00<?, ?it/s]"
      ]
     },
     "metadata": {},
     "output_type": "display_data"
    },
    {
     "data": {
      "application/vnd.jupyter.widget-view+json": {
       "model_id": "fb8057d80b9148ddad7ef5d38cd9d1e9",
       "version_major": 2,
       "version_minor": 0
      },
      "text/plain": [
       "  0%|          | 0/58 [00:00<?, ?it/s]"
      ]
     },
     "metadata": {},
     "output_type": "display_data"
    },
    {
     "data": {
      "application/vnd.jupyter.widget-view+json": {
       "model_id": "af0d33802a9c41a9bc45cc9085ccf7d5",
       "version_major": 2,
       "version_minor": 0
      },
      "text/plain": [
       "  0%|          | 0/58 [00:00<?, ?it/s]"
      ]
     },
     "metadata": {},
     "output_type": "display_data"
    },
    {
     "data": {
      "application/vnd.jupyter.widget-view+json": {
       "model_id": "24897dd0157046b89257d2cf5d1bcf78",
       "version_major": 2,
       "version_minor": 0
      },
      "text/plain": [
       "  0%|          | 0/58 [00:00<?, ?it/s]"
      ]
     },
     "metadata": {},
     "output_type": "display_data"
    },
    {
     "data": {
      "application/vnd.jupyter.widget-view+json": {
       "model_id": "39b1650ab842472aba1bd72d3240092a",
       "version_major": 2,
       "version_minor": 0
      },
      "text/plain": [
       "  0%|          | 0/58 [00:00<?, ?it/s]"
      ]
     },
     "metadata": {},
     "output_type": "display_data"
    }
   ],
   "source": [
    "loss_fn = nn.MSELoss()\n",
    "epochs = 20\n",
    "\n",
    "fno = FNO(n_modes=(16,32), \n",
    "             hidden_channels=64, \n",
    "             in_channels=1, \n",
    "             out_channels=1)\n",
    "fno.to(device)\n",
    "optim_fno = torch.optim.Adam(fno.parameters(), lr = 1e-3)\n",
    "\n",
    "for _ in trange(epochs):\n",
    "    for xt, yt in tqdm(train_loader, leave = False):\n",
    "        xt = xt.to(device)\n",
    "        yt = yt.to(device)\n",
    "        yhat = fno(xt)\n",
    "        loss = loss_fn(yhat, yt)\n",
    "        loss.backward()\n",
    "        optim_fno.step()\n",
    "        optim_fno.zero_grad()\n"
   ]
  },
  {
   "cell_type": "code",
   "execution_count": 15,
   "id": "fc9145e2-22af-4888-b303-65fe9ea48dcc",
   "metadata": {},
   "outputs": [
    {
     "data": {
      "application/vnd.jupyter.widget-view+json": {
       "model_id": "bf90637bc5384a3fbf3382e3472dd877",
       "version_major": 2,
       "version_minor": 0
      },
      "text/plain": [
       "  0%|          | 0/20 [00:00<?, ?it/s]"
      ]
     },
     "metadata": {},
     "output_type": "display_data"
    },
    {
     "data": {
      "application/vnd.jupyter.widget-view+json": {
       "model_id": "96ba401eabbf42e0bd6d7d9a5d9c4129",
       "version_major": 2,
       "version_minor": 0
      },
      "text/plain": [
       "  0%|          | 0/58 [00:00<?, ?it/s]"
      ]
     },
     "metadata": {},
     "output_type": "display_data"
    },
    {
     "data": {
      "application/vnd.jupyter.widget-view+json": {
       "model_id": "bc35a0a615e247c2a4e0996b854cebc5",
       "version_major": 2,
       "version_minor": 0
      },
      "text/plain": [
       "  0%|          | 0/58 [00:00<?, ?it/s]"
      ]
     },
     "metadata": {},
     "output_type": "display_data"
    },
    {
     "data": {
      "application/vnd.jupyter.widget-view+json": {
       "model_id": "5a91772a6e9b4e20a893bf617bf48869",
       "version_major": 2,
       "version_minor": 0
      },
      "text/plain": [
       "  0%|          | 0/58 [00:00<?, ?it/s]"
      ]
     },
     "metadata": {},
     "output_type": "display_data"
    },
    {
     "data": {
      "application/vnd.jupyter.widget-view+json": {
       "model_id": "f77ce31b7c1a4a16b6ce91c0ab228fd9",
       "version_major": 2,
       "version_minor": 0
      },
      "text/plain": [
       "  0%|          | 0/58 [00:00<?, ?it/s]"
      ]
     },
     "metadata": {},
     "output_type": "display_data"
    },
    {
     "data": {
      "application/vnd.jupyter.widget-view+json": {
       "model_id": "92f4e38b50e3454e86f9cd0bb840913e",
       "version_major": 2,
       "version_minor": 0
      },
      "text/plain": [
       "  0%|          | 0/58 [00:00<?, ?it/s]"
      ]
     },
     "metadata": {},
     "output_type": "display_data"
    },
    {
     "data": {
      "application/vnd.jupyter.widget-view+json": {
       "model_id": "5724602e45db4be888be79dedf0e7645",
       "version_major": 2,
       "version_minor": 0
      },
      "text/plain": [
       "  0%|          | 0/58 [00:00<?, ?it/s]"
      ]
     },
     "metadata": {},
     "output_type": "display_data"
    },
    {
     "data": {
      "application/vnd.jupyter.widget-view+json": {
       "model_id": "49b265bace87421985ae9770035cd9bf",
       "version_major": 2,
       "version_minor": 0
      },
      "text/plain": [
       "  0%|          | 0/58 [00:00<?, ?it/s]"
      ]
     },
     "metadata": {},
     "output_type": "display_data"
    },
    {
     "data": {
      "application/vnd.jupyter.widget-view+json": {
       "model_id": "f2ae897ac7a34ea8b96116039dccf57e",
       "version_major": 2,
       "version_minor": 0
      },
      "text/plain": [
       "  0%|          | 0/58 [00:00<?, ?it/s]"
      ]
     },
     "metadata": {},
     "output_type": "display_data"
    },
    {
     "data": {
      "application/vnd.jupyter.widget-view+json": {
       "model_id": "99d728424eec4905b41c772741fcc75a",
       "version_major": 2,
       "version_minor": 0
      },
      "text/plain": [
       "  0%|          | 0/58 [00:00<?, ?it/s]"
      ]
     },
     "metadata": {},
     "output_type": "display_data"
    },
    {
     "data": {
      "application/vnd.jupyter.widget-view+json": {
       "model_id": "4072c157691c494ab12f4b1576ce9654",
       "version_major": 2,
       "version_minor": 0
      },
      "text/plain": [
       "  0%|          | 0/58 [00:00<?, ?it/s]"
      ]
     },
     "metadata": {},
     "output_type": "display_data"
    },
    {
     "data": {
      "application/vnd.jupyter.widget-view+json": {
       "model_id": "61105915168f4c67b71c8a01fc0366c4",
       "version_major": 2,
       "version_minor": 0
      },
      "text/plain": [
       "  0%|          | 0/58 [00:00<?, ?it/s]"
      ]
     },
     "metadata": {},
     "output_type": "display_data"
    },
    {
     "data": {
      "application/vnd.jupyter.widget-view+json": {
       "model_id": "30dea362e61242639c0498e8ef05a743",
       "version_major": 2,
       "version_minor": 0
      },
      "text/plain": [
       "  0%|          | 0/58 [00:00<?, ?it/s]"
      ]
     },
     "metadata": {},
     "output_type": "display_data"
    },
    {
     "data": {
      "application/vnd.jupyter.widget-view+json": {
       "model_id": "cc3e2be0a0b84cfc831aa268b0694f8e",
       "version_major": 2,
       "version_minor": 0
      },
      "text/plain": [
       "  0%|          | 0/58 [00:00<?, ?it/s]"
      ]
     },
     "metadata": {},
     "output_type": "display_data"
    },
    {
     "data": {
      "application/vnd.jupyter.widget-view+json": {
       "model_id": "1f331cf1b75a4b748103e0af9bdb9064",
       "version_major": 2,
       "version_minor": 0
      },
      "text/plain": [
       "  0%|          | 0/58 [00:00<?, ?it/s]"
      ]
     },
     "metadata": {},
     "output_type": "display_data"
    },
    {
     "data": {
      "application/vnd.jupyter.widget-view+json": {
       "model_id": "c17fc2aaa43146bfaabd1748501a0415",
       "version_major": 2,
       "version_minor": 0
      },
      "text/plain": [
       "  0%|          | 0/58 [00:00<?, ?it/s]"
      ]
     },
     "metadata": {},
     "output_type": "display_data"
    },
    {
     "data": {
      "application/vnd.jupyter.widget-view+json": {
       "model_id": "fda3218520bc460da9b9c9ddfb0d8439",
       "version_major": 2,
       "version_minor": 0
      },
      "text/plain": [
       "  0%|          | 0/58 [00:00<?, ?it/s]"
      ]
     },
     "metadata": {},
     "output_type": "display_data"
    },
    {
     "data": {
      "application/vnd.jupyter.widget-view+json": {
       "model_id": "efb33430d5264713a7f0b3d040f6cab0",
       "version_major": 2,
       "version_minor": 0
      },
      "text/plain": [
       "  0%|          | 0/58 [00:00<?, ?it/s]"
      ]
     },
     "metadata": {},
     "output_type": "display_data"
    },
    {
     "data": {
      "application/vnd.jupyter.widget-view+json": {
       "model_id": "2ed521ed4e1445469aaefc162f4d5a67",
       "version_major": 2,
       "version_minor": 0
      },
      "text/plain": [
       "  0%|          | 0/58 [00:00<?, ?it/s]"
      ]
     },
     "metadata": {},
     "output_type": "display_data"
    },
    {
     "data": {
      "application/vnd.jupyter.widget-view+json": {
       "model_id": "44f2769f16af4a628628fa8945d8cfcd",
       "version_major": 2,
       "version_minor": 0
      },
      "text/plain": [
       "  0%|          | 0/58 [00:00<?, ?it/s]"
      ]
     },
     "metadata": {},
     "output_type": "display_data"
    },
    {
     "data": {
      "application/vnd.jupyter.widget-view+json": {
       "model_id": "1c98ffa02f9544ac8bf2ab1c75862792",
       "version_major": 2,
       "version_minor": 0
      },
      "text/plain": [
       "  0%|          | 0/58 [00:00<?, ?it/s]"
      ]
     },
     "metadata": {},
     "output_type": "display_data"
    }
   ],
   "source": [
    "loss_fn = QuantileLoss(0.9)\n",
    "\n",
    "fno_quant = FNO(n_modes=(16,32), \n",
    "             hidden_channels=64, \n",
    "             in_channels=1, \n",
    "             out_channels=1)\n",
    "fno_quant.to(device)\n",
    "optim_fno = torch.optim.Adam(fno_quant.parameters(), lr = 1e-3)\n",
    "\n",
    "for _ in trange(epochs):\n",
    "    for xt, yt in tqdm(train_loader, leave = False):\n",
    "        xt = xt.to(device)\n",
    "        yt = yt.to(device)\n",
    "        yhat = fno_quant(xt)\n",
    "        loss = loss_fn(yhat, yt)\n",
    "        loss.backward()\n",
    "        optim_fno.step()\n",
    "        optim_fno.zero_grad()"
   ]
  },
  {
   "cell_type": "code",
   "execution_count": 16,
   "id": "1ce5da46-5f64-42e2-bba8-911457db330f",
   "metadata": {},
   "outputs": [
    {
     "data": {
      "application/vnd.jupyter.widget-view+json": {
       "model_id": "9b9c5cf9bbdb4b31af4d6120c4c45bb9",
       "version_major": 2,
       "version_minor": 0
      },
      "text/plain": [
       "  0%|          | 0/20 [00:00<?, ?it/s]"
      ]
     },
     "metadata": {},
     "output_type": "display_data"
    },
    {
     "data": {
      "application/vnd.jupyter.widget-view+json": {
       "model_id": "4a5601b7fb0541ea9d829ef2f7c9363e",
       "version_major": 2,
       "version_minor": 0
      },
      "text/plain": [
       "  0%|          | 0/58 [00:00<?, ?it/s]"
      ]
     },
     "metadata": {},
     "output_type": "display_data"
    },
    {
     "data": {
      "application/vnd.jupyter.widget-view+json": {
       "model_id": "075402a269b04ebfba09c954df6f3cf2",
       "version_major": 2,
       "version_minor": 0
      },
      "text/plain": [
       "  0%|          | 0/58 [00:00<?, ?it/s]"
      ]
     },
     "metadata": {},
     "output_type": "display_data"
    },
    {
     "data": {
      "application/vnd.jupyter.widget-view+json": {
       "model_id": "51fbe6218805443781e1f18f291584e0",
       "version_major": 2,
       "version_minor": 0
      },
      "text/plain": [
       "  0%|          | 0/58 [00:00<?, ?it/s]"
      ]
     },
     "metadata": {},
     "output_type": "display_data"
    },
    {
     "data": {
      "application/vnd.jupyter.widget-view+json": {
       "model_id": "86a5bfbd96ce47ef8fb2813d3579d4e4",
       "version_major": 2,
       "version_minor": 0
      },
      "text/plain": [
       "  0%|          | 0/58 [00:00<?, ?it/s]"
      ]
     },
     "metadata": {},
     "output_type": "display_data"
    },
    {
     "data": {
      "application/vnd.jupyter.widget-view+json": {
       "model_id": "a73a895a51e848a180abbe17eab7b826",
       "version_major": 2,
       "version_minor": 0
      },
      "text/plain": [
       "  0%|          | 0/58 [00:00<?, ?it/s]"
      ]
     },
     "metadata": {},
     "output_type": "display_data"
    },
    {
     "data": {
      "application/vnd.jupyter.widget-view+json": {
       "model_id": "8341522dd8c547be8e9401a8afc21f21",
       "version_major": 2,
       "version_minor": 0
      },
      "text/plain": [
       "  0%|          | 0/58 [00:00<?, ?it/s]"
      ]
     },
     "metadata": {},
     "output_type": "display_data"
    },
    {
     "data": {
      "application/vnd.jupyter.widget-view+json": {
       "model_id": "b1c2c53de1de4dfba943926f8016ddeb",
       "version_major": 2,
       "version_minor": 0
      },
      "text/plain": [
       "  0%|          | 0/58 [00:00<?, ?it/s]"
      ]
     },
     "metadata": {},
     "output_type": "display_data"
    },
    {
     "data": {
      "application/vnd.jupyter.widget-view+json": {
       "model_id": "9fce732bde5d471098099db6656baec8",
       "version_major": 2,
       "version_minor": 0
      },
      "text/plain": [
       "  0%|          | 0/58 [00:00<?, ?it/s]"
      ]
     },
     "metadata": {},
     "output_type": "display_data"
    },
    {
     "data": {
      "application/vnd.jupyter.widget-view+json": {
       "model_id": "e68eed625feb4739acb6e325b9214100",
       "version_major": 2,
       "version_minor": 0
      },
      "text/plain": [
       "  0%|          | 0/58 [00:00<?, ?it/s]"
      ]
     },
     "metadata": {},
     "output_type": "display_data"
    },
    {
     "data": {
      "application/vnd.jupyter.widget-view+json": {
       "model_id": "89ef58423d4b42299b05411755283611",
       "version_major": 2,
       "version_minor": 0
      },
      "text/plain": [
       "  0%|          | 0/58 [00:00<?, ?it/s]"
      ]
     },
     "metadata": {},
     "output_type": "display_data"
    },
    {
     "data": {
      "application/vnd.jupyter.widget-view+json": {
       "model_id": "abea4c0443084a928c007d6a6b5f18b8",
       "version_major": 2,
       "version_minor": 0
      },
      "text/plain": [
       "  0%|          | 0/58 [00:00<?, ?it/s]"
      ]
     },
     "metadata": {},
     "output_type": "display_data"
    },
    {
     "data": {
      "application/vnd.jupyter.widget-view+json": {
       "model_id": "593f918653154edca264153708904078",
       "version_major": 2,
       "version_minor": 0
      },
      "text/plain": [
       "  0%|          | 0/58 [00:00<?, ?it/s]"
      ]
     },
     "metadata": {},
     "output_type": "display_data"
    },
    {
     "data": {
      "application/vnd.jupyter.widget-view+json": {
       "model_id": "f20196b24e694506bcdca565bff9c691",
       "version_major": 2,
       "version_minor": 0
      },
      "text/plain": [
       "  0%|          | 0/58 [00:00<?, ?it/s]"
      ]
     },
     "metadata": {},
     "output_type": "display_data"
    },
    {
     "data": {
      "application/vnd.jupyter.widget-view+json": {
       "model_id": "9c51cb59538648a4972231eae0acb358",
       "version_major": 2,
       "version_minor": 0
      },
      "text/plain": [
       "  0%|          | 0/58 [00:00<?, ?it/s]"
      ]
     },
     "metadata": {},
     "output_type": "display_data"
    },
    {
     "data": {
      "application/vnd.jupyter.widget-view+json": {
       "model_id": "76b947a5eb0c4a9d90be45c8f28600fe",
       "version_major": 2,
       "version_minor": 0
      },
      "text/plain": [
       "  0%|          | 0/58 [00:00<?, ?it/s]"
      ]
     },
     "metadata": {},
     "output_type": "display_data"
    },
    {
     "data": {
      "application/vnd.jupyter.widget-view+json": {
       "model_id": "98ee0eb4ea294b2686ce55fd26380698",
       "version_major": 2,
       "version_minor": 0
      },
      "text/plain": [
       "  0%|          | 0/58 [00:00<?, ?it/s]"
      ]
     },
     "metadata": {},
     "output_type": "display_data"
    },
    {
     "data": {
      "application/vnd.jupyter.widget-view+json": {
       "model_id": "567f9aa73883478d994bce7b3fb8a4ee",
       "version_major": 2,
       "version_minor": 0
      },
      "text/plain": [
       "  0%|          | 0/58 [00:00<?, ?it/s]"
      ]
     },
     "metadata": {},
     "output_type": "display_data"
    },
    {
     "data": {
      "application/vnd.jupyter.widget-view+json": {
       "model_id": "07b0b927e1854645bfcd35c3c9cfb0f5",
       "version_major": 2,
       "version_minor": 0
      },
      "text/plain": [
       "  0%|          | 0/58 [00:00<?, ?it/s]"
      ]
     },
     "metadata": {},
     "output_type": "display_data"
    },
    {
     "data": {
      "application/vnd.jupyter.widget-view+json": {
       "model_id": "d91f479182004ee0bb09e5a8e41d6079",
       "version_major": 2,
       "version_minor": 0
      },
      "text/plain": [
       "  0%|          | 0/58 [00:00<?, ?it/s]"
      ]
     },
     "metadata": {},
     "output_type": "display_data"
    },
    {
     "data": {
      "application/vnd.jupyter.widget-view+json": {
       "model_id": "a1eb0bd9e1c4455f9c2478c9a6dedb29",
       "version_major": 2,
       "version_minor": 0
      },
      "text/plain": [
       "  0%|          | 0/58 [00:00<?, ?it/s]"
      ]
     },
     "metadata": {},
     "output_type": "display_data"
    }
   ],
   "source": [
    "loss_fn = GaussianNLLLoss()\n",
    "\n",
    "fno_prob = ProbFNO()\n",
    "fno_prob.to(device)\n",
    "optim_fno = torch.optim.Adam(fno_prob.parameters(), lr = 1e-3)\n",
    "\n",
    "for _ in trange(epochs):\n",
    "    for xt, yt in tqdm(train_loader, leave = False):\n",
    "        xt = xt.to(device)\n",
    "        yt = yt.to(device)\n",
    "        yhat = fno_prob(xt)\n",
    "        loss = loss_fn(yhat, yt)\n",
    "        loss.backward()\n",
    "        optim_fno.step()\n",
    "        optim_fno.zero_grad()"
   ]
  },
  {
   "cell_type": "code",
   "execution_count": 17,
   "id": "8f88a404-9123-4723-903a-b8377e295501",
   "metadata": {},
   "outputs": [],
   "source": [
    "n = xtrain.shape[0]\n",
    "xtrain_base1 = xtrain[:(n//2)]\n",
    "ytrain_base1 = ytrain[:(n//2)]\n",
    "xtrain_base2 = xtrain[(n//2):]\n",
    "ytrain_base2 = ytrain[(n//2):]\n",
    "\n",
    "train_data1 = TensorDataset(jax2torch(xtrain_base1), jax2torch(ytrain_base1))\n",
    "train_loader1 = DataLoader(train_data1, batch_size = 30, shuffle = True)\n",
    "\n",
    "train_data2 = TensorDataset(jax2torch(xtrain_base2), jax2torch(ytrain_base2))\n",
    "train_loader2 = DataLoader(train_data2, batch_size = 30, shuffle = False)"
   ]
  },
  {
   "cell_type": "code",
   "execution_count": 18,
   "id": "9b3fc01e-df49-44e8-ac99-2a9e91d42767",
   "metadata": {},
   "outputs": [
    {
     "data": {
      "application/vnd.jupyter.widget-view+json": {
       "model_id": "e888691d6a5b45f8b232d500882a1d6f",
       "version_major": 2,
       "version_minor": 0
      },
      "text/plain": [
       "  0%|          | 0/20 [00:00<?, ?it/s]"
      ]
     },
     "metadata": {},
     "output_type": "display_data"
    },
    {
     "data": {
      "application/vnd.jupyter.widget-view+json": {
       "model_id": "8e4c9fd82f4147ce994a1764b6142e00",
       "version_major": 2,
       "version_minor": 0
      },
      "text/plain": [
       "  0%|          | 0/61 [00:00<?, ?it/s]"
      ]
     },
     "metadata": {},
     "output_type": "display_data"
    },
    {
     "data": {
      "application/vnd.jupyter.widget-view+json": {
       "model_id": "fda6dcf0a89a4510be462063e633855a",
       "version_major": 2,
       "version_minor": 0
      },
      "text/plain": [
       "  0%|          | 0/61 [00:00<?, ?it/s]"
      ]
     },
     "metadata": {},
     "output_type": "display_data"
    },
    {
     "data": {
      "application/vnd.jupyter.widget-view+json": {
       "model_id": "366bad536ced40bb8b2b6957cbf41d01",
       "version_major": 2,
       "version_minor": 0
      },
      "text/plain": [
       "  0%|          | 0/61 [00:00<?, ?it/s]"
      ]
     },
     "metadata": {},
     "output_type": "display_data"
    },
    {
     "data": {
      "application/vnd.jupyter.widget-view+json": {
       "model_id": "a904dbf56eab49ac8ad04021c4f64da2",
       "version_major": 2,
       "version_minor": 0
      },
      "text/plain": [
       "  0%|          | 0/61 [00:00<?, ?it/s]"
      ]
     },
     "metadata": {},
     "output_type": "display_data"
    },
    {
     "data": {
      "application/vnd.jupyter.widget-view+json": {
       "model_id": "f1c3d4df6a784b6eb891a66a820d774c",
       "version_major": 2,
       "version_minor": 0
      },
      "text/plain": [
       "  0%|          | 0/61 [00:00<?, ?it/s]"
      ]
     },
     "metadata": {},
     "output_type": "display_data"
    },
    {
     "data": {
      "application/vnd.jupyter.widget-view+json": {
       "model_id": "99ad759101084a8288ee9732c731d0e0",
       "version_major": 2,
       "version_minor": 0
      },
      "text/plain": [
       "  0%|          | 0/61 [00:00<?, ?it/s]"
      ]
     },
     "metadata": {},
     "output_type": "display_data"
    },
    {
     "data": {
      "application/vnd.jupyter.widget-view+json": {
       "model_id": "3279ced07ea34bad803f44e5a5c2e405",
       "version_major": 2,
       "version_minor": 0
      },
      "text/plain": [
       "  0%|          | 0/61 [00:00<?, ?it/s]"
      ]
     },
     "metadata": {},
     "output_type": "display_data"
    },
    {
     "data": {
      "application/vnd.jupyter.widget-view+json": {
       "model_id": "39c4b822e25f497fa5a945e2edad718a",
       "version_major": 2,
       "version_minor": 0
      },
      "text/plain": [
       "  0%|          | 0/61 [00:00<?, ?it/s]"
      ]
     },
     "metadata": {},
     "output_type": "display_data"
    },
    {
     "data": {
      "application/vnd.jupyter.widget-view+json": {
       "model_id": "1a95e232480e4169ad074fbd96647266",
       "version_major": 2,
       "version_minor": 0
      },
      "text/plain": [
       "  0%|          | 0/61 [00:00<?, ?it/s]"
      ]
     },
     "metadata": {},
     "output_type": "display_data"
    },
    {
     "data": {
      "application/vnd.jupyter.widget-view+json": {
       "model_id": "f2da7fe635a341d0b9f9b046f349c45e",
       "version_major": 2,
       "version_minor": 0
      },
      "text/plain": [
       "  0%|          | 0/61 [00:00<?, ?it/s]"
      ]
     },
     "metadata": {},
     "output_type": "display_data"
    },
    {
     "data": {
      "application/vnd.jupyter.widget-view+json": {
       "model_id": "657d036f1dfb403584162cbad5b0b831",
       "version_major": 2,
       "version_minor": 0
      },
      "text/plain": [
       "  0%|          | 0/61 [00:00<?, ?it/s]"
      ]
     },
     "metadata": {},
     "output_type": "display_data"
    },
    {
     "data": {
      "application/vnd.jupyter.widget-view+json": {
       "model_id": "a868e41fab13495c8966fc0d2a7de32b",
       "version_major": 2,
       "version_minor": 0
      },
      "text/plain": [
       "  0%|          | 0/61 [00:00<?, ?it/s]"
      ]
     },
     "metadata": {},
     "output_type": "display_data"
    },
    {
     "data": {
      "application/vnd.jupyter.widget-view+json": {
       "model_id": "ad9a84892c9942bdb6a28bb2d04eef00",
       "version_major": 2,
       "version_minor": 0
      },
      "text/plain": [
       "  0%|          | 0/61 [00:00<?, ?it/s]"
      ]
     },
     "metadata": {},
     "output_type": "display_data"
    },
    {
     "data": {
      "application/vnd.jupyter.widget-view+json": {
       "model_id": "63c7d151e3544df1972d70cf7660919c",
       "version_major": 2,
       "version_minor": 0
      },
      "text/plain": [
       "  0%|          | 0/61 [00:00<?, ?it/s]"
      ]
     },
     "metadata": {},
     "output_type": "display_data"
    },
    {
     "data": {
      "application/vnd.jupyter.widget-view+json": {
       "model_id": "11fbb0a26f2847579344b8a575fe45c6",
       "version_major": 2,
       "version_minor": 0
      },
      "text/plain": [
       "  0%|          | 0/61 [00:00<?, ?it/s]"
      ]
     },
     "metadata": {},
     "output_type": "display_data"
    },
    {
     "data": {
      "application/vnd.jupyter.widget-view+json": {
       "model_id": "c10b15d17be84708b23500582d274652",
       "version_major": 2,
       "version_minor": 0
      },
      "text/plain": [
       "  0%|          | 0/61 [00:00<?, ?it/s]"
      ]
     },
     "metadata": {},
     "output_type": "display_data"
    },
    {
     "data": {
      "application/vnd.jupyter.widget-view+json": {
       "model_id": "d71ab92b675e4aee8e24cb06a37c5d2c",
       "version_major": 2,
       "version_minor": 0
      },
      "text/plain": [
       "  0%|          | 0/61 [00:00<?, ?it/s]"
      ]
     },
     "metadata": {},
     "output_type": "display_data"
    },
    {
     "data": {
      "application/vnd.jupyter.widget-view+json": {
       "model_id": "933cbf1e64674172bdc2de03dfde657f",
       "version_major": 2,
       "version_minor": 0
      },
      "text/plain": [
       "  0%|          | 0/61 [00:00<?, ?it/s]"
      ]
     },
     "metadata": {},
     "output_type": "display_data"
    },
    {
     "data": {
      "application/vnd.jupyter.widget-view+json": {
       "model_id": "f617f7b8394a46e4b08edfe59381ff0f",
       "version_major": 2,
       "version_minor": 0
      },
      "text/plain": [
       "  0%|          | 0/61 [00:00<?, ?it/s]"
      ]
     },
     "metadata": {},
     "output_type": "display_data"
    },
    {
     "data": {
      "application/vnd.jupyter.widget-view+json": {
       "model_id": "48bd24f48ae04deea54a44f5fc5e6646",
       "version_major": 2,
       "version_minor": 0
      },
      "text/plain": [
       "  0%|          | 0/61 [00:00<?, ?it/s]"
      ]
     },
     "metadata": {},
     "output_type": "display_data"
    }
   ],
   "source": [
    "loss_fn = nn.MSELoss()\n",
    "fno_base = FNO(n_modes=(16,32), \n",
    "             hidden_channels=64, \n",
    "             in_channels=1, \n",
    "             out_channels=1)\n",
    "fno_base.to(device)\n",
    "optim_fno = torch.optim.Adam(fno_base.parameters(), lr = 1e-3)\n",
    "\n",
    "for _ in trange(epochs):\n",
    "    for xt, yt in tqdm(train_loader1, leave = False):\n",
    "        xt = xt.to(device)\n",
    "        yt = yt.to(device)\n",
    "        yhat = fno_base(xt)\n",
    "        loss = loss_fn(yhat, yt)\n",
    "        loss.backward()\n",
    "        optim_fno.step()\n",
    "        optim_fno.zero_grad()"
   ]
  },
  {
   "cell_type": "code",
   "execution_count": 19,
   "id": "ae54b9d1-790e-4c50-9d98-d9ec4ec9f0d9",
   "metadata": {},
   "outputs": [
    {
     "data": {
      "application/vnd.jupyter.widget-view+json": {
       "model_id": "f9af118746924cf28825adcdf5ba406b",
       "version_major": 2,
       "version_minor": 0
      },
      "text/plain": [
       "  0%|          | 0/61 [00:00<?, ?it/s]"
      ]
     },
     "metadata": {},
     "output_type": "display_data"
    }
   ],
   "source": [
    "ytrain_base1_hat = []\n",
    "with torch.no_grad():\n",
    "    for xt, yt in tqdm(train_loader2, leave = False):\n",
    "        yt_hat = fno_base(xt.to(device)).cpu().squeeze()\n",
    "        \n",
    "        ytrain_base1_hat.append(yt_hat)\n",
    "ytrain_base1_hat = torch.vstack(ytrain_base1_hat)[:,None]\n",
    "ytrain_base1_hat = torch2jax(ytrain_base1_hat)\n",
    "\n",
    "train_data2 = TensorDataset(jax2torch(xtrain_base2), torch.abs(jax2torch(ytrain_base2 - ytrain_base1_hat)))\n",
    "train_loader2 = DataLoader(train_data2, batch_size = 30, shuffle = True)"
   ]
  },
  {
   "cell_type": "code",
   "execution_count": 20,
   "id": "a78e1051-e7e8-4f64-97b3-25c2e855ff93",
   "metadata": {},
   "outputs": [
    {
     "data": {
      "application/vnd.jupyter.widget-view+json": {
       "model_id": "e4034be842a5421fb3b45f3a145b192f",
       "version_major": 2,
       "version_minor": 0
      },
      "text/plain": [
       "  0%|          | 0/20 [00:00<?, ?it/s]"
      ]
     },
     "metadata": {},
     "output_type": "display_data"
    },
    {
     "data": {
      "application/vnd.jupyter.widget-view+json": {
       "model_id": "e702a335439f4a6cb193ef4e3a992ff3",
       "version_major": 2,
       "version_minor": 0
      },
      "text/plain": [
       "  0%|          | 0/61 [00:00<?, ?it/s]"
      ]
     },
     "metadata": {},
     "output_type": "display_data"
    },
    {
     "data": {
      "application/vnd.jupyter.widget-view+json": {
       "model_id": "fb813122a2544dbd94c5ceda39d95ce8",
       "version_major": 2,
       "version_minor": 0
      },
      "text/plain": [
       "  0%|          | 0/61 [00:00<?, ?it/s]"
      ]
     },
     "metadata": {},
     "output_type": "display_data"
    },
    {
     "data": {
      "application/vnd.jupyter.widget-view+json": {
       "model_id": "52cbb799aec445a4868a154422cf5213",
       "version_major": 2,
       "version_minor": 0
      },
      "text/plain": [
       "  0%|          | 0/61 [00:00<?, ?it/s]"
      ]
     },
     "metadata": {},
     "output_type": "display_data"
    },
    {
     "data": {
      "application/vnd.jupyter.widget-view+json": {
       "model_id": "71d0da682b8d47d0a5b92c70379759e7",
       "version_major": 2,
       "version_minor": 0
      },
      "text/plain": [
       "  0%|          | 0/61 [00:00<?, ?it/s]"
      ]
     },
     "metadata": {},
     "output_type": "display_data"
    },
    {
     "data": {
      "application/vnd.jupyter.widget-view+json": {
       "model_id": "8dfa78b9876d4ccdb610d76f23069507",
       "version_major": 2,
       "version_minor": 0
      },
      "text/plain": [
       "  0%|          | 0/61 [00:00<?, ?it/s]"
      ]
     },
     "metadata": {},
     "output_type": "display_data"
    },
    {
     "data": {
      "application/vnd.jupyter.widget-view+json": {
       "model_id": "c710f5c02239480fafebd444f0003b1d",
       "version_major": 2,
       "version_minor": 0
      },
      "text/plain": [
       "  0%|          | 0/61 [00:00<?, ?it/s]"
      ]
     },
     "metadata": {},
     "output_type": "display_data"
    },
    {
     "data": {
      "application/vnd.jupyter.widget-view+json": {
       "model_id": "89a81df1f09347fd9220d3d840f0a1f7",
       "version_major": 2,
       "version_minor": 0
      },
      "text/plain": [
       "  0%|          | 0/61 [00:00<?, ?it/s]"
      ]
     },
     "metadata": {},
     "output_type": "display_data"
    },
    {
     "data": {
      "application/vnd.jupyter.widget-view+json": {
       "model_id": "376a9625553a44c3a1a35d48794aa64d",
       "version_major": 2,
       "version_minor": 0
      },
      "text/plain": [
       "  0%|          | 0/61 [00:00<?, ?it/s]"
      ]
     },
     "metadata": {},
     "output_type": "display_data"
    },
    {
     "data": {
      "application/vnd.jupyter.widget-view+json": {
       "model_id": "6d994bad8afc47fe9888bb64cc554e98",
       "version_major": 2,
       "version_minor": 0
      },
      "text/plain": [
       "  0%|          | 0/61 [00:00<?, ?it/s]"
      ]
     },
     "metadata": {},
     "output_type": "display_data"
    },
    {
     "data": {
      "application/vnd.jupyter.widget-view+json": {
       "model_id": "135b587b833f40d1a752601adc576c1b",
       "version_major": 2,
       "version_minor": 0
      },
      "text/plain": [
       "  0%|          | 0/61 [00:00<?, ?it/s]"
      ]
     },
     "metadata": {},
     "output_type": "display_data"
    },
    {
     "data": {
      "application/vnd.jupyter.widget-view+json": {
       "model_id": "e4ffab432f8d4df68c1a7c91a7b21e28",
       "version_major": 2,
       "version_minor": 0
      },
      "text/plain": [
       "  0%|          | 0/61 [00:00<?, ?it/s]"
      ]
     },
     "metadata": {},
     "output_type": "display_data"
    },
    {
     "data": {
      "application/vnd.jupyter.widget-view+json": {
       "model_id": "66a1e90d61414decaa94393f39351331",
       "version_major": 2,
       "version_minor": 0
      },
      "text/plain": [
       "  0%|          | 0/61 [00:00<?, ?it/s]"
      ]
     },
     "metadata": {},
     "output_type": "display_data"
    },
    {
     "data": {
      "application/vnd.jupyter.widget-view+json": {
       "model_id": "ca0d1cdefa5c46e18049e842a0b79108",
       "version_major": 2,
       "version_minor": 0
      },
      "text/plain": [
       "  0%|          | 0/61 [00:00<?, ?it/s]"
      ]
     },
     "metadata": {},
     "output_type": "display_data"
    },
    {
     "data": {
      "application/vnd.jupyter.widget-view+json": {
       "model_id": "0b613eb314a8450d8dff3377d4f35fb2",
       "version_major": 2,
       "version_minor": 0
      },
      "text/plain": [
       "  0%|          | 0/61 [00:00<?, ?it/s]"
      ]
     },
     "metadata": {},
     "output_type": "display_data"
    },
    {
     "data": {
      "application/vnd.jupyter.widget-view+json": {
       "model_id": "0f22cd0603a7497987614ac05b8b41b5",
       "version_major": 2,
       "version_minor": 0
      },
      "text/plain": [
       "  0%|          | 0/61 [00:00<?, ?it/s]"
      ]
     },
     "metadata": {},
     "output_type": "display_data"
    },
    {
     "data": {
      "application/vnd.jupyter.widget-view+json": {
       "model_id": "cbf26321c1f445bdafbe631b7d3c41cf",
       "version_major": 2,
       "version_minor": 0
      },
      "text/plain": [
       "  0%|          | 0/61 [00:00<?, ?it/s]"
      ]
     },
     "metadata": {},
     "output_type": "display_data"
    },
    {
     "data": {
      "application/vnd.jupyter.widget-view+json": {
       "model_id": "3fdb1340b64f4d49931b52f35c0da368",
       "version_major": 2,
       "version_minor": 0
      },
      "text/plain": [
       "  0%|          | 0/61 [00:00<?, ?it/s]"
      ]
     },
     "metadata": {},
     "output_type": "display_data"
    },
    {
     "data": {
      "application/vnd.jupyter.widget-view+json": {
       "model_id": "6e9688100ab44ae39a210c4d2bf6da12",
       "version_major": 2,
       "version_minor": 0
      },
      "text/plain": [
       "  0%|          | 0/61 [00:00<?, ?it/s]"
      ]
     },
     "metadata": {},
     "output_type": "display_data"
    },
    {
     "data": {
      "application/vnd.jupyter.widget-view+json": {
       "model_id": "20e1c9cb6934411ea8cddff7e89e9ac3",
       "version_major": 2,
       "version_minor": 0
      },
      "text/plain": [
       "  0%|          | 0/61 [00:00<?, ?it/s]"
      ]
     },
     "metadata": {},
     "output_type": "display_data"
    },
    {
     "data": {
      "application/vnd.jupyter.widget-view+json": {
       "model_id": "985eec71c7e84d89bcdadc8f1e77b24a",
       "version_major": 2,
       "version_minor": 0
      },
      "text/plain": [
       "  0%|          | 0/61 [00:00<?, ?it/s]"
      ]
     },
     "metadata": {},
     "output_type": "display_data"
    }
   ],
   "source": [
    "loss_fn = QuantileLoss(0.9)\n",
    "fno_quant2 = FNO(n_modes=(16,32), \n",
    "             hidden_channels=64, \n",
    "             in_channels=1, \n",
    "             out_channels=1)\n",
    "fno_quant2.to(device)\n",
    "optim_fno = torch.optim.Adam(fno_quant2.parameters(), lr = 1e-3)\n",
    "\n",
    "epochs = 20\n",
    "for _ in trange(epochs):\n",
    "    for xt, yt in tqdm(train_loader2, leave = False): \n",
    "        xt = xt.to(device)\n",
    "        yt = yt.to(device)\n",
    "        yhat = fno_quant2(xt)\n",
    "        loss = loss_fn(yhat, yt)\n",
    "        loss.backward()\n",
    "        optim_fno.step()\n",
    "        optim_fno.zero_grad()"
   ]
  },
  {
   "cell_type": "code",
   "execution_count": 154,
   "id": "883cd7e3-1f57-40bd-8c15-71ac61b8443b",
   "metadata": {},
   "outputs": [],
   "source": [
    "# del dtrain, xtrain, ytrain\n",
    "dval = np.load('../data/era5_val_small.npy', mmap_mode='r+')\n",
    "dtest = np.load('../data/era5_test_small.npy', mmap_mode='r+')\n",
    "\n",
    "dval = np.mean(dval.reshape(-1, 4, nlat, nlon), axis = 1)\n",
    "dtest = np.mean(dtest.reshape(-1, 4, nlat, nlon), axis = 1)\n",
    "\n",
    "dval = np.array(clim_smooth(dval, kernel))\n",
    "dtest = np.array(clim_smooth(dtest, kernel))\n",
    "\n",
    "dval = (dval - spatial_mean)/spatial_std\n",
    "dtest = (dtest - spatial_mean)/spatial_std\n",
    "\n",
    "xval, yval = split_data(dval, lag, lead)\n",
    "xtest, ytest = split_data(dtest, lag, lead)"
   ]
  },
  {
   "cell_type": "code",
   "execution_count": 155,
   "id": "2a0d9dba-fd67-4392-89c3-1fb70e6c6b3b",
   "metadata": {},
   "outputs": [],
   "source": [
    "val_data = TensorDataset(jax2torch(xval), jax2torch(yval))\n",
    "val_loader = DataLoader(val_data, batch_size = 30, shuffle = True)\n",
    "\n",
    "test_data = TensorDataset(jax2torch(xtest), jax2torch(ytest))\n",
    "test_loader = DataLoader(test_data, batch_size = 30, shuffle = False)"
   ]
  },
  {
   "cell_type": "code",
   "execution_count": 156,
   "id": "55a35951-3d3c-4caf-8ca9-95c37ad533c9",
   "metadata": {
    "scrolled": true
   },
   "outputs": [
    {
     "data": {
      "application/vnd.jupyter.widget-view+json": {
       "model_id": "24598095de244c98ad1ef2fb6aec118c",
       "version_major": 2,
       "version_minor": 0
      },
      "text/plain": [
       "  0%|          | 0/61 [00:00<?, ?it/s]"
      ]
     },
     "metadata": {},
     "output_type": "display_data"
    },
    {
     "data": {
      "application/vnd.jupyter.widget-view+json": {
       "model_id": "ec54aa1e83de4d3e8ac23f39bbf85a31",
       "version_major": 2,
       "version_minor": 0
      },
      "text/plain": [
       "  0%|          | 0/61 [00:00<?, ?it/s]"
      ]
     },
     "metadata": {},
     "output_type": "display_data"
    }
   ],
   "source": [
    "with torch.no_grad():\n",
    "    yval_fno = []\n",
    "    yval_quant = []\n",
    "    yval_mu = []\n",
    "    yval_sd = []\n",
    "    yval_hat2 = []\n",
    "    yval_quant2 = []\n",
    "\n",
    "    ytest_fno = []\n",
    "    ytest_quant = []\n",
    "    ytest_mu = []\n",
    "    ytest_sd = []\n",
    "    ytest_hat2 = []\n",
    "    ytest_quant2 = []\n",
    "    \n",
    "    for xt, _ in tqdm(val_loader, leave = False):\n",
    "        xt = jax2torch(xt).to(device)\n",
    "        \n",
    "        yval_fno.append(fno(xt).cpu().squeeze())\n",
    "        yval_quant.append(fno_quant(xt).cpu().squeeze())\n",
    "        yval_mut, yval_sdt = fno_prob(xt)\n",
    "        yval_mu.append(yval_mut.cpu().squeeze())\n",
    "        yval_sd.append(yval_sdt.cpu().squeeze())\n",
    "        yval_hat2.append(fno_base(xt).cpu().squeeze())\n",
    "        yval_quant2.append(fno_quant2(xt).cpu().squeeze())\n",
    "        \n",
    "    yval_fno = torch2jax(torch.vstack(yval_fno)[:,None])\n",
    "    yval_quant = torch2jax(torch.vstack(yval_quant)[:,None])\n",
    "    yval_mu = torch2jax(torch.vstack(yval_mu)[:,None])\n",
    "    yval_sd = torch2jax(torch.vstack(yval_sd)[:,None])\n",
    "    yval_hat2 = torch2jax(torch.vstack(yval_hat2)[:,None])\n",
    "    yval_quant2 = torch2jax(torch.vstack(yval_quant2)[:,None])\n",
    "\n",
    "    for xt, _ in tqdm(test_loader, leave = False):\n",
    "        xt = jax2torch(xt).to(device)\n",
    "        \n",
    "        ytest_fno.append(fno(xt).cpu().squeeze())\n",
    "        ytest_quant.append(fno_quant(xt).cpu().squeeze())\n",
    "        ytest_mut, ytest_sdt = fno_prob(xt)\n",
    "        ytest_mu.append(ytest_mut.cpu().squeeze())\n",
    "        ytest_sd.append(ytest_sdt.cpu().squeeze())\n",
    "        ytest_hat2.append(fno_base(xt).cpu().squeeze())\n",
    "        ytest_quant2.append(fno_quant2(xt).cpu().squeeze())\n",
    "\n",
    "    ytest_fno = torch2jax(torch.vstack(ytest_fno)[:,None])\n",
    "    ytest_quant = torch2jax(torch.vstack(ytest_quant)[:,None])\n",
    "    ytest_mu = torch2jax(torch.vstack(ytest_mu)[:,None])\n",
    "    ytest_sd = torch2jax(torch.vstack(ytest_sd)[:,None])\n",
    "    ytest_hat2 = torch2jax(torch.vstack(ytest_hat2)[:,None])\n",
    "    ytest_quant2 = torch2jax(torch.vstack(ytest_quant2)[:,None])\n",
    "\n",
    "rval_fno = yval - yval_fno\n",
    "rtest_fno = ytest - ytest_fno\n",
    "rtest_fno2 = ytest - ytest_hat2\n",
    "rtest_mu = ytest - ytest_mu\n",
    "# _, nlat, nlon = rval_fno.shape"
   ]
  },
  {
   "cell_type": "code",
   "execution_count": 158,
   "id": "a83f6e1d-5d41-4cd7-bb0b-d3e75b3c45d3",
   "metadata": {},
   "outputs": [],
   "source": [
    "rval_fno = rval_fno.reshape(-1, nlat*nlon)\n",
    "rtest_fno = rtest_fno.reshape(-1, nlat*nlon)\n",
    "rtest_fno2 = rtest_fno2.reshape(-1, nlat*nlon)\n",
    "rtest_mu = rtest_mu.reshape(-1, nlat*nlon)\n",
    "\n",
    "yval_quant = yval_quant.reshape(-1, nlat*nlon)\n",
    "yval_hat2 = yval_hat2.reshape(-1, nlat*nlon)\n",
    "yval_quant2  = yval_quant2.reshape(-1, nlat*nlon)\n",
    "ytest_quant2  = ytest_quant2.reshape(-1, nlat*nlon)\n",
    "\n",
    "yval = yval.reshape(-1, nlat*nlon)\n",
    "yval_mu = yval_mu.reshape(-1, nlat*nlon)\n",
    "yval_sd = yval_sd.reshape(-1, nlat*nlon)\n",
    "ytest_mu  = ytest_mu.reshape(-1, nlat*nlon)\n",
    "ytest_sd  = ytest_sd.reshape(-1, nlat*nlon)\n",
    "ytest_quant  = ytest_quant.reshape(-1, nlat*nlon)"
   ]
  },
  {
   "cell_type": "code",
   "execution_count": 159,
   "id": "6d9ae7f8-4972-4b6d-ac11-75e4a0031a3e",
   "metadata": {},
   "outputs": [],
   "source": [
    "nproj = nlat*nlon\n",
    "nslice = nproj//10\n",
    "nsamp = 2000\n",
    "alpha = 0.1\n",
    "\n",
    "# setup\n",
    "pca_state = pcax.fit(rval_fno, nproj)\n",
    "phi = phi_slice(random.PRNGKey(0), rval_fno.shape[1], nproj)\n",
    "rval_phi = rval_fno @ phi\n",
    "rval_fpc = pcax.transform(pca_state, rval_fno)\n",
    "\n",
    "rval_quant = jnp.abs(rval_fno) / yval_quant"
   ]
  },
  {
   "cell_type": "code",
   "execution_count": 160,
   "id": "aa0a50a7-d208-4daa-ad10-0e2ec6c7d06c",
   "metadata": {},
   "outputs": [],
   "source": [
    "conf_lower, conf_upper = conf.conf_band(rval_fno, pca_state, alpha)\n",
    "gaus_lower, gaus_upper = gaus.gaus_band(rval_fno, pca_state, alpha)\n",
    "supr_lower, supr_upper = supr.supr_band(rval_fno, alpha)\n",
    "\n",
    "uqno_lam = uqno_lambda(yval, yval_hat2, yval_quant2, delta = 0.1, alpha = 0.1)\n",
    "uqn1_lower, uqn1_upper = -uqno_lam*ytest_quant2, uqno_lam*ytest_quant2"
   ]
  },
  {
   "cell_type": "code",
   "execution_count": 161,
   "id": "6978350a-d7b8-4d4b-b51a-4ddf324b2645",
   "metadata": {},
   "outputs": [],
   "source": [
    "pdon_lower, pdon_upper = prob_don(yval.squeeze(), yval_mu, yval_sd, ytest_sd, alpha)\n",
    "qdon_lower, qdon_upper = quant_don(yval.squeeze(), yval_quant, ytest_quant, alpha)"
   ]
  },
  {
   "cell_type": "code",
   "execution_count": 162,
   "id": "bbc4613b-409b-4790-97df-a53db20df6b5",
   "metadata": {},
   "outputs": [],
   "source": [
    "x_state = pcax.fit(xval.reshape(-1, nlat*nlon), 5)\n",
    "xval_fpc = pcax.transform(x_state, xval.reshape(-1, nlat*nlon))\n",
    "xtest_fpc = pcax.transform(x_state, xtest.reshape(-1, nlat*nlon))"
   ]
  },
  {
   "cell_type": "code",
   "execution_count": 220,
   "id": "85a95106-df5d-464b-9fdf-645f91416d88",
   "metadata": {},
   "outputs": [
    {
     "data": {
      "application/vnd.jupyter.widget-view+json": {
       "model_id": "1586d91af5d8418ba2f37eadc5f04b8e",
       "version_major": 2,
       "version_minor": 0
      },
      "text/plain": [
       "  0%|          | 0/500 [00:00<?, ?it/s]"
      ]
     },
     "metadata": {},
     "output_type": "display_data"
    },
    {
     "ename": "KeyboardInterrupt",
     "evalue": "",
     "output_type": "error",
     "traceback": [
      "\u001b[0;31m---------------------------------------------------------------------------\u001b[0m",
      "\u001b[0;31mKeyboardInterrupt\u001b[0m                         Traceback (most recent call last)",
      "Cell \u001b[0;32mIn[220], line 16\u001b[0m\n\u001b[1;32m     14\u001b[0m \u001b[38;5;28;01mwhile\u001b[39;00m dphi_max \u001b[38;5;241m==\u001b[39m \u001b[38;5;241m0\u001b[39m:\n\u001b[1;32m     15\u001b[0m     rng, key1, key2 \u001b[38;5;241m=\u001b[39m random\u001b[38;5;241m.\u001b[39msplit(rng, \u001b[38;5;241m3\u001b[39m)\n\u001b[0;32m---> 16\u001b[0m     local_ens, dphi, qval \u001b[38;5;241m=\u001b[39m \u001b[43mphi_resample\u001b[49m\u001b[43m(\u001b[49m\u001b[43mxval\u001b[49m\u001b[38;5;241;43m.\u001b[39;49m\u001b[43mreshape\u001b[49m\u001b[43m(\u001b[49m\u001b[38;5;241;43m-\u001b[39;49m\u001b[38;5;241;43m1\u001b[39;49m\u001b[43m,\u001b[49m\u001b[43m \u001b[49m\u001b[38;5;241;43m1\u001b[39;49m\u001b[43m,\u001b[49m\u001b[43m \u001b[49m\u001b[43mnlat\u001b[49m\u001b[38;5;241;43m*\u001b[39;49m\u001b[43mnlon\u001b[49m\u001b[43m)\u001b[49m\u001b[43m,\u001b[49m\u001b[43m \u001b[49m\n\u001b[1;32m     17\u001b[0m \u001b[43m                                         \u001b[49m\u001b[43mxtest\u001b[49m\u001b[43m[\u001b[49m\u001b[43mk\u001b[49m\u001b[43m]\u001b[49m\u001b[38;5;241;43m.\u001b[39;49m\u001b[43mreshape\u001b[49m\u001b[43m(\u001b[49m\u001b[38;5;241;43m1\u001b[39;49m\u001b[43m,\u001b[49m\u001b[43m \u001b[49m\u001b[43mnlat\u001b[49m\u001b[38;5;241;43m*\u001b[39;49m\u001b[43mnlon\u001b[49m\u001b[43m)\u001b[49m\u001b[43m,\u001b[49m\n\u001b[1;32m     18\u001b[0m \u001b[43m                                         \u001b[49m\u001b[43mrval_fpc\u001b[49m\u001b[43m,\u001b[49m\u001b[43m \u001b[49m\n\u001b[1;32m     19\u001b[0m \u001b[43m                                         \u001b[49m\u001b[43mnsamp\u001b[49m\u001b[43m,\u001b[49m\u001b[43m \u001b[49m\u001b[43mnslice\u001b[49m\u001b[43m,\u001b[49m\u001b[43m \u001b[49m\u001b[43mkey1\u001b[49m\u001b[43m,\u001b[49m\n\u001b[1;32m     20\u001b[0m \u001b[43m                                         \u001b[49m\u001b[43malpha\u001b[49m\u001b[43m,\u001b[49m\u001b[43m \u001b[49m\u001b[38;5;124;43m'\u001b[39;49m\u001b[38;5;124;43mtukey\u001b[39;49m\u001b[38;5;124;43m'\u001b[39;49m\u001b[43m,\u001b[49m\u001b[43m \u001b[49m\u001b[38;5;124;43m'\u001b[39;49m\u001b[38;5;124;43mdexp\u001b[39;49m\u001b[38;5;124;43m'\u001b[39;49m\u001b[43m,\u001b[49m\u001b[43m \u001b[49m\u001b[38;5;241;43m10\u001b[39;49m\u001b[43m)\u001b[49m\n\u001b[1;32m     21\u001b[0m     dphi_max \u001b[38;5;241m=\u001b[39m jnp\u001b[38;5;241m.\u001b[39msum(dphi \u001b[38;5;241m>\u001b[39m qval)\n\u001b[1;32m     22\u001b[0m     local_ens \u001b[38;5;241m=\u001b[39m pcax\u001b[38;5;241m.\u001b[39mrecover(pca_state, local_ens)\n",
      "Cell \u001b[0;32mIn[91], line 99\u001b[0m, in \u001b[0;36mphi_resample\u001b[0;34m(xval, xtest, rval_phi, n_samp, n_slice, rng, alpha, depth_fn, local_fn, lam)\u001b[0m\n\u001b[1;32m     96\u001b[0m samp_phi \u001b[38;5;241m=\u001b[39m quants[samp_quants]\u001b[38;5;241m.\u001b[39mT\n\u001b[1;32m     98\u001b[0m phi \u001b[38;5;241m=\u001b[39m phi_slice(key2, npc, n_slice)\n\u001b[0;32m---> 99\u001b[0m qval, local_weights \u001b[38;5;241m=\u001b[39m \u001b[43mphi_quantile\u001b[49m\u001b[43m(\u001b[49m\u001b[43mrval_phi\u001b[49m\u001b[43m \u001b[49m\u001b[38;5;241;43m@\u001b[39;49m\u001b[43m \u001b[49m\u001b[43mphi\u001b[49m\u001b[43m,\u001b[49m\u001b[43m \u001b[49m\u001b[43mxval\u001b[49m\u001b[43m,\u001b[49m\u001b[43m \u001b[49m\u001b[43mxtest\u001b[49m\u001b[43m,\u001b[49m\u001b[43m \u001b[49m\u001b[43malpha\u001b[49m\u001b[43m,\u001b[49m\u001b[43m \u001b[49m\u001b[43mdepth_fn\u001b[49m\u001b[43m,\u001b[49m\u001b[43m \u001b[49m\u001b[43mlocal_fn\u001b[49m\u001b[43m,\u001b[49m\u001b[43m \u001b[49m\u001b[43mlam\u001b[49m\u001b[43m,\u001b[49m\u001b[43m \u001b[49m\u001b[43mrng\u001b[49m\u001b[43m \u001b[49m\u001b[38;5;241;43m=\u001b[39;49m\u001b[43m \u001b[49m\u001b[43mkey3\u001b[49m\u001b[43m)\u001b[49m\n\u001b[1;32m    100\u001b[0m dphi \u001b[38;5;241m=\u001b[39m vphi_depth(samp_phi \u001b[38;5;241m@\u001b[39m phi, rval_phi \u001b[38;5;241m@\u001b[39m phi, local_weights, depth_fn)\n\u001b[1;32m    102\u001b[0m \u001b[38;5;28;01mreturn\u001b[39;00m samp_phi, dphi, qval\n",
      "Cell \u001b[0;32mIn[91], line 70\u001b[0m, in \u001b[0;36mphi_quantile\u001b[0;34m(rval_phi, xval, xtest, alpha, depth_fn, local_fn, lam, rng)\u001b[0m\n\u001b[1;32m     64\u001b[0m \u001b[38;5;28;01mdef\u001b[39;00m\u001b[38;5;250m \u001b[39m\u001b[38;5;21mphi_quantile\u001b[39m(rval_phi, xval, xtest, alpha, depth_fn, local_fn, lam, rng):\n\u001b[1;32m     65\u001b[0m     \n\u001b[1;32m     66\u001b[0m \u001b[38;5;66;03m#     xtil = xtest[None,] + 1e-2 * jax.random.normal(rng, xtest[None,].shape)\u001b[39;00m\n\u001b[1;32m     67\u001b[0m \u001b[38;5;66;03m#     dist = jnp.exp(-lam * jnp.max(jnp.abs(xval - xtil), axis = (1, 2)))\u001b[39;00m\n\u001b[1;32m     68\u001b[0m \u001b[38;5;66;03m#     local_weights = dist / (jnp.sum(dist) + jnp.exp(-lam * 1e-2))\u001b[39;00m\n\u001b[0;32m---> 70\u001b[0m     local_weights \u001b[38;5;241m=\u001b[39m \u001b[43mlocalizer\u001b[49m\u001b[43m(\u001b[49m\u001b[43mxval\u001b[49m\u001b[43m,\u001b[49m\u001b[43m \u001b[49m\u001b[43mxtest\u001b[49m\u001b[43m,\u001b[49m\u001b[43m \u001b[49m\u001b[43mlam\u001b[49m\u001b[43m,\u001b[49m\u001b[43m \u001b[49m\u001b[43mlocal_fn\u001b[49m\u001b[43m,\u001b[49m\u001b[43m \u001b[49m\u001b[43mrng\u001b[49m\u001b[43m)\u001b[49m\n\u001b[1;32m     71\u001b[0m     dval \u001b[38;5;241m=\u001b[39m vphi_depth(rval_phi, rval_phi, local_weights, depth_fn)\n\u001b[1;32m     73\u001b[0m     n \u001b[38;5;241m=\u001b[39m xval\u001b[38;5;241m.\u001b[39mshape[\u001b[38;5;241m0\u001b[39m]\n",
      "Cell \u001b[0;32mIn[91], line 45\u001b[0m, in \u001b[0;36mlocalizer\u001b[0;34m(xval, xtest, lam, local_fn, rng)\u001b[0m\n\u001b[1;32m     43\u001b[0m \u001b[38;5;28;01mif\u001b[39;00m local_fn \u001b[38;5;241m==\u001b[39m \u001b[38;5;124m'\u001b[39m\u001b[38;5;124mdexp\u001b[39m\u001b[38;5;124m'\u001b[39m:\n\u001b[1;32m     44\u001b[0m     xtil \u001b[38;5;241m=\u001b[39m xtest[\u001b[38;5;28;01mNone\u001b[39;00m,] \u001b[38;5;241m+\u001b[39m \u001b[38;5;241m1e-2\u001b[39m \u001b[38;5;241m*\u001b[39m jax\u001b[38;5;241m.\u001b[39mrandom\u001b[38;5;241m.\u001b[39mnormal(rng, xtest[\u001b[38;5;28;01mNone\u001b[39;00m,]\u001b[38;5;241m.\u001b[39mshape)\n\u001b[0;32m---> 45\u001b[0m     dist \u001b[38;5;241m=\u001b[39m \u001b[43mjnp\u001b[49m\u001b[38;5;241;43m.\u001b[39;49m\u001b[43mexp\u001b[49m\u001b[43m(\u001b[49m\u001b[38;5;241;43m-\u001b[39;49m\u001b[43mlam\u001b[49m\u001b[43m \u001b[49m\u001b[38;5;241;43m*\u001b[39;49m\u001b[43m \u001b[49m\u001b[43mjnp\u001b[49m\u001b[38;5;241;43m.\u001b[39;49m\u001b[43mmax\u001b[49m\u001b[43m(\u001b[49m\u001b[43mjnp\u001b[49m\u001b[38;5;241;43m.\u001b[39;49m\u001b[43mabs\u001b[49m\u001b[43m(\u001b[49m\u001b[43mxval\u001b[49m\u001b[43m \u001b[49m\u001b[38;5;241;43m-\u001b[39;49m\u001b[43m \u001b[49m\u001b[43mxtil\u001b[49m\u001b[43m)\u001b[49m\u001b[43m,\u001b[49m\u001b[43m \u001b[49m\u001b[43maxis\u001b[49m\u001b[43m \u001b[49m\u001b[38;5;241;43m=\u001b[39;49m\u001b[43m \u001b[49m\u001b[43m(\u001b[49m\u001b[38;5;241;43m1\u001b[39;49m\u001b[43m,\u001b[49m\u001b[43m \u001b[49m\u001b[38;5;241;43m2\u001b[39;49m\u001b[43m)\u001b[49m\u001b[43m)\u001b[49m\u001b[43m)\u001b[49m\n\u001b[1;32m     46\u001b[0m     local_weights \u001b[38;5;241m=\u001b[39m dist \u001b[38;5;241m/\u001b[39m (jnp\u001b[38;5;241m.\u001b[39msum(dist) \u001b[38;5;241m+\u001b[39m jnp\u001b[38;5;241m.\u001b[39mexp(\u001b[38;5;241m-\u001b[39mlam \u001b[38;5;241m*\u001b[39m \u001b[38;5;241m1e-2\u001b[39m))\n\u001b[1;32m     48\u001b[0m \u001b[38;5;28;01melif\u001b[39;00m local_fn \u001b[38;5;241m==\u001b[39m \u001b[38;5;124m'\u001b[39m\u001b[38;5;124mgaussian\u001b[39m\u001b[38;5;124m'\u001b[39m:\n",
      "\u001b[0;31mKeyboardInterrupt\u001b[0m: "
     ]
    }
   ],
   "source": [
    "rng = random.PRNGKey(0)\n",
    "ntest = ytest.shape[0]\n",
    "nmod = 2 + 6\n",
    "cover = np.zeros((ntest, nmod))\n",
    "width = np.zeros((ntest, nmod))\n",
    "\n",
    "lat_weights = np.cos(np.linspace(-np.pi/2, np.pi/2, 32))\n",
    "lat_weights = lat_weights/np.mean(lat_weights)\n",
    "\n",
    "for k in trange(500):\n",
    "    \n",
    "    ## LSCI 1\n",
    "    dphi_max = 0\n",
    "    while dphi_max == 0:\n",
    "        rng, key1, key2 = random.split(rng, 3)\n",
    "        local_ens, dphi, qval = phi_resample(xval.reshape(-1, 1, nlat*nlon), \n",
    "                                             xtest[k].reshape(1, nlat*nlon),\n",
    "                                             rval_fpc, \n",
    "                                             nsamp, nslice, key1,\n",
    "                                             alpha, 'tukey', 'dexp', 5)\n",
    "        dphi_max = jnp.sum(dphi > qval)\n",
    "        local_ens = pcax.recover(pca_state, local_ens)\n",
    "        local_ens = local_ens[dphi > qval]\n",
    "\n",
    "    uval = jnp.max(local_ens, axis = 0)\n",
    "    lval = jnp.min(local_ens, axis = 0)\n",
    "    cover[k, 0] = risk(lval, uval, rtest_fno[k])\n",
    "    width[k, 0] = np.mean((uval - lval).reshape(nlat, nlon) * lat_weights[:,None])\n",
    "    \n",
    "    ## LSCI 2\n",
    "    dphi_max = 0\n",
    "    while dphi_max == 0:\n",
    "        rng, key1, key2 = random.split(rng, 3)\n",
    "        local_ens, dphi, qval = phi_resample(xval.reshape(-1, 1, nlat*nlon), \n",
    "                                             xtest[k].reshape(1, nlat*nlon), \n",
    "                                             rval_fpc, \n",
    "                                             nsamp, nslice, key2,\n",
    "                                             alpha, 'tukey', 'knn', 0.2)\n",
    "        dphi_max = jnp.sum(dphi > qval)\n",
    "        local_ens = pcax.recover(pca_state, local_ens)\n",
    "        local_ens = local_ens[dphi > qval]\n",
    "\n",
    "    uval = jnp.max(local_ens, axis = 0)\n",
    "    lval = jnp.min(local_ens, axis = 0)\n",
    "    cover[k, 1] = risk(lval, uval, rtest_fno[k])\n",
    "    width[k, 1] = np.mean((uval - lval).reshape(nlat, nlon) * lat_weights[:,None])\n",
    "\n",
    "    # CONF \n",
    "    cover[k, 2] = risk(conf_lower, conf_upper, rtest_fno[k])\n",
    "    width[k, 2] = jnp.mean((conf_upper - conf_lower).reshape(nlat, nlon) * lat_weights[:,None])\n",
    "    \n",
    "    # GAUSS \n",
    "    cover[k, 3] = risk(gaus_lower, gaus_upper, rtest_fno[k])\n",
    "    width[k, 3] = jnp.mean((gaus_upper - gaus_lower).reshape(nlat, nlon) * lat_weights[:,None])\n",
    "    \n",
    "    # SUPR\n",
    "    cover[k, 4] = risk(supr_lower, supr_upper, rtest_fno[k])\n",
    "    width[k, 4] = jnp.mean((supr_upper - supr_lower).reshape(nlat, nlon) * lat_weights[:,None])\n",
    "    \n",
    "    # UQNO\n",
    "    cover[k, 5] = risk(uqn1_lower[k], uqn1_upper[k], rtest_fno2[k])\n",
    "    width[k, 5] = jnp.mean((uqn1_upper[k] - uqn1_lower[k]).reshape(nlat, nlon) * lat_weights[:,None])\n",
    "    \n",
    "    # PDON\n",
    "    cover[k, 6] = risk(pdon_lower[k], pdon_upper[k], rtest_mu[k])\n",
    "    width[k, 6] = jnp.mean((pdon_upper[k] - pdon_lower[k]).reshape(nlat, nlon) * lat_weights[:,None])\n",
    "    \n",
    "    # QDON\n",
    "    cover[k, 7] = risk(qdon_lower[k], qdon_upper[k], rtest_fno[k])\n",
    "    width[k, 7] = jnp.mean((qdon_upper[k] - qdon_lower[k]).reshape(nlat, nlon) * lat_weights[:,None])"
   ]
  },
  {
   "cell_type": "code",
   "execution_count": null,
   "id": "e9b97990-729b-4539-a3a0-ba202850d1d9",
   "metadata": {},
   "outputs": [],
   "source": [
    "np.mean(cover[0:500] == 1.0, axis = 0)"
   ]
  },
  {
   "cell_type": "code",
   "execution_count": null,
   "id": "e6b2b9d8-0051-459e-9036-6b706b04e306",
   "metadata": {},
   "outputs": [],
   "source": [
    "plt.plot(width[0:500])\n",
    "plt.show()"
   ]
  },
  {
   "cell_type": "code",
   "execution_count": 218,
   "id": "91dbd0c4-e682-405a-b06a-a956176a166c",
   "metadata": {},
   "outputs": [
    {
     "data": {
      "text/plain": [
       "array([ 7.29535708,  7.15985963,  8.21270943,  8.09553432,  8.58407784,\n",
       "       12.36128368,  5.80953524,  4.55641112])"
      ]
     },
     "execution_count": 218,
     "metadata": {},
     "output_type": "execute_result"
    }
   ],
   "source": [
    "np.mean(width[0:500], axis = 0)"
   ]
  },
  {
   "cell_type": "code",
   "execution_count": 219,
   "id": "27bdedc4-a07c-4566-a510-4647c5ac6fa3",
   "metadata": {},
   "outputs": [
    {
     "data": {
      "text/plain": [
       "array([0.64301689, 0.8572181 , 0.        , 0.        , 0.        ,\n",
       "       0.28844082, 0.20665773, 0.28490375])"
      ]
     },
     "execution_count": 219,
     "metadata": {},
     "output_type": "execute_result"
    }
   ],
   "source": [
    "np.std(width[0:200], axis = 0)"
   ]
  },
  {
   "cell_type": "code",
   "execution_count": 205,
   "id": "5586c17c-e155-4ae2-941a-f7ec0976a391",
   "metadata": {},
   "outputs": [
    {
     "data": {
      "image/png": "[encoded data removed]",
      "text/plain": [
       "<Figure size 640x480 with 2 Axes>"
      ]
     },
     "metadata": {},
     "output_type": "display_data"
    }
   ],
   "source": [
    "plt.imshow(jnp.abs(uval-lval).reshape(nlat, nlon))\n",
    "plt.colorbar()\n",
    "plt.show()"
   ]
  },
  {
   "cell_type": "code",
   "execution_count": 206,
   "id": "8c4d12be-572e-4ba8-ad5c-b6a34d9ae4f6",
   "metadata": {},
   "outputs": [
    {
     "data": {
      "image/png": "[encoded data removed]",
      "text/plain": [
       "<Figure size 640x480 with 2 Axes>"
      ]
     },
     "metadata": {},
     "output_type": "display_data"
    }
   ],
   "source": [
    "plt.imshow(jnp.abs(pdon_upper[k] - pdon_lower[k]).reshape(nlat, nlon))\n",
    "plt.colorbar()\n",
    "plt.show()"
   ]
  },
  {
   "cell_type": "code",
   "execution_count": null,
   "id": "7299bb9f-919d-4bc5-ace5-62d6b03b2d91",
   "metadata": {},
   "outputs": [],
   "source": []
  },
  {
   "cell_type": "code",
   "execution_count": null,
   "id": "7e224245-7f57-4ec0-a73f-5dfdefbe407d",
   "metadata": {},
   "outputs": [],
   "source": []
  },
  {
   "cell_type": "code",
   "execution_count": null,
   "id": "820b7be8-7ed0-457e-b248-6f9cb65947f9",
   "metadata": {},
   "outputs": [],
   "source": [
    "# metrics\n",
    "# sigma = sd[1:\n",
    "sigma = jnp.mean(rtest_fno**2, axis = 1)\n",
    "cover_mean = np.round(np.mean(cover > 0.99, axis = 0), 3)\n",
    "width_mean = np.round(np.mean(width, axis = 0), 3)\n",
    "\n",
    "## correlations\n",
    "cover_corr_mean = np.zeros(nmod)\n",
    "cover_corr_std = np.zeros(nmod)\n",
    "width_corr_mean = np.zeros(nmod)\n",
    "width_corr_std = np.zeros(nmod)\n",
    "for i in range(nmod):\n",
    "    corr = np.corrcoef(np.vstack([cover[:,i] > 0.99, sigma]))[0,1]\n",
    "    cover_corr_mean[i] = np.mean(corr)\n",
    "#     cover_corr_std[i] = 2*np.std(corr)\n",
    "    \n",
    "    corr = np.corrcoef(np.vstack([width[:,i], sigma]))[0,1]\n",
    "    width_corr_mean[i] = np.mean(corr)\n",
    "    width_corr_std[i] = 2*np.std(corr)\n",
    "\n",
    "metrics_mean = np.vstack([\n",
    "    cover_mean,\n",
    "    cover_corr_mean,\n",
    "    width_mean,\n",
    "    width_corr_mean\n",
    "]).T"
   ]
  },
  {
   "cell_type": "code",
   "execution_count": null,
   "id": "909966ac-d1dc-476b-8145-8aa4c6985b43",
   "metadata": {},
   "outputs": [],
   "source": [
    "for i in range(nmod):\n",
    "    for j in range(4):\n",
    "        spacer = '& ' if j < 3 else '\\\\\\\\'\n",
    "        endline = '' if j < 3 else '\\n'\n",
    "        \n",
    "        result = metrics_mean[i, j]\n",
    "        met = f'{result:.3f}' if not np.isnan(result) else '--'\n",
    "        print(met, spacer, end=endline)"
   ]
  },
  {
   "cell_type": "code",
   "execution_count": null,
   "id": "9bb6ea9f-12d3-48c4-b86a-c0ab1bd44d87",
   "metadata": {},
   "outputs": [],
   "source": []
  },
  {
   "cell_type": "code",
   "execution_count": null,
   "id": "e0448bb5-f9d7-4c6d-88fd-ad445d34be2e",
   "metadata": {},
   "outputs": [],
   "source": []
  }
 ],
 "metadata": {
  "kernelspec": {
   "display_name": "Python 3 (ipykernel)",
   "language": "python",
   "name": "python3"
  },
  "language_info": {
   "codemirror_mode": {
    "name": "ipython",
    "version": 3
   },
   "file_extension": ".py",
   "mimetype": "text/x-python",
   "name": "python",
   "nbconvert_exporter": "python",
   "pygments_lexer": "ipython3",
   "version": "3.12.3"
  }
 },
 "nbformat": 4,
 "nbformat_minor": 5
}
