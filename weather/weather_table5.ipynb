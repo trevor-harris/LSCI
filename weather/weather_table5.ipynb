{
 "cells": [
  {
   "cell_type": "code",
   "execution_count": 2,
   "id": "5b187b8d-bc9e-4b89-af26-27ff7c3b24bb",
   "metadata": {},
   "outputs": [],
   "source": [
    "import math\n",
    "import numpy as np\n",
    "import matplotlib\n",
    "import matplotlib.pyplot as plt\n",
    "\n",
    "import jax\n",
    "import jax.numpy as jnp\n",
    "import jax.scipy.stats as stats\n",
    "from jax import jacfwd, jacrev\n",
    "from jax import vmap, grad, jit, random\n",
    "from jax.tree_util import tree_map, tree_flatten, tree_unflatten, tree_leaves\n",
    "\n",
    "from flax import nnx\n",
    "import optax\n",
    "import pcax\n",
    "\n",
    "from tqdm.notebook import tqdm\n",
    "from tqdm.notebook import trange\n",
    "\n",
    "import torch\n",
    "import torch.nn as nn\n",
    "import torch_harmonics as th\n",
    "from torch_harmonics.random_fields import GaussianRandomFieldS2\n",
    "from torch.utils.data import DataLoader, TensorDataset\n",
    "\n",
    "import os\n",
    "os.chdir('../methods')\n",
    "import lsci, supr, conf, uqno, prob_don, quant_don, gaus\n",
    "os.chdir('../gpsims')\n",
    "\n",
    "os.chdir('../models_and_metrics')\n",
    "from models import *\n",
    "from metrics import * \n",
    "from utility import *\n",
    "os.chdir('../gpsims')\n",
    "\n",
    "import neuralop as op\n",
    "from neuralop.models import FNO, LocalFNO, UNO, TFNO\n",
    "import jaxwt as jwt\n",
    "import pcax\n",
    "from jax.scipy.stats import norm, laplace"
   ]
  },
  {
   "cell_type": "code",
   "execution_count": 3,
   "id": "f85080ec-3a3d-4ee3-be8a-fd32c7d1539c",
   "metadata": {},
   "outputs": [],
   "source": [
    "def phi_depth(z, x, w, depth_fn):\n",
    "    if depth_fn == 'tukey':\n",
    "        f = jnp.sum(w[:,None] * (z > x), axis = 0)\n",
    "        depth_1d = 1 - jnp.abs(1 - 2 * f)\n",
    "    \n",
    "    elif depth_fn == 'mahal':\n",
    "        mu = jnp.sum(w[:,None]*x, axis = 0)\n",
    "        sig = jnp.sqrt(jnp.sum((w[:,None]*x - mu)**2, axis = 0))\n",
    "        depth_1d = 1/(1+jnp.sqrt((z - mu)**2/sig**2))\n",
    "        \n",
    "    elif depth_fn == 'norm':\n",
    "        norms = jnp.abs(z - x)\n",
    "        wnorm = jnp.sum(w[:,None] * norms, axis = 0)\n",
    "        depth_1d = 1/(1+wnorm)\n",
    "\n",
    "    else: return 0\n",
    "    return jnp.min(depth_1d)\n",
    "\n",
    "phi_depth = jit(phi_depth, static_argnames='depth_fn')\n",
    "vphi_depth = jit(vmap(phi_depth, (0, None, None, None)), static_argnames='depth_fn')\n",
    "\n",
    "def phi_slice(rng, p1, p2):\n",
    "    phi = random.normal(rng, (p1, p2))\n",
    "    phi = phi / jnp.sum(phi, axis = 1)[:,None]\n",
    "    return phi\n",
    "\n",
    "def lweights(xval, xtest, frac = 0.1):\n",
    "    dmat = jnp.max(jnp.abs(xval - xtest), axis = 1)\n",
    "    quant = jnp.quantile(dmat, frac, axis = 0)\n",
    "    indx = dmat < quant\n",
    "    inner_max = jnp.max(dmat * indx)\n",
    "    dmat = inner_max - dmat\n",
    "    w = dmat * indx\n",
    "    return w / jnp.sum(w, axis = 0)[None,]\n",
    "lweights = jit(vmap(lweights, (None, 0, None)))\n",
    "\n",
    "\n",
    "def localizer(xval, xtest, lam, local_fn, rng):\n",
    "    if local_fn == 'dexp':\n",
    "        xtil = xtest[None,] + 1e-2 * jax.random.normal(rng, xtest[None,].shape)\n",
    "        dist = jnp.exp(-lam * jnp.max(jnp.abs(xval - xtil), axis = (1, 2)))\n",
    "        local_weights = dist / (jnp.sum(dist) + jnp.exp(-lam * 1e-2))\n",
    "        \n",
    "    elif local_fn == 'gaussian':\n",
    "        xtil = xtest[None,] + 1e-2 * jax.random.normal(rng, xtest[None,].shape)\n",
    "        dist = jnp.exp(-lam * jnp.mean((xval - xtil)**2, axis = (1, 2)))\n",
    "        local_weights = dist / (jnp.sum(dist) + jnp.exp(-lam * 1e-2))\n",
    "        \n",
    "    elif local_fn == 'knn':\n",
    "        xtil = xtest[None,] + 1e-2 * jax.random.normal(rng, xtest[None,].shape)\n",
    "        dist = jnp.max(jnp.abs(xval - xtil), axis = (1, 2))\n",
    "        qdist = jnp.quantile(dist, lam)\n",
    "        dist = jnp.exp(-dist.at[dist > qdist].set(jnp.inf))\n",
    "        local_weights = dist / (jnp.sum(dist) + 1)\n",
    "        \n",
    "    else :\n",
    "        local_weights = 1/xval.shape[0]\n",
    "    return local_weights\n",
    "\n",
    "def phi_quantile(rval_phi, xval, xtest, alpha, depth_fn, local_fn, lam, rng):\n",
    "    \n",
    "#     xtil = xtest[None,] + 1e-2 * jax.random.normal(rng, xtest[None,].shape)\n",
    "#     dist = jnp.exp(-lam * jnp.max(jnp.abs(xval - xtil), axis = (1, 2)))\n",
    "#     local_weights = dist / (jnp.sum(dist) + jnp.exp(-lam * 1e-2))\n",
    "\n",
    "    local_weights = localizer(xval, xtest, lam, local_fn, rng)\n",
    "    dval = vphi_depth(rval_phi, rval_phi, local_weights, depth_fn)\n",
    "    \n",
    "    n = xval.shape[0]\n",
    "    adj_alpha = jnp.ceil((n+1)*(1-alpha))/n\n",
    "    return jnp.quantile(dval, 1-adj_alpha), local_weights\n",
    "# phi_quantile = jit(phi_quantile, static_argnames=['depth_fn', 'local_fn'])\n",
    "\n",
    "\n",
    "def phi_resample(xval, xtest, rval_phi, n_samp, n_slice, rng,\n",
    "                 alpha, depth_fn, local_fn, lam):\n",
    "    n = rval_phi.shape[0]\n",
    "    npc = rval_phi.shape[1]\n",
    "    key1, key2, key3 = random.split(rng, 3)\n",
    "    local_weights = lweights(xval.squeeze(), xtest.squeeze()[None,], 0.1)[0]\n",
    "    \n",
    "    unif = random.uniform(key1, (n_samp, npc))\n",
    "    quants = jnp.linspace(jnp.min(rval_phi) - 0.1, jnp.max(rval_phi) + 0.1, n+1)\n",
    "\n",
    "    samp_cdfs = lsci.lcdf(rval_phi, quants, local_weights / jnp.sum(local_weights))\n",
    "    samp_quants = jnp.argmax(samp_cdfs[:,:,None] > unif.T[None,:,:], axis = 0)\n",
    "    samp_phi = quants[samp_quants].T\n",
    "    \n",
    "    phi = phi_slice(key2, npc, n_slice)\n",
    "    qval, local_weights = phi_quantile(rval_phi @ phi, xval, xtest, alpha, depth_fn, local_fn, lam, rng = key3)\n",
    "    dphi = vphi_depth(samp_phi @ phi, rval_phi @ phi, local_weights, depth_fn)\n",
    "    \n",
    "    return samp_phi, dphi, qval"
   ]
  },
  {
   "cell_type": "code",
   "execution_count": 4,
   "id": "70a64c72-e665-4c05-9e91-a2516310e553",
   "metadata": {},
   "outputs": [],
   "source": [
    "def uqno_lambda(yval, yval_hat, yval_quant, delta, alpha):\n",
    "    n = yval.shape[0]\n",
    "    m = yval.shape[1]\n",
    "    tau = 1e-2 + jnp.sqrt(-jnp.log(delta)/(2*m))\n",
    "    \n",
    "    uqno_scores = jnp.abs(yval.squeeze() - yval_hat) / yval_quant\n",
    "    sg = jnp.quantile(uqno_scores, jnp.clip(1-alpha+tau, 0, 1), axis = 1)\n",
    "    q = 1 - jnp.ceil((n+1)*(delta - jnp.exp(-2*m*tau**2)))/n\n",
    "    return jnp.quantile(sg, q)\n",
    "\n",
    "def prob_don(yval, yval_mu, yval_sd, ytest_sd, alpha):\n",
    "    nval = yval.shape[0]\n",
    "    alpha_adj = jnp.ceil((1-alpha) * (nval + 1))/nval\n",
    "    \n",
    "    score = jnp.abs(yval - yval_mu)/yval_sd\n",
    "    q = jnp.quantile(score, alpha_adj, axis = 0)\n",
    "    \n",
    "    lower = -ytest_sd * q[None,]\n",
    "    upper = ytest_sd * q[None,]\n",
    "    return lower, upper\n",
    "\n",
    "def quant_don(yval, yval_quant, ytest_quant, alpha):\n",
    "    \n",
    "    nval = yval.shape[0]\n",
    "    alpha_adj = jnp.ceil((1-alpha) * (nval + 1))/nval\n",
    "    \n",
    "    lower = -yval_quant - yval\n",
    "    upper = yval - yval_quant\n",
    "    score = jnp.max(jnp.stack([lower, upper], axis = 2), axis=2)\n",
    "    q = jnp.quantile(score, alpha_adj, axis = 0)\n",
    "    \n",
    "    lower = -ytest_quant - q[None,]\n",
    "    upper = ytest_quant + q[None,]\n",
    "    return lower, upper"
   ]
  },
  {
   "cell_type": "code",
   "execution_count": 5,
   "id": "6efb42d2-4ed4-45fe-9891-2dfd9aa87a04",
   "metadata": {},
   "outputs": [],
   "source": [
    "class QuantileLoss(nn.Module):\n",
    "    def __init__(self, quantile):\n",
    "        super().__init__()\n",
    "        self.quantile = quantile\n",
    "\n",
    "    def forward(self, y_hat, y):\n",
    "        res = y - y_hat\n",
    "        return torch.mean(torch.max((self.quantile - 1) * res, self.quantile * res))\n",
    "    \n",
    "class GaussianNLLLoss(nn.Module):\n",
    "    def __init__(self):\n",
    "        super().__init__()\n",
    "\n",
    "    def forward(self, outputs, y):\n",
    "        mu, sd = outputs\n",
    "        nll = 0.5 * torch.log(2 * torch.pi * sd**2) + 0.5*(y - mu)**2 / sd**2\n",
    "        return nll.mean()\n",
    "    \n",
    "class ProbFNO(nn.Module):\n",
    "    def __init__(self):\n",
    "        super().__init__()\n",
    "        self.mu_fno = FNO(n_modes=(16,32), hidden_channels=64, in_channels=1, out_channels=1)\n",
    "        self.sd_fno = FNO(n_modes=(16,32), hidden_channels=64, in_channels=1, out_channels=1)\n",
    "\n",
    "    def __call__(self, x):\n",
    "        mu = self.mu_fno(x)\n",
    "        log_sd = self.sd_fno(x)\n",
    "        return mu, torch.nn.Softplus()(log_sd)"
   ]
  },
  {
   "cell_type": "code",
   "execution_count": 6,
   "id": "640e170c-c616-4396-9cfd-369fce14a0a3",
   "metadata": {},
   "outputs": [],
   "source": [
    "dtrain = np.load('../data/era5_train_small.npy', mmap_mode='r+')\n",
    "nlat, nlon = dtrain.shape[1:]\n",
    "dtrain = np.mean(dtrain.reshape(-1, 4, nlat, nlon), axis = 1)\n",
    "\n",
    "# train_mu = np.mean(dtrain, axis = (0))[None,]\n",
    "# train_sd = np.std(dtrain, axis = (0))[None,]\n",
    "\n",
    "def clim_smooth(data, kernel):\n",
    "    return jax.scipy.signal.convolve2d(data, kernel, mode='same')\n",
    "clim_smooth = jit(vmap(clim_smooth, (0, None)))\n",
    "\n",
    "kernel = jnp.array([[1, 1, 1], [1, 5, 1], [1, 1, 1]])\n",
    "kernel = kernel / jnp.sum(kernel)\n",
    "dtrain = np.array(clim_smooth(dtrain, kernel))"
   ]
  },
  {
   "cell_type": "code",
   "execution_count": 7,
   "id": "33e60fac-a738-4952-9294-01272126e768",
   "metadata": {},
   "outputs": [],
   "source": [
    "device = 'cuda' if torch.cuda.is_available() else 'cpu'"
   ]
  },
  {
   "cell_type": "code",
   "execution_count": 8,
   "id": "c79d29f7-f380-4a0d-b03c-79844402405d",
   "metadata": {},
   "outputs": [],
   "source": [
    "lag, lead = 1, 1\n",
    "xtrain, ytrain = split_data(dtrain, lag, lead)\n",
    "train_data = TensorDataset(torch.Tensor(xtrain), torch.Tensor(ytrain))\n",
    "train_loader = DataLoader(train_data, batch_size = 64, shuffle = True)"
   ]
  },
  {
   "cell_type": "code",
   "execution_count": 9,
   "id": "3b8bebdd-3fa7-4aa9-939f-6b99141ad49c",
   "metadata": {},
   "outputs": [
    {
     "data": {
      "application/vnd.jupyter.widget-view+json": {
       "model_id": "5baaaf400bdd4ed0998e29099e19fb62",
       "version_major": 2,
       "version_minor": 0
      },
      "text/plain": [
       "  0%|          | 0/20 [00:00<?, ?it/s]"
      ]
     },
     "metadata": {},
     "output_type": "display_data"
    },
    {
     "data": {
      "application/vnd.jupyter.widget-view+json": {
       "model_id": "88cc27b53b294c13ba0a8bbaf2bd86c0",
       "version_major": 2,
       "version_minor": 0
      },
      "text/plain": [
       "  0%|          | 0/58 [00:00<?, ?it/s]"
      ]
     },
     "metadata": {},
     "output_type": "display_data"
    },
    {
     "data": {
      "application/vnd.jupyter.widget-view+json": {
       "model_id": "2b28a288288c49e095a028e58afe5138",
       "version_major": 2,
       "version_minor": 0
      },
      "text/plain": [
       "  0%|          | 0/58 [00:00<?, ?it/s]"
      ]
     },
     "metadata": {},
     "output_type": "display_data"
    },
    {
     "data": {
      "application/vnd.jupyter.widget-view+json": {
       "model_id": "086239669ab3457bb1713c28637fbd77",
       "version_major": 2,
       "version_minor": 0
      },
      "text/plain": [
       "  0%|          | 0/58 [00:00<?, ?it/s]"
      ]
     },
     "metadata": {},
     "output_type": "display_data"
    },
    {
     "data": {
      "application/vnd.jupyter.widget-view+json": {
       "model_id": "eddf73d1c1534c79b8161050cb7d8e83",
       "version_major": 2,
       "version_minor": 0
      },
      "text/plain": [
       "  0%|          | 0/58 [00:00<?, ?it/s]"
      ]
     },
     "metadata": {},
     "output_type": "display_data"
    },
    {
     "data": {
      "application/vnd.jupyter.widget-view+json": {
       "model_id": "2fcd056eee0b41bbb3e01e5ed6128079",
       "version_major": 2,
       "version_minor": 0
      },
      "text/plain": [
       "  0%|          | 0/58 [00:00<?, ?it/s]"
      ]
     },
     "metadata": {},
     "output_type": "display_data"
    },
    {
     "data": {
      "application/vnd.jupyter.widget-view+json": {
       "model_id": "d0645b3d9cf047f78e6cbc675e13893e",
       "version_major": 2,
       "version_minor": 0
      },
      "text/plain": [
       "  0%|          | 0/58 [00:00<?, ?it/s]"
      ]
     },
     "metadata": {},
     "output_type": "display_data"
    },
    {
     "data": {
      "application/vnd.jupyter.widget-view+json": {
       "model_id": "04afa4e0b0d7435e9ac885da4c080967",
       "version_major": 2,
       "version_minor": 0
      },
      "text/plain": [
       "  0%|          | 0/58 [00:00<?, ?it/s]"
      ]
     },
     "metadata": {},
     "output_type": "display_data"
    },
    {
     "data": {
      "application/vnd.jupyter.widget-view+json": {
       "model_id": "fdcf00a0be524d5c929963356311dd3a",
       "version_major": 2,
       "version_minor": 0
      },
      "text/plain": [
       "  0%|          | 0/58 [00:00<?, ?it/s]"
      ]
     },
     "metadata": {},
     "output_type": "display_data"
    },
    {
     "data": {
      "application/vnd.jupyter.widget-view+json": {
       "model_id": "0a2b561cacb04707a8367fc007fd95dc",
       "version_major": 2,
       "version_minor": 0
      },
      "text/plain": [
       "  0%|          | 0/58 [00:00<?, ?it/s]"
      ]
     },
     "metadata": {},
     "output_type": "display_data"
    },
    {
     "data": {
      "application/vnd.jupyter.widget-view+json": {
       "model_id": "ff88acd889c94435959dfd914b71a742",
       "version_major": 2,
       "version_minor": 0
      },
      "text/plain": [
       "  0%|          | 0/58 [00:00<?, ?it/s]"
      ]
     },
     "metadata": {},
     "output_type": "display_data"
    },
    {
     "data": {
      "application/vnd.jupyter.widget-view+json": {
       "model_id": "22329f5f5a5b4869bdeadc61ef757742",
       "version_major": 2,
       "version_minor": 0
      },
      "text/plain": [
       "  0%|          | 0/58 [00:00<?, ?it/s]"
      ]
     },
     "metadata": {},
     "output_type": "display_data"
    },
    {
     "data": {
      "application/vnd.jupyter.widget-view+json": {
       "model_id": "94ac2604ecee4c4fafaafa847f266749",
       "version_major": 2,
       "version_minor": 0
      },
      "text/plain": [
       "  0%|          | 0/58 [00:00<?, ?it/s]"
      ]
     },
     "metadata": {},
     "output_type": "display_data"
    },
    {
     "data": {
      "application/vnd.jupyter.widget-view+json": {
       "model_id": "48b6699f916d43f0831fa2424539de06",
       "version_major": 2,
       "version_minor": 0
      },
      "text/plain": [
       "  0%|          | 0/58 [00:00<?, ?it/s]"
      ]
     },
     "metadata": {},
     "output_type": "display_data"
    },
    {
     "data": {
      "application/vnd.jupyter.widget-view+json": {
       "model_id": "8f61372d94434620a6669674faca09ac",
       "version_major": 2,
       "version_minor": 0
      },
      "text/plain": [
       "  0%|          | 0/58 [00:00<?, ?it/s]"
      ]
     },
     "metadata": {},
     "output_type": "display_data"
    },
    {
     "data": {
      "application/vnd.jupyter.widget-view+json": {
       "model_id": "5cb0914e765247c9957ab298174d49e4",
       "version_major": 2,
       "version_minor": 0
      },
      "text/plain": [
       "  0%|          | 0/58 [00:00<?, ?it/s]"
      ]
     },
     "metadata": {},
     "output_type": "display_data"
    },
    {
     "data": {
      "application/vnd.jupyter.widget-view+json": {
       "model_id": "96588709f6db4b06937617fb5a7d1096",
       "version_major": 2,
       "version_minor": 0
      },
      "text/plain": [
       "  0%|          | 0/58 [00:00<?, ?it/s]"
      ]
     },
     "metadata": {},
     "output_type": "display_data"
    },
    {
     "data": {
      "application/vnd.jupyter.widget-view+json": {
       "model_id": "bb3573cbcd9f48a5af73c75f874f9337",
       "version_major": 2,
       "version_minor": 0
      },
      "text/plain": [
       "  0%|          | 0/58 [00:00<?, ?it/s]"
      ]
     },
     "metadata": {},
     "output_type": "display_data"
    },
    {
     "data": {
      "application/vnd.jupyter.widget-view+json": {
       "model_id": "f0edb4be1a1642adb9223317f7342e9e",
       "version_major": 2,
       "version_minor": 0
      },
      "text/plain": [
       "  0%|          | 0/58 [00:00<?, ?it/s]"
      ]
     },
     "metadata": {},
     "output_type": "display_data"
    },
    {
     "data": {
      "application/vnd.jupyter.widget-view+json": {
       "model_id": "49891eaf1e4f422086f4d5914de11992",
       "version_major": 2,
       "version_minor": 0
      },
      "text/plain": [
       "  0%|          | 0/58 [00:00<?, ?it/s]"
      ]
     },
     "metadata": {},
     "output_type": "display_data"
    },
    {
     "data": {
      "application/vnd.jupyter.widget-view+json": {
       "model_id": "395431d349c7482fb1a73e14e471ab73",
       "version_major": 2,
       "version_minor": 0
      },
      "text/plain": [
       "  0%|          | 0/58 [00:00<?, ?it/s]"
      ]
     },
     "metadata": {},
     "output_type": "display_data"
    }
   ],
   "source": [
    "loss_fn = nn.MSELoss()\n",
    "epochs = 20\n",
    "\n",
    "fno = FNO(n_modes=(16,32), \n",
    "             hidden_channels=64, \n",
    "             in_channels=1, \n",
    "             out_channels=1)\n",
    "fno.to(device)\n",
    "optim_fno = torch.optim.Adam(fno.parameters(), lr = 1e-3)\n",
    "\n",
    "for _ in trange(epochs):\n",
    "    for xt, yt in tqdm(train_loader, leave = False):\n",
    "        xt = xt.to(device)\n",
    "        yt = yt.to(device)\n",
    "        yhat = fno(xt)\n",
    "        loss = loss_fn(yhat, yt)\n",
    "        loss.backward()\n",
    "        optim_fno.step()\n",
    "        optim_fno.zero_grad()\n"
   ]
  },
  {
   "cell_type": "code",
   "execution_count": 10,
   "id": "fc9145e2-22af-4888-b303-65fe9ea48dcc",
   "metadata": {},
   "outputs": [
    {
     "data": {
      "application/vnd.jupyter.widget-view+json": {
       "model_id": "2d151412f2434cda85a55f0ea8ec9f4d",
       "version_major": 2,
       "version_minor": 0
      },
      "text/plain": [
       "  0%|          | 0/20 [00:00<?, ?it/s]"
      ]
     },
     "metadata": {},
     "output_type": "display_data"
    },
    {
     "data": {
      "application/vnd.jupyter.widget-view+json": {
       "model_id": "6b0361b884214b6c844db5bc4c7fd590",
       "version_major": 2,
       "version_minor": 0
      },
      "text/plain": [
       "  0%|          | 0/58 [00:00<?, ?it/s]"
      ]
     },
     "metadata": {},
     "output_type": "display_data"
    },
    {
     "data": {
      "application/vnd.jupyter.widget-view+json": {
       "model_id": "375a30be0eca4ed2a07ba130cfd1a055",
       "version_major": 2,
       "version_minor": 0
      },
      "text/plain": [
       "  0%|          | 0/58 [00:00<?, ?it/s]"
      ]
     },
     "metadata": {},
     "output_type": "display_data"
    },
    {
     "data": {
      "application/vnd.jupyter.widget-view+json": {
       "model_id": "62088498323c4c28abeac46ad2899b7f",
       "version_major": 2,
       "version_minor": 0
      },
      "text/plain": [
       "  0%|          | 0/58 [00:00<?, ?it/s]"
      ]
     },
     "metadata": {},
     "output_type": "display_data"
    },
    {
     "data": {
      "application/vnd.jupyter.widget-view+json": {
       "model_id": "eec948917f154326af908489b208d39b",
       "version_major": 2,
       "version_minor": 0
      },
      "text/plain": [
       "  0%|          | 0/58 [00:00<?, ?it/s]"
      ]
     },
     "metadata": {},
     "output_type": "display_data"
    },
    {
     "data": {
      "application/vnd.jupyter.widget-view+json": {
       "model_id": "ea7356de2fc54226a61bea72394f2a54",
       "version_major": 2,
       "version_minor": 0
      },
      "text/plain": [
       "  0%|          | 0/58 [00:00<?, ?it/s]"
      ]
     },
     "metadata": {},
     "output_type": "display_data"
    },
    {
     "data": {
      "application/vnd.jupyter.widget-view+json": {
       "model_id": "45f8904ad669482aa1a3ef9780643425",
       "version_major": 2,
       "version_minor": 0
      },
      "text/plain": [
       "  0%|          | 0/58 [00:00<?, ?it/s]"
      ]
     },
     "metadata": {},
     "output_type": "display_data"
    },
    {
     "data": {
      "application/vnd.jupyter.widget-view+json": {
       "model_id": "8a344f7aeee24e09a48b0c3124116462",
       "version_major": 2,
       "version_minor": 0
      },
      "text/plain": [
       "  0%|          | 0/58 [00:00<?, ?it/s]"
      ]
     },
     "metadata": {},
     "output_type": "display_data"
    },
    {
     "data": {
      "application/vnd.jupyter.widget-view+json": {
       "model_id": "cb95b978fda34a3aaf26260c2a0aff69",
       "version_major": 2,
       "version_minor": 0
      },
      "text/plain": [
       "  0%|          | 0/58 [00:00<?, ?it/s]"
      ]
     },
     "metadata": {},
     "output_type": "display_data"
    },
    {
     "data": {
      "application/vnd.jupyter.widget-view+json": {
       "model_id": "91528073df8f49c2baca698f79f4875c",
       "version_major": 2,
       "version_minor": 0
      },
      "text/plain": [
       "  0%|          | 0/58 [00:00<?, ?it/s]"
      ]
     },
     "metadata": {},
     "output_type": "display_data"
    },
    {
     "data": {
      "application/vnd.jupyter.widget-view+json": {
       "model_id": "c5183f9bbf2d4ad8864d318ea6c3bc1c",
       "version_major": 2,
       "version_minor": 0
      },
      "text/plain": [
       "  0%|          | 0/58 [00:00<?, ?it/s]"
      ]
     },
     "metadata": {},
     "output_type": "display_data"
    },
    {
     "data": {
      "application/vnd.jupyter.widget-view+json": {
       "model_id": "dff6d55589554fd2921514d26d932621",
       "version_major": 2,
       "version_minor": 0
      },
      "text/plain": [
       "  0%|          | 0/58 [00:00<?, ?it/s]"
      ]
     },
     "metadata": {},
     "output_type": "display_data"
    },
    {
     "data": {
      "application/vnd.jupyter.widget-view+json": {
       "model_id": "0862d70be06e42b08983554257d56d32",
       "version_major": 2,
       "version_minor": 0
      },
      "text/plain": [
       "  0%|          | 0/58 [00:00<?, ?it/s]"
      ]
     },
     "metadata": {},
     "output_type": "display_data"
    },
    {
     "data": {
      "application/vnd.jupyter.widget-view+json": {
       "model_id": "b8ea3233ce1744d49cc77346026ecba4",
       "version_major": 2,
       "version_minor": 0
      },
      "text/plain": [
       "  0%|          | 0/58 [00:00<?, ?it/s]"
      ]
     },
     "metadata": {},
     "output_type": "display_data"
    },
    {
     "data": {
      "application/vnd.jupyter.widget-view+json": {
       "model_id": "0845fd81d9e745c9b8f63decae17acad",
       "version_major": 2,
       "version_minor": 0
      },
      "text/plain": [
       "  0%|          | 0/58 [00:00<?, ?it/s]"
      ]
     },
     "metadata": {},
     "output_type": "display_data"
    },
    {
     "data": {
      "application/vnd.jupyter.widget-view+json": {
       "model_id": "5c669f9240f44d9f969361a296a1c5d5",
       "version_major": 2,
       "version_minor": 0
      },
      "text/plain": [
       "  0%|          | 0/58 [00:00<?, ?it/s]"
      ]
     },
     "metadata": {},
     "output_type": "display_data"
    },
    {
     "data": {
      "application/vnd.jupyter.widget-view+json": {
       "model_id": "7dd2b133a62d47ab91f573c64b9ed6f8",
       "version_major": 2,
       "version_minor": 0
      },
      "text/plain": [
       "  0%|          | 0/58 [00:00<?, ?it/s]"
      ]
     },
     "metadata": {},
     "output_type": "display_data"
    },
    {
     "data": {
      "application/vnd.jupyter.widget-view+json": {
       "model_id": "810698b3f7064b8fb0a5a68003c8b307",
       "version_major": 2,
       "version_minor": 0
      },
      "text/plain": [
       "  0%|          | 0/58 [00:00<?, ?it/s]"
      ]
     },
     "metadata": {},
     "output_type": "display_data"
    },
    {
     "data": {
      "application/vnd.jupyter.widget-view+json": {
       "model_id": "0b6ba5627d964fb29cdca76d35e71996",
       "version_major": 2,
       "version_minor": 0
      },
      "text/plain": [
       "  0%|          | 0/58 [00:00<?, ?it/s]"
      ]
     },
     "metadata": {},
     "output_type": "display_data"
    },
    {
     "data": {
      "application/vnd.jupyter.widget-view+json": {
       "model_id": "9c6cf439a239424d8b3f81ac583dd7dc",
       "version_major": 2,
       "version_minor": 0
      },
      "text/plain": [
       "  0%|          | 0/58 [00:00<?, ?it/s]"
      ]
     },
     "metadata": {},
     "output_type": "display_data"
    },
    {
     "data": {
      "application/vnd.jupyter.widget-view+json": {
       "model_id": "c765362659af4ac9b204d35fd287e5c9",
       "version_major": 2,
       "version_minor": 0
      },
      "text/plain": [
       "  0%|          | 0/58 [00:00<?, ?it/s]"
      ]
     },
     "metadata": {},
     "output_type": "display_data"
    }
   ],
   "source": [
    "loss_fn = QuantileLoss(0.9)\n",
    "\n",
    "fno_quant = FNO(n_modes=(16,32), \n",
    "             hidden_channels=64, \n",
    "             in_channels=1, \n",
    "             out_channels=1)\n",
    "fno_quant.to(device)\n",
    "optim_fno = torch.optim.Adam(fno_quant.parameters(), lr = 1e-3)\n",
    "\n",
    "for _ in trange(epochs):\n",
    "    for xt, yt in tqdm(train_loader, leave = False):\n",
    "        xt = xt.to(device)\n",
    "        yt = yt.to(device)\n",
    "        yhat = fno_quant(xt)\n",
    "        loss = loss_fn(yhat, yt)\n",
    "        loss.backward()\n",
    "        optim_fno.step()\n",
    "        optim_fno.zero_grad()"
   ]
  },
  {
   "cell_type": "code",
   "execution_count": 11,
   "id": "1ce5da46-5f64-42e2-bba8-911457db330f",
   "metadata": {},
   "outputs": [
    {
     "data": {
      "application/vnd.jupyter.widget-view+json": {
       "model_id": "d75ea3d293d84bf3a65abbad89d50b24",
       "version_major": 2,
       "version_minor": 0
      },
      "text/plain": [
       "  0%|          | 0/20 [00:00<?, ?it/s]"
      ]
     },
     "metadata": {},
     "output_type": "display_data"
    },
    {
     "data": {
      "application/vnd.jupyter.widget-view+json": {
       "model_id": "6a2a21ea12d74246916ab4feb98e34c1",
       "version_major": 2,
       "version_minor": 0
      },
      "text/plain": [
       "  0%|          | 0/58 [00:00<?, ?it/s]"
      ]
     },
     "metadata": {},
     "output_type": "display_data"
    },
    {
     "data": {
      "application/vnd.jupyter.widget-view+json": {
       "model_id": "fb509a06e0bc4c9abeb65aae7e10d6a8",
       "version_major": 2,
       "version_minor": 0
      },
      "text/plain": [
       "  0%|          | 0/58 [00:00<?, ?it/s]"
      ]
     },
     "metadata": {},
     "output_type": "display_data"
    },
    {
     "data": {
      "application/vnd.jupyter.widget-view+json": {
       "model_id": "5ba9b3ee2b9b47a99aa2ee15671c6721",
       "version_major": 2,
       "version_minor": 0
      },
      "text/plain": [
       "  0%|          | 0/58 [00:00<?, ?it/s]"
      ]
     },
     "metadata": {},
     "output_type": "display_data"
    },
    {
     "data": {
      "application/vnd.jupyter.widget-view+json": {
       "model_id": "efea244963044d05a0f61be6af1ea9f4",
       "version_major": 2,
       "version_minor": 0
      },
      "text/plain": [
       "  0%|          | 0/58 [00:00<?, ?it/s]"
      ]
     },
     "metadata": {},
     "output_type": "display_data"
    },
    {
     "data": {
      "application/vnd.jupyter.widget-view+json": {
       "model_id": "c4f48acc496d4d28a1e8b0c333b698e7",
       "version_major": 2,
       "version_minor": 0
      },
      "text/plain": [
       "  0%|          | 0/58 [00:00<?, ?it/s]"
      ]
     },
     "metadata": {},
     "output_type": "display_data"
    },
    {
     "data": {
      "application/vnd.jupyter.widget-view+json": {
       "model_id": "0ade1790d90a431fa90b6a912244ed00",
       "version_major": 2,
       "version_minor": 0
      },
      "text/plain": [
       "  0%|          | 0/58 [00:00<?, ?it/s]"
      ]
     },
     "metadata": {},
     "output_type": "display_data"
    },
    {
     "data": {
      "application/vnd.jupyter.widget-view+json": {
       "model_id": "4562273bc1854b5f9468ace1f0632b97",
       "version_major": 2,
       "version_minor": 0
      },
      "text/plain": [
       "  0%|          | 0/58 [00:00<?, ?it/s]"
      ]
     },
     "metadata": {},
     "output_type": "display_data"
    },
    {
     "data": {
      "application/vnd.jupyter.widget-view+json": {
       "model_id": "106df5fad53b41f082eb37862b8ce8d4",
       "version_major": 2,
       "version_minor": 0
      },
      "text/plain": [
       "  0%|          | 0/58 [00:00<?, ?it/s]"
      ]
     },
     "metadata": {},
     "output_type": "display_data"
    },
    {
     "data": {
      "application/vnd.jupyter.widget-view+json": {
       "model_id": "38ace34f4cca49cbb136cd992cf77f45",
       "version_major": 2,
       "version_minor": 0
      },
      "text/plain": [
       "  0%|          | 0/58 [00:00<?, ?it/s]"
      ]
     },
     "metadata": {},
     "output_type": "display_data"
    },
    {
     "data": {
      "application/vnd.jupyter.widget-view+json": {
       "model_id": "604fbbc2016d47919d7b57e5c5361fe3",
       "version_major": 2,
       "version_minor": 0
      },
      "text/plain": [
       "  0%|          | 0/58 [00:00<?, ?it/s]"
      ]
     },
     "metadata": {},
     "output_type": "display_data"
    },
    {
     "data": {
      "application/vnd.jupyter.widget-view+json": {
       "model_id": "d1f9ca7f354142c587d10771d1312aca",
       "version_major": 2,
       "version_minor": 0
      },
      "text/plain": [
       "  0%|          | 0/58 [00:00<?, ?it/s]"
      ]
     },
     "metadata": {},
     "output_type": "display_data"
    },
    {
     "data": {
      "application/vnd.jupyter.widget-view+json": {
       "model_id": "8da4bb6a885044149a1721227ca10148",
       "version_major": 2,
       "version_minor": 0
      },
      "text/plain": [
       "  0%|          | 0/58 [00:00<?, ?it/s]"
      ]
     },
     "metadata": {},
     "output_type": "display_data"
    },
    {
     "data": {
      "application/vnd.jupyter.widget-view+json": {
       "model_id": "dd28942dccfc4cf0bca680ef297201a1",
       "version_major": 2,
       "version_minor": 0
      },
      "text/plain": [
       "  0%|          | 0/58 [00:00<?, ?it/s]"
      ]
     },
     "metadata": {},
     "output_type": "display_data"
    },
    {
     "data": {
      "application/vnd.jupyter.widget-view+json": {
       "model_id": "2180ac2418d540dcbaddd79a9231ecec",
       "version_major": 2,
       "version_minor": 0
      },
      "text/plain": [
       "  0%|          | 0/58 [00:00<?, ?it/s]"
      ]
     },
     "metadata": {},
     "output_type": "display_data"
    },
    {
     "data": {
      "application/vnd.jupyter.widget-view+json": {
       "model_id": "5a6e200692ca467f9237ea4e321b38f3",
       "version_major": 2,
       "version_minor": 0
      },
      "text/plain": [
       "  0%|          | 0/58 [00:00<?, ?it/s]"
      ]
     },
     "metadata": {},
     "output_type": "display_data"
    },
    {
     "data": {
      "application/vnd.jupyter.widget-view+json": {
       "model_id": "68c6f3ad6d8e40948bde5269cb54037c",
       "version_major": 2,
       "version_minor": 0
      },
      "text/plain": [
       "  0%|          | 0/58 [00:00<?, ?it/s]"
      ]
     },
     "metadata": {},
     "output_type": "display_data"
    },
    {
     "data": {
      "application/vnd.jupyter.widget-view+json": {
       "model_id": "9dc284ce972749bf8f07220513aaca67",
       "version_major": 2,
       "version_minor": 0
      },
      "text/plain": [
       "  0%|          | 0/58 [00:00<?, ?it/s]"
      ]
     },
     "metadata": {},
     "output_type": "display_data"
    },
    {
     "data": {
      "application/vnd.jupyter.widget-view+json": {
       "model_id": "1a0118609bf342d3aad2103e77b68c58",
       "version_major": 2,
       "version_minor": 0
      },
      "text/plain": [
       "  0%|          | 0/58 [00:00<?, ?it/s]"
      ]
     },
     "metadata": {},
     "output_type": "display_data"
    },
    {
     "data": {
      "application/vnd.jupyter.widget-view+json": {
       "model_id": "b4606428f67541bab59ddc55a870c0d7",
       "version_major": 2,
       "version_minor": 0
      },
      "text/plain": [
       "  0%|          | 0/58 [00:00<?, ?it/s]"
      ]
     },
     "metadata": {},
     "output_type": "display_data"
    },
    {
     "data": {
      "application/vnd.jupyter.widget-view+json": {
       "model_id": "3cc99a7b5b6f40aeadb7555d55469686",
       "version_major": 2,
       "version_minor": 0
      },
      "text/plain": [
       "  0%|          | 0/58 [00:00<?, ?it/s]"
      ]
     },
     "metadata": {},
     "output_type": "display_data"
    }
   ],
   "source": [
    "loss_fn = GaussianNLLLoss()\n",
    "\n",
    "fno_prob = ProbFNO()\n",
    "fno_prob.to(device)\n",
    "optim_fno = torch.optim.Adam(fno_prob.parameters(), lr = 1e-3)\n",
    "\n",
    "for _ in trange(epochs):\n",
    "    for xt, yt in tqdm(train_loader, leave = False):\n",
    "        xt = xt.to(device)\n",
    "        yt = yt.to(device)\n",
    "        yhat = fno_prob(xt)\n",
    "        loss = loss_fn(yhat, yt)\n",
    "        loss.backward()\n",
    "        optim_fno.step()\n",
    "        optim_fno.zero_grad()"
   ]
  },
  {
   "cell_type": "code",
   "execution_count": 12,
   "id": "8f88a404-9123-4723-903a-b8377e295501",
   "metadata": {},
   "outputs": [],
   "source": [
    "n = xtrain.shape[0]\n",
    "xtrain_base1 = xtrain[:(n//2)]\n",
    "ytrain_base1 = ytrain[:(n//2)]\n",
    "xtrain_base2 = xtrain[(n//2):]\n",
    "ytrain_base2 = ytrain[(n//2):]\n",
    "\n",
    "train_data1 = TensorDataset(jax2torch(xtrain_base1), jax2torch(ytrain_base1))\n",
    "train_loader1 = DataLoader(train_data1, batch_size = 30, shuffle = True)\n",
    "\n",
    "train_data2 = TensorDataset(jax2torch(xtrain_base2), torch.abs(jax2torch(ytrain_base2)))\n",
    "train_loader2 = DataLoader(train_data2, batch_size = 30, shuffle = False)"
   ]
  },
  {
   "cell_type": "code",
   "execution_count": 13,
   "id": "9b3fc01e-df49-44e8-ac99-2a9e91d42767",
   "metadata": {},
   "outputs": [
    {
     "data": {
      "application/vnd.jupyter.widget-view+json": {
       "model_id": "4fccbd145d244a71a233f8b8f3401a44",
       "version_major": 2,
       "version_minor": 0
      },
      "text/plain": [
       "  0%|          | 0/20 [00:00<?, ?it/s]"
      ]
     },
     "metadata": {},
     "output_type": "display_data"
    },
    {
     "data": {
      "application/vnd.jupyter.widget-view+json": {
       "model_id": "a2916274e8a345679b75323de97b90e8",
       "version_major": 2,
       "version_minor": 0
      },
      "text/plain": [
       "  0%|          | 0/61 [00:00<?, ?it/s]"
      ]
     },
     "metadata": {},
     "output_type": "display_data"
    },
    {
     "data": {
      "application/vnd.jupyter.widget-view+json": {
       "model_id": "4814828c8656492fa479b6da83c4dbbf",
       "version_major": 2,
       "version_minor": 0
      },
      "text/plain": [
       "  0%|          | 0/61 [00:00<?, ?it/s]"
      ]
     },
     "metadata": {},
     "output_type": "display_data"
    },
    {
     "data": {
      "application/vnd.jupyter.widget-view+json": {
       "model_id": "844d748bd1a1498abbe612fc6a8fcb1d",
       "version_major": 2,
       "version_minor": 0
      },
      "text/plain": [
       "  0%|          | 0/61 [00:00<?, ?it/s]"
      ]
     },
     "metadata": {},
     "output_type": "display_data"
    },
    {
     "data": {
      "application/vnd.jupyter.widget-view+json": {
       "model_id": "cd7ce1de0a054455a6b5e5aa486662e5",
       "version_major": 2,
       "version_minor": 0
      },
      "text/plain": [
       "  0%|          | 0/61 [00:00<?, ?it/s]"
      ]
     },
     "metadata": {},
     "output_type": "display_data"
    },
    {
     "data": {
      "application/vnd.jupyter.widget-view+json": {
       "model_id": "573453372a9e42ea957ad78036afc358",
       "version_major": 2,
       "version_minor": 0
      },
      "text/plain": [
       "  0%|          | 0/61 [00:00<?, ?it/s]"
      ]
     },
     "metadata": {},
     "output_type": "display_data"
    },
    {
     "data": {
      "application/vnd.jupyter.widget-view+json": {
       "model_id": "5037a0a771f74797a23c4d4962f2ac44",
       "version_major": 2,
       "version_minor": 0
      },
      "text/plain": [
       "  0%|          | 0/61 [00:00<?, ?it/s]"
      ]
     },
     "metadata": {},
     "output_type": "display_data"
    },
    {
     "data": {
      "application/vnd.jupyter.widget-view+json": {
       "model_id": "2885386d1b8c4e1995c6720b84ac9027",
       "version_major": 2,
       "version_minor": 0
      },
      "text/plain": [
       "  0%|          | 0/61 [00:00<?, ?it/s]"
      ]
     },
     "metadata": {},
     "output_type": "display_data"
    },
    {
     "data": {
      "application/vnd.jupyter.widget-view+json": {
       "model_id": "9163c394304345eea18fc5d2785ceb38",
       "version_major": 2,
       "version_minor": 0
      },
      "text/plain": [
       "  0%|          | 0/61 [00:00<?, ?it/s]"
      ]
     },
     "metadata": {},
     "output_type": "display_data"
    },
    {
     "data": {
      "application/vnd.jupyter.widget-view+json": {
       "model_id": "b16dc86660dc4b5c976d2eabeebcc875",
       "version_major": 2,
       "version_minor": 0
      },
      "text/plain": [
       "  0%|          | 0/61 [00:00<?, ?it/s]"
      ]
     },
     "metadata": {},
     "output_type": "display_data"
    },
    {
     "data": {
      "application/vnd.jupyter.widget-view+json": {
       "model_id": "f63b2a070b1f47a1b73096ee34b71ee1",
       "version_major": 2,
       "version_minor": 0
      },
      "text/plain": [
       "  0%|          | 0/61 [00:00<?, ?it/s]"
      ]
     },
     "metadata": {},
     "output_type": "display_data"
    },
    {
     "data": {
      "application/vnd.jupyter.widget-view+json": {
       "model_id": "bb96eab5e3fd45899159bd88568fa750",
       "version_major": 2,
       "version_minor": 0
      },
      "text/plain": [
       "  0%|          | 0/61 [00:00<?, ?it/s]"
      ]
     },
     "metadata": {},
     "output_type": "display_data"
    },
    {
     "data": {
      "application/vnd.jupyter.widget-view+json": {
       "model_id": "a0cf44287de642e09a4d325960c2d530",
       "version_major": 2,
       "version_minor": 0
      },
      "text/plain": [
       "  0%|          | 0/61 [00:00<?, ?it/s]"
      ]
     },
     "metadata": {},
     "output_type": "display_data"
    },
    {
     "data": {
      "application/vnd.jupyter.widget-view+json": {
       "model_id": "9057a8faeb8245b98c84325619cc8766",
       "version_major": 2,
       "version_minor": 0
      },
      "text/plain": [
       "  0%|          | 0/61 [00:00<?, ?it/s]"
      ]
     },
     "metadata": {},
     "output_type": "display_data"
    },
    {
     "data": {
      "application/vnd.jupyter.widget-view+json": {
       "model_id": "9b2d12c4274440ce94cd22870846fea5",
       "version_major": 2,
       "version_minor": 0
      },
      "text/plain": [
       "  0%|          | 0/61 [00:00<?, ?it/s]"
      ]
     },
     "metadata": {},
     "output_type": "display_data"
    },
    {
     "data": {
      "application/vnd.jupyter.widget-view+json": {
       "model_id": "0f90c59186be4cec97ccdf7623c730c4",
       "version_major": 2,
       "version_minor": 0
      },
      "text/plain": [
       "  0%|          | 0/61 [00:00<?, ?it/s]"
      ]
     },
     "metadata": {},
     "output_type": "display_data"
    },
    {
     "data": {
      "application/vnd.jupyter.widget-view+json": {
       "model_id": "c6700e568ce242409c429c99cd0eff9c",
       "version_major": 2,
       "version_minor": 0
      },
      "text/plain": [
       "  0%|          | 0/61 [00:00<?, ?it/s]"
      ]
     },
     "metadata": {},
     "output_type": "display_data"
    },
    {
     "data": {
      "application/vnd.jupyter.widget-view+json": {
       "model_id": "4533bdd56df94fe8a02e881e5061f6bc",
       "version_major": 2,
       "version_minor": 0
      },
      "text/plain": [
       "  0%|          | 0/61 [00:00<?, ?it/s]"
      ]
     },
     "metadata": {},
     "output_type": "display_data"
    },
    {
     "data": {
      "application/vnd.jupyter.widget-view+json": {
       "model_id": "6432ece9addb46b9917c018134ffb73c",
       "version_major": 2,
       "version_minor": 0
      },
      "text/plain": [
       "  0%|          | 0/61 [00:00<?, ?it/s]"
      ]
     },
     "metadata": {},
     "output_type": "display_data"
    },
    {
     "data": {
      "application/vnd.jupyter.widget-view+json": {
       "model_id": "4c2b96266488422fb4d9309f2def709f",
       "version_major": 2,
       "version_minor": 0
      },
      "text/plain": [
       "  0%|          | 0/61 [00:00<?, ?it/s]"
      ]
     },
     "metadata": {},
     "output_type": "display_data"
    },
    {
     "data": {
      "application/vnd.jupyter.widget-view+json": {
       "model_id": "1f2b2d7efdc14592b4a4f90e6f3cd4be",
       "version_major": 2,
       "version_minor": 0
      },
      "text/plain": [
       "  0%|          | 0/61 [00:00<?, ?it/s]"
      ]
     },
     "metadata": {},
     "output_type": "display_data"
    }
   ],
   "source": [
    "loss_fn = nn.MSELoss()\n",
    "fno_base = FNO(n_modes=(16,32), \n",
    "             hidden_channels=64, \n",
    "             in_channels=1, \n",
    "             out_channels=1)\n",
    "fno_base.to(device)\n",
    "optim_fno = torch.optim.Adam(fno_base.parameters(), lr = 1e-3)\n",
    "\n",
    "for _ in trange(epochs):\n",
    "    for xt, yt in tqdm(train_loader1, leave = False):\n",
    "        xt = xt.to(device)\n",
    "        yt = yt.to(device)\n",
    "        yhat = fno_base(xt)\n",
    "        loss = loss_fn(yhat, yt)\n",
    "        loss.backward()\n",
    "        optim_fno.step()\n",
    "        optim_fno.zero_grad()"
   ]
  },
  {
   "cell_type": "code",
   "execution_count": 14,
   "id": "ae54b9d1-790e-4c50-9d98-d9ec4ec9f0d9",
   "metadata": {},
   "outputs": [
    {
     "data": {
      "application/vnd.jupyter.widget-view+json": {
       "model_id": "d9d73af89326491996eff3a774b98cff",
       "version_major": 2,
       "version_minor": 0
      },
      "text/plain": [
       "  0%|          | 0/61 [00:00<?, ?it/s]"
      ]
     },
     "metadata": {},
     "output_type": "display_data"
    }
   ],
   "source": [
    "ytrain_base1_hat = []\n",
    "with torch.no_grad():\n",
    "    for xt, yt in tqdm(train_loader2, leave = False):\n",
    "        yt_hat = fno_base(xt.to(device)).cpu().squeeze()\n",
    "        \n",
    "        ytrain_base1_hat.append(yt_hat)\n",
    "ytrain_base1_hat = torch.vstack(ytrain_base1_hat)[:,None]\n",
    "ytrain_base1_hat = torch2jax(ytrain_base1_hat)\n",
    "\n",
    "train_data2 = TensorDataset(jax2torch(xtrain_base2), torch.abs(jax2torch(ytrain_base2 - ytrain_base1_hat)))\n",
    "train_loader2 = DataLoader(train_data2, batch_size = 30, shuffle = True)"
   ]
  },
  {
   "cell_type": "code",
   "execution_count": 15,
   "id": "a78e1051-e7e8-4f64-97b3-25c2e855ff93",
   "metadata": {},
   "outputs": [
    {
     "data": {
      "application/vnd.jupyter.widget-view+json": {
       "model_id": "7cdf4d2bfe52444f8f1869790fc373d6",
       "version_major": 2,
       "version_minor": 0
      },
      "text/plain": [
       "  0%|          | 0/20 [00:00<?, ?it/s]"
      ]
     },
     "metadata": {},
     "output_type": "display_data"
    },
    {
     "data": {
      "application/vnd.jupyter.widget-view+json": {
       "model_id": "9a4242b576bd4829b9e9a99be15b0405",
       "version_major": 2,
       "version_minor": 0
      },
      "text/plain": [
       "  0%|          | 0/61 [00:00<?, ?it/s]"
      ]
     },
     "metadata": {},
     "output_type": "display_data"
    },
    {
     "data": {
      "application/vnd.jupyter.widget-view+json": {
       "model_id": "5abbb16101c44b8ab4201615253c2fa4",
       "version_major": 2,
       "version_minor": 0
      },
      "text/plain": [
       "  0%|          | 0/61 [00:00<?, ?it/s]"
      ]
     },
     "metadata": {},
     "output_type": "display_data"
    },
    {
     "data": {
      "application/vnd.jupyter.widget-view+json": {
       "model_id": "cff4ea26c10549ac909d59377ac29517",
       "version_major": 2,
       "version_minor": 0
      },
      "text/plain": [
       "  0%|          | 0/61 [00:00<?, ?it/s]"
      ]
     },
     "metadata": {},
     "output_type": "display_data"
    },
    {
     "data": {
      "application/vnd.jupyter.widget-view+json": {
       "model_id": "9897e0258f6049aebc5930be6e719bd4",
       "version_major": 2,
       "version_minor": 0
      },
      "text/plain": [
       "  0%|          | 0/61 [00:00<?, ?it/s]"
      ]
     },
     "metadata": {},
     "output_type": "display_data"
    },
    {
     "data": {
      "application/vnd.jupyter.widget-view+json": {
       "model_id": "e3cda71e2d42422a9b305fc6fdf30ebb",
       "version_major": 2,
       "version_minor": 0
      },
      "text/plain": [
       "  0%|          | 0/61 [00:00<?, ?it/s]"
      ]
     },
     "metadata": {},
     "output_type": "display_data"
    },
    {
     "data": {
      "application/vnd.jupyter.widget-view+json": {
       "model_id": "ddc520a55cb84fcc8df215bfc71be095",
       "version_major": 2,
       "version_minor": 0
      },
      "text/plain": [
       "  0%|          | 0/61 [00:00<?, ?it/s]"
      ]
     },
     "metadata": {},
     "output_type": "display_data"
    },
    {
     "data": {
      "application/vnd.jupyter.widget-view+json": {
       "model_id": "2fa8ac3a2898487ead1841e9fb7e9f89",
       "version_major": 2,
       "version_minor": 0
      },
      "text/plain": [
       "  0%|          | 0/61 [00:00<?, ?it/s]"
      ]
     },
     "metadata": {},
     "output_type": "display_data"
    },
    {
     "data": {
      "application/vnd.jupyter.widget-view+json": {
       "model_id": "c81a815f75cd429bb588d29da6145800",
       "version_major": 2,
       "version_minor": 0
      },
      "text/plain": [
       "  0%|          | 0/61 [00:00<?, ?it/s]"
      ]
     },
     "metadata": {},
     "output_type": "display_data"
    },
    {
     "data": {
      "application/vnd.jupyter.widget-view+json": {
       "model_id": "b4d79867921d438b96b57d18a15edfb4",
       "version_major": 2,
       "version_minor": 0
      },
      "text/plain": [
       "  0%|          | 0/61 [00:00<?, ?it/s]"
      ]
     },
     "metadata": {},
     "output_type": "display_data"
    },
    {
     "data": {
      "application/vnd.jupyter.widget-view+json": {
       "model_id": "01649dbd255b49bfacb0d4eca021e6b2",
       "version_major": 2,
       "version_minor": 0
      },
      "text/plain": [
       "  0%|          | 0/61 [00:00<?, ?it/s]"
      ]
     },
     "metadata": {},
     "output_type": "display_data"
    },
    {
     "data": {
      "application/vnd.jupyter.widget-view+json": {
       "model_id": "a569c3d6c9124753b2511170ed734f8f",
       "version_major": 2,
       "version_minor": 0
      },
      "text/plain": [
       "  0%|          | 0/61 [00:00<?, ?it/s]"
      ]
     },
     "metadata": {},
     "output_type": "display_data"
    },
    {
     "data": {
      "application/vnd.jupyter.widget-view+json": {
       "model_id": "9d41f7403a114528933dea650dba1e0e",
       "version_major": 2,
       "version_minor": 0
      },
      "text/plain": [
       "  0%|          | 0/61 [00:00<?, ?it/s]"
      ]
     },
     "metadata": {},
     "output_type": "display_data"
    },
    {
     "data": {
      "application/vnd.jupyter.widget-view+json": {
       "model_id": "1382b8f452b747c0a867e73835ce87d0",
       "version_major": 2,
       "version_minor": 0
      },
      "text/plain": [
       "  0%|          | 0/61 [00:00<?, ?it/s]"
      ]
     },
     "metadata": {},
     "output_type": "display_data"
    },
    {
     "data": {
      "application/vnd.jupyter.widget-view+json": {
       "model_id": "c83e40c075c242ac811f6acf1571f5a3",
       "version_major": 2,
       "version_minor": 0
      },
      "text/plain": [
       "  0%|          | 0/61 [00:00<?, ?it/s]"
      ]
     },
     "metadata": {},
     "output_type": "display_data"
    },
    {
     "data": {
      "application/vnd.jupyter.widget-view+json": {
       "model_id": "1873ccef4dcb43798db12cf2c0a0ad95",
       "version_major": 2,
       "version_minor": 0
      },
      "text/plain": [
       "  0%|          | 0/61 [00:00<?, ?it/s]"
      ]
     },
     "metadata": {},
     "output_type": "display_data"
    },
    {
     "data": {
      "application/vnd.jupyter.widget-view+json": {
       "model_id": "2f4b043d08ec4e17a18af1d24fa7443f",
       "version_major": 2,
       "version_minor": 0
      },
      "text/plain": [
       "  0%|          | 0/61 [00:00<?, ?it/s]"
      ]
     },
     "metadata": {},
     "output_type": "display_data"
    },
    {
     "data": {
      "application/vnd.jupyter.widget-view+json": {
       "model_id": "ee0e3221688e4fe7b61e91eb061268ca",
       "version_major": 2,
       "version_minor": 0
      },
      "text/plain": [
       "  0%|          | 0/61 [00:00<?, ?it/s]"
      ]
     },
     "metadata": {},
     "output_type": "display_data"
    },
    {
     "data": {
      "application/vnd.jupyter.widget-view+json": {
       "model_id": "caa082b5e8aa478e9a01d56188b47a6e",
       "version_major": 2,
       "version_minor": 0
      },
      "text/plain": [
       "  0%|          | 0/61 [00:00<?, ?it/s]"
      ]
     },
     "metadata": {},
     "output_type": "display_data"
    },
    {
     "data": {
      "application/vnd.jupyter.widget-view+json": {
       "model_id": "a0016daf49dc44fc9d2b7ecc06e01e30",
       "version_major": 2,
       "version_minor": 0
      },
      "text/plain": [
       "  0%|          | 0/61 [00:00<?, ?it/s]"
      ]
     },
     "metadata": {},
     "output_type": "display_data"
    },
    {
     "data": {
      "application/vnd.jupyter.widget-view+json": {
       "model_id": "e8b433911a484a959c93015be4749e07",
       "version_major": 2,
       "version_minor": 0
      },
      "text/plain": [
       "  0%|          | 0/61 [00:00<?, ?it/s]"
      ]
     },
     "metadata": {},
     "output_type": "display_data"
    }
   ],
   "source": [
    "loss_fn = QuantileLoss(0.9)\n",
    "fno_quant2 = FNO(n_modes=(16,32), \n",
    "             hidden_channels=64, \n",
    "             in_channels=1, \n",
    "             out_channels=1)\n",
    "fno_quant2.to(device)\n",
    "optim_fno = torch.optim.Adam(fno_quant2.parameters(), lr = 1e-3)\n",
    "\n",
    "epochs = 20\n",
    "for _ in trange(epochs):\n",
    "    for xt, yt in tqdm(train_loader2, leave = False): \n",
    "        xt = xt.to(device)\n",
    "        yt = yt.to(device)\n",
    "        yhat = fno_quant2(xt)\n",
    "        loss = loss_fn(yhat, yt)\n",
    "        loss.backward()\n",
    "        optim_fno.step()\n",
    "        optim_fno.zero_grad()"
   ]
  },
  {
   "cell_type": "code",
   "execution_count": 16,
   "id": "883cd7e3-1f57-40bd-8c15-71ac61b8443b",
   "metadata": {},
   "outputs": [],
   "source": [
    "# del dtrain, xtrain, ytrain\n",
    "dval = np.load('../data/era5_val_small.npy', mmap_mode='r+')\n",
    "dtest = np.load('../data/era5_test_small.npy', mmap_mode='r+')\n",
    "\n",
    "dval = np.mean(dval.reshape(-1, 4, nlat, nlon), axis = 1)\n",
    "dtest = np.mean(dtest.reshape(-1, 4, nlat, nlon), axis = 1)\n",
    "\n",
    "dval = np.array(clim_smooth(dval, kernel))\n",
    "dtest = np.array(clim_smooth(dtest, kernel))\n",
    "\n",
    "xval, yval = split_data(dval, lag, lead)\n",
    "xtest, ytest = split_data(dtest, lag, lead)"
   ]
  },
  {
   "cell_type": "code",
   "execution_count": 17,
   "id": "2a0d9dba-fd67-4392-89c3-1fb70e6c6b3b",
   "metadata": {},
   "outputs": [],
   "source": [
    "val_data = TensorDataset(jax2torch(xval), jax2torch(yval))\n",
    "val_loader = DataLoader(val_data, batch_size = 30, shuffle = True)\n",
    "\n",
    "test_data = TensorDataset(jax2torch(xtest), jax2torch(ytest))\n",
    "test_loader = DataLoader(test_data, batch_size = 30, shuffle = False)"
   ]
  },
  {
   "cell_type": "code",
   "execution_count": 18,
   "id": "55a35951-3d3c-4caf-8ca9-95c37ad533c9",
   "metadata": {
    "scrolled": true
   },
   "outputs": [
    {
     "data": {
      "application/vnd.jupyter.widget-view+json": {
       "model_id": "8287cbcf8e71418abd88ecc38a6bd4b4",
       "version_major": 2,
       "version_minor": 0
      },
      "text/plain": [
       "  0%|          | 0/61 [00:00<?, ?it/s]"
      ]
     },
     "metadata": {},
     "output_type": "display_data"
    },
    {
     "data": {
      "application/vnd.jupyter.widget-view+json": {
       "model_id": "139b50f68ad84a38b9111daf0f60c31e",
       "version_major": 2,
       "version_minor": 0
      },
      "text/plain": [
       "  0%|          | 0/61 [00:00<?, ?it/s]"
      ]
     },
     "metadata": {},
     "output_type": "display_data"
    }
   ],
   "source": [
    "with torch.no_grad():\n",
    "    yval_fno = []\n",
    "    yval_quant = []\n",
    "    yval_mu = []\n",
    "    yval_sd = []\n",
    "    yval_hat2 = []\n",
    "    yval_quant2 = []\n",
    "\n",
    "    ytest_fno = []\n",
    "    ytest_quant = []\n",
    "    ytest_mu = []\n",
    "    ytest_sd = []\n",
    "    ytest_hat2 = []\n",
    "    ytest_quant2 = []\n",
    "    \n",
    "    for xt, _ in tqdm(val_loader, leave = False):\n",
    "        xt = jax2torch(xt).to(device)\n",
    "        \n",
    "        yval_fno.append(fno(xt).cpu().squeeze())\n",
    "        yval_quant.append(fno_quant(xt).cpu().squeeze())\n",
    "        yval_mut, yval_sdt = fno_prob(xt)\n",
    "        yval_mu.append(yval_mut.cpu().squeeze())\n",
    "        yval_sd.append(yval_sdt.cpu().squeeze())\n",
    "        yval_hat2.append(fno_base(xt).cpu().squeeze())\n",
    "        yval_quant2.append(fno_quant2(xt).cpu().squeeze())\n",
    "        \n",
    "    yval_fno = torch2jax(torch.vstack(yval_fno)[:,None])\n",
    "    yval_quant = torch2jax(torch.vstack(yval_quant)[:,None])\n",
    "    yval_mu = torch2jax(torch.vstack(yval_mu)[:,None])\n",
    "    yval_sd = torch2jax(torch.vstack(yval_sd)[:,None])\n",
    "    yval_hat2 = torch2jax(torch.vstack(yval_hat2)[:,None])\n",
    "    yval_quant2 = torch2jax(torch.vstack(yval_quant2)[:,None])\n",
    "\n",
    "    for xt, _ in tqdm(test_loader, leave = False):\n",
    "        xt = jax2torch(xt).to(device)\n",
    "        \n",
    "        ytest_fno.append(fno(xt).cpu().squeeze())\n",
    "        ytest_quant.append(fno_quant(xt).cpu().squeeze())\n",
    "        ytest_mut, ytest_sdt = fno_prob(xt)\n",
    "        ytest_mu.append(ytest_mut.cpu().squeeze())\n",
    "        ytest_sd.append(ytest_sdt.cpu().squeeze())\n",
    "        ytest_hat2.append(fno_base(xt).cpu().squeeze())\n",
    "        ytest_quant2.append(fno_quant2(xt).cpu().squeeze())\n",
    "\n",
    "    ytest_fno = torch2jax(torch.vstack(ytest_fno)[:,None])\n",
    "    ytest_quant = torch2jax(torch.vstack(ytest_quant)[:,None])\n",
    "    ytest_mu = torch2jax(torch.vstack(ytest_mu)[:,None])\n",
    "    ytest_sd = torch2jax(torch.vstack(ytest_sd)[:,None])\n",
    "    ytest_hat2 = torch2jax(torch.vstack(ytest_hat2)[:,None])\n",
    "    ytest_quant2 = torch2jax(torch.vstack(ytest_quant2)[:,None])\n",
    "\n",
    "rval_fno = yval - yval_fno\n",
    "rtest_fno = ytest - ytest_fno\n",
    "rtest_fno2 = ytest - ytest_hat2\n",
    "# _, nlat, nlon = rval_fno.shape"
   ]
  },
  {
   "cell_type": "code",
   "execution_count": 19,
   "id": "a83f6e1d-5d41-4cd7-bb0b-d3e75b3c45d3",
   "metadata": {},
   "outputs": [],
   "source": [
    "rval_fno = rval_fno.reshape(-1, nlat*nlon)\n",
    "rtest_fno = rtest_fno.reshape(-1, nlat*nlon)\n",
    "\n",
    "yval_quant = yval_quant.reshape(-1, nlat*nlon)\n",
    "yval_hat2 = yval_hat2.reshape(-1, nlat*nlon)\n",
    "yval_quant2  = yval_quant2.reshape(-1, nlat*nlon)\n",
    "ytest_quant2  = ytest_quant2.reshape(-1, nlat*nlon)\n",
    "\n",
    "yval = yval.reshape(-1, nlat*nlon)\n",
    "yval_mu = yval_mu.reshape(-1, nlat*nlon)\n",
    "yval_sd = yval_sd.reshape(-1, nlat*nlon)\n",
    "ytest_sd  = ytest_sd.reshape(-1, nlat*nlon)\n",
    "ytest_quant  = ytest_quant.reshape(-1, nlat*nlon)"
   ]
  },
  {
   "cell_type": "code",
   "execution_count": 70,
   "id": "6d9ae7f8-4972-4b6d-ac11-75e4a0031a3e",
   "metadata": {},
   "outputs": [],
   "source": [
    "nproj = nlat*nlon\n",
    "nslice = nproj//10\n",
    "nsamp = 2000\n",
    "alpha = 0.1\n",
    "\n",
    "# setup\n",
    "pca_state = pcax.fit(rval_fno, nproj)\n",
    "phi = phi_slice(random.PRNGKey(0), rval_fno.shape[1], nproj)\n",
    "rval_phi = rval_fno @ phi\n",
    "rval_fpc = pcax.transform(pca_state, rval_fno)\n",
    "\n",
    "rval_quant = jnp.abs(rval_fno) / yval_quant"
   ]
  },
  {
   "cell_type": "code",
   "execution_count": 21,
   "id": "aa0a50a7-d208-4daa-ad10-0e2ec6c7d06c",
   "metadata": {},
   "outputs": [],
   "source": [
    "conf_lower, conf_upper = conf.conf_band(rval_fno, pca_state, alpha)\n",
    "gaus_lower, gaus_upper = gaus.gaus_band(rval_fno, pca_state, alpha)\n",
    "supr_lower, supr_upper = supr.supr_band(rval_fno, alpha)\n",
    "\n",
    "uqno_lam = uqno_lambda(yval, yval_hat2, yval_quant2, delta = 0.1, alpha = 0.1)\n",
    "uqn1_lower, uqn1_upper = -uqno_lam*ytest_quant2, uqno_lam*ytest_quant2"
   ]
  },
  {
   "cell_type": "code",
   "execution_count": 22,
   "id": "6978350a-d7b8-4d4b-b51a-4ddf324b2645",
   "metadata": {},
   "outputs": [],
   "source": [
    "pdon_lower, pdon_upper = prob_don(yval.squeeze(), yval_mu, yval_sd, ytest_sd, alpha)\n",
    "qdon_lower, qdon_upper = quant_don(yval.squeeze(), yval_quant, ytest_quant, alpha)"
   ]
  },
  {
   "cell_type": "code",
   "execution_count": 75,
   "id": "85a95106-df5d-464b-9fdf-645f91416d88",
   "metadata": {},
   "outputs": [
    {
     "data": {
      "application/vnd.jupyter.widget-view+json": {
       "model_id": "1d42f35ec80240d782c2da624eda38fc",
       "version_major": 2,
       "version_minor": 0
      },
      "text/plain": [
       "  0%|          | 0/1824 [00:00<?, ?it/s]"
      ]
     },
     "metadata": {},
     "output_type": "display_data"
    },
    {
     "name": "stderr",
     "output_type": "stream",
     "text": [
      "E0426 22:21:00.241673   29228 hlo_lexer.cc:443] Failed to parse int literal: 75240990185135123469173\n"
     ]
    },
    {
     "ename": "ValueError",
     "evalue": "zero-size array to reduction operation max which has no identity",
     "output_type": "error",
     "traceback": [
      "\u001b[0;31m---------------------------------------------------------------------------\u001b[0m",
      "\u001b[0;31mValueError\u001b[0m                                Traceback (most recent call last)",
      "Cell \u001b[0;32mIn[75], line 33\u001b[0m\n\u001b[1;32m     30\u001b[0m local_ens \u001b[38;5;241m=\u001b[39m pcax\u001b[38;5;241m.\u001b[39mrecover(pca_state, local_ens)\n\u001b[1;32m     31\u001b[0m local_ens \u001b[38;5;241m=\u001b[39m local_ens[dphi \u001b[38;5;241m>\u001b[39m qval]\n\u001b[0;32m---> 33\u001b[0m uval \u001b[38;5;241m=\u001b[39m \u001b[43mjnp\u001b[49m\u001b[38;5;241;43m.\u001b[39;49m\u001b[43mmax\u001b[49m\u001b[43m(\u001b[49m\u001b[43mlocal_ens\u001b[49m\u001b[43m,\u001b[49m\u001b[43m \u001b[49m\u001b[43maxis\u001b[49m\u001b[43m \u001b[49m\u001b[38;5;241;43m=\u001b[39;49m\u001b[43m \u001b[49m\u001b[38;5;241;43m0\u001b[39;49m\u001b[43m)\u001b[49m\n\u001b[1;32m     34\u001b[0m lval \u001b[38;5;241m=\u001b[39m jnp\u001b[38;5;241m.\u001b[39mmin(local_ens, axis \u001b[38;5;241m=\u001b[39m \u001b[38;5;241m0\u001b[39m)\n\u001b[1;32m     35\u001b[0m cover[k, \u001b[38;5;241m1\u001b[39m] \u001b[38;5;241m=\u001b[39m risk(lval, uval, rtest_fno[k])\n",
      "File \u001b[0;32m~/climate/lib/python3.12/site-packages/jax/_src/numpy/reductions.py:485\u001b[0m, in \u001b[0;36mmax\u001b[0;34m(a, axis, out, keepdims, initial, where)\u001b[0m\n\u001b[1;32m    414\u001b[0m \u001b[38;5;129m@export\u001b[39m\n\u001b[1;32m    415\u001b[0m \u001b[38;5;28;01mdef\u001b[39;00m\u001b[38;5;250m \u001b[39m\u001b[38;5;21mmax\u001b[39m(a: ArrayLike, axis: Axis \u001b[38;5;241m=\u001b[39m \u001b[38;5;28;01mNone\u001b[39;00m, out: \u001b[38;5;28;01mNone\u001b[39;00m \u001b[38;5;241m=\u001b[39m \u001b[38;5;28;01mNone\u001b[39;00m,\n\u001b[1;32m    416\u001b[0m         keepdims: \u001b[38;5;28mbool\u001b[39m \u001b[38;5;241m=\u001b[39m \u001b[38;5;28;01mFalse\u001b[39;00m, initial: ArrayLike \u001b[38;5;241m|\u001b[39m \u001b[38;5;28;01mNone\u001b[39;00m \u001b[38;5;241m=\u001b[39m \u001b[38;5;28;01mNone\u001b[39;00m,\n\u001b[1;32m    417\u001b[0m         where: ArrayLike \u001b[38;5;241m|\u001b[39m \u001b[38;5;28;01mNone\u001b[39;00m \u001b[38;5;241m=\u001b[39m \u001b[38;5;28;01mNone\u001b[39;00m) \u001b[38;5;241m-\u001b[39m\u001b[38;5;241m>\u001b[39m Array:\n\u001b[1;32m    418\u001b[0m \u001b[38;5;250m  \u001b[39m\u001b[38;5;124mr\u001b[39m\u001b[38;5;124;03m\"\"\"Return the maximum of the array elements along a given axis.\u001b[39;00m\n\u001b[1;32m    419\u001b[0m \n\u001b[1;32m    420\u001b[0m \u001b[38;5;124;03m  JAX implementation of :func:`numpy.max`.\u001b[39;00m\n\u001b[0;32m   (...)\u001b[0m\n\u001b[1;32m    483\u001b[0m \u001b[38;5;124;03m    Array([[0, 0, 0, 0]], dtype=int32)\u001b[39;00m\n\u001b[1;32m    484\u001b[0m \u001b[38;5;124;03m  \"\"\"\u001b[39;00m\n\u001b[0;32m--> 485\u001b[0m   \u001b[38;5;28;01mreturn\u001b[39;00m \u001b[43m_reduce_max\u001b[49m\u001b[43m(\u001b[49m\u001b[43ma\u001b[49m\u001b[43m,\u001b[49m\u001b[43m \u001b[49m\u001b[43maxis\u001b[49m\u001b[38;5;241;43m=\u001b[39;49m\u001b[43m_ensure_optional_axes\u001b[49m\u001b[43m(\u001b[49m\u001b[43maxis\u001b[49m\u001b[43m)\u001b[49m\u001b[43m,\u001b[49m\u001b[43m \u001b[49m\u001b[43mout\u001b[49m\u001b[38;5;241;43m=\u001b[39;49m\u001b[43mout\u001b[49m\u001b[43m,\u001b[49m\n\u001b[1;32m    486\u001b[0m \u001b[43m                     \u001b[49m\u001b[43mkeepdims\u001b[49m\u001b[38;5;241;43m=\u001b[39;49m\u001b[43mkeepdims\u001b[49m\u001b[43m,\u001b[49m\u001b[43m \u001b[49m\u001b[43minitial\u001b[49m\u001b[38;5;241;43m=\u001b[39;49m\u001b[43minitial\u001b[49m\u001b[43m,\u001b[49m\u001b[43m \u001b[49m\u001b[43mwhere\u001b[49m\u001b[38;5;241;43m=\u001b[39;49m\u001b[43mwhere\u001b[49m\u001b[43m)\u001b[49m\n",
      "    \u001b[0;31m[... skipping hidden 15 frame]\u001b[0m\n",
      "File \u001b[0;32m~/climate/lib/python3.12/site-packages/jax/_src/numpy/reductions.py:409\u001b[0m, in \u001b[0;36m_reduce_max\u001b[0;34m(a, axis, out, keepdims, initial, where)\u001b[0m\n\u001b[1;32m    405\u001b[0m \u001b[38;5;129m@partial\u001b[39m(api\u001b[38;5;241m.\u001b[39mjit, static_argnames\u001b[38;5;241m=\u001b[39m(\u001b[38;5;124m'\u001b[39m\u001b[38;5;124maxis\u001b[39m\u001b[38;5;124m'\u001b[39m, \u001b[38;5;124m'\u001b[39m\u001b[38;5;124mkeepdims\u001b[39m\u001b[38;5;124m'\u001b[39m), inline\u001b[38;5;241m=\u001b[39m\u001b[38;5;28;01mTrue\u001b[39;00m)\n\u001b[1;32m    406\u001b[0m \u001b[38;5;28;01mdef\u001b[39;00m\u001b[38;5;250m \u001b[39m\u001b[38;5;21m_reduce_max\u001b[39m(a: ArrayLike, axis: Axis \u001b[38;5;241m=\u001b[39m \u001b[38;5;28;01mNone\u001b[39;00m, out: \u001b[38;5;28;01mNone\u001b[39;00m \u001b[38;5;241m=\u001b[39m \u001b[38;5;28;01mNone\u001b[39;00m,\n\u001b[1;32m    407\u001b[0m                 keepdims: \u001b[38;5;28mbool\u001b[39m \u001b[38;5;241m=\u001b[39m \u001b[38;5;28;01mFalse\u001b[39;00m, initial: ArrayLike \u001b[38;5;241m|\u001b[39m \u001b[38;5;28;01mNone\u001b[39;00m \u001b[38;5;241m=\u001b[39m \u001b[38;5;28;01mNone\u001b[39;00m,\n\u001b[1;32m    408\u001b[0m                 where: ArrayLike \u001b[38;5;241m|\u001b[39m \u001b[38;5;28;01mNone\u001b[39;00m \u001b[38;5;241m=\u001b[39m \u001b[38;5;28;01mNone\u001b[39;00m) \u001b[38;5;241m-\u001b[39m\u001b[38;5;241m>\u001b[39m Array:\n\u001b[0;32m--> 409\u001b[0m   \u001b[38;5;28;01mreturn\u001b[39;00m \u001b[43m_reduction\u001b[49m\u001b[43m(\u001b[49m\u001b[43ma\u001b[49m\u001b[43m,\u001b[49m\u001b[43m \u001b[49m\u001b[38;5;124;43m\"\u001b[39;49m\u001b[38;5;124;43mmax\u001b[39;49m\u001b[38;5;124;43m\"\u001b[39;49m\u001b[43m,\u001b[49m\u001b[43m \u001b[49m\u001b[43mlax\u001b[49m\u001b[38;5;241;43m.\u001b[39;49m\u001b[43mmax\u001b[49m\u001b[43m,\u001b[49m\u001b[43m \u001b[49m\u001b[38;5;241;43m-\u001b[39;49m\u001b[43mnp\u001b[49m\u001b[38;5;241;43m.\u001b[39;49m\u001b[43minf\u001b[49m\u001b[43m,\u001b[49m\u001b[43m \u001b[49m\u001b[43mhas_identity\u001b[49m\u001b[38;5;241;43m=\u001b[39;49m\u001b[38;5;28;43;01mFalse\u001b[39;49;00m\u001b[43m,\u001b[49m\n\u001b[1;32m    410\u001b[0m \u001b[43m                    \u001b[49m\u001b[43maxis\u001b[49m\u001b[38;5;241;43m=\u001b[39;49m\u001b[43maxis\u001b[49m\u001b[43m,\u001b[49m\u001b[43m \u001b[49m\u001b[43mout\u001b[49m\u001b[38;5;241;43m=\u001b[39;49m\u001b[43mout\u001b[49m\u001b[43m,\u001b[49m\u001b[43m \u001b[49m\u001b[43mkeepdims\u001b[49m\u001b[38;5;241;43m=\u001b[39;49m\u001b[43mkeepdims\u001b[49m\u001b[43m,\u001b[49m\n\u001b[1;32m    411\u001b[0m \u001b[43m                    \u001b[49m\u001b[43minitial\u001b[49m\u001b[38;5;241;43m=\u001b[39;49m\u001b[43minitial\u001b[49m\u001b[43m,\u001b[49m\u001b[43m \u001b[49m\u001b[43mwhere_\u001b[49m\u001b[38;5;241;43m=\u001b[39;49m\u001b[43mwhere\u001b[49m\u001b[43m,\u001b[49m\u001b[43m \u001b[49m\u001b[43mparallel_reduce\u001b[49m\u001b[38;5;241;43m=\u001b[39;49m\u001b[43mlax\u001b[49m\u001b[38;5;241;43m.\u001b[39;49m\u001b[43mpmax\u001b[49m\u001b[43m)\u001b[49m\n",
      "File \u001b[0;32m~/climate/lib/python3.12/site-packages/jax/_src/numpy/reductions.py:133\u001b[0m, in \u001b[0;36m_reduction\u001b[0;34m(a, name, op, init_val, has_identity, preproc, bool_op, upcast_f16_for_computation, axis, dtype, out, keepdims, initial, where_, parallel_reduce, promote_integers)\u001b[0m\n\u001b[1;32m    131\u001b[0m   shape \u001b[38;5;241m=\u001b[39m np\u001b[38;5;241m.\u001b[39mshape(a)\n\u001b[1;32m    132\u001b[0m   \u001b[38;5;28;01mif\u001b[39;00m \u001b[38;5;129;01mnot\u001b[39;00m _all(shape[d] \u001b[38;5;241m>\u001b[39m\u001b[38;5;241m=\u001b[39m \u001b[38;5;241m1\u001b[39m \u001b[38;5;28;01mfor\u001b[39;00m d \u001b[38;5;129;01min\u001b[39;00m pos_dims):\n\u001b[0;32m--> 133\u001b[0m     \u001b[38;5;28;01mraise\u001b[39;00m \u001b[38;5;167;01mValueError\u001b[39;00m(\u001b[38;5;124mf\u001b[39m\u001b[38;5;124m\"\u001b[39m\u001b[38;5;124mzero-size array to reduction operation \u001b[39m\u001b[38;5;132;01m{\u001b[39;00mname\u001b[38;5;132;01m}\u001b[39;00m\u001b[38;5;124m which has no identity\u001b[39m\u001b[38;5;124m\"\u001b[39m)\n\u001b[1;32m    135\u001b[0m result_dtype \u001b[38;5;241m=\u001b[39m dtype \u001b[38;5;129;01mor\u001b[39;00m dtypes\u001b[38;5;241m.\u001b[39mdtype(a)\n\u001b[1;32m    137\u001b[0m \u001b[38;5;28;01mif\u001b[39;00m dtype \u001b[38;5;129;01mis\u001b[39;00m \u001b[38;5;28;01mNone\u001b[39;00m \u001b[38;5;129;01mand\u001b[39;00m promote_integers:\n",
      "\u001b[0;31mValueError\u001b[0m: zero-size array to reduction operation max which has no identity"
     ]
    }
   ],
   "source": [
    "rng = random.PRNGKey(0)\n",
    "ntest = ytest.shape[0]\n",
    "nmod = 2 + 6\n",
    "cover = np.zeros((ntest, nmod))\n",
    "width = np.zeros((ntest, nmod))\n",
    "\n",
    "for k in trange(0, ntest):\n",
    "    \n",
    "    ## LSCI 1\n",
    "    rng, key1, key2 = random.split(rng, 3)\n",
    "    local_ens, dphi, qval = phi_resample(xval.reshape(-1, 1, nlat*nlon), \n",
    "                                         xtest[k].reshape(1, nlat*nlon), \n",
    "                                         rval_fpc, \n",
    "                                         nsamp, nproj, key1,\n",
    "                                         alpha, 'norm', 'knn', 0.01)\n",
    "    local_ens = pcax.recover(pca_state, local_ens)\n",
    "    local_ens = local_ens[dphi > qval]\n",
    "\n",
    "    uval = jnp.max(local_ens, axis = 0)\n",
    "    lval = jnp.min(local_ens, axis = 0)\n",
    "    cover[k, 0] = risk(lval, uval, rtest_fno[k])\n",
    "    width[k, 0] = np.median(uval - lval)\n",
    "    \n",
    "    ## LSCI 2\n",
    "    local_ens, dphi, qval = phi_resample(xval.reshape(-1, 1, nlat*nlon), \n",
    "                                         xtest[k].reshape(1, nlat*nlon), \n",
    "                                         rval_fpc, \n",
    "                                         nsamp, nslice, key1,\n",
    "                                         alpha, 'tukey', 'gaussian', 1)\n",
    "    local_ens = pcax.recover(pca_state, local_ens)\n",
    "    local_ens = local_ens[dphi > qval]\n",
    "\n",
    "    uval = jnp.max(local_ens, axis = 0)\n",
    "    lval = jnp.min(local_ens, axis = 0)\n",
    "    cover[k, 1] = risk(lval, uval, rtest_fno[k])\n",
    "    width[k, 1] = np.median(uval - lval)\n",
    "    \n",
    "    # CONF \n",
    "    cover[k, 2] = risk(conf_lower, conf_upper, rtest_fno[k])\n",
    "    width[k, 2] = jnp.median(conf_upper - conf_lower)\n",
    "    \n",
    "    # GAUSS \n",
    "    cover[k, 3] = risk(gaus_lower, gaus_upper, rtest_fno[k])\n",
    "    width[k, 3] = jnp.median(gaus_upper - gaus_lower)\n",
    "    \n",
    "    # SUPR\n",
    "    cover[k, 4] = risk(supr_lower, supr_upper, rtest_fno[k])\n",
    "    width[k, 4] = jnp.median(supr_upper - supr_lower)\n",
    "    \n",
    "    # UQNO\n",
    "    cover[k, 5] = risk(uqn1_lower[k], uqn1_upper[k], rtest_fno[k])\n",
    "    width[k, 5] = jnp.median(uqn1_upper[k] - uqn1_lower[k])\n",
    "    \n",
    "    # PDON\n",
    "    cover[k, 6] = risk(pdon_lower[k], pdon_upper[k], rtest_fno[k])\n",
    "    width[k, 6] = jnp.median(pdon_upper[k] - pdon_lower[k])\n",
    "    \n",
    "    # QDON\n",
    "    cover[k, 7] = risk(qdon_lower[k], qdon_upper[k], rtest_fno[k])\n",
    "    width[k, 7] = jnp.median(qdon_upper[k] - qdon_lower[k])"
   ]
  },
  {
   "cell_type": "code",
   "execution_count": null,
   "id": "2daa815c-8aff-4069-8c8a-d653024e82bb",
   "metadata": {},
   "outputs": [],
   "source": []
  },
  {
   "cell_type": "code",
   "execution_count": null,
   "id": "aadc3645-89a3-49a8-8242-f23527777db8",
   "metadata": {},
   "outputs": [],
   "source": [
    "for k in trange(20):\n",
    "    \n",
    "    ## LSCI 1\n",
    "    rng, key1, key2 = random.split(rng, 3)\n",
    "    local_ens, dphi, qval = phi_resample(xval.reshape(-1, 1, nlat*nlon), \n",
    "                                         xtest[k].reshape(1, nlat*nlon), \n",
    "                                         rval_fpc, \n",
    "                                         nsamp, nproj, key1,\n",
    "                                         alpha, 'tukey', 'gaussian', 2)\n",
    "    local_ens = pcax.recover(pca_state, local_ens)\n",
    "    local_ens = local_ens[dphi > qval]\n",
    "\n",
    "    uval = jnp.max(local_ens, axis = 0)\n",
    "    lval = jnp.min(local_ens, axis = 0)\n",
    "    cover[k, 0] = risk(lval, uval, rtest_fno[k])\n",
    "    width[k, 0] = np.median(uval - lval)"
   ]
  },
  {
   "cell_type": "code",
   "execution_count": 64,
   "id": "1c19ad6d-2932-459c-9983-ecc6b6b43e7d",
   "metadata": {},
   "outputs": [
    {
     "data": {
      "text/plain": [
       "(2000, 2048)"
      ]
     },
     "execution_count": 64,
     "metadata": {},
     "output_type": "execute_result"
    }
   ],
   "source": [
    "local_ens.shape"
   ]
  },
  {
   "cell_type": "code",
   "execution_count": 65,
   "id": "59541e9c-3753-4784-8cf4-859adfac64b6",
   "metadata": {},
   "outputs": [
    {
     "data": {
      "text/plain": [
       "<matplotlib.colorbar.Colorbar at 0x7fc6f850bdd0>"
      ]
     },
     "execution_count": 65,
     "metadata": {},
     "output_type": "execute_result"
    },
    {
     "data": {
      "image/png": "[encoded data removed]",
      "text/plain": [
       "<Figure size 640x480 with 2 Axes>"
      ]
     },
     "metadata": {},
     "output_type": "display_data"
    }
   ],
   "source": [
    "plt.imshow(local_ens[2].reshape(nlat,nlon))\n",
    "plt.colorbar()"
   ]
  },
  {
   "cell_type": "code",
   "execution_count": null,
   "id": "820b7be8-7ed0-457e-b248-6f9cb65947f9",
   "metadata": {},
   "outputs": [],
   "source": [
    "# metrics\n",
    "# sigma = sd[1:\n",
    "sigma = jnp.mean(rtest_fno**2, axis = 1)\n",
    "cover_mean = np.round(np.mean(cover > 0.99, axis = 0), 3)\n",
    "width_mean = np.round(np.mean(width, axis = 0), 3)\n",
    "\n",
    "## correlations\n",
    "cover_corr_mean = np.zeros(nmod)\n",
    "cover_corr_std = np.zeros(nmod)\n",
    "width_corr_mean = np.zeros(nmod)\n",
    "width_corr_std = np.zeros(nmod)\n",
    "for i in range(nmod):\n",
    "    corr = np.corrcoef(np.vstack([cover[:,i] > 0.99, sigma]))[0,1]\n",
    "    cover_corr_mean[i] = np.mean(corr)\n",
    "#     cover_corr_std[i] = 2*np.std(corr)\n",
    "    \n",
    "    corr = np.corrcoef(np.vstack([width[:,i], sigma]))[0,1]\n",
    "    width_corr_mean[i] = np.mean(corr)\n",
    "    width_corr_std[i] = 2*np.std(corr)\n",
    "\n",
    "metrics_mean = np.vstack([\n",
    "    cover_mean,\n",
    "    cover_corr_mean,\n",
    "    width_mean,\n",
    "    width_corr_mean\n",
    "]).T"
   ]
  },
  {
   "cell_type": "code",
   "execution_count": null,
   "id": "909966ac-d1dc-476b-8145-8aa4c6985b43",
   "metadata": {},
   "outputs": [],
   "source": [
    "for i in range(nmod):\n",
    "    for j in range(4):\n",
    "        spacer = '& ' if j < 3 else '\\\\\\\\'\n",
    "        endline = '' if j < 3 else '\\n'\n",
    "        \n",
    "        result = metrics_mean[i, j]\n",
    "        met = f'{result:.3f}' if not np.isnan(result) else '--'\n",
    "        print(met, spacer, end=endline)"
   ]
  },
  {
   "cell_type": "code",
   "execution_count": null,
   "id": "9bb6ea9f-12d3-48c4-b86a-c0ab1bd44d87",
   "metadata": {},
   "outputs": [],
   "source": []
  },
  {
   "cell_type": "code",
   "execution_count": null,
   "id": "e0448bb5-f9d7-4c6d-88fd-ad445d34be2e",
   "metadata": {},
   "outputs": [],
   "source": []
  }
 ],
 "metadata": {
  "kernelspec": {
   "display_name": "Python 3 (ipykernel)",
   "language": "python",
   "name": "python3"
  },
  "language_info": {
   "codemirror_mode": {
    "name": "ipython",
    "version": 3
   },
   "file_extension": ".py",
   "mimetype": "text/x-python",
   "name": "python",
   "nbconvert_exporter": "python",
   "pygments_lexer": "ipython3",
   "version": "3.12.3"
  }
 },
 "nbformat": 4,
 "nbformat_minor": 5
}
