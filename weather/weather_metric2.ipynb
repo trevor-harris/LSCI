{
 "cells": [
  {
   "cell_type": "code",
   "execution_count": 1,
   "id": "5b187b8d-bc9e-4b89-af26-27ff7c3b24bb",
   "metadata": {},
   "outputs": [],
   "source": [
    "import math\n",
    "import numpy as np\n",
    "import matplotlib\n",
    "import matplotlib.pyplot as plt\n",
    "\n",
    "import jax\n",
    "import jax.numpy as jnp\n",
    "import jax.scipy.stats as stats\n",
    "from jax import jacfwd, jacrev\n",
    "from jax import vmap, grad, jit, random\n",
    "from jax.tree_util import tree_map, tree_flatten, tree_unflatten, tree_leaves\n",
    "\n",
    "from flax import nnx\n",
    "import optax\n",
    "import pcax\n",
    "\n",
    "from tqdm.notebook import tqdm\n",
    "from tqdm.notebook import trange\n",
    "\n",
    "import torch\n",
    "import torch.nn as nn\n",
    "from torch.utils.data import DataLoader, TensorDataset\n",
    "device = 'cuda' if torch.cuda.is_available() else 'cpu'\n",
    "# device = 'cpu'\n",
    "\n",
    "import os\n",
    "os.chdir('../methods')\n",
    "import lsci, supr, conf, uqno, prob_don, quant_don, gaus\n",
    "os.chdir('../gpsims')\n",
    "\n",
    "os.chdir('../models_and_metrics')\n",
    "from models import *\n",
    "from metrics import * \n",
    "from utility import *\n",
    "os.chdir('../gpsims')\n",
    "\n",
    "import neuralop as op\n",
    "from neuralop.models import FNO, LocalFNO, UNO, TFNO\n",
    "import jaxwt as jwt\n",
    "import pcax\n",
    "from jax.scipy.stats import norm, laplace"
   ]
  },
  {
   "cell_type": "code",
   "execution_count": 2,
   "id": "640e170c-c616-4396-9cfd-369fce14a0a3",
   "metadata": {},
   "outputs": [],
   "source": [
    "dtrain = np.load('../data/era5_train_small.npy', mmap_mode='r+')\n",
    "nlat, nlon = dtrain.shape[1:]\n",
    "dtrain = np.mean(dtrain.reshape(-1, 4, nlat, nlon), axis = 1)\n",
    "\n",
    "# train_mu = np.mean(dtrain, axis = (0))[None,]\n",
    "# train_sd = np.std(dtrain, axis = (0))[None,]\n",
    "\n",
    "def clim_smooth(data, kernel):\n",
    "    return jax.scipy.signal.convolve2d(data, kernel, mode='same')\n",
    "clim_smooth = jit(vmap(clim_smooth, (0, None)))\n",
    "\n",
    "kernel = jnp.array([[1, 1, 1], [1, 5, 1], [1, 1, 1]])\n",
    "kernel = kernel / jnp.sum(kernel)\n",
    "dtrain = np.array(clim_smooth(dtrain, kernel))"
   ]
  },
  {
   "cell_type": "code",
   "execution_count": 3,
   "id": "67feef07-39d6-4340-b3e5-e5a44f385a6b",
   "metadata": {},
   "outputs": [],
   "source": [
    "spatial_mean = jnp.mean(dtrain, axis = 0)\n",
    "spatial_std = jnp.std(dtrain, axis = 0)\n",
    "\n",
    "dtrain = (dtrain - spatial_mean)/spatial_std"
   ]
  },
  {
   "cell_type": "code",
   "execution_count": 4,
   "id": "c79d29f7-f380-4a0d-b03c-79844402405d",
   "metadata": {},
   "outputs": [],
   "source": [
    "lag, lead = 1, 1\n",
    "xtrain, ytrain = split_data(dtrain, lag, lead)\n",
    "train_data = TensorDataset(jax2torch(xtrain), jax2torch(ytrain))\n",
    "train_loader = DataLoader(train_data, batch_size = 64, shuffle = True)"
   ]
  },
  {
   "cell_type": "code",
   "execution_count": 5,
   "id": "3b8bebdd-3fa7-4aa9-939f-6b99141ad49c",
   "metadata": {},
   "outputs": [
    {
     "data": {
      "application/vnd.jupyter.widget-view+json": {
       "model_id": "99059d3eacae4ece8bfa09ce250c8ae0",
       "version_major": 2,
       "version_minor": 0
      },
      "text/plain": [
       "  0%|          | 0/50 [00:00<?, ?it/s]"
      ]
     },
     "metadata": {},
     "output_type": "display_data"
    },
    {
     "data": {
      "application/vnd.jupyter.widget-view+json": {
       "model_id": "0cceed5bc5644c31bab8c3666c95f35c",
       "version_major": 2,
       "version_minor": 0
      },
      "text/plain": [
       "  0%|          | 0/58 [00:00<?, ?it/s]"
      ]
     },
     "metadata": {},
     "output_type": "display_data"
    },
    {
     "data": {
      "application/vnd.jupyter.widget-view+json": {
       "model_id": "c2248f5e26454c76919ef65628c3a41c",
       "version_major": 2,
       "version_minor": 0
      },
      "text/plain": [
       "  0%|          | 0/58 [00:00<?, ?it/s]"
      ]
     },
     "metadata": {},
     "output_type": "display_data"
    },
    {
     "data": {
      "application/vnd.jupyter.widget-view+json": {
       "model_id": "55802a3da38748b19a4c5ef244035cf8",
       "version_major": 2,
       "version_minor": 0
      },
      "text/plain": [
       "  0%|          | 0/58 [00:00<?, ?it/s]"
      ]
     },
     "metadata": {},
     "output_type": "display_data"
    },
    {
     "data": {
      "application/vnd.jupyter.widget-view+json": {
       "model_id": "031b35a704c54da7b8204ae36bcfd94a",
       "version_major": 2,
       "version_minor": 0
      },
      "text/plain": [
       "  0%|          | 0/58 [00:00<?, ?it/s]"
      ]
     },
     "metadata": {},
     "output_type": "display_data"
    },
    {
     "data": {
      "application/vnd.jupyter.widget-view+json": {
       "model_id": "4ccf155672384a118476c4ef653247d0",
       "version_major": 2,
       "version_minor": 0
      },
      "text/plain": [
       "  0%|          | 0/58 [00:00<?, ?it/s]"
      ]
     },
     "metadata": {},
     "output_type": "display_data"
    },
    {
     "data": {
      "application/vnd.jupyter.widget-view+json": {
       "model_id": "484fb282146845f597fdefc3cfa0636b",
       "version_major": 2,
       "version_minor": 0
      },
      "text/plain": [
       "  0%|          | 0/58 [00:00<?, ?it/s]"
      ]
     },
     "metadata": {},
     "output_type": "display_data"
    },
    {
     "data": {
      "application/vnd.jupyter.widget-view+json": {
       "model_id": "57d0744d7c194907a827df82fa016faa",
       "version_major": 2,
       "version_minor": 0
      },
      "text/plain": [
       "  0%|          | 0/58 [00:00<?, ?it/s]"
      ]
     },
     "metadata": {},
     "output_type": "display_data"
    },
    {
     "data": {
      "application/vnd.jupyter.widget-view+json": {
       "model_id": "b18b68cf7d90488b9803fd1978f9366a",
       "version_major": 2,
       "version_minor": 0
      },
      "text/plain": [
       "  0%|          | 0/58 [00:00<?, ?it/s]"
      ]
     },
     "metadata": {},
     "output_type": "display_data"
    },
    {
     "data": {
      "application/vnd.jupyter.widget-view+json": {
       "model_id": "4af596fa69a94e609cef4e62b7919f08",
       "version_major": 2,
       "version_minor": 0
      },
      "text/plain": [
       "  0%|          | 0/58 [00:00<?, ?it/s]"
      ]
     },
     "metadata": {},
     "output_type": "display_data"
    },
    {
     "data": {
      "application/vnd.jupyter.widget-view+json": {
       "model_id": "82b0ea27ed604fccbc421df98169b41c",
       "version_major": 2,
       "version_minor": 0
      },
      "text/plain": [
       "  0%|          | 0/58 [00:00<?, ?it/s]"
      ]
     },
     "metadata": {},
     "output_type": "display_data"
    },
    {
     "data": {
      "application/vnd.jupyter.widget-view+json": {
       "model_id": "8f849a6da2eb4c8b8781c913156d08c1",
       "version_major": 2,
       "version_minor": 0
      },
      "text/plain": [
       "  0%|          | 0/58 [00:00<?, ?it/s]"
      ]
     },
     "metadata": {},
     "output_type": "display_data"
    },
    {
     "data": {
      "application/vnd.jupyter.widget-view+json": {
       "model_id": "6a1ab45282374615ba7e8eb1088645ca",
       "version_major": 2,
       "version_minor": 0
      },
      "text/plain": [
       "  0%|          | 0/58 [00:00<?, ?it/s]"
      ]
     },
     "metadata": {},
     "output_type": "display_data"
    },
    {
     "data": {
      "application/vnd.jupyter.widget-view+json": {
       "model_id": "5d154d671a8147669ea92f865284c13a",
       "version_major": 2,
       "version_minor": 0
      },
      "text/plain": [
       "  0%|          | 0/58 [00:00<?, ?it/s]"
      ]
     },
     "metadata": {},
     "output_type": "display_data"
    },
    {
     "data": {
      "application/vnd.jupyter.widget-view+json": {
       "model_id": "a15bc50a908140d9becf4eca9c8fd055",
       "version_major": 2,
       "version_minor": 0
      },
      "text/plain": [
       "  0%|          | 0/58 [00:00<?, ?it/s]"
      ]
     },
     "metadata": {},
     "output_type": "display_data"
    },
    {
     "data": {
      "application/vnd.jupyter.widget-view+json": {
       "model_id": "94f79e98d4b847dca131c9d96e5370ff",
       "version_major": 2,
       "version_minor": 0
      },
      "text/plain": [
       "  0%|          | 0/58 [00:00<?, ?it/s]"
      ]
     },
     "metadata": {},
     "output_type": "display_data"
    },
    {
     "data": {
      "application/vnd.jupyter.widget-view+json": {
       "model_id": "164b2ac4c36a4d339e98c18eebb84ecb",
       "version_major": 2,
       "version_minor": 0
      },
      "text/plain": [
       "  0%|          | 0/58 [00:00<?, ?it/s]"
      ]
     },
     "metadata": {},
     "output_type": "display_data"
    },
    {
     "data": {
      "application/vnd.jupyter.widget-view+json": {
       "model_id": "01997b596d924c82b9615af24d5d89da",
       "version_major": 2,
       "version_minor": 0
      },
      "text/plain": [
       "  0%|          | 0/58 [00:00<?, ?it/s]"
      ]
     },
     "metadata": {},
     "output_type": "display_data"
    },
    {
     "data": {
      "application/vnd.jupyter.widget-view+json": {
       "model_id": "84be2838e2c443f3b06cfe34c5c2f0ce",
       "version_major": 2,
       "version_minor": 0
      },
      "text/plain": [
       "  0%|          | 0/58 [00:00<?, ?it/s]"
      ]
     },
     "metadata": {},
     "output_type": "display_data"
    },
    {
     "data": {
      "application/vnd.jupyter.widget-view+json": {
       "model_id": "ade7d19598d64acd846cbbcef3ab581d",
       "version_major": 2,
       "version_minor": 0
      },
      "text/plain": [
       "  0%|          | 0/58 [00:00<?, ?it/s]"
      ]
     },
     "metadata": {},
     "output_type": "display_data"
    },
    {
     "data": {
      "application/vnd.jupyter.widget-view+json": {
       "model_id": "2fb656f20c3c4849b30887d5c5ddd6fa",
       "version_major": 2,
       "version_minor": 0
      },
      "text/plain": [
       "  0%|          | 0/58 [00:00<?, ?it/s]"
      ]
     },
     "metadata": {},
     "output_type": "display_data"
    },
    {
     "data": {
      "application/vnd.jupyter.widget-view+json": {
       "model_id": "de4eba30243c4650b3e5141a65a590a6",
       "version_major": 2,
       "version_minor": 0
      },
      "text/plain": [
       "  0%|          | 0/58 [00:00<?, ?it/s]"
      ]
     },
     "metadata": {},
     "output_type": "display_data"
    },
    {
     "data": {
      "application/vnd.jupyter.widget-view+json": {
       "model_id": "3f118e7e57bc4d35b225eb833d89803c",
       "version_major": 2,
       "version_minor": 0
      },
      "text/plain": [
       "  0%|          | 0/58 [00:00<?, ?it/s]"
      ]
     },
     "metadata": {},
     "output_type": "display_data"
    },
    {
     "data": {
      "application/vnd.jupyter.widget-view+json": {
       "model_id": "7bc3204bb85349b7b5a6a0ac0c7244ad",
       "version_major": 2,
       "version_minor": 0
      },
      "text/plain": [
       "  0%|          | 0/58 [00:00<?, ?it/s]"
      ]
     },
     "metadata": {},
     "output_type": "display_data"
    },
    {
     "data": {
      "application/vnd.jupyter.widget-view+json": {
       "model_id": "959b4d8fc92446828e66d4548617cebf",
       "version_major": 2,
       "version_minor": 0
      },
      "text/plain": [
       "  0%|          | 0/58 [00:00<?, ?it/s]"
      ]
     },
     "metadata": {},
     "output_type": "display_data"
    },
    {
     "data": {
      "application/vnd.jupyter.widget-view+json": {
       "model_id": "22ec1a5474e94abb8a4d8ee3bc7fbeeb",
       "version_major": 2,
       "version_minor": 0
      },
      "text/plain": [
       "  0%|          | 0/58 [00:00<?, ?it/s]"
      ]
     },
     "metadata": {},
     "output_type": "display_data"
    },
    {
     "data": {
      "application/vnd.jupyter.widget-view+json": {
       "model_id": "a9893a16823242d0bbf8efe82b3b7684",
       "version_major": 2,
       "version_minor": 0
      },
      "text/plain": [
       "  0%|          | 0/58 [00:00<?, ?it/s]"
      ]
     },
     "metadata": {},
     "output_type": "display_data"
    },
    {
     "data": {
      "application/vnd.jupyter.widget-view+json": {
       "model_id": "f59b2323646e40159c9be88da6db78a5",
       "version_major": 2,
       "version_minor": 0
      },
      "text/plain": [
       "  0%|          | 0/58 [00:00<?, ?it/s]"
      ]
     },
     "metadata": {},
     "output_type": "display_data"
    },
    {
     "data": {
      "application/vnd.jupyter.widget-view+json": {
       "model_id": "c3b0643f8c7a44b68a2b207992203355",
       "version_major": 2,
       "version_minor": 0
      },
      "text/plain": [
       "  0%|          | 0/58 [00:00<?, ?it/s]"
      ]
     },
     "metadata": {},
     "output_type": "display_data"
    },
    {
     "data": {
      "application/vnd.jupyter.widget-view+json": {
       "model_id": "fc5f6adced634f3bb4c72eaacb755e82",
       "version_major": 2,
       "version_minor": 0
      },
      "text/plain": [
       "  0%|          | 0/58 [00:00<?, ?it/s]"
      ]
     },
     "metadata": {},
     "output_type": "display_data"
    },
    {
     "data": {
      "application/vnd.jupyter.widget-view+json": {
       "model_id": "44421722353949f5b6131a1f67007b33",
       "version_major": 2,
       "version_minor": 0
      },
      "text/plain": [
       "  0%|          | 0/58 [00:00<?, ?it/s]"
      ]
     },
     "metadata": {},
     "output_type": "display_data"
    },
    {
     "data": {
      "application/vnd.jupyter.widget-view+json": {
       "model_id": "37967a8a4162488095c2d50bf92fb47f",
       "version_major": 2,
       "version_minor": 0
      },
      "text/plain": [
       "  0%|          | 0/58 [00:00<?, ?it/s]"
      ]
     },
     "metadata": {},
     "output_type": "display_data"
    },
    {
     "data": {
      "application/vnd.jupyter.widget-view+json": {
       "model_id": "e9de302952e94c0eaf4c6ee26216cdfc",
       "version_major": 2,
       "version_minor": 0
      },
      "text/plain": [
       "  0%|          | 0/58 [00:00<?, ?it/s]"
      ]
     },
     "metadata": {},
     "output_type": "display_data"
    },
    {
     "data": {
      "application/vnd.jupyter.widget-view+json": {
       "model_id": "1a6385f7cebe4f9ea5107d2e1295bfc2",
       "version_major": 2,
       "version_minor": 0
      },
      "text/plain": [
       "  0%|          | 0/58 [00:00<?, ?it/s]"
      ]
     },
     "metadata": {},
     "output_type": "display_data"
    },
    {
     "data": {
      "application/vnd.jupyter.widget-view+json": {
       "model_id": "7550b71e86ed40859a6b1a2b035511dc",
       "version_major": 2,
       "version_minor": 0
      },
      "text/plain": [
       "  0%|          | 0/58 [00:00<?, ?it/s]"
      ]
     },
     "metadata": {},
     "output_type": "display_data"
    },
    {
     "data": {
      "application/vnd.jupyter.widget-view+json": {
       "model_id": "0b5fc0c8bac04a3fa52c06373e19dd41",
       "version_major": 2,
       "version_minor": 0
      },
      "text/plain": [
       "  0%|          | 0/58 [00:00<?, ?it/s]"
      ]
     },
     "metadata": {},
     "output_type": "display_data"
    },
    {
     "data": {
      "application/vnd.jupyter.widget-view+json": {
       "model_id": "e0333c04738f49e58d4f9a9cc1118506",
       "version_major": 2,
       "version_minor": 0
      },
      "text/plain": [
       "  0%|          | 0/58 [00:00<?, ?it/s]"
      ]
     },
     "metadata": {},
     "output_type": "display_data"
    },
    {
     "data": {
      "application/vnd.jupyter.widget-view+json": {
       "model_id": "bad81ada1f5e424697e22e54f4e3d09a",
       "version_major": 2,
       "version_minor": 0
      },
      "text/plain": [
       "  0%|          | 0/58 [00:00<?, ?it/s]"
      ]
     },
     "metadata": {},
     "output_type": "display_data"
    },
    {
     "data": {
      "application/vnd.jupyter.widget-view+json": {
       "model_id": "34cc08a4b5ca4511a4e35baebde03d2f",
       "version_major": 2,
       "version_minor": 0
      },
      "text/plain": [
       "  0%|          | 0/58 [00:00<?, ?it/s]"
      ]
     },
     "metadata": {},
     "output_type": "display_data"
    },
    {
     "data": {
      "application/vnd.jupyter.widget-view+json": {
       "model_id": "66c11272fb47469faa6ef4a4ee7fc58d",
       "version_major": 2,
       "version_minor": 0
      },
      "text/plain": [
       "  0%|          | 0/58 [00:00<?, ?it/s]"
      ]
     },
     "metadata": {},
     "output_type": "display_data"
    },
    {
     "data": {
      "application/vnd.jupyter.widget-view+json": {
       "model_id": "14c6ded089534010a5bb2dbadcc0b131",
       "version_major": 2,
       "version_minor": 0
      },
      "text/plain": [
       "  0%|          | 0/58 [00:00<?, ?it/s]"
      ]
     },
     "metadata": {},
     "output_type": "display_data"
    },
    {
     "data": {
      "application/vnd.jupyter.widget-view+json": {
       "model_id": "eb77aeedae3f40bbb0f7737ce7d5442a",
       "version_major": 2,
       "version_minor": 0
      },
      "text/plain": [
       "  0%|          | 0/58 [00:00<?, ?it/s]"
      ]
     },
     "metadata": {},
     "output_type": "display_data"
    },
    {
     "data": {
      "application/vnd.jupyter.widget-view+json": {
       "model_id": "6ea82054cd5c4694847da808b62985ab",
       "version_major": 2,
       "version_minor": 0
      },
      "text/plain": [
       "  0%|          | 0/58 [00:00<?, ?it/s]"
      ]
     },
     "metadata": {},
     "output_type": "display_data"
    },
    {
     "data": {
      "application/vnd.jupyter.widget-view+json": {
       "model_id": "900ce9e8413e4e6e86db3736c845ed89",
       "version_major": 2,
       "version_minor": 0
      },
      "text/plain": [
       "  0%|          | 0/58 [00:00<?, ?it/s]"
      ]
     },
     "metadata": {},
     "output_type": "display_data"
    },
    {
     "data": {
      "application/vnd.jupyter.widget-view+json": {
       "model_id": "e37d061244fc4c40ae7948b5a92d376a",
       "version_major": 2,
       "version_minor": 0
      },
      "text/plain": [
       "  0%|          | 0/58 [00:00<?, ?it/s]"
      ]
     },
     "metadata": {},
     "output_type": "display_data"
    },
    {
     "data": {
      "application/vnd.jupyter.widget-view+json": {
       "model_id": "fcb075fac26e4021ac5f787934c23a3f",
       "version_major": 2,
       "version_minor": 0
      },
      "text/plain": [
       "  0%|          | 0/58 [00:00<?, ?it/s]"
      ]
     },
     "metadata": {},
     "output_type": "display_data"
    },
    {
     "data": {
      "application/vnd.jupyter.widget-view+json": {
       "model_id": "a8fd88ee38134c58aa2562438504a547",
       "version_major": 2,
       "version_minor": 0
      },
      "text/plain": [
       "  0%|          | 0/58 [00:00<?, ?it/s]"
      ]
     },
     "metadata": {},
     "output_type": "display_data"
    },
    {
     "data": {
      "application/vnd.jupyter.widget-view+json": {
       "model_id": "f869c1077a9b43648869254bbcf6ba2c",
       "version_major": 2,
       "version_minor": 0
      },
      "text/plain": [
       "  0%|          | 0/58 [00:00<?, ?it/s]"
      ]
     },
     "metadata": {},
     "output_type": "display_data"
    },
    {
     "data": {
      "application/vnd.jupyter.widget-view+json": {
       "model_id": "5d1ae5390d0e49968e3b1802730a04f7",
       "version_major": 2,
       "version_minor": 0
      },
      "text/plain": [
       "  0%|          | 0/58 [00:00<?, ?it/s]"
      ]
     },
     "metadata": {},
     "output_type": "display_data"
    },
    {
     "data": {
      "application/vnd.jupyter.widget-view+json": {
       "model_id": "bad2c6ec252d49ea894eba3860e4ee22",
       "version_major": 2,
       "version_minor": 0
      },
      "text/plain": [
       "  0%|          | 0/58 [00:00<?, ?it/s]"
      ]
     },
     "metadata": {},
     "output_type": "display_data"
    },
    {
     "data": {
      "application/vnd.jupyter.widget-view+json": {
       "model_id": "98e7bd720c9b4b389e135e64afd08b34",
       "version_major": 2,
       "version_minor": 0
      },
      "text/plain": [
       "  0%|          | 0/58 [00:00<?, ?it/s]"
      ]
     },
     "metadata": {},
     "output_type": "display_data"
    },
    {
     "ename": "NameError",
     "evalue": "name 'xval' is not defined",
     "output_type": "error",
     "traceback": [
      "\u001b[0;31m---------------------------------------------------------------------------\u001b[0m",
      "\u001b[0;31mNameError\u001b[0m                                 Traceback (most recent call last)",
      "Cell \u001b[0;32mIn[5], line 20\u001b[0m\n\u001b[1;32m     17\u001b[0m         optim_fno\u001b[38;5;241m.\u001b[39mzero_grad()\n\u001b[1;32m     19\u001b[0m \u001b[38;5;28;01mwith\u001b[39;00m torch\u001b[38;5;241m.\u001b[39mno_grad():\n\u001b[0;32m---> 20\u001b[0m     yval_fno \u001b[38;5;241m=\u001b[39m torch2jax(fno(jax2torch(\u001b[43mxval\u001b[49m)\u001b[38;5;241m.\u001b[39mto(device))\u001b[38;5;241m.\u001b[39mcpu())\u001b[38;5;241m.\u001b[39msqueeze()\n",
      "\u001b[0;31mNameError\u001b[0m: name 'xval' is not defined"
     ]
    }
   ],
   "source": [
    "loss_fn = nn.MSELoss()\n",
    "\n",
    "fno = FNO(n_modes=(16,32), \n",
    "             hidden_channels=64, \n",
    "             in_channels=1, \n",
    "             out_channels=1)\n",
    "fno.to(device)\n",
    "optim_fno = torch.optim.Adam(fno.parameters(), lr = 1e-3)\n",
    "\n",
    "epochs = 50\n",
    "for _ in trange(epochs):\n",
    "    for xt, yt in tqdm(train_loader, leave = False):  \n",
    "        yhat = fno(xt.to(device))\n",
    "        loss = loss_fn(yhat, yt.to(device))\n",
    "        loss.backward()\n",
    "        optim_fno.step()\n",
    "        optim_fno.zero_grad()\n",
    "        \n",
    "with torch.no_grad():\n",
    "    yval_fno = torch2jax(fno(jax2torch(xval).to(device)).cpu()).squeeze()"
   ]
  },
  {
   "cell_type": "code",
   "execution_count": 6,
   "id": "fc9145e2-22af-4888-b303-65fe9ea48dcc",
   "metadata": {},
   "outputs": [
    {
     "data": {
      "application/vnd.jupyter.widget-view+json": {
       "model_id": "797a05276a654561a50b64fb834a9488",
       "version_major": 2,
       "version_minor": 0
      },
      "text/plain": [
       "  0%|          | 0/50 [00:00<?, ?it/s]"
      ]
     },
     "metadata": {},
     "output_type": "display_data"
    },
    {
     "data": {
      "application/vnd.jupyter.widget-view+json": {
       "model_id": "74214310d9bf4cf5bd296d4b65fdadf5",
       "version_major": 2,
       "version_minor": 0
      },
      "text/plain": [
       "  0%|          | 0/58 [00:00<?, ?it/s]"
      ]
     },
     "metadata": {},
     "output_type": "display_data"
    },
    {
     "data": {
      "application/vnd.jupyter.widget-view+json": {
       "model_id": "56347a9d8f694f0d942e37cda6a4a12b",
       "version_major": 2,
       "version_minor": 0
      },
      "text/plain": [
       "  0%|          | 0/58 [00:00<?, ?it/s]"
      ]
     },
     "metadata": {},
     "output_type": "display_data"
    },
    {
     "data": {
      "application/vnd.jupyter.widget-view+json": {
       "model_id": "3f310a23bd7f4bef96cb8996e7af7d25",
       "version_major": 2,
       "version_minor": 0
      },
      "text/plain": [
       "  0%|          | 0/58 [00:00<?, ?it/s]"
      ]
     },
     "metadata": {},
     "output_type": "display_data"
    },
    {
     "data": {
      "application/vnd.jupyter.widget-view+json": {
       "model_id": "57e9b3bd75564be1b2aa3a254abe7e4e",
       "version_major": 2,
       "version_minor": 0
      },
      "text/plain": [
       "  0%|          | 0/58 [00:00<?, ?it/s]"
      ]
     },
     "metadata": {},
     "output_type": "display_data"
    },
    {
     "data": {
      "application/vnd.jupyter.widget-view+json": {
       "model_id": "2c891bdfde5f4f4498106af3f0653620",
       "version_major": 2,
       "version_minor": 0
      },
      "text/plain": [
       "  0%|          | 0/58 [00:00<?, ?it/s]"
      ]
     },
     "metadata": {},
     "output_type": "display_data"
    },
    {
     "data": {
      "application/vnd.jupyter.widget-view+json": {
       "model_id": "2b21bfb1b0be4538bc6daa322db091fa",
       "version_major": 2,
       "version_minor": 0
      },
      "text/plain": [
       "  0%|          | 0/58 [00:00<?, ?it/s]"
      ]
     },
     "metadata": {},
     "output_type": "display_data"
    },
    {
     "data": {
      "application/vnd.jupyter.widget-view+json": {
       "model_id": "b73483629a0c41b393657ab5c9134a43",
       "version_major": 2,
       "version_minor": 0
      },
      "text/plain": [
       "  0%|          | 0/58 [00:00<?, ?it/s]"
      ]
     },
     "metadata": {},
     "output_type": "display_data"
    },
    {
     "data": {
      "application/vnd.jupyter.widget-view+json": {
       "model_id": "9bbb612d84964e2883e847abdd95ec5c",
       "version_major": 2,
       "version_minor": 0
      },
      "text/plain": [
       "  0%|          | 0/58 [00:00<?, ?it/s]"
      ]
     },
     "metadata": {},
     "output_type": "display_data"
    },
    {
     "data": {
      "application/vnd.jupyter.widget-view+json": {
       "model_id": "357b02336b1f4839b81d2c5500f3e209",
       "version_major": 2,
       "version_minor": 0
      },
      "text/plain": [
       "  0%|          | 0/58 [00:00<?, ?it/s]"
      ]
     },
     "metadata": {},
     "output_type": "display_data"
    },
    {
     "data": {
      "application/vnd.jupyter.widget-view+json": {
       "model_id": "f2c04756f7fa4f43a32b35f3a6c45bb1",
       "version_major": 2,
       "version_minor": 0
      },
      "text/plain": [
       "  0%|          | 0/58 [00:00<?, ?it/s]"
      ]
     },
     "metadata": {},
     "output_type": "display_data"
    },
    {
     "data": {
      "application/vnd.jupyter.widget-view+json": {
       "model_id": "5199d7456b3643199154583eb8f0e564",
       "version_major": 2,
       "version_minor": 0
      },
      "text/plain": [
       "  0%|          | 0/58 [00:00<?, ?it/s]"
      ]
     },
     "metadata": {},
     "output_type": "display_data"
    },
    {
     "data": {
      "application/vnd.jupyter.widget-view+json": {
       "model_id": "c389fa48df0940afbdde1ec4c7c7c303",
       "version_major": 2,
       "version_minor": 0
      },
      "text/plain": [
       "  0%|          | 0/58 [00:00<?, ?it/s]"
      ]
     },
     "metadata": {},
     "output_type": "display_data"
    },
    {
     "data": {
      "application/vnd.jupyter.widget-view+json": {
       "model_id": "a09fe1a7fd3b4da2a6a6cc56fa0a826f",
       "version_major": 2,
       "version_minor": 0
      },
      "text/plain": [
       "  0%|          | 0/58 [00:00<?, ?it/s]"
      ]
     },
     "metadata": {},
     "output_type": "display_data"
    },
    {
     "data": {
      "application/vnd.jupyter.widget-view+json": {
       "model_id": "916bc0da6618443289f5b310075fe760",
       "version_major": 2,
       "version_minor": 0
      },
      "text/plain": [
       "  0%|          | 0/58 [00:00<?, ?it/s]"
      ]
     },
     "metadata": {},
     "output_type": "display_data"
    },
    {
     "data": {
      "application/vnd.jupyter.widget-view+json": {
       "model_id": "8c5f42ebd52f45b896a075d62cb9ade3",
       "version_major": 2,
       "version_minor": 0
      },
      "text/plain": [
       "  0%|          | 0/58 [00:00<?, ?it/s]"
      ]
     },
     "metadata": {},
     "output_type": "display_data"
    },
    {
     "data": {
      "application/vnd.jupyter.widget-view+json": {
       "model_id": "65c44bd73cbb4b35bc59ff616a8fb622",
       "version_major": 2,
       "version_minor": 0
      },
      "text/plain": [
       "  0%|          | 0/58 [00:00<?, ?it/s]"
      ]
     },
     "metadata": {},
     "output_type": "display_data"
    },
    {
     "data": {
      "application/vnd.jupyter.widget-view+json": {
       "model_id": "2437267d5aef468f9264bc168eb898f2",
       "version_major": 2,
       "version_minor": 0
      },
      "text/plain": [
       "  0%|          | 0/58 [00:00<?, ?it/s]"
      ]
     },
     "metadata": {},
     "output_type": "display_data"
    },
    {
     "data": {
      "application/vnd.jupyter.widget-view+json": {
       "model_id": "7d2a4c81456b4b668a1f78e99ab977f0",
       "version_major": 2,
       "version_minor": 0
      },
      "text/plain": [
       "  0%|          | 0/58 [00:00<?, ?it/s]"
      ]
     },
     "metadata": {},
     "output_type": "display_data"
    },
    {
     "data": {
      "application/vnd.jupyter.widget-view+json": {
       "model_id": "e7e63c50d89347fdab07a70137183ca3",
       "version_major": 2,
       "version_minor": 0
      },
      "text/plain": [
       "  0%|          | 0/58 [00:00<?, ?it/s]"
      ]
     },
     "metadata": {},
     "output_type": "display_data"
    },
    {
     "data": {
      "application/vnd.jupyter.widget-view+json": {
       "model_id": "977c6773506c4c60984b10d594e58c70",
       "version_major": 2,
       "version_minor": 0
      },
      "text/plain": [
       "  0%|          | 0/58 [00:00<?, ?it/s]"
      ]
     },
     "metadata": {},
     "output_type": "display_data"
    },
    {
     "data": {
      "application/vnd.jupyter.widget-view+json": {
       "model_id": "8587fb0d47d343ee98accfa26d4cba9d",
       "version_major": 2,
       "version_minor": 0
      },
      "text/plain": [
       "  0%|          | 0/58 [00:00<?, ?it/s]"
      ]
     },
     "metadata": {},
     "output_type": "display_data"
    },
    {
     "data": {
      "application/vnd.jupyter.widget-view+json": {
       "model_id": "b4cc27c676d943b28abc729ec121383d",
       "version_major": 2,
       "version_minor": 0
      },
      "text/plain": [
       "  0%|          | 0/58 [00:00<?, ?it/s]"
      ]
     },
     "metadata": {},
     "output_type": "display_data"
    },
    {
     "data": {
      "application/vnd.jupyter.widget-view+json": {
       "model_id": "d619f8919ed546309039e6a802ba7e17",
       "version_major": 2,
       "version_minor": 0
      },
      "text/plain": [
       "  0%|          | 0/58 [00:00<?, ?it/s]"
      ]
     },
     "metadata": {},
     "output_type": "display_data"
    },
    {
     "data": {
      "application/vnd.jupyter.widget-view+json": {
       "model_id": "974c180035f746c1ac182b628242865c",
       "version_major": 2,
       "version_minor": 0
      },
      "text/plain": [
       "  0%|          | 0/58 [00:00<?, ?it/s]"
      ]
     },
     "metadata": {},
     "output_type": "display_data"
    },
    {
     "data": {
      "application/vnd.jupyter.widget-view+json": {
       "model_id": "e84bece2ea504e828e5c52086d8f83bb",
       "version_major": 2,
       "version_minor": 0
      },
      "text/plain": [
       "  0%|          | 0/58 [00:00<?, ?it/s]"
      ]
     },
     "metadata": {},
     "output_type": "display_data"
    },
    {
     "data": {
      "application/vnd.jupyter.widget-view+json": {
       "model_id": "cefaf4354e9d4cd2a1d9da1ad95a9013",
       "version_major": 2,
       "version_minor": 0
      },
      "text/plain": [
       "  0%|          | 0/58 [00:00<?, ?it/s]"
      ]
     },
     "metadata": {},
     "output_type": "display_data"
    },
    {
     "data": {
      "application/vnd.jupyter.widget-view+json": {
       "model_id": "04d9f214ccb740fba70fa2dcb197b3b3",
       "version_major": 2,
       "version_minor": 0
      },
      "text/plain": [
       "  0%|          | 0/58 [00:00<?, ?it/s]"
      ]
     },
     "metadata": {},
     "output_type": "display_data"
    },
    {
     "data": {
      "application/vnd.jupyter.widget-view+json": {
       "model_id": "8d3c1dfa21a2423ea17799be78312c9f",
       "version_major": 2,
       "version_minor": 0
      },
      "text/plain": [
       "  0%|          | 0/58 [00:00<?, ?it/s]"
      ]
     },
     "metadata": {},
     "output_type": "display_data"
    },
    {
     "data": {
      "application/vnd.jupyter.widget-view+json": {
       "model_id": "94c9f8387b014c339c35d9c9a683d6cc",
       "version_major": 2,
       "version_minor": 0
      },
      "text/plain": [
       "  0%|          | 0/58 [00:00<?, ?it/s]"
      ]
     },
     "metadata": {},
     "output_type": "display_data"
    },
    {
     "data": {
      "application/vnd.jupyter.widget-view+json": {
       "model_id": "11107aeeb02f47a6994a46bebb5185d2",
       "version_major": 2,
       "version_minor": 0
      },
      "text/plain": [
       "  0%|          | 0/58 [00:00<?, ?it/s]"
      ]
     },
     "metadata": {},
     "output_type": "display_data"
    },
    {
     "data": {
      "application/vnd.jupyter.widget-view+json": {
       "model_id": "522f94186ce84caf9a7c57314c5a91d4",
       "version_major": 2,
       "version_minor": 0
      },
      "text/plain": [
       "  0%|          | 0/58 [00:00<?, ?it/s]"
      ]
     },
     "metadata": {},
     "output_type": "display_data"
    },
    {
     "data": {
      "application/vnd.jupyter.widget-view+json": {
       "model_id": "8a1778d8337648818d71f70edb5bf9e8",
       "version_major": 2,
       "version_minor": 0
      },
      "text/plain": [
       "  0%|          | 0/58 [00:00<?, ?it/s]"
      ]
     },
     "metadata": {},
     "output_type": "display_data"
    },
    {
     "data": {
      "application/vnd.jupyter.widget-view+json": {
       "model_id": "05797dbe0df14fee8968de0f77e862e0",
       "version_major": 2,
       "version_minor": 0
      },
      "text/plain": [
       "  0%|          | 0/58 [00:00<?, ?it/s]"
      ]
     },
     "metadata": {},
     "output_type": "display_data"
    },
    {
     "data": {
      "application/vnd.jupyter.widget-view+json": {
       "model_id": "e40a7836f20b4060bf3f6e9c0794f9b8",
       "version_major": 2,
       "version_minor": 0
      },
      "text/plain": [
       "  0%|          | 0/58 [00:00<?, ?it/s]"
      ]
     },
     "metadata": {},
     "output_type": "display_data"
    },
    {
     "data": {
      "application/vnd.jupyter.widget-view+json": {
       "model_id": "9c4a9de810f243dab4dd38aca59eb67c",
       "version_major": 2,
       "version_minor": 0
      },
      "text/plain": [
       "  0%|          | 0/58 [00:00<?, ?it/s]"
      ]
     },
     "metadata": {},
     "output_type": "display_data"
    },
    {
     "data": {
      "application/vnd.jupyter.widget-view+json": {
       "model_id": "2047cb66c8a644b4b9bf67dd84b8984b",
       "version_major": 2,
       "version_minor": 0
      },
      "text/plain": [
       "  0%|          | 0/58 [00:00<?, ?it/s]"
      ]
     },
     "metadata": {},
     "output_type": "display_data"
    },
    {
     "data": {
      "application/vnd.jupyter.widget-view+json": {
       "model_id": "190ead1ece914b0b80ca92cd8a344796",
       "version_major": 2,
       "version_minor": 0
      },
      "text/plain": [
       "  0%|          | 0/58 [00:00<?, ?it/s]"
      ]
     },
     "metadata": {},
     "output_type": "display_data"
    },
    {
     "data": {
      "application/vnd.jupyter.widget-view+json": {
       "model_id": "d7fa7f1e3f7d4f5cbdff01e0a3937fdc",
       "version_major": 2,
       "version_minor": 0
      },
      "text/plain": [
       "  0%|          | 0/58 [00:00<?, ?it/s]"
      ]
     },
     "metadata": {},
     "output_type": "display_data"
    },
    {
     "data": {
      "application/vnd.jupyter.widget-view+json": {
       "model_id": "334024193f884ae7b94f9d6214e54658",
       "version_major": 2,
       "version_minor": 0
      },
      "text/plain": [
       "  0%|          | 0/58 [00:00<?, ?it/s]"
      ]
     },
     "metadata": {},
     "output_type": "display_data"
    },
    {
     "data": {
      "application/vnd.jupyter.widget-view+json": {
       "model_id": "28ef94e73ff243b192d83e36234ce37b",
       "version_major": 2,
       "version_minor": 0
      },
      "text/plain": [
       "  0%|          | 0/58 [00:00<?, ?it/s]"
      ]
     },
     "metadata": {},
     "output_type": "display_data"
    },
    {
     "data": {
      "application/vnd.jupyter.widget-view+json": {
       "model_id": "c87690d098134311bef9ad315b21ffc0",
       "version_major": 2,
       "version_minor": 0
      },
      "text/plain": [
       "  0%|          | 0/58 [00:00<?, ?it/s]"
      ]
     },
     "metadata": {},
     "output_type": "display_data"
    },
    {
     "data": {
      "application/vnd.jupyter.widget-view+json": {
       "model_id": "45a80d6f822f4dcd850318a5cc259717",
       "version_major": 2,
       "version_minor": 0
      },
      "text/plain": [
       "  0%|          | 0/58 [00:00<?, ?it/s]"
      ]
     },
     "metadata": {},
     "output_type": "display_data"
    },
    {
     "data": {
      "application/vnd.jupyter.widget-view+json": {
       "model_id": "d39c9678be6d4c3786bba53771c68dea",
       "version_major": 2,
       "version_minor": 0
      },
      "text/plain": [
       "  0%|          | 0/58 [00:00<?, ?it/s]"
      ]
     },
     "metadata": {},
     "output_type": "display_data"
    },
    {
     "data": {
      "application/vnd.jupyter.widget-view+json": {
       "model_id": "4682680f096647f2b122db7a5dc3c6c0",
       "version_major": 2,
       "version_minor": 0
      },
      "text/plain": [
       "  0%|          | 0/58 [00:00<?, ?it/s]"
      ]
     },
     "metadata": {},
     "output_type": "display_data"
    },
    {
     "data": {
      "application/vnd.jupyter.widget-view+json": {
       "model_id": "f1e22d96a83c47bbbf339fe457d39bf5",
       "version_major": 2,
       "version_minor": 0
      },
      "text/plain": [
       "  0%|          | 0/58 [00:00<?, ?it/s]"
      ]
     },
     "metadata": {},
     "output_type": "display_data"
    },
    {
     "data": {
      "application/vnd.jupyter.widget-view+json": {
       "model_id": "9cf0b70fd08d4d459e3687abb8112314",
       "version_major": 2,
       "version_minor": 0
      },
      "text/plain": [
       "  0%|          | 0/58 [00:00<?, ?it/s]"
      ]
     },
     "metadata": {},
     "output_type": "display_data"
    },
    {
     "data": {
      "application/vnd.jupyter.widget-view+json": {
       "model_id": "fce9624038fe437d96be3d3f5781177d",
       "version_major": 2,
       "version_minor": 0
      },
      "text/plain": [
       "  0%|          | 0/58 [00:00<?, ?it/s]"
      ]
     },
     "metadata": {},
     "output_type": "display_data"
    },
    {
     "data": {
      "application/vnd.jupyter.widget-view+json": {
       "model_id": "8aff82d4870c48b787d4a76cf6b041d0",
       "version_major": 2,
       "version_minor": 0
      },
      "text/plain": [
       "  0%|          | 0/58 [00:00<?, ?it/s]"
      ]
     },
     "metadata": {},
     "output_type": "display_data"
    },
    {
     "data": {
      "application/vnd.jupyter.widget-view+json": {
       "model_id": "cc4d7dbe8f2145f58644f93449868dd0",
       "version_major": 2,
       "version_minor": 0
      },
      "text/plain": [
       "  0%|          | 0/58 [00:00<?, ?it/s]"
      ]
     },
     "metadata": {},
     "output_type": "display_data"
    },
    {
     "data": {
      "application/vnd.jupyter.widget-view+json": {
       "model_id": "5362d36a625644ae9c2805ce90a31d8b",
       "version_major": 2,
       "version_minor": 0
      },
      "text/plain": [
       "  0%|          | 0/58 [00:00<?, ?it/s]"
      ]
     },
     "metadata": {},
     "output_type": "display_data"
    }
   ],
   "source": [
    "loss_fn = QuantileLoss(0.9)\n",
    "\n",
    "fno_quant = FNO(n_modes=(16,32), \n",
    "             hidden_channels=64, \n",
    "             in_channels=1, \n",
    "             out_channels=1)\n",
    "fno_quant.to(device)\n",
    "optim_fno = torch.optim.Adam(fno_quant.parameters(), lr = 1e-3)\n",
    "\n",
    "for _ in trange(epochs):\n",
    "    for xt, yt in tqdm(train_loader, leave = False):\n",
    "        xt = xt.to(device)\n",
    "        yt = yt.to(device)\n",
    "        yhat = fno_quant(xt)\n",
    "        loss = loss_fn(yhat, yt)\n",
    "        loss.backward()\n",
    "        optim_fno.step()\n",
    "        optim_fno.zero_grad()"
   ]
  },
  {
   "cell_type": "code",
   "execution_count": 7,
   "id": "1ce5da46-5f64-42e2-bba8-911457db330f",
   "metadata": {},
   "outputs": [
    {
     "data": {
      "application/vnd.jupyter.widget-view+json": {
       "model_id": "5b0bb933f606442c96439eba7f77bc47",
       "version_major": 2,
       "version_minor": 0
      },
      "text/plain": [
       "  0%|          | 0/50 [00:00<?, ?it/s]"
      ]
     },
     "metadata": {},
     "output_type": "display_data"
    },
    {
     "data": {
      "application/vnd.jupyter.widget-view+json": {
       "model_id": "11b8492322854b9cb36d2fcd1185c0dc",
       "version_major": 2,
       "version_minor": 0
      },
      "text/plain": [
       "  0%|          | 0/58 [00:00<?, ?it/s]"
      ]
     },
     "metadata": {},
     "output_type": "display_data"
    },
    {
     "data": {
      "application/vnd.jupyter.widget-view+json": {
       "model_id": "6b6d263441f7455a8c2e5f716e29b3fc",
       "version_major": 2,
       "version_minor": 0
      },
      "text/plain": [
       "  0%|          | 0/58 [00:00<?, ?it/s]"
      ]
     },
     "metadata": {},
     "output_type": "display_data"
    },
    {
     "data": {
      "application/vnd.jupyter.widget-view+json": {
       "model_id": "bf5360cd8ff5481d823f05f9380c64ff",
       "version_major": 2,
       "version_minor": 0
      },
      "text/plain": [
       "  0%|          | 0/58 [00:00<?, ?it/s]"
      ]
     },
     "metadata": {},
     "output_type": "display_data"
    },
    {
     "data": {
      "application/vnd.jupyter.widget-view+json": {
       "model_id": "209d6b1768154fd4a9ca0ed1136629ef",
       "version_major": 2,
       "version_minor": 0
      },
      "text/plain": [
       "  0%|          | 0/58 [00:00<?, ?it/s]"
      ]
     },
     "metadata": {},
     "output_type": "display_data"
    },
    {
     "data": {
      "application/vnd.jupyter.widget-view+json": {
       "model_id": "98eb146be887483daddd73d7e9378dce",
       "version_major": 2,
       "version_minor": 0
      },
      "text/plain": [
       "  0%|          | 0/58 [00:00<?, ?it/s]"
      ]
     },
     "metadata": {},
     "output_type": "display_data"
    },
    {
     "data": {
      "application/vnd.jupyter.widget-view+json": {
       "model_id": "1ba40f363cc9449ea5ee00695e6cef35",
       "version_major": 2,
       "version_minor": 0
      },
      "text/plain": [
       "  0%|          | 0/58 [00:00<?, ?it/s]"
      ]
     },
     "metadata": {},
     "output_type": "display_data"
    },
    {
     "data": {
      "application/vnd.jupyter.widget-view+json": {
       "model_id": "ef80bb0cb09549b8abb0b8cf2f2e9eeb",
       "version_major": 2,
       "version_minor": 0
      },
      "text/plain": [
       "  0%|          | 0/58 [00:00<?, ?it/s]"
      ]
     },
     "metadata": {},
     "output_type": "display_data"
    },
    {
     "data": {
      "application/vnd.jupyter.widget-view+json": {
       "model_id": "60c7a264fdc04e61b2cfa159a4298b01",
       "version_major": 2,
       "version_minor": 0
      },
      "text/plain": [
       "  0%|          | 0/58 [00:00<?, ?it/s]"
      ]
     },
     "metadata": {},
     "output_type": "display_data"
    },
    {
     "data": {
      "application/vnd.jupyter.widget-view+json": {
       "model_id": "c2f8fd959716494d8fa5a3b452e3c6ea",
       "version_major": 2,
       "version_minor": 0
      },
      "text/plain": [
       "  0%|          | 0/58 [00:00<?, ?it/s]"
      ]
     },
     "metadata": {},
     "output_type": "display_data"
    },
    {
     "data": {
      "application/vnd.jupyter.widget-view+json": {
       "model_id": "a418eb1267644b61a296d4c520d8b06c",
       "version_major": 2,
       "version_minor": 0
      },
      "text/plain": [
       "  0%|          | 0/58 [00:00<?, ?it/s]"
      ]
     },
     "metadata": {},
     "output_type": "display_data"
    },
    {
     "data": {
      "application/vnd.jupyter.widget-view+json": {
       "model_id": "ccd00a0b1e014aee94b73cdf05a0d426",
       "version_major": 2,
       "version_minor": 0
      },
      "text/plain": [
       "  0%|          | 0/58 [00:00<?, ?it/s]"
      ]
     },
     "metadata": {},
     "output_type": "display_data"
    },
    {
     "data": {
      "application/vnd.jupyter.widget-view+json": {
       "model_id": "b6ed881f7d314293b94534931dd5f238",
       "version_major": 2,
       "version_minor": 0
      },
      "text/plain": [
       "  0%|          | 0/58 [00:00<?, ?it/s]"
      ]
     },
     "metadata": {},
     "output_type": "display_data"
    },
    {
     "data": {
      "application/vnd.jupyter.widget-view+json": {
       "model_id": "e05b441a31ca444baa117a3d62c75e9c",
       "version_major": 2,
       "version_minor": 0
      },
      "text/plain": [
       "  0%|          | 0/58 [00:00<?, ?it/s]"
      ]
     },
     "metadata": {},
     "output_type": "display_data"
    },
    {
     "data": {
      "application/vnd.jupyter.widget-view+json": {
       "model_id": "bcd1b89aa16842599f82c7dad3cd3e7c",
       "version_major": 2,
       "version_minor": 0
      },
      "text/plain": [
       "  0%|          | 0/58 [00:00<?, ?it/s]"
      ]
     },
     "metadata": {},
     "output_type": "display_data"
    },
    {
     "data": {
      "application/vnd.jupyter.widget-view+json": {
       "model_id": "d8f524c71bf748819696897cd371f084",
       "version_major": 2,
       "version_minor": 0
      },
      "text/plain": [
       "  0%|          | 0/58 [00:00<?, ?it/s]"
      ]
     },
     "metadata": {},
     "output_type": "display_data"
    },
    {
     "data": {
      "application/vnd.jupyter.widget-view+json": {
       "model_id": "b4c66245531e4f6284a2a7c588efb33c",
       "version_major": 2,
       "version_minor": 0
      },
      "text/plain": [
       "  0%|          | 0/58 [00:00<?, ?it/s]"
      ]
     },
     "metadata": {},
     "output_type": "display_data"
    },
    {
     "data": {
      "application/vnd.jupyter.widget-view+json": {
       "model_id": "c3406f44b62a41958bd666c0822b6ac1",
       "version_major": 2,
       "version_minor": 0
      },
      "text/plain": [
       "  0%|          | 0/58 [00:00<?, ?it/s]"
      ]
     },
     "metadata": {},
     "output_type": "display_data"
    },
    {
     "data": {
      "application/vnd.jupyter.widget-view+json": {
       "model_id": "4e6ea49971074485b64460c93b60e8af",
       "version_major": 2,
       "version_minor": 0
      },
      "text/plain": [
       "  0%|          | 0/58 [00:00<?, ?it/s]"
      ]
     },
     "metadata": {},
     "output_type": "display_data"
    },
    {
     "data": {
      "application/vnd.jupyter.widget-view+json": {
       "model_id": "af48c71be3d94f21aebf0a08244609c7",
       "version_major": 2,
       "version_minor": 0
      },
      "text/plain": [
       "  0%|          | 0/58 [00:00<?, ?it/s]"
      ]
     },
     "metadata": {},
     "output_type": "display_data"
    },
    {
     "data": {
      "application/vnd.jupyter.widget-view+json": {
       "model_id": "a6b568b7d76f43db91b5d673381ea3f3",
       "version_major": 2,
       "version_minor": 0
      },
      "text/plain": [
       "  0%|          | 0/58 [00:00<?, ?it/s]"
      ]
     },
     "metadata": {},
     "output_type": "display_data"
    },
    {
     "data": {
      "application/vnd.jupyter.widget-view+json": {
       "model_id": "fbb967a494514022b67929adb830d760",
       "version_major": 2,
       "version_minor": 0
      },
      "text/plain": [
       "  0%|          | 0/58 [00:00<?, ?it/s]"
      ]
     },
     "metadata": {},
     "output_type": "display_data"
    },
    {
     "data": {
      "application/vnd.jupyter.widget-view+json": {
       "model_id": "660ed86d38064cea92252e8c6b13eb60",
       "version_major": 2,
       "version_minor": 0
      },
      "text/plain": [
       "  0%|          | 0/58 [00:00<?, ?it/s]"
      ]
     },
     "metadata": {},
     "output_type": "display_data"
    },
    {
     "data": {
      "application/vnd.jupyter.widget-view+json": {
       "model_id": "f3c1a0b413b1455a96584ce989baf8d7",
       "version_major": 2,
       "version_minor": 0
      },
      "text/plain": [
       "  0%|          | 0/58 [00:00<?, ?it/s]"
      ]
     },
     "metadata": {},
     "output_type": "display_data"
    },
    {
     "data": {
      "application/vnd.jupyter.widget-view+json": {
       "model_id": "a55ce2f4e4f9499696656e58e671e7e6",
       "version_major": 2,
       "version_minor": 0
      },
      "text/plain": [
       "  0%|          | 0/58 [00:00<?, ?it/s]"
      ]
     },
     "metadata": {},
     "output_type": "display_data"
    },
    {
     "data": {
      "application/vnd.jupyter.widget-view+json": {
       "model_id": "cd1e1d742efb46ccbfcae4179d837e7e",
       "version_major": 2,
       "version_minor": 0
      },
      "text/plain": [
       "  0%|          | 0/58 [00:00<?, ?it/s]"
      ]
     },
     "metadata": {},
     "output_type": "display_data"
    },
    {
     "data": {
      "application/vnd.jupyter.widget-view+json": {
       "model_id": "2cc32fe2c1e6425e8ad811a5571df40c",
       "version_major": 2,
       "version_minor": 0
      },
      "text/plain": [
       "  0%|          | 0/58 [00:00<?, ?it/s]"
      ]
     },
     "metadata": {},
     "output_type": "display_data"
    },
    {
     "data": {
      "application/vnd.jupyter.widget-view+json": {
       "model_id": "e5ec8b1ba2fc4ff3b82f34c6e07205e6",
       "version_major": 2,
       "version_minor": 0
      },
      "text/plain": [
       "  0%|          | 0/58 [00:00<?, ?it/s]"
      ]
     },
     "metadata": {},
     "output_type": "display_data"
    },
    {
     "data": {
      "application/vnd.jupyter.widget-view+json": {
       "model_id": "f29bac5ac26748678ae0932865c87209",
       "version_major": 2,
       "version_minor": 0
      },
      "text/plain": [
       "  0%|          | 0/58 [00:00<?, ?it/s]"
      ]
     },
     "metadata": {},
     "output_type": "display_data"
    },
    {
     "data": {
      "application/vnd.jupyter.widget-view+json": {
       "model_id": "3b4f61507faf4a348ed3748af9107f57",
       "version_major": 2,
       "version_minor": 0
      },
      "text/plain": [
       "  0%|          | 0/58 [00:00<?, ?it/s]"
      ]
     },
     "metadata": {},
     "output_type": "display_data"
    },
    {
     "data": {
      "application/vnd.jupyter.widget-view+json": {
       "model_id": "546799fb6b2149448644fd7cae5ae4dc",
       "version_major": 2,
       "version_minor": 0
      },
      "text/plain": [
       "  0%|          | 0/58 [00:00<?, ?it/s]"
      ]
     },
     "metadata": {},
     "output_type": "display_data"
    },
    {
     "data": {
      "application/vnd.jupyter.widget-view+json": {
       "model_id": "50a0e4879e8d4573930e0715fc9160fb",
       "version_major": 2,
       "version_minor": 0
      },
      "text/plain": [
       "  0%|          | 0/58 [00:00<?, ?it/s]"
      ]
     },
     "metadata": {},
     "output_type": "display_data"
    },
    {
     "data": {
      "application/vnd.jupyter.widget-view+json": {
       "model_id": "77106e87b965416590343efc5c0db2b3",
       "version_major": 2,
       "version_minor": 0
      },
      "text/plain": [
       "  0%|          | 0/58 [00:00<?, ?it/s]"
      ]
     },
     "metadata": {},
     "output_type": "display_data"
    },
    {
     "data": {
      "application/vnd.jupyter.widget-view+json": {
       "model_id": "3ce0fc3f647f4f4681f4d8dabb097239",
       "version_major": 2,
       "version_minor": 0
      },
      "text/plain": [
       "  0%|          | 0/58 [00:00<?, ?it/s]"
      ]
     },
     "metadata": {},
     "output_type": "display_data"
    },
    {
     "data": {
      "application/vnd.jupyter.widget-view+json": {
       "model_id": "5c571ece1a3c4862b2af91542d5d24d8",
       "version_major": 2,
       "version_minor": 0
      },
      "text/plain": [
       "  0%|          | 0/58 [00:00<?, ?it/s]"
      ]
     },
     "metadata": {},
     "output_type": "display_data"
    },
    {
     "data": {
      "application/vnd.jupyter.widget-view+json": {
       "model_id": "28e088db01f04c29bba10aa72ccbde73",
       "version_major": 2,
       "version_minor": 0
      },
      "text/plain": [
       "  0%|          | 0/58 [00:00<?, ?it/s]"
      ]
     },
     "metadata": {},
     "output_type": "display_data"
    },
    {
     "data": {
      "application/vnd.jupyter.widget-view+json": {
       "model_id": "cbae9d4d22ee4d2c8175eaac4d52b075",
       "version_major": 2,
       "version_minor": 0
      },
      "text/plain": [
       "  0%|          | 0/58 [00:00<?, ?it/s]"
      ]
     },
     "metadata": {},
     "output_type": "display_data"
    },
    {
     "data": {
      "application/vnd.jupyter.widget-view+json": {
       "model_id": "57f6f116bbd1486e895f7b913710d5c6",
       "version_major": 2,
       "version_minor": 0
      },
      "text/plain": [
       "  0%|          | 0/58 [00:00<?, ?it/s]"
      ]
     },
     "metadata": {},
     "output_type": "display_data"
    },
    {
     "data": {
      "application/vnd.jupyter.widget-view+json": {
       "model_id": "a2d47a7abb0f47d4a0209aabb0fca1bf",
       "version_major": 2,
       "version_minor": 0
      },
      "text/plain": [
       "  0%|          | 0/58 [00:00<?, ?it/s]"
      ]
     },
     "metadata": {},
     "output_type": "display_data"
    },
    {
     "data": {
      "application/vnd.jupyter.widget-view+json": {
       "model_id": "d37681887c9f488cbfc85e099d88462d",
       "version_major": 2,
       "version_minor": 0
      },
      "text/plain": [
       "  0%|          | 0/58 [00:00<?, ?it/s]"
      ]
     },
     "metadata": {},
     "output_type": "display_data"
    },
    {
     "data": {
      "application/vnd.jupyter.widget-view+json": {
       "model_id": "48ce3d4f579c461eb450c41ca6e82ee3",
       "version_major": 2,
       "version_minor": 0
      },
      "text/plain": [
       "  0%|          | 0/58 [00:00<?, ?it/s]"
      ]
     },
     "metadata": {},
     "output_type": "display_data"
    },
    {
     "data": {
      "application/vnd.jupyter.widget-view+json": {
       "model_id": "fb9a0c0176aa4815bee81eabb9241c30",
       "version_major": 2,
       "version_minor": 0
      },
      "text/plain": [
       "  0%|          | 0/58 [00:00<?, ?it/s]"
      ]
     },
     "metadata": {},
     "output_type": "display_data"
    },
    {
     "data": {
      "application/vnd.jupyter.widget-view+json": {
       "model_id": "cb48723bc011451db6b9e701390e2c4c",
       "version_major": 2,
       "version_minor": 0
      },
      "text/plain": [
       "  0%|          | 0/58 [00:00<?, ?it/s]"
      ]
     },
     "metadata": {},
     "output_type": "display_data"
    },
    {
     "data": {
      "application/vnd.jupyter.widget-view+json": {
       "model_id": "b87f85319c0b4d54849e478448f127ce",
       "version_major": 2,
       "version_minor": 0
      },
      "text/plain": [
       "  0%|          | 0/58 [00:00<?, ?it/s]"
      ]
     },
     "metadata": {},
     "output_type": "display_data"
    },
    {
     "data": {
      "application/vnd.jupyter.widget-view+json": {
       "model_id": "406126dd56c0433f81a39da9d737559c",
       "version_major": 2,
       "version_minor": 0
      },
      "text/plain": [
       "  0%|          | 0/58 [00:00<?, ?it/s]"
      ]
     },
     "metadata": {},
     "output_type": "display_data"
    },
    {
     "data": {
      "application/vnd.jupyter.widget-view+json": {
       "model_id": "5119a400724e4a75b70d9d0571d05f91",
       "version_major": 2,
       "version_minor": 0
      },
      "text/plain": [
       "  0%|          | 0/58 [00:00<?, ?it/s]"
      ]
     },
     "metadata": {},
     "output_type": "display_data"
    },
    {
     "data": {
      "application/vnd.jupyter.widget-view+json": {
       "model_id": "aa7669dcb80c4c8eae9fb39585b391c4",
       "version_major": 2,
       "version_minor": 0
      },
      "text/plain": [
       "  0%|          | 0/58 [00:00<?, ?it/s]"
      ]
     },
     "metadata": {},
     "output_type": "display_data"
    },
    {
     "data": {
      "application/vnd.jupyter.widget-view+json": {
       "model_id": "8a6f5c8d41eb4e779f74d4d198a2cb6d",
       "version_major": 2,
       "version_minor": 0
      },
      "text/plain": [
       "  0%|          | 0/58 [00:00<?, ?it/s]"
      ]
     },
     "metadata": {},
     "output_type": "display_data"
    },
    {
     "data": {
      "application/vnd.jupyter.widget-view+json": {
       "model_id": "301c6c6c20d04641bdf533e179cc09a2",
       "version_major": 2,
       "version_minor": 0
      },
      "text/plain": [
       "  0%|          | 0/58 [00:00<?, ?it/s]"
      ]
     },
     "metadata": {},
     "output_type": "display_data"
    },
    {
     "data": {
      "application/vnd.jupyter.widget-view+json": {
       "model_id": "59204e791d384db2bc184ef3e6ba7144",
       "version_major": 2,
       "version_minor": 0
      },
      "text/plain": [
       "  0%|          | 0/58 [00:00<?, ?it/s]"
      ]
     },
     "metadata": {},
     "output_type": "display_data"
    },
    {
     "data": {
      "application/vnd.jupyter.widget-view+json": {
       "model_id": "29131043e3ea4517b63cfde62b8145a4",
       "version_major": 2,
       "version_minor": 0
      },
      "text/plain": [
       "  0%|          | 0/58 [00:00<?, ?it/s]"
      ]
     },
     "metadata": {},
     "output_type": "display_data"
    }
   ],
   "source": [
    "loss_fn = GaussianNLLLoss()\n",
    "\n",
    "fno_prob = ProbTFNO()\n",
    "fno_prob = fno_prob.to(device)\n",
    "optim_fno = torch.optim.Adam(fno_prob.parameters(), lr = 1e-3)\n",
    "\n",
    "for _ in trange(epochs):\n",
    "    for xt, yt in tqdm(train_loader, leave = False):\n",
    "        xt = xt.to(device)\n",
    "        yt = yt.to(device)\n",
    "        yhat = fno_prob(xt)\n",
    "        loss = loss_fn(yhat, yt)\n",
    "        loss.backward()\n",
    "        optim_fno.step()\n",
    "        optim_fno.zero_grad()"
   ]
  },
  {
   "cell_type": "code",
   "execution_count": 8,
   "id": "8f88a404-9123-4723-903a-b8377e295501",
   "metadata": {},
   "outputs": [],
   "source": [
    "n = xtrain.shape[0]\n",
    "xtrain_base1 = xtrain[:(n//2)]\n",
    "ytrain_base1 = ytrain[:(n//2)]\n",
    "xtrain_base2 = xtrain[(n//2):]\n",
    "ytrain_base2 = ytrain[(n//2):]\n",
    "\n",
    "train_data1 = TensorDataset(jax2torch(xtrain_base1), jax2torch(ytrain_base1))\n",
    "train_loader1 = DataLoader(train_data1, batch_size = 30, shuffle = True)\n",
    "\n",
    "train_data2 = TensorDataset(jax2torch(xtrain_base2), jax2torch(ytrain_base2))\n",
    "train_loader2 = DataLoader(train_data2, batch_size = 30, shuffle = False)"
   ]
  },
  {
   "cell_type": "code",
   "execution_count": 9,
   "id": "9b3fc01e-df49-44e8-ac99-2a9e91d42767",
   "metadata": {},
   "outputs": [
    {
     "data": {
      "application/vnd.jupyter.widget-view+json": {
       "model_id": "0bd8f9fc2499423486ff26caa0876107",
       "version_major": 2,
       "version_minor": 0
      },
      "text/plain": [
       "  0%|          | 0/50 [00:00<?, ?it/s]"
      ]
     },
     "metadata": {},
     "output_type": "display_data"
    },
    {
     "data": {
      "application/vnd.jupyter.widget-view+json": {
       "model_id": "83e9a714bf364582b12f19d2f84eee76",
       "version_major": 2,
       "version_minor": 0
      },
      "text/plain": [
       "  0%|          | 0/61 [00:00<?, ?it/s]"
      ]
     },
     "metadata": {},
     "output_type": "display_data"
    },
    {
     "data": {
      "application/vnd.jupyter.widget-view+json": {
       "model_id": "6af3c03d39494b1eb24fbc66669b41d7",
       "version_major": 2,
       "version_minor": 0
      },
      "text/plain": [
       "  0%|          | 0/61 [00:00<?, ?it/s]"
      ]
     },
     "metadata": {},
     "output_type": "display_data"
    },
    {
     "data": {
      "application/vnd.jupyter.widget-view+json": {
       "model_id": "2b069f4022124e98993cf1d97d5f60bd",
       "version_major": 2,
       "version_minor": 0
      },
      "text/plain": [
       "  0%|          | 0/61 [00:00<?, ?it/s]"
      ]
     },
     "metadata": {},
     "output_type": "display_data"
    },
    {
     "data": {
      "application/vnd.jupyter.widget-view+json": {
       "model_id": "9833bd40c955494f90547c7fe60f2a53",
       "version_major": 2,
       "version_minor": 0
      },
      "text/plain": [
       "  0%|          | 0/61 [00:00<?, ?it/s]"
      ]
     },
     "metadata": {},
     "output_type": "display_data"
    },
    {
     "data": {
      "application/vnd.jupyter.widget-view+json": {
       "model_id": "1b288531248a4be6a8a82fe0aa07bc30",
       "version_major": 2,
       "version_minor": 0
      },
      "text/plain": [
       "  0%|          | 0/61 [00:00<?, ?it/s]"
      ]
     },
     "metadata": {},
     "output_type": "display_data"
    },
    {
     "data": {
      "application/vnd.jupyter.widget-view+json": {
       "model_id": "f49778d0bff8408f8566f9a8806a6b97",
       "version_major": 2,
       "version_minor": 0
      },
      "text/plain": [
       "  0%|          | 0/61 [00:00<?, ?it/s]"
      ]
     },
     "metadata": {},
     "output_type": "display_data"
    },
    {
     "data": {
      "application/vnd.jupyter.widget-view+json": {
       "model_id": "919c85646a40428e8088791ab8b1f9b1",
       "version_major": 2,
       "version_minor": 0
      },
      "text/plain": [
       "  0%|          | 0/61 [00:00<?, ?it/s]"
      ]
     },
     "metadata": {},
     "output_type": "display_data"
    },
    {
     "data": {
      "application/vnd.jupyter.widget-view+json": {
       "model_id": "be2ab963381f41938453bf88a651d457",
       "version_major": 2,
       "version_minor": 0
      },
      "text/plain": [
       "  0%|          | 0/61 [00:00<?, ?it/s]"
      ]
     },
     "metadata": {},
     "output_type": "display_data"
    },
    {
     "data": {
      "application/vnd.jupyter.widget-view+json": {
       "model_id": "fa2d7419065d4740b8a64853de8c66f9",
       "version_major": 2,
       "version_minor": 0
      },
      "text/plain": [
       "  0%|          | 0/61 [00:00<?, ?it/s]"
      ]
     },
     "metadata": {},
     "output_type": "display_data"
    },
    {
     "data": {
      "application/vnd.jupyter.widget-view+json": {
       "model_id": "38fea01fd7884ec1a78adb5248f03d0c",
       "version_major": 2,
       "version_minor": 0
      },
      "text/plain": [
       "  0%|          | 0/61 [00:00<?, ?it/s]"
      ]
     },
     "metadata": {},
     "output_type": "display_data"
    },
    {
     "data": {
      "application/vnd.jupyter.widget-view+json": {
       "model_id": "de7395b1e96e4bae80a68fa394cf1330",
       "version_major": 2,
       "version_minor": 0
      },
      "text/plain": [
       "  0%|          | 0/61 [00:00<?, ?it/s]"
      ]
     },
     "metadata": {},
     "output_type": "display_data"
    },
    {
     "data": {
      "application/vnd.jupyter.widget-view+json": {
       "model_id": "b4d7ca9a6f084c1c9f6771d72ca1399f",
       "version_major": 2,
       "version_minor": 0
      },
      "text/plain": [
       "  0%|          | 0/61 [00:00<?, ?it/s]"
      ]
     },
     "metadata": {},
     "output_type": "display_data"
    },
    {
     "data": {
      "application/vnd.jupyter.widget-view+json": {
       "model_id": "e09a233d037847d9ad83542b0a19bfb3",
       "version_major": 2,
       "version_minor": 0
      },
      "text/plain": [
       "  0%|          | 0/61 [00:00<?, ?it/s]"
      ]
     },
     "metadata": {},
     "output_type": "display_data"
    },
    {
     "data": {
      "application/vnd.jupyter.widget-view+json": {
       "model_id": "a28abcd5baa444afbf1addbb099d54d7",
       "version_major": 2,
       "version_minor": 0
      },
      "text/plain": [
       "  0%|          | 0/61 [00:00<?, ?it/s]"
      ]
     },
     "metadata": {},
     "output_type": "display_data"
    },
    {
     "data": {
      "application/vnd.jupyter.widget-view+json": {
       "model_id": "72b506ea71fd49c6979d6eabd549db83",
       "version_major": 2,
       "version_minor": 0
      },
      "text/plain": [
       "  0%|          | 0/61 [00:00<?, ?it/s]"
      ]
     },
     "metadata": {},
     "output_type": "display_data"
    },
    {
     "data": {
      "application/vnd.jupyter.widget-view+json": {
       "model_id": "4277d2ae4e7947279f6c7bcc7bed3a34",
       "version_major": 2,
       "version_minor": 0
      },
      "text/plain": [
       "  0%|          | 0/61 [00:00<?, ?it/s]"
      ]
     },
     "metadata": {},
     "output_type": "display_data"
    },
    {
     "data": {
      "application/vnd.jupyter.widget-view+json": {
       "model_id": "bc9c09c48fc246dcb8422e928b0fa76e",
       "version_major": 2,
       "version_minor": 0
      },
      "text/plain": [
       "  0%|          | 0/61 [00:00<?, ?it/s]"
      ]
     },
     "metadata": {},
     "output_type": "display_data"
    },
    {
     "data": {
      "application/vnd.jupyter.widget-view+json": {
       "model_id": "f504dbf47c8e430c8a61b8446895cd7f",
       "version_major": 2,
       "version_minor": 0
      },
      "text/plain": [
       "  0%|          | 0/61 [00:00<?, ?it/s]"
      ]
     },
     "metadata": {},
     "output_type": "display_data"
    },
    {
     "data": {
      "application/vnd.jupyter.widget-view+json": {
       "model_id": "f7d319863aeb47b7a0d52bcab9f15db9",
       "version_major": 2,
       "version_minor": 0
      },
      "text/plain": [
       "  0%|          | 0/61 [00:00<?, ?it/s]"
      ]
     },
     "metadata": {},
     "output_type": "display_data"
    },
    {
     "data": {
      "application/vnd.jupyter.widget-view+json": {
       "model_id": "8c531ddf1ff6488a9fcccec734e040e3",
       "version_major": 2,
       "version_minor": 0
      },
      "text/plain": [
       "  0%|          | 0/61 [00:00<?, ?it/s]"
      ]
     },
     "metadata": {},
     "output_type": "display_data"
    },
    {
     "data": {
      "application/vnd.jupyter.widget-view+json": {
       "model_id": "6d188e8c0af34a64b30442f9c5abd40c",
       "version_major": 2,
       "version_minor": 0
      },
      "text/plain": [
       "  0%|          | 0/61 [00:00<?, ?it/s]"
      ]
     },
     "metadata": {},
     "output_type": "display_data"
    },
    {
     "data": {
      "application/vnd.jupyter.widget-view+json": {
       "model_id": "4e83f826df7b4254a0ee8541499eaa77",
       "version_major": 2,
       "version_minor": 0
      },
      "text/plain": [
       "  0%|          | 0/61 [00:00<?, ?it/s]"
      ]
     },
     "metadata": {},
     "output_type": "display_data"
    },
    {
     "data": {
      "application/vnd.jupyter.widget-view+json": {
       "model_id": "8fccfc130d8f414f8ca9bbddc1f2f384",
       "version_major": 2,
       "version_minor": 0
      },
      "text/plain": [
       "  0%|          | 0/61 [00:00<?, ?it/s]"
      ]
     },
     "metadata": {},
     "output_type": "display_data"
    },
    {
     "data": {
      "application/vnd.jupyter.widget-view+json": {
       "model_id": "e0b30827d2824bf3b78f57b83ba3487a",
       "version_major": 2,
       "version_minor": 0
      },
      "text/plain": [
       "  0%|          | 0/61 [00:00<?, ?it/s]"
      ]
     },
     "metadata": {},
     "output_type": "display_data"
    },
    {
     "data": {
      "application/vnd.jupyter.widget-view+json": {
       "model_id": "e36bd26405804e1f8782011281444337",
       "version_major": 2,
       "version_minor": 0
      },
      "text/plain": [
       "  0%|          | 0/61 [00:00<?, ?it/s]"
      ]
     },
     "metadata": {},
     "output_type": "display_data"
    },
    {
     "data": {
      "application/vnd.jupyter.widget-view+json": {
       "model_id": "4575e287ecb94bd193789524d080910a",
       "version_major": 2,
       "version_minor": 0
      },
      "text/plain": [
       "  0%|          | 0/61 [00:00<?, ?it/s]"
      ]
     },
     "metadata": {},
     "output_type": "display_data"
    },
    {
     "data": {
      "application/vnd.jupyter.widget-view+json": {
       "model_id": "e6c2378cc8c84e4f88d9498015f11eb6",
       "version_major": 2,
       "version_minor": 0
      },
      "text/plain": [
       "  0%|          | 0/61 [00:00<?, ?it/s]"
      ]
     },
     "metadata": {},
     "output_type": "display_data"
    },
    {
     "data": {
      "application/vnd.jupyter.widget-view+json": {
       "model_id": "4f35bcf58d414f9b985a8a66aa25f1a1",
       "version_major": 2,
       "version_minor": 0
      },
      "text/plain": [
       "  0%|          | 0/61 [00:00<?, ?it/s]"
      ]
     },
     "metadata": {},
     "output_type": "display_data"
    },
    {
     "data": {
      "application/vnd.jupyter.widget-view+json": {
       "model_id": "a1562511943b428eaa5197635084d464",
       "version_major": 2,
       "version_minor": 0
      },
      "text/plain": [
       "  0%|          | 0/61 [00:00<?, ?it/s]"
      ]
     },
     "metadata": {},
     "output_type": "display_data"
    },
    {
     "data": {
      "application/vnd.jupyter.widget-view+json": {
       "model_id": "ce5bc62b0621425581ef891e7bdb79ee",
       "version_major": 2,
       "version_minor": 0
      },
      "text/plain": [
       "  0%|          | 0/61 [00:00<?, ?it/s]"
      ]
     },
     "metadata": {},
     "output_type": "display_data"
    },
    {
     "data": {
      "application/vnd.jupyter.widget-view+json": {
       "model_id": "4fe930fd73114536be0258013984f91c",
       "version_major": 2,
       "version_minor": 0
      },
      "text/plain": [
       "  0%|          | 0/61 [00:00<?, ?it/s]"
      ]
     },
     "metadata": {},
     "output_type": "display_data"
    },
    {
     "data": {
      "application/vnd.jupyter.widget-view+json": {
       "model_id": "c7a52dff5337463dbdb11bd4085b294a",
       "version_major": 2,
       "version_minor": 0
      },
      "text/plain": [
       "  0%|          | 0/61 [00:00<?, ?it/s]"
      ]
     },
     "metadata": {},
     "output_type": "display_data"
    },
    {
     "data": {
      "application/vnd.jupyter.widget-view+json": {
       "model_id": "d87547b52ca740038efa412bb71f71e9",
       "version_major": 2,
       "version_minor": 0
      },
      "text/plain": [
       "  0%|          | 0/61 [00:00<?, ?it/s]"
      ]
     },
     "metadata": {},
     "output_type": "display_data"
    },
    {
     "data": {
      "application/vnd.jupyter.widget-view+json": {
       "model_id": "344141110baa4e7b8945713a3cdcf976",
       "version_major": 2,
       "version_minor": 0
      },
      "text/plain": [
       "  0%|          | 0/61 [00:00<?, ?it/s]"
      ]
     },
     "metadata": {},
     "output_type": "display_data"
    },
    {
     "data": {
      "application/vnd.jupyter.widget-view+json": {
       "model_id": "fb6a018b325c45738992e3a69b6424e9",
       "version_major": 2,
       "version_minor": 0
      },
      "text/plain": [
       "  0%|          | 0/61 [00:00<?, ?it/s]"
      ]
     },
     "metadata": {},
     "output_type": "display_data"
    },
    {
     "data": {
      "application/vnd.jupyter.widget-view+json": {
       "model_id": "121f59b5f82244fda4dd76c11b477feb",
       "version_major": 2,
       "version_minor": 0
      },
      "text/plain": [
       "  0%|          | 0/61 [00:00<?, ?it/s]"
      ]
     },
     "metadata": {},
     "output_type": "display_data"
    },
    {
     "data": {
      "application/vnd.jupyter.widget-view+json": {
       "model_id": "35dc14251f7748768ddb0a662009b447",
       "version_major": 2,
       "version_minor": 0
      },
      "text/plain": [
       "  0%|          | 0/61 [00:00<?, ?it/s]"
      ]
     },
     "metadata": {},
     "output_type": "display_data"
    },
    {
     "data": {
      "application/vnd.jupyter.widget-view+json": {
       "model_id": "a233f40eef6c449189c9301f8a8d9ce6",
       "version_major": 2,
       "version_minor": 0
      },
      "text/plain": [
       "  0%|          | 0/61 [00:00<?, ?it/s]"
      ]
     },
     "metadata": {},
     "output_type": "display_data"
    },
    {
     "data": {
      "application/vnd.jupyter.widget-view+json": {
       "model_id": "c34457dc4c874836b6a9794cfc0e1c73",
       "version_major": 2,
       "version_minor": 0
      },
      "text/plain": [
       "  0%|          | 0/61 [00:00<?, ?it/s]"
      ]
     },
     "metadata": {},
     "output_type": "display_data"
    },
    {
     "data": {
      "application/vnd.jupyter.widget-view+json": {
       "model_id": "4b4ccad5281345f585ffa4f49bce5eb0",
       "version_major": 2,
       "version_minor": 0
      },
      "text/plain": [
       "  0%|          | 0/61 [00:00<?, ?it/s]"
      ]
     },
     "metadata": {},
     "output_type": "display_data"
    },
    {
     "data": {
      "application/vnd.jupyter.widget-view+json": {
       "model_id": "b1a1ef61fed04d1aa6b485127fb6223f",
       "version_major": 2,
       "version_minor": 0
      },
      "text/plain": [
       "  0%|          | 0/61 [00:00<?, ?it/s]"
      ]
     },
     "metadata": {},
     "output_type": "display_data"
    },
    {
     "data": {
      "application/vnd.jupyter.widget-view+json": {
       "model_id": "4364edea5d80482197245a0bfa763b3b",
       "version_major": 2,
       "version_minor": 0
      },
      "text/plain": [
       "  0%|          | 0/61 [00:00<?, ?it/s]"
      ]
     },
     "metadata": {},
     "output_type": "display_data"
    },
    {
     "data": {
      "application/vnd.jupyter.widget-view+json": {
       "model_id": "12889a90955f4afbb57856cece120d66",
       "version_major": 2,
       "version_minor": 0
      },
      "text/plain": [
       "  0%|          | 0/61 [00:00<?, ?it/s]"
      ]
     },
     "metadata": {},
     "output_type": "display_data"
    },
    {
     "data": {
      "application/vnd.jupyter.widget-view+json": {
       "model_id": "75e802367d474c3a83dd28ec8d9ae177",
       "version_major": 2,
       "version_minor": 0
      },
      "text/plain": [
       "  0%|          | 0/61 [00:00<?, ?it/s]"
      ]
     },
     "metadata": {},
     "output_type": "display_data"
    },
    {
     "data": {
      "application/vnd.jupyter.widget-view+json": {
       "model_id": "34455bb211724f0c89f116a7d6986f7a",
       "version_major": 2,
       "version_minor": 0
      },
      "text/plain": [
       "  0%|          | 0/61 [00:00<?, ?it/s]"
      ]
     },
     "metadata": {},
     "output_type": "display_data"
    },
    {
     "data": {
      "application/vnd.jupyter.widget-view+json": {
       "model_id": "303265973788484b9302fd7a0bb1ad76",
       "version_major": 2,
       "version_minor": 0
      },
      "text/plain": [
       "  0%|          | 0/61 [00:00<?, ?it/s]"
      ]
     },
     "metadata": {},
     "output_type": "display_data"
    },
    {
     "data": {
      "application/vnd.jupyter.widget-view+json": {
       "model_id": "98797d81c7d94b4c9ed69621b2f307af",
       "version_major": 2,
       "version_minor": 0
      },
      "text/plain": [
       "  0%|          | 0/61 [00:00<?, ?it/s]"
      ]
     },
     "metadata": {},
     "output_type": "display_data"
    },
    {
     "data": {
      "application/vnd.jupyter.widget-view+json": {
       "model_id": "e1f2ce37841943dab0a202bfb1245842",
       "version_major": 2,
       "version_minor": 0
      },
      "text/plain": [
       "  0%|          | 0/61 [00:00<?, ?it/s]"
      ]
     },
     "metadata": {},
     "output_type": "display_data"
    },
    {
     "data": {
      "application/vnd.jupyter.widget-view+json": {
       "model_id": "6071df5462c94c9eae2e7989dd3aa45f",
       "version_major": 2,
       "version_minor": 0
      },
      "text/plain": [
       "  0%|          | 0/61 [00:00<?, ?it/s]"
      ]
     },
     "metadata": {},
     "output_type": "display_data"
    },
    {
     "data": {
      "application/vnd.jupyter.widget-view+json": {
       "model_id": "1b28e7a165164449ba6b80d62851ef42",
       "version_major": 2,
       "version_minor": 0
      },
      "text/plain": [
       "  0%|          | 0/61 [00:00<?, ?it/s]"
      ]
     },
     "metadata": {},
     "output_type": "display_data"
    }
   ],
   "source": [
    "loss_fn = nn.MSELoss()\n",
    "fno_base = FNO(n_modes=(16,32), \n",
    "             hidden_channels=64, \n",
    "             in_channels=1, \n",
    "             out_channels=1)\n",
    "fno_base.to(device)\n",
    "optim_fno = torch.optim.Adam(fno_base.parameters(), lr = 1e-3)\n",
    "\n",
    "for _ in trange(epochs):\n",
    "    for xt, yt in tqdm(train_loader1, leave = False):\n",
    "        xt = xt.to(device)\n",
    "        yt = yt.to(device)\n",
    "        yhat = fno_base(xt)\n",
    "        loss = loss_fn(yhat, yt)\n",
    "        loss.backward()\n",
    "        optim_fno.step()\n",
    "        optim_fno.zero_grad()"
   ]
  },
  {
   "cell_type": "code",
   "execution_count": 10,
   "id": "ae54b9d1-790e-4c50-9d98-d9ec4ec9f0d9",
   "metadata": {},
   "outputs": [
    {
     "data": {
      "application/vnd.jupyter.widget-view+json": {
       "model_id": "50194d9c58084674b9a48e0ff02b909f",
       "version_major": 2,
       "version_minor": 0
      },
      "text/plain": [
       "  0%|          | 0/61 [00:00<?, ?it/s]"
      ]
     },
     "metadata": {},
     "output_type": "display_data"
    }
   ],
   "source": [
    "ytrain_base1_hat = []\n",
    "with torch.no_grad():\n",
    "    for xt, yt in tqdm(train_loader2, leave = False):\n",
    "        yt_hat = fno_base(xt.to(device)).cpu().squeeze()\n",
    "        \n",
    "        ytrain_base1_hat.append(yt_hat)\n",
    "ytrain_base1_hat = torch.vstack(ytrain_base1_hat)[:,None]\n",
    "ytrain_base1_hat = torch2jax(ytrain_base1_hat)\n",
    "\n",
    "train_data2 = TensorDataset(jax2torch(xtrain_base2), torch.abs(jax2torch(ytrain_base2 - ytrain_base1_hat)))\n",
    "train_loader2 = DataLoader(train_data2, batch_size = 30, shuffle = True)"
   ]
  },
  {
   "cell_type": "code",
   "execution_count": 11,
   "id": "a78e1051-e7e8-4f64-97b3-25c2e855ff93",
   "metadata": {},
   "outputs": [
    {
     "data": {
      "application/vnd.jupyter.widget-view+json": {
       "model_id": "3e5761be305649b591d79e8578c02e12",
       "version_major": 2,
       "version_minor": 0
      },
      "text/plain": [
       "  0%|          | 0/20 [00:00<?, ?it/s]"
      ]
     },
     "metadata": {},
     "output_type": "display_data"
    },
    {
     "data": {
      "application/vnd.jupyter.widget-view+json": {
       "model_id": "50464fe77b4d4a0ca23c0cbcb8e7ab5c",
       "version_major": 2,
       "version_minor": 0
      },
      "text/plain": [
       "  0%|          | 0/61 [00:00<?, ?it/s]"
      ]
     },
     "metadata": {},
     "output_type": "display_data"
    },
    {
     "data": {
      "application/vnd.jupyter.widget-view+json": {
       "model_id": "66cda69d934344589bb3edd53a5d73fd",
       "version_major": 2,
       "version_minor": 0
      },
      "text/plain": [
       "  0%|          | 0/61 [00:00<?, ?it/s]"
      ]
     },
     "metadata": {},
     "output_type": "display_data"
    },
    {
     "data": {
      "application/vnd.jupyter.widget-view+json": {
       "model_id": "01fc4d4a03d5480a83a5609457925c42",
       "version_major": 2,
       "version_minor": 0
      },
      "text/plain": [
       "  0%|          | 0/61 [00:00<?, ?it/s]"
      ]
     },
     "metadata": {},
     "output_type": "display_data"
    },
    {
     "data": {
      "application/vnd.jupyter.widget-view+json": {
       "model_id": "37abc58f29cc435a89fd528f98aebf5f",
       "version_major": 2,
       "version_minor": 0
      },
      "text/plain": [
       "  0%|          | 0/61 [00:00<?, ?it/s]"
      ]
     },
     "metadata": {},
     "output_type": "display_data"
    },
    {
     "data": {
      "application/vnd.jupyter.widget-view+json": {
       "model_id": "cf7130794d5645f7a135e1c90c18d437",
       "version_major": 2,
       "version_minor": 0
      },
      "text/plain": [
       "  0%|          | 0/61 [00:00<?, ?it/s]"
      ]
     },
     "metadata": {},
     "output_type": "display_data"
    },
    {
     "data": {
      "application/vnd.jupyter.widget-view+json": {
       "model_id": "e9635fe5ace24728b358f848ff43510a",
       "version_major": 2,
       "version_minor": 0
      },
      "text/plain": [
       "  0%|          | 0/61 [00:00<?, ?it/s]"
      ]
     },
     "metadata": {},
     "output_type": "display_data"
    },
    {
     "data": {
      "application/vnd.jupyter.widget-view+json": {
       "model_id": "3cab1a3d32fc410b8040571af352d89a",
       "version_major": 2,
       "version_minor": 0
      },
      "text/plain": [
       "  0%|          | 0/61 [00:00<?, ?it/s]"
      ]
     },
     "metadata": {},
     "output_type": "display_data"
    },
    {
     "data": {
      "application/vnd.jupyter.widget-view+json": {
       "model_id": "9e1ede8172594d62abe11b98d176add3",
       "version_major": 2,
       "version_minor": 0
      },
      "text/plain": [
       "  0%|          | 0/61 [00:00<?, ?it/s]"
      ]
     },
     "metadata": {},
     "output_type": "display_data"
    },
    {
     "data": {
      "application/vnd.jupyter.widget-view+json": {
       "model_id": "5fda16489fa948f49cfbe3b4645138a8",
       "version_major": 2,
       "version_minor": 0
      },
      "text/plain": [
       "  0%|          | 0/61 [00:00<?, ?it/s]"
      ]
     },
     "metadata": {},
     "output_type": "display_data"
    },
    {
     "data": {
      "application/vnd.jupyter.widget-view+json": {
       "model_id": "bbb5deb9174e43529cb329aeeb09aa04",
       "version_major": 2,
       "version_minor": 0
      },
      "text/plain": [
       "  0%|          | 0/61 [00:00<?, ?it/s]"
      ]
     },
     "metadata": {},
     "output_type": "display_data"
    },
    {
     "data": {
      "application/vnd.jupyter.widget-view+json": {
       "model_id": "9d1b4865e7e3489cb903ee6a751a0f79",
       "version_major": 2,
       "version_minor": 0
      },
      "text/plain": [
       "  0%|          | 0/61 [00:00<?, ?it/s]"
      ]
     },
     "metadata": {},
     "output_type": "display_data"
    },
    {
     "data": {
      "application/vnd.jupyter.widget-view+json": {
       "model_id": "1da10df7f25045f78f2b9b1e2187d578",
       "version_major": 2,
       "version_minor": 0
      },
      "text/plain": [
       "  0%|          | 0/61 [00:00<?, ?it/s]"
      ]
     },
     "metadata": {},
     "output_type": "display_data"
    },
    {
     "data": {
      "application/vnd.jupyter.widget-view+json": {
       "model_id": "83fad0fb4ed44f1084a91c687e97a787",
       "version_major": 2,
       "version_minor": 0
      },
      "text/plain": [
       "  0%|          | 0/61 [00:00<?, ?it/s]"
      ]
     },
     "metadata": {},
     "output_type": "display_data"
    },
    {
     "data": {
      "application/vnd.jupyter.widget-view+json": {
       "model_id": "8c923324e9444181a67185b9bc10836f",
       "version_major": 2,
       "version_minor": 0
      },
      "text/plain": [
       "  0%|          | 0/61 [00:00<?, ?it/s]"
      ]
     },
     "metadata": {},
     "output_type": "display_data"
    },
    {
     "data": {
      "application/vnd.jupyter.widget-view+json": {
       "model_id": "dbb48f82a71a4d2fad8532b2976e18ea",
       "version_major": 2,
       "version_minor": 0
      },
      "text/plain": [
       "  0%|          | 0/61 [00:00<?, ?it/s]"
      ]
     },
     "metadata": {},
     "output_type": "display_data"
    },
    {
     "data": {
      "application/vnd.jupyter.widget-view+json": {
       "model_id": "10163948ca1648f3abacaa7f5bdf3709",
       "version_major": 2,
       "version_minor": 0
      },
      "text/plain": [
       "  0%|          | 0/61 [00:00<?, ?it/s]"
      ]
     },
     "metadata": {},
     "output_type": "display_data"
    },
    {
     "data": {
      "application/vnd.jupyter.widget-view+json": {
       "model_id": "01912d4d36c64dcab2e83701b713b326",
       "version_major": 2,
       "version_minor": 0
      },
      "text/plain": [
       "  0%|          | 0/61 [00:00<?, ?it/s]"
      ]
     },
     "metadata": {},
     "output_type": "display_data"
    },
    {
     "data": {
      "application/vnd.jupyter.widget-view+json": {
       "model_id": "2140f17c511c4428b925b35c08c405c9",
       "version_major": 2,
       "version_minor": 0
      },
      "text/plain": [
       "  0%|          | 0/61 [00:00<?, ?it/s]"
      ]
     },
     "metadata": {},
     "output_type": "display_data"
    },
    {
     "data": {
      "application/vnd.jupyter.widget-view+json": {
       "model_id": "7a73147b36ba4e5a996bf3c5d8e7162e",
       "version_major": 2,
       "version_minor": 0
      },
      "text/plain": [
       "  0%|          | 0/61 [00:00<?, ?it/s]"
      ]
     },
     "metadata": {},
     "output_type": "display_data"
    },
    {
     "data": {
      "application/vnd.jupyter.widget-view+json": {
       "model_id": "98f5b2e9dfc64c4cbdb4b74e546120ee",
       "version_major": 2,
       "version_minor": 0
      },
      "text/plain": [
       "  0%|          | 0/61 [00:00<?, ?it/s]"
      ]
     },
     "metadata": {},
     "output_type": "display_data"
    }
   ],
   "source": [
    "loss_fn = QuantileLoss(0.9)\n",
    "fno_quant2 = FNO(n_modes=(16,32), \n",
    "             hidden_channels=64, \n",
    "             in_channels=1, \n",
    "             out_channels=1)\n",
    "fno_quant2.to(device)\n",
    "optim_fno = torch.optim.Adam(fno_quant2.parameters(), lr = 1e-3)\n",
    "\n",
    "epochs = 20\n",
    "for _ in trange(epochs):\n",
    "    for xt, yt in tqdm(train_loader2, leave = False): \n",
    "        xt = xt.to(device)\n",
    "        yt = yt.to(device)\n",
    "        yhat = fno_quant2(xt)\n",
    "        loss = loss_fn(yhat, yt)\n",
    "        loss.backward()\n",
    "        optim_fno.step()\n",
    "        optim_fno.zero_grad()"
   ]
  },
  {
   "cell_type": "code",
   "execution_count": 12,
   "id": "883cd7e3-1f57-40bd-8c15-71ac61b8443b",
   "metadata": {},
   "outputs": [],
   "source": [
    "# del dtrain, xtrain, ytrain\n",
    "dval = np.load('../data/era5_val_small.npy', mmap_mode='r+')\n",
    "dtest = np.load('../data/era5_test_small.npy', mmap_mode='r+')\n",
    "\n",
    "dval = np.mean(dval.reshape(-1, 4, nlat, nlon), axis = 1)\n",
    "dtest = np.mean(dtest.reshape(-1, 4, nlat, nlon), axis = 1)\n",
    "\n",
    "dval = np.array(clim_smooth(dval, kernel))\n",
    "dtest = np.array(clim_smooth(dtest, kernel))\n",
    "\n",
    "dval = (dval - spatial_mean)/spatial_std\n",
    "dtest = (dtest - spatial_mean)/spatial_std\n",
    "\n",
    "xval, yval = split_data(dval, lag, lead)\n",
    "xtest, ytest = split_data(dtest, lag, lead)"
   ]
  },
  {
   "cell_type": "code",
   "execution_count": 13,
   "id": "2a0d9dba-fd67-4392-89c3-1fb70e6c6b3b",
   "metadata": {},
   "outputs": [],
   "source": [
    "val_data = TensorDataset(jax2torch(xval), jax2torch(yval))\n",
    "val_loader = DataLoader(val_data, batch_size = 30, shuffle = True)\n",
    "\n",
    "test_data = TensorDataset(jax2torch(xtest), jax2torch(ytest))\n",
    "test_loader = DataLoader(test_data, batch_size = 30, shuffle = False)"
   ]
  },
  {
   "cell_type": "code",
   "execution_count": 14,
   "id": "55a35951-3d3c-4caf-8ca9-95c37ad533c9",
   "metadata": {
    "scrolled": true
   },
   "outputs": [
    {
     "data": {
      "application/vnd.jupyter.widget-view+json": {
       "model_id": "0b276063c3cb458dbef207a8286ae173",
       "version_major": 2,
       "version_minor": 0
      },
      "text/plain": [
       "  0%|          | 0/61 [00:00<?, ?it/s]"
      ]
     },
     "metadata": {},
     "output_type": "display_data"
    },
    {
     "data": {
      "application/vnd.jupyter.widget-view+json": {
       "model_id": "3e1f511687084f5981ec35d1a43849f2",
       "version_major": 2,
       "version_minor": 0
      },
      "text/plain": [
       "  0%|          | 0/61 [00:00<?, ?it/s]"
      ]
     },
     "metadata": {},
     "output_type": "display_data"
    }
   ],
   "source": [
    "with torch.no_grad():\n",
    "    yval_fno = []\n",
    "    yval_quant = []\n",
    "    yval_mu = []\n",
    "    yval_sd = []\n",
    "    yval_hat2 = []\n",
    "    yval_quant2 = []\n",
    "\n",
    "    ytest_fno = []\n",
    "    ytest_quant = []\n",
    "    ytest_mu = []\n",
    "    ytest_sd = []\n",
    "    ytest_hat2 = []\n",
    "    ytest_quant2 = []\n",
    "    \n",
    "    for xt, _ in tqdm(val_loader, leave = False):\n",
    "        xt = jax2torch(xt).to(device)\n",
    "        \n",
    "        yval_fno.append(fno(xt).cpu().squeeze())\n",
    "        yval_quant.append(fno_quant(xt).cpu().squeeze())\n",
    "        yval_mut, yval_sdt = fno_prob(xt)\n",
    "        yval_mu.append(yval_mut.cpu().squeeze())\n",
    "        yval_sd.append(yval_sdt.cpu().squeeze())\n",
    "        yval_hat2.append(fno_base(xt).cpu().squeeze())\n",
    "        yval_quant2.append(fno_quant2(xt).cpu().squeeze())\n",
    "        \n",
    "    yval_fno = torch2jax(torch.vstack(yval_fno)[:,None])\n",
    "    yval_quant = torch2jax(torch.vstack(yval_quant)[:,None])\n",
    "    yval_mu = torch2jax(torch.vstack(yval_mu)[:,None])\n",
    "    yval_sd = torch2jax(torch.vstack(yval_sd)[:,None])\n",
    "    yval_hat2 = torch2jax(torch.vstack(yval_hat2)[:,None])\n",
    "    yval_quant2 = torch2jax(torch.vstack(yval_quant2)[:,None])\n",
    "\n",
    "    for xt, _ in tqdm(test_loader, leave = False):\n",
    "        xt = jax2torch(xt).to(device)\n",
    "        \n",
    "        ytest_fno.append(fno(xt).cpu().squeeze())\n",
    "        ytest_quant.append(fno_quant(xt).cpu().squeeze())\n",
    "        ytest_mut, ytest_sdt = fno_prob(xt)\n",
    "        ytest_mu.append(ytest_mut.cpu().squeeze())\n",
    "        ytest_sd.append(ytest_sdt.cpu().squeeze())\n",
    "        ytest_hat2.append(fno_base(xt).cpu().squeeze())\n",
    "        ytest_quant2.append(fno_quant2(xt).cpu().squeeze())\n",
    "\n",
    "    ytest_fno = torch2jax(torch.vstack(ytest_fno)[:,None])\n",
    "    ytest_quant = torch2jax(torch.vstack(ytest_quant)[:,None])\n",
    "    ytest_mu = torch2jax(torch.vstack(ytest_mu)[:,None])\n",
    "    ytest_sd = torch2jax(torch.vstack(ytest_sd)[:,None])\n",
    "    ytest_hat2 = torch2jax(torch.vstack(ytest_hat2)[:,None])\n",
    "    ytest_quant2 = torch2jax(torch.vstack(ytest_quant2)[:,None])\n",
    "\n",
    "rval_fno = yval - yval_fno\n",
    "rtest_fno = ytest - ytest_fno\n",
    "rtest_fno2 = ytest - ytest_hat2\n",
    "rtest_mu = ytest - ytest_mu\n",
    "# _, nlat, nlon = rval_fno.shape"
   ]
  },
  {
   "cell_type": "code",
   "execution_count": 15,
   "id": "a83f6e1d-5d41-4cd7-bb0b-d3e75b3c45d3",
   "metadata": {},
   "outputs": [],
   "source": [
    "rval_fno = rval_fno.reshape(-1, nlat*nlon)\n",
    "rtest_fno = rtest_fno.reshape(-1, nlat*nlon)\n",
    "rtest_fno2 = rtest_fno2.reshape(-1, nlat*nlon)\n",
    "rtest_mu = rtest_mu.reshape(-1, nlat*nlon)\n",
    "\n",
    "yval_quant = yval_quant.reshape(-1, nlat*nlon)\n",
    "yval_hat2 = yval_hat2.reshape(-1, nlat*nlon)\n",
    "yval_quant2  = yval_quant2.reshape(-1, nlat*nlon)\n",
    "ytest_quant2  = ytest_quant2.reshape(-1, nlat*nlon)\n",
    "\n",
    "yval = yval.reshape(-1, nlat*nlon)\n",
    "yval_mu = yval_mu.reshape(-1, nlat*nlon)\n",
    "yval_sd = yval_sd.reshape(-1, nlat*nlon)\n",
    "ytest_mu  = ytest_mu.reshape(-1, nlat*nlon)\n",
    "ytest_sd  = ytest_sd.reshape(-1, nlat*nlon)\n",
    "ytest_quant  = ytest_quant.reshape(-1, nlat*nlon)"
   ]
  },
  {
   "cell_type": "code",
   "execution_count": 16,
   "id": "e6c89cdc-0ed0-407c-8765-f243b5514f2c",
   "metadata": {},
   "outputs": [
    {
     "data": {
      "text/plain": [
       "(1824, 2048)"
      ]
     },
     "execution_count": 16,
     "metadata": {},
     "output_type": "execute_result"
    }
   ],
   "source": [
    "rval_fno.shape"
   ]
  },
  {
   "cell_type": "code",
   "execution_count": 17,
   "id": "6d9ae7f8-4972-4b6d-ac11-75e4a0031a3e",
   "metadata": {},
   "outputs": [],
   "source": [
    "nproj = 100\n",
    "n_samp = 2000\n",
    "n_phi = 20\n",
    "alpha = 0.1\n",
    "nval = rval_fno.shape[0]\n",
    "adj_alpha = jnp.ceil((nval+1)*(1-alpha))/nval\n",
    "\n",
    "pca_state = pcax.fit(rval_fno, nproj)\n",
    "\n",
    "conf_lower, conf_upper = conf.conf_band(rval_fno, pca_state, alpha)\n",
    "gaus_lower, gaus_upper = gaus.gaus_band(rval_fno, pca_state, alpha)\n",
    "supr_lower, supr_upper = supr.supr_band(rval_fno, alpha)\n",
    "\n",
    "uqno_lam = uqno.uqno_lambda(yval[:,None,:], yval_hat2, yval_quant2, delta = 0.1, alpha = 0.1)\n",
    "uqn1_lower, uqn1_upper = -uqno_lam*ytest_quant2, uqno_lam*ytest_quant2\n",
    "\n",
    "pdon_lower, pdon_upper = prob_don.prob_don(yval.squeeze(), yval_mu, yval_sd, ytest_sd, alpha)\n",
    "qdon_lower, qdon_upper = quant_don.quant_don(yval.squeeze(), yval_quant2, ytest_quant2, alpha)"
   ]
  },
  {
   "cell_type": "code",
   "execution_count": null,
   "id": "379c7465-f9ba-4714-8bd5-3bd022092042",
   "metadata": {},
   "outputs": [],
   "source": []
  },
  {
   "cell_type": "code",
   "execution_count": 18,
   "id": "2ea836d1-f50e-42e0-b7b1-ebd635d79956",
   "metadata": {},
   "outputs": [],
   "source": [
    "def fpca_sampler2(rval, weights, n_samp, rng, trunc = None):\n",
    "    state = lsci.weighted_fpca(rval, weights.squeeze())\n",
    "    if trunc:\n",
    "        state[-1] = state[-1][:,:trunc]\n",
    "    \n",
    "    rval_phi = lsci.transform_fpca(rval, state)\n",
    "    n_proj = rval_phi.shape[1]\n",
    "    \n",
    "    ens_fpc = lsci.local_sampler(rval_phi, weights, n_samp, random.split(rng, n_proj))\n",
    "    ens_fpc = ens_fpc.squeeze()\n",
    "    ens = lsci.recover_fpca(ens_fpc, state)\n",
    "    return ens"
   ]
  },
  {
   "cell_type": "code",
   "execution_count": 19,
   "id": "85a95106-df5d-464b-9fdf-645f91416d88",
   "metadata": {},
   "outputs": [
    {
     "data": {
      "application/vnd.jupyter.widget-view+json": {
       "model_id": "c5cf068a55da44fa921da363d9fb6430",
       "version_major": 2,
       "version_minor": 0
      },
      "text/plain": [
       "  0%|          | 0/1824 [00:00<?, ?it/s]"
      ]
     },
     "metadata": {},
     "output_type": "display_data"
    }
   ],
   "source": [
    "ntest = ytest.shape[0]\n",
    "nmod = 4 + 6\n",
    "cover = np.zeros((ntest, nmod))\n",
    "width = np.zeros((ntest, nmod))\n",
    "\n",
    "# rng = random.key(1)\n",
    "# knn_weights = lsci.knn_localizer(xval.squeeze(), xtest.squeeze() + 0.1*random.normal(rng, xtest.squeeze().shape), 20)\n",
    "# inf_weights = lsci.linf_localizer(xval.squeeze(), xtest.squeeze() + 0.1*random.normal(rng, xtest.squeeze().shape), 10)\n",
    "\n",
    "rng = random.key(1)\n",
    "xstate = lsci.weighted_fpca(xval.reshape(-1, nlat*nlon), \n",
    "                            jnp.ones(xval.shape[0])/xval.shape[0])\n",
    "\n",
    "xstate[-1] = xstate[-1][:,0:50]\n",
    "xval_fpc = lsci.transform_fpca(xval.reshape(-1, nlat*nlon),  \n",
    "                               xstate)\n",
    "xtest_fpc = lsci.transform_fpca(xtest.reshape(-1, nlat*nlon), \n",
    "                                xstate)\n",
    "\n",
    "rng = random.key(1)\n",
    "l2_weights = lsci.l2_localizer(xval_fpc.squeeze(), \n",
    "                                xtest_fpc.squeeze() + 0.1*random.normal(rng, xtest_fpc.squeeze().shape), \n",
    "                                7)\n",
    "\n",
    "linf_weights = lsci.linf_localizer(xval_fpc.squeeze(), \n",
    "                                  xtest_fpc.squeeze() + 0.1*random.normal(rng, xtest_fpc.squeeze().shape), \n",
    "                                  1.5)\n",
    "\n",
    "for k in trange(0, ntest):\n",
    "    \n",
    "    rng, key1, key2, key3 = random.split(rng, 4)\n",
    "\n",
    "    ## LSCI \n",
    "    weight_k = l2_weights[k:(k+1)]\n",
    "    rng, sample_rng, reject_rng = random.split(rng, 3)\n",
    "    lsci_ens = fpca_sampler2(rval_fno, weight_k, n_samp, sample_rng, trunc = 100)\n",
    "    lsci_ens = lsci.depth_reject(rval_fno, lsci_ens, weight_k, n_phi, adj_alpha, reject_rng)\n",
    "    lsci_lower = jnp.min(lsci_ens, axis = 0)\n",
    "    lsci_upper = jnp.max(lsci_ens, axis = 0)\n",
    "    \n",
    "    cover[k, 0] = risk(lsci_lower, lsci_upper, rtest_fno[k])\n",
    "    width[k, 0] =  jnp.median(lsci_upper - lsci_lower)\n",
    "\n",
    "    ## LSCI \n",
    "    weight_k = linf_weights[k:(k+1)]\n",
    "    \n",
    "    rng, sample_rng, reject_rng = random.split(rng, 3)\n",
    "    lsci_ens = fpca_sampler2(rval_fno, weight_k, n_samp, sample_rng, trunc = 100)\n",
    "    lsci_ens = lsci.depth_reject(rval_fno, lsci_ens, weight_k, n_phi, adj_alpha, reject_rng)\n",
    "    lsci_lower = jnp.min(lsci_ens, axis = 0)\n",
    "    lsci_upper = jnp.max(lsci_ens, axis = 0)\n",
    "    \n",
    "    cover[k, 1] = risk(lsci_lower, lsci_upper, rtest_fno[k])\n",
    "    width[k, 1] =  jnp.median(lsci_upper - lsci_lower)\n",
    "\n",
    "    ## LSCI \n",
    "    weight_k = l2_weights[k:(k+1)]\n",
    "    rng, sample_rng, reject_rng = random.split(rng, 3)\n",
    "    lsci_ens = fpca_sampler2(rval_fno, weight_k, n_samp, sample_rng, trunc = 100)\n",
    "    lsci_ens = lsci.depth_reject(rval_fno, lsci_ens, weight_k, 5*n_phi, adj_alpha, reject_rng)\n",
    "    lsci_lower = jnp.min(lsci_ens, axis = 0)\n",
    "    lsci_upper = jnp.max(lsci_ens, axis = 0)\n",
    "    \n",
    "    cover[k, 2] = risk(lsci_lower, lsci_upper, rtest_fno[k])\n",
    "    width[k, 2] =  jnp.median(lsci_upper - lsci_lower)\n",
    "\n",
    "    ## LSCI \n",
    "    weight_k = linf_weights[k:(k+1)]\n",
    "    \n",
    "    rng, sample_rng, reject_rng = random.split(rng, 3)\n",
    "    lsci_ens = fpca_sampler2(rval_fno, weight_k, n_samp, sample_rng, trunc = 100)\n",
    "    lsci_ens = lsci.depth_reject(rval_fno, lsci_ens, weight_k, 5*n_phi, adj_alpha, reject_rng)\n",
    "    lsci_lower = jnp.min(lsci_ens, axis = 0)\n",
    "    lsci_upper = jnp.max(lsci_ens, axis = 0)\n",
    "    \n",
    "    cover[k, 3] = risk(lsci_lower, lsci_upper, rtest_fno[k])\n",
    "    width[k, 3] =  jnp.median(lsci_upper - lsci_lower)\n",
    "    \n",
    "    # CONF \n",
    "    cover[k, 4] = risk(conf_lower, conf_upper, rtest_fno[k])\n",
    "    width[k, 4] = jnp.median(conf_upper - conf_lower)\n",
    "    \n",
    "    # GAUSS \n",
    "    cover[k, 5] = risk(gaus_lower, gaus_upper, rtest_fno[k])\n",
    "    width[k, 5] = jnp.median(gaus_upper - gaus_lower)\n",
    "    \n",
    "    # SUPR\n",
    "    cover[k, 6] = risk(supr_lower, supr_upper, rtest_fno[k])\n",
    "    width[k, 6] = jnp.median(supr_upper - supr_lower)\n",
    "    \n",
    "    # UQNO\n",
    "    cover[k, 7] = risk(uqn1_lower[k], uqn1_upper[k], rtest_fno[k])\n",
    "    width[k, 7] = jnp.median(uqn1_upper[k] - uqn1_lower[k])\n",
    "    \n",
    "    # PDON\n",
    "    cover[k, 8] = risk(pdon_lower[k], pdon_upper[k], rtest_mu[k])\n",
    "    width[k, 8] = jnp.mean(pdon_upper[k] - pdon_lower[k])\n",
    "    \n",
    "    # QDON\n",
    "    cover[k, 9] = risk(qdon_lower[k], qdon_upper[k], rtest_fno2[k])\n",
    "    width[k, 9] = jnp.mean(qdon_upper[k] - qdon_lower[k])"
   ]
  },
  {
   "cell_type": "code",
   "execution_count": 36,
   "id": "e9b97990-729b-4539-a3a0-ba202850d1d9",
   "metadata": {},
   "outputs": [],
   "source": [
    "# metrics\n",
    "sigma = jnp.sqrt(jnp.mean(rtest_fno**2, axis =1))\n",
    "# sigma = sd[1:,0]\n",
    "\n",
    "cover_mean = np.round(np.mean(cover >= 0.999, axis = 0), 3)\n",
    "width_mean = np.round(np.mean(width, axis = 0), 3)\n",
    "\n",
    "## correlations\n",
    "cover_dcor = np.zeros(nmod)\n",
    "width_dcor = np.zeros(nmod)\n",
    "for i in range(nmod):\n",
    "    cover_dcor[i] = dcorr(cover[:,i], sigma)\n",
    "    width_dcor[i] = dcorr(width[:,i], sigma)\n",
    "\n",
    "metrics_mean = np.vstack([\n",
    "    cover_mean,\n",
    "    cover_dcor,\n",
    "    width_mean,\n",
    "    width_dcor\n",
    "]).T"
   ]
  },
  {
   "cell_type": "code",
   "execution_count": 37,
   "id": "116f6463-9ac3-4992-839b-7237e67ad5b1",
   "metadata": {},
   "outputs": [
    {
     "data": {
      "image/png": "[encoded data removed]",
      "text/plain": [
       "<Figure size 1000x400 with 2 Axes>"
      ]
     },
     "metadata": {},
     "output_type": "display_data"
    }
   ],
   "source": [
    "## LSCI \n",
    "k = 120\n",
    "weight_k = l2_weights[k:(k+1)]\n",
    "rng, sample_rng, reject_rng = random.split(rng, 3)\n",
    "lsci_ens = lsci.fpca_sampler(rval_fno, weight_k, n_samp, sample_rng)\n",
    "lsci_ens = lsci.depth_reject(rval_fno, lsci_ens, weight_k, 2 * n_phi, adj_alpha, reject_rng)\n",
    "lsci_lower = jnp.min(lsci_ens, axis = 0)\n",
    "lsci_upper = jnp.max(lsci_ens, axis = 0)\n",
    "\n",
    "fig, ax = plt.subplots(1, 2, constrained_layout = True, figsize = (10, 4))\n",
    "\n",
    "ax[0].plot(rtest_fno[k])\n",
    "ax[0].plot(lsci_lower*0.9)\n",
    "ax[0].plot(lsci_upper*0.9)\n",
    "\n",
    "ax[1].plot(rtest_fno2[k])\n",
    "ax[1].plot(qdon_lower[k])\n",
    "ax[1].plot(qdon_upper[k])\n",
    "plt.show()"
   ]
  },
  {
   "cell_type": "code",
   "execution_count": 38,
   "id": "e6b2b9d8-0051-459e-9036-6b706b04e306",
   "metadata": {},
   "outputs": [
    {
     "name": "stdout",
     "output_type": "stream",
     "text": [
      "[[ 1.     0.     7.589  0.   ]\n",
      " [ 1.     0.     7.543  0.   ]\n",
      " [ 1.     0.     8.144  0.   ]\n",
      " [ 1.     0.    10.3    0.017]\n",
      " [ 0.981  0.     6.32   0.005]\n",
      " [ 0.733  0.151  3.234  0.08 ]]\n"
     ]
    }
   ],
   "source": [
    "np.set_printoptions(suppress=True)\n",
    "print(np.round(np.nan_to_num(metrics_mean[4:], 0), 3))"
   ]
  },
  {
   "cell_type": "code",
   "execution_count": 39,
   "id": "91dbd0c4-e682-405a-b06a-a956176a166c",
   "metadata": {},
   "outputs": [
    {
     "name": "stdout",
     "output_type": "stream",
     "text": [
      "[[0.95  0.023 5.443 0.008]\n",
      " [0.98  0.009 5.658 0.004]\n",
      " [0.945 0.023 5.387 0.008]\n",
      " [0.979 0.011 5.654 0.003]]\n"
     ]
    }
   ],
   "source": [
    "print(np.round(np.nan_to_num(metrics_mean[0:4], 0), 3))"
   ]
  },
  {
   "cell_type": "code",
   "execution_count": null,
   "id": "5fe174a2-2385-45ff-a637-243d3048d6c3",
   "metadata": {},
   "outputs": [],
   "source": []
  },
  {
   "cell_type": "code",
   "execution_count": null,
   "id": "a3399f45-0015-41d4-8042-d88825aeeff2",
   "metadata": {},
   "outputs": [],
   "source": []
  },
  {
   "cell_type": "code",
   "execution_count": null,
   "id": "c20ba620-5df8-4ce0-aa35-58e91f8df88e",
   "metadata": {},
   "outputs": [],
   "source": []
  },
  {
   "cell_type": "code",
   "execution_count": null,
   "id": "8e58d9fd-92a3-43b4-a8da-f464416763a1",
   "metadata": {},
   "outputs": [],
   "source": []
  },
  {
   "cell_type": "code",
   "execution_count": null,
   "id": "561a982a-bd28-4359-9e5b-ae15d5c8aba6",
   "metadata": {},
   "outputs": [],
   "source": []
  },
  {
   "cell_type": "code",
   "execution_count": 40,
   "id": "45ec6f99-38d1-467f-8ab2-e4a10b5b49cb",
   "metadata": {},
   "outputs": [
    {
     "ename": "NameError",
     "evalue": "name 'knn_weights' is not defined",
     "output_type": "error",
     "traceback": [
      "\u001b[0;31m---------------------------------------------------------------------------\u001b[0m",
      "\u001b[0;31mNameError\u001b[0m                                 Traceback (most recent call last)",
      "Cell \u001b[0;32mIn[40], line 3\u001b[0m\n\u001b[1;32m      1\u001b[0m \u001b[38;5;66;03m## LSCI\u001b[39;00m\n\u001b[1;32m      2\u001b[0m k \u001b[38;5;241m=\u001b[39m \u001b[38;5;241m6\u001b[39m\n\u001b[0;32m----> 3\u001b[0m weight_k \u001b[38;5;241m=\u001b[39m \u001b[43mknn_weights\u001b[49m[k:(k\u001b[38;5;241m+\u001b[39m\u001b[38;5;241m1\u001b[39m)]\n\u001b[1;32m      4\u001b[0m rng, sample_rng, reject_rng \u001b[38;5;241m=\u001b[39m random\u001b[38;5;241m.\u001b[39msplit(rng, \u001b[38;5;241m3\u001b[39m)\n\u001b[1;32m      5\u001b[0m lsci_ens \u001b[38;5;241m=\u001b[39m lsci\u001b[38;5;241m.\u001b[39mfpca_sampler(rval_fno, weight_k, n_samp, sample_rng)\n",
      "\u001b[0;31mNameError\u001b[0m: name 'knn_weights' is not defined"
     ]
    }
   ],
   "source": [
    "## LSCI\n",
    "k = 6\n",
    "weight_k = knn_weights[k:(k+1)]\n",
    "rng, sample_rng, reject_rng = random.split(rng, 3)\n",
    "lsci_ens = lsci.fpca_sampler(rval_fno, weight_k, n_samp, sample_rng)\n",
    "lsci_ens = lsci.depth_reject(rval_fno, lsci_ens, weight_k, n_phi, adj_alpha, reject_rng)\n",
    "lsci_lower = jnp.min(lsci_ens, axis = 0)\n",
    "lsci_upper = jnp.max(lsci_ens, axis = 0)"
   ]
  },
  {
   "cell_type": "code",
   "execution_count": 41,
   "id": "9e1fd71a-d06c-49ca-b6ed-5eab7024551d",
   "metadata": {},
   "outputs": [
    {
     "data": {
      "text/plain": [
       "<matplotlib.colorbar.Colorbar at 0x7adcf07f80e0>"
      ]
     },
     "execution_count": 41,
     "metadata": {},
     "output_type": "execute_result"
    },
    {
     "data": {
      "image/png": "[encoded data removed]",
      "text/plain": [
       "<Figure size 640x480 with 2 Axes>"
      ]
     },
     "metadata": {},
     "output_type": "display_data"
    }
   ],
   "source": [
    "plt.imshow(lsci_upper.reshape(nlat, nlon))\n",
    "plt.colorbar()"
   ]
  },
  {
   "cell_type": "code",
   "execution_count": 55,
   "id": "40f8ef9e-eb0e-4310-abbb-d2454d40f715",
   "metadata": {},
   "outputs": [
    {
     "data": {
      "text/plain": [
       "<matplotlib.colorbar.Colorbar at 0x7f94bd6be150>"
      ]
     },
     "execution_count": 55,
     "metadata": {},
     "output_type": "execute_result"
    },
    {
     "data": {
      "image/png": "[encoded data removed]",
      "text/plain": [
       "<Figure size 640x480 with 2 Axes>"
      ]
     },
     "metadata": {},
     "output_type": "display_data"
    }
   ],
   "source": [
    "plt.imshow(lsci_lower.reshape(nlat, nlon))\n",
    "plt.colorbar()"
   ]
  },
  {
   "cell_type": "code",
   "execution_count": null,
   "id": "ab7392ba-b3aa-4a88-8087-be72366ad0ba",
   "metadata": {},
   "outputs": [],
   "source": []
  },
  {
   "cell_type": "code",
   "execution_count": null,
   "id": "77ff46ce-5a0c-4086-8743-d20c65ea7966",
   "metadata": {},
   "outputs": [],
   "source": []
  },
  {
   "cell_type": "code",
   "execution_count": null,
   "id": "b411dde1-5d79-47dd-96e6-1a50a2cc7c68",
   "metadata": {},
   "outputs": [],
   "source": []
  },
  {
   "cell_type": "code",
   "execution_count": 349,
   "id": "27bdedc4-a07c-4566-a510-4647c5ac6fa3",
   "metadata": {},
   "outputs": [],
   "source": [
    "def phi_resample2(xval, xtest, rval_fno, n_samp, n_slice, rng,\n",
    "                 alpha, depth_fn, local_fn, lam):\n",
    "    n = rval_fno.shape[0]\n",
    "    npc = rval_fno.shape[1]//2\n",
    "    key1, key2, key3 = random.split(rng, 3)\n",
    "\n",
    "    # renormalize\n",
    "    xval = xval / jnp.sqrt(jnp.mean(xval**2, axis = 0))\n",
    "    xtest = xtest / jnp.sqrt(jnp.mean(xtest**2, axis = 0))\n",
    "    local_weights = lweights(xval.squeeze(), xtest.squeeze()[None,], 0.1)[0]\n",
    "\n",
    "    # generate\n",
    "    pca_state = pcax.fit(rval_fno, npc)\n",
    "    rval_fpc = pcax.transform(pca_state, rval_fno)\n",
    "    # print(rval_fpc.shape)\n",
    "\n",
    "    unif = random.uniform(key1, (n_samp, npc))\n",
    "    quants = jnp.linspace(jnp.min(rval_fpc) - 0.1, jnp.max(rval_fpc) + 0.1, n+1)\n",
    "\n",
    "    samp_cdfs = lsci.lcdf(rval_fpc, quants, local_weights / jnp.sum(local_weights))\n",
    "    # print(samp_cdfs.shape)\n",
    "    samp_quants = jnp.argmax(samp_cdfs[:,:,None] > unif.T[None,:,:], axis = 0)\n",
    "    samp_phi = quants[samp_quants].T\n",
    "\n",
    "    # print(samp_phi.shape)\n",
    "    samp_phi = pcax.recover(pca_state, samp_phi)\n",
    "\n",
    "    # check inclusion\n",
    "    phi = phi_slice(key2, nlat*nlon, n_slice)\n",
    "    qval, local_weights = phi_quantile(rval_fno @ phi, xval, xtest, alpha, depth_fn, local_fn, lam, rng = key3)\n",
    "    dphi = vphi_depth(samp_phi @ phi, rval_fno @ phi, local_weights, depth_fn)\n",
    "    \n",
    "    return samp_phi, dphi, qval"
   ]
  },
  {
   "cell_type": "code",
   "execution_count": 306,
   "id": "807db841-b176-43a5-ae6e-8ed555fbb449",
   "metadata": {},
   "outputs": [
    {
     "data": {
      "text/plain": [
       "(1824, 2048)"
      ]
     },
     "execution_count": 306,
     "metadata": {},
     "output_type": "execute_result"
    }
   ],
   "source": [
    "rval_fno.reshape(-1, nlat*nlon).shape"
   ]
  },
  {
   "cell_type": "code",
   "execution_count": 321,
   "id": "eec3bc60-6dcd-4b71-b267-ffdfe7de1361",
   "metadata": {},
   "outputs": [],
   "source": [
    "## LSCI 1\n",
    "k = 200\n",
    "dphi_max = 0\n",
    "while dphi_max == 0:\n",
    "    rng, key1, key2 = random.split(rng, 3)\n",
    "    local_ens, dphi, qval = phi_resample2(xval.reshape(-1, 1, nlat*nlon), \n",
    "                                         xtest[k].reshape(1, nlat*nlon),\n",
    "                                         rval_fno.reshape(-1, nlat*nlon), \n",
    "                                         nsamp, nslice, key1,\n",
    "                                         alpha, 'tukey', 'dexp', 5)\n",
    "    dphi_max = jnp.sum(dphi > qval)"
   ]
  },
  {
   "cell_type": "code",
   "execution_count": 327,
   "id": "13f1e176-41cc-4301-9875-bf2759e15690",
   "metadata": {},
   "outputs": [
    {
     "data": {
      "image/png": "[encoded data removed]",
      "text/plain": [
       "<Figure size 640x480 with 1 Axes>"
      ]
     },
     "metadata": {},
     "output_type": "display_data"
    }
   ],
   "source": [
    "uval = jnp.quantile(local_ens, 0.95, axis = 0)\n",
    "lval = jnp.quantile(local_ens, 0.05, axis = 0)\n",
    "\n",
    "plt.plot(uval)\n",
    "plt.plot(lval)\n",
    "plt.plot(rtest_fno[k])\n",
    "plt.show()"
   ]
  },
  {
   "cell_type": "code",
   "execution_count": null,
   "id": "3dc268de-7910-4639-8b87-f526a156d952",
   "metadata": {},
   "outputs": [],
   "source": []
  },
  {
   "cell_type": "code",
   "execution_count": 259,
   "id": "5586c17c-e155-4ae2-941a-f7ec0976a391",
   "metadata": {},
   "outputs": [
    {
     "data": {
      "image/png": "[encoded data removed]",
      "text/plain": [
       "<Figure size 640x480 with 2 Axes>"
      ]
     },
     "metadata": {},
     "output_type": "display_data"
    }
   ],
   "source": [
    "plt.imshow(jnp.abs(uval-lval).reshape(nlat, nlon))\n",
    "plt.colorbar()\n",
    "plt.show()"
   ]
  },
  {
   "cell_type": "code",
   "execution_count": 206,
   "id": "8c4d12be-572e-4ba8-ad5c-b6a34d9ae4f6",
   "metadata": {},
   "outputs": [
    {
     "data": {
      "image/png": "[encoded data removed]",
      "text/plain": [
       "<Figure size 640x480 with 2 Axes>"
      ]
     },
     "metadata": {},
     "output_type": "display_data"
    }
   ],
   "source": [
    "plt.imshow(jnp.abs(pdon_upper[k] - pdon_lower[k]).reshape(nlat, nlon))\n",
    "plt.colorbar()\n",
    "plt.show()"
   ]
  },
  {
   "cell_type": "code",
   "execution_count": 353,
   "id": "7299bb9f-919d-4bc5-ace5-62d6b03b2d91",
   "metadata": {},
   "outputs": [],
   "source": [
    "cover = cover[0:1138]\n",
    "width = width[0:1138]"
   ]
  },
  {
   "cell_type": "code",
   "execution_count": 355,
   "id": "820b7be8-7ed0-457e-b248-6f9cb65947f9",
   "metadata": {},
   "outputs": [
    {
     "name": "stderr",
     "output_type": "stream",
     "text": [
      "/home/tharris/climate/lib/python3.12/site-packages/numpy/lib/_function_base_impl.py:3045: RuntimeWarning: invalid value encountered in divide\n",
      "  c /= stddev[:, None]\n",
      "/home/tharris/climate/lib/python3.12/site-packages/numpy/lib/_function_base_impl.py:3046: RuntimeWarning: invalid value encountered in divide\n",
      "  c /= stddev[None, :]\n"
     ]
    }
   ],
   "source": [
    "# metrics\n",
    "# sigma = sd[1:\n",
    "sigma = jnp.mean(rtest_fno[0:1138]**2, axis = 1)\n",
    "cover_mean = np.round(np.mean(cover > 0.99, axis = 0), 3)\n",
    "width_mean = np.round(np.mean(width, axis = 0), 3)\n",
    "\n",
    "## correlations\n",
    "cover_corr_mean = np.zeros(nmod)\n",
    "cover_corr_std = np.zeros(nmod)\n",
    "width_corr_mean = np.zeros(nmod)\n",
    "width_corr_std = np.zeros(nmod)\n",
    "for i in range(nmod):\n",
    "    corr = np.corrcoef(np.vstack([cover[:,i] > 0.99, sigma]))[0,1]\n",
    "    cover_corr_mean[i] = np.mean(corr)\n",
    "#     cover_corr_std[i] = 2*np.std(corr)\n",
    "    \n",
    "    corr = np.corrcoef(np.vstack([width[:,i], sigma]))[0,1]\n",
    "    width_corr_mean[i] = np.mean(corr)\n",
    "    width_corr_std[i] = 2*np.std(corr)\n",
    "\n",
    "metrics_mean = np.vstack([\n",
    "    cover_mean,\n",
    "    cover_corr_mean,\n",
    "    width_mean,\n",
    "    width_corr_mean\n",
    "]).T"
   ]
  },
  {
   "cell_type": "code",
   "execution_count": 356,
   "id": "909966ac-d1dc-476b-8145-8aa4c6985b43",
   "metadata": {},
   "outputs": [
    {
     "name": "stdout",
     "output_type": "stream",
     "text": [
      "0.982 & -0.003 & 3.928 & 0.177 \\\\\n",
      "0.962 & 0.005 & 3.806 & 0.140 \\\\\n",
      "1.000 & -- & 8.213 & -- \\\\\n",
      "1.000 & -- & 8.096 & -- \\\\\n",
      "1.000 & -- & 8.584 & -- \\\\\n",
      "1.000 & -- & 12.410 & 0.147 \\\\\n",
      "1.000 & -- & 5.790 & -0.365 \\\\\n",
      "0.373 & -0.413 & 4.503 & 0.015 \\\\\n"
     ]
    }
   ],
   "source": [
    "for i in range(nmod):\n",
    "    for j in range(4):\n",
    "        spacer = '& ' if j < 3 else '\\\\\\\\'\n",
    "        endline = '' if j < 3 else '\\n'\n",
    "        \n",
    "        result = metrics_mean[i, j]\n",
    "        met = f'{result:.3f}' if not np.isnan(result) else '--'\n",
    "        print(met, spacer, end=endline)"
   ]
  },
  {
   "cell_type": "code",
   "execution_count": null,
   "id": "9bb6ea9f-12d3-48c4-b86a-c0ab1bd44d87",
   "metadata": {},
   "outputs": [],
   "source": []
  },
  {
   "cell_type": "code",
   "execution_count": null,
   "id": "e0448bb5-f9d7-4c6d-88fd-ad445d34be2e",
   "metadata": {},
   "outputs": [],
   "source": []
  }
 ],
 "metadata": {
  "kernelspec": {
   "display_name": "Python 3 (ipykernel)",
   "language": "python",
   "name": "python3"
  },
  "language_info": {
   "codemirror_mode": {
    "name": "ipython",
    "version": 3
   },
   "file_extension": ".py",
   "mimetype": "text/x-python",
   "name": "python",
   "nbconvert_exporter": "python",
   "pygments_lexer": "ipython3",
   "version": "3.12.3"
  }
 },
 "nbformat": 4,
 "nbformat_minor": 5
}
