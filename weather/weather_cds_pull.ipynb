{
 "cells": [
  {
   "cell_type": "code",
   "execution_count": 8,
   "id": "5d33b7fa-3ff9-4d2a-9549-dda30f8e2998",
   "metadata": {},
   "outputs": [],
   "source": [
    "import numpy as np\n",
    "import matplotlib\n",
    "import matplotlib.pyplot as plt\n",
    "\n",
    "import netCDF4"
   ]
  },
  {
   "cell_type": "code",
   "execution_count": 5,
   "id": "564878f9-b3c4-4328-b43a-6a57bb2ba58a",
   "metadata": {},
   "outputs": [
    {
     "name": "stderr",
     "output_type": "stream",
     "text": [
      "2025-05-05 09:25:16,772 INFO [2024-09-26T00:00:00] Watch our [Forum](https://forum.ecmwf.int/) for Announcements, news and other discussed topics.\n",
      "2025-05-05 09:25:16,773 WARNING [2024-06-16T00:00:00] CDS API syntax is changed and some keys or parameter names may have also changed. To avoid requests failing, please use the \"Show API request code\" tool on the dataset Download Form to check you are using the correct syntax for your API request.\n",
      "2025-05-05 09:25:17,405 INFO Request ID is 57bc5982-09fe-4e8c-abad-b46f07d04149\n",
      "2025-05-05 09:25:17,553 INFO status has been updated to accepted\n",
      "2025-05-05 09:26:08,280 INFO status has been updated to running\n",
      "2025-05-05 09:27:13,357 WARNING Structural differences in grib fields detected when opening in xarray. Opening the grib file safely, however this may result in files with non-intuitive filenames.\n",
      "2025-05-05 09:29:38,324 INFO status has been updated to successful\n"
     ]
    },
    {
     "data": {
      "application/vnd.jupyter.widget-view+json": {
       "model_id": "8b3c3d39d4154e7cb95b1e149565d8a9",
       "version_major": 2,
       "version_minor": 0
      },
      "text/plain": [
       "1655e99a66aa15b7dec46b252cd86b25.nc:   0%|          | 0.00/1.30G [00:00<?, ?B/s]"
      ]
     },
     "metadata": {},
     "output_type": "display_data"
    },
    {
     "data": {
      "text/plain": [
       "'1655e99a66aa15b7dec46b252cd86b25.nc'"
      ]
     },
     "execution_count": 5,
     "metadata": {},
     "output_type": "execute_result"
    }
   ],
   "source": [
    "import cdsapi\n",
    "\n",
    "dataset = \"reanalysis-era5-single-levels-monthly-means\"\n",
    "request = {\n",
    "    \"product_type\": [\"monthly_averaged_reanalysis\"],\n",
    "    \"variable\": [\"2m_temperature\"],\n",
    "    \"year\": [\n",
    "        \"1940\", \"1941\", \"1942\",\n",
    "        \"1943\", \"1944\", \"1945\",\n",
    "        \"1946\", \"1947\", \"1948\",\n",
    "        \"1949\", \"1950\", \"1951\",\n",
    "        \"1952\", \"1953\", \"1954\",\n",
    "        \"1955\", \"1956\", \"1957\",\n",
    "        \"1958\", \"1959\", \"1960\",\n",
    "        \"1961\", \"1962\", \"1963\",\n",
    "        \"1964\", \"1965\", \"1966\",\n",
    "        \"1967\", \"1968\", \"1969\",\n",
    "        \"1970\", \"1971\", \"1972\",\n",
    "        \"1973\", \"1974\", \"1975\",\n",
    "        \"1976\", \"1977\", \"1978\",\n",
    "        \"1979\", \"1980\", \"1981\",\n",
    "        \"1982\", \"1983\", \"1984\",\n",
    "        \"1985\", \"1986\", \"1987\",\n",
    "        \"1988\", \"1989\", \"1990\",\n",
    "        \"1991\", \"1992\", \"1993\",\n",
    "        \"1994\", \"1995\", \"1996\",\n",
    "        \"1997\", \"1998\", \"1999\",\n",
    "        \"2000\", \"2001\", \"2002\",\n",
    "        \"2003\", \"2004\", \"2005\",\n",
    "        \"2006\", \"2007\", \"2008\",\n",
    "        \"2009\", \"2010\", \"2011\",\n",
    "        \"2012\", \"2013\", \"2014\",\n",
    "        \"2015\", \"2016\", \"2017\",\n",
    "        \"2018\", \"2019\", \"2020\",\n",
    "        \"2021\", \"2022\", \"2023\",\n",
    "        \"2024\", \"2025\"\n",
    "    ],\n",
    "    \"month\": [\n",
    "        \"01\", \"02\", \"03\",\n",
    "        \"04\", \"05\", \"06\",\n",
    "        \"07\", \"08\", \"09\",\n",
    "        \"10\", \"11\", \"12\"\n",
    "    ],\n",
    "    \"time\": [\"00:00\"],\n",
    "    \"data_format\": \"netcdf\",\n",
    "    \"download_format\": \"unarchived\"\n",
    "}\n",
    "\n",
    "client = cdsapi.Client()\n",
    "client.retrieve(dataset, request).download()"
   ]
  },
  {
   "cell_type": "code",
   "execution_count": 9,
   "id": "be49c540-d492-4224-992d-1c05a7ae32bb",
   "metadata": {},
   "outputs": [
    {
     "name": "stdout",
     "output_type": "stream",
     "text": [
      "<class 'netCDF4.Dataset'>\n",
      "root group (NETCDF4 data model, file format HDF5):\n",
      "    GRIB_centre: ecmf\n",
      "    GRIB_centreDescription: European Centre for Medium-Range Weather Forecasts\n",
      "    GRIB_subCentre: 0\n",
      "    Conventions: CF-1.7\n",
      "    institution: European Centre for Medium-Range Weather Forecasts\n",
      "    dimensions(sizes): valid_time(1023), latitude(721), longitude(1440)\n",
      "    variables(dimensions): int64 number(), int64 valid_time(valid_time), float64 latitude(latitude), float64 longitude(longitude), <class 'str'> expver(valid_time), float32 t2m(valid_time, latitude, longitude)\n",
      "    groups: \n"
     ]
    }
   ],
   "source": [
    "era5_fp = '1655e99a66aa15b7dec46b252cd86b25.nc'\n",
    "era5 = netCDF4.Dataset(era5_fp)\n",
    "print(era5) "
   ]
  },
  {
   "cell_type": "code",
   "execution_count": 12,
   "id": "b744f507-2c58-4b47-b287-1aba9bb788fc",
   "metadata": {},
   "outputs": [],
   "source": [
    "ntest = 20\n",
    "data_test = era5['t2m'][-ntest:,-1]\n",
    "time_test = era5['valid_time'][-ntest:]"
   ]
  },
  {
   "cell_type": "code",
   "execution_count": 14,
   "id": "51fd9d23-8adb-454b-b60f-b909f68f5f8c",
   "metadata": {},
   "outputs": [
    {
     "data": {
      "text/plain": [
       "masked_array(data=[1690848000, 1693526400, 1696118400, 1698796800,\n",
       "                   1701388800, 1704067200, 1706745600, 1709251200,\n",
       "                   1711929600, 1714521600, 1717200000, 1719792000,\n",
       "                   1722470400, 1725148800, 1727740800, 1730419200,\n",
       "                   1733011200, 1735689600, 1738368000, 1740787200],\n",
       "             mask=False,\n",
       "       fill_value=999999)"
      ]
     },
     "execution_count": 14,
     "metadata": {},
     "output_type": "execute_result"
    }
   ],
   "source": [
    "time_test"
   ]
  },
  {
   "cell_type": "code",
   "execution_count": null,
   "id": "5772b5d0-4c0a-454e-b5d4-b569c67200ac",
   "metadata": {},
   "outputs": [],
   "source": []
  }
 ],
 "metadata": {
  "kernelspec": {
   "display_name": "Python 3 (ipykernel)",
   "language": "python",
   "name": "python3"
  },
  "language_info": {
   "codemirror_mode": {
    "name": "ipython",
    "version": 3
   },
   "file_extension": ".py",
   "mimetype": "text/x-python",
   "name": "python",
   "nbconvert_exporter": "python",
   "pygments_lexer": "ipython3",
   "version": "3.12.3"
  }
 },
 "nbformat": 4,
 "nbformat_minor": 5
}
